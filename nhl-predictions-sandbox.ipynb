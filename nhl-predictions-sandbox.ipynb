{
 "cells": [
  {
   "cell_type": "markdown",
   "id": "bbd39c0a",
   "metadata": {},
   "source": [
    "# Predicting NHL Game Outcomes"
   ]
  },
  {
   "cell_type": "markdown",
   "id": "b86afdba",
   "metadata": {},
   "source": [
    "## Modeling Notebook"
   ]
  },
  {
   "cell_type": "code",
   "execution_count": 175,
   "id": "b088915d",
   "metadata": {},
   "outputs": [],
   "source": [
    "# Standard Packages\n",
    "import pandas as pd\n",
    "# from pandas.testing import assert_frame_equal\n",
    "import numpy as np\n",
    "import requests\n",
    "import re\n",
    "import time\n",
    "import os\n",
    "import warnings\n",
    "\n",
    "# Viz Packages\n",
    "import seaborn as sns\n",
    "import matplotlib.pyplot as plt\n",
    "%matplotlib inline \n",
    "\n",
    "# Modeling Packages\n",
    "## Modeling Prep\n",
    "from sklearn.model_selection import train_test_split, cross_val_score, cross_validate, KFold, \\\n",
    "GridSearchCV, RandomizedSearchCV\n",
    "\n",
    "## SKLearn Data Prep Modules\n",
    "from sklearn.preprocessing import StandardScaler, OneHotEncoder, LabelEncoder, \\\n",
    "PolynomialFeatures, PowerTransformer, Normalizer, MaxAbsScaler\n",
    "\n",
    "from sklearn.impute import SimpleImputer\n",
    "\n",
    "## SKLearn Classification Models\n",
    "from sklearn.linear_model import LogisticRegression, Ridge, Lasso, ElasticNet\n",
    "from sklearn.neighbors import KNeighborsClassifier\n",
    "from sklearn.tree import DecisionTreeClassifier, export_graphviz\n",
    "from sklearn.ensemble import BaggingClassifier, RandomForestClassifier,\\\n",
    "ExtraTreesClassifier, VotingClassifier, StackingRegressor, GradientBoostingClassifier, AdaBoostClassifier\n",
    "from sklearn import svm\n",
    "\n",
    "## SKLearn Pipeline Setup\n",
    "from sklearn.pipeline import Pipeline\n",
    "from sklearn.compose import ColumnTransformer\n",
    "\n",
    "## SKLearn Model Optimization\n",
    "from sklearn.feature_selection import RFE, f_regression, RFECV\n",
    "\n",
    "## SKLearn Metrics\n",
    "### Classification Scoring/Evaluation\n",
    "from sklearn.metrics import classification_report, accuracy_score, recall_score, precision_score, f1_score, \\\n",
    "ConfusionMatrixDisplay, log_loss, confusion_matrix, RocCurveDisplay, make_scorer, roc_auc_score\n",
    "\n",
    "## TensorFlow\n",
    "#for the Neural Network\n",
    "from tensorflow.keras.models import Sequential\n",
    "from tensorflow.keras.layers import Dense, Dropout\n",
    "from tensorflow.keras.regularizers import l2\n",
    "from tensorflow.keras.optimizers import SGD\n",
    "from tensorflow.keras.wrappers import scikit_learn\n",
    "from tensorflow.keras.callbacks import EarlyStopping\n",
    "from keras.constraints import maxnorm"
   ]
  },
  {
   "cell_type": "code",
   "execution_count": 107,
   "id": "3453bb69",
   "metadata": {},
   "outputs": [
    {
     "data": {
      "application/vnd.jupyter.widget-view+json": {
       "model_id": "7997b88a41a341d3bbd69ce685549b5b",
       "version_major": 2,
       "version_minor": 0
      },
      "text/plain": [
       "0it [00:00, ?it/s]"
      ]
     },
     "metadata": {},
     "output_type": "display_data"
    }
   ],
   "source": [
    "# Notebook Config\n",
    "from pprintpp import pprint as pp\n",
    "%reload_ext pprintpp\n",
    "from io import StringIO\n",
    "\n",
    "## Suppress Python Warnings (Future, Deprecation)\n",
    "warnings.filterwarnings(\"ignore\", category= FutureWarning)\n",
    "warnings.filterwarnings(\"ignore\", category=DeprecationWarning)\n",
    "\n",
    "## Suppress Pandas Warnings (SettingWithCopy)\n",
    "pd.options.mode.chained_assignment = None\n",
    "\n",
    "## Pandas Display Config\n",
    "pd.options.display.max_columns = 80\n",
    "# pd.options.display.width = None\n",
    "\n",
    "## Display SKLearn estimators as diagrams\n",
    "from sklearn import set_config\n",
    "set_config(display= 'diagram')"
   ]
  },
  {
   "cell_type": "markdown",
   "id": "e853a875",
   "metadata": {},
   "source": [
    "##  Load Processed CSV"
   ]
  },
  {
   "cell_type": "code",
   "execution_count": 108,
   "id": "dc4d00d1",
   "metadata": {
    "scrolled": true
   },
   "outputs": [
    {
     "data": {
      "text/html": [
       "<div>\n",
       "<style scoped>\n",
       "    .dataframe tbody tr th:only-of-type {\n",
       "        vertical-align: middle;\n",
       "    }\n",
       "\n",
       "    .dataframe tbody tr th {\n",
       "        vertical-align: top;\n",
       "    }\n",
       "\n",
       "    .dataframe thead th {\n",
       "        text-align: right;\n",
       "    }\n",
       "</style>\n",
       "<table border=\"1\" class=\"dataframe\">\n",
       "  <thead>\n",
       "    <tr style=\"text-align: right;\">\n",
       "      <th></th>\n",
       "      <th>season_id</th>\n",
       "      <th>date</th>\n",
       "      <th>Home_team</th>\n",
       "      <th>Away_team</th>\n",
       "      <th>Home_Team_Won</th>\n",
       "      <th>home_rolling_avg_FF%</th>\n",
       "      <th>home_rolling_avg_GF%</th>\n",
       "      <th>home_rolling_avg_xGF%</th>\n",
       "      <th>home_rolling_avg_HDCF%</th>\n",
       "      <th>home_rolling_avg_HDSH%</th>\n",
       "      <th>home_rolling_avg_HDSV%</th>\n",
       "      <th>home_rolling_avg_SH%</th>\n",
       "      <th>home_rolling_avg_SV%</th>\n",
       "      <th>home_rolling_avg_GF/60_pp</th>\n",
       "      <th>home_rolling_avg_xGF/60_pp</th>\n",
       "      <th>home_rolling_avg_GA/60_pk</th>\n",
       "      <th>home_rolling_avg_xGA/60_pk</th>\n",
       "      <th>away_rolling_avg_FF%</th>\n",
       "      <th>away_rolling_avg_GF%</th>\n",
       "      <th>away_rolling_avg_xGF%</th>\n",
       "      <th>away_rolling_avg_HDCF%</th>\n",
       "      <th>away_rolling_avg_HDSH%</th>\n",
       "      <th>away_rolling_avg_HDSV%</th>\n",
       "      <th>away_rolling_avg_SH%</th>\n",
       "      <th>away_rolling_avg_SV%</th>\n",
       "      <th>away_rolling_avg_GF/60_pp</th>\n",
       "      <th>away_rolling_avg_xGF/60_pp</th>\n",
       "      <th>away_rolling_avg_GA/60_pk</th>\n",
       "      <th>away_rolling_avg_xGA/60_pk</th>\n",
       "    </tr>\n",
       "  </thead>\n",
       "  <tbody>\n",
       "    <tr>\n",
       "      <th>0</th>\n",
       "      <td>20192020</td>\n",
       "      <td>2019-10-22</td>\n",
       "      <td>CGY</td>\n",
       "      <td>WSH</td>\n",
       "      <td>0</td>\n",
       "      <td>51.530</td>\n",
       "      <td>49.292</td>\n",
       "      <td>52.171</td>\n",
       "      <td>48.052</td>\n",
       "      <td>6.476</td>\n",
       "      <td>85.008</td>\n",
       "      <td>70.570606</td>\n",
       "      <td>916.011515</td>\n",
       "      <td>6.027</td>\n",
       "      <td>4.839</td>\n",
       "      <td>2.492</td>\n",
       "      <td>6.428</td>\n",
       "      <td>54.229</td>\n",
       "      <td>49.310</td>\n",
       "      <td>55.439</td>\n",
       "      <td>52.822</td>\n",
       "      <td>13.942</td>\n",
       "      <td>77.652</td>\n",
       "      <td>97.903437</td>\n",
       "      <td>916.051875</td>\n",
       "      <td>55.926</td>\n",
       "      <td>17.439</td>\n",
       "      <td>5.719</td>\n",
       "      <td>4.657</td>\n",
       "    </tr>\n",
       "    <tr>\n",
       "      <th>1</th>\n",
       "      <td>20192020</td>\n",
       "      <td>2019-10-24</td>\n",
       "      <td>DAL</td>\n",
       "      <td>ANA</td>\n",
       "      <td>1</td>\n",
       "      <td>47.510</td>\n",
       "      <td>44.729</td>\n",
       "      <td>52.979</td>\n",
       "      <td>56.640</td>\n",
       "      <td>23.892</td>\n",
       "      <td>81.519</td>\n",
       "      <td>74.160645</td>\n",
       "      <td>938.801613</td>\n",
       "      <td>5.211</td>\n",
       "      <td>6.131</td>\n",
       "      <td>5.980</td>\n",
       "      <td>4.955</td>\n",
       "      <td>49.075</td>\n",
       "      <td>59.341</td>\n",
       "      <td>50.647</td>\n",
       "      <td>56.223</td>\n",
       "      <td>19.764</td>\n",
       "      <td>92.559</td>\n",
       "      <td>80.736774</td>\n",
       "      <td>912.332581</td>\n",
       "      <td>1.173</td>\n",
       "      <td>4.920</td>\n",
       "      <td>6.614</td>\n",
       "      <td>4.886</td>\n",
       "    </tr>\n",
       "    <tr>\n",
       "      <th>2</th>\n",
       "      <td>20192020</td>\n",
       "      <td>2019-10-24</td>\n",
       "      <td>EDM</td>\n",
       "      <td>WSH</td>\n",
       "      <td>1</td>\n",
       "      <td>48.525</td>\n",
       "      <td>41.521</td>\n",
       "      <td>47.858</td>\n",
       "      <td>44.778</td>\n",
       "      <td>18.509</td>\n",
       "      <td>82.631</td>\n",
       "      <td>77.374545</td>\n",
       "      <td>911.065152</td>\n",
       "      <td>13.210</td>\n",
       "      <td>8.734</td>\n",
       "      <td>4.144</td>\n",
       "      <td>7.600</td>\n",
       "      <td>53.307</td>\n",
       "      <td>51.114</td>\n",
       "      <td>54.277</td>\n",
       "      <td>53.132</td>\n",
       "      <td>16.438</td>\n",
       "      <td>75.486</td>\n",
       "      <td>97.903437</td>\n",
       "      <td>916.051875</td>\n",
       "      <td>54.906</td>\n",
       "      <td>17.127</td>\n",
       "      <td>4.801</td>\n",
       "      <td>4.281</td>\n",
       "    </tr>\n",
       "    <tr>\n",
       "      <th>3</th>\n",
       "      <td>20192020</td>\n",
       "      <td>2019-10-25</td>\n",
       "      <td>TOR</td>\n",
       "      <td>S.J</td>\n",
       "      <td>1</td>\n",
       "      <td>50.669</td>\n",
       "      <td>49.713</td>\n",
       "      <td>46.325</td>\n",
       "      <td>43.564</td>\n",
       "      <td>26.335</td>\n",
       "      <td>77.804</td>\n",
       "      <td>83.725313</td>\n",
       "      <td>919.072188</td>\n",
       "      <td>9.900</td>\n",
       "      <td>6.012</td>\n",
       "      <td>6.126</td>\n",
       "      <td>5.894</td>\n",
       "      <td>47.301</td>\n",
       "      <td>40.113</td>\n",
       "      <td>42.496</td>\n",
       "      <td>41.539</td>\n",
       "      <td>16.089</td>\n",
       "      <td>81.599</td>\n",
       "      <td>82.280000</td>\n",
       "      <td>875.965937</td>\n",
       "      <td>13.254</td>\n",
       "      <td>9.169</td>\n",
       "      <td>3.008</td>\n",
       "      <td>6.854</td>\n",
       "    </tr>\n",
       "    <tr>\n",
       "      <th>4</th>\n",
       "      <td>20192020</td>\n",
       "      <td>2019-10-25</td>\n",
       "      <td>DET</td>\n",
       "      <td>BUF</td>\n",
       "      <td>0</td>\n",
       "      <td>48.081</td>\n",
       "      <td>35.525</td>\n",
       "      <td>49.142</td>\n",
       "      <td>50.718</td>\n",
       "      <td>19.480</td>\n",
       "      <td>75.680</td>\n",
       "      <td>57.837188</td>\n",
       "      <td>892.922187</td>\n",
       "      <td>2.299</td>\n",
       "      <td>4.348</td>\n",
       "      <td>12.069</td>\n",
       "      <td>7.171</td>\n",
       "      <td>49.556</td>\n",
       "      <td>60.775</td>\n",
       "      <td>47.158</td>\n",
       "      <td>46.951</td>\n",
       "      <td>29.491</td>\n",
       "      <td>86.141</td>\n",
       "      <td>83.693750</td>\n",
       "      <td>916.584687</td>\n",
       "      <td>11.082</td>\n",
       "      <td>6.916</td>\n",
       "      <td>8.905</td>\n",
       "      <td>8.075</td>\n",
       "    </tr>\n",
       "    <tr>\n",
       "      <th>...</th>\n",
       "      <td>...</td>\n",
       "      <td>...</td>\n",
       "      <td>...</td>\n",
       "      <td>...</td>\n",
       "      <td>...</td>\n",
       "      <td>...</td>\n",
       "      <td>...</td>\n",
       "      <td>...</td>\n",
       "      <td>...</td>\n",
       "      <td>...</td>\n",
       "      <td>...</td>\n",
       "      <td>...</td>\n",
       "      <td>...</td>\n",
       "      <td>...</td>\n",
       "      <td>...</td>\n",
       "      <td>...</td>\n",
       "      <td>...</td>\n",
       "      <td>...</td>\n",
       "      <td>...</td>\n",
       "      <td>...</td>\n",
       "      <td>...</td>\n",
       "      <td>...</td>\n",
       "      <td>...</td>\n",
       "      <td>...</td>\n",
       "      <td>...</td>\n",
       "      <td>...</td>\n",
       "      <td>...</td>\n",
       "      <td>...</td>\n",
       "      <td>...</td>\n",
       "    </tr>\n",
       "    <tr>\n",
       "      <th>3723</th>\n",
       "      <td>20222023</td>\n",
       "      <td>2023-04-13</td>\n",
       "      <td>ANA</td>\n",
       "      <td>L.A</td>\n",
       "      <td>0</td>\n",
       "      <td>37.465</td>\n",
       "      <td>35.833</td>\n",
       "      <td>38.186</td>\n",
       "      <td>37.886</td>\n",
       "      <td>15.757</td>\n",
       "      <td>83.117</td>\n",
       "      <td>94.583889</td>\n",
       "      <td>917.601389</td>\n",
       "      <td>5.613</td>\n",
       "      <td>5.128</td>\n",
       "      <td>10.733</td>\n",
       "      <td>8.345</td>\n",
       "      <td>52.020</td>\n",
       "      <td>57.485</td>\n",
       "      <td>48.423</td>\n",
       "      <td>52.619</td>\n",
       "      <td>13.876</td>\n",
       "      <td>87.212</td>\n",
       "      <td>84.458485</td>\n",
       "      <td>908.473636</td>\n",
       "      <td>24.340</td>\n",
       "      <td>9.049</td>\n",
       "      <td>11.679</td>\n",
       "      <td>7.225</td>\n",
       "    </tr>\n",
       "    <tr>\n",
       "      <th>3724</th>\n",
       "      <td>20222023</td>\n",
       "      <td>2023-04-13</td>\n",
       "      <td>ARI</td>\n",
       "      <td>VAN</td>\n",
       "      <td>0</td>\n",
       "      <td>46.469</td>\n",
       "      <td>39.654</td>\n",
       "      <td>45.404</td>\n",
       "      <td>42.538</td>\n",
       "      <td>18.801</td>\n",
       "      <td>79.739</td>\n",
       "      <td>95.675263</td>\n",
       "      <td>921.328947</td>\n",
       "      <td>8.369</td>\n",
       "      <td>4.214</td>\n",
       "      <td>18.592</td>\n",
       "      <td>11.571</td>\n",
       "      <td>45.407</td>\n",
       "      <td>54.939</td>\n",
       "      <td>44.357</td>\n",
       "      <td>47.319</td>\n",
       "      <td>18.985</td>\n",
       "      <td>84.714</td>\n",
       "      <td>100.100541</td>\n",
       "      <td>894.535135</td>\n",
       "      <td>10.092</td>\n",
       "      <td>8.368</td>\n",
       "      <td>23.087</td>\n",
       "      <td>8.659</td>\n",
       "    </tr>\n",
       "    <tr>\n",
       "      <th>3725</th>\n",
       "      <td>20222023</td>\n",
       "      <td>2023-04-13</td>\n",
       "      <td>SEA</td>\n",
       "      <td>VGK</td>\n",
       "      <td>0</td>\n",
       "      <td>57.050</td>\n",
       "      <td>54.449</td>\n",
       "      <td>59.066</td>\n",
       "      <td>56.560</td>\n",
       "      <td>16.971</td>\n",
       "      <td>70.043</td>\n",
       "      <td>100.511538</td>\n",
       "      <td>896.874872</td>\n",
       "      <td>10.103</td>\n",
       "      <td>7.819</td>\n",
       "      <td>1.600</td>\n",
       "      <td>4.080</td>\n",
       "      <td>49.700</td>\n",
       "      <td>62.403</td>\n",
       "      <td>54.140</td>\n",
       "      <td>54.399</td>\n",
       "      <td>22.219</td>\n",
       "      <td>86.241</td>\n",
       "      <td>100.515588</td>\n",
       "      <td>921.617059</td>\n",
       "      <td>4.185</td>\n",
       "      <td>7.559</td>\n",
       "      <td>26.538</td>\n",
       "      <td>9.003</td>\n",
       "    </tr>\n",
       "    <tr>\n",
       "      <th>3726</th>\n",
       "      <td>20222023</td>\n",
       "      <td>2023-04-14</td>\n",
       "      <td>CBJ</td>\n",
       "      <td>BUF</td>\n",
       "      <td>0</td>\n",
       "      <td>36.813</td>\n",
       "      <td>39.326</td>\n",
       "      <td>35.056</td>\n",
       "      <td>37.632</td>\n",
       "      <td>14.366</td>\n",
       "      <td>73.425</td>\n",
       "      <td>77.141316</td>\n",
       "      <td>901.840000</td>\n",
       "      <td>7.399</td>\n",
       "      <td>6.745</td>\n",
       "      <td>18.434</td>\n",
       "      <td>10.780</td>\n",
       "      <td>49.983</td>\n",
       "      <td>51.548</td>\n",
       "      <td>49.511</td>\n",
       "      <td>47.102</td>\n",
       "      <td>20.448</td>\n",
       "      <td>86.842</td>\n",
       "      <td>92.056154</td>\n",
       "      <td>894.443590</td>\n",
       "      <td>5.203</td>\n",
       "      <td>5.691</td>\n",
       "      <td>6.636</td>\n",
       "      <td>7.356</td>\n",
       "    </tr>\n",
       "    <tr>\n",
       "      <th>3727</th>\n",
       "      <td>20222023</td>\n",
       "      <td>2023-04-14</td>\n",
       "      <td>NSH</td>\n",
       "      <td>COL</td>\n",
       "      <td>0</td>\n",
       "      <td>40.670</td>\n",
       "      <td>42.353</td>\n",
       "      <td>39.427</td>\n",
       "      <td>41.112</td>\n",
       "      <td>10.384</td>\n",
       "      <td>94.422</td>\n",
       "      <td>82.664737</td>\n",
       "      <td>922.814211</td>\n",
       "      <td>4.298</td>\n",
       "      <td>7.397</td>\n",
       "      <td>5.177</td>\n",
       "      <td>7.059</td>\n",
       "      <td>55.047</td>\n",
       "      <td>61.475</td>\n",
       "      <td>53.935</td>\n",
       "      <td>49.601</td>\n",
       "      <td>24.524</td>\n",
       "      <td>81.491</td>\n",
       "      <td>98.016053</td>\n",
       "      <td>921.409737</td>\n",
       "      <td>6.581</td>\n",
       "      <td>7.114</td>\n",
       "      <td>10.536</td>\n",
       "      <td>7.698</td>\n",
       "    </tr>\n",
       "  </tbody>\n",
       "</table>\n",
       "<p>3728 rows × 29 columns</p>\n",
       "</div>"
      ],
      "text/plain": [
       "      season_id        date Home_team Away_team  Home_Team_Won  \\\n",
       "0      20192020  2019-10-22       CGY       WSH              0   \n",
       "1      20192020  2019-10-24       DAL       ANA              1   \n",
       "2      20192020  2019-10-24       EDM       WSH              1   \n",
       "3      20192020  2019-10-25       TOR       S.J              1   \n",
       "4      20192020  2019-10-25       DET       BUF              0   \n",
       "...         ...         ...       ...       ...            ...   \n",
       "3723   20222023  2023-04-13       ANA       L.A              0   \n",
       "3724   20222023  2023-04-13       ARI       VAN              0   \n",
       "3725   20222023  2023-04-13       SEA       VGK              0   \n",
       "3726   20222023  2023-04-14       CBJ       BUF              0   \n",
       "3727   20222023  2023-04-14       NSH       COL              0   \n",
       "\n",
       "      home_rolling_avg_FF%  home_rolling_avg_GF%  home_rolling_avg_xGF%  \\\n",
       "0                   51.530                49.292                 52.171   \n",
       "1                   47.510                44.729                 52.979   \n",
       "2                   48.525                41.521                 47.858   \n",
       "3                   50.669                49.713                 46.325   \n",
       "4                   48.081                35.525                 49.142   \n",
       "...                    ...                   ...                    ...   \n",
       "3723                37.465                35.833                 38.186   \n",
       "3724                46.469                39.654                 45.404   \n",
       "3725                57.050                54.449                 59.066   \n",
       "3726                36.813                39.326                 35.056   \n",
       "3727                40.670                42.353                 39.427   \n",
       "\n",
       "      home_rolling_avg_HDCF%  home_rolling_avg_HDSH%  home_rolling_avg_HDSV%  \\\n",
       "0                     48.052                   6.476                  85.008   \n",
       "1                     56.640                  23.892                  81.519   \n",
       "2                     44.778                  18.509                  82.631   \n",
       "3                     43.564                  26.335                  77.804   \n",
       "4                     50.718                  19.480                  75.680   \n",
       "...                      ...                     ...                     ...   \n",
       "3723                  37.886                  15.757                  83.117   \n",
       "3724                  42.538                  18.801                  79.739   \n",
       "3725                  56.560                  16.971                  70.043   \n",
       "3726                  37.632                  14.366                  73.425   \n",
       "3727                  41.112                  10.384                  94.422   \n",
       "\n",
       "      home_rolling_avg_SH%  home_rolling_avg_SV%  home_rolling_avg_GF/60_pp  \\\n",
       "0                70.570606            916.011515                      6.027   \n",
       "1                74.160645            938.801613                      5.211   \n",
       "2                77.374545            911.065152                     13.210   \n",
       "3                83.725313            919.072188                      9.900   \n",
       "4                57.837188            892.922187                      2.299   \n",
       "...                    ...                   ...                        ...   \n",
       "3723             94.583889            917.601389                      5.613   \n",
       "3724             95.675263            921.328947                      8.369   \n",
       "3725            100.511538            896.874872                     10.103   \n",
       "3726             77.141316            901.840000                      7.399   \n",
       "3727             82.664737            922.814211                      4.298   \n",
       "\n",
       "      home_rolling_avg_xGF/60_pp  home_rolling_avg_GA/60_pk  \\\n",
       "0                          4.839                      2.492   \n",
       "1                          6.131                      5.980   \n",
       "2                          8.734                      4.144   \n",
       "3                          6.012                      6.126   \n",
       "4                          4.348                     12.069   \n",
       "...                          ...                        ...   \n",
       "3723                       5.128                     10.733   \n",
       "3724                       4.214                     18.592   \n",
       "3725                       7.819                      1.600   \n",
       "3726                       6.745                     18.434   \n",
       "3727                       7.397                      5.177   \n",
       "\n",
       "      home_rolling_avg_xGA/60_pk  away_rolling_avg_FF%  away_rolling_avg_GF%  \\\n",
       "0                          6.428                54.229                49.310   \n",
       "1                          4.955                49.075                59.341   \n",
       "2                          7.600                53.307                51.114   \n",
       "3                          5.894                47.301                40.113   \n",
       "4                          7.171                49.556                60.775   \n",
       "...                          ...                   ...                   ...   \n",
       "3723                       8.345                52.020                57.485   \n",
       "3724                      11.571                45.407                54.939   \n",
       "3725                       4.080                49.700                62.403   \n",
       "3726                      10.780                49.983                51.548   \n",
       "3727                       7.059                55.047                61.475   \n",
       "\n",
       "      away_rolling_avg_xGF%  away_rolling_avg_HDCF%  away_rolling_avg_HDSH%  \\\n",
       "0                    55.439                  52.822                  13.942   \n",
       "1                    50.647                  56.223                  19.764   \n",
       "2                    54.277                  53.132                  16.438   \n",
       "3                    42.496                  41.539                  16.089   \n",
       "4                    47.158                  46.951                  29.491   \n",
       "...                     ...                     ...                     ...   \n",
       "3723                 48.423                  52.619                  13.876   \n",
       "3724                 44.357                  47.319                  18.985   \n",
       "3725                 54.140                  54.399                  22.219   \n",
       "3726                 49.511                  47.102                  20.448   \n",
       "3727                 53.935                  49.601                  24.524   \n",
       "\n",
       "      away_rolling_avg_HDSV%  away_rolling_avg_SH%  away_rolling_avg_SV%  \\\n",
       "0                     77.652             97.903437            916.051875   \n",
       "1                     92.559             80.736774            912.332581   \n",
       "2                     75.486             97.903437            916.051875   \n",
       "3                     81.599             82.280000            875.965937   \n",
       "4                     86.141             83.693750            916.584687   \n",
       "...                      ...                   ...                   ...   \n",
       "3723                  87.212             84.458485            908.473636   \n",
       "3724                  84.714            100.100541            894.535135   \n",
       "3725                  86.241            100.515588            921.617059   \n",
       "3726                  86.842             92.056154            894.443590   \n",
       "3727                  81.491             98.016053            921.409737   \n",
       "\n",
       "      away_rolling_avg_GF/60_pp  away_rolling_avg_xGF/60_pp  \\\n",
       "0                        55.926                      17.439   \n",
       "1                         1.173                       4.920   \n",
       "2                        54.906                      17.127   \n",
       "3                        13.254                       9.169   \n",
       "4                        11.082                       6.916   \n",
       "...                         ...                         ...   \n",
       "3723                     24.340                       9.049   \n",
       "3724                     10.092                       8.368   \n",
       "3725                      4.185                       7.559   \n",
       "3726                      5.203                       5.691   \n",
       "3727                      6.581                       7.114   \n",
       "\n",
       "      away_rolling_avg_GA/60_pk  away_rolling_avg_xGA/60_pk  \n",
       "0                         5.719                       4.657  \n",
       "1                         6.614                       4.886  \n",
       "2                         4.801                       4.281  \n",
       "3                         3.008                       6.854  \n",
       "4                         8.905                       8.075  \n",
       "...                         ...                         ...  \n",
       "3723                     11.679                       7.225  \n",
       "3724                     23.087                       8.659  \n",
       "3725                     26.538                       9.003  \n",
       "3726                      6.636                       7.356  \n",
       "3727                     10.536                       7.698  \n",
       "\n",
       "[3728 rows x 29 columns]"
      ]
     },
     "execution_count": 108,
     "metadata": {},
     "output_type": "execute_result"
    }
   ],
   "source": [
    "# load modeling df\n",
    "modeling_df = pd.read_csv('modeling_final.csv', index_col=False)\n",
    "modeling_df"
   ]
  },
  {
   "cell_type": "code",
   "execution_count": 109,
   "id": "ff048ba8",
   "metadata": {},
   "outputs": [
    {
     "name": "stdout",
     "output_type": "stream",
     "text": [
      "<class 'pandas.core.frame.DataFrame'>\n",
      "RangeIndex: 3728 entries, 0 to 3727\n",
      "Data columns (total 29 columns):\n",
      " #   Column                      Non-Null Count  Dtype  \n",
      "---  ------                      --------------  -----  \n",
      " 0   season_id                   3728 non-null   int64  \n",
      " 1   date                        3728 non-null   object \n",
      " 2   Home_team                   3728 non-null   object \n",
      " 3   Away_team                   3728 non-null   object \n",
      " 4   Home_Team_Won               3728 non-null   int64  \n",
      " 5   home_rolling_avg_FF%        3728 non-null   float64\n",
      " 6   home_rolling_avg_GF%        3728 non-null   float64\n",
      " 7   home_rolling_avg_xGF%       3728 non-null   float64\n",
      " 8   home_rolling_avg_HDCF%      3728 non-null   float64\n",
      " 9   home_rolling_avg_HDSH%      3728 non-null   float64\n",
      " 10  home_rolling_avg_HDSV%      3728 non-null   float64\n",
      " 11  home_rolling_avg_SH%        3728 non-null   float64\n",
      " 12  home_rolling_avg_SV%        3728 non-null   float64\n",
      " 13  home_rolling_avg_GF/60_pp   3728 non-null   float64\n",
      " 14  home_rolling_avg_xGF/60_pp  3728 non-null   float64\n",
      " 15  home_rolling_avg_GA/60_pk   3728 non-null   float64\n",
      " 16  home_rolling_avg_xGA/60_pk  3728 non-null   float64\n",
      " 17  away_rolling_avg_FF%        3728 non-null   float64\n",
      " 18  away_rolling_avg_GF%        3728 non-null   float64\n",
      " 19  away_rolling_avg_xGF%       3728 non-null   float64\n",
      " 20  away_rolling_avg_HDCF%      3728 non-null   float64\n",
      " 21  away_rolling_avg_HDSH%      3728 non-null   float64\n",
      " 22  away_rolling_avg_HDSV%      3728 non-null   float64\n",
      " 23  away_rolling_avg_SH%        3728 non-null   float64\n",
      " 24  away_rolling_avg_SV%        3728 non-null   float64\n",
      " 25  away_rolling_avg_GF/60_pp   3728 non-null   float64\n",
      " 26  away_rolling_avg_xGF/60_pp  3728 non-null   float64\n",
      " 27  away_rolling_avg_GA/60_pk   3728 non-null   float64\n",
      " 28  away_rolling_avg_xGA/60_pk  3728 non-null   float64\n",
      "dtypes: float64(24), int64(2), object(3)\n",
      "memory usage: 844.8+ KB\n"
     ]
    }
   ],
   "source": [
    "# inspect df\n",
    "modeling_df.info()"
   ]
  },
  {
   "cell_type": "code",
   "execution_count": 110,
   "id": "5bb4413d",
   "metadata": {},
   "outputs": [
    {
     "data": {
      "text/plain": [
       "<class 'str'>"
      ]
     },
     "execution_count": 110,
     "metadata": {},
     "output_type": "execute_result"
    }
   ],
   "source": [
    "# drop team names and convert season_id back to string\n",
    "modeling_df = modeling_df.drop(columns=['date', 'Home_team', 'Away_team'], axis=1)\n",
    "modeling_df['season_id'] = modeling_df['season_id'].astype(str)\n",
    "type(modeling_df['season_id'][0])"
   ]
  },
  {
   "cell_type": "code",
   "execution_count": 111,
   "id": "5f14e935",
   "metadata": {},
   "outputs": [
    {
     "data": {
      "text/html": [
       "<div>\n",
       "<style scoped>\n",
       "    .dataframe tbody tr th:only-of-type {\n",
       "        vertical-align: middle;\n",
       "    }\n",
       "\n",
       "    .dataframe tbody tr th {\n",
       "        vertical-align: top;\n",
       "    }\n",
       "\n",
       "    .dataframe thead th {\n",
       "        text-align: right;\n",
       "    }\n",
       "</style>\n",
       "<table border=\"1\" class=\"dataframe\">\n",
       "  <thead>\n",
       "    <tr style=\"text-align: right;\">\n",
       "      <th></th>\n",
       "      <th>Home_Team_Won</th>\n",
       "      <th>home_rolling_avg_FF%</th>\n",
       "      <th>home_rolling_avg_GF%</th>\n",
       "      <th>home_rolling_avg_xGF%</th>\n",
       "      <th>home_rolling_avg_HDCF%</th>\n",
       "      <th>home_rolling_avg_HDSH%</th>\n",
       "      <th>home_rolling_avg_HDSV%</th>\n",
       "      <th>home_rolling_avg_SH%</th>\n",
       "      <th>home_rolling_avg_SV%</th>\n",
       "      <th>home_rolling_avg_GF/60_pp</th>\n",
       "      <th>home_rolling_avg_xGF/60_pp</th>\n",
       "      <th>home_rolling_avg_GA/60_pk</th>\n",
       "      <th>home_rolling_avg_xGA/60_pk</th>\n",
       "      <th>away_rolling_avg_FF%</th>\n",
       "      <th>away_rolling_avg_GF%</th>\n",
       "      <th>away_rolling_avg_xGF%</th>\n",
       "      <th>away_rolling_avg_HDCF%</th>\n",
       "      <th>away_rolling_avg_HDSH%</th>\n",
       "      <th>away_rolling_avg_HDSV%</th>\n",
       "      <th>away_rolling_avg_SH%</th>\n",
       "      <th>away_rolling_avg_SV%</th>\n",
       "      <th>away_rolling_avg_GF/60_pp</th>\n",
       "      <th>away_rolling_avg_xGF/60_pp</th>\n",
       "      <th>away_rolling_avg_GA/60_pk</th>\n",
       "      <th>away_rolling_avg_xGA/60_pk</th>\n",
       "    </tr>\n",
       "  </thead>\n",
       "  <tbody>\n",
       "    <tr>\n",
       "      <th>count</th>\n",
       "      <td>3728.000000</td>\n",
       "      <td>3728.000000</td>\n",
       "      <td>3728.000000</td>\n",
       "      <td>3728.000000</td>\n",
       "      <td>3728.000000</td>\n",
       "      <td>3728.000000</td>\n",
       "      <td>3728.000000</td>\n",
       "      <td>3728.000000</td>\n",
       "      <td>3728.000000</td>\n",
       "      <td>3728.000000</td>\n",
       "      <td>3728.000000</td>\n",
       "      <td>3728.000000</td>\n",
       "      <td>3728.000000</td>\n",
       "      <td>3728.000000</td>\n",
       "      <td>3728.000000</td>\n",
       "      <td>3728.000000</td>\n",
       "      <td>3728.000000</td>\n",
       "      <td>3728.000000</td>\n",
       "      <td>3728.000000</td>\n",
       "      <td>3728.000000</td>\n",
       "      <td>3728.000000</td>\n",
       "      <td>3728.000000</td>\n",
       "      <td>3728.000000</td>\n",
       "      <td>3728.000000</td>\n",
       "      <td>3728.000000</td>\n",
       "    </tr>\n",
       "    <tr>\n",
       "      <th>mean</th>\n",
       "      <td>0.526556</td>\n",
       "      <td>50.029321</td>\n",
       "      <td>49.272248</td>\n",
       "      <td>50.051347</td>\n",
       "      <td>50.088907</td>\n",
       "      <td>17.884775</td>\n",
       "      <td>81.746780</td>\n",
       "      <td>84.540023</td>\n",
       "      <td>915.325022</td>\n",
       "      <td>10.767664</td>\n",
       "      <td>7.261937</td>\n",
       "      <td>10.966767</td>\n",
       "      <td>7.282605</td>\n",
       "      <td>49.978499</td>\n",
       "      <td>49.132147</td>\n",
       "      <td>49.957557</td>\n",
       "      <td>49.926227</td>\n",
       "      <td>17.809514</td>\n",
       "      <td>81.635308</td>\n",
       "      <td>84.785941</td>\n",
       "      <td>915.439433</td>\n",
       "      <td>10.963327</td>\n",
       "      <td>7.285074</td>\n",
       "      <td>10.657240</td>\n",
       "      <td>7.232389</td>\n",
       "    </tr>\n",
       "    <tr>\n",
       "      <th>std</th>\n",
       "      <td>0.499361</td>\n",
       "      <td>4.574343</td>\n",
       "      <td>9.996243</td>\n",
       "      <td>5.384010</td>\n",
       "      <td>6.378572</td>\n",
       "      <td>5.371639</td>\n",
       "      <td>5.925438</td>\n",
       "      <td>9.609339</td>\n",
       "      <td>10.140615</td>\n",
       "      <td>10.391248</td>\n",
       "      <td>2.549740</td>\n",
       "      <td>10.470886</td>\n",
       "      <td>2.417358</td>\n",
       "      <td>4.558703</td>\n",
       "      <td>9.908046</td>\n",
       "      <td>5.311889</td>\n",
       "      <td>6.334732</td>\n",
       "      <td>5.360703</td>\n",
       "      <td>5.915950</td>\n",
       "      <td>9.664843</td>\n",
       "      <td>10.024131</td>\n",
       "      <td>11.059556</td>\n",
       "      <td>2.482336</td>\n",
       "      <td>10.499259</td>\n",
       "      <td>2.362367</td>\n",
       "    </tr>\n",
       "    <tr>\n",
       "      <th>min</th>\n",
       "      <td>0.000000</td>\n",
       "      <td>34.024000</td>\n",
       "      <td>17.690000</td>\n",
       "      <td>32.178000</td>\n",
       "      <td>30.307000</td>\n",
       "      <td>1.555000</td>\n",
       "      <td>55.967000</td>\n",
       "      <td>56.715714</td>\n",
       "      <td>875.965937</td>\n",
       "      <td>0.000000</td>\n",
       "      <td>2.173000</td>\n",
       "      <td>0.000000</td>\n",
       "      <td>2.763000</td>\n",
       "      <td>35.242000</td>\n",
       "      <td>16.008000</td>\n",
       "      <td>33.985000</td>\n",
       "      <td>31.570000</td>\n",
       "      <td>2.401000</td>\n",
       "      <td>58.771000</td>\n",
       "      <td>56.715714</td>\n",
       "      <td>875.965937</td>\n",
       "      <td>0.000000</td>\n",
       "      <td>2.145000</td>\n",
       "      <td>0.000000</td>\n",
       "      <td>2.300000</td>\n",
       "    </tr>\n",
       "    <tr>\n",
       "      <th>25%</th>\n",
       "      <td>0.000000</td>\n",
       "      <td>47.082250</td>\n",
       "      <td>42.759250</td>\n",
       "      <td>46.400750</td>\n",
       "      <td>45.769000</td>\n",
       "      <td>14.262000</td>\n",
       "      <td>77.924750</td>\n",
       "      <td>78.035823</td>\n",
       "      <td>909.741899</td>\n",
       "      <td>5.421000</td>\n",
       "      <td>5.639000</td>\n",
       "      <td>5.533000</td>\n",
       "      <td>5.740750</td>\n",
       "      <td>47.052000</td>\n",
       "      <td>42.568000</td>\n",
       "      <td>46.257500</td>\n",
       "      <td>45.607250</td>\n",
       "      <td>14.096750</td>\n",
       "      <td>77.949250</td>\n",
       "      <td>78.213291</td>\n",
       "      <td>909.741899</td>\n",
       "      <td>5.331000</td>\n",
       "      <td>5.724000</td>\n",
       "      <td>5.346000</td>\n",
       "      <td>5.688500</td>\n",
       "    </tr>\n",
       "    <tr>\n",
       "      <th>50%</th>\n",
       "      <td>1.000000</td>\n",
       "      <td>49.863500</td>\n",
       "      <td>49.323000</td>\n",
       "      <td>50.162000</td>\n",
       "      <td>50.063000</td>\n",
       "      <td>17.575000</td>\n",
       "      <td>82.384500</td>\n",
       "      <td>83.888611</td>\n",
       "      <td>916.294933</td>\n",
       "      <td>8.180500</td>\n",
       "      <td>6.917500</td>\n",
       "      <td>8.467500</td>\n",
       "      <td>6.898000</td>\n",
       "      <td>49.898500</td>\n",
       "      <td>49.117000</td>\n",
       "      <td>50.221500</td>\n",
       "      <td>49.895000</td>\n",
       "      <td>17.472000</td>\n",
       "      <td>82.314000</td>\n",
       "      <td>83.924250</td>\n",
       "      <td>916.294933</td>\n",
       "      <td>8.257500</td>\n",
       "      <td>6.939500</td>\n",
       "      <td>8.058000</td>\n",
       "      <td>6.854000</td>\n",
       "    </tr>\n",
       "    <tr>\n",
       "      <th>75%</th>\n",
       "      <td>1.000000</td>\n",
       "      <td>53.036000</td>\n",
       "      <td>56.092000</td>\n",
       "      <td>53.670500</td>\n",
       "      <td>54.523500</td>\n",
       "      <td>21.149500</td>\n",
       "      <td>85.920750</td>\n",
       "      <td>90.550556</td>\n",
       "      <td>922.109747</td>\n",
       "      <td>12.247000</td>\n",
       "      <td>8.347000</td>\n",
       "      <td>12.324000</td>\n",
       "      <td>8.288000</td>\n",
       "      <td>53.047500</td>\n",
       "      <td>55.858250</td>\n",
       "      <td>53.527500</td>\n",
       "      <td>54.331750</td>\n",
       "      <td>21.111500</td>\n",
       "      <td>85.839750</td>\n",
       "      <td>90.681867</td>\n",
       "      <td>922.109747</td>\n",
       "      <td>12.353000</td>\n",
       "      <td>8.339250</td>\n",
       "      <td>12.179250</td>\n",
       "      <td>8.241000</td>\n",
       "    </tr>\n",
       "    <tr>\n",
       "      <th>max</th>\n",
       "      <td>1.000000</td>\n",
       "      <td>65.173000</td>\n",
       "      <td>80.875000</td>\n",
       "      <td>68.375000</td>\n",
       "      <td>69.765000</td>\n",
       "      <td>39.824000</td>\n",
       "      <td>97.402000</td>\n",
       "      <td>109.442000</td>\n",
       "      <td>942.967838</td>\n",
       "      <td>113.905000</td>\n",
       "      <td>32.856000</td>\n",
       "      <td>96.335000</td>\n",
       "      <td>31.928000</td>\n",
       "      <td>65.002000</td>\n",
       "      <td>80.119000</td>\n",
       "      <td>67.589000</td>\n",
       "      <td>72.162000</td>\n",
       "      <td>39.174000</td>\n",
       "      <td>96.729000</td>\n",
       "      <td>109.442000</td>\n",
       "      <td>942.967838</td>\n",
       "      <td>113.319000</td>\n",
       "      <td>32.616000</td>\n",
       "      <td>97.720000</td>\n",
       "      <td>31.569000</td>\n",
       "    </tr>\n",
       "  </tbody>\n",
       "</table>\n",
       "</div>"
      ],
      "text/plain": [
       "       Home_Team_Won  home_rolling_avg_FF%  home_rolling_avg_GF%  \\\n",
       "count    3728.000000           3728.000000           3728.000000   \n",
       "mean        0.526556             50.029321             49.272248   \n",
       "std         0.499361              4.574343              9.996243   \n",
       "min         0.000000             34.024000             17.690000   \n",
       "25%         0.000000             47.082250             42.759250   \n",
       "50%         1.000000             49.863500             49.323000   \n",
       "75%         1.000000             53.036000             56.092000   \n",
       "max         1.000000             65.173000             80.875000   \n",
       "\n",
       "       home_rolling_avg_xGF%  home_rolling_avg_HDCF%  home_rolling_avg_HDSH%  \\\n",
       "count            3728.000000             3728.000000             3728.000000   \n",
       "mean               50.051347               50.088907               17.884775   \n",
       "std                 5.384010                6.378572                5.371639   \n",
       "min                32.178000               30.307000                1.555000   \n",
       "25%                46.400750               45.769000               14.262000   \n",
       "50%                50.162000               50.063000               17.575000   \n",
       "75%                53.670500               54.523500               21.149500   \n",
       "max                68.375000               69.765000               39.824000   \n",
       "\n",
       "       home_rolling_avg_HDSV%  home_rolling_avg_SH%  home_rolling_avg_SV%  \\\n",
       "count             3728.000000           3728.000000           3728.000000   \n",
       "mean                81.746780             84.540023            915.325022   \n",
       "std                  5.925438              9.609339             10.140615   \n",
       "min                 55.967000             56.715714            875.965937   \n",
       "25%                 77.924750             78.035823            909.741899   \n",
       "50%                 82.384500             83.888611            916.294933   \n",
       "75%                 85.920750             90.550556            922.109747   \n",
       "max                 97.402000            109.442000            942.967838   \n",
       "\n",
       "       home_rolling_avg_GF/60_pp  home_rolling_avg_xGF/60_pp  \\\n",
       "count                3728.000000                 3728.000000   \n",
       "mean                   10.767664                    7.261937   \n",
       "std                    10.391248                    2.549740   \n",
       "min                     0.000000                    2.173000   \n",
       "25%                     5.421000                    5.639000   \n",
       "50%                     8.180500                    6.917500   \n",
       "75%                    12.247000                    8.347000   \n",
       "max                   113.905000                   32.856000   \n",
       "\n",
       "       home_rolling_avg_GA/60_pk  home_rolling_avg_xGA/60_pk  \\\n",
       "count                3728.000000                 3728.000000   \n",
       "mean                   10.966767                    7.282605   \n",
       "std                    10.470886                    2.417358   \n",
       "min                     0.000000                    2.763000   \n",
       "25%                     5.533000                    5.740750   \n",
       "50%                     8.467500                    6.898000   \n",
       "75%                    12.324000                    8.288000   \n",
       "max                    96.335000                   31.928000   \n",
       "\n",
       "       away_rolling_avg_FF%  away_rolling_avg_GF%  away_rolling_avg_xGF%  \\\n",
       "count           3728.000000           3728.000000            3728.000000   \n",
       "mean              49.978499             49.132147              49.957557   \n",
       "std                4.558703              9.908046               5.311889   \n",
       "min               35.242000             16.008000              33.985000   \n",
       "25%               47.052000             42.568000              46.257500   \n",
       "50%               49.898500             49.117000              50.221500   \n",
       "75%               53.047500             55.858250              53.527500   \n",
       "max               65.002000             80.119000              67.589000   \n",
       "\n",
       "       away_rolling_avg_HDCF%  away_rolling_avg_HDSH%  away_rolling_avg_HDSV%  \\\n",
       "count             3728.000000             3728.000000             3728.000000   \n",
       "mean                49.926227               17.809514               81.635308   \n",
       "std                  6.334732                5.360703                5.915950   \n",
       "min                 31.570000                2.401000               58.771000   \n",
       "25%                 45.607250               14.096750               77.949250   \n",
       "50%                 49.895000               17.472000               82.314000   \n",
       "75%                 54.331750               21.111500               85.839750   \n",
       "max                 72.162000               39.174000               96.729000   \n",
       "\n",
       "       away_rolling_avg_SH%  away_rolling_avg_SV%  away_rolling_avg_GF/60_pp  \\\n",
       "count           3728.000000           3728.000000                3728.000000   \n",
       "mean              84.785941            915.439433                  10.963327   \n",
       "std                9.664843             10.024131                  11.059556   \n",
       "min               56.715714            875.965937                   0.000000   \n",
       "25%               78.213291            909.741899                   5.331000   \n",
       "50%               83.924250            916.294933                   8.257500   \n",
       "75%               90.681867            922.109747                  12.353000   \n",
       "max              109.442000            942.967838                 113.319000   \n",
       "\n",
       "       away_rolling_avg_xGF/60_pp  away_rolling_avg_GA/60_pk  \\\n",
       "count                 3728.000000                3728.000000   \n",
       "mean                     7.285074                  10.657240   \n",
       "std                      2.482336                  10.499259   \n",
       "min                      2.145000                   0.000000   \n",
       "25%                      5.724000                   5.346000   \n",
       "50%                      6.939500                   8.058000   \n",
       "75%                      8.339250                  12.179250   \n",
       "max                     32.616000                  97.720000   \n",
       "\n",
       "       away_rolling_avg_xGA/60_pk  \n",
       "count                 3728.000000  \n",
       "mean                     7.232389  \n",
       "std                      2.362367  \n",
       "min                      2.300000  \n",
       "25%                      5.688500  \n",
       "50%                      6.854000  \n",
       "75%                      8.241000  \n",
       "max                     31.569000  "
      ]
     },
     "execution_count": 111,
     "metadata": {},
     "output_type": "execute_result"
    }
   ],
   "source": [
    "# Inspect df\n",
    "modeling_df.describe()"
   ]
  },
  {
   "cell_type": "code",
   "execution_count": 112,
   "id": "3e0e44e5",
   "metadata": {},
   "outputs": [
    {
     "data": {
      "text/plain": [
       "season_id                     0\n",
       "Home_Team_Won                 0\n",
       "home_rolling_avg_FF%          0\n",
       "home_rolling_avg_GF%          0\n",
       "home_rolling_avg_xGF%         0\n",
       "home_rolling_avg_HDCF%        0\n",
       "home_rolling_avg_HDSH%        0\n",
       "home_rolling_avg_HDSV%        0\n",
       "home_rolling_avg_SH%          0\n",
       "home_rolling_avg_SV%          0\n",
       "home_rolling_avg_GF/60_pp     0\n",
       "home_rolling_avg_xGF/60_pp    0\n",
       "home_rolling_avg_GA/60_pk     0\n",
       "home_rolling_avg_xGA/60_pk    0\n",
       "away_rolling_avg_FF%          0\n",
       "away_rolling_avg_GF%          0\n",
       "away_rolling_avg_xGF%         0\n",
       "away_rolling_avg_HDCF%        0\n",
       "away_rolling_avg_HDSH%        0\n",
       "away_rolling_avg_HDSV%        0\n",
       "away_rolling_avg_SH%          0\n",
       "away_rolling_avg_SV%          0\n",
       "away_rolling_avg_GF/60_pp     0\n",
       "away_rolling_avg_xGF/60_pp    0\n",
       "away_rolling_avg_GA/60_pk     0\n",
       "away_rolling_avg_xGA/60_pk    0\n",
       "dtype: int64"
      ]
     },
     "execution_count": 112,
     "metadata": {},
     "output_type": "execute_result"
    }
   ],
   "source": [
    "# check for nans\n",
    "modeling_df.isna().sum()"
   ]
  },
  {
   "cell_type": "markdown",
   "id": "bb8c4369",
   "metadata": {},
   "source": [
    "## Correlations"
   ]
  },
  {
   "cell_type": "code",
   "execution_count": null,
   "id": "cefb1435",
   "metadata": {},
   "outputs": [],
   "source": [
    "# Check correlation of selected features\n",
    "plt.figure(figsize=(30,20))\n",
    "cor = modeling_df.corr()\n",
    "sns.heatmap(cor, annot=True, cmap=plt.cm.Reds)\n",
    "plt.show()"
   ]
  },
  {
   "cell_type": "code",
   "execution_count": 115,
   "id": "b09a9cba",
   "metadata": {},
   "outputs": [
    {
     "data": {
      "text/html": [
       "<div>\n",
       "<style scoped>\n",
       "    .dataframe tbody tr th:only-of-type {\n",
       "        vertical-align: middle;\n",
       "    }\n",
       "\n",
       "    .dataframe tbody tr th {\n",
       "        vertical-align: top;\n",
       "    }\n",
       "\n",
       "    .dataframe thead th {\n",
       "        text-align: right;\n",
       "    }\n",
       "</style>\n",
       "<table border=\"1\" class=\"dataframe\">\n",
       "  <thead>\n",
       "    <tr style=\"text-align: right;\">\n",
       "      <th></th>\n",
       "      <th>Home_Team_Won</th>\n",
       "      <th>home_rolling_avg_FF%</th>\n",
       "      <th>home_rolling_avg_GF%</th>\n",
       "      <th>home_rolling_avg_xGF%</th>\n",
       "      <th>home_rolling_avg_HDCF%</th>\n",
       "      <th>home_rolling_avg_HDSH%</th>\n",
       "      <th>home_rolling_avg_HDSV%</th>\n",
       "      <th>home_rolling_avg_SH%</th>\n",
       "      <th>home_rolling_avg_SV%</th>\n",
       "      <th>home_rolling_avg_GF/60_pp</th>\n",
       "      <th>home_rolling_avg_xGF/60_pp</th>\n",
       "      <th>home_rolling_avg_GA/60_pk</th>\n",
       "      <th>home_rolling_avg_xGA/60_pk</th>\n",
       "      <th>away_rolling_avg_FF%</th>\n",
       "      <th>away_rolling_avg_GF%</th>\n",
       "      <th>away_rolling_avg_xGF%</th>\n",
       "      <th>away_rolling_avg_HDCF%</th>\n",
       "      <th>away_rolling_avg_HDSH%</th>\n",
       "      <th>away_rolling_avg_HDSV%</th>\n",
       "      <th>away_rolling_avg_SH%</th>\n",
       "      <th>away_rolling_avg_SV%</th>\n",
       "      <th>away_rolling_avg_GF/60_pp</th>\n",
       "      <th>away_rolling_avg_xGF/60_pp</th>\n",
       "      <th>away_rolling_avg_GA/60_pk</th>\n",
       "      <th>away_rolling_avg_xGA/60_pk</th>\n",
       "    </tr>\n",
       "  </thead>\n",
       "  <tbody>\n",
       "    <tr>\n",
       "      <th>away_rolling_avg_FF%</th>\n",
       "      <td>-0.132448</td>\n",
       "      <td>-0.022918</td>\n",
       "      <td>-0.043360</td>\n",
       "      <td>-0.030884</td>\n",
       "      <td>-0.033469</td>\n",
       "      <td>0.019938</td>\n",
       "      <td>-0.008719</td>\n",
       "      <td>0.014863</td>\n",
       "      <td>0.004281</td>\n",
       "      <td>-0.030485</td>\n",
       "      <td>-0.040602</td>\n",
       "      <td>0.017835</td>\n",
       "      <td>0.018918</td>\n",
       "      <td>1.000000</td>\n",
       "      <td>0.435680</td>\n",
       "      <td>0.906226</td>\n",
       "      <td>0.754219</td>\n",
       "      <td>-0.035495</td>\n",
       "      <td>-0.017516</td>\n",
       "      <td>-0.067895</td>\n",
       "      <td>0.140896</td>\n",
       "      <td>0.067817</td>\n",
       "      <td>0.182578</td>\n",
       "      <td>-0.069826</td>\n",
       "      <td>-0.139763</td>\n",
       "    </tr>\n",
       "    <tr>\n",
       "      <th>away_rolling_avg_xGF%</th>\n",
       "      <td>-0.118746</td>\n",
       "      <td>-0.028197</td>\n",
       "      <td>-0.045624</td>\n",
       "      <td>-0.041938</td>\n",
       "      <td>-0.047846</td>\n",
       "      <td>0.018074</td>\n",
       "      <td>0.004605</td>\n",
       "      <td>0.005207</td>\n",
       "      <td>0.003628</td>\n",
       "      <td>-0.042365</td>\n",
       "      <td>-0.050041</td>\n",
       "      <td>0.016447</td>\n",
       "      <td>0.010150</td>\n",
       "      <td>0.906226</td>\n",
       "      <td>0.481247</td>\n",
       "      <td>1.000000</td>\n",
       "      <td>0.894682</td>\n",
       "      <td>-0.038885</td>\n",
       "      <td>-0.035623</td>\n",
       "      <td>-0.018812</td>\n",
       "      <td>0.178621</td>\n",
       "      <td>0.070678</td>\n",
       "      <td>0.156776</td>\n",
       "      <td>-0.092287</td>\n",
       "      <td>-0.158502</td>\n",
       "    </tr>\n",
       "    <tr>\n",
       "      <th>away_rolling_avg_SV%</th>\n",
       "      <td>-0.100494</td>\n",
       "      <td>0.004838</td>\n",
       "      <td>-0.044296</td>\n",
       "      <td>0.003774</td>\n",
       "      <td>-0.002753</td>\n",
       "      <td>-0.025483</td>\n",
       "      <td>-0.009112</td>\n",
       "      <td>-0.123348</td>\n",
       "      <td>0.072275</td>\n",
       "      <td>-0.053296</td>\n",
       "      <td>-0.068777</td>\n",
       "      <td>-0.009285</td>\n",
       "      <td>-0.066795</td>\n",
       "      <td>0.140896</td>\n",
       "      <td>0.283190</td>\n",
       "      <td>0.178621</td>\n",
       "      <td>0.142593</td>\n",
       "      <td>-0.020349</td>\n",
       "      <td>0.209797</td>\n",
       "      <td>-0.098712</td>\n",
       "      <td>1.000000</td>\n",
       "      <td>0.024897</td>\n",
       "      <td>0.028895</td>\n",
       "      <td>-0.060086</td>\n",
       "      <td>-0.125347</td>\n",
       "    </tr>\n",
       "    <tr>\n",
       "      <th>away_rolling_avg_HDCF%</th>\n",
       "      <td>-0.092547</td>\n",
       "      <td>-0.032922</td>\n",
       "      <td>-0.040305</td>\n",
       "      <td>-0.049372</td>\n",
       "      <td>-0.065079</td>\n",
       "      <td>0.014702</td>\n",
       "      <td>0.017026</td>\n",
       "      <td>-0.000886</td>\n",
       "      <td>-0.002231</td>\n",
       "      <td>-0.043315</td>\n",
       "      <td>-0.038892</td>\n",
       "      <td>0.009669</td>\n",
       "      <td>0.001782</td>\n",
       "      <td>0.754219</td>\n",
       "      <td>0.427690</td>\n",
       "      <td>0.894682</td>\n",
       "      <td>1.000000</td>\n",
       "      <td>-0.024670</td>\n",
       "      <td>-0.070937</td>\n",
       "      <td>0.006245</td>\n",
       "      <td>0.142593</td>\n",
       "      <td>0.077047</td>\n",
       "      <td>0.138930</td>\n",
       "      <td>-0.091622</td>\n",
       "      <td>-0.171970</td>\n",
       "    </tr>\n",
       "    <tr>\n",
       "      <th>away_rolling_avg_xGF/60_pp</th>\n",
       "      <td>-0.089970</td>\n",
       "      <td>0.003172</td>\n",
       "      <td>0.001088</td>\n",
       "      <td>0.004435</td>\n",
       "      <td>0.002293</td>\n",
       "      <td>-0.017775</td>\n",
       "      <td>0.013862</td>\n",
       "      <td>0.063152</td>\n",
       "      <td>-0.061564</td>\n",
       "      <td>0.010160</td>\n",
       "      <td>0.041923</td>\n",
       "      <td>0.060629</td>\n",
       "      <td>0.103541</td>\n",
       "      <td>0.182578</td>\n",
       "      <td>0.118999</td>\n",
       "      <td>0.156776</td>\n",
       "      <td>0.138930</td>\n",
       "      <td>-0.073656</td>\n",
       "      <td>0.083387</td>\n",
       "      <td>0.052565</td>\n",
       "      <td>0.028895</td>\n",
       "      <td>0.580237</td>\n",
       "      <td>1.000000</td>\n",
       "      <td>-0.017726</td>\n",
       "      <td>0.004709</td>\n",
       "    </tr>\n",
       "    <tr>\n",
       "      <th>away_rolling_avg_SH%</th>\n",
       "      <td>-0.088014</td>\n",
       "      <td>0.002843</td>\n",
       "      <td>-0.002341</td>\n",
       "      <td>-0.004816</td>\n",
       "      <td>-0.009423</td>\n",
       "      <td>0.013496</td>\n",
       "      <td>0.016442</td>\n",
       "      <td>0.066213</td>\n",
       "      <td>-0.122433</td>\n",
       "      <td>0.019626</td>\n",
       "      <td>0.066046</td>\n",
       "      <td>0.019472</td>\n",
       "      <td>0.071246</td>\n",
       "      <td>-0.067895</td>\n",
       "      <td>0.226677</td>\n",
       "      <td>-0.018812</td>\n",
       "      <td>0.006245</td>\n",
       "      <td>0.224317</td>\n",
       "      <td>0.010836</td>\n",
       "      <td>1.000000</td>\n",
       "      <td>-0.098712</td>\n",
       "      <td>0.045501</td>\n",
       "      <td>0.052565</td>\n",
       "      <td>-0.018610</td>\n",
       "      <td>0.039293</td>\n",
       "    </tr>\n",
       "    <tr>\n",
       "      <th>away_rolling_avg_GF%</th>\n",
       "      <td>-0.062597</td>\n",
       "      <td>0.005461</td>\n",
       "      <td>-0.056993</td>\n",
       "      <td>0.000321</td>\n",
       "      <td>0.004385</td>\n",
       "      <td>0.002984</td>\n",
       "      <td>-0.017490</td>\n",
       "      <td>0.005398</td>\n",
       "      <td>-0.036228</td>\n",
       "      <td>-0.021750</td>\n",
       "      <td>0.005280</td>\n",
       "      <td>0.001299</td>\n",
       "      <td>0.001385</td>\n",
       "      <td>0.435680</td>\n",
       "      <td>1.000000</td>\n",
       "      <td>0.481247</td>\n",
       "      <td>0.427690</td>\n",
       "      <td>0.369221</td>\n",
       "      <td>0.307941</td>\n",
       "      <td>0.226677</td>\n",
       "      <td>0.283190</td>\n",
       "      <td>0.082401</td>\n",
       "      <td>0.118999</td>\n",
       "      <td>-0.059515</td>\n",
       "      <td>-0.077430</td>\n",
       "    </tr>\n",
       "    <tr>\n",
       "      <th>home_rolling_avg_xGA/60_pk</th>\n",
       "      <td>-0.048948</td>\n",
       "      <td>-0.141526</td>\n",
       "      <td>-0.064860</td>\n",
       "      <td>-0.161552</td>\n",
       "      <td>-0.163876</td>\n",
       "      <td>0.007807</td>\n",
       "      <td>0.004258</td>\n",
       "      <td>0.040878</td>\n",
       "      <td>-0.084442</td>\n",
       "      <td>-0.011740</td>\n",
       "      <td>0.033839</td>\n",
       "      <td>0.545955</td>\n",
       "      <td>1.000000</td>\n",
       "      <td>0.018918</td>\n",
       "      <td>0.001385</td>\n",
       "      <td>0.010150</td>\n",
       "      <td>0.001782</td>\n",
       "      <td>-0.050383</td>\n",
       "      <td>0.028727</td>\n",
       "      <td>0.071246</td>\n",
       "      <td>-0.066795</td>\n",
       "      <td>0.056402</td>\n",
       "      <td>0.103541</td>\n",
       "      <td>0.010014</td>\n",
       "      <td>0.045416</td>\n",
       "    </tr>\n",
       "    <tr>\n",
       "      <th>away_rolling_avg_GF/60_pp</th>\n",
       "      <td>-0.042435</td>\n",
       "      <td>-0.008675</td>\n",
       "      <td>0.000790</td>\n",
       "      <td>-0.010418</td>\n",
       "      <td>-0.007618</td>\n",
       "      <td>0.003504</td>\n",
       "      <td>0.006592</td>\n",
       "      <td>0.020912</td>\n",
       "      <td>-0.033292</td>\n",
       "      <td>-0.014750</td>\n",
       "      <td>-0.008726</td>\n",
       "      <td>0.031395</td>\n",
       "      <td>0.056402</td>\n",
       "      <td>0.067817</td>\n",
       "      <td>0.082401</td>\n",
       "      <td>0.070678</td>\n",
       "      <td>0.077047</td>\n",
       "      <td>-0.005661</td>\n",
       "      <td>0.046531</td>\n",
       "      <td>0.045501</td>\n",
       "      <td>0.024897</td>\n",
       "      <td>1.000000</td>\n",
       "      <td>0.580237</td>\n",
       "      <td>-0.038735</td>\n",
       "      <td>-0.050170</td>\n",
       "    </tr>\n",
       "    <tr>\n",
       "      <th>home_rolling_avg_GA/60_pk</th>\n",
       "      <td>-0.021420</td>\n",
       "      <td>-0.063975</td>\n",
       "      <td>-0.023576</td>\n",
       "      <td>-0.081474</td>\n",
       "      <td>-0.081046</td>\n",
       "      <td>0.045689</td>\n",
       "      <td>-0.010741</td>\n",
       "      <td>-0.018035</td>\n",
       "      <td>-0.013941</td>\n",
       "      <td>-0.010840</td>\n",
       "      <td>-0.008717</td>\n",
       "      <td>1.000000</td>\n",
       "      <td>0.545955</td>\n",
       "      <td>0.017835</td>\n",
       "      <td>0.001299</td>\n",
       "      <td>0.016447</td>\n",
       "      <td>0.009669</td>\n",
       "      <td>-0.031021</td>\n",
       "      <td>0.017469</td>\n",
       "      <td>0.019472</td>\n",
       "      <td>-0.009285</td>\n",
       "      <td>0.031395</td>\n",
       "      <td>0.060629</td>\n",
       "      <td>-0.017174</td>\n",
       "      <td>-0.003400</td>\n",
       "    </tr>\n",
       "    <tr>\n",
       "      <th>home_rolling_avg_HDSH%</th>\n",
       "      <td>-0.012009</td>\n",
       "      <td>-0.050821</td>\n",
       "      <td>0.359996</td>\n",
       "      <td>-0.047010</td>\n",
       "      <td>-0.034197</td>\n",
       "      <td>1.000000</td>\n",
       "      <td>0.000359</td>\n",
       "      <td>0.229973</td>\n",
       "      <td>0.026068</td>\n",
       "      <td>0.017759</td>\n",
       "      <td>-0.046768</td>\n",
       "      <td>0.045689</td>\n",
       "      <td>0.007807</td>\n",
       "      <td>0.019938</td>\n",
       "      <td>0.002984</td>\n",
       "      <td>0.018074</td>\n",
       "      <td>0.014702</td>\n",
       "      <td>0.019561</td>\n",
       "      <td>-0.044813</td>\n",
       "      <td>0.013496</td>\n",
       "      <td>-0.025483</td>\n",
       "      <td>0.003504</td>\n",
       "      <td>-0.017775</td>\n",
       "      <td>-0.022540</td>\n",
       "      <td>-0.004752</td>\n",
       "    </tr>\n",
       "    <tr>\n",
       "      <th>away_rolling_avg_HDSV%</th>\n",
       "      <td>-0.009587</td>\n",
       "      <td>0.012807</td>\n",
       "      <td>-0.016232</td>\n",
       "      <td>0.009416</td>\n",
       "      <td>0.010574</td>\n",
       "      <td>-0.044813</td>\n",
       "      <td>0.010122</td>\n",
       "      <td>-0.007350</td>\n",
       "      <td>-0.010787</td>\n",
       "      <td>0.006788</td>\n",
       "      <td>0.031380</td>\n",
       "      <td>0.017469</td>\n",
       "      <td>0.028727</td>\n",
       "      <td>-0.017516</td>\n",
       "      <td>0.307941</td>\n",
       "      <td>-0.035623</td>\n",
       "      <td>-0.070937</td>\n",
       "      <td>-0.022656</td>\n",
       "      <td>1.000000</td>\n",
       "      <td>0.010836</td>\n",
       "      <td>0.209797</td>\n",
       "      <td>0.046531</td>\n",
       "      <td>0.083387</td>\n",
       "      <td>0.005870</td>\n",
       "      <td>0.023739</td>\n",
       "    </tr>\n",
       "    <tr>\n",
       "      <th>home_rolling_avg_HDSV%</th>\n",
       "      <td>0.015595</td>\n",
       "      <td>-0.000523</td>\n",
       "      <td>0.288747</td>\n",
       "      <td>-0.010291</td>\n",
       "      <td>-0.055011</td>\n",
       "      <td>0.000359</td>\n",
       "      <td>1.000000</td>\n",
       "      <td>0.006101</td>\n",
       "      <td>0.222218</td>\n",
       "      <td>0.065177</td>\n",
       "      <td>0.107141</td>\n",
       "      <td>-0.010741</td>\n",
       "      <td>0.004258</td>\n",
       "      <td>-0.008719</td>\n",
       "      <td>-0.017490</td>\n",
       "      <td>0.004605</td>\n",
       "      <td>0.017026</td>\n",
       "      <td>-0.034603</td>\n",
       "      <td>0.010122</td>\n",
       "      <td>0.016442</td>\n",
       "      <td>-0.009112</td>\n",
       "      <td>0.006592</td>\n",
       "      <td>0.013862</td>\n",
       "      <td>0.009405</td>\n",
       "      <td>-0.011533</td>\n",
       "    </tr>\n",
       "    <tr>\n",
       "      <th>away_rolling_avg_HDSH%</th>\n",
       "      <td>0.016795</td>\n",
       "      <td>0.006499</td>\n",
       "      <td>-0.021152</td>\n",
       "      <td>0.012225</td>\n",
       "      <td>0.016657</td>\n",
       "      <td>0.019561</td>\n",
       "      <td>-0.034603</td>\n",
       "      <td>-0.006452</td>\n",
       "      <td>-0.004453</td>\n",
       "      <td>0.015122</td>\n",
       "      <td>0.017966</td>\n",
       "      <td>-0.031021</td>\n",
       "      <td>-0.050383</td>\n",
       "      <td>-0.035495</td>\n",
       "      <td>0.369221</td>\n",
       "      <td>-0.038885</td>\n",
       "      <td>-0.024670</td>\n",
       "      <td>1.000000</td>\n",
       "      <td>-0.022656</td>\n",
       "      <td>0.224317</td>\n",
       "      <td>-0.020349</td>\n",
       "      <td>-0.005661</td>\n",
       "      <td>-0.073656</td>\n",
       "      <td>0.019206</td>\n",
       "      <td>-0.032955</td>\n",
       "    </tr>\n",
       "    <tr>\n",
       "      <th>away_rolling_avg_GA/60_pk</th>\n",
       "      <td>0.025970</td>\n",
       "      <td>0.000676</td>\n",
       "      <td>0.003113</td>\n",
       "      <td>0.006110</td>\n",
       "      <td>0.000477</td>\n",
       "      <td>-0.022540</td>\n",
       "      <td>0.009405</td>\n",
       "      <td>0.040333</td>\n",
       "      <td>-0.020447</td>\n",
       "      <td>0.045520</td>\n",
       "      <td>0.023352</td>\n",
       "      <td>-0.017174</td>\n",
       "      <td>0.010014</td>\n",
       "      <td>-0.069826</td>\n",
       "      <td>-0.059515</td>\n",
       "      <td>-0.092287</td>\n",
       "      <td>-0.091622</td>\n",
       "      <td>0.019206</td>\n",
       "      <td>0.005870</td>\n",
       "      <td>-0.018610</td>\n",
       "      <td>-0.060086</td>\n",
       "      <td>-0.038735</td>\n",
       "      <td>-0.017726</td>\n",
       "      <td>1.000000</td>\n",
       "      <td>0.553264</td>\n",
       "    </tr>\n",
       "    <tr>\n",
       "      <th>away_rolling_avg_xGA/60_pk</th>\n",
       "      <td>0.029797</td>\n",
       "      <td>-0.000981</td>\n",
       "      <td>0.014767</td>\n",
       "      <td>0.002684</td>\n",
       "      <td>-0.001931</td>\n",
       "      <td>-0.004752</td>\n",
       "      <td>-0.011533</td>\n",
       "      <td>0.069529</td>\n",
       "      <td>-0.058941</td>\n",
       "      <td>0.043764</td>\n",
       "      <td>0.065932</td>\n",
       "      <td>-0.003400</td>\n",
       "      <td>0.045416</td>\n",
       "      <td>-0.139763</td>\n",
       "      <td>-0.077430</td>\n",
       "      <td>-0.158502</td>\n",
       "      <td>-0.171970</td>\n",
       "      <td>-0.032955</td>\n",
       "      <td>0.023739</td>\n",
       "      <td>0.039293</td>\n",
       "      <td>-0.125347</td>\n",
       "      <td>-0.050170</td>\n",
       "      <td>0.004709</td>\n",
       "      <td>0.553264</td>\n",
       "      <td>1.000000</td>\n",
       "    </tr>\n",
       "    <tr>\n",
       "      <th>home_rolling_avg_GF/60_pp</th>\n",
       "      <td>0.040399</td>\n",
       "      <td>0.053446</td>\n",
       "      <td>0.093499</td>\n",
       "      <td>0.053139</td>\n",
       "      <td>0.057763</td>\n",
       "      <td>0.017759</td>\n",
       "      <td>0.065177</td>\n",
       "      <td>0.076821</td>\n",
       "      <td>0.018488</td>\n",
       "      <td>1.000000</td>\n",
       "      <td>0.573099</td>\n",
       "      <td>-0.010840</td>\n",
       "      <td>-0.011740</td>\n",
       "      <td>-0.030485</td>\n",
       "      <td>-0.021750</td>\n",
       "      <td>-0.042365</td>\n",
       "      <td>-0.043315</td>\n",
       "      <td>0.015122</td>\n",
       "      <td>0.006788</td>\n",
       "      <td>0.019626</td>\n",
       "      <td>-0.053296</td>\n",
       "      <td>-0.014750</td>\n",
       "      <td>0.010160</td>\n",
       "      <td>0.045520</td>\n",
       "      <td>0.043764</td>\n",
       "    </tr>\n",
       "    <tr>\n",
       "      <th>home_rolling_avg_SH%</th>\n",
       "      <td>0.058064</td>\n",
       "      <td>-0.030648</td>\n",
       "      <td>0.257545</td>\n",
       "      <td>0.014458</td>\n",
       "      <td>0.025997</td>\n",
       "      <td>0.229973</td>\n",
       "      <td>0.006101</td>\n",
       "      <td>1.000000</td>\n",
       "      <td>-0.093140</td>\n",
       "      <td>0.076821</td>\n",
       "      <td>0.061261</td>\n",
       "      <td>-0.018035</td>\n",
       "      <td>0.040878</td>\n",
       "      <td>0.014863</td>\n",
       "      <td>0.005398</td>\n",
       "      <td>0.005207</td>\n",
       "      <td>-0.000886</td>\n",
       "      <td>-0.006452</td>\n",
       "      <td>-0.007350</td>\n",
       "      <td>0.066213</td>\n",
       "      <td>-0.123348</td>\n",
       "      <td>0.020912</td>\n",
       "      <td>0.063152</td>\n",
       "      <td>0.040333</td>\n",
       "      <td>0.069529</td>\n",
       "    </tr>\n",
       "    <tr>\n",
       "      <th>home_rolling_avg_xGF/60_pp</th>\n",
       "      <td>0.058542</td>\n",
       "      <td>0.151657</td>\n",
       "      <td>0.102682</td>\n",
       "      <td>0.124613</td>\n",
       "      <td>0.104344</td>\n",
       "      <td>-0.046768</td>\n",
       "      <td>0.107141</td>\n",
       "      <td>0.061261</td>\n",
       "      <td>0.033141</td>\n",
       "      <td>0.573099</td>\n",
       "      <td>1.000000</td>\n",
       "      <td>-0.008717</td>\n",
       "      <td>0.033839</td>\n",
       "      <td>-0.040602</td>\n",
       "      <td>0.005280</td>\n",
       "      <td>-0.050041</td>\n",
       "      <td>-0.038892</td>\n",
       "      <td>0.017966</td>\n",
       "      <td>0.031380</td>\n",
       "      <td>0.066046</td>\n",
       "      <td>-0.068777</td>\n",
       "      <td>-0.008726</td>\n",
       "      <td>0.041923</td>\n",
       "      <td>0.023352</td>\n",
       "      <td>0.065932</td>\n",
       "    </tr>\n",
       "    <tr>\n",
       "      <th>home_rolling_avg_GF%</th>\n",
       "      <td>0.092310</td>\n",
       "      <td>0.455975</td>\n",
       "      <td>1.000000</td>\n",
       "      <td>0.498540</td>\n",
       "      <td>0.442410</td>\n",
       "      <td>0.359996</td>\n",
       "      <td>0.288747</td>\n",
       "      <td>0.257545</td>\n",
       "      <td>0.295954</td>\n",
       "      <td>0.093499</td>\n",
       "      <td>0.102682</td>\n",
       "      <td>-0.023576</td>\n",
       "      <td>-0.064860</td>\n",
       "      <td>-0.043360</td>\n",
       "      <td>-0.056993</td>\n",
       "      <td>-0.045624</td>\n",
       "      <td>-0.040305</td>\n",
       "      <td>-0.021152</td>\n",
       "      <td>-0.016232</td>\n",
       "      <td>-0.002341</td>\n",
       "      <td>-0.044296</td>\n",
       "      <td>0.000790</td>\n",
       "      <td>0.001088</td>\n",
       "      <td>0.003113</td>\n",
       "      <td>0.014767</td>\n",
       "    </tr>\n",
       "    <tr>\n",
       "      <th>home_rolling_avg_SV%</th>\n",
       "      <td>0.126069</td>\n",
       "      <td>0.114213</td>\n",
       "      <td>0.295954</td>\n",
       "      <td>0.150790</td>\n",
       "      <td>0.120493</td>\n",
       "      <td>0.026068</td>\n",
       "      <td>0.222218</td>\n",
       "      <td>-0.093140</td>\n",
       "      <td>1.000000</td>\n",
       "      <td>0.018488</td>\n",
       "      <td>0.033141</td>\n",
       "      <td>-0.013941</td>\n",
       "      <td>-0.084442</td>\n",
       "      <td>0.004281</td>\n",
       "      <td>-0.036228</td>\n",
       "      <td>0.003628</td>\n",
       "      <td>-0.002231</td>\n",
       "      <td>-0.004453</td>\n",
       "      <td>-0.010787</td>\n",
       "      <td>-0.122433</td>\n",
       "      <td>0.072275</td>\n",
       "      <td>-0.033292</td>\n",
       "      <td>-0.061564</td>\n",
       "      <td>-0.020447</td>\n",
       "      <td>-0.058941</td>\n",
       "    </tr>\n",
       "    <tr>\n",
       "      <th>home_rolling_avg_HDCF%</th>\n",
       "      <td>0.138492</td>\n",
       "      <td>0.753286</td>\n",
       "      <td>0.442410</td>\n",
       "      <td>0.894397</td>\n",
       "      <td>1.000000</td>\n",
       "      <td>-0.034197</td>\n",
       "      <td>-0.055011</td>\n",
       "      <td>0.025997</td>\n",
       "      <td>0.120493</td>\n",
       "      <td>0.057763</td>\n",
       "      <td>0.104344</td>\n",
       "      <td>-0.081046</td>\n",
       "      <td>-0.163876</td>\n",
       "      <td>-0.033469</td>\n",
       "      <td>0.004385</td>\n",
       "      <td>-0.047846</td>\n",
       "      <td>-0.065079</td>\n",
       "      <td>0.016657</td>\n",
       "      <td>0.010574</td>\n",
       "      <td>-0.009423</td>\n",
       "      <td>-0.002753</td>\n",
       "      <td>-0.007618</td>\n",
       "      <td>0.002293</td>\n",
       "      <td>0.000477</td>\n",
       "      <td>-0.001931</td>\n",
       "    </tr>\n",
       "    <tr>\n",
       "      <th>home_rolling_avg_FF%</th>\n",
       "      <td>0.139747</td>\n",
       "      <td>1.000000</td>\n",
       "      <td>0.455975</td>\n",
       "      <td>0.907868</td>\n",
       "      <td>0.753286</td>\n",
       "      <td>-0.050821</td>\n",
       "      <td>-0.000523</td>\n",
       "      <td>-0.030648</td>\n",
       "      <td>0.114213</td>\n",
       "      <td>0.053446</td>\n",
       "      <td>0.151657</td>\n",
       "      <td>-0.063975</td>\n",
       "      <td>-0.141526</td>\n",
       "      <td>-0.022918</td>\n",
       "      <td>0.005461</td>\n",
       "      <td>-0.028197</td>\n",
       "      <td>-0.032922</td>\n",
       "      <td>0.006499</td>\n",
       "      <td>0.012807</td>\n",
       "      <td>0.002843</td>\n",
       "      <td>0.004838</td>\n",
       "      <td>-0.008675</td>\n",
       "      <td>0.003172</td>\n",
       "      <td>0.000676</td>\n",
       "      <td>-0.000981</td>\n",
       "    </tr>\n",
       "    <tr>\n",
       "      <th>home_rolling_avg_xGF%</th>\n",
       "      <td>0.147875</td>\n",
       "      <td>0.907868</td>\n",
       "      <td>0.498540</td>\n",
       "      <td>1.000000</td>\n",
       "      <td>0.894397</td>\n",
       "      <td>-0.047010</td>\n",
       "      <td>-0.010291</td>\n",
       "      <td>0.014458</td>\n",
       "      <td>0.150790</td>\n",
       "      <td>0.053139</td>\n",
       "      <td>0.124613</td>\n",
       "      <td>-0.081474</td>\n",
       "      <td>-0.161552</td>\n",
       "      <td>-0.030884</td>\n",
       "      <td>0.000321</td>\n",
       "      <td>-0.041938</td>\n",
       "      <td>-0.049372</td>\n",
       "      <td>0.012225</td>\n",
       "      <td>0.009416</td>\n",
       "      <td>-0.004816</td>\n",
       "      <td>0.003774</td>\n",
       "      <td>-0.010418</td>\n",
       "      <td>0.004435</td>\n",
       "      <td>0.006110</td>\n",
       "      <td>0.002684</td>\n",
       "    </tr>\n",
       "    <tr>\n",
       "      <th>Home_Team_Won</th>\n",
       "      <td>1.000000</td>\n",
       "      <td>0.139747</td>\n",
       "      <td>0.092310</td>\n",
       "      <td>0.147875</td>\n",
       "      <td>0.138492</td>\n",
       "      <td>-0.012009</td>\n",
       "      <td>0.015595</td>\n",
       "      <td>0.058064</td>\n",
       "      <td>0.126069</td>\n",
       "      <td>0.040399</td>\n",
       "      <td>0.058542</td>\n",
       "      <td>-0.021420</td>\n",
       "      <td>-0.048948</td>\n",
       "      <td>-0.132448</td>\n",
       "      <td>-0.062597</td>\n",
       "      <td>-0.118746</td>\n",
       "      <td>-0.092547</td>\n",
       "      <td>0.016795</td>\n",
       "      <td>-0.009587</td>\n",
       "      <td>-0.088014</td>\n",
       "      <td>-0.100494</td>\n",
       "      <td>-0.042435</td>\n",
       "      <td>-0.089970</td>\n",
       "      <td>0.025970</td>\n",
       "      <td>0.029797</td>\n",
       "    </tr>\n",
       "  </tbody>\n",
       "</table>\n",
       "</div>"
      ],
      "text/plain": [
       "                            Home_Team_Won  home_rolling_avg_FF%  \\\n",
       "away_rolling_avg_FF%            -0.132448             -0.022918   \n",
       "away_rolling_avg_xGF%           -0.118746             -0.028197   \n",
       "away_rolling_avg_SV%            -0.100494              0.004838   \n",
       "away_rolling_avg_HDCF%          -0.092547             -0.032922   \n",
       "away_rolling_avg_xGF/60_pp      -0.089970              0.003172   \n",
       "away_rolling_avg_SH%            -0.088014              0.002843   \n",
       "away_rolling_avg_GF%            -0.062597              0.005461   \n",
       "home_rolling_avg_xGA/60_pk      -0.048948             -0.141526   \n",
       "away_rolling_avg_GF/60_pp       -0.042435             -0.008675   \n",
       "home_rolling_avg_GA/60_pk       -0.021420             -0.063975   \n",
       "home_rolling_avg_HDSH%          -0.012009             -0.050821   \n",
       "away_rolling_avg_HDSV%          -0.009587              0.012807   \n",
       "home_rolling_avg_HDSV%           0.015595             -0.000523   \n",
       "away_rolling_avg_HDSH%           0.016795              0.006499   \n",
       "away_rolling_avg_GA/60_pk        0.025970              0.000676   \n",
       "away_rolling_avg_xGA/60_pk       0.029797             -0.000981   \n",
       "home_rolling_avg_GF/60_pp        0.040399              0.053446   \n",
       "home_rolling_avg_SH%             0.058064             -0.030648   \n",
       "home_rolling_avg_xGF/60_pp       0.058542              0.151657   \n",
       "home_rolling_avg_GF%             0.092310              0.455975   \n",
       "home_rolling_avg_SV%             0.126069              0.114213   \n",
       "home_rolling_avg_HDCF%           0.138492              0.753286   \n",
       "home_rolling_avg_FF%             0.139747              1.000000   \n",
       "home_rolling_avg_xGF%            0.147875              0.907868   \n",
       "Home_Team_Won                    1.000000              0.139747   \n",
       "\n",
       "                            home_rolling_avg_GF%  home_rolling_avg_xGF%  \\\n",
       "away_rolling_avg_FF%                   -0.043360              -0.030884   \n",
       "away_rolling_avg_xGF%                  -0.045624              -0.041938   \n",
       "away_rolling_avg_SV%                   -0.044296               0.003774   \n",
       "away_rolling_avg_HDCF%                 -0.040305              -0.049372   \n",
       "away_rolling_avg_xGF/60_pp              0.001088               0.004435   \n",
       "away_rolling_avg_SH%                   -0.002341              -0.004816   \n",
       "away_rolling_avg_GF%                   -0.056993               0.000321   \n",
       "home_rolling_avg_xGA/60_pk             -0.064860              -0.161552   \n",
       "away_rolling_avg_GF/60_pp               0.000790              -0.010418   \n",
       "home_rolling_avg_GA/60_pk              -0.023576              -0.081474   \n",
       "home_rolling_avg_HDSH%                  0.359996              -0.047010   \n",
       "away_rolling_avg_HDSV%                 -0.016232               0.009416   \n",
       "home_rolling_avg_HDSV%                  0.288747              -0.010291   \n",
       "away_rolling_avg_HDSH%                 -0.021152               0.012225   \n",
       "away_rolling_avg_GA/60_pk               0.003113               0.006110   \n",
       "away_rolling_avg_xGA/60_pk              0.014767               0.002684   \n",
       "home_rolling_avg_GF/60_pp               0.093499               0.053139   \n",
       "home_rolling_avg_SH%                    0.257545               0.014458   \n",
       "home_rolling_avg_xGF/60_pp              0.102682               0.124613   \n",
       "home_rolling_avg_GF%                    1.000000               0.498540   \n",
       "home_rolling_avg_SV%                    0.295954               0.150790   \n",
       "home_rolling_avg_HDCF%                  0.442410               0.894397   \n",
       "home_rolling_avg_FF%                    0.455975               0.907868   \n",
       "home_rolling_avg_xGF%                   0.498540               1.000000   \n",
       "Home_Team_Won                           0.092310               0.147875   \n",
       "\n",
       "                            home_rolling_avg_HDCF%  home_rolling_avg_HDSH%  \\\n",
       "away_rolling_avg_FF%                     -0.033469                0.019938   \n",
       "away_rolling_avg_xGF%                    -0.047846                0.018074   \n",
       "away_rolling_avg_SV%                     -0.002753               -0.025483   \n",
       "away_rolling_avg_HDCF%                   -0.065079                0.014702   \n",
       "away_rolling_avg_xGF/60_pp                0.002293               -0.017775   \n",
       "away_rolling_avg_SH%                     -0.009423                0.013496   \n",
       "away_rolling_avg_GF%                      0.004385                0.002984   \n",
       "home_rolling_avg_xGA/60_pk               -0.163876                0.007807   \n",
       "away_rolling_avg_GF/60_pp                -0.007618                0.003504   \n",
       "home_rolling_avg_GA/60_pk                -0.081046                0.045689   \n",
       "home_rolling_avg_HDSH%                   -0.034197                1.000000   \n",
       "away_rolling_avg_HDSV%                    0.010574               -0.044813   \n",
       "home_rolling_avg_HDSV%                   -0.055011                0.000359   \n",
       "away_rolling_avg_HDSH%                    0.016657                0.019561   \n",
       "away_rolling_avg_GA/60_pk                 0.000477               -0.022540   \n",
       "away_rolling_avg_xGA/60_pk               -0.001931               -0.004752   \n",
       "home_rolling_avg_GF/60_pp                 0.057763                0.017759   \n",
       "home_rolling_avg_SH%                      0.025997                0.229973   \n",
       "home_rolling_avg_xGF/60_pp                0.104344               -0.046768   \n",
       "home_rolling_avg_GF%                      0.442410                0.359996   \n",
       "home_rolling_avg_SV%                      0.120493                0.026068   \n",
       "home_rolling_avg_HDCF%                    1.000000               -0.034197   \n",
       "home_rolling_avg_FF%                      0.753286               -0.050821   \n",
       "home_rolling_avg_xGF%                     0.894397               -0.047010   \n",
       "Home_Team_Won                             0.138492               -0.012009   \n",
       "\n",
       "                            home_rolling_avg_HDSV%  home_rolling_avg_SH%  \\\n",
       "away_rolling_avg_FF%                     -0.008719              0.014863   \n",
       "away_rolling_avg_xGF%                     0.004605              0.005207   \n",
       "away_rolling_avg_SV%                     -0.009112             -0.123348   \n",
       "away_rolling_avg_HDCF%                    0.017026             -0.000886   \n",
       "away_rolling_avg_xGF/60_pp                0.013862              0.063152   \n",
       "away_rolling_avg_SH%                      0.016442              0.066213   \n",
       "away_rolling_avg_GF%                     -0.017490              0.005398   \n",
       "home_rolling_avg_xGA/60_pk                0.004258              0.040878   \n",
       "away_rolling_avg_GF/60_pp                 0.006592              0.020912   \n",
       "home_rolling_avg_GA/60_pk                -0.010741             -0.018035   \n",
       "home_rolling_avg_HDSH%                    0.000359              0.229973   \n",
       "away_rolling_avg_HDSV%                    0.010122             -0.007350   \n",
       "home_rolling_avg_HDSV%                    1.000000              0.006101   \n",
       "away_rolling_avg_HDSH%                   -0.034603             -0.006452   \n",
       "away_rolling_avg_GA/60_pk                 0.009405              0.040333   \n",
       "away_rolling_avg_xGA/60_pk               -0.011533              0.069529   \n",
       "home_rolling_avg_GF/60_pp                 0.065177              0.076821   \n",
       "home_rolling_avg_SH%                      0.006101              1.000000   \n",
       "home_rolling_avg_xGF/60_pp                0.107141              0.061261   \n",
       "home_rolling_avg_GF%                      0.288747              0.257545   \n",
       "home_rolling_avg_SV%                      0.222218             -0.093140   \n",
       "home_rolling_avg_HDCF%                   -0.055011              0.025997   \n",
       "home_rolling_avg_FF%                     -0.000523             -0.030648   \n",
       "home_rolling_avg_xGF%                    -0.010291              0.014458   \n",
       "Home_Team_Won                             0.015595              0.058064   \n",
       "\n",
       "                            home_rolling_avg_SV%  home_rolling_avg_GF/60_pp  \\\n",
       "away_rolling_avg_FF%                    0.004281                  -0.030485   \n",
       "away_rolling_avg_xGF%                   0.003628                  -0.042365   \n",
       "away_rolling_avg_SV%                    0.072275                  -0.053296   \n",
       "away_rolling_avg_HDCF%                 -0.002231                  -0.043315   \n",
       "away_rolling_avg_xGF/60_pp             -0.061564                   0.010160   \n",
       "away_rolling_avg_SH%                   -0.122433                   0.019626   \n",
       "away_rolling_avg_GF%                   -0.036228                  -0.021750   \n",
       "home_rolling_avg_xGA/60_pk             -0.084442                  -0.011740   \n",
       "away_rolling_avg_GF/60_pp              -0.033292                  -0.014750   \n",
       "home_rolling_avg_GA/60_pk              -0.013941                  -0.010840   \n",
       "home_rolling_avg_HDSH%                  0.026068                   0.017759   \n",
       "away_rolling_avg_HDSV%                 -0.010787                   0.006788   \n",
       "home_rolling_avg_HDSV%                  0.222218                   0.065177   \n",
       "away_rolling_avg_HDSH%                 -0.004453                   0.015122   \n",
       "away_rolling_avg_GA/60_pk              -0.020447                   0.045520   \n",
       "away_rolling_avg_xGA/60_pk             -0.058941                   0.043764   \n",
       "home_rolling_avg_GF/60_pp               0.018488                   1.000000   \n",
       "home_rolling_avg_SH%                   -0.093140                   0.076821   \n",
       "home_rolling_avg_xGF/60_pp              0.033141                   0.573099   \n",
       "home_rolling_avg_GF%                    0.295954                   0.093499   \n",
       "home_rolling_avg_SV%                    1.000000                   0.018488   \n",
       "home_rolling_avg_HDCF%                  0.120493                   0.057763   \n",
       "home_rolling_avg_FF%                    0.114213                   0.053446   \n",
       "home_rolling_avg_xGF%                   0.150790                   0.053139   \n",
       "Home_Team_Won                           0.126069                   0.040399   \n",
       "\n",
       "                            home_rolling_avg_xGF/60_pp  \\\n",
       "away_rolling_avg_FF%                         -0.040602   \n",
       "away_rolling_avg_xGF%                        -0.050041   \n",
       "away_rolling_avg_SV%                         -0.068777   \n",
       "away_rolling_avg_HDCF%                       -0.038892   \n",
       "away_rolling_avg_xGF/60_pp                    0.041923   \n",
       "away_rolling_avg_SH%                          0.066046   \n",
       "away_rolling_avg_GF%                          0.005280   \n",
       "home_rolling_avg_xGA/60_pk                    0.033839   \n",
       "away_rolling_avg_GF/60_pp                    -0.008726   \n",
       "home_rolling_avg_GA/60_pk                    -0.008717   \n",
       "home_rolling_avg_HDSH%                       -0.046768   \n",
       "away_rolling_avg_HDSV%                        0.031380   \n",
       "home_rolling_avg_HDSV%                        0.107141   \n",
       "away_rolling_avg_HDSH%                        0.017966   \n",
       "away_rolling_avg_GA/60_pk                     0.023352   \n",
       "away_rolling_avg_xGA/60_pk                    0.065932   \n",
       "home_rolling_avg_GF/60_pp                     0.573099   \n",
       "home_rolling_avg_SH%                          0.061261   \n",
       "home_rolling_avg_xGF/60_pp                    1.000000   \n",
       "home_rolling_avg_GF%                          0.102682   \n",
       "home_rolling_avg_SV%                          0.033141   \n",
       "home_rolling_avg_HDCF%                        0.104344   \n",
       "home_rolling_avg_FF%                          0.151657   \n",
       "home_rolling_avg_xGF%                         0.124613   \n",
       "Home_Team_Won                                 0.058542   \n",
       "\n",
       "                            home_rolling_avg_GA/60_pk  \\\n",
       "away_rolling_avg_FF%                         0.017835   \n",
       "away_rolling_avg_xGF%                        0.016447   \n",
       "away_rolling_avg_SV%                        -0.009285   \n",
       "away_rolling_avg_HDCF%                       0.009669   \n",
       "away_rolling_avg_xGF/60_pp                   0.060629   \n",
       "away_rolling_avg_SH%                         0.019472   \n",
       "away_rolling_avg_GF%                         0.001299   \n",
       "home_rolling_avg_xGA/60_pk                   0.545955   \n",
       "away_rolling_avg_GF/60_pp                    0.031395   \n",
       "home_rolling_avg_GA/60_pk                    1.000000   \n",
       "home_rolling_avg_HDSH%                       0.045689   \n",
       "away_rolling_avg_HDSV%                       0.017469   \n",
       "home_rolling_avg_HDSV%                      -0.010741   \n",
       "away_rolling_avg_HDSH%                      -0.031021   \n",
       "away_rolling_avg_GA/60_pk                   -0.017174   \n",
       "away_rolling_avg_xGA/60_pk                  -0.003400   \n",
       "home_rolling_avg_GF/60_pp                   -0.010840   \n",
       "home_rolling_avg_SH%                        -0.018035   \n",
       "home_rolling_avg_xGF/60_pp                  -0.008717   \n",
       "home_rolling_avg_GF%                        -0.023576   \n",
       "home_rolling_avg_SV%                        -0.013941   \n",
       "home_rolling_avg_HDCF%                      -0.081046   \n",
       "home_rolling_avg_FF%                        -0.063975   \n",
       "home_rolling_avg_xGF%                       -0.081474   \n",
       "Home_Team_Won                               -0.021420   \n",
       "\n",
       "                            home_rolling_avg_xGA/60_pk  away_rolling_avg_FF%  \\\n",
       "away_rolling_avg_FF%                          0.018918              1.000000   \n",
       "away_rolling_avg_xGF%                         0.010150              0.906226   \n",
       "away_rolling_avg_SV%                         -0.066795              0.140896   \n",
       "away_rolling_avg_HDCF%                        0.001782              0.754219   \n",
       "away_rolling_avg_xGF/60_pp                    0.103541              0.182578   \n",
       "away_rolling_avg_SH%                          0.071246             -0.067895   \n",
       "away_rolling_avg_GF%                          0.001385              0.435680   \n",
       "home_rolling_avg_xGA/60_pk                    1.000000              0.018918   \n",
       "away_rolling_avg_GF/60_pp                     0.056402              0.067817   \n",
       "home_rolling_avg_GA/60_pk                     0.545955              0.017835   \n",
       "home_rolling_avg_HDSH%                        0.007807              0.019938   \n",
       "away_rolling_avg_HDSV%                        0.028727             -0.017516   \n",
       "home_rolling_avg_HDSV%                        0.004258             -0.008719   \n",
       "away_rolling_avg_HDSH%                       -0.050383             -0.035495   \n",
       "away_rolling_avg_GA/60_pk                     0.010014             -0.069826   \n",
       "away_rolling_avg_xGA/60_pk                    0.045416             -0.139763   \n",
       "home_rolling_avg_GF/60_pp                    -0.011740             -0.030485   \n",
       "home_rolling_avg_SH%                          0.040878              0.014863   \n",
       "home_rolling_avg_xGF/60_pp                    0.033839             -0.040602   \n",
       "home_rolling_avg_GF%                         -0.064860             -0.043360   \n",
       "home_rolling_avg_SV%                         -0.084442              0.004281   \n",
       "home_rolling_avg_HDCF%                       -0.163876             -0.033469   \n",
       "home_rolling_avg_FF%                         -0.141526             -0.022918   \n",
       "home_rolling_avg_xGF%                        -0.161552             -0.030884   \n",
       "Home_Team_Won                                -0.048948             -0.132448   \n",
       "\n",
       "                            away_rolling_avg_GF%  away_rolling_avg_xGF%  \\\n",
       "away_rolling_avg_FF%                    0.435680               0.906226   \n",
       "away_rolling_avg_xGF%                   0.481247               1.000000   \n",
       "away_rolling_avg_SV%                    0.283190               0.178621   \n",
       "away_rolling_avg_HDCF%                  0.427690               0.894682   \n",
       "away_rolling_avg_xGF/60_pp              0.118999               0.156776   \n",
       "away_rolling_avg_SH%                    0.226677              -0.018812   \n",
       "away_rolling_avg_GF%                    1.000000               0.481247   \n",
       "home_rolling_avg_xGA/60_pk              0.001385               0.010150   \n",
       "away_rolling_avg_GF/60_pp               0.082401               0.070678   \n",
       "home_rolling_avg_GA/60_pk               0.001299               0.016447   \n",
       "home_rolling_avg_HDSH%                  0.002984               0.018074   \n",
       "away_rolling_avg_HDSV%                  0.307941              -0.035623   \n",
       "home_rolling_avg_HDSV%                 -0.017490               0.004605   \n",
       "away_rolling_avg_HDSH%                  0.369221              -0.038885   \n",
       "away_rolling_avg_GA/60_pk              -0.059515              -0.092287   \n",
       "away_rolling_avg_xGA/60_pk             -0.077430              -0.158502   \n",
       "home_rolling_avg_GF/60_pp              -0.021750              -0.042365   \n",
       "home_rolling_avg_SH%                    0.005398               0.005207   \n",
       "home_rolling_avg_xGF/60_pp              0.005280              -0.050041   \n",
       "home_rolling_avg_GF%                   -0.056993              -0.045624   \n",
       "home_rolling_avg_SV%                   -0.036228               0.003628   \n",
       "home_rolling_avg_HDCF%                  0.004385              -0.047846   \n",
       "home_rolling_avg_FF%                    0.005461              -0.028197   \n",
       "home_rolling_avg_xGF%                   0.000321              -0.041938   \n",
       "Home_Team_Won                          -0.062597              -0.118746   \n",
       "\n",
       "                            away_rolling_avg_HDCF%  away_rolling_avg_HDSH%  \\\n",
       "away_rolling_avg_FF%                      0.754219               -0.035495   \n",
       "away_rolling_avg_xGF%                     0.894682               -0.038885   \n",
       "away_rolling_avg_SV%                      0.142593               -0.020349   \n",
       "away_rolling_avg_HDCF%                    1.000000               -0.024670   \n",
       "away_rolling_avg_xGF/60_pp                0.138930               -0.073656   \n",
       "away_rolling_avg_SH%                      0.006245                0.224317   \n",
       "away_rolling_avg_GF%                      0.427690                0.369221   \n",
       "home_rolling_avg_xGA/60_pk                0.001782               -0.050383   \n",
       "away_rolling_avg_GF/60_pp                 0.077047               -0.005661   \n",
       "home_rolling_avg_GA/60_pk                 0.009669               -0.031021   \n",
       "home_rolling_avg_HDSH%                    0.014702                0.019561   \n",
       "away_rolling_avg_HDSV%                   -0.070937               -0.022656   \n",
       "home_rolling_avg_HDSV%                    0.017026               -0.034603   \n",
       "away_rolling_avg_HDSH%                   -0.024670                1.000000   \n",
       "away_rolling_avg_GA/60_pk                -0.091622                0.019206   \n",
       "away_rolling_avg_xGA/60_pk               -0.171970               -0.032955   \n",
       "home_rolling_avg_GF/60_pp                -0.043315                0.015122   \n",
       "home_rolling_avg_SH%                     -0.000886               -0.006452   \n",
       "home_rolling_avg_xGF/60_pp               -0.038892                0.017966   \n",
       "home_rolling_avg_GF%                     -0.040305               -0.021152   \n",
       "home_rolling_avg_SV%                     -0.002231               -0.004453   \n",
       "home_rolling_avg_HDCF%                   -0.065079                0.016657   \n",
       "home_rolling_avg_FF%                     -0.032922                0.006499   \n",
       "home_rolling_avg_xGF%                    -0.049372                0.012225   \n",
       "Home_Team_Won                            -0.092547                0.016795   \n",
       "\n",
       "                            away_rolling_avg_HDSV%  away_rolling_avg_SH%  \\\n",
       "away_rolling_avg_FF%                     -0.017516             -0.067895   \n",
       "away_rolling_avg_xGF%                    -0.035623             -0.018812   \n",
       "away_rolling_avg_SV%                      0.209797             -0.098712   \n",
       "away_rolling_avg_HDCF%                   -0.070937              0.006245   \n",
       "away_rolling_avg_xGF/60_pp                0.083387              0.052565   \n",
       "away_rolling_avg_SH%                      0.010836              1.000000   \n",
       "away_rolling_avg_GF%                      0.307941              0.226677   \n",
       "home_rolling_avg_xGA/60_pk                0.028727              0.071246   \n",
       "away_rolling_avg_GF/60_pp                 0.046531              0.045501   \n",
       "home_rolling_avg_GA/60_pk                 0.017469              0.019472   \n",
       "home_rolling_avg_HDSH%                   -0.044813              0.013496   \n",
       "away_rolling_avg_HDSV%                    1.000000              0.010836   \n",
       "home_rolling_avg_HDSV%                    0.010122              0.016442   \n",
       "away_rolling_avg_HDSH%                   -0.022656              0.224317   \n",
       "away_rolling_avg_GA/60_pk                 0.005870             -0.018610   \n",
       "away_rolling_avg_xGA/60_pk                0.023739              0.039293   \n",
       "home_rolling_avg_GF/60_pp                 0.006788              0.019626   \n",
       "home_rolling_avg_SH%                     -0.007350              0.066213   \n",
       "home_rolling_avg_xGF/60_pp                0.031380              0.066046   \n",
       "home_rolling_avg_GF%                     -0.016232             -0.002341   \n",
       "home_rolling_avg_SV%                     -0.010787             -0.122433   \n",
       "home_rolling_avg_HDCF%                    0.010574             -0.009423   \n",
       "home_rolling_avg_FF%                      0.012807              0.002843   \n",
       "home_rolling_avg_xGF%                     0.009416             -0.004816   \n",
       "Home_Team_Won                            -0.009587             -0.088014   \n",
       "\n",
       "                            away_rolling_avg_SV%  away_rolling_avg_GF/60_pp  \\\n",
       "away_rolling_avg_FF%                    0.140896                   0.067817   \n",
       "away_rolling_avg_xGF%                   0.178621                   0.070678   \n",
       "away_rolling_avg_SV%                    1.000000                   0.024897   \n",
       "away_rolling_avg_HDCF%                  0.142593                   0.077047   \n",
       "away_rolling_avg_xGF/60_pp              0.028895                   0.580237   \n",
       "away_rolling_avg_SH%                   -0.098712                   0.045501   \n",
       "away_rolling_avg_GF%                    0.283190                   0.082401   \n",
       "home_rolling_avg_xGA/60_pk             -0.066795                   0.056402   \n",
       "away_rolling_avg_GF/60_pp               0.024897                   1.000000   \n",
       "home_rolling_avg_GA/60_pk              -0.009285                   0.031395   \n",
       "home_rolling_avg_HDSH%                 -0.025483                   0.003504   \n",
       "away_rolling_avg_HDSV%                  0.209797                   0.046531   \n",
       "home_rolling_avg_HDSV%                 -0.009112                   0.006592   \n",
       "away_rolling_avg_HDSH%                 -0.020349                  -0.005661   \n",
       "away_rolling_avg_GA/60_pk              -0.060086                  -0.038735   \n",
       "away_rolling_avg_xGA/60_pk             -0.125347                  -0.050170   \n",
       "home_rolling_avg_GF/60_pp              -0.053296                  -0.014750   \n",
       "home_rolling_avg_SH%                   -0.123348                   0.020912   \n",
       "home_rolling_avg_xGF/60_pp             -0.068777                  -0.008726   \n",
       "home_rolling_avg_GF%                   -0.044296                   0.000790   \n",
       "home_rolling_avg_SV%                    0.072275                  -0.033292   \n",
       "home_rolling_avg_HDCF%                 -0.002753                  -0.007618   \n",
       "home_rolling_avg_FF%                    0.004838                  -0.008675   \n",
       "home_rolling_avg_xGF%                   0.003774                  -0.010418   \n",
       "Home_Team_Won                          -0.100494                  -0.042435   \n",
       "\n",
       "                            away_rolling_avg_xGF/60_pp  \\\n",
       "away_rolling_avg_FF%                          0.182578   \n",
       "away_rolling_avg_xGF%                         0.156776   \n",
       "away_rolling_avg_SV%                          0.028895   \n",
       "away_rolling_avg_HDCF%                        0.138930   \n",
       "away_rolling_avg_xGF/60_pp                    1.000000   \n",
       "away_rolling_avg_SH%                          0.052565   \n",
       "away_rolling_avg_GF%                          0.118999   \n",
       "home_rolling_avg_xGA/60_pk                    0.103541   \n",
       "away_rolling_avg_GF/60_pp                     0.580237   \n",
       "home_rolling_avg_GA/60_pk                     0.060629   \n",
       "home_rolling_avg_HDSH%                       -0.017775   \n",
       "away_rolling_avg_HDSV%                        0.083387   \n",
       "home_rolling_avg_HDSV%                        0.013862   \n",
       "away_rolling_avg_HDSH%                       -0.073656   \n",
       "away_rolling_avg_GA/60_pk                    -0.017726   \n",
       "away_rolling_avg_xGA/60_pk                    0.004709   \n",
       "home_rolling_avg_GF/60_pp                     0.010160   \n",
       "home_rolling_avg_SH%                          0.063152   \n",
       "home_rolling_avg_xGF/60_pp                    0.041923   \n",
       "home_rolling_avg_GF%                          0.001088   \n",
       "home_rolling_avg_SV%                         -0.061564   \n",
       "home_rolling_avg_HDCF%                        0.002293   \n",
       "home_rolling_avg_FF%                          0.003172   \n",
       "home_rolling_avg_xGF%                         0.004435   \n",
       "Home_Team_Won                                -0.089970   \n",
       "\n",
       "                            away_rolling_avg_GA/60_pk  \\\n",
       "away_rolling_avg_FF%                        -0.069826   \n",
       "away_rolling_avg_xGF%                       -0.092287   \n",
       "away_rolling_avg_SV%                        -0.060086   \n",
       "away_rolling_avg_HDCF%                      -0.091622   \n",
       "away_rolling_avg_xGF/60_pp                  -0.017726   \n",
       "away_rolling_avg_SH%                        -0.018610   \n",
       "away_rolling_avg_GF%                        -0.059515   \n",
       "home_rolling_avg_xGA/60_pk                   0.010014   \n",
       "away_rolling_avg_GF/60_pp                   -0.038735   \n",
       "home_rolling_avg_GA/60_pk                   -0.017174   \n",
       "home_rolling_avg_HDSH%                      -0.022540   \n",
       "away_rolling_avg_HDSV%                       0.005870   \n",
       "home_rolling_avg_HDSV%                       0.009405   \n",
       "away_rolling_avg_HDSH%                       0.019206   \n",
       "away_rolling_avg_GA/60_pk                    1.000000   \n",
       "away_rolling_avg_xGA/60_pk                   0.553264   \n",
       "home_rolling_avg_GF/60_pp                    0.045520   \n",
       "home_rolling_avg_SH%                         0.040333   \n",
       "home_rolling_avg_xGF/60_pp                   0.023352   \n",
       "home_rolling_avg_GF%                         0.003113   \n",
       "home_rolling_avg_SV%                        -0.020447   \n",
       "home_rolling_avg_HDCF%                       0.000477   \n",
       "home_rolling_avg_FF%                         0.000676   \n",
       "home_rolling_avg_xGF%                        0.006110   \n",
       "Home_Team_Won                                0.025970   \n",
       "\n",
       "                            away_rolling_avg_xGA/60_pk  \n",
       "away_rolling_avg_FF%                         -0.139763  \n",
       "away_rolling_avg_xGF%                        -0.158502  \n",
       "away_rolling_avg_SV%                         -0.125347  \n",
       "away_rolling_avg_HDCF%                       -0.171970  \n",
       "away_rolling_avg_xGF/60_pp                    0.004709  \n",
       "away_rolling_avg_SH%                          0.039293  \n",
       "away_rolling_avg_GF%                         -0.077430  \n",
       "home_rolling_avg_xGA/60_pk                    0.045416  \n",
       "away_rolling_avg_GF/60_pp                    -0.050170  \n",
       "home_rolling_avg_GA/60_pk                    -0.003400  \n",
       "home_rolling_avg_HDSH%                       -0.004752  \n",
       "away_rolling_avg_HDSV%                        0.023739  \n",
       "home_rolling_avg_HDSV%                       -0.011533  \n",
       "away_rolling_avg_HDSH%                       -0.032955  \n",
       "away_rolling_avg_GA/60_pk                     0.553264  \n",
       "away_rolling_avg_xGA/60_pk                    1.000000  \n",
       "home_rolling_avg_GF/60_pp                     0.043764  \n",
       "home_rolling_avg_SH%                          0.069529  \n",
       "home_rolling_avg_xGF/60_pp                    0.065932  \n",
       "home_rolling_avg_GF%                          0.014767  \n",
       "home_rolling_avg_SV%                         -0.058941  \n",
       "home_rolling_avg_HDCF%                       -0.001931  \n",
       "home_rolling_avg_FF%                         -0.000981  \n",
       "home_rolling_avg_xGF%                         0.002684  \n",
       "Home_Team_Won                                 0.029797  "
      ]
     },
     "execution_count": 115,
     "metadata": {},
     "output_type": "execute_result"
    }
   ],
   "source": [
    "# Correlations df as heatmap won't load in jupyter\n",
    "corr_df = modeling_df.corr().sort_values('Home_Team_Won')\n",
    "corr_df"
   ]
  },
  {
   "cell_type": "markdown",
   "id": "6854cbc8",
   "metadata": {},
   "source": [
    "- Shifting stats fixed correlation issues\n",
    "- In future need to look for a better HD type stape\n",
    "- Could also look for better PP and PK metrics to include"
   ]
  },
  {
   "cell_type": "code",
   "execution_count": 19,
   "id": "3f9af8e6",
   "metadata": {},
   "outputs": [
    {
     "name": "stdout",
     "output_type": "stream",
     "text": [
      "<bound method IndexOpsMixin.tolist of Index(['away_rolling_avg_FF%', 'away_rolling_avg_xGF%', 'away_rolling_avg_SV%',\n",
      "       'away_rolling_avg_HDCF%', 'away_rolling_avg_xGF/60_pp',\n",
      "       'away_rolling_avg_SH%', 'away_rolling_avg_GF%',\n",
      "       'home_rolling_avg_xGA/60_pk', 'away_rolling_avg_GF/60_pp',\n",
      "       'home_rolling_avg_GA/60_pk', 'home_rolling_avg_HDSH%',\n",
      "       'away_rolling_avg_HDSV%', 'home_rolling_avg_HDSV%',\n",
      "       'away_rolling_avg_HDSH%', 'away_rolling_avg_GA/60_pk',\n",
      "       'away_rolling_avg_xGA/60_pk', 'home_rolling_avg_GF/60_pp',\n",
      "       'home_rolling_avg_SH%', 'home_rolling_avg_xGF/60_pp',\n",
      "       'home_rolling_avg_GF%', 'home_rolling_avg_SV%',\n",
      "       'home_rolling_avg_HDCF%', 'home_rolling_avg_FF%',\n",
      "       'home_rolling_avg_xGF%', 'Home_Team_Won'],\n",
      "      dtype='object')>\n"
     ]
    }
   ],
   "source": [
    "# Feature list in case we want to grab it later on\n",
    "print(corr_df.index.to_list)"
   ]
  },
  {
   "cell_type": "markdown",
   "id": "9754f552",
   "metadata": {},
   "source": [
    "## Baseline "
   ]
  },
  {
   "cell_type": "markdown",
   "id": "efac59a4",
   "metadata": {},
   "source": [
    "### Naive Choice"
   ]
  },
  {
   "cell_type": "markdown",
   "id": "07226999",
   "metadata": {},
   "source": [
    "Choose the home team to win every time"
   ]
  },
  {
   "cell_type": "code",
   "execution_count": 91,
   "id": "5cb0fe8e",
   "metadata": {},
   "outputs": [
    {
     "data": {
      "text/plain": [
       "1    0.526556\n",
       "0    0.473444\n",
       "Name: Home_Team_Won, dtype: float64"
      ]
     },
     "execution_count": 91,
     "metadata": {},
     "output_type": "execute_result"
    }
   ],
   "source": [
    "# home team win/loss percentage\n",
    "modeling_df['Home_Team_Won'].value_counts(normalize=True)"
   ]
  },
  {
   "cell_type": "code",
   "execution_count": 226,
   "id": "a911dfe1",
   "metadata": {},
   "outputs": [
    {
     "data": {
      "text/plain": [
       "1    0.526556\n",
       "0    0.473444\n",
       "Name: Home_Team_Won, dtype: float64"
      ]
     },
     "execution_count": 226,
     "metadata": {},
     "output_type": "execute_result"
    }
   ],
   "source": [
    "# assign to df for plotting\n",
    "naive_df = modeling_df['Home_Team_Won'].value_counts(normalize=True)\n",
    "naive_df"
   ]
  },
  {
   "cell_type": "code",
   "execution_count": 234,
   "id": "e463a3be",
   "metadata": {},
   "outputs": [
    {
     "data": {
      "image/png": "[encoded data removed]",
      "text/plain": [
       "<Figure size 640x480 with 1 Axes>"
      ]
     },
     "metadata": {},
     "output_type": "display_data"
    }
   ],
   "source": [
    "# plot the naive choice df\n",
    "naive_df = modeling_df['Home_Team_Won'].value_counts(normalize=True) * 100\n",
    "\n",
    "ax = naive_df.plot.bar()\n",
    "plt.title('Home Team Win Percentage', size=20)\n",
    "plt.xlabel('Home Team Won', size=18)\n",
    "ax.set_xticklabels(['Lost', 'Won'])\n",
    "plt.xticks(rotation=0, size=14)\n",
    "plt.ylabel('Percentage', size=18)\n",
    "plt.show()"
   ]
  },
  {
   "cell_type": "markdown",
   "id": "12330781",
   "metadata": {},
   "source": [
    "A naive choice of picking the home team would be correct 52.66% of the time"
   ]
  },
  {
   "cell_type": "code",
   "execution_count": 214,
   "id": "5f8049b3",
   "metadata": {},
   "outputs": [],
   "source": [
    "# Filter the original df to get the training datasets\n",
    "X_train = modeling_df.loc[modeling_df['season_id'].isin(['20192020', '20202021', '20212022'])].drop(['season_id', 'Home_Team_Won'], axis=1)\n",
    "y_train = modeling_df[modeling_df['season_id'].isin(['20192020', '20202021', '20212022'])][['Home_Team_Won']]\n",
    "\n",
    "# Filter the original df to get the testing datasets\n",
    "X_test = modeling_df.loc[modeling_df['season_id'] == '20222023'].drop(['season_id', 'Home_Team_Won'], axis=1)\n",
    "X_test = X_test.iloc[:len(X_test)//2] # First half\n",
    "y_test = modeling_df[modeling_df['season_id'] == '20222023'].head(len(X_test))[['Home_Team_Won']]\n",
    "\n",
    "# Filter the original df to get the val/predict holdout set\n",
    "xval = modeling_df.loc[modeling_df['season_id'] == '20222023'].drop(['season_id', 'Home_Team_Won'], axis=1)\n",
    "xval = xval.iloc[len(xval)//2:] # Second half of 2023 season feature set\n",
    "yval = modeling_df[modeling_df['season_id'] == '20222023'].tail(len(xval))[['Home_Team_Won']] "
   ]
  },
  {
   "cell_type": "code",
   "execution_count": 98,
   "id": "a22580e3",
   "metadata": {},
   "outputs": [
    {
     "name": "stdout",
     "output_type": "stream",
     "text": [
      "(2583, 24)\n",
      "(2583, 1)\n",
      "(572, 24)\n",
      "(572, 1)\n",
      "(573, 24)\n",
      "(573, 1)\n"
     ]
    }
   ],
   "source": [
    "# Check df shapes\n",
    "print(X_train.shape)\n",
    "print(y_train.shape)\n",
    "print(X_test.shape)\n",
    "print(y_test.shape) \n",
    "print(xval.shape)\n",
    "print(yval.shape) \n",
    "\n",
    "# shapes look good besides needing to get rid the target index"
   ]
  },
  {
   "cell_type": "code",
   "execution_count": 100,
   "id": "4980557b",
   "metadata": {},
   "outputs": [],
   "source": [
    "# Ravel the target variable\n",
    "y_train = y_train.to_numpy().ravel()\n",
    "y_test = y_test.to_numpy().ravel()\n",
    "yval = yval.to_numpy().ravel()"
   ]
  },
  {
   "cell_type": "code",
   "execution_count": 101,
   "id": "a6595a37",
   "metadata": {},
   "outputs": [
    {
     "data": {
      "text/plain": [
       "(2583, )"
      ]
     },
     "execution_count": 101,
     "metadata": {},
     "output_type": "execute_result"
    }
   ],
   "source": [
    "# check post raveling shape\n",
    "y_train.shape"
   ]
  },
  {
   "cell_type": "code",
   "execution_count": 102,
   "id": "42c1a521",
   "metadata": {},
   "outputs": [
    {
     "data": {
      "text/html": [
       "<div>\n",
       "<style scoped>\n",
       "    .dataframe tbody tr th:only-of-type {\n",
       "        vertical-align: middle;\n",
       "    }\n",
       "\n",
       "    .dataframe tbody tr th {\n",
       "        vertical-align: top;\n",
       "    }\n",
       "\n",
       "    .dataframe thead th {\n",
       "        text-align: right;\n",
       "    }\n",
       "</style>\n",
       "<table border=\"1\" class=\"dataframe\">\n",
       "  <thead>\n",
       "    <tr style=\"text-align: right;\">\n",
       "      <th></th>\n",
       "      <th>home_rolling_avg_FF%</th>\n",
       "      <th>home_rolling_avg_GF%</th>\n",
       "      <th>home_rolling_avg_xGF%</th>\n",
       "      <th>home_rolling_avg_HDCF%</th>\n",
       "      <th>home_rolling_avg_HDSH%</th>\n",
       "      <th>home_rolling_avg_HDSV%</th>\n",
       "      <th>home_rolling_avg_SH%</th>\n",
       "      <th>home_rolling_avg_SV%</th>\n",
       "      <th>home_rolling_avg_GF/60_pp</th>\n",
       "      <th>home_rolling_avg_xGF/60_pp</th>\n",
       "      <th>home_rolling_avg_GA/60_pk</th>\n",
       "      <th>home_rolling_avg_xGA/60_pk</th>\n",
       "      <th>away_rolling_avg_FF%</th>\n",
       "      <th>away_rolling_avg_GF%</th>\n",
       "      <th>away_rolling_avg_xGF%</th>\n",
       "      <th>away_rolling_avg_HDCF%</th>\n",
       "      <th>away_rolling_avg_HDSH%</th>\n",
       "      <th>away_rolling_avg_HDSV%</th>\n",
       "      <th>away_rolling_avg_SH%</th>\n",
       "      <th>away_rolling_avg_SV%</th>\n",
       "      <th>away_rolling_avg_GF/60_pp</th>\n",
       "      <th>away_rolling_avg_xGF/60_pp</th>\n",
       "      <th>away_rolling_avg_GA/60_pk</th>\n",
       "      <th>away_rolling_avg_xGA/60_pk</th>\n",
       "    </tr>\n",
       "  </thead>\n",
       "  <tbody>\n",
       "    <tr>\n",
       "      <th>2583</th>\n",
       "      <td>49.735</td>\n",
       "      <td>32.491</td>\n",
       "      <td>48.908</td>\n",
       "      <td>49.169</td>\n",
       "      <td>22.159</td>\n",
       "      <td>78.927</td>\n",
       "      <td>85.867105</td>\n",
       "      <td>921.038684</td>\n",
       "      <td>9.441</td>\n",
       "      <td>7.785</td>\n",
       "      <td>72.832</td>\n",
       "      <td>11.715</td>\n",
       "      <td>48.947</td>\n",
       "      <td>47.053</td>\n",
       "      <td>47.742</td>\n",
       "      <td>41.625</td>\n",
       "      <td>28.125</td>\n",
       "      <td>85.481</td>\n",
       "      <td>85.716203</td>\n",
       "      <td>900.714684</td>\n",
       "      <td>8.508</td>\n",
       "      <td>8.636</td>\n",
       "      <td>7.972</td>\n",
       "      <td>10.871</td>\n",
       "    </tr>\n",
       "    <tr>\n",
       "      <th>2584</th>\n",
       "      <td>48.479</td>\n",
       "      <td>42.886</td>\n",
       "      <td>46.365</td>\n",
       "      <td>40.669</td>\n",
       "      <td>23.827</td>\n",
       "      <td>87.750</td>\n",
       "      <td>85.716203</td>\n",
       "      <td>900.714684</td>\n",
       "      <td>8.508</td>\n",
       "      <td>8.776</td>\n",
       "      <td>6.555</td>\n",
       "      <td>10.918</td>\n",
       "      <td>48.374</td>\n",
       "      <td>39.889</td>\n",
       "      <td>47.923</td>\n",
       "      <td>49.545</td>\n",
       "      <td>23.219</td>\n",
       "      <td>78.927</td>\n",
       "      <td>85.867105</td>\n",
       "      <td>921.038684</td>\n",
       "      <td>9.441</td>\n",
       "      <td>8.654</td>\n",
       "      <td>72.832</td>\n",
       "      <td>12.441</td>\n",
       "    </tr>\n",
       "    <tr>\n",
       "      <th>2585</th>\n",
       "      <td>49.208</td>\n",
       "      <td>60.336</td>\n",
       "      <td>48.697</td>\n",
       "      <td>51.544</td>\n",
       "      <td>19.258</td>\n",
       "      <td>85.646</td>\n",
       "      <td>86.972564</td>\n",
       "      <td>919.498718</td>\n",
       "      <td>19.933</td>\n",
       "      <td>14.413</td>\n",
       "      <td>18.013</td>\n",
       "      <td>13.890</td>\n",
       "      <td>50.242</td>\n",
       "      <td>54.916</td>\n",
       "      <td>51.354</td>\n",
       "      <td>51.701</td>\n",
       "      <td>16.677</td>\n",
       "      <td>80.485</td>\n",
       "      <td>94.467733</td>\n",
       "      <td>916.294933</td>\n",
       "      <td>20.109</td>\n",
       "      <td>10.755</td>\n",
       "      <td>13.700</td>\n",
       "      <td>7.023</td>\n",
       "    </tr>\n",
       "    <tr>\n",
       "      <th>2586</th>\n",
       "      <td>57.887</td>\n",
       "      <td>60.797</td>\n",
       "      <td>56.150</td>\n",
       "      <td>53.416</td>\n",
       "      <td>20.879</td>\n",
       "      <td>84.844</td>\n",
       "      <td>75.363457</td>\n",
       "      <td>907.509753</td>\n",
       "      <td>2.384</td>\n",
       "      <td>6.310</td>\n",
       "      <td>13.079</td>\n",
       "      <td>7.193</td>\n",
       "      <td>55.063</td>\n",
       "      <td>52.587</td>\n",
       "      <td>53.010</td>\n",
       "      <td>53.342</td>\n",
       "      <td>10.801</td>\n",
       "      <td>78.564</td>\n",
       "      <td>77.844487</td>\n",
       "      <td>918.238462</td>\n",
       "      <td>14.194</td>\n",
       "      <td>13.521</td>\n",
       "      <td>8.787</td>\n",
       "      <td>6.820</td>\n",
       "    </tr>\n",
       "    <tr>\n",
       "      <th>2587</th>\n",
       "      <td>54.878</td>\n",
       "      <td>54.828</td>\n",
       "      <td>53.214</td>\n",
       "      <td>51.301</td>\n",
       "      <td>18.036</td>\n",
       "      <td>83.604</td>\n",
       "      <td>83.180380</td>\n",
       "      <td>914.091266</td>\n",
       "      <td>9.506</td>\n",
       "      <td>6.588</td>\n",
       "      <td>9.466</td>\n",
       "      <td>6.175</td>\n",
       "      <td>58.396</td>\n",
       "      <td>60.561</td>\n",
       "      <td>59.474</td>\n",
       "      <td>56.382</td>\n",
       "      <td>20.807</td>\n",
       "      <td>87.330</td>\n",
       "      <td>79.179398</td>\n",
       "      <td>923.919639</td>\n",
       "      <td>8.031</td>\n",
       "      <td>9.234</td>\n",
       "      <td>13.018</td>\n",
       "      <td>10.455</td>\n",
       "    </tr>\n",
       "    <tr>\n",
       "      <th>...</th>\n",
       "      <td>...</td>\n",
       "      <td>...</td>\n",
       "      <td>...</td>\n",
       "      <td>...</td>\n",
       "      <td>...</td>\n",
       "      <td>...</td>\n",
       "      <td>...</td>\n",
       "      <td>...</td>\n",
       "      <td>...</td>\n",
       "      <td>...</td>\n",
       "      <td>...</td>\n",
       "      <td>...</td>\n",
       "      <td>...</td>\n",
       "      <td>...</td>\n",
       "      <td>...</td>\n",
       "      <td>...</td>\n",
       "      <td>...</td>\n",
       "      <td>...</td>\n",
       "      <td>...</td>\n",
       "      <td>...</td>\n",
       "      <td>...</td>\n",
       "      <td>...</td>\n",
       "      <td>...</td>\n",
       "      <td>...</td>\n",
       "    </tr>\n",
       "    <tr>\n",
       "      <th>3150</th>\n",
       "      <td>49.166</td>\n",
       "      <td>45.327</td>\n",
       "      <td>51.517</td>\n",
       "      <td>57.405</td>\n",
       "      <td>19.022</td>\n",
       "      <td>78.673</td>\n",
       "      <td>85.716203</td>\n",
       "      <td>900.714684</td>\n",
       "      <td>14.717</td>\n",
       "      <td>7.732</td>\n",
       "      <td>8.503</td>\n",
       "      <td>6.856</td>\n",
       "      <td>47.900</td>\n",
       "      <td>45.801</td>\n",
       "      <td>44.980</td>\n",
       "      <td>44.280</td>\n",
       "      <td>15.054</td>\n",
       "      <td>79.283</td>\n",
       "      <td>85.357089</td>\n",
       "      <td>911.394430</td>\n",
       "      <td>6.289</td>\n",
       "      <td>3.579</td>\n",
       "      <td>9.051</td>\n",
       "      <td>6.079</td>\n",
       "    </tr>\n",
       "    <tr>\n",
       "      <th>3151</th>\n",
       "      <td>39.367</td>\n",
       "      <td>27.818</td>\n",
       "      <td>38.477</td>\n",
       "      <td>33.910</td>\n",
       "      <td>16.775</td>\n",
       "      <td>77.629</td>\n",
       "      <td>82.138816</td>\n",
       "      <td>904.488684</td>\n",
       "      <td>6.575</td>\n",
       "      <td>6.060</td>\n",
       "      <td>6.021</td>\n",
       "      <td>11.031</td>\n",
       "      <td>47.571</td>\n",
       "      <td>44.887</td>\n",
       "      <td>47.900</td>\n",
       "      <td>48.752</td>\n",
       "      <td>7.886</td>\n",
       "      <td>90.607</td>\n",
       "      <td>85.867105</td>\n",
       "      <td>921.038684</td>\n",
       "      <td>6.214</td>\n",
       "      <td>6.832</td>\n",
       "      <td>18.593</td>\n",
       "      <td>11.883</td>\n",
       "    </tr>\n",
       "    <tr>\n",
       "      <th>3152</th>\n",
       "      <td>47.871</td>\n",
       "      <td>37.887</td>\n",
       "      <td>48.797</td>\n",
       "      <td>47.587</td>\n",
       "      <td>14.872</td>\n",
       "      <td>84.978</td>\n",
       "      <td>81.882278</td>\n",
       "      <td>921.907468</td>\n",
       "      <td>19.877</td>\n",
       "      <td>10.827</td>\n",
       "      <td>2.215</td>\n",
       "      <td>6.571</td>\n",
       "      <td>55.709</td>\n",
       "      <td>42.178</td>\n",
       "      <td>54.581</td>\n",
       "      <td>55.290</td>\n",
       "      <td>9.622</td>\n",
       "      <td>82.393</td>\n",
       "      <td>91.066104</td>\n",
       "      <td>904.576753</td>\n",
       "      <td>10.453</td>\n",
       "      <td>7.332</td>\n",
       "      <td>10.708</td>\n",
       "      <td>8.438</td>\n",
       "    </tr>\n",
       "    <tr>\n",
       "      <th>3153</th>\n",
       "      <td>59.889</td>\n",
       "      <td>62.998</td>\n",
       "      <td>64.091</td>\n",
       "      <td>64.046</td>\n",
       "      <td>16.998</td>\n",
       "      <td>85.923</td>\n",
       "      <td>82.596835</td>\n",
       "      <td>919.507089</td>\n",
       "      <td>5.847</td>\n",
       "      <td>7.321</td>\n",
       "      <td>5.330</td>\n",
       "      <td>6.263</td>\n",
       "      <td>49.287</td>\n",
       "      <td>57.996</td>\n",
       "      <td>49.618</td>\n",
       "      <td>53.461</td>\n",
       "      <td>17.200</td>\n",
       "      <td>91.010</td>\n",
       "      <td>85.016456</td>\n",
       "      <td>913.905316</td>\n",
       "      <td>8.430</td>\n",
       "      <td>9.284</td>\n",
       "      <td>11.831</td>\n",
       "      <td>8.231</td>\n",
       "    </tr>\n",
       "    <tr>\n",
       "      <th>3154</th>\n",
       "      <td>53.676</td>\n",
       "      <td>56.148</td>\n",
       "      <td>50.922</td>\n",
       "      <td>48.652</td>\n",
       "      <td>18.206</td>\n",
       "      <td>84.282</td>\n",
       "      <td>90.681867</td>\n",
       "      <td>911.718400</td>\n",
       "      <td>0.601</td>\n",
       "      <td>4.530</td>\n",
       "      <td>12.438</td>\n",
       "      <td>10.295</td>\n",
       "      <td>51.532</td>\n",
       "      <td>45.265</td>\n",
       "      <td>53.597</td>\n",
       "      <td>55.044</td>\n",
       "      <td>13.362</td>\n",
       "      <td>82.704</td>\n",
       "      <td>83.924250</td>\n",
       "      <td>915.772000</td>\n",
       "      <td>28.364</td>\n",
       "      <td>13.985</td>\n",
       "      <td>9.261</td>\n",
       "      <td>10.245</td>\n",
       "    </tr>\n",
       "  </tbody>\n",
       "</table>\n",
       "<p>572 rows × 24 columns</p>\n",
       "</div>"
      ],
      "text/plain": [
       "      home_rolling_avg_FF%  home_rolling_avg_GF%  home_rolling_avg_xGF%  \\\n",
       "2583                49.735                32.491                 48.908   \n",
       "2584                48.479                42.886                 46.365   \n",
       "2585                49.208                60.336                 48.697   \n",
       "2586                57.887                60.797                 56.150   \n",
       "2587                54.878                54.828                 53.214   \n",
       "...                    ...                   ...                    ...   \n",
       "3150                49.166                45.327                 51.517   \n",
       "3151                39.367                27.818                 38.477   \n",
       "3152                47.871                37.887                 48.797   \n",
       "3153                59.889                62.998                 64.091   \n",
       "3154                53.676                56.148                 50.922   \n",
       "\n",
       "      home_rolling_avg_HDCF%  home_rolling_avg_HDSH%  home_rolling_avg_HDSV%  \\\n",
       "2583                  49.169                  22.159                  78.927   \n",
       "2584                  40.669                  23.827                  87.750   \n",
       "2585                  51.544                  19.258                  85.646   \n",
       "2586                  53.416                  20.879                  84.844   \n",
       "2587                  51.301                  18.036                  83.604   \n",
       "...                      ...                     ...                     ...   \n",
       "3150                  57.405                  19.022                  78.673   \n",
       "3151                  33.910                  16.775                  77.629   \n",
       "3152                  47.587                  14.872                  84.978   \n",
       "3153                  64.046                  16.998                  85.923   \n",
       "3154                  48.652                  18.206                  84.282   \n",
       "\n",
       "      home_rolling_avg_SH%  home_rolling_avg_SV%  home_rolling_avg_GF/60_pp  \\\n",
       "2583             85.867105            921.038684                      9.441   \n",
       "2584             85.716203            900.714684                      8.508   \n",
       "2585             86.972564            919.498718                     19.933   \n",
       "2586             75.363457            907.509753                      2.384   \n",
       "2587             83.180380            914.091266                      9.506   \n",
       "...                    ...                   ...                        ...   \n",
       "3150             85.716203            900.714684                     14.717   \n",
       "3151             82.138816            904.488684                      6.575   \n",
       "3152             81.882278            921.907468                     19.877   \n",
       "3153             82.596835            919.507089                      5.847   \n",
       "3154             90.681867            911.718400                      0.601   \n",
       "\n",
       "      home_rolling_avg_xGF/60_pp  home_rolling_avg_GA/60_pk  \\\n",
       "2583                       7.785                     72.832   \n",
       "2584                       8.776                      6.555   \n",
       "2585                      14.413                     18.013   \n",
       "2586                       6.310                     13.079   \n",
       "2587                       6.588                      9.466   \n",
       "...                          ...                        ...   \n",
       "3150                       7.732                      8.503   \n",
       "3151                       6.060                      6.021   \n",
       "3152                      10.827                      2.215   \n",
       "3153                       7.321                      5.330   \n",
       "3154                       4.530                     12.438   \n",
       "\n",
       "      home_rolling_avg_xGA/60_pk  away_rolling_avg_FF%  away_rolling_avg_GF%  \\\n",
       "2583                      11.715                48.947                47.053   \n",
       "2584                      10.918                48.374                39.889   \n",
       "2585                      13.890                50.242                54.916   \n",
       "2586                       7.193                55.063                52.587   \n",
       "2587                       6.175                58.396                60.561   \n",
       "...                          ...                   ...                   ...   \n",
       "3150                       6.856                47.900                45.801   \n",
       "3151                      11.031                47.571                44.887   \n",
       "3152                       6.571                55.709                42.178   \n",
       "3153                       6.263                49.287                57.996   \n",
       "3154                      10.295                51.532                45.265   \n",
       "\n",
       "      away_rolling_avg_xGF%  away_rolling_avg_HDCF%  away_rolling_avg_HDSH%  \\\n",
       "2583                 47.742                  41.625                  28.125   \n",
       "2584                 47.923                  49.545                  23.219   \n",
       "2585                 51.354                  51.701                  16.677   \n",
       "2586                 53.010                  53.342                  10.801   \n",
       "2587                 59.474                  56.382                  20.807   \n",
       "...                     ...                     ...                     ...   \n",
       "3150                 44.980                  44.280                  15.054   \n",
       "3151                 47.900                  48.752                   7.886   \n",
       "3152                 54.581                  55.290                   9.622   \n",
       "3153                 49.618                  53.461                  17.200   \n",
       "3154                 53.597                  55.044                  13.362   \n",
       "\n",
       "      away_rolling_avg_HDSV%  away_rolling_avg_SH%  away_rolling_avg_SV%  \\\n",
       "2583                  85.481             85.716203            900.714684   \n",
       "2584                  78.927             85.867105            921.038684   \n",
       "2585                  80.485             94.467733            916.294933   \n",
       "2586                  78.564             77.844487            918.238462   \n",
       "2587                  87.330             79.179398            923.919639   \n",
       "...                      ...                   ...                   ...   \n",
       "3150                  79.283             85.357089            911.394430   \n",
       "3151                  90.607             85.867105            921.038684   \n",
       "3152                  82.393             91.066104            904.576753   \n",
       "3153                  91.010             85.016456            913.905316   \n",
       "3154                  82.704             83.924250            915.772000   \n",
       "\n",
       "      away_rolling_avg_GF/60_pp  away_rolling_avg_xGF/60_pp  \\\n",
       "2583                      8.508                       8.636   \n",
       "2584                      9.441                       8.654   \n",
       "2585                     20.109                      10.755   \n",
       "2586                     14.194                      13.521   \n",
       "2587                      8.031                       9.234   \n",
       "...                         ...                         ...   \n",
       "3150                      6.289                       3.579   \n",
       "3151                      6.214                       6.832   \n",
       "3152                     10.453                       7.332   \n",
       "3153                      8.430                       9.284   \n",
       "3154                     28.364                      13.985   \n",
       "\n",
       "      away_rolling_avg_GA/60_pk  away_rolling_avg_xGA/60_pk  \n",
       "2583                      7.972                      10.871  \n",
       "2584                     72.832                      12.441  \n",
       "2585                     13.700                       7.023  \n",
       "2586                      8.787                       6.820  \n",
       "2587                     13.018                      10.455  \n",
       "...                         ...                         ...  \n",
       "3150                      9.051                       6.079  \n",
       "3151                     18.593                      11.883  \n",
       "3152                     10.708                       8.438  \n",
       "3153                     11.831                       8.231  \n",
       "3154                      9.261                      10.245  \n",
       "\n",
       "[572 rows x 24 columns]"
      ]
     },
     "execution_count": 102,
     "metadata": {},
     "output_type": "execute_result"
    }
   ],
   "source": [
    "#check testing feature df\n",
    "X_test"
   ]
  },
  {
   "cell_type": "markdown",
   "id": "3c06972d",
   "metadata": {},
   "source": [
    "- Currently we don't have any categorical features\n",
    "    - will leave the code for categorical features in in case it's needed in the future\n",
    "    - pipeline will be instantiated with one hot encoder and max absolute scaling\n",
    " - numeric feratures will be standard scaled"
   ]
  },
  {
   "cell_type": "code",
   "execution_count": 103,
   "id": "f7d886f0",
   "metadata": {},
   "outputs": [],
   "source": [
    "# Assign ints and floats to num_features for pipeline\n",
    "num_features = X_train.select_dtypes(['int', 'float']).columns\n",
    "# assign object features to cat_features for pipeline\n",
    "cat_features = X_train.select_dtypes(['object']).columns # no cat features currently fyi"
   ]
  },
  {
   "cell_type": "code",
   "execution_count": 125,
   "id": "db03475f",
   "metadata": {},
   "outputs": [],
   "source": [
    "# Establish pipelines for each feature type\n",
    "numeric_pipeline = Pipeline([('ss', StandardScaler())])\n",
    "\n",
    "nominal_pipeline = Pipeline([\n",
    "    ('onehotenc', OneHotEncoder(handle_unknown = 'ignore')), \n",
    "    ('onehotnorm', MaxAbsScaler())])\n",
    "\n",
    "# declare scoring metric list\n",
    "scoring = ['neg_log_loss', 'accuracy']\n",
    "\n",
    "# declare random stame value\n",
    "rnd = 42"
   ]
  },
  {
   "cell_type": "code",
   "execution_count": 126,
   "id": "86ea95a5",
   "metadata": {},
   "outputs": [],
   "source": [
    "# Instantiate the column transformer \n",
    "ct = ColumnTransformer(transformers=\n",
    "    [(\"numpipe\", numeric_pipeline, num_features),\n",
    "     (\"nominalpipe\", nominal_pipeline, cat_features)])"
   ]
  },
  {
   "cell_type": "markdown",
   "id": "db2afa1a",
   "metadata": {},
   "source": [
    "### Basic Logistic Regression"
   ]
  },
  {
   "cell_type": "code",
   "execution_count": 47,
   "id": "3877e38d",
   "metadata": {},
   "outputs": [],
   "source": [
    "# build baseline log reg pipepline \n",
    "steps = [('preprocess', ct), \n",
    "         ('logreg', LogisticRegression(random_state = rnd, max_iter=10000))]\n",
    "\n",
    "base_log_reg_pipeline = Pipeline(steps)\n",
    "\n",
    "base_log_reg_pipeline.fit(X_train, y_train)\n",
    "\n",
    "# Predict using the pipeline \n",
    "base_log_y_pred = base_log_reg_pipeline.predict(X_test)"
   ]
  },
  {
   "cell_type": "code",
   "execution_count": 48,
   "id": "7a317409",
   "metadata": {},
   "outputs": [
    {
     "name": "stdout",
     "output_type": "stream",
     "text": [
      "Test accuracy: 0.579\n",
      "Test F1 score: 0.577\n",
      "Test AUC-ROC score: 0.621\n",
      "Test log loss score: 0.665\n"
     ]
    }
   ],
   "source": [
    "# code block for getting scores, just need to change the pred and prob_a var for each metric line\n",
    "# Evaluate the accuracy of the predictions\n",
    "accuracy = accuracy_score(y_test, base_log_y_pred)\n",
    "print(f'Test accuracy: {accuracy:.3f}')\n",
    "\n",
    "# Calculate the F1 score for the test set\n",
    "f1 = f1_score(y_test, base_log_y_pred,average='macro')\n",
    "print(f'Test F1 score: {f1:.3f}')\n",
    "\n",
    "# Calculate the AUC-ROC score for the test set\n",
    "auc_roc = roc_auc_score(y_test, base_log_reg_pipeline.predict_proba(X_test)[:, 1])\n",
    "print(f'Test AUC-ROC score: {auc_roc:.3f}')\n",
    "\n",
    "# Calculate the Log Loss score for the test set\n",
    "log_loss_score = log_loss(y_test, base_log_reg_pipeline.predict_proba(X_test)[:, 1])\n",
    "print(f'Test log loss score: {log_loss_score:.3f}')"
   ]
  },
  {
   "cell_type": "code",
   "execution_count": 49,
   "id": "196c1e5f",
   "metadata": {},
   "outputs": [
    {
     "data": {
      "image/png": "[encoded data removed]",
      "text/plain": [
       "<Figure size 640x480 with 2 Axes>"
      ]
     },
     "metadata": {},
     "output_type": "display_data"
    },
    {
     "name": "stdout",
     "output_type": "stream",
     "text": [
      "Classification report:\n",
      "              precision    recall  f1-score   support\n",
      "\n",
      "           0       0.56      0.55      0.55       272\n",
      "           1       0.60      0.61      0.60       300\n",
      "\n",
      "    accuracy                           0.58       572\n",
      "   macro avg       0.58      0.58      0.58       572\n",
      "weighted avg       0.58      0.58      0.58       572\n",
      "\n",
      "Test log loss score: 0.665\n",
      "Test AUC-ROC score: 0.621\n"
     ]
    }
   ],
   "source": [
    "# Alternately we can just next the classification report and scores underneath the confusion matrix in this single block\n",
    "\n",
    "# Calculate the confusion matrix\n",
    "label_names = ['0: Away Team Win', '1: Home Team Win']\n",
    "cm = confusion_matrix(y_test, base_log_y_pred)\n",
    "\n",
    "# Plot the confusion matrix\n",
    "disp = ConfusionMatrixDisplay(confusion_matrix=cm, display_labels=label_names)\n",
    "disp.plot()\n",
    "plt.show()\n",
    "\n",
    "# Calculate and print the classification report\n",
    "report = classification_report(y_test, base_log_y_pred)\n",
    "print(f'Classification report:\\n{report}')\n",
    "# Calculate the Log Loss score for the test set\n",
    "log_loss_score = log_loss(y_test, base_log_reg_pipeline.predict_proba(X_test)[:, 1])\n",
    "print(f'Test log loss score: {log_loss_score:.3f}')# Calculate the AUC-ROC score for the test set\n",
    "# Calculate the AUC-ROC score for the test set\n",
    "auc_roc = roc_auc_score(y_test, base_log_reg_pipeline.predict_proba(X_test)[:, 1])\n",
    "print(f'Test AUC-ROC score: {auc_roc:.3f}')"
   ]
  },
  {
   "cell_type": "markdown",
   "id": "0d389f2e",
   "metadata": {},
   "source": [
    "## Model Grid Searches"
   ]
  },
  {
   "cell_type": "markdown",
   "id": "e4e7387d",
   "metadata": {},
   "source": [
    "### Logistic Regression Grid Search"
   ]
  },
  {
   "cell_type": "code",
   "execution_count": 50,
   "id": "2e0fc8bd",
   "metadata": {},
   "outputs": [],
   "source": [
    "# set up grid search\n",
    "# pipeline steps remain the same\n",
    "steps = [('preprocess', ct), \n",
    "         ('logreg', LogisticRegression(random_state=42, max_iter=10000))]\n",
    "\n",
    "log_cv_pipeline = Pipeline(steps)\n",
    "\n",
    "log_cv_params = {'logreg__solver' : ['liblinear', 'lbfgs', 'newton-cg'],\n",
    "                'logreg__penalty': ['None', 'l1', 'l2'],\n",
    "                'logreg__C': [0.1, 10, 20, 100],\n",
    "                'logreg__class_weight': [None] }\n",
    "\n",
    "log_cv = GridSearchCV(log_cv_pipeline, param_grid=log_cv_params, cv=5, scoring=scoring, \n",
    "                      refit = 'neg_log_loss', verbose=1)"
   ]
  },
  {
   "cell_type": "markdown",
   "id": "0b91a53f",
   "metadata": {},
   "source": [
    "while some params are not compatible with each other, the below cv will still run and provide results for "
   ]
  },
  {
   "cell_type": "code",
   "execution_count": 51,
   "id": "36f2bded",
   "metadata": {},
   "outputs": [
    {
     "name": "stdout",
     "output_type": "stream",
     "text": [
      "Fitting 5 folds for each of 36 candidates, totalling 180 fits\n"
     ]
    },
    {
     "name": "stderr",
     "output_type": "stream",
     "text": [
      "/Users/jamesbenasuli/miniforge3/envs/tf-env/lib/python3.8/site-packages/sklearn/model_selection/_validation.py:378: FitFailedWarning: \n",
      "100 fits failed out of a total of 180.\n",
      "The score on these train-test partitions for these parameters will be set to nan.\n",
      "If these failures are not expected, you can try to debug them by setting error_score='raise'.\n",
      "\n",
      "Below are more details about the failures:\n",
      "--------------------------------------------------------------------------------\n",
      "60 fits failed with the following error:\n",
      "Traceback (most recent call last):\n",
      "  File \"/Users/jamesbenasuli/miniforge3/envs/tf-env/lib/python3.8/site-packages/sklearn/model_selection/_validation.py\", line 686, in _fit_and_score\n",
      "    estimator.fit(X_train, y_train, **fit_params)\n",
      "  File \"/Users/jamesbenasuli/miniforge3/envs/tf-env/lib/python3.8/site-packages/sklearn/pipeline.py\", line 405, in fit\n",
      "    self._final_estimator.fit(Xt, y, **fit_params_last_step)\n",
      "  File \"/Users/jamesbenasuli/miniforge3/envs/tf-env/lib/python3.8/site-packages/sklearn/linear_model/_logistic.py\", line 1160, in fit\n",
      "    self._validate_params()\n",
      "  File \"/Users/jamesbenasuli/miniforge3/envs/tf-env/lib/python3.8/site-packages/sklearn/base.py\", line 600, in _validate_params\n",
      "    validate_parameter_constraints(\n",
      "  File \"/Users/jamesbenasuli/miniforge3/envs/tf-env/lib/python3.8/site-packages/sklearn/utils/_param_validation.py\", line 97, in validate_parameter_constraints\n",
      "    raise InvalidParameterError(\n",
      "sklearn.utils._param_validation.InvalidParameterError: The 'penalty' parameter of LogisticRegression must be a str among {'l1', 'none' (deprecated), 'l2', 'elasticnet'} or None. Got 'None' instead.\n",
      "\n",
      "--------------------------------------------------------------------------------\n",
      "20 fits failed with the following error:\n",
      "Traceback (most recent call last):\n",
      "  File \"/Users/jamesbenasuli/miniforge3/envs/tf-env/lib/python3.8/site-packages/sklearn/model_selection/_validation.py\", line 686, in _fit_and_score\n",
      "    estimator.fit(X_train, y_train, **fit_params)\n",
      "  File \"/Users/jamesbenasuli/miniforge3/envs/tf-env/lib/python3.8/site-packages/sklearn/pipeline.py\", line 405, in fit\n",
      "    self._final_estimator.fit(Xt, y, **fit_params_last_step)\n",
      "  File \"/Users/jamesbenasuli/miniforge3/envs/tf-env/lib/python3.8/site-packages/sklearn/linear_model/_logistic.py\", line 1162, in fit\n",
      "    solver = _check_solver(self.solver, self.penalty, self.dual)\n",
      "  File \"/Users/jamesbenasuli/miniforge3/envs/tf-env/lib/python3.8/site-packages/sklearn/linear_model/_logistic.py\", line 54, in _check_solver\n",
      "    raise ValueError(\n",
      "ValueError: Solver lbfgs supports only 'l2' or 'none' penalties, got l1 penalty.\n",
      "\n",
      "--------------------------------------------------------------------------------\n",
      "20 fits failed with the following error:\n",
      "Traceback (most recent call last):\n",
      "  File \"/Users/jamesbenasuli/miniforge3/envs/tf-env/lib/python3.8/site-packages/sklearn/model_selection/_validation.py\", line 686, in _fit_and_score\n",
      "    estimator.fit(X_train, y_train, **fit_params)\n",
      "  File \"/Users/jamesbenasuli/miniforge3/envs/tf-env/lib/python3.8/site-packages/sklearn/pipeline.py\", line 405, in fit\n",
      "    self._final_estimator.fit(Xt, y, **fit_params_last_step)\n",
      "  File \"/Users/jamesbenasuli/miniforge3/envs/tf-env/lib/python3.8/site-packages/sklearn/linear_model/_logistic.py\", line 1162, in fit\n",
      "    solver = _check_solver(self.solver, self.penalty, self.dual)\n",
      "  File \"/Users/jamesbenasuli/miniforge3/envs/tf-env/lib/python3.8/site-packages/sklearn/linear_model/_logistic.py\", line 54, in _check_solver\n",
      "    raise ValueError(\n",
      "ValueError: Solver newton-cg supports only 'l2' or 'none' penalties, got l1 penalty.\n",
      "\n",
      "  warnings.warn(some_fits_failed_message, FitFailedWarning)\n",
      "/Users/jamesbenasuli/miniforge3/envs/tf-env/lib/python3.8/site-packages/sklearn/model_selection/_search.py:952: UserWarning: One or more of the test scores are non-finite: [        nan         nan         nan -0.65606194         nan         nan\n",
      " -0.65806544 -0.65806758 -0.65806866         nan         nan         nan\n",
      " -0.65877775         nan         nan -0.65885347 -0.65885427 -0.65885375\n",
      "         nan         nan         nan -0.65881728         nan         nan\n",
      " -0.65885896 -0.65885975 -0.65885922         nan         nan         nan\n",
      " -0.65884992         nan         nan -0.65886336 -0.65886415 -0.65886361]\n",
      "  warnings.warn(\n",
      "/Users/jamesbenasuli/miniforge3/envs/tf-env/lib/python3.8/site-packages/sklearn/model_selection/_search.py:952: UserWarning: One or more of the test scores are non-finite: [       nan        nan        nan 0.6086096         nan        nan\n",
      " 0.60512348 0.60512273 0.60512273        nan        nan        nan\n",
      " 0.60590017        nan        nan 0.60551257 0.60551257 0.60551257\n",
      "        nan        nan        nan 0.60551257        nan        nan\n",
      " 0.60551257 0.60551257 0.60551257        nan        nan        nan\n",
      " 0.60551257        nan        nan 0.60551257 0.60551257 0.60551257]\n",
      "  warnings.warn(\n"
     ]
    },
    {
     "data": {
      "text/html": [
       "<style>#sk-container-id-1 {color: black;background-color: white;}#sk-container-id-1 pre{padding: 0;}#sk-container-id-1 div.sk-toggleable {background-color: white;}#sk-container-id-1 label.sk-toggleable__label {cursor: pointer;display: block;width: 100%;margin-bottom: 0;padding: 0.3em;box-sizing: border-box;text-align: center;}#sk-container-id-1 label.sk-toggleable__label-arrow:before {content: \"▸\";float: left;margin-right: 0.25em;color: #696969;}#sk-container-id-1 label.sk-toggleable__label-arrow:hover:before {color: black;}#sk-container-id-1 div.sk-estimator:hover label.sk-toggleable__label-arrow:before {color: black;}#sk-container-id-1 div.sk-toggleable__content {max-height: 0;max-width: 0;overflow: hidden;text-align: left;background-color: #f0f8ff;}#sk-container-id-1 div.sk-toggleable__content pre {margin: 0.2em;color: black;border-radius: 0.25em;background-color: #f0f8ff;}#sk-container-id-1 input.sk-toggleable__control:checked~div.sk-toggleable__content {max-height: 200px;max-width: 100%;overflow: auto;}#sk-container-id-1 input.sk-toggleable__control:checked~label.sk-toggleable__label-arrow:before {content: \"▾\";}#sk-container-id-1 div.sk-estimator input.sk-toggleable__control:checked~label.sk-toggleable__label {background-color: #d4ebff;}#sk-container-id-1 div.sk-label input.sk-toggleable__control:checked~label.sk-toggleable__label {background-color: #d4ebff;}#sk-container-id-1 input.sk-hidden--visually {border: 0;clip: rect(1px 1px 1px 1px);clip: rect(1px, 1px, 1px, 1px);height: 1px;margin: -1px;overflow: hidden;padding: 0;position: absolute;width: 1px;}#sk-container-id-1 div.sk-estimator {font-family: monospace;background-color: #f0f8ff;border: 1px dotted black;border-radius: 0.25em;box-sizing: border-box;margin-bottom: 0.5em;}#sk-container-id-1 div.sk-estimator:hover {background-color: #d4ebff;}#sk-container-id-1 div.sk-parallel-item::after {content: \"\";width: 100%;border-bottom: 1px solid gray;flex-grow: 1;}#sk-container-id-1 div.sk-label:hover label.sk-toggleable__label {background-color: #d4ebff;}#sk-container-id-1 div.sk-serial::before {content: \"\";position: absolute;border-left: 1px solid gray;box-sizing: border-box;top: 0;bottom: 0;left: 50%;z-index: 0;}#sk-container-id-1 div.sk-serial {display: flex;flex-direction: column;align-items: center;background-color: white;padding-right: 0.2em;padding-left: 0.2em;position: relative;}#sk-container-id-1 div.sk-item {position: relative;z-index: 1;}#sk-container-id-1 div.sk-parallel {display: flex;align-items: stretch;justify-content: center;background-color: white;position: relative;}#sk-container-id-1 div.sk-item::before, #sk-container-id-1 div.sk-parallel-item::before {content: \"\";position: absolute;border-left: 1px solid gray;box-sizing: border-box;top: 0;bottom: 0;left: 50%;z-index: -1;}#sk-container-id-1 div.sk-parallel-item {display: flex;flex-direction: column;z-index: 1;position: relative;background-color: white;}#sk-container-id-1 div.sk-parallel-item:first-child::after {align-self: flex-end;width: 50%;}#sk-container-id-1 div.sk-parallel-item:last-child::after {align-self: flex-start;width: 50%;}#sk-container-id-1 div.sk-parallel-item:only-child::after {width: 0;}#sk-container-id-1 div.sk-dashed-wrapped {border: 1px dashed gray;margin: 0 0.4em 0.5em 0.4em;box-sizing: border-box;padding-bottom: 0.4em;background-color: white;}#sk-container-id-1 div.sk-label label {font-family: monospace;font-weight: bold;display: inline-block;line-height: 1.2em;}#sk-container-id-1 div.sk-label-container {text-align: center;}#sk-container-id-1 div.sk-container {/* jupyter's `normalize.less` sets `[hidden] { display: none; }` but bootstrap.min.css set `[hidden] { display: none !important; }` so we also need the `!important` here to be able to override the default hidden behavior on the sphinx rendered scikit-learn.org. See: https://github.com/scikit-learn/scikit-learn/issues/21755 */display: inline-block !important;position: relative;}#sk-container-id-1 div.sk-text-repr-fallback {display: none;}</style><div id=\"sk-container-id-1\" class=\"sk-top-container\"><div class=\"sk-text-repr-fallback\"><pre>GridSearchCV(cv=5,\n",
       "             estimator=Pipeline(steps=[(&#x27;preprocess&#x27;,\n",
       "                                        ColumnTransformer(transformers=[(&#x27;numpipe&#x27;,\n",
       "                                                                         Pipeline(steps=[(&#x27;ss&#x27;,\n",
       "                                                                                          StandardScaler())]),\n",
       "                                                                         Index([&#x27;home_rolling_avg_FF%&#x27;, &#x27;home_rolling_avg_GF%&#x27;, &#x27;home_rolling_avg_xGF%&#x27;,\n",
       "       &#x27;home_rolling_avg_HDCF%&#x27;, &#x27;home_rolling_avg_HDSH%&#x27;,\n",
       "       &#x27;home_rolling_avg_HDSV%&#x27;, &#x27;home_rolling_avg_SH%&#x27;,\n",
       "       &#x27;home_rolling_avg_SV%&#x27;, &#x27;home_rol...\n",
       "                                                                                         (&#x27;onehotnorm&#x27;,\n",
       "                                                                                          MaxAbsScaler())]),\n",
       "                                                                         Index([], dtype=&#x27;object&#x27;))])),\n",
       "                                       (&#x27;logreg&#x27;,\n",
       "                                        LogisticRegression(max_iter=10000,\n",
       "                                                           random_state=42))]),\n",
       "             param_grid={&#x27;logreg__C&#x27;: [0.1, 10, 20, 100],\n",
       "                         &#x27;logreg__class_weight&#x27;: [None],\n",
       "                         &#x27;logreg__penalty&#x27;: [&#x27;None&#x27;, &#x27;l1&#x27;, &#x27;l2&#x27;],\n",
       "                         &#x27;logreg__solver&#x27;: [&#x27;liblinear&#x27;, &#x27;lbfgs&#x27;, &#x27;newton-cg&#x27;]},\n",
       "             refit=&#x27;neg_log_loss&#x27;, scoring=[&#x27;neg_log_loss&#x27;, &#x27;accuracy&#x27;],\n",
       "             verbose=1)</pre><b>In a Jupyter environment, please rerun this cell to show the HTML representation or trust the notebook. <br />On GitHub, the HTML representation is unable to render, please try loading this page with nbviewer.org.</b></div><div class=\"sk-container\" hidden><div class=\"sk-item sk-dashed-wrapped\"><div class=\"sk-label-container\"><div class=\"sk-label sk-toggleable\"><input class=\"sk-toggleable__control sk-hidden--visually\" id=\"sk-estimator-id-1\" type=\"checkbox\" ><label for=\"sk-estimator-id-1\" class=\"sk-toggleable__label sk-toggleable__label-arrow\">GridSearchCV</label><div class=\"sk-toggleable__content\"><pre>GridSearchCV(cv=5,\n",
       "             estimator=Pipeline(steps=[(&#x27;preprocess&#x27;,\n",
       "                                        ColumnTransformer(transformers=[(&#x27;numpipe&#x27;,\n",
       "                                                                         Pipeline(steps=[(&#x27;ss&#x27;,\n",
       "                                                                                          StandardScaler())]),\n",
       "                                                                         Index([&#x27;home_rolling_avg_FF%&#x27;, &#x27;home_rolling_avg_GF%&#x27;, &#x27;home_rolling_avg_xGF%&#x27;,\n",
       "       &#x27;home_rolling_avg_HDCF%&#x27;, &#x27;home_rolling_avg_HDSH%&#x27;,\n",
       "       &#x27;home_rolling_avg_HDSV%&#x27;, &#x27;home_rolling_avg_SH%&#x27;,\n",
       "       &#x27;home_rolling_avg_SV%&#x27;, &#x27;home_rol...\n",
       "                                                                                         (&#x27;onehotnorm&#x27;,\n",
       "                                                                                          MaxAbsScaler())]),\n",
       "                                                                         Index([], dtype=&#x27;object&#x27;))])),\n",
       "                                       (&#x27;logreg&#x27;,\n",
       "                                        LogisticRegression(max_iter=10000,\n",
       "                                                           random_state=42))]),\n",
       "             param_grid={&#x27;logreg__C&#x27;: [0.1, 10, 20, 100],\n",
       "                         &#x27;logreg__class_weight&#x27;: [None],\n",
       "                         &#x27;logreg__penalty&#x27;: [&#x27;None&#x27;, &#x27;l1&#x27;, &#x27;l2&#x27;],\n",
       "                         &#x27;logreg__solver&#x27;: [&#x27;liblinear&#x27;, &#x27;lbfgs&#x27;, &#x27;newton-cg&#x27;]},\n",
       "             refit=&#x27;neg_log_loss&#x27;, scoring=[&#x27;neg_log_loss&#x27;, &#x27;accuracy&#x27;],\n",
       "             verbose=1)</pre></div></div></div><div class=\"sk-parallel\"><div class=\"sk-parallel-item\"><div class=\"sk-item\"><div class=\"sk-label-container\"><div class=\"sk-label sk-toggleable\"><input class=\"sk-toggleable__control sk-hidden--visually\" id=\"sk-estimator-id-2\" type=\"checkbox\" ><label for=\"sk-estimator-id-2\" class=\"sk-toggleable__label sk-toggleable__label-arrow\">estimator: Pipeline</label><div class=\"sk-toggleable__content\"><pre>Pipeline(steps=[(&#x27;preprocess&#x27;,\n",
       "                 ColumnTransformer(transformers=[(&#x27;numpipe&#x27;,\n",
       "                                                  Pipeline(steps=[(&#x27;ss&#x27;,\n",
       "                                                                   StandardScaler())]),\n",
       "                                                  Index([&#x27;home_rolling_avg_FF%&#x27;, &#x27;home_rolling_avg_GF%&#x27;, &#x27;home_rolling_avg_xGF%&#x27;,\n",
       "       &#x27;home_rolling_avg_HDCF%&#x27;, &#x27;home_rolling_avg_HDSH%&#x27;,\n",
       "       &#x27;home_rolling_avg_HDSV%&#x27;, &#x27;home_rolling_avg_SH%&#x27;,\n",
       "       &#x27;home_rolling_avg_SV%&#x27;, &#x27;home_rolling_avg_GF/60_pp&#x27;,\n",
       "       &#x27;home_rol...\n",
       "       &#x27;away_rolling_avg_SV%&#x27;, &#x27;away_rolling_avg_GF/60_pp&#x27;,\n",
       "       &#x27;away_rolling_avg_xGF/60_pp&#x27;, &#x27;away_rolling_avg_GA/60_pk&#x27;,\n",
       "       &#x27;away_rolling_avg_xGA/60_pk&#x27;],\n",
       "      dtype=&#x27;object&#x27;)),\n",
       "                                                 (&#x27;nominalpipe&#x27;,\n",
       "                                                  Pipeline(steps=[(&#x27;onehotenc&#x27;,\n",
       "                                                                   OneHotEncoder(handle_unknown=&#x27;ignore&#x27;)),\n",
       "                                                                  (&#x27;onehotnorm&#x27;,\n",
       "                                                                   MaxAbsScaler())]),\n",
       "                                                  Index([], dtype=&#x27;object&#x27;))])),\n",
       "                (&#x27;logreg&#x27;,\n",
       "                 LogisticRegression(max_iter=10000, random_state=42))])</pre></div></div></div><div class=\"sk-serial\"><div class=\"sk-item\"><div class=\"sk-serial\"><div class=\"sk-item sk-dashed-wrapped\"><div class=\"sk-label-container\"><div class=\"sk-label sk-toggleable\"><input class=\"sk-toggleable__control sk-hidden--visually\" id=\"sk-estimator-id-3\" type=\"checkbox\" ><label for=\"sk-estimator-id-3\" class=\"sk-toggleable__label sk-toggleable__label-arrow\">preprocess: ColumnTransformer</label><div class=\"sk-toggleable__content\"><pre>ColumnTransformer(transformers=[(&#x27;numpipe&#x27;,\n",
       "                                 Pipeline(steps=[(&#x27;ss&#x27;, StandardScaler())]),\n",
       "                                 Index([&#x27;home_rolling_avg_FF%&#x27;, &#x27;home_rolling_avg_GF%&#x27;, &#x27;home_rolling_avg_xGF%&#x27;,\n",
       "       &#x27;home_rolling_avg_HDCF%&#x27;, &#x27;home_rolling_avg_HDSH%&#x27;,\n",
       "       &#x27;home_rolling_avg_HDSV%&#x27;, &#x27;home_rolling_avg_SH%&#x27;,\n",
       "       &#x27;home_rolling_avg_SV%&#x27;, &#x27;home_rolling_avg_GF/60_pp&#x27;,\n",
       "       &#x27;home_rolling_avg_xGF/60_pp&#x27;, &#x27;home_roll...\n",
       "       &#x27;away_rolling_avg_HDCF%&#x27;, &#x27;away_rolling_avg_HDSH%&#x27;,\n",
       "       &#x27;away_rolling_avg_HDSV%&#x27;, &#x27;away_rolling_avg_SH%&#x27;,\n",
       "       &#x27;away_rolling_avg_SV%&#x27;, &#x27;away_rolling_avg_GF/60_pp&#x27;,\n",
       "       &#x27;away_rolling_avg_xGF/60_pp&#x27;, &#x27;away_rolling_avg_GA/60_pk&#x27;,\n",
       "       &#x27;away_rolling_avg_xGA/60_pk&#x27;],\n",
       "      dtype=&#x27;object&#x27;)),\n",
       "                                (&#x27;nominalpipe&#x27;,\n",
       "                                 Pipeline(steps=[(&#x27;onehotenc&#x27;,\n",
       "                                                  OneHotEncoder(handle_unknown=&#x27;ignore&#x27;)),\n",
       "                                                 (&#x27;onehotnorm&#x27;,\n",
       "                                                  MaxAbsScaler())]),\n",
       "                                 Index([], dtype=&#x27;object&#x27;))])</pre></div></div></div><div class=\"sk-parallel\"><div class=\"sk-parallel-item\"><div class=\"sk-item\"><div class=\"sk-label-container\"><div class=\"sk-label sk-toggleable\"><input class=\"sk-toggleable__control sk-hidden--visually\" id=\"sk-estimator-id-4\" type=\"checkbox\" ><label for=\"sk-estimator-id-4\" class=\"sk-toggleable__label sk-toggleable__label-arrow\">numpipe</label><div class=\"sk-toggleable__content\"><pre>Index([&#x27;home_rolling_avg_FF%&#x27;, &#x27;home_rolling_avg_GF%&#x27;, &#x27;home_rolling_avg_xGF%&#x27;,\n",
       "       &#x27;home_rolling_avg_HDCF%&#x27;, &#x27;home_rolling_avg_HDSH%&#x27;,\n",
       "       &#x27;home_rolling_avg_HDSV%&#x27;, &#x27;home_rolling_avg_SH%&#x27;,\n",
       "       &#x27;home_rolling_avg_SV%&#x27;, &#x27;home_rolling_avg_GF/60_pp&#x27;,\n",
       "       &#x27;home_rolling_avg_xGF/60_pp&#x27;, &#x27;home_rolling_avg_GA/60_pk&#x27;,\n",
       "       &#x27;home_rolling_avg_xGA/60_pk&#x27;, &#x27;away_rolling_avg_FF%&#x27;,\n",
       "       &#x27;away_rolling_avg_GF%&#x27;, &#x27;away_rolling_avg_xGF%&#x27;,\n",
       "       &#x27;away_rolling_avg_HDCF%&#x27;, &#x27;away_rolling_avg_HDSH%&#x27;,\n",
       "       &#x27;away_rolling_avg_HDSV%&#x27;, &#x27;away_rolling_avg_SH%&#x27;,\n",
       "       &#x27;away_rolling_avg_SV%&#x27;, &#x27;away_rolling_avg_GF/60_pp&#x27;,\n",
       "       &#x27;away_rolling_avg_xGF/60_pp&#x27;, &#x27;away_rolling_avg_GA/60_pk&#x27;,\n",
       "       &#x27;away_rolling_avg_xGA/60_pk&#x27;],\n",
       "      dtype=&#x27;object&#x27;)</pre></div></div></div><div class=\"sk-serial\"><div class=\"sk-item\"><div class=\"sk-serial\"><div class=\"sk-item\"><div class=\"sk-estimator sk-toggleable\"><input class=\"sk-toggleable__control sk-hidden--visually\" id=\"sk-estimator-id-5\" type=\"checkbox\" ><label for=\"sk-estimator-id-5\" class=\"sk-toggleable__label sk-toggleable__label-arrow\">StandardScaler</label><div class=\"sk-toggleable__content\"><pre>StandardScaler()</pre></div></div></div></div></div></div></div></div><div class=\"sk-parallel-item\"><div class=\"sk-item\"><div class=\"sk-label-container\"><div class=\"sk-label sk-toggleable\"><input class=\"sk-toggleable__control sk-hidden--visually\" id=\"sk-estimator-id-6\" type=\"checkbox\" ><label for=\"sk-estimator-id-6\" class=\"sk-toggleable__label sk-toggleable__label-arrow\">nominalpipe</label><div class=\"sk-toggleable__content\"><pre>Index([], dtype=&#x27;object&#x27;)</pre></div></div></div><div class=\"sk-serial\"><div class=\"sk-item\"><div class=\"sk-serial\"><div class=\"sk-item\"><div class=\"sk-estimator sk-toggleable\"><input class=\"sk-toggleable__control sk-hidden--visually\" id=\"sk-estimator-id-7\" type=\"checkbox\" ><label for=\"sk-estimator-id-7\" class=\"sk-toggleable__label sk-toggleable__label-arrow\">OneHotEncoder</label><div class=\"sk-toggleable__content\"><pre>OneHotEncoder(handle_unknown=&#x27;ignore&#x27;)</pre></div></div></div><div class=\"sk-item\"><div class=\"sk-estimator sk-toggleable\"><input class=\"sk-toggleable__control sk-hidden--visually\" id=\"sk-estimator-id-8\" type=\"checkbox\" ><label for=\"sk-estimator-id-8\" class=\"sk-toggleable__label sk-toggleable__label-arrow\">MaxAbsScaler</label><div class=\"sk-toggleable__content\"><pre>MaxAbsScaler()</pre></div></div></div></div></div></div></div></div></div></div><div class=\"sk-item\"><div class=\"sk-estimator sk-toggleable\"><input class=\"sk-toggleable__control sk-hidden--visually\" id=\"sk-estimator-id-9\" type=\"checkbox\" ><label for=\"sk-estimator-id-9\" class=\"sk-toggleable__label sk-toggleable__label-arrow\">LogisticRegression</label><div class=\"sk-toggleable__content\"><pre>LogisticRegression(max_iter=10000, random_state=42)</pre></div></div></div></div></div></div></div></div></div></div></div></div>"
      ],
      "text/plain": [
       "GridSearchCV(cv=5,\n",
       "             estimator=Pipeline(steps=[('preprocess',\n",
       "                                        ColumnTransformer(transformers=[('numpipe',\n",
       "                                                                         Pipeline(steps=[('ss',\n",
       "                                                                                          StandardScaler())]),\n",
       "                                                                         Index(['home_rolling_avg_FF%', 'home_rolling_avg_GF%', 'home_rolling_avg_xGF%',\n",
       "       'home_rolling_avg_HDCF%', 'home_rolling_avg_HDSH%',\n",
       "       'home_rolling_avg_HDSV%', 'home_rolling_avg_SH%',\n",
       "       'home_rolling_avg_SV%', 'home_rol...\n",
       "                                                                                         ('onehotnorm',\n",
       "                                                                                          MaxAbsScaler())]),\n",
       "                                                                         Index([], dtype='object'))])),\n",
       "                                       ('logreg',\n",
       "                                        LogisticRegression(max_iter=10000,\n",
       "                                                           random_state=42))]),\n",
       "             param_grid={'logreg__C': [0.1, 10, 20, 100],\n",
       "                         'logreg__class_weight': [None],\n",
       "                         'logreg__penalty': ['None', 'l1', 'l2'],\n",
       "                         'logreg__solver': ['liblinear', 'lbfgs', 'newton-cg']},\n",
       "             refit='neg_log_loss', scoring=['neg_log_loss', 'accuracy'],\n",
       "             verbose=1)"
      ]
     },
     "execution_count": 51,
     "metadata": {},
     "output_type": "execute_result"
    }
   ],
   "source": [
    "# fit on the training data\n",
    "log_cv.fit(X_train, y_train)"
   ]
  },
  {
   "cell_type": "code",
   "execution_count": 52,
   "id": "6226c346",
   "metadata": {},
   "outputs": [
    {
     "data": {
      "text/plain": [
       "-0.6560619419520151"
      ]
     },
     "execution_count": 52,
     "metadata": {},
     "output_type": "execute_result"
    }
   ],
   "source": [
    "# displaying the best score\n",
    "log_cv.best_score_"
   ]
  },
  {
   "cell_type": "code",
   "execution_count": 53,
   "id": "ef82e2e4",
   "metadata": {},
   "outputs": [
    {
     "data": {
      "text/html": [
       "<div>\n",
       "<style scoped>\n",
       "    .dataframe tbody tr th:only-of-type {\n",
       "        vertical-align: middle;\n",
       "    }\n",
       "\n",
       "    .dataframe tbody tr th {\n",
       "        vertical-align: top;\n",
       "    }\n",
       "\n",
       "    .dataframe thead th {\n",
       "        text-align: right;\n",
       "    }\n",
       "</style>\n",
       "<table border=\"1\" class=\"dataframe\">\n",
       "  <thead>\n",
       "    <tr style=\"text-align: right;\">\n",
       "      <th></th>\n",
       "      <th>mean_fit_time</th>\n",
       "      <th>std_fit_time</th>\n",
       "      <th>mean_score_time</th>\n",
       "      <th>std_score_time</th>\n",
       "      <th>param_logreg__C</th>\n",
       "      <th>param_logreg__class_weight</th>\n",
       "      <th>param_logreg__penalty</th>\n",
       "      <th>param_logreg__solver</th>\n",
       "      <th>params</th>\n",
       "      <th>split0_test_neg_log_loss</th>\n",
       "      <th>split1_test_neg_log_loss</th>\n",
       "      <th>split2_test_neg_log_loss</th>\n",
       "      <th>split3_test_neg_log_loss</th>\n",
       "      <th>split4_test_neg_log_loss</th>\n",
       "      <th>mean_test_neg_log_loss</th>\n",
       "      <th>std_test_neg_log_loss</th>\n",
       "      <th>rank_test_neg_log_loss</th>\n",
       "      <th>split0_test_accuracy</th>\n",
       "      <th>split1_test_accuracy</th>\n",
       "      <th>split2_test_accuracy</th>\n",
       "      <th>split3_test_accuracy</th>\n",
       "      <th>split4_test_accuracy</th>\n",
       "      <th>mean_test_accuracy</th>\n",
       "      <th>std_test_accuracy</th>\n",
       "      <th>rank_test_accuracy</th>\n",
       "    </tr>\n",
       "  </thead>\n",
       "  <tbody>\n",
       "    <tr>\n",
       "      <th>3</th>\n",
       "      <td>0.007079</td>\n",
       "      <td>0.002108</td>\n",
       "      <td>0.002384</td>\n",
       "      <td>0.000225</td>\n",
       "      <td>0.1</td>\n",
       "      <td>None</td>\n",
       "      <td>l1</td>\n",
       "      <td>liblinear</td>\n",
       "      <td>{'logreg__C': 0.1, 'logreg__class_weight': Non...</td>\n",
       "      <td>-0.672428</td>\n",
       "      <td>-0.654490</td>\n",
       "      <td>-0.654427</td>\n",
       "      <td>-0.652795</td>\n",
       "      <td>-0.646170</td>\n",
       "      <td>-0.656062</td>\n",
       "      <td>0.008735</td>\n",
       "      <td>1</td>\n",
       "      <td>0.578337</td>\n",
       "      <td>0.618956</td>\n",
       "      <td>0.589942</td>\n",
       "      <td>0.618217</td>\n",
       "      <td>0.637597</td>\n",
       "      <td>0.608610</td>\n",
       "      <td>0.021469</td>\n",
       "      <td>1</td>\n",
       "    </tr>\n",
       "    <tr>\n",
       "      <th>6</th>\n",
       "      <td>0.004669</td>\n",
       "      <td>0.000335</td>\n",
       "      <td>0.002140</td>\n",
       "      <td>0.000017</td>\n",
       "      <td>0.1</td>\n",
       "      <td>None</td>\n",
       "      <td>l2</td>\n",
       "      <td>liblinear</td>\n",
       "      <td>{'logreg__C': 0.1, 'logreg__class_weight': Non...</td>\n",
       "      <td>-0.677302</td>\n",
       "      <td>-0.655802</td>\n",
       "      <td>-0.657348</td>\n",
       "      <td>-0.655178</td>\n",
       "      <td>-0.644697</td>\n",
       "      <td>-0.658065</td>\n",
       "      <td>0.010609</td>\n",
       "      <td>2</td>\n",
       "      <td>0.584139</td>\n",
       "      <td>0.615087</td>\n",
       "      <td>0.582205</td>\n",
       "      <td>0.610465</td>\n",
       "      <td>0.633721</td>\n",
       "      <td>0.605123</td>\n",
       "      <td>0.019551</td>\n",
       "      <td>14</td>\n",
       "    </tr>\n",
       "    <tr>\n",
       "      <th>7</th>\n",
       "      <td>0.006881</td>\n",
       "      <td>0.000728</td>\n",
       "      <td>0.002321</td>\n",
       "      <td>0.000134</td>\n",
       "      <td>0.1</td>\n",
       "      <td>None</td>\n",
       "      <td>l2</td>\n",
       "      <td>lbfgs</td>\n",
       "      <td>{'logreg__C': 0.1, 'logreg__class_weight': Non...</td>\n",
       "      <td>-0.677305</td>\n",
       "      <td>-0.655821</td>\n",
       "      <td>-0.657367</td>\n",
       "      <td>-0.655166</td>\n",
       "      <td>-0.644680</td>\n",
       "      <td>-0.658068</td>\n",
       "      <td>0.010614</td>\n",
       "      <td>3</td>\n",
       "      <td>0.584139</td>\n",
       "      <td>0.617021</td>\n",
       "      <td>0.582205</td>\n",
       "      <td>0.608527</td>\n",
       "      <td>0.633721</td>\n",
       "      <td>0.605123</td>\n",
       "      <td>0.019680</td>\n",
       "      <td>15</td>\n",
       "    </tr>\n",
       "    <tr>\n",
       "      <th>8</th>\n",
       "      <td>0.011612</td>\n",
       "      <td>0.000419</td>\n",
       "      <td>0.002242</td>\n",
       "      <td>0.000032</td>\n",
       "      <td>0.1</td>\n",
       "      <td>None</td>\n",
       "      <td>l2</td>\n",
       "      <td>newton-cg</td>\n",
       "      <td>{'logreg__C': 0.1, 'logreg__class_weight': Non...</td>\n",
       "      <td>-0.677304</td>\n",
       "      <td>-0.655824</td>\n",
       "      <td>-0.657371</td>\n",
       "      <td>-0.655165</td>\n",
       "      <td>-0.644679</td>\n",
       "      <td>-0.658069</td>\n",
       "      <td>0.010614</td>\n",
       "      <td>4</td>\n",
       "      <td>0.584139</td>\n",
       "      <td>0.617021</td>\n",
       "      <td>0.582205</td>\n",
       "      <td>0.608527</td>\n",
       "      <td>0.633721</td>\n",
       "      <td>0.605123</td>\n",
       "      <td>0.019680</td>\n",
       "      <td>15</td>\n",
       "    </tr>\n",
       "    <tr>\n",
       "      <th>12</th>\n",
       "      <td>0.010378</td>\n",
       "      <td>0.001126</td>\n",
       "      <td>0.002266</td>\n",
       "      <td>0.000080</td>\n",
       "      <td>10</td>\n",
       "      <td>None</td>\n",
       "      <td>l1</td>\n",
       "      <td>liblinear</td>\n",
       "      <td>{'logreg__C': 10, 'logreg__class_weight': None...</td>\n",
       "      <td>-0.679819</td>\n",
       "      <td>-0.656302</td>\n",
       "      <td>-0.657768</td>\n",
       "      <td>-0.655881</td>\n",
       "      <td>-0.644118</td>\n",
       "      <td>-0.658778</td>\n",
       "      <td>0.011603</td>\n",
       "      <td>5</td>\n",
       "      <td>0.584139</td>\n",
       "      <td>0.611219</td>\n",
       "      <td>0.582205</td>\n",
       "      <td>0.610465</td>\n",
       "      <td>0.641473</td>\n",
       "      <td>0.605900</td>\n",
       "      <td>0.021677</td>\n",
       "      <td>2</td>\n",
       "    </tr>\n",
       "    <tr>\n",
       "      <th>21</th>\n",
       "      <td>0.009655</td>\n",
       "      <td>0.001676</td>\n",
       "      <td>0.002148</td>\n",
       "      <td>0.000047</td>\n",
       "      <td>20</td>\n",
       "      <td>None</td>\n",
       "      <td>l1</td>\n",
       "      <td>liblinear</td>\n",
       "      <td>{'logreg__C': 20, 'logreg__class_weight': None...</td>\n",
       "      <td>-0.679897</td>\n",
       "      <td>-0.656338</td>\n",
       "      <td>-0.657807</td>\n",
       "      <td>-0.655931</td>\n",
       "      <td>-0.644113</td>\n",
       "      <td>-0.658817</td>\n",
       "      <td>0.011628</td>\n",
       "      <td>6</td>\n",
       "      <td>0.584139</td>\n",
       "      <td>0.611219</td>\n",
       "      <td>0.582205</td>\n",
       "      <td>0.610465</td>\n",
       "      <td>0.639535</td>\n",
       "      <td>0.605513</td>\n",
       "      <td>0.021046</td>\n",
       "      <td>3</td>\n",
       "    </tr>\n",
       "    <tr>\n",
       "      <th>30</th>\n",
       "      <td>0.009634</td>\n",
       "      <td>0.001651</td>\n",
       "      <td>0.002162</td>\n",
       "      <td>0.000030</td>\n",
       "      <td>100</td>\n",
       "      <td>None</td>\n",
       "      <td>l1</td>\n",
       "      <td>liblinear</td>\n",
       "      <td>{'logreg__C': 100, 'logreg__class_weight': Non...</td>\n",
       "      <td>-0.679960</td>\n",
       "      <td>-0.656368</td>\n",
       "      <td>-0.657842</td>\n",
       "      <td>-0.655971</td>\n",
       "      <td>-0.644109</td>\n",
       "      <td>-0.658850</td>\n",
       "      <td>0.011648</td>\n",
       "      <td>7</td>\n",
       "      <td>0.584139</td>\n",
       "      <td>0.611219</td>\n",
       "      <td>0.582205</td>\n",
       "      <td>0.610465</td>\n",
       "      <td>0.639535</td>\n",
       "      <td>0.605513</td>\n",
       "      <td>0.021046</td>\n",
       "      <td>3</td>\n",
       "    </tr>\n",
       "    <tr>\n",
       "      <th>15</th>\n",
       "      <td>0.004853</td>\n",
       "      <td>0.000343</td>\n",
       "      <td>0.002114</td>\n",
       "      <td>0.000026</td>\n",
       "      <td>10</td>\n",
       "      <td>None</td>\n",
       "      <td>l2</td>\n",
       "      <td>liblinear</td>\n",
       "      <td>{'logreg__C': 10, 'logreg__class_weight': None...</td>\n",
       "      <td>-0.679951</td>\n",
       "      <td>-0.656370</td>\n",
       "      <td>-0.657851</td>\n",
       "      <td>-0.655981</td>\n",
       "      <td>-0.644115</td>\n",
       "      <td>-0.658853</td>\n",
       "      <td>0.011643</td>\n",
       "      <td>8</td>\n",
       "      <td>0.584139</td>\n",
       "      <td>0.611219</td>\n",
       "      <td>0.582205</td>\n",
       "      <td>0.610465</td>\n",
       "      <td>0.639535</td>\n",
       "      <td>0.605513</td>\n",
       "      <td>0.021046</td>\n",
       "      <td>3</td>\n",
       "    </tr>\n",
       "    <tr>\n",
       "      <th>17</th>\n",
       "      <td>0.011922</td>\n",
       "      <td>0.000767</td>\n",
       "      <td>0.002169</td>\n",
       "      <td>0.000023</td>\n",
       "      <td>10</td>\n",
       "      <td>None</td>\n",
       "      <td>l2</td>\n",
       "      <td>newton-cg</td>\n",
       "      <td>{'logreg__C': 10, 'logreg__class_weight': None...</td>\n",
       "      <td>-0.679952</td>\n",
       "      <td>-0.656370</td>\n",
       "      <td>-0.657852</td>\n",
       "      <td>-0.655981</td>\n",
       "      <td>-0.644114</td>\n",
       "      <td>-0.658854</td>\n",
       "      <td>0.011643</td>\n",
       "      <td>9</td>\n",
       "      <td>0.584139</td>\n",
       "      <td>0.611219</td>\n",
       "      <td>0.582205</td>\n",
       "      <td>0.610465</td>\n",
       "      <td>0.639535</td>\n",
       "      <td>0.605513</td>\n",
       "      <td>0.021046</td>\n",
       "      <td>3</td>\n",
       "    </tr>\n",
       "    <tr>\n",
       "      <th>16</th>\n",
       "      <td>0.007231</td>\n",
       "      <td>0.000199</td>\n",
       "      <td>0.002107</td>\n",
       "      <td>0.000030</td>\n",
       "      <td>10</td>\n",
       "      <td>None</td>\n",
       "      <td>l2</td>\n",
       "      <td>lbfgs</td>\n",
       "      <td>{'logreg__C': 10, 'logreg__class_weight': None...</td>\n",
       "      <td>-0.679952</td>\n",
       "      <td>-0.656370</td>\n",
       "      <td>-0.657853</td>\n",
       "      <td>-0.655980</td>\n",
       "      <td>-0.644115</td>\n",
       "      <td>-0.658854</td>\n",
       "      <td>0.011643</td>\n",
       "      <td>10</td>\n",
       "      <td>0.584139</td>\n",
       "      <td>0.611219</td>\n",
       "      <td>0.582205</td>\n",
       "      <td>0.610465</td>\n",
       "      <td>0.639535</td>\n",
       "      <td>0.605513</td>\n",
       "      <td>0.021046</td>\n",
       "      <td>3</td>\n",
       "    </tr>\n",
       "  </tbody>\n",
       "</table>\n",
       "</div>"
      ],
      "text/plain": [
       "    mean_fit_time  std_fit_time  mean_score_time  std_score_time  \\\n",
       "3        0.007079      0.002108         0.002384        0.000225   \n",
       "6        0.004669      0.000335         0.002140        0.000017   \n",
       "7        0.006881      0.000728         0.002321        0.000134   \n",
       "8        0.011612      0.000419         0.002242        0.000032   \n",
       "12       0.010378      0.001126         0.002266        0.000080   \n",
       "21       0.009655      0.001676         0.002148        0.000047   \n",
       "30       0.009634      0.001651         0.002162        0.000030   \n",
       "15       0.004853      0.000343         0.002114        0.000026   \n",
       "17       0.011922      0.000767         0.002169        0.000023   \n",
       "16       0.007231      0.000199         0.002107        0.000030   \n",
       "\n",
       "   param_logreg__C param_logreg__class_weight param_logreg__penalty  \\\n",
       "3              0.1                       None                    l1   \n",
       "6              0.1                       None                    l2   \n",
       "7              0.1                       None                    l2   \n",
       "8              0.1                       None                    l2   \n",
       "12              10                       None                    l1   \n",
       "21              20                       None                    l1   \n",
       "30             100                       None                    l1   \n",
       "15              10                       None                    l2   \n",
       "17              10                       None                    l2   \n",
       "16              10                       None                    l2   \n",
       "\n",
       "   param_logreg__solver                                             params  \\\n",
       "3             liblinear  {'logreg__C': 0.1, 'logreg__class_weight': Non...   \n",
       "6             liblinear  {'logreg__C': 0.1, 'logreg__class_weight': Non...   \n",
       "7                 lbfgs  {'logreg__C': 0.1, 'logreg__class_weight': Non...   \n",
       "8             newton-cg  {'logreg__C': 0.1, 'logreg__class_weight': Non...   \n",
       "12            liblinear  {'logreg__C': 10, 'logreg__class_weight': None...   \n",
       "21            liblinear  {'logreg__C': 20, 'logreg__class_weight': None...   \n",
       "30            liblinear  {'logreg__C': 100, 'logreg__class_weight': Non...   \n",
       "15            liblinear  {'logreg__C': 10, 'logreg__class_weight': None...   \n",
       "17            newton-cg  {'logreg__C': 10, 'logreg__class_weight': None...   \n",
       "16                lbfgs  {'logreg__C': 10, 'logreg__class_weight': None...   \n",
       "\n",
       "    split0_test_neg_log_loss  split1_test_neg_log_loss  \\\n",
       "3                  -0.672428                 -0.654490   \n",
       "6                  -0.677302                 -0.655802   \n",
       "7                  -0.677305                 -0.655821   \n",
       "8                  -0.677304                 -0.655824   \n",
       "12                 -0.679819                 -0.656302   \n",
       "21                 -0.679897                 -0.656338   \n",
       "30                 -0.679960                 -0.656368   \n",
       "15                 -0.679951                 -0.656370   \n",
       "17                 -0.679952                 -0.656370   \n",
       "16                 -0.679952                 -0.656370   \n",
       "\n",
       "    split2_test_neg_log_loss  split3_test_neg_log_loss  \\\n",
       "3                  -0.654427                 -0.652795   \n",
       "6                  -0.657348                 -0.655178   \n",
       "7                  -0.657367                 -0.655166   \n",
       "8                  -0.657371                 -0.655165   \n",
       "12                 -0.657768                 -0.655881   \n",
       "21                 -0.657807                 -0.655931   \n",
       "30                 -0.657842                 -0.655971   \n",
       "15                 -0.657851                 -0.655981   \n",
       "17                 -0.657852                 -0.655981   \n",
       "16                 -0.657853                 -0.655980   \n",
       "\n",
       "    split4_test_neg_log_loss  mean_test_neg_log_loss  std_test_neg_log_loss  \\\n",
       "3                  -0.646170               -0.656062               0.008735   \n",
       "6                  -0.644697               -0.658065               0.010609   \n",
       "7                  -0.644680               -0.658068               0.010614   \n",
       "8                  -0.644679               -0.658069               0.010614   \n",
       "12                 -0.644118               -0.658778               0.011603   \n",
       "21                 -0.644113               -0.658817               0.011628   \n",
       "30                 -0.644109               -0.658850               0.011648   \n",
       "15                 -0.644115               -0.658853               0.011643   \n",
       "17                 -0.644114               -0.658854               0.011643   \n",
       "16                 -0.644115               -0.658854               0.011643   \n",
       "\n",
       "    rank_test_neg_log_loss  split0_test_accuracy  split1_test_accuracy  \\\n",
       "3                        1              0.578337              0.618956   \n",
       "6                        2              0.584139              0.615087   \n",
       "7                        3              0.584139              0.617021   \n",
       "8                        4              0.584139              0.617021   \n",
       "12                       5              0.584139              0.611219   \n",
       "21                       6              0.584139              0.611219   \n",
       "30                       7              0.584139              0.611219   \n",
       "15                       8              0.584139              0.611219   \n",
       "17                       9              0.584139              0.611219   \n",
       "16                      10              0.584139              0.611219   \n",
       "\n",
       "    split2_test_accuracy  split3_test_accuracy  split4_test_accuracy  \\\n",
       "3               0.589942              0.618217              0.637597   \n",
       "6               0.582205              0.610465              0.633721   \n",
       "7               0.582205              0.608527              0.633721   \n",
       "8               0.582205              0.608527              0.633721   \n",
       "12              0.582205              0.610465              0.641473   \n",
       "21              0.582205              0.610465              0.639535   \n",
       "30              0.582205              0.610465              0.639535   \n",
       "15              0.582205              0.610465              0.639535   \n",
       "17              0.582205              0.610465              0.639535   \n",
       "16              0.582205              0.610465              0.639535   \n",
       "\n",
       "    mean_test_accuracy  std_test_accuracy  rank_test_accuracy  \n",
       "3             0.608610           0.021469                   1  \n",
       "6             0.605123           0.019551                  14  \n",
       "7             0.605123           0.019680                  15  \n",
       "8             0.605123           0.019680                  15  \n",
       "12            0.605900           0.021677                   2  \n",
       "21            0.605513           0.021046                   3  \n",
       "30            0.605513           0.021046                   3  \n",
       "15            0.605513           0.021046                   3  \n",
       "17            0.605513           0.021046                   3  \n",
       "16            0.605513           0.021046                   3  "
      ]
     },
     "execution_count": 53,
     "metadata": {},
     "output_type": "execute_result"
    }
   ],
   "source": [
    "# store LogReg CV results in a df\n",
    "log_results = pd.DataFrame(log_cv.cv_results_).sort_values('mean_test_neg_log_loss', ascending=False)\n",
    "log_results.head(10)"
   ]
  },
  {
   "cell_type": "code",
   "execution_count": 192,
   "id": "c153223a",
   "metadata": {},
   "outputs": [
    {
     "data": {
      "image/png": "[encoded data removed]",
      "text/plain": [
       "<Figure size 640x480 with 2 Axes>"
      ]
     },
     "metadata": {},
     "output_type": "display_data"
    },
    {
     "name": "stdout",
     "output_type": "stream",
     "text": [
      "Classification report:\n",
      "              precision    recall  f1-score   support\n",
      "\n",
      "           0       0.56      0.57      0.57       272\n",
      "           1       0.61      0.59      0.60       300\n",
      "\n",
      "    accuracy                           0.58       572\n",
      "   macro avg       0.58      0.58      0.58       572\n",
      "weighted avg       0.58      0.58      0.58       572\n",
      "\n",
      "Test log loss score: 0.661\n",
      "Test AUC-ROC score: 0.630\n"
     ]
    }
   ],
   "source": [
    "# Calculate the confusion matrix\n",
    "label_names = ['0: Away Team Win', '1: Home Team Win']\n",
    "cm = confusion_matrix(y_test, log_cv.predict(X_test))\n",
    "\n",
    "# Plot the confusion matrix\n",
    "disp = ConfusionMatrixDisplay(confusion_matrix=cm, display_labels=label_names)\n",
    "disp.plot()\n",
    "plt.show()\n",
    "\n",
    "# Calculate and print the classification report\n",
    "report = classification_report(y_test, log_cv.predict(X_test))\n",
    "print(f'Classification report:\\n{report}')\n",
    "# Calculate the Log Loss score for the test set\n",
    "log_loss_score = log_loss(y_test, log_cv.predict_proba(X_test)[:, 1])\n",
    "print(f'Test log loss score: {log_loss_score:.3f}')# Calculate the AUC-ROC score for the test set\n",
    "# Calculate the AUC-ROC score for the test set\n",
    "auc_roc = roc_auc_score(y_test, log_cv.predict_proba(X_test)[:, 1])\n",
    "print(f'Test AUC-ROC score: {auc_roc:.3f}')"
   ]
  },
  {
   "cell_type": "markdown",
   "id": "4a680d83",
   "metadata": {},
   "source": [
    "### Gradient Boosting Classifier Grid Search"
   ]
  },
  {
   "cell_type": "code",
   "execution_count": 57,
   "id": "a59345ee",
   "metadata": {},
   "outputs": [],
   "source": [
    "# Instantiate GB pipeline and set param grid for grid search\n",
    "gb_pipeline = Pipeline(steps=[('preprocess', ct),\n",
    "                      ('gb', GradientBoostingClassifier(random_state=rnd))])\n",
    "\n",
    "gb_params = {'gb__n_estimators': [200, 300, 400],\n",
    "         'gb__learning_rate': [.001,.01, .1],\n",
    "         'gb__max_depth' : [3,5]}\n",
    "\n",
    "gb_cv = GridSearchCV(gb_pipeline, param_grid=gb_params, cv=5, scoring=scoring, refit='neg_log_loss', verbose=1)"
   ]
  },
  {
   "cell_type": "code",
   "execution_count": 58,
   "id": "e6bed843",
   "metadata": {},
   "outputs": [
    {
     "name": "stdout",
     "output_type": "stream",
     "text": [
      "Fitting 5 folds for each of 18 candidates, totalling 90 fits\n",
      "Fitting 5 folds for each of 24 candidates, totalling 120 fits\n",
      "Fitting 5 folds for each of 24 candidates, totalling 120 fits\n",
      "Fitting 5 folds for each of 24 candidates, totalling 120 fits\n",
      "Fitting 5 folds for each of 24 candidates, totalling 120 fits\n",
      "Fitting 5 folds for each of 24 candidates, totalling 120 fits\n",
      "Fitting 5 folds for each of 24 candidates, totalling 120 fits\n",
      "Fitting 5 folds for each of 24 candidates, totalling 120 fits\n",
      "Fitting 5 folds for each of 24 candidates, totalling 120 fits\n",
      "Fitting 5 folds for each of 24 candidates, totalling 120 fits\n",
      "Fitting 5 folds for each of 24 candidates, totalling 120 fits\n"
     ]
    },
    {
     "data": {
      "text/html": [
       "<style>#sk-container-id-2 {color: black;background-color: white;}#sk-container-id-2 pre{padding: 0;}#sk-container-id-2 div.sk-toggleable {background-color: white;}#sk-container-id-2 label.sk-toggleable__label {cursor: pointer;display: block;width: 100%;margin-bottom: 0;padding: 0.3em;box-sizing: border-box;text-align: center;}#sk-container-id-2 label.sk-toggleable__label-arrow:before {content: \"▸\";float: left;margin-right: 0.25em;color: #696969;}#sk-container-id-2 label.sk-toggleable__label-arrow:hover:before {color: black;}#sk-container-id-2 div.sk-estimator:hover label.sk-toggleable__label-arrow:before {color: black;}#sk-container-id-2 div.sk-toggleable__content {max-height: 0;max-width: 0;overflow: hidden;text-align: left;background-color: #f0f8ff;}#sk-container-id-2 div.sk-toggleable__content pre {margin: 0.2em;color: black;border-radius: 0.25em;background-color: #f0f8ff;}#sk-container-id-2 input.sk-toggleable__control:checked~div.sk-toggleable__content {max-height: 200px;max-width: 100%;overflow: auto;}#sk-container-id-2 input.sk-toggleable__control:checked~label.sk-toggleable__label-arrow:before {content: \"▾\";}#sk-container-id-2 div.sk-estimator input.sk-toggleable__control:checked~label.sk-toggleable__label {background-color: #d4ebff;}#sk-container-id-2 div.sk-label input.sk-toggleable__control:checked~label.sk-toggleable__label {background-color: #d4ebff;}#sk-container-id-2 input.sk-hidden--visually {border: 0;clip: rect(1px 1px 1px 1px);clip: rect(1px, 1px, 1px, 1px);height: 1px;margin: -1px;overflow: hidden;padding: 0;position: absolute;width: 1px;}#sk-container-id-2 div.sk-estimator {font-family: monospace;background-color: #f0f8ff;border: 1px dotted black;border-radius: 0.25em;box-sizing: border-box;margin-bottom: 0.5em;}#sk-container-id-2 div.sk-estimator:hover {background-color: #d4ebff;}#sk-container-id-2 div.sk-parallel-item::after {content: \"\";width: 100%;border-bottom: 1px solid gray;flex-grow: 1;}#sk-container-id-2 div.sk-label:hover label.sk-toggleable__label {background-color: #d4ebff;}#sk-container-id-2 div.sk-serial::before {content: \"\";position: absolute;border-left: 1px solid gray;box-sizing: border-box;top: 0;bottom: 0;left: 50%;z-index: 0;}#sk-container-id-2 div.sk-serial {display: flex;flex-direction: column;align-items: center;background-color: white;padding-right: 0.2em;padding-left: 0.2em;position: relative;}#sk-container-id-2 div.sk-item {position: relative;z-index: 1;}#sk-container-id-2 div.sk-parallel {display: flex;align-items: stretch;justify-content: center;background-color: white;position: relative;}#sk-container-id-2 div.sk-item::before, #sk-container-id-2 div.sk-parallel-item::before {content: \"\";position: absolute;border-left: 1px solid gray;box-sizing: border-box;top: 0;bottom: 0;left: 50%;z-index: -1;}#sk-container-id-2 div.sk-parallel-item {display: flex;flex-direction: column;z-index: 1;position: relative;background-color: white;}#sk-container-id-2 div.sk-parallel-item:first-child::after {align-self: flex-end;width: 50%;}#sk-container-id-2 div.sk-parallel-item:last-child::after {align-self: flex-start;width: 50%;}#sk-container-id-2 div.sk-parallel-item:only-child::after {width: 0;}#sk-container-id-2 div.sk-dashed-wrapped {border: 1px dashed gray;margin: 0 0.4em 0.5em 0.4em;box-sizing: border-box;padding-bottom: 0.4em;background-color: white;}#sk-container-id-2 div.sk-label label {font-family: monospace;font-weight: bold;display: inline-block;line-height: 1.2em;}#sk-container-id-2 div.sk-label-container {text-align: center;}#sk-container-id-2 div.sk-container {/* jupyter's `normalize.less` sets `[hidden] { display: none; }` but bootstrap.min.css set `[hidden] { display: none !important; }` so we also need the `!important` here to be able to override the default hidden behavior on the sphinx rendered scikit-learn.org. See: https://github.com/scikit-learn/scikit-learn/issues/21755 */display: inline-block !important;position: relative;}#sk-container-id-2 div.sk-text-repr-fallback {display: none;}</style><div id=\"sk-container-id-2\" class=\"sk-top-container\"><div class=\"sk-text-repr-fallback\"><pre>GridSearchCV(cv=5,\n",
       "             estimator=Pipeline(steps=[(&#x27;preprocess&#x27;,\n",
       "                                        ColumnTransformer(transformers=[(&#x27;numpipe&#x27;,\n",
       "                                                                         Pipeline(steps=[(&#x27;ss&#x27;,\n",
       "                                                                                          StandardScaler())]),\n",
       "                                                                         Index([&#x27;home_rolling_avg_FF%&#x27;, &#x27;home_rolling_avg_GF%&#x27;, &#x27;home_rolling_avg_xGF%&#x27;,\n",
       "       &#x27;home_rolling_avg_HDCF%&#x27;, &#x27;home_rolling_avg_HDSH%&#x27;,\n",
       "       &#x27;home_rolling_avg_HDSV%&#x27;, &#x27;home_rolling_avg_SH%&#x27;,\n",
       "       &#x27;home_rolling_avg_SV%&#x27;, &#x27;home_rol...\n",
       "                                                                         Pipeline(steps=[(&#x27;onehotenc&#x27;,\n",
       "                                                                                          OneHotEncoder(handle_unknown=&#x27;ignore&#x27;)),\n",
       "                                                                                         (&#x27;onehotnorm&#x27;,\n",
       "                                                                                          MaxAbsScaler())]),\n",
       "                                                                         Index([], dtype=&#x27;object&#x27;))])),\n",
       "                                       (&#x27;gb&#x27;,\n",
       "                                        GradientBoostingClassifier(random_state=42))]),\n",
       "             param_grid={&#x27;gb__learning_rate&#x27;: [0.001, 0.01, 0.1],\n",
       "                         &#x27;gb__max_depth&#x27;: [3, 5],\n",
       "                         &#x27;gb__n_estimators&#x27;: [200, 300, 400]},\n",
       "             refit=&#x27;neg_log_loss&#x27;, scoring=[&#x27;neg_log_loss&#x27;, &#x27;accuracy&#x27;],\n",
       "             verbose=1)</pre><b>In a Jupyter environment, please rerun this cell to show the HTML representation or trust the notebook. <br />On GitHub, the HTML representation is unable to render, please try loading this page with nbviewer.org.</b></div><div class=\"sk-container\" hidden><div class=\"sk-item sk-dashed-wrapped\"><div class=\"sk-label-container\"><div class=\"sk-label sk-toggleable\"><input class=\"sk-toggleable__control sk-hidden--visually\" id=\"sk-estimator-id-10\" type=\"checkbox\" ><label for=\"sk-estimator-id-10\" class=\"sk-toggleable__label sk-toggleable__label-arrow\">GridSearchCV</label><div class=\"sk-toggleable__content\"><pre>GridSearchCV(cv=5,\n",
       "             estimator=Pipeline(steps=[(&#x27;preprocess&#x27;,\n",
       "                                        ColumnTransformer(transformers=[(&#x27;numpipe&#x27;,\n",
       "                                                                         Pipeline(steps=[(&#x27;ss&#x27;,\n",
       "                                                                                          StandardScaler())]),\n",
       "                                                                         Index([&#x27;home_rolling_avg_FF%&#x27;, &#x27;home_rolling_avg_GF%&#x27;, &#x27;home_rolling_avg_xGF%&#x27;,\n",
       "       &#x27;home_rolling_avg_HDCF%&#x27;, &#x27;home_rolling_avg_HDSH%&#x27;,\n",
       "       &#x27;home_rolling_avg_HDSV%&#x27;, &#x27;home_rolling_avg_SH%&#x27;,\n",
       "       &#x27;home_rolling_avg_SV%&#x27;, &#x27;home_rol...\n",
       "                                                                         Pipeline(steps=[(&#x27;onehotenc&#x27;,\n",
       "                                                                                          OneHotEncoder(handle_unknown=&#x27;ignore&#x27;)),\n",
       "                                                                                         (&#x27;onehotnorm&#x27;,\n",
       "                                                                                          MaxAbsScaler())]),\n",
       "                                                                         Index([], dtype=&#x27;object&#x27;))])),\n",
       "                                       (&#x27;gb&#x27;,\n",
       "                                        GradientBoostingClassifier(random_state=42))]),\n",
       "             param_grid={&#x27;gb__learning_rate&#x27;: [0.001, 0.01, 0.1],\n",
       "                         &#x27;gb__max_depth&#x27;: [3, 5],\n",
       "                         &#x27;gb__n_estimators&#x27;: [200, 300, 400]},\n",
       "             refit=&#x27;neg_log_loss&#x27;, scoring=[&#x27;neg_log_loss&#x27;, &#x27;accuracy&#x27;],\n",
       "             verbose=1)</pre></div></div></div><div class=\"sk-parallel\"><div class=\"sk-parallel-item\"><div class=\"sk-item\"><div class=\"sk-label-container\"><div class=\"sk-label sk-toggleable\"><input class=\"sk-toggleable__control sk-hidden--visually\" id=\"sk-estimator-id-11\" type=\"checkbox\" ><label for=\"sk-estimator-id-11\" class=\"sk-toggleable__label sk-toggleable__label-arrow\">estimator: Pipeline</label><div class=\"sk-toggleable__content\"><pre>Pipeline(steps=[(&#x27;preprocess&#x27;,\n",
       "                 ColumnTransformer(transformers=[(&#x27;numpipe&#x27;,\n",
       "                                                  Pipeline(steps=[(&#x27;ss&#x27;,\n",
       "                                                                   StandardScaler())]),\n",
       "                                                  Index([&#x27;home_rolling_avg_FF%&#x27;, &#x27;home_rolling_avg_GF%&#x27;, &#x27;home_rolling_avg_xGF%&#x27;,\n",
       "       &#x27;home_rolling_avg_HDCF%&#x27;, &#x27;home_rolling_avg_HDSH%&#x27;,\n",
       "       &#x27;home_rolling_avg_HDSV%&#x27;, &#x27;home_rolling_avg_SH%&#x27;,\n",
       "       &#x27;home_rolling_avg_SV%&#x27;, &#x27;home_rolling_avg_GF/60_pp&#x27;,\n",
       "       &#x27;home_rol...\n",
       "       &#x27;away_rolling_avg_SV%&#x27;, &#x27;away_rolling_avg_GF/60_pp&#x27;,\n",
       "       &#x27;away_rolling_avg_xGF/60_pp&#x27;, &#x27;away_rolling_avg_GA/60_pk&#x27;,\n",
       "       &#x27;away_rolling_avg_xGA/60_pk&#x27;],\n",
       "      dtype=&#x27;object&#x27;)),\n",
       "                                                 (&#x27;nominalpipe&#x27;,\n",
       "                                                  Pipeline(steps=[(&#x27;onehotenc&#x27;,\n",
       "                                                                   OneHotEncoder(handle_unknown=&#x27;ignore&#x27;)),\n",
       "                                                                  (&#x27;onehotnorm&#x27;,\n",
       "                                                                   MaxAbsScaler())]),\n",
       "                                                  Index([], dtype=&#x27;object&#x27;))])),\n",
       "                (&#x27;gb&#x27;, GradientBoostingClassifier(random_state=42))])</pre></div></div></div><div class=\"sk-serial\"><div class=\"sk-item\"><div class=\"sk-serial\"><div class=\"sk-item sk-dashed-wrapped\"><div class=\"sk-label-container\"><div class=\"sk-label sk-toggleable\"><input class=\"sk-toggleable__control sk-hidden--visually\" id=\"sk-estimator-id-12\" type=\"checkbox\" ><label for=\"sk-estimator-id-12\" class=\"sk-toggleable__label sk-toggleable__label-arrow\">preprocess: ColumnTransformer</label><div class=\"sk-toggleable__content\"><pre>ColumnTransformer(transformers=[(&#x27;numpipe&#x27;,\n",
       "                                 Pipeline(steps=[(&#x27;ss&#x27;, StandardScaler())]),\n",
       "                                 Index([&#x27;home_rolling_avg_FF%&#x27;, &#x27;home_rolling_avg_GF%&#x27;, &#x27;home_rolling_avg_xGF%&#x27;,\n",
       "       &#x27;home_rolling_avg_HDCF%&#x27;, &#x27;home_rolling_avg_HDSH%&#x27;,\n",
       "       &#x27;home_rolling_avg_HDSV%&#x27;, &#x27;home_rolling_avg_SH%&#x27;,\n",
       "       &#x27;home_rolling_avg_SV%&#x27;, &#x27;home_rolling_avg_GF/60_pp&#x27;,\n",
       "       &#x27;home_rolling_avg_xGF/60_pp&#x27;, &#x27;home_roll...\n",
       "       &#x27;away_rolling_avg_HDCF%&#x27;, &#x27;away_rolling_avg_HDSH%&#x27;,\n",
       "       &#x27;away_rolling_avg_HDSV%&#x27;, &#x27;away_rolling_avg_SH%&#x27;,\n",
       "       &#x27;away_rolling_avg_SV%&#x27;, &#x27;away_rolling_avg_GF/60_pp&#x27;,\n",
       "       &#x27;away_rolling_avg_xGF/60_pp&#x27;, &#x27;away_rolling_avg_GA/60_pk&#x27;,\n",
       "       &#x27;away_rolling_avg_xGA/60_pk&#x27;],\n",
       "      dtype=&#x27;object&#x27;)),\n",
       "                                (&#x27;nominalpipe&#x27;,\n",
       "                                 Pipeline(steps=[(&#x27;onehotenc&#x27;,\n",
       "                                                  OneHotEncoder(handle_unknown=&#x27;ignore&#x27;)),\n",
       "                                                 (&#x27;onehotnorm&#x27;,\n",
       "                                                  MaxAbsScaler())]),\n",
       "                                 Index([], dtype=&#x27;object&#x27;))])</pre></div></div></div><div class=\"sk-parallel\"><div class=\"sk-parallel-item\"><div class=\"sk-item\"><div class=\"sk-label-container\"><div class=\"sk-label sk-toggleable\"><input class=\"sk-toggleable__control sk-hidden--visually\" id=\"sk-estimator-id-13\" type=\"checkbox\" ><label for=\"sk-estimator-id-13\" class=\"sk-toggleable__label sk-toggleable__label-arrow\">numpipe</label><div class=\"sk-toggleable__content\"><pre>Index([&#x27;home_rolling_avg_FF%&#x27;, &#x27;home_rolling_avg_GF%&#x27;, &#x27;home_rolling_avg_xGF%&#x27;,\n",
       "       &#x27;home_rolling_avg_HDCF%&#x27;, &#x27;home_rolling_avg_HDSH%&#x27;,\n",
       "       &#x27;home_rolling_avg_HDSV%&#x27;, &#x27;home_rolling_avg_SH%&#x27;,\n",
       "       &#x27;home_rolling_avg_SV%&#x27;, &#x27;home_rolling_avg_GF/60_pp&#x27;,\n",
       "       &#x27;home_rolling_avg_xGF/60_pp&#x27;, &#x27;home_rolling_avg_GA/60_pk&#x27;,\n",
       "       &#x27;home_rolling_avg_xGA/60_pk&#x27;, &#x27;away_rolling_avg_FF%&#x27;,\n",
       "       &#x27;away_rolling_avg_GF%&#x27;, &#x27;away_rolling_avg_xGF%&#x27;,\n",
       "       &#x27;away_rolling_avg_HDCF%&#x27;, &#x27;away_rolling_avg_HDSH%&#x27;,\n",
       "       &#x27;away_rolling_avg_HDSV%&#x27;, &#x27;away_rolling_avg_SH%&#x27;,\n",
       "       &#x27;away_rolling_avg_SV%&#x27;, &#x27;away_rolling_avg_GF/60_pp&#x27;,\n",
       "       &#x27;away_rolling_avg_xGF/60_pp&#x27;, &#x27;away_rolling_avg_GA/60_pk&#x27;,\n",
       "       &#x27;away_rolling_avg_xGA/60_pk&#x27;],\n",
       "      dtype=&#x27;object&#x27;)</pre></div></div></div><div class=\"sk-serial\"><div class=\"sk-item\"><div class=\"sk-serial\"><div class=\"sk-item\"><div class=\"sk-estimator sk-toggleable\"><input class=\"sk-toggleable__control sk-hidden--visually\" id=\"sk-estimator-id-14\" type=\"checkbox\" ><label for=\"sk-estimator-id-14\" class=\"sk-toggleable__label sk-toggleable__label-arrow\">StandardScaler</label><div class=\"sk-toggleable__content\"><pre>StandardScaler()</pre></div></div></div></div></div></div></div></div><div class=\"sk-parallel-item\"><div class=\"sk-item\"><div class=\"sk-label-container\"><div class=\"sk-label sk-toggleable\"><input class=\"sk-toggleable__control sk-hidden--visually\" id=\"sk-estimator-id-15\" type=\"checkbox\" ><label for=\"sk-estimator-id-15\" class=\"sk-toggleable__label sk-toggleable__label-arrow\">nominalpipe</label><div class=\"sk-toggleable__content\"><pre>Index([], dtype=&#x27;object&#x27;)</pre></div></div></div><div class=\"sk-serial\"><div class=\"sk-item\"><div class=\"sk-serial\"><div class=\"sk-item\"><div class=\"sk-estimator sk-toggleable\"><input class=\"sk-toggleable__control sk-hidden--visually\" id=\"sk-estimator-id-16\" type=\"checkbox\" ><label for=\"sk-estimator-id-16\" class=\"sk-toggleable__label sk-toggleable__label-arrow\">OneHotEncoder</label><div class=\"sk-toggleable__content\"><pre>OneHotEncoder(handle_unknown=&#x27;ignore&#x27;)</pre></div></div></div><div class=\"sk-item\"><div class=\"sk-estimator sk-toggleable\"><input class=\"sk-toggleable__control sk-hidden--visually\" id=\"sk-estimator-id-17\" type=\"checkbox\" ><label for=\"sk-estimator-id-17\" class=\"sk-toggleable__label sk-toggleable__label-arrow\">MaxAbsScaler</label><div class=\"sk-toggleable__content\"><pre>MaxAbsScaler()</pre></div></div></div></div></div></div></div></div></div></div><div class=\"sk-item\"><div class=\"sk-estimator sk-toggleable\"><input class=\"sk-toggleable__control sk-hidden--visually\" id=\"sk-estimator-id-18\" type=\"checkbox\" ><label for=\"sk-estimator-id-18\" class=\"sk-toggleable__label sk-toggleable__label-arrow\">GradientBoostingClassifier</label><div class=\"sk-toggleable__content\"><pre>GradientBoostingClassifier(random_state=42)</pre></div></div></div></div></div></div></div></div></div></div></div></div>"
      ],
      "text/plain": [
       "GridSearchCV(cv=5,\n",
       "             estimator=Pipeline(steps=[('preprocess',\n",
       "                                        ColumnTransformer(transformers=[('numpipe',\n",
       "                                                                         Pipeline(steps=[('ss',\n",
       "                                                                                          StandardScaler())]),\n",
       "                                                                         Index(['home_rolling_avg_FF%', 'home_rolling_avg_GF%', 'home_rolling_avg_xGF%',\n",
       "       'home_rolling_avg_HDCF%', 'home_rolling_avg_HDSH%',\n",
       "       'home_rolling_avg_HDSV%', 'home_rolling_avg_SH%',\n",
       "       'home_rolling_avg_SV%', 'home_rol...\n",
       "                                                                         Pipeline(steps=[('onehotenc',\n",
       "                                                                                          OneHotEncoder(handle_unknown='ignore')),\n",
       "                                                                                         ('onehotnorm',\n",
       "                                                                                          MaxAbsScaler())]),\n",
       "                                                                         Index([], dtype='object'))])),\n",
       "                                       ('gb',\n",
       "                                        GradientBoostingClassifier(random_state=42))]),\n",
       "             param_grid={'gb__learning_rate': [0.001, 0.01, 0.1],\n",
       "                         'gb__max_depth': [3, 5],\n",
       "                         'gb__n_estimators': [200, 300, 400]},\n",
       "             refit='neg_log_loss', scoring=['neg_log_loss', 'accuracy'],\n",
       "             verbose=1)"
      ]
     },
     "execution_count": 58,
     "metadata": {},
     "output_type": "execute_result"
    }
   ],
   "source": [
    "# fit on the train data\n",
    "gb_cv.fit(X_train, y_train)"
   ]
  },
  {
   "cell_type": "code",
   "execution_count": 59,
   "id": "bdfc0a53",
   "metadata": {},
   "outputs": [
    {
     "data": {
      "text/plain": [
       "-0.6616890331615158"
      ]
     },
     "execution_count": 59,
     "metadata": {},
     "output_type": "execute_result"
    }
   ],
   "source": [
    "# display the best gradient boost score\n",
    "gb_cv.best_score_"
   ]
  },
  {
   "cell_type": "code",
   "execution_count": 60,
   "id": "13c30cb8",
   "metadata": {},
   "outputs": [
    {
     "data": {
      "text/html": [
       "<div>\n",
       "<style scoped>\n",
       "    .dataframe tbody tr th:only-of-type {\n",
       "        vertical-align: middle;\n",
       "    }\n",
       "\n",
       "    .dataframe tbody tr th {\n",
       "        vertical-align: top;\n",
       "    }\n",
       "\n",
       "    .dataframe thead th {\n",
       "        text-align: right;\n",
       "    }\n",
       "</style>\n",
       "<table border=\"1\" class=\"dataframe\">\n",
       "  <thead>\n",
       "    <tr style=\"text-align: right;\">\n",
       "      <th></th>\n",
       "      <th>mean_fit_time</th>\n",
       "      <th>std_fit_time</th>\n",
       "      <th>mean_score_time</th>\n",
       "      <th>std_score_time</th>\n",
       "      <th>param_gb__learning_rate</th>\n",
       "      <th>param_gb__max_depth</th>\n",
       "      <th>param_gb__n_estimators</th>\n",
       "      <th>params</th>\n",
       "      <th>split0_test_neg_log_loss</th>\n",
       "      <th>split1_test_neg_log_loss</th>\n",
       "      <th>split2_test_neg_log_loss</th>\n",
       "      <th>split3_test_neg_log_loss</th>\n",
       "      <th>split4_test_neg_log_loss</th>\n",
       "      <th>mean_test_neg_log_loss</th>\n",
       "      <th>std_test_neg_log_loss</th>\n",
       "      <th>rank_test_neg_log_loss</th>\n",
       "      <th>split0_test_accuracy</th>\n",
       "      <th>split1_test_accuracy</th>\n",
       "      <th>split2_test_accuracy</th>\n",
       "      <th>split3_test_accuracy</th>\n",
       "      <th>split4_test_accuracy</th>\n",
       "      <th>mean_test_accuracy</th>\n",
       "      <th>std_test_accuracy</th>\n",
       "      <th>rank_test_accuracy</th>\n",
       "    </tr>\n",
       "  </thead>\n",
       "  <tbody>\n",
       "    <tr>\n",
       "      <th>8</th>\n",
       "      <td>3.756433</td>\n",
       "      <td>0.036516</td>\n",
       "      <td>0.007615</td>\n",
       "      <td>0.000226</td>\n",
       "      <td>0.01</td>\n",
       "      <td>3</td>\n",
       "      <td>400</td>\n",
       "      <td>{'gb__learning_rate': 0.01, 'gb__max_depth': 3...</td>\n",
       "      <td>-0.670905</td>\n",
       "      <td>-0.662275</td>\n",
       "      <td>-0.664357</td>\n",
       "      <td>-0.642580</td>\n",
       "      <td>-0.668328</td>\n",
       "      <td>-0.661689</td>\n",
       "      <td>0.010016</td>\n",
       "      <td>1</td>\n",
       "      <td>0.605416</td>\n",
       "      <td>0.605416</td>\n",
       "      <td>0.599613</td>\n",
       "      <td>0.645349</td>\n",
       "      <td>0.593023</td>\n",
       "      <td>0.609763</td>\n",
       "      <td>0.018371</td>\n",
       "      <td>2</td>\n",
       "    </tr>\n",
       "    <tr>\n",
       "      <th>7</th>\n",
       "      <td>2.773285</td>\n",
       "      <td>0.013670</td>\n",
       "      <td>0.006606</td>\n",
       "      <td>0.000170</td>\n",
       "      <td>0.01</td>\n",
       "      <td>3</td>\n",
       "      <td>300</td>\n",
       "      <td>{'gb__learning_rate': 0.01, 'gb__max_depth': 3...</td>\n",
       "      <td>-0.673782</td>\n",
       "      <td>-0.663149</td>\n",
       "      <td>-0.663088</td>\n",
       "      <td>-0.643709</td>\n",
       "      <td>-0.668116</td>\n",
       "      <td>-0.662369</td>\n",
       "      <td>0.010125</td>\n",
       "      <td>2</td>\n",
       "      <td>0.588008</td>\n",
       "      <td>0.609284</td>\n",
       "      <td>0.609284</td>\n",
       "      <td>0.647287</td>\n",
       "      <td>0.598837</td>\n",
       "      <td>0.610540</td>\n",
       "      <td>0.019991</td>\n",
       "      <td>1</td>\n",
       "    </tr>\n",
       "    <tr>\n",
       "      <th>6</th>\n",
       "      <td>1.846811</td>\n",
       "      <td>0.013085</td>\n",
       "      <td>0.005555</td>\n",
       "      <td>0.000188</td>\n",
       "      <td>0.01</td>\n",
       "      <td>3</td>\n",
       "      <td>200</td>\n",
       "      <td>{'gb__learning_rate': 0.01, 'gb__max_depth': 3...</td>\n",
       "      <td>-0.674430</td>\n",
       "      <td>-0.668417</td>\n",
       "      <td>-0.664900</td>\n",
       "      <td>-0.649758</td>\n",
       "      <td>-0.669236</td>\n",
       "      <td>-0.665348</td>\n",
       "      <td>0.008370</td>\n",
       "      <td>3</td>\n",
       "      <td>0.584139</td>\n",
       "      <td>0.593810</td>\n",
       "      <td>0.605416</td>\n",
       "      <td>0.651163</td>\n",
       "      <td>0.593023</td>\n",
       "      <td>0.605510</td>\n",
       "      <td>0.023806</td>\n",
       "      <td>3</td>\n",
       "    </tr>\n",
       "    <tr>\n",
       "      <th>9</th>\n",
       "      <td>2.962415</td>\n",
       "      <td>0.013117</td>\n",
       "      <td>0.007626</td>\n",
       "      <td>0.000602</td>\n",
       "      <td>0.01</td>\n",
       "      <td>5</td>\n",
       "      <td>200</td>\n",
       "      <td>{'gb__learning_rate': 0.01, 'gb__max_depth': 5...</td>\n",
       "      <td>-0.678398</td>\n",
       "      <td>-0.667134</td>\n",
       "      <td>-0.669745</td>\n",
       "      <td>-0.648703</td>\n",
       "      <td>-0.678339</td>\n",
       "      <td>-0.668464</td>\n",
       "      <td>0.010864</td>\n",
       "      <td>4</td>\n",
       "      <td>0.558994</td>\n",
       "      <td>0.605416</td>\n",
       "      <td>0.593810</td>\n",
       "      <td>0.635659</td>\n",
       "      <td>0.563953</td>\n",
       "      <td>0.591567</td>\n",
       "      <td>0.028158</td>\n",
       "      <td>6</td>\n",
       "    </tr>\n",
       "    <tr>\n",
       "      <th>10</th>\n",
       "      <td>4.471841</td>\n",
       "      <td>0.024658</td>\n",
       "      <td>0.009224</td>\n",
       "      <td>0.000668</td>\n",
       "      <td>0.01</td>\n",
       "      <td>5</td>\n",
       "      <td>300</td>\n",
       "      <td>{'gb__learning_rate': 0.01, 'gb__max_depth': 5...</td>\n",
       "      <td>-0.677326</td>\n",
       "      <td>-0.668275</td>\n",
       "      <td>-0.675631</td>\n",
       "      <td>-0.649841</td>\n",
       "      <td>-0.681277</td>\n",
       "      <td>-0.670470</td>\n",
       "      <td>0.011143</td>\n",
       "      <td>5</td>\n",
       "      <td>0.576402</td>\n",
       "      <td>0.605416</td>\n",
       "      <td>0.586074</td>\n",
       "      <td>0.625969</td>\n",
       "      <td>0.587209</td>\n",
       "      <td>0.596214</td>\n",
       "      <td>0.017587</td>\n",
       "      <td>4</td>\n",
       "    </tr>\n",
       "    <tr>\n",
       "      <th>11</th>\n",
       "      <td>6.049527</td>\n",
       "      <td>0.087589</td>\n",
       "      <td>0.010790</td>\n",
       "      <td>0.000209</td>\n",
       "      <td>0.01</td>\n",
       "      <td>5</td>\n",
       "      <td>400</td>\n",
       "      <td>{'gb__learning_rate': 0.01, 'gb__max_depth': 5...</td>\n",
       "      <td>-0.676643</td>\n",
       "      <td>-0.669239</td>\n",
       "      <td>-0.680921</td>\n",
       "      <td>-0.652746</td>\n",
       "      <td>-0.686477</td>\n",
       "      <td>-0.673205</td>\n",
       "      <td>0.011677</td>\n",
       "      <td>6</td>\n",
       "      <td>0.580271</td>\n",
       "      <td>0.605416</td>\n",
       "      <td>0.580271</td>\n",
       "      <td>0.631783</td>\n",
       "      <td>0.577519</td>\n",
       "      <td>0.595052</td>\n",
       "      <td>0.020981</td>\n",
       "      <td>5</td>\n",
       "    </tr>\n",
       "    <tr>\n",
       "      <th>5</th>\n",
       "      <td>5.863800</td>\n",
       "      <td>0.085167</td>\n",
       "      <td>0.010243</td>\n",
       "      <td>0.000494</td>\n",
       "      <td>0.001</td>\n",
       "      <td>5</td>\n",
       "      <td>400</td>\n",
       "      <td>{'gb__learning_rate': 0.001, 'gb__max_depth': ...</td>\n",
       "      <td>-0.684045</td>\n",
       "      <td>-0.680626</td>\n",
       "      <td>-0.673393</td>\n",
       "      <td>-0.671054</td>\n",
       "      <td>-0.681252</td>\n",
       "      <td>-0.678074</td>\n",
       "      <td>0.004969</td>\n",
       "      <td>7</td>\n",
       "      <td>0.549323</td>\n",
       "      <td>0.562863</td>\n",
       "      <td>0.586074</td>\n",
       "      <td>0.624031</td>\n",
       "      <td>0.579457</td>\n",
       "      <td>0.580350</td>\n",
       "      <td>0.025338</td>\n",
       "      <td>9</td>\n",
       "    </tr>\n",
       "    <tr>\n",
       "      <th>4</th>\n",
       "      <td>4.392570</td>\n",
       "      <td>0.057059</td>\n",
       "      <td>0.008055</td>\n",
       "      <td>0.000369</td>\n",
       "      <td>0.001</td>\n",
       "      <td>5</td>\n",
       "      <td>300</td>\n",
       "      <td>{'gb__learning_rate': 0.001, 'gb__max_depth': ...</td>\n",
       "      <td>-0.684866</td>\n",
       "      <td>-0.682472</td>\n",
       "      <td>-0.675911</td>\n",
       "      <td>-0.674883</td>\n",
       "      <td>-0.682505</td>\n",
       "      <td>-0.680128</td>\n",
       "      <td>0.003972</td>\n",
       "      <td>8</td>\n",
       "      <td>0.535783</td>\n",
       "      <td>0.568665</td>\n",
       "      <td>0.580271</td>\n",
       "      <td>0.606589</td>\n",
       "      <td>0.591085</td>\n",
       "      <td>0.576479</td>\n",
       "      <td>0.023881</td>\n",
       "      <td>10</td>\n",
       "    </tr>\n",
       "    <tr>\n",
       "      <th>2</th>\n",
       "      <td>3.608833</td>\n",
       "      <td>0.030395</td>\n",
       "      <td>0.007500</td>\n",
       "      <td>0.000386</td>\n",
       "      <td>0.001</td>\n",
       "      <td>3</td>\n",
       "      <td>400</td>\n",
       "      <td>{'gb__learning_rate': 0.001, 'gb__max_depth': ...</td>\n",
       "      <td>-0.683014</td>\n",
       "      <td>-0.681881</td>\n",
       "      <td>-0.680234</td>\n",
       "      <td>-0.674710</td>\n",
       "      <td>-0.681874</td>\n",
       "      <td>-0.680343</td>\n",
       "      <td>0.002952</td>\n",
       "      <td>9</td>\n",
       "      <td>0.566731</td>\n",
       "      <td>0.572534</td>\n",
       "      <td>0.555126</td>\n",
       "      <td>0.604651</td>\n",
       "      <td>0.569767</td>\n",
       "      <td>0.573762</td>\n",
       "      <td>0.016543</td>\n",
       "      <td>12</td>\n",
       "    </tr>\n",
       "    <tr>\n",
       "      <th>1</th>\n",
       "      <td>2.691835</td>\n",
       "      <td>0.018407</td>\n",
       "      <td>0.006160</td>\n",
       "      <td>0.000223</td>\n",
       "      <td>0.001</td>\n",
       "      <td>3</td>\n",
       "      <td>300</td>\n",
       "      <td>{'gb__learning_rate': 0.001, 'gb__max_depth': ...</td>\n",
       "      <td>-0.684309</td>\n",
       "      <td>-0.683600</td>\n",
       "      <td>-0.682430</td>\n",
       "      <td>-0.677987</td>\n",
       "      <td>-0.683452</td>\n",
       "      <td>-0.682355</td>\n",
       "      <td>0.002265</td>\n",
       "      <td>10</td>\n",
       "      <td>0.568665</td>\n",
       "      <td>0.558994</td>\n",
       "      <td>0.549323</td>\n",
       "      <td>0.604651</td>\n",
       "      <td>0.567829</td>\n",
       "      <td>0.569893</td>\n",
       "      <td>0.018739</td>\n",
       "      <td>13</td>\n",
       "    </tr>\n",
       "  </tbody>\n",
       "</table>\n",
       "</div>"
      ],
      "text/plain": [
       "    mean_fit_time  std_fit_time  mean_score_time  std_score_time  \\\n",
       "8        3.756433      0.036516         0.007615        0.000226   \n",
       "7        2.773285      0.013670         0.006606        0.000170   \n",
       "6        1.846811      0.013085         0.005555        0.000188   \n",
       "9        2.962415      0.013117         0.007626        0.000602   \n",
       "10       4.471841      0.024658         0.009224        0.000668   \n",
       "11       6.049527      0.087589         0.010790        0.000209   \n",
       "5        5.863800      0.085167         0.010243        0.000494   \n",
       "4        4.392570      0.057059         0.008055        0.000369   \n",
       "2        3.608833      0.030395         0.007500        0.000386   \n",
       "1        2.691835      0.018407         0.006160        0.000223   \n",
       "\n",
       "   param_gb__learning_rate param_gb__max_depth param_gb__n_estimators  \\\n",
       "8                     0.01                   3                    400   \n",
       "7                     0.01                   3                    300   \n",
       "6                     0.01                   3                    200   \n",
       "9                     0.01                   5                    200   \n",
       "10                    0.01                   5                    300   \n",
       "11                    0.01                   5                    400   \n",
       "5                    0.001                   5                    400   \n",
       "4                    0.001                   5                    300   \n",
       "2                    0.001                   3                    400   \n",
       "1                    0.001                   3                    300   \n",
       "\n",
       "                                               params  \\\n",
       "8   {'gb__learning_rate': 0.01, 'gb__max_depth': 3...   \n",
       "7   {'gb__learning_rate': 0.01, 'gb__max_depth': 3...   \n",
       "6   {'gb__learning_rate': 0.01, 'gb__max_depth': 3...   \n",
       "9   {'gb__learning_rate': 0.01, 'gb__max_depth': 5...   \n",
       "10  {'gb__learning_rate': 0.01, 'gb__max_depth': 5...   \n",
       "11  {'gb__learning_rate': 0.01, 'gb__max_depth': 5...   \n",
       "5   {'gb__learning_rate': 0.001, 'gb__max_depth': ...   \n",
       "4   {'gb__learning_rate': 0.001, 'gb__max_depth': ...   \n",
       "2   {'gb__learning_rate': 0.001, 'gb__max_depth': ...   \n",
       "1   {'gb__learning_rate': 0.001, 'gb__max_depth': ...   \n",
       "\n",
       "    split0_test_neg_log_loss  split1_test_neg_log_loss  \\\n",
       "8                  -0.670905                 -0.662275   \n",
       "7                  -0.673782                 -0.663149   \n",
       "6                  -0.674430                 -0.668417   \n",
       "9                  -0.678398                 -0.667134   \n",
       "10                 -0.677326                 -0.668275   \n",
       "11                 -0.676643                 -0.669239   \n",
       "5                  -0.684045                 -0.680626   \n",
       "4                  -0.684866                 -0.682472   \n",
       "2                  -0.683014                 -0.681881   \n",
       "1                  -0.684309                 -0.683600   \n",
       "\n",
       "    split2_test_neg_log_loss  split3_test_neg_log_loss  \\\n",
       "8                  -0.664357                 -0.642580   \n",
       "7                  -0.663088                 -0.643709   \n",
       "6                  -0.664900                 -0.649758   \n",
       "9                  -0.669745                 -0.648703   \n",
       "10                 -0.675631                 -0.649841   \n",
       "11                 -0.680921                 -0.652746   \n",
       "5                  -0.673393                 -0.671054   \n",
       "4                  -0.675911                 -0.674883   \n",
       "2                  -0.680234                 -0.674710   \n",
       "1                  -0.682430                 -0.677987   \n",
       "\n",
       "    split4_test_neg_log_loss  mean_test_neg_log_loss  std_test_neg_log_loss  \\\n",
       "8                  -0.668328               -0.661689               0.010016   \n",
       "7                  -0.668116               -0.662369               0.010125   \n",
       "6                  -0.669236               -0.665348               0.008370   \n",
       "9                  -0.678339               -0.668464               0.010864   \n",
       "10                 -0.681277               -0.670470               0.011143   \n",
       "11                 -0.686477               -0.673205               0.011677   \n",
       "5                  -0.681252               -0.678074               0.004969   \n",
       "4                  -0.682505               -0.680128               0.003972   \n",
       "2                  -0.681874               -0.680343               0.002952   \n",
       "1                  -0.683452               -0.682355               0.002265   \n",
       "\n",
       "    rank_test_neg_log_loss  split0_test_accuracy  split1_test_accuracy  \\\n",
       "8                        1              0.605416              0.605416   \n",
       "7                        2              0.588008              0.609284   \n",
       "6                        3              0.584139              0.593810   \n",
       "9                        4              0.558994              0.605416   \n",
       "10                       5              0.576402              0.605416   \n",
       "11                       6              0.580271              0.605416   \n",
       "5                        7              0.549323              0.562863   \n",
       "4                        8              0.535783              0.568665   \n",
       "2                        9              0.566731              0.572534   \n",
       "1                       10              0.568665              0.558994   \n",
       "\n",
       "    split2_test_accuracy  split3_test_accuracy  split4_test_accuracy  \\\n",
       "8               0.599613              0.645349              0.593023   \n",
       "7               0.609284              0.647287              0.598837   \n",
       "6               0.605416              0.651163              0.593023   \n",
       "9               0.593810              0.635659              0.563953   \n",
       "10              0.586074              0.625969              0.587209   \n",
       "11              0.580271              0.631783              0.577519   \n",
       "5               0.586074              0.624031              0.579457   \n",
       "4               0.580271              0.606589              0.591085   \n",
       "2               0.555126              0.604651              0.569767   \n",
       "1               0.549323              0.604651              0.567829   \n",
       "\n",
       "    mean_test_accuracy  std_test_accuracy  rank_test_accuracy  \n",
       "8             0.609763           0.018371                   2  \n",
       "7             0.610540           0.019991                   1  \n",
       "6             0.605510           0.023806                   3  \n",
       "9             0.591567           0.028158                   6  \n",
       "10            0.596214           0.017587                   4  \n",
       "11            0.595052           0.020981                   5  \n",
       "5             0.580350           0.025338                   9  \n",
       "4             0.576479           0.023881                  10  \n",
       "2             0.573762           0.016543                  12  \n",
       "1             0.569893           0.018739                  13  "
      ]
     },
     "execution_count": 60,
     "metadata": {},
     "output_type": "execute_result"
    }
   ],
   "source": [
    "# store the gb cv results in a df\n",
    "gb_results = pd.DataFrame(gb_cv.cv_results_).sort_values('mean_test_neg_log_loss', ascending=False)\n",
    "gb_results.head(10)"
   ]
  },
  {
   "cell_type": "markdown",
   "id": "65494197",
   "metadata": {},
   "source": [
    "### AdaBoost Classifier Grid Search"
   ]
  },
  {
   "cell_type": "code",
   "execution_count": 129,
   "id": "f68df2d8",
   "metadata": {},
   "outputs": [],
   "source": [
    "# Instantiate AdaBoostClassifier pipeline and set param grid\n",
    "ada_pipeline = Pipeline(steps=[('preprocess', ct),\n",
    "                      ('ada', AdaBoostClassifier(random_state=rnd))])\n",
    "\n",
    "# AdaBoost param grid includes SVM/LogReg for estimator\n",
    "ada_params = {'ada__n_estimators': [25, 50],\n",
    "         'ada__learning_rate': [.1, 1, 10, 20],\n",
    "         'ada__base_estimator': [svm.SVC(probability=True , kernel='linear'), LogisticRegression()],}\n",
    "\n",
    "ada_cv = GridSearchCV(ada_pipeline, param_grid=ada_params, cv=5, scoring=scoring, refit='neg_log_loss', verbose=1)"
   ]
  },
  {
   "cell_type": "code",
   "execution_count": 130,
   "id": "c4a7ac7e",
   "metadata": {},
   "outputs": [
    {
     "name": "stdout",
     "output_type": "stream",
     "text": [
      "Fitting 5 folds for each of 16 candidates, totalling 80 fits\n"
     ]
    },
    {
     "data": {
      "text/html": [
       "<style>#sk-container-id-5 {color: black;background-color: white;}#sk-container-id-5 pre{padding: 0;}#sk-container-id-5 div.sk-toggleable {background-color: white;}#sk-container-id-5 label.sk-toggleable__label {cursor: pointer;display: block;width: 100%;margin-bottom: 0;padding: 0.3em;box-sizing: border-box;text-align: center;}#sk-container-id-5 label.sk-toggleable__label-arrow:before {content: \"▸\";float: left;margin-right: 0.25em;color: #696969;}#sk-container-id-5 label.sk-toggleable__label-arrow:hover:before {color: black;}#sk-container-id-5 div.sk-estimator:hover label.sk-toggleable__label-arrow:before {color: black;}#sk-container-id-5 div.sk-toggleable__content {max-height: 0;max-width: 0;overflow: hidden;text-align: left;background-color: #f0f8ff;}#sk-container-id-5 div.sk-toggleable__content pre {margin: 0.2em;color: black;border-radius: 0.25em;background-color: #f0f8ff;}#sk-container-id-5 input.sk-toggleable__control:checked~div.sk-toggleable__content {max-height: 200px;max-width: 100%;overflow: auto;}#sk-container-id-5 input.sk-toggleable__control:checked~label.sk-toggleable__label-arrow:before {content: \"▾\";}#sk-container-id-5 div.sk-estimator input.sk-toggleable__control:checked~label.sk-toggleable__label {background-color: #d4ebff;}#sk-container-id-5 div.sk-label input.sk-toggleable__control:checked~label.sk-toggleable__label {background-color: #d4ebff;}#sk-container-id-5 input.sk-hidden--visually {border: 0;clip: rect(1px 1px 1px 1px);clip: rect(1px, 1px, 1px, 1px);height: 1px;margin: -1px;overflow: hidden;padding: 0;position: absolute;width: 1px;}#sk-container-id-5 div.sk-estimator {font-family: monospace;background-color: #f0f8ff;border: 1px dotted black;border-radius: 0.25em;box-sizing: border-box;margin-bottom: 0.5em;}#sk-container-id-5 div.sk-estimator:hover {background-color: #d4ebff;}#sk-container-id-5 div.sk-parallel-item::after {content: \"\";width: 100%;border-bottom: 1px solid gray;flex-grow: 1;}#sk-container-id-5 div.sk-label:hover label.sk-toggleable__label {background-color: #d4ebff;}#sk-container-id-5 div.sk-serial::before {content: \"\";position: absolute;border-left: 1px solid gray;box-sizing: border-box;top: 0;bottom: 0;left: 50%;z-index: 0;}#sk-container-id-5 div.sk-serial {display: flex;flex-direction: column;align-items: center;background-color: white;padding-right: 0.2em;padding-left: 0.2em;position: relative;}#sk-container-id-5 div.sk-item {position: relative;z-index: 1;}#sk-container-id-5 div.sk-parallel {display: flex;align-items: stretch;justify-content: center;background-color: white;position: relative;}#sk-container-id-5 div.sk-item::before, #sk-container-id-5 div.sk-parallel-item::before {content: \"\";position: absolute;border-left: 1px solid gray;box-sizing: border-box;top: 0;bottom: 0;left: 50%;z-index: -1;}#sk-container-id-5 div.sk-parallel-item {display: flex;flex-direction: column;z-index: 1;position: relative;background-color: white;}#sk-container-id-5 div.sk-parallel-item:first-child::after {align-self: flex-end;width: 50%;}#sk-container-id-5 div.sk-parallel-item:last-child::after {align-self: flex-start;width: 50%;}#sk-container-id-5 div.sk-parallel-item:only-child::after {width: 0;}#sk-container-id-5 div.sk-dashed-wrapped {border: 1px dashed gray;margin: 0 0.4em 0.5em 0.4em;box-sizing: border-box;padding-bottom: 0.4em;background-color: white;}#sk-container-id-5 div.sk-label label {font-family: monospace;font-weight: bold;display: inline-block;line-height: 1.2em;}#sk-container-id-5 div.sk-label-container {text-align: center;}#sk-container-id-5 div.sk-container {/* jupyter's `normalize.less` sets `[hidden] { display: none; }` but bootstrap.min.css set `[hidden] { display: none !important; }` so we also need the `!important` here to be able to override the default hidden behavior on the sphinx rendered scikit-learn.org. See: https://github.com/scikit-learn/scikit-learn/issues/21755 */display: inline-block !important;position: relative;}#sk-container-id-5 div.sk-text-repr-fallback {display: none;}</style><div id=\"sk-container-id-5\" class=\"sk-top-container\"><div class=\"sk-text-repr-fallback\"><pre>GridSearchCV(cv=5,\n",
       "             estimator=Pipeline(steps=[(&#x27;preprocess&#x27;,\n",
       "                                        ColumnTransformer(transformers=[(&#x27;numpipe&#x27;,\n",
       "                                                                         Pipeline(steps=[(&#x27;ss&#x27;,\n",
       "                                                                                          StandardScaler())]),\n",
       "                                                                         Index([&#x27;home_rolling_avg_FF%&#x27;, &#x27;home_rolling_avg_GF%&#x27;, &#x27;home_rolling_avg_xGF%&#x27;,\n",
       "       &#x27;home_rolling_avg_HDCF%&#x27;, &#x27;home_rolling_avg_HDSH%&#x27;,\n",
       "       &#x27;home_rolling_avg_HDSV%&#x27;, &#x27;home_rolling_avg_SH%&#x27;,\n",
       "       &#x27;home_rolling_avg_SV%&#x27;, &#x27;home_rol...\n",
       "                                                                                          OneHotEncoder(handle_unknown=&#x27;ignore&#x27;)),\n",
       "                                                                                         (&#x27;onehotnorm&#x27;,\n",
       "                                                                                          MaxAbsScaler())]),\n",
       "                                                                         Index([], dtype=&#x27;object&#x27;))])),\n",
       "                                       (&#x27;ada&#x27;,\n",
       "                                        AdaBoostClassifier(random_state=42))]),\n",
       "             param_grid={&#x27;ada__base_estimator&#x27;: [SVC(kernel=&#x27;linear&#x27;,\n",
       "                                                     probability=True),\n",
       "                                                 LogisticRegression()],\n",
       "                         &#x27;ada__learning_rate&#x27;: [0.1, 1, 10, 20],\n",
       "                         &#x27;ada__n_estimators&#x27;: [25, 50]},\n",
       "             refit=&#x27;neg_log_loss&#x27;, scoring=[&#x27;neg_log_loss&#x27;, &#x27;accuracy&#x27;],\n",
       "             verbose=1)</pre><b>In a Jupyter environment, please rerun this cell to show the HTML representation or trust the notebook. <br />On GitHub, the HTML representation is unable to render, please try loading this page with nbviewer.org.</b></div><div class=\"sk-container\" hidden><div class=\"sk-item sk-dashed-wrapped\"><div class=\"sk-label-container\"><div class=\"sk-label sk-toggleable\"><input class=\"sk-toggleable__control sk-hidden--visually\" id=\"sk-estimator-id-36\" type=\"checkbox\" ><label for=\"sk-estimator-id-36\" class=\"sk-toggleable__label sk-toggleable__label-arrow\">GridSearchCV</label><div class=\"sk-toggleable__content\"><pre>GridSearchCV(cv=5,\n",
       "             estimator=Pipeline(steps=[(&#x27;preprocess&#x27;,\n",
       "                                        ColumnTransformer(transformers=[(&#x27;numpipe&#x27;,\n",
       "                                                                         Pipeline(steps=[(&#x27;ss&#x27;,\n",
       "                                                                                          StandardScaler())]),\n",
       "                                                                         Index([&#x27;home_rolling_avg_FF%&#x27;, &#x27;home_rolling_avg_GF%&#x27;, &#x27;home_rolling_avg_xGF%&#x27;,\n",
       "       &#x27;home_rolling_avg_HDCF%&#x27;, &#x27;home_rolling_avg_HDSH%&#x27;,\n",
       "       &#x27;home_rolling_avg_HDSV%&#x27;, &#x27;home_rolling_avg_SH%&#x27;,\n",
       "       &#x27;home_rolling_avg_SV%&#x27;, &#x27;home_rol...\n",
       "                                                                                          OneHotEncoder(handle_unknown=&#x27;ignore&#x27;)),\n",
       "                                                                                         (&#x27;onehotnorm&#x27;,\n",
       "                                                                                          MaxAbsScaler())]),\n",
       "                                                                         Index([], dtype=&#x27;object&#x27;))])),\n",
       "                                       (&#x27;ada&#x27;,\n",
       "                                        AdaBoostClassifier(random_state=42))]),\n",
       "             param_grid={&#x27;ada__base_estimator&#x27;: [SVC(kernel=&#x27;linear&#x27;,\n",
       "                                                     probability=True),\n",
       "                                                 LogisticRegression()],\n",
       "                         &#x27;ada__learning_rate&#x27;: [0.1, 1, 10, 20],\n",
       "                         &#x27;ada__n_estimators&#x27;: [25, 50]},\n",
       "             refit=&#x27;neg_log_loss&#x27;, scoring=[&#x27;neg_log_loss&#x27;, &#x27;accuracy&#x27;],\n",
       "             verbose=1)</pre></div></div></div><div class=\"sk-parallel\"><div class=\"sk-parallel-item\"><div class=\"sk-item\"><div class=\"sk-label-container\"><div class=\"sk-label sk-toggleable\"><input class=\"sk-toggleable__control sk-hidden--visually\" id=\"sk-estimator-id-37\" type=\"checkbox\" ><label for=\"sk-estimator-id-37\" class=\"sk-toggleable__label sk-toggleable__label-arrow\">estimator: Pipeline</label><div class=\"sk-toggleable__content\"><pre>Pipeline(steps=[(&#x27;preprocess&#x27;,\n",
       "                 ColumnTransformer(transformers=[(&#x27;numpipe&#x27;,\n",
       "                                                  Pipeline(steps=[(&#x27;ss&#x27;,\n",
       "                                                                   StandardScaler())]),\n",
       "                                                  Index([&#x27;home_rolling_avg_FF%&#x27;, &#x27;home_rolling_avg_GF%&#x27;, &#x27;home_rolling_avg_xGF%&#x27;,\n",
       "       &#x27;home_rolling_avg_HDCF%&#x27;, &#x27;home_rolling_avg_HDSH%&#x27;,\n",
       "       &#x27;home_rolling_avg_HDSV%&#x27;, &#x27;home_rolling_avg_SH%&#x27;,\n",
       "       &#x27;home_rolling_avg_SV%&#x27;, &#x27;home_rolling_avg_GF/60_pp&#x27;,\n",
       "       &#x27;home_rol...\n",
       "       &#x27;away_rolling_avg_HDSV%&#x27;, &#x27;away_rolling_avg_SH%&#x27;,\n",
       "       &#x27;away_rolling_avg_SV%&#x27;, &#x27;away_rolling_avg_GF/60_pp&#x27;,\n",
       "       &#x27;away_rolling_avg_xGF/60_pp&#x27;, &#x27;away_rolling_avg_GA/60_pk&#x27;,\n",
       "       &#x27;away_rolling_avg_xGA/60_pk&#x27;],\n",
       "      dtype=&#x27;object&#x27;)),\n",
       "                                                 (&#x27;nominalpipe&#x27;,\n",
       "                                                  Pipeline(steps=[(&#x27;onehotenc&#x27;,\n",
       "                                                                   OneHotEncoder(handle_unknown=&#x27;ignore&#x27;)),\n",
       "                                                                  (&#x27;onehotnorm&#x27;,\n",
       "                                                                   MaxAbsScaler())]),\n",
       "                                                  Index([], dtype=&#x27;object&#x27;))])),\n",
       "                (&#x27;ada&#x27;, AdaBoostClassifier(random_state=42))])</pre></div></div></div><div class=\"sk-serial\"><div class=\"sk-item\"><div class=\"sk-serial\"><div class=\"sk-item sk-dashed-wrapped\"><div class=\"sk-label-container\"><div class=\"sk-label sk-toggleable\"><input class=\"sk-toggleable__control sk-hidden--visually\" id=\"sk-estimator-id-38\" type=\"checkbox\" ><label for=\"sk-estimator-id-38\" class=\"sk-toggleable__label sk-toggleable__label-arrow\">preprocess: ColumnTransformer</label><div class=\"sk-toggleable__content\"><pre>ColumnTransformer(transformers=[(&#x27;numpipe&#x27;,\n",
       "                                 Pipeline(steps=[(&#x27;ss&#x27;, StandardScaler())]),\n",
       "                                 Index([&#x27;home_rolling_avg_FF%&#x27;, &#x27;home_rolling_avg_GF%&#x27;, &#x27;home_rolling_avg_xGF%&#x27;,\n",
       "       &#x27;home_rolling_avg_HDCF%&#x27;, &#x27;home_rolling_avg_HDSH%&#x27;,\n",
       "       &#x27;home_rolling_avg_HDSV%&#x27;, &#x27;home_rolling_avg_SH%&#x27;,\n",
       "       &#x27;home_rolling_avg_SV%&#x27;, &#x27;home_rolling_avg_GF/60_pp&#x27;,\n",
       "       &#x27;home_rolling_avg_xGF/60_pp&#x27;, &#x27;home_roll...\n",
       "       &#x27;away_rolling_avg_HDCF%&#x27;, &#x27;away_rolling_avg_HDSH%&#x27;,\n",
       "       &#x27;away_rolling_avg_HDSV%&#x27;, &#x27;away_rolling_avg_SH%&#x27;,\n",
       "       &#x27;away_rolling_avg_SV%&#x27;, &#x27;away_rolling_avg_GF/60_pp&#x27;,\n",
       "       &#x27;away_rolling_avg_xGF/60_pp&#x27;, &#x27;away_rolling_avg_GA/60_pk&#x27;,\n",
       "       &#x27;away_rolling_avg_xGA/60_pk&#x27;],\n",
       "      dtype=&#x27;object&#x27;)),\n",
       "                                (&#x27;nominalpipe&#x27;,\n",
       "                                 Pipeline(steps=[(&#x27;onehotenc&#x27;,\n",
       "                                                  OneHotEncoder(handle_unknown=&#x27;ignore&#x27;)),\n",
       "                                                 (&#x27;onehotnorm&#x27;,\n",
       "                                                  MaxAbsScaler())]),\n",
       "                                 Index([], dtype=&#x27;object&#x27;))])</pre></div></div></div><div class=\"sk-parallel\"><div class=\"sk-parallel-item\"><div class=\"sk-item\"><div class=\"sk-label-container\"><div class=\"sk-label sk-toggleable\"><input class=\"sk-toggleable__control sk-hidden--visually\" id=\"sk-estimator-id-39\" type=\"checkbox\" ><label for=\"sk-estimator-id-39\" class=\"sk-toggleable__label sk-toggleable__label-arrow\">numpipe</label><div class=\"sk-toggleable__content\"><pre>Index([&#x27;home_rolling_avg_FF%&#x27;, &#x27;home_rolling_avg_GF%&#x27;, &#x27;home_rolling_avg_xGF%&#x27;,\n",
       "       &#x27;home_rolling_avg_HDCF%&#x27;, &#x27;home_rolling_avg_HDSH%&#x27;,\n",
       "       &#x27;home_rolling_avg_HDSV%&#x27;, &#x27;home_rolling_avg_SH%&#x27;,\n",
       "       &#x27;home_rolling_avg_SV%&#x27;, &#x27;home_rolling_avg_GF/60_pp&#x27;,\n",
       "       &#x27;home_rolling_avg_xGF/60_pp&#x27;, &#x27;home_rolling_avg_GA/60_pk&#x27;,\n",
       "       &#x27;home_rolling_avg_xGA/60_pk&#x27;, &#x27;away_rolling_avg_FF%&#x27;,\n",
       "       &#x27;away_rolling_avg_GF%&#x27;, &#x27;away_rolling_avg_xGF%&#x27;,\n",
       "       &#x27;away_rolling_avg_HDCF%&#x27;, &#x27;away_rolling_avg_HDSH%&#x27;,\n",
       "       &#x27;away_rolling_avg_HDSV%&#x27;, &#x27;away_rolling_avg_SH%&#x27;,\n",
       "       &#x27;away_rolling_avg_SV%&#x27;, &#x27;away_rolling_avg_GF/60_pp&#x27;,\n",
       "       &#x27;away_rolling_avg_xGF/60_pp&#x27;, &#x27;away_rolling_avg_GA/60_pk&#x27;,\n",
       "       &#x27;away_rolling_avg_xGA/60_pk&#x27;],\n",
       "      dtype=&#x27;object&#x27;)</pre></div></div></div><div class=\"sk-serial\"><div class=\"sk-item\"><div class=\"sk-serial\"><div class=\"sk-item\"><div class=\"sk-estimator sk-toggleable\"><input class=\"sk-toggleable__control sk-hidden--visually\" id=\"sk-estimator-id-40\" type=\"checkbox\" ><label for=\"sk-estimator-id-40\" class=\"sk-toggleable__label sk-toggleable__label-arrow\">StandardScaler</label><div class=\"sk-toggleable__content\"><pre>StandardScaler()</pre></div></div></div></div></div></div></div></div><div class=\"sk-parallel-item\"><div class=\"sk-item\"><div class=\"sk-label-container\"><div class=\"sk-label sk-toggleable\"><input class=\"sk-toggleable__control sk-hidden--visually\" id=\"sk-estimator-id-41\" type=\"checkbox\" ><label for=\"sk-estimator-id-41\" class=\"sk-toggleable__label sk-toggleable__label-arrow\">nominalpipe</label><div class=\"sk-toggleable__content\"><pre>Index([], dtype=&#x27;object&#x27;)</pre></div></div></div><div class=\"sk-serial\"><div class=\"sk-item\"><div class=\"sk-serial\"><div class=\"sk-item\"><div class=\"sk-estimator sk-toggleable\"><input class=\"sk-toggleable__control sk-hidden--visually\" id=\"sk-estimator-id-42\" type=\"checkbox\" ><label for=\"sk-estimator-id-42\" class=\"sk-toggleable__label sk-toggleable__label-arrow\">OneHotEncoder</label><div class=\"sk-toggleable__content\"><pre>OneHotEncoder(handle_unknown=&#x27;ignore&#x27;)</pre></div></div></div><div class=\"sk-item\"><div class=\"sk-estimator sk-toggleable\"><input class=\"sk-toggleable__control sk-hidden--visually\" id=\"sk-estimator-id-43\" type=\"checkbox\" ><label for=\"sk-estimator-id-43\" class=\"sk-toggleable__label sk-toggleable__label-arrow\">MaxAbsScaler</label><div class=\"sk-toggleable__content\"><pre>MaxAbsScaler()</pre></div></div></div></div></div></div></div></div></div></div><div class=\"sk-item\"><div class=\"sk-estimator sk-toggleable\"><input class=\"sk-toggleable__control sk-hidden--visually\" id=\"sk-estimator-id-44\" type=\"checkbox\" ><label for=\"sk-estimator-id-44\" class=\"sk-toggleable__label sk-toggleable__label-arrow\">AdaBoostClassifier</label><div class=\"sk-toggleable__content\"><pre>AdaBoostClassifier(random_state=42)</pre></div></div></div></div></div></div></div></div></div></div></div></div>"
      ],
      "text/plain": [
       "GridSearchCV(cv=5,\n",
       "             estimator=Pipeline(steps=[('preprocess',\n",
       "                                        ColumnTransformer(transformers=[('numpipe',\n",
       "                                                                         Pipeline(steps=[('ss',\n",
       "                                                                                          StandardScaler())]),\n",
       "                                                                         Index(['home_rolling_avg_FF%', 'home_rolling_avg_GF%', 'home_rolling_avg_xGF%',\n",
       "       'home_rolling_avg_HDCF%', 'home_rolling_avg_HDSH%',\n",
       "       'home_rolling_avg_HDSV%', 'home_rolling_avg_SH%',\n",
       "       'home_rolling_avg_SV%', 'home_rol...\n",
       "                                                                                          OneHotEncoder(handle_unknown='ignore')),\n",
       "                                                                                         ('onehotnorm',\n",
       "                                                                                          MaxAbsScaler())]),\n",
       "                                                                         Index([], dtype='object'))])),\n",
       "                                       ('ada',\n",
       "                                        AdaBoostClassifier(random_state=42))]),\n",
       "             param_grid={'ada__base_estimator': [SVC(kernel='linear',\n",
       "                                                     probability=True),\n",
       "                                                 LogisticRegression()],\n",
       "                         'ada__learning_rate': [0.1, 1, 10, 20],\n",
       "                         'ada__n_estimators': [25, 50]},\n",
       "             refit='neg_log_loss', scoring=['neg_log_loss', 'accuracy'],\n",
       "             verbose=1)"
      ]
     },
     "execution_count": 130,
     "metadata": {},
     "output_type": "execute_result"
    }
   ],
   "source": [
    "# fit on the raining data\n",
    "ada_cv.fit(X_train, y_train)"
   ]
  },
  {
   "cell_type": "code",
   "execution_count": 131,
   "id": "81a934d7",
   "metadata": {},
   "outputs": [
    {
     "data": {
      "text/plain": [
       "-0.6709999577464733"
      ]
     },
     "execution_count": 131,
     "metadata": {},
     "output_type": "execute_result"
    }
   ],
   "source": [
    "# display the best score\n",
    "ada_cv.best_score_"
   ]
  },
  {
   "cell_type": "code",
   "execution_count": 132,
   "id": "17f44ccc",
   "metadata": {},
   "outputs": [
    {
     "data": {
      "text/html": [
       "<div>\n",
       "<style scoped>\n",
       "    .dataframe tbody tr th:only-of-type {\n",
       "        vertical-align: middle;\n",
       "    }\n",
       "\n",
       "    .dataframe tbody tr th {\n",
       "        vertical-align: top;\n",
       "    }\n",
       "\n",
       "    .dataframe thead th {\n",
       "        text-align: right;\n",
       "    }\n",
       "</style>\n",
       "<table border=\"1\" class=\"dataframe\">\n",
       "  <thead>\n",
       "    <tr style=\"text-align: right;\">\n",
       "      <th></th>\n",
       "      <th>mean_fit_time</th>\n",
       "      <th>std_fit_time</th>\n",
       "      <th>mean_score_time</th>\n",
       "      <th>std_score_time</th>\n",
       "      <th>param_ada__base_estimator</th>\n",
       "      <th>param_ada__learning_rate</th>\n",
       "      <th>param_ada__n_estimators</th>\n",
       "      <th>params</th>\n",
       "      <th>split0_test_neg_log_loss</th>\n",
       "      <th>split1_test_neg_log_loss</th>\n",
       "      <th>split2_test_neg_log_loss</th>\n",
       "      <th>split3_test_neg_log_loss</th>\n",
       "      <th>split4_test_neg_log_loss</th>\n",
       "      <th>mean_test_neg_log_loss</th>\n",
       "      <th>std_test_neg_log_loss</th>\n",
       "      <th>rank_test_neg_log_loss</th>\n",
       "      <th>split0_test_accuracy</th>\n",
       "      <th>split1_test_accuracy</th>\n",
       "      <th>split2_test_accuracy</th>\n",
       "      <th>split3_test_accuracy</th>\n",
       "      <th>split4_test_accuracy</th>\n",
       "      <th>mean_test_accuracy</th>\n",
       "      <th>std_test_accuracy</th>\n",
       "      <th>rank_test_accuracy</th>\n",
       "    </tr>\n",
       "  </thead>\n",
       "  <tbody>\n",
       "    <tr>\n",
       "      <th>0</th>\n",
       "      <td>16.209140</td>\n",
       "      <td>0.308196</td>\n",
       "      <td>1.256776</td>\n",
       "      <td>0.149910</td>\n",
       "      <td>SVC(kernel='linear', probability=True)</td>\n",
       "      <td>0.1</td>\n",
       "      <td>25</td>\n",
       "      <td>{'ada__base_estimator': SVC(kernel='linear', p...</td>\n",
       "      <td>-0.674094</td>\n",
       "      <td>-0.672129</td>\n",
       "      <td>-0.670664</td>\n",
       "      <td>-0.668098</td>\n",
       "      <td>-0.670015</td>\n",
       "      <td>-0.671000</td>\n",
       "      <td>0.002018</td>\n",
       "      <td>1</td>\n",
       "      <td>0.589942</td>\n",
       "      <td>0.613153</td>\n",
       "      <td>0.593810</td>\n",
       "      <td>0.624031</td>\n",
       "      <td>0.633721</td>\n",
       "      <td>0.610931</td>\n",
       "      <td>0.016909</td>\n",
       "      <td>1</td>\n",
       "    </tr>\n",
       "    <tr>\n",
       "      <th>8</th>\n",
       "      <td>0.064263</td>\n",
       "      <td>0.003294</td>\n",
       "      <td>0.007103</td>\n",
       "      <td>0.000271</td>\n",
       "      <td>LogisticRegression()</td>\n",
       "      <td>0.1</td>\n",
       "      <td>25</td>\n",
       "      <td>{'ada__base_estimator': LogisticRegression(), ...</td>\n",
       "      <td>-0.681232</td>\n",
       "      <td>-0.679472</td>\n",
       "      <td>-0.676975</td>\n",
       "      <td>-0.676454</td>\n",
       "      <td>-0.676919</td>\n",
       "      <td>-0.678211</td>\n",
       "      <td>0.001844</td>\n",
       "      <td>2</td>\n",
       "      <td>0.564797</td>\n",
       "      <td>0.589942</td>\n",
       "      <td>0.597679</td>\n",
       "      <td>0.614341</td>\n",
       "      <td>0.645349</td>\n",
       "      <td>0.602422</td>\n",
       "      <td>0.026753</td>\n",
       "      <td>5</td>\n",
       "    </tr>\n",
       "    <tr>\n",
       "      <th>4</th>\n",
       "      <td>16.195425</td>\n",
       "      <td>0.076233</td>\n",
       "      <td>1.217250</td>\n",
       "      <td>0.001756</td>\n",
       "      <td>SVC(kernel='linear', probability=True)</td>\n",
       "      <td>10</td>\n",
       "      <td>25</td>\n",
       "      <td>{'ada__base_estimator': SVC(kernel='linear', p...</td>\n",
       "      <td>-0.684480</td>\n",
       "      <td>-0.675855</td>\n",
       "      <td>-0.680933</td>\n",
       "      <td>-0.678199</td>\n",
       "      <td>-0.677054</td>\n",
       "      <td>-0.679305</td>\n",
       "      <td>0.003086</td>\n",
       "      <td>3</td>\n",
       "      <td>0.541586</td>\n",
       "      <td>0.576402</td>\n",
       "      <td>0.595745</td>\n",
       "      <td>0.596899</td>\n",
       "      <td>0.620155</td>\n",
       "      <td>0.586157</td>\n",
       "      <td>0.026248</td>\n",
       "      <td>7</td>\n",
       "    </tr>\n",
       "    <tr>\n",
       "      <th>1</th>\n",
       "      <td>31.615268</td>\n",
       "      <td>0.071517</td>\n",
       "      <td>2.309478</td>\n",
       "      <td>0.007129</td>\n",
       "      <td>SVC(kernel='linear', probability=True)</td>\n",
       "      <td>0.1</td>\n",
       "      <td>50</td>\n",
       "      <td>{'ada__base_estimator': SVC(kernel='linear', p...</td>\n",
       "      <td>-0.681155</td>\n",
       "      <td>-0.680464</td>\n",
       "      <td>-0.679646</td>\n",
       "      <td>-0.677685</td>\n",
       "      <td>-0.679658</td>\n",
       "      <td>-0.679722</td>\n",
       "      <td>0.001163</td>\n",
       "      <td>4</td>\n",
       "      <td>0.595745</td>\n",
       "      <td>0.574468</td>\n",
       "      <td>0.578337</td>\n",
       "      <td>0.608527</td>\n",
       "      <td>0.593023</td>\n",
       "      <td>0.590020</td>\n",
       "      <td>0.012350</td>\n",
       "      <td>6</td>\n",
       "    </tr>\n",
       "    <tr>\n",
       "      <th>3</th>\n",
       "      <td>30.989938</td>\n",
       "      <td>2.484055</td>\n",
       "      <td>2.272117</td>\n",
       "      <td>0.229787</td>\n",
       "      <td>SVC(kernel='linear', probability=True)</td>\n",
       "      <td>1</td>\n",
       "      <td>50</td>\n",
       "      <td>{'ada__base_estimator': SVC(kernel='linear', p...</td>\n",
       "      <td>-0.687483</td>\n",
       "      <td>-0.681919</td>\n",
       "      <td>-0.671081</td>\n",
       "      <td>-0.672323</td>\n",
       "      <td>-0.688831</td>\n",
       "      <td>-0.680327</td>\n",
       "      <td>0.007425</td>\n",
       "      <td>5</td>\n",
       "      <td>0.539652</td>\n",
       "      <td>0.531915</td>\n",
       "      <td>0.593810</td>\n",
       "      <td>0.575581</td>\n",
       "      <td>0.527132</td>\n",
       "      <td>0.553618</td>\n",
       "      <td>0.026326</td>\n",
       "      <td>9</td>\n",
       "    </tr>\n",
       "    <tr>\n",
       "      <th>2</th>\n",
       "      <td>15.505107</td>\n",
       "      <td>0.855975</td>\n",
       "      <td>1.128918</td>\n",
       "      <td>0.075806</td>\n",
       "      <td>SVC(kernel='linear', probability=True)</td>\n",
       "      <td>1</td>\n",
       "      <td>25</td>\n",
       "      <td>{'ada__base_estimator': SVC(kernel='linear', p...</td>\n",
       "      <td>-0.687279</td>\n",
       "      <td>-0.682295</td>\n",
       "      <td>-0.671518</td>\n",
       "      <td>-0.673625</td>\n",
       "      <td>-0.687603</td>\n",
       "      <td>-0.680464</td>\n",
       "      <td>0.006746</td>\n",
       "      <td>6</td>\n",
       "      <td>0.529981</td>\n",
       "      <td>0.535783</td>\n",
       "      <td>0.584139</td>\n",
       "      <td>0.587209</td>\n",
       "      <td>0.527132</td>\n",
       "      <td>0.552849</td>\n",
       "      <td>0.026964</td>\n",
       "      <td>10</td>\n",
       "    </tr>\n",
       "    <tr>\n",
       "      <th>9</th>\n",
       "      <td>0.118752</td>\n",
       "      <td>0.000961</td>\n",
       "      <td>0.010595</td>\n",
       "      <td>0.000154</td>\n",
       "      <td>LogisticRegression()</td>\n",
       "      <td>0.1</td>\n",
       "      <td>50</td>\n",
       "      <td>{'ada__base_estimator': LogisticRegression(), ...</td>\n",
       "      <td>-0.683938</td>\n",
       "      <td>-0.682916</td>\n",
       "      <td>-0.681424</td>\n",
       "      <td>-0.680727</td>\n",
       "      <td>-0.681550</td>\n",
       "      <td>-0.682111</td>\n",
       "      <td>0.001157</td>\n",
       "      <td>7</td>\n",
       "      <td>0.574468</td>\n",
       "      <td>0.605416</td>\n",
       "      <td>0.599613</td>\n",
       "      <td>0.622093</td>\n",
       "      <td>0.645349</td>\n",
       "      <td>0.609388</td>\n",
       "      <td>0.023602</td>\n",
       "      <td>3</td>\n",
       "    </tr>\n",
       "    <tr>\n",
       "      <th>5</th>\n",
       "      <td>32.025751</td>\n",
       "      <td>0.191586</td>\n",
       "      <td>2.418920</td>\n",
       "      <td>0.017951</td>\n",
       "      <td>SVC(kernel='linear', probability=True)</td>\n",
       "      <td>10</td>\n",
       "      <td>50</td>\n",
       "      <td>{'ada__base_estimator': SVC(kernel='linear', p...</td>\n",
       "      <td>-0.687390</td>\n",
       "      <td>-0.677648</td>\n",
       "      <td>-0.685366</td>\n",
       "      <td>-0.681357</td>\n",
       "      <td>-0.680992</td>\n",
       "      <td>-0.682551</td>\n",
       "      <td>0.003442</td>\n",
       "      <td>8</td>\n",
       "      <td>0.545455</td>\n",
       "      <td>0.570600</td>\n",
       "      <td>0.555126</td>\n",
       "      <td>0.589147</td>\n",
       "      <td>0.594961</td>\n",
       "      <td>0.571058</td>\n",
       "      <td>0.019017</td>\n",
       "      <td>8</td>\n",
       "    </tr>\n",
       "    <tr>\n",
       "      <th>6</th>\n",
       "      <td>15.884293</td>\n",
       "      <td>0.237579</td>\n",
       "      <td>1.194349</td>\n",
       "      <td>0.028934</td>\n",
       "      <td>SVC(kernel='linear', probability=True)</td>\n",
       "      <td>20</td>\n",
       "      <td>25</td>\n",
       "      <td>{'ada__base_estimator': SVC(kernel='linear', p...</td>\n",
       "      <td>-0.688918</td>\n",
       "      <td>-0.680231</td>\n",
       "      <td>-0.687403</td>\n",
       "      <td>-0.678030</td>\n",
       "      <td>-0.687328</td>\n",
       "      <td>-0.684382</td>\n",
       "      <td>0.004381</td>\n",
       "      <td>9</td>\n",
       "      <td>0.549323</td>\n",
       "      <td>0.555126</td>\n",
       "      <td>0.526112</td>\n",
       "      <td>0.587209</td>\n",
       "      <td>0.527132</td>\n",
       "      <td>0.548980</td>\n",
       "      <td>0.022359</td>\n",
       "      <td>11</td>\n",
       "    </tr>\n",
       "    <tr>\n",
       "      <th>7</th>\n",
       "      <td>31.697856</td>\n",
       "      <td>0.592158</td>\n",
       "      <td>2.369736</td>\n",
       "      <td>0.066990</td>\n",
       "      <td>SVC(kernel='linear', probability=True)</td>\n",
       "      <td>20</td>\n",
       "      <td>50</td>\n",
       "      <td>{'ada__base_estimator': SVC(kernel='linear', p...</td>\n",
       "      <td>-0.690266</td>\n",
       "      <td>-0.685419</td>\n",
       "      <td>-0.689436</td>\n",
       "      <td>-0.682070</td>\n",
       "      <td>-0.689462</td>\n",
       "      <td>-0.687331</td>\n",
       "      <td>0.003128</td>\n",
       "      <td>10</td>\n",
       "      <td>0.526112</td>\n",
       "      <td>0.539652</td>\n",
       "      <td>0.528046</td>\n",
       "      <td>0.598837</td>\n",
       "      <td>0.527132</td>\n",
       "      <td>0.543956</td>\n",
       "      <td>0.027875</td>\n",
       "      <td>12</td>\n",
       "    </tr>\n",
       "  </tbody>\n",
       "</table>\n",
       "</div>"
      ],
      "text/plain": [
       "   mean_fit_time  std_fit_time  mean_score_time  std_score_time  \\\n",
       "0      16.209140      0.308196         1.256776        0.149910   \n",
       "8       0.064263      0.003294         0.007103        0.000271   \n",
       "4      16.195425      0.076233         1.217250        0.001756   \n",
       "1      31.615268      0.071517         2.309478        0.007129   \n",
       "3      30.989938      2.484055         2.272117        0.229787   \n",
       "2      15.505107      0.855975         1.128918        0.075806   \n",
       "9       0.118752      0.000961         0.010595        0.000154   \n",
       "5      32.025751      0.191586         2.418920        0.017951   \n",
       "6      15.884293      0.237579         1.194349        0.028934   \n",
       "7      31.697856      0.592158         2.369736        0.066990   \n",
       "\n",
       "                param_ada__base_estimator param_ada__learning_rate  \\\n",
       "0  SVC(kernel='linear', probability=True)                      0.1   \n",
       "8                    LogisticRegression()                      0.1   \n",
       "4  SVC(kernel='linear', probability=True)                       10   \n",
       "1  SVC(kernel='linear', probability=True)                      0.1   \n",
       "3  SVC(kernel='linear', probability=True)                        1   \n",
       "2  SVC(kernel='linear', probability=True)                        1   \n",
       "9                    LogisticRegression()                      0.1   \n",
       "5  SVC(kernel='linear', probability=True)                       10   \n",
       "6  SVC(kernel='linear', probability=True)                       20   \n",
       "7  SVC(kernel='linear', probability=True)                       20   \n",
       "\n",
       "  param_ada__n_estimators                                             params  \\\n",
       "0                      25  {'ada__base_estimator': SVC(kernel='linear', p...   \n",
       "8                      25  {'ada__base_estimator': LogisticRegression(), ...   \n",
       "4                      25  {'ada__base_estimator': SVC(kernel='linear', p...   \n",
       "1                      50  {'ada__base_estimator': SVC(kernel='linear', p...   \n",
       "3                      50  {'ada__base_estimator': SVC(kernel='linear', p...   \n",
       "2                      25  {'ada__base_estimator': SVC(kernel='linear', p...   \n",
       "9                      50  {'ada__base_estimator': LogisticRegression(), ...   \n",
       "5                      50  {'ada__base_estimator': SVC(kernel='linear', p...   \n",
       "6                      25  {'ada__base_estimator': SVC(kernel='linear', p...   \n",
       "7                      50  {'ada__base_estimator': SVC(kernel='linear', p...   \n",
       "\n",
       "   split0_test_neg_log_loss  split1_test_neg_log_loss  \\\n",
       "0                 -0.674094                 -0.672129   \n",
       "8                 -0.681232                 -0.679472   \n",
       "4                 -0.684480                 -0.675855   \n",
       "1                 -0.681155                 -0.680464   \n",
       "3                 -0.687483                 -0.681919   \n",
       "2                 -0.687279                 -0.682295   \n",
       "9                 -0.683938                 -0.682916   \n",
       "5                 -0.687390                 -0.677648   \n",
       "6                 -0.688918                 -0.680231   \n",
       "7                 -0.690266                 -0.685419   \n",
       "\n",
       "   split2_test_neg_log_loss  split3_test_neg_log_loss  \\\n",
       "0                 -0.670664                 -0.668098   \n",
       "8                 -0.676975                 -0.676454   \n",
       "4                 -0.680933                 -0.678199   \n",
       "1                 -0.679646                 -0.677685   \n",
       "3                 -0.671081                 -0.672323   \n",
       "2                 -0.671518                 -0.673625   \n",
       "9                 -0.681424                 -0.680727   \n",
       "5                 -0.685366                 -0.681357   \n",
       "6                 -0.687403                 -0.678030   \n",
       "7                 -0.689436                 -0.682070   \n",
       "\n",
       "   split4_test_neg_log_loss  mean_test_neg_log_loss  std_test_neg_log_loss  \\\n",
       "0                 -0.670015               -0.671000               0.002018   \n",
       "8                 -0.676919               -0.678211               0.001844   \n",
       "4                 -0.677054               -0.679305               0.003086   \n",
       "1                 -0.679658               -0.679722               0.001163   \n",
       "3                 -0.688831               -0.680327               0.007425   \n",
       "2                 -0.687603               -0.680464               0.006746   \n",
       "9                 -0.681550               -0.682111               0.001157   \n",
       "5                 -0.680992               -0.682551               0.003442   \n",
       "6                 -0.687328               -0.684382               0.004381   \n",
       "7                 -0.689462               -0.687331               0.003128   \n",
       "\n",
       "   rank_test_neg_log_loss  split0_test_accuracy  split1_test_accuracy  \\\n",
       "0                       1              0.589942              0.613153   \n",
       "8                       2              0.564797              0.589942   \n",
       "4                       3              0.541586              0.576402   \n",
       "1                       4              0.595745              0.574468   \n",
       "3                       5              0.539652              0.531915   \n",
       "2                       6              0.529981              0.535783   \n",
       "9                       7              0.574468              0.605416   \n",
       "5                       8              0.545455              0.570600   \n",
       "6                       9              0.549323              0.555126   \n",
       "7                      10              0.526112              0.539652   \n",
       "\n",
       "   split2_test_accuracy  split3_test_accuracy  split4_test_accuracy  \\\n",
       "0              0.593810              0.624031              0.633721   \n",
       "8              0.597679              0.614341              0.645349   \n",
       "4              0.595745              0.596899              0.620155   \n",
       "1              0.578337              0.608527              0.593023   \n",
       "3              0.593810              0.575581              0.527132   \n",
       "2              0.584139              0.587209              0.527132   \n",
       "9              0.599613              0.622093              0.645349   \n",
       "5              0.555126              0.589147              0.594961   \n",
       "6              0.526112              0.587209              0.527132   \n",
       "7              0.528046              0.598837              0.527132   \n",
       "\n",
       "   mean_test_accuracy  std_test_accuracy  rank_test_accuracy  \n",
       "0            0.610931           0.016909                   1  \n",
       "8            0.602422           0.026753                   5  \n",
       "4            0.586157           0.026248                   7  \n",
       "1            0.590020           0.012350                   6  \n",
       "3            0.553618           0.026326                   9  \n",
       "2            0.552849           0.026964                  10  \n",
       "9            0.609388           0.023602                   3  \n",
       "5            0.571058           0.019017                   8  \n",
       "6            0.548980           0.022359                  11  \n",
       "7            0.543956           0.027875                  12  "
      ]
     },
     "execution_count": 132,
     "metadata": {},
     "output_type": "execute_result"
    }
   ],
   "source": [
    "# store the adaboost cv results in a df\n",
    "ada_results = pd.DataFrame(ada_cv.cv_results_).sort_values('mean_test_neg_log_loss', ascending=False)\n",
    "ada_results.head(10)"
   ]
  },
  {
   "cell_type": "markdown",
   "id": "a237a3e4",
   "metadata": {},
   "source": [
    "### Neural Network Grid Search"
   ]
  },
  {
   "cell_type": "code",
   "execution_count": 61,
   "id": "d414bd6a",
   "metadata": {},
   "outputs": [],
   "source": [
    "# Instantiate NN model\n",
    "def build_model(optimizer='adam', activation='linear', neurons = 36, dropout_rate=0.3, weight_constraint=3):\n",
    "    model = Sequential()\n",
    "    model.add(Dense(neurons, activation=activation, input_dim=24, kernel_constraint=maxnorm(weight_constraint)))\n",
    "    model.add(Dropout(dropout_rate))\n",
    "    #Hidden layer \n",
    "    model.add(Dense(4, activation=activation))\n",
    "    model.add(Dense(1, activation = 'sigmoid'))\n",
    "\n",
    "    model.compile(optimizer=optimizer,\n",
    "                  loss='binary_crossentropy',\n",
    "                  metrics=['accuracy'])\n",
    "    return model\n",
    "\n",
    "# define the grid search parameters\n",
    "\n",
    "param_grid = {'nn__epochs': [8, 10, 12],\n",
    "             'nn__optimizer' : ['Adam'], \n",
    "             'nn__activation' : ['sigmoid', 'linear'],\n",
    "            'nn__neurons' : [12, 18, 24, 30, 36],\n",
    "             'nn__weight_constraint': [1, 3, 5],\n",
    "             'nn__dropout_rate' : [0.0, 0.3, 0.6,]}\n",
    "\n",
    "#wrap neural network in scikit learn wrapper\n",
    "keras_model = scikit_learn.KerasClassifier(build_fn=build_model, verbose=0)\n",
    "\n",
    "steps = [('preprocess', ct), \n",
    "        ('nn', keras_model)]\n",
    "\n",
    "nn_pipeline = Pipeline(steps)\n",
    "\n",
    "nn_cv = GridSearchCV(estimator=nn_pipeline, param_grid=param_grid, cv=2, scoring=scoring, refit='neg_log_loss', verbose=1)"
   ]
  },
  {
   "cell_type": "code",
   "execution_count": 62,
   "id": "935c374c",
   "metadata": {},
   "outputs": [
    {
     "name": "stdout",
     "output_type": "stream",
     "text": [
      "Fitting 2 folds for each of 270 candidates, totalling 540 fits\n",
      "Metal device set to: Apple M1\n"
     ]
    },
    {
     "name": "stderr",
     "output_type": "stream",
     "text": [
      "2023-04-19 10:10:41.451996: I tensorflow/core/common_runtime/pluggable_device/pluggable_device_factory.cc:305] Could not identify NUMA node of platform GPU ID 0, defaulting to 0. Your kernel may not have been built with NUMA support.\n",
      "2023-04-19 10:10:41.452895: I tensorflow/core/common_runtime/pluggable_device/pluggable_device_factory.cc:271] Created TensorFlow device (/job:localhost/replica:0/task:0/device:GPU:0 with 0 MB memory) -> physical PluggableDevice (device: 0, name: METAL, pci bus id: <undefined>)\n",
      "2023-04-19 10:10:41.649668: W tensorflow/core/platform/profile_utils/cpu_utils.cc:128] Failed to get CPU frequency: 0 Hz\n",
      "2023-04-19 10:10:41.813466: I tensorflow/core/grappler/optimizers/custom_graph_optimizer_registry.cc:113] Plugin optimizer for device_type GPU is enabled.\n"
     ]
    },
    {
     "name": "stdout",
     "output_type": "stream",
     "text": [
      "41/41 [==============================] - 0s 2ms/step\n",
      "41/41 [==============================] - 0s 2ms/step\n"
     ]
    },
    {
     "name": "stderr",
     "output_type": "stream",
     "text": [
      "2023-04-19 10:10:44.420765: I tensorflow/core/grappler/optimizers/custom_graph_optimizer_registry.cc:113] Plugin optimizer for device_type GPU is enabled.\n",
      "2023-04-19 10:10:44.749546: I tensorflow/core/grappler/optimizers/custom_graph_optimizer_registry.cc:113] Plugin optimizer for device_type GPU is enabled.\n"
     ]
    },
    {
     "name": "stdout",
     "output_type": "stream",
     "text": [
      "41/41 [==============================] - 0s 2ms/step\n",
      "41/41 [==============================] - 0s 2ms/step\n"
     ]
    },
    {
     "name": "stderr",
     "output_type": "stream",
     "text": [
      "2023-04-19 10:10:46.810586: I tensorflow/core/grappler/optimizers/custom_graph_optimizer_registry.cc:113] Plugin optimizer for device_type GPU is enabled.\n",
      "2023-04-19 10:10:47.134490: I tensorflow/core/grappler/optimizers/custom_graph_optimizer_registry.cc:113] Plugin optimizer for device_type GPU is enabled.\n"
     ]
    },
    {
     "name": "stdout",
     "output_type": "stream",
     "text": [
      "41/41 [==============================] - 0s 2ms/step\n",
      "41/41 [==============================] - 0s 2ms/step\n"
     ]
    },
    {
     "name": "stderr",
     "output_type": "stream",
     "text": [
      "2023-04-19 10:10:49.219812: I tensorflow/core/grappler/optimizers/custom_graph_optimizer_registry.cc:113] Plugin optimizer for device_type GPU is enabled.\n",
      "2023-04-19 10:10:49.544269: I tensorflow/core/grappler/optimizers/custom_graph_optimizer_registry.cc:113] Plugin optimizer for device_type GPU is enabled.\n"
     ]
    },
    {
     "name": "stdout",
     "output_type": "stream",
     "text": [
      "41/41 [==============================] - 0s 2ms/step\n",
      "41/41 [==============================] - 0s 2ms/step\n"
     ]
    },
    {
     "name": "stderr",
     "output_type": "stream",
     "text": [
      "2023-04-19 10:10:51.585478: I tensorflow/core/grappler/optimizers/custom_graph_optimizer_registry.cc:113] Plugin optimizer for device_type GPU is enabled.\n",
      "2023-04-19 10:10:51.911344: I tensorflow/core/grappler/optimizers/custom_graph_optimizer_registry.cc:113] Plugin optimizer for device_type GPU is enabled.\n"
     ]
    },
    {
     "name": "stdout",
     "output_type": "stream",
     "text": [
      "41/41 [==============================] - 0s 2ms/step\n",
      "41/41 [==============================] - 0s 2ms/step\n"
     ]
    },
    {
     "name": "stderr",
     "output_type": "stream",
     "text": [
      "2023-04-19 10:10:53.994408: I tensorflow/core/grappler/optimizers/custom_graph_optimizer_registry.cc:113] Plugin optimizer for device_type GPU is enabled.\n",
      "2023-04-19 10:10:54.312283: I tensorflow/core/grappler/optimizers/custom_graph_optimizer_registry.cc:113] Plugin optimizer for device_type GPU is enabled.\n"
     ]
    },
    {
     "name": "stdout",
     "output_type": "stream",
     "text": [
      "41/41 [==============================] - 0s 2ms/step\n",
      "41/41 [==============================] - 0s 2ms/step\n"
     ]
    },
    {
     "name": "stderr",
     "output_type": "stream",
     "text": [
      "2023-04-19 10:10:56.406441: I tensorflow/core/grappler/optimizers/custom_graph_optimizer_registry.cc:113] Plugin optimizer for device_type GPU is enabled.\n",
      "2023-04-19 10:10:56.765668: I tensorflow/core/grappler/optimizers/custom_graph_optimizer_registry.cc:113] Plugin optimizer for device_type GPU is enabled.\n"
     ]
    },
    {
     "name": "stdout",
     "output_type": "stream",
     "text": [
      "41/41 [==============================] - 0s 4ms/step\n",
      " 1/41 [..............................] - ETA: 0s"
     ]
    },
    {
     "name": "stderr",
     "output_type": "stream",
     "text": [
      "2023-04-19 10:10:58.943780: I tensorflow/core/grappler/optimizers/custom_graph_optimizer_registry.cc:113] Plugin optimizer for device_type GPU is enabled.\n"
     ]
    },
    {
     "name": "stdout",
     "output_type": "stream",
     "text": [
      "41/41 [==============================] - 0s 2ms/step\n"
     ]
    },
    {
     "name": "stderr",
     "output_type": "stream",
     "text": [
      "2023-04-19 10:10:59.349514: I tensorflow/core/grappler/optimizers/custom_graph_optimizer_registry.cc:113] Plugin optimizer for device_type GPU is enabled.\n"
     ]
    },
    {
     "name": "stdout",
     "output_type": "stream",
     "text": [
      "41/41 [==============================] - 0s 2ms/step\n",
      "41/41 [==============================] - 0s 2ms/step\n"
     ]
    },
    {
     "name": "stderr",
     "output_type": "stream",
     "text": [
      "2023-04-19 10:11:01.566910: I tensorflow/core/grappler/optimizers/custom_graph_optimizer_registry.cc:113] Plugin optimizer for device_type GPU is enabled.\n",
      "2023-04-19 10:11:01.889591: I tensorflow/core/grappler/optimizers/custom_graph_optimizer_registry.cc:113] Plugin optimizer for device_type GPU is enabled.\n"
     ]
    },
    {
     "name": "stdout",
     "output_type": "stream",
     "text": [
      "41/41 [==============================] - 0s 2ms/step\n",
      "41/41 [==============================] - 0s 2ms/step\n"
     ]
    },
    {
     "name": "stderr",
     "output_type": "stream",
     "text": [
      "2023-04-19 10:11:04.085700: I tensorflow/core/grappler/optimizers/custom_graph_optimizer_registry.cc:113] Plugin optimizer for device_type GPU is enabled.\n",
      "2023-04-19 10:11:04.411909: I tensorflow/core/grappler/optimizers/custom_graph_optimizer_registry.cc:113] Plugin optimizer for device_type GPU is enabled.\n"
     ]
    },
    {
     "name": "stdout",
     "output_type": "stream",
     "text": [
      "41/41 [==============================] - 0s 2ms/step\n",
      "41/41 [==============================] - 0s 2ms/step\n"
     ]
    },
    {
     "name": "stderr",
     "output_type": "stream",
     "text": [
      "2023-04-19 10:11:06.606081: I tensorflow/core/grappler/optimizers/custom_graph_optimizer_registry.cc:113] Plugin optimizer for device_type GPU is enabled.\n",
      "2023-04-19 10:11:06.939737: I tensorflow/core/grappler/optimizers/custom_graph_optimizer_registry.cc:113] Plugin optimizer for device_type GPU is enabled.\n"
     ]
    },
    {
     "name": "stdout",
     "output_type": "stream",
     "text": [
      "41/41 [==============================] - 0s 2ms/step\n",
      "41/41 [==============================] - 0s 2ms/step\n"
     ]
    },
    {
     "name": "stderr",
     "output_type": "stream",
     "text": [
      "2023-04-19 10:11:09.128176: I tensorflow/core/grappler/optimizers/custom_graph_optimizer_registry.cc:113] Plugin optimizer for device_type GPU is enabled.\n",
      "2023-04-19 10:11:09.460290: I tensorflow/core/grappler/optimizers/custom_graph_optimizer_registry.cc:113] Plugin optimizer for device_type GPU is enabled.\n"
     ]
    },
    {
     "name": "stdout",
     "output_type": "stream",
     "text": [
      "41/41 [==============================] - 0s 2ms/step\n",
      "41/41 [==============================] - 0s 2ms/step\n"
     ]
    },
    {
     "name": "stderr",
     "output_type": "stream",
     "text": [
      "2023-04-19 10:11:11.681499: I tensorflow/core/grappler/optimizers/custom_graph_optimizer_registry.cc:113] Plugin optimizer for device_type GPU is enabled.\n",
      "2023-04-19 10:11:12.037882: I tensorflow/core/grappler/optimizers/custom_graph_optimizer_registry.cc:113] Plugin optimizer for device_type GPU is enabled.\n"
     ]
    },
    {
     "name": "stdout",
     "output_type": "stream",
     "text": [
      "41/41 [==============================] - 0s 2ms/step\n",
      "41/41 [==============================] - 0s 1ms/step\n"
     ]
    },
    {
     "name": "stderr",
     "output_type": "stream",
     "text": [
      "2023-04-19 10:11:14.316540: I tensorflow/core/grappler/optimizers/custom_graph_optimizer_registry.cc:113] Plugin optimizer for device_type GPU is enabled.\n",
      "2023-04-19 10:11:14.659982: I tensorflow/core/grappler/optimizers/custom_graph_optimizer_registry.cc:113] Plugin optimizer for device_type GPU is enabled.\n"
     ]
    },
    {
     "name": "stdout",
     "output_type": "stream",
     "text": [
      "41/41 [==============================] - 0s 2ms/step\n",
      "41/41 [==============================] - 0s 2ms/step\n"
     ]
    },
    {
     "name": "stderr",
     "output_type": "stream",
     "text": [
      "2023-04-19 10:11:16.930043: I tensorflow/core/grappler/optimizers/custom_graph_optimizer_registry.cc:113] Plugin optimizer for device_type GPU is enabled.\n",
      "2023-04-19 10:11:17.252376: I tensorflow/core/grappler/optimizers/custom_graph_optimizer_registry.cc:113] Plugin optimizer for device_type GPU is enabled.\n"
     ]
    },
    {
     "name": "stdout",
     "output_type": "stream",
     "text": [
      "41/41 [==============================] - 0s 2ms/step\n",
      "41/41 [==============================] - 0s 2ms/step\n"
     ]
    },
    {
     "name": "stderr",
     "output_type": "stream",
     "text": [
      "2023-04-19 10:11:19.581538: I tensorflow/core/grappler/optimizers/custom_graph_optimizer_registry.cc:113] Plugin optimizer for device_type GPU is enabled.\n",
      "2023-04-19 10:11:20.674886: I tensorflow/core/grappler/optimizers/custom_graph_optimizer_registry.cc:113] Plugin optimizer for device_type GPU is enabled.\n"
     ]
    },
    {
     "name": "stdout",
     "output_type": "stream",
     "text": [
      "41/41 [==============================] - 0s 2ms/step\n",
      "41/41 [==============================] - 0s 1ms/step\n"
     ]
    },
    {
     "name": "stderr",
     "output_type": "stream",
     "text": [
      "2023-04-19 10:11:22.836131: I tensorflow/core/grappler/optimizers/custom_graph_optimizer_registry.cc:113] Plugin optimizer for device_type GPU is enabled.\n",
      "2023-04-19 10:11:23.158769: I tensorflow/core/grappler/optimizers/custom_graph_optimizer_registry.cc:113] Plugin optimizer for device_type GPU is enabled.\n"
     ]
    },
    {
     "name": "stdout",
     "output_type": "stream",
     "text": [
      "41/41 [==============================] - 0s 2ms/step\n",
      "41/41 [==============================] - 0s 1ms/step\n"
     ]
    },
    {
     "name": "stderr",
     "output_type": "stream",
     "text": [
      "2023-04-19 10:11:25.356674: I tensorflow/core/grappler/optimizers/custom_graph_optimizer_registry.cc:113] Plugin optimizer for device_type GPU is enabled.\n",
      "2023-04-19 10:11:25.686203: I tensorflow/core/grappler/optimizers/custom_graph_optimizer_registry.cc:113] Plugin optimizer for device_type GPU is enabled.\n"
     ]
    },
    {
     "name": "stdout",
     "output_type": "stream",
     "text": [
      "41/41 [==============================] - 0s 2ms/step\n",
      "41/41 [==============================] - 0s 1ms/step\n"
     ]
    },
    {
     "name": "stderr",
     "output_type": "stream",
     "text": [
      "2023-04-19 10:11:27.907113: I tensorflow/core/grappler/optimizers/custom_graph_optimizer_registry.cc:113] Plugin optimizer for device_type GPU is enabled.\n",
      "2023-04-19 10:11:28.253378: I tensorflow/core/grappler/optimizers/custom_graph_optimizer_registry.cc:113] Plugin optimizer for device_type GPU is enabled.\n"
     ]
    },
    {
     "name": "stdout",
     "output_type": "stream",
     "text": [
      "41/41 [==============================] - 0s 2ms/step\n",
      "41/41 [==============================] - 0s 2ms/step\n"
     ]
    },
    {
     "name": "stderr",
     "output_type": "stream",
     "text": [
      "2023-04-19 10:11:30.520464: I tensorflow/core/grappler/optimizers/custom_graph_optimizer_registry.cc:113] Plugin optimizer for device_type GPU is enabled.\n",
      "2023-04-19 10:11:30.857381: I tensorflow/core/grappler/optimizers/custom_graph_optimizer_registry.cc:113] Plugin optimizer for device_type GPU is enabled.\n"
     ]
    },
    {
     "name": "stdout",
     "output_type": "stream",
     "text": [
      "41/41 [==============================] - 0s 2ms/step\n",
      "41/41 [==============================] - 0s 1ms/step\n"
     ]
    },
    {
     "name": "stderr",
     "output_type": "stream",
     "text": [
      "2023-04-19 10:11:33.109469: I tensorflow/core/grappler/optimizers/custom_graph_optimizer_registry.cc:113] Plugin optimizer for device_type GPU is enabled.\n",
      "2023-04-19 10:11:33.443229: I tensorflow/core/grappler/optimizers/custom_graph_optimizer_registry.cc:113] Plugin optimizer for device_type GPU is enabled.\n"
     ]
    },
    {
     "name": "stdout",
     "output_type": "stream",
     "text": [
      "41/41 [==============================] - 0s 2ms/step\n",
      "41/41 [==============================] - 0s 1ms/step\n"
     ]
    },
    {
     "name": "stderr",
     "output_type": "stream",
     "text": [
      "2023-04-19 10:11:35.769143: I tensorflow/core/grappler/optimizers/custom_graph_optimizer_registry.cc:113] Plugin optimizer for device_type GPU is enabled.\n",
      "2023-04-19 10:11:36.092746: I tensorflow/core/grappler/optimizers/custom_graph_optimizer_registry.cc:113] Plugin optimizer for device_type GPU is enabled.\n"
     ]
    },
    {
     "name": "stdout",
     "output_type": "stream",
     "text": [
      "41/41 [==============================] - 0s 2ms/step\n",
      "41/41 [==============================] - 0s 2ms/step\n"
     ]
    },
    {
     "name": "stderr",
     "output_type": "stream",
     "text": [
      "2023-04-19 10:11:38.356008: I tensorflow/core/grappler/optimizers/custom_graph_optimizer_registry.cc:113] Plugin optimizer for device_type GPU is enabled.\n",
      "2023-04-19 10:11:38.689527: I tensorflow/core/grappler/optimizers/custom_graph_optimizer_registry.cc:113] Plugin optimizer for device_type GPU is enabled.\n"
     ]
    },
    {
     "name": "stdout",
     "output_type": "stream",
     "text": [
      "41/41 [==============================] - 0s 2ms/step\n",
      "41/41 [==============================] - 0s 1ms/step\n"
     ]
    },
    {
     "name": "stderr",
     "output_type": "stream",
     "text": [
      "2023-04-19 10:11:40.940284: I tensorflow/core/grappler/optimizers/custom_graph_optimizer_registry.cc:113] Plugin optimizer for device_type GPU is enabled.\n",
      "2023-04-19 10:11:41.268402: I tensorflow/core/grappler/optimizers/custom_graph_optimizer_registry.cc:113] Plugin optimizer for device_type GPU is enabled.\n"
     ]
    },
    {
     "name": "stdout",
     "output_type": "stream",
     "text": [
      "41/41 [==============================] - 0s 2ms/step\n",
      "41/41 [==============================] - 0s 2ms/step\n"
     ]
    },
    {
     "name": "stderr",
     "output_type": "stream",
     "text": [
      "2023-04-19 10:11:43.521154: I tensorflow/core/grappler/optimizers/custom_graph_optimizer_registry.cc:113] Plugin optimizer for device_type GPU is enabled.\n",
      "2023-04-19 10:11:43.881050: I tensorflow/core/grappler/optimizers/custom_graph_optimizer_registry.cc:113] Plugin optimizer for device_type GPU is enabled.\n"
     ]
    },
    {
     "name": "stdout",
     "output_type": "stream",
     "text": [
      "41/41 [==============================] - 0s 2ms/step\n",
      "41/41 [==============================] - 0s 2ms/step\n"
     ]
    },
    {
     "name": "stderr",
     "output_type": "stream",
     "text": [
      "2023-04-19 10:11:46.234948: I tensorflow/core/grappler/optimizers/custom_graph_optimizer_registry.cc:113] Plugin optimizer for device_type GPU is enabled.\n",
      "2023-04-19 10:11:46.572517: I tensorflow/core/grappler/optimizers/custom_graph_optimizer_registry.cc:113] Plugin optimizer for device_type GPU is enabled.\n"
     ]
    },
    {
     "name": "stdout",
     "output_type": "stream",
     "text": [
      "41/41 [==============================] - 0s 2ms/step\n",
      "41/41 [==============================] - 0s 2ms/step\n"
     ]
    },
    {
     "name": "stderr",
     "output_type": "stream",
     "text": [
      "2023-04-19 10:11:48.936361: I tensorflow/core/grappler/optimizers/custom_graph_optimizer_registry.cc:113] Plugin optimizer for device_type GPU is enabled.\n",
      "2023-04-19 10:11:49.272969: I tensorflow/core/grappler/optimizers/custom_graph_optimizer_registry.cc:113] Plugin optimizer for device_type GPU is enabled.\n"
     ]
    },
    {
     "name": "stdout",
     "output_type": "stream",
     "text": [
      "41/41 [==============================] - 0s 2ms/step\n",
      "41/41 [==============================] - 0s 2ms/step\n"
     ]
    },
    {
     "name": "stderr",
     "output_type": "stream",
     "text": [
      "2023-04-19 10:11:51.669693: I tensorflow/core/grappler/optimizers/custom_graph_optimizer_registry.cc:113] Plugin optimizer for device_type GPU is enabled.\n",
      "2023-04-19 10:11:52.007008: I tensorflow/core/grappler/optimizers/custom_graph_optimizer_registry.cc:113] Plugin optimizer for device_type GPU is enabled.\n"
     ]
    },
    {
     "name": "stdout",
     "output_type": "stream",
     "text": [
      "41/41 [==============================] - 0s 2ms/step\n",
      "41/41 [==============================] - 0s 1ms/step\n"
     ]
    },
    {
     "name": "stderr",
     "output_type": "stream",
     "text": [
      "2023-04-19 10:11:54.400566: I tensorflow/core/grappler/optimizers/custom_graph_optimizer_registry.cc:113] Plugin optimizer for device_type GPU is enabled.\n",
      "2023-04-19 10:11:54.738623: I tensorflow/core/grappler/optimizers/custom_graph_optimizer_registry.cc:113] Plugin optimizer for device_type GPU is enabled.\n"
     ]
    },
    {
     "name": "stdout",
     "output_type": "stream",
     "text": [
      "41/41 [==============================] - 0s 2ms/step\n",
      "41/41 [==============================] - 0s 1ms/step\n"
     ]
    },
    {
     "name": "stderr",
     "output_type": "stream",
     "text": [
      "2023-04-19 10:11:57.194025: I tensorflow/core/grappler/optimizers/custom_graph_optimizer_registry.cc:113] Plugin optimizer for device_type GPU is enabled.\n",
      "2023-04-19 10:11:57.530674: I tensorflow/core/grappler/optimizers/custom_graph_optimizer_registry.cc:113] Plugin optimizer for device_type GPU is enabled.\n"
     ]
    },
    {
     "name": "stdout",
     "output_type": "stream",
     "text": [
      "41/41 [==============================] - 0s 2ms/step\n",
      "41/41 [==============================] - 0s 2ms/step\n"
     ]
    },
    {
     "name": "stderr",
     "output_type": "stream",
     "text": [
      "2023-04-19 10:11:59.925794: I tensorflow/core/grappler/optimizers/custom_graph_optimizer_registry.cc:113] Plugin optimizer for device_type GPU is enabled.\n",
      "2023-04-19 10:12:00.268106: I tensorflow/core/grappler/optimizers/custom_graph_optimizer_registry.cc:113] Plugin optimizer for device_type GPU is enabled.\n"
     ]
    },
    {
     "name": "stdout",
     "output_type": "stream",
     "text": [
      "41/41 [==============================] - 0s 2ms/step\n",
      "41/41 [==============================] - 0s 2ms/step\n"
     ]
    },
    {
     "name": "stderr",
     "output_type": "stream",
     "text": [
      "2023-04-19 10:12:03.130735: I tensorflow/core/grappler/optimizers/custom_graph_optimizer_registry.cc:113] Plugin optimizer for device_type GPU is enabled.\n",
      "2023-04-19 10:12:03.474895: I tensorflow/core/grappler/optimizers/custom_graph_optimizer_registry.cc:113] Plugin optimizer for device_type GPU is enabled.\n"
     ]
    },
    {
     "name": "stdout",
     "output_type": "stream",
     "text": [
      "41/41 [==============================] - 0s 2ms/step\n",
      "41/41 [==============================] - 0s 2ms/step\n"
     ]
    },
    {
     "name": "stderr",
     "output_type": "stream",
     "text": [
      "2023-04-19 10:12:06.297302: I tensorflow/core/grappler/optimizers/custom_graph_optimizer_registry.cc:113] Plugin optimizer for device_type GPU is enabled.\n",
      "2023-04-19 10:12:06.638916: I tensorflow/core/grappler/optimizers/custom_graph_optimizer_registry.cc:113] Plugin optimizer for device_type GPU is enabled.\n"
     ]
    },
    {
     "name": "stdout",
     "output_type": "stream",
     "text": [
      "41/41 [==============================] - 0s 2ms/step\n",
      "41/41 [==============================] - 0s 1ms/step\n"
     ]
    },
    {
     "name": "stderr",
     "output_type": "stream",
     "text": [
      "2023-04-19 10:12:09.516474: I tensorflow/core/grappler/optimizers/custom_graph_optimizer_registry.cc:113] Plugin optimizer for device_type GPU is enabled.\n",
      "2023-04-19 10:12:09.855960: I tensorflow/core/grappler/optimizers/custom_graph_optimizer_registry.cc:113] Plugin optimizer for device_type GPU is enabled.\n"
     ]
    },
    {
     "name": "stdout",
     "output_type": "stream",
     "text": [
      "41/41 [==============================] - 0s 2ms/step\n",
      "41/41 [==============================] - 0s 2ms/step\n"
     ]
    },
    {
     "name": "stderr",
     "output_type": "stream",
     "text": [
      "2023-04-19 10:12:12.667212: I tensorflow/core/grappler/optimizers/custom_graph_optimizer_registry.cc:113] Plugin optimizer for device_type GPU is enabled.\n",
      "2023-04-19 10:12:13.011031: I tensorflow/core/grappler/optimizers/custom_graph_optimizer_registry.cc:113] Plugin optimizer for device_type GPU is enabled.\n"
     ]
    },
    {
     "name": "stdout",
     "output_type": "stream",
     "text": [
      "41/41 [==============================] - 0s 2ms/step\n",
      "35/41 [========================>.....] - ETA: 0s"
     ]
    },
    {
     "name": "stderr",
     "output_type": "stream",
     "text": [
      "2023-04-19 10:12:15.874256: I tensorflow/core/grappler/optimizers/custom_graph_optimizer_registry.cc:113] Plugin optimizer for device_type GPU is enabled.\n"
     ]
    },
    {
     "name": "stdout",
     "output_type": "stream",
     "text": [
      "\b\b\b\b\b\b\b\b\b\b\b\b\b\b\b\b\b\b\b\b\b\b\b\b\b\b\b\b\b\b\b\b\b\b\b\b\b\b\b\b\b\b\b\b\b\b\b\b\r",
      "41/41 [==============================] - 0s 1ms/step\n"
     ]
    },
    {
     "name": "stderr",
     "output_type": "stream",
     "text": [
      "2023-04-19 10:12:16.223929: I tensorflow/core/grappler/optimizers/custom_graph_optimizer_registry.cc:113] Plugin optimizer for device_type GPU is enabled.\n"
     ]
    },
    {
     "name": "stdout",
     "output_type": "stream",
     "text": [
      "41/41 [==============================] - 0s 2ms/step\n",
      "41/41 [==============================] - 0s 1ms/step\n"
     ]
    },
    {
     "name": "stderr",
     "output_type": "stream",
     "text": [
      "2023-04-19 10:12:19.204237: I tensorflow/core/grappler/optimizers/custom_graph_optimizer_registry.cc:113] Plugin optimizer for device_type GPU is enabled.\n",
      "2023-04-19 10:12:19.543990: I tensorflow/core/grappler/optimizers/custom_graph_optimizer_registry.cc:113] Plugin optimizer for device_type GPU is enabled.\n"
     ]
    },
    {
     "name": "stdout",
     "output_type": "stream",
     "text": [
      "41/41 [==============================] - 0s 2ms/step\n",
      "41/41 [==============================] - 0s 2ms/step\n"
     ]
    },
    {
     "name": "stderr",
     "output_type": "stream",
     "text": [
      "2023-04-19 10:12:22.528590: I tensorflow/core/grappler/optimizers/custom_graph_optimizer_registry.cc:113] Plugin optimizer for device_type GPU is enabled.\n",
      "2023-04-19 10:12:22.871629: I tensorflow/core/grappler/optimizers/custom_graph_optimizer_registry.cc:113] Plugin optimizer for device_type GPU is enabled.\n"
     ]
    },
    {
     "name": "stdout",
     "output_type": "stream",
     "text": [
      "41/41 [==============================] - 0s 2ms/step\n",
      "41/41 [==============================] - 0s 2ms/step\n"
     ]
    },
    {
     "name": "stderr",
     "output_type": "stream",
     "text": [
      "2023-04-19 10:12:25.883675: I tensorflow/core/grappler/optimizers/custom_graph_optimizer_registry.cc:113] Plugin optimizer for device_type GPU is enabled.\n",
      "2023-04-19 10:12:26.226714: I tensorflow/core/grappler/optimizers/custom_graph_optimizer_registry.cc:113] Plugin optimizer for device_type GPU is enabled.\n"
     ]
    },
    {
     "name": "stdout",
     "output_type": "stream",
     "text": [
      "41/41 [==============================] - 0s 2ms/step\n",
      "35/41 [========================>.....] - ETA: 0s"
     ]
    },
    {
     "name": "stderr",
     "output_type": "stream",
     "text": [
      "2023-04-19 10:12:29.325445: I tensorflow/core/grappler/optimizers/custom_graph_optimizer_registry.cc:113] Plugin optimizer for device_type GPU is enabled.\n"
     ]
    },
    {
     "name": "stdout",
     "output_type": "stream",
     "text": [
      "\b\b\b\b\b\b\b\b\b\b\b\b\b\b\b\b\b\b\b\b\b\b\b\b\b\b\b\b\b\b\b\b\b\b\b\b\b\b\b\b\b\b\b\b\b\b\b\b\r",
      "41/41 [==============================] - 0s 2ms/step\n"
     ]
    },
    {
     "name": "stderr",
     "output_type": "stream",
     "text": [
      "2023-04-19 10:12:29.680061: I tensorflow/core/grappler/optimizers/custom_graph_optimizer_registry.cc:113] Plugin optimizer for device_type GPU is enabled.\n"
     ]
    },
    {
     "name": "stdout",
     "output_type": "stream",
     "text": [
      "41/41 [==============================] - 0s 2ms/step\n",
      " 1/41 [..............................] - ETA: 0s"
     ]
    },
    {
     "name": "stderr",
     "output_type": "stream",
     "text": [
      "2023-04-19 10:12:32.720543: I tensorflow/core/grappler/optimizers/custom_graph_optimizer_registry.cc:113] Plugin optimizer for device_type GPU is enabled.\n"
     ]
    },
    {
     "name": "stdout",
     "output_type": "stream",
     "text": [
      "41/41 [==============================] - 0s 2ms/step\n"
     ]
    },
    {
     "name": "stderr",
     "output_type": "stream",
     "text": [
      "2023-04-19 10:12:33.087242: I tensorflow/core/grappler/optimizers/custom_graph_optimizer_registry.cc:113] Plugin optimizer for device_type GPU is enabled.\n"
     ]
    },
    {
     "name": "stdout",
     "output_type": "stream",
     "text": [
      "41/41 [==============================] - 0s 2ms/step\n",
      " 1/41 [..............................] - ETA: 0s"
     ]
    },
    {
     "name": "stderr",
     "output_type": "stream",
     "text": [
      "2023-04-19 10:12:36.184874: I tensorflow/core/grappler/optimizers/custom_graph_optimizer_registry.cc:113] Plugin optimizer for device_type GPU is enabled.\n"
     ]
    },
    {
     "name": "stdout",
     "output_type": "stream",
     "text": [
      "41/41 [==============================] - 0s 2ms/step\n"
     ]
    },
    {
     "name": "stderr",
     "output_type": "stream",
     "text": [
      "2023-04-19 10:12:37.795831: I tensorflow/core/grappler/optimizers/custom_graph_optimizer_registry.cc:113] Plugin optimizer for device_type GPU is enabled.\n"
     ]
    },
    {
     "name": "stdout",
     "output_type": "stream",
     "text": [
      "41/41 [==============================] - 0s 2ms/step\n",
      "35/41 [========================>.....] - ETA: 0s"
     ]
    },
    {
     "name": "stderr",
     "output_type": "stream",
     "text": [
      "2023-04-19 10:12:40.721576: I tensorflow/core/grappler/optimizers/custom_graph_optimizer_registry.cc:113] Plugin optimizer for device_type GPU is enabled.\n"
     ]
    },
    {
     "name": "stdout",
     "output_type": "stream",
     "text": [
      "\b\b\b\b\b\b\b\b\b\b\b\b\b\b\b\b\b\b\b\b\b\b\b\b\b\b\b\b\b\b\b\b\b\b\b\b\b\b\b\b\b\b\b\b\b\b\b\b\r",
      "41/41 [==============================] - 0s 2ms/step\n"
     ]
    },
    {
     "name": "stderr",
     "output_type": "stream",
     "text": [
      "2023-04-19 10:12:41.069408: I tensorflow/core/grappler/optimizers/custom_graph_optimizer_registry.cc:113] Plugin optimizer for device_type GPU is enabled.\n"
     ]
    },
    {
     "name": "stdout",
     "output_type": "stream",
     "text": [
      "41/41 [==============================] - 0s 2ms/step\n",
      "41/41 [==============================] - 0s 1ms/step\n"
     ]
    },
    {
     "name": "stderr",
     "output_type": "stream",
     "text": [
      "2023-04-19 10:12:43.970469: I tensorflow/core/grappler/optimizers/custom_graph_optimizer_registry.cc:113] Plugin optimizer for device_type GPU is enabled.\n",
      "2023-04-19 10:12:44.306707: I tensorflow/core/grappler/optimizers/custom_graph_optimizer_registry.cc:113] Plugin optimizer for device_type GPU is enabled.\n"
     ]
    },
    {
     "name": "stdout",
     "output_type": "stream",
     "text": [
      "41/41 [==============================] - 0s 2ms/step\n",
      "35/41 [========================>.....] - ETA: 0s"
     ]
    },
    {
     "name": "stderr",
     "output_type": "stream",
     "text": [
      "2023-04-19 10:12:47.146195: I tensorflow/core/grappler/optimizers/custom_graph_optimizer_registry.cc:113] Plugin optimizer for device_type GPU is enabled.\n"
     ]
    },
    {
     "name": "stdout",
     "output_type": "stream",
     "text": [
      "\b\b\b\b\b\b\b\b\b\b\b\b\b\b\b\b\b\b\b\b\b\b\b\b\b\b\b\b\b\b\b\b\b\b\b\b\b\b\b\b\b\b\b\b\b\b\b\b\r",
      "41/41 [==============================] - 0s 2ms/step\n"
     ]
    },
    {
     "name": "stderr",
     "output_type": "stream",
     "text": [
      "2023-04-19 10:12:47.494070: I tensorflow/core/grappler/optimizers/custom_graph_optimizer_registry.cc:113] Plugin optimizer for device_type GPU is enabled.\n"
     ]
    },
    {
     "name": "stdout",
     "output_type": "stream",
     "text": [
      "41/41 [==============================] - 0s 2ms/step\n",
      "35/41 [========================>.....] - ETA: 0s"
     ]
    },
    {
     "name": "stderr",
     "output_type": "stream",
     "text": [
      "2023-04-19 10:12:50.413710: I tensorflow/core/grappler/optimizers/custom_graph_optimizer_registry.cc:113] Plugin optimizer for device_type GPU is enabled.\n"
     ]
    },
    {
     "name": "stdout",
     "output_type": "stream",
     "text": [
      "\b\b\b\b\b\b\b\b\b\b\b\b\b\b\b\b\b\b\b\b\b\b\b\b\b\b\b\b\b\b\b\b\b\b\b\b\b\b\b\b\b\b\b\b\b\b\b\b\r",
      "41/41 [==============================] - 0s 2ms/step\n"
     ]
    },
    {
     "name": "stderr",
     "output_type": "stream",
     "text": [
      "2023-04-19 10:12:50.759964: I tensorflow/core/grappler/optimizers/custom_graph_optimizer_registry.cc:113] Plugin optimizer for device_type GPU is enabled.\n"
     ]
    },
    {
     "name": "stdout",
     "output_type": "stream",
     "text": [
      "41/41 [==============================] - 0s 2ms/step\n",
      "36/41 [=========================>....] - ETA: 0s"
     ]
    },
    {
     "name": "stderr",
     "output_type": "stream",
     "text": [
      "2023-04-19 10:12:53.739402: I tensorflow/core/grappler/optimizers/custom_graph_optimizer_registry.cc:113] Plugin optimizer for device_type GPU is enabled.\n"
     ]
    },
    {
     "name": "stdout",
     "output_type": "stream",
     "text": [
      "\b\b\b\b\b\b\b\b\b\b\b\b\b\b\b\b\b\b\b\b\b\b\b\b\b\b\b\b\b\b\b\b\b\b\b\b\b\b\b\b\b\b\b\b\b\b\b\b\r",
      "41/41 [==============================] - 0s 2ms/step\n"
     ]
    },
    {
     "name": "stderr",
     "output_type": "stream",
     "text": [
      "2023-04-19 10:12:54.085696: I tensorflow/core/grappler/optimizers/custom_graph_optimizer_registry.cc:113] Plugin optimizer for device_type GPU is enabled.\n"
     ]
    },
    {
     "name": "stdout",
     "output_type": "stream",
     "text": [
      "41/41 [==============================] - 0s 2ms/step\n",
      "41/41 [==============================] - 0s 1ms/step\n"
     ]
    },
    {
     "name": "stderr",
     "output_type": "stream",
     "text": [
      "2023-04-19 10:12:57.162270: I tensorflow/core/grappler/optimizers/custom_graph_optimizer_registry.cc:113] Plugin optimizer for device_type GPU is enabled.\n",
      "2023-04-19 10:12:57.503822: I tensorflow/core/grappler/optimizers/custom_graph_optimizer_registry.cc:113] Plugin optimizer for device_type GPU is enabled.\n"
     ]
    },
    {
     "name": "stdout",
     "output_type": "stream",
     "text": [
      "41/41 [==============================] - 0s 2ms/step\n",
      "41/41 [==============================] - 0s 2ms/step\n"
     ]
    },
    {
     "name": "stderr",
     "output_type": "stream",
     "text": [
      "2023-04-19 10:13:00.481019: I tensorflow/core/grappler/optimizers/custom_graph_optimizer_registry.cc:113] Plugin optimizer for device_type GPU is enabled.\n",
      "2023-04-19 10:13:00.825905: I tensorflow/core/grappler/optimizers/custom_graph_optimizer_registry.cc:113] Plugin optimizer for device_type GPU is enabled.\n"
     ]
    },
    {
     "name": "stdout",
     "output_type": "stream",
     "text": [
      "41/41 [==============================] - 0s 2ms/step\n",
      "35/41 [========================>.....] - ETA: 0s"
     ]
    },
    {
     "name": "stderr",
     "output_type": "stream",
     "text": [
      "2023-04-19 10:13:03.909719: I tensorflow/core/grappler/optimizers/custom_graph_optimizer_registry.cc:113] Plugin optimizer for device_type GPU is enabled.\n"
     ]
    },
    {
     "name": "stdout",
     "output_type": "stream",
     "text": [
      "\b\b\b\b\b\b\b\b\b\b\b\b\b\b\b\b\b\b\b\b\b\b\b\b\b\b\b\b\b\b\b\b\b\b\b\b\b\b\b\b\b\b\b\b\b\b\b\b\r",
      "41/41 [==============================] - 0s 2ms/step\n"
     ]
    },
    {
     "name": "stderr",
     "output_type": "stream",
     "text": [
      "2023-04-19 10:13:04.263262: I tensorflow/core/grappler/optimizers/custom_graph_optimizer_registry.cc:113] Plugin optimizer for device_type GPU is enabled.\n"
     ]
    },
    {
     "name": "stdout",
     "output_type": "stream",
     "text": [
      "41/41 [==============================] - 0s 2ms/step\n",
      "34/41 [=======================>......] - ETA: 0s"
     ]
    },
    {
     "name": "stderr",
     "output_type": "stream",
     "text": [
      "2023-04-19 10:13:07.332635: I tensorflow/core/grappler/optimizers/custom_graph_optimizer_registry.cc:113] Plugin optimizer for device_type GPU is enabled.\n"
     ]
    },
    {
     "name": "stdout",
     "output_type": "stream",
     "text": [
      "\b\b\b\b\b\b\b\b\b\b\b\b\b\b\b\b\b\b\b\b\b\b\b\b\b\b\b\b\b\b\b\b\b\b\b\b\b\b\b\b\b\b\b\b\b\b\b\b\r",
      "41/41 [==============================] - 0s 2ms/step\n"
     ]
    },
    {
     "name": "stderr",
     "output_type": "stream",
     "text": [
      "2023-04-19 10:13:07.691033: I tensorflow/core/grappler/optimizers/custom_graph_optimizer_registry.cc:113] Plugin optimizer for device_type GPU is enabled.\n"
     ]
    },
    {
     "name": "stdout",
     "output_type": "stream",
     "text": [
      "41/41 [==============================] - 0s 2ms/step\n",
      "36/41 [=========================>....] - ETA: 0s"
     ]
    },
    {
     "name": "stderr",
     "output_type": "stream",
     "text": [
      "2023-04-19 10:13:10.792051: I tensorflow/core/grappler/optimizers/custom_graph_optimizer_registry.cc:113] Plugin optimizer for device_type GPU is enabled.\n"
     ]
    },
    {
     "name": "stdout",
     "output_type": "stream",
     "text": [
      "\b\b\b\b\b\b\b\b\b\b\b\b\b\b\b\b\b\b\b\b\b\b\b\b\b\b\b\b\b\b\b\b\b\b\b\b\b\b\b\b\b\b\b\b\b\b\b\b\r",
      "41/41 [==============================] - 0s 2ms/step\n"
     ]
    },
    {
     "name": "stderr",
     "output_type": "stream",
     "text": [
      "2023-04-19 10:13:11.146035: I tensorflow/core/grappler/optimizers/custom_graph_optimizer_registry.cc:113] Plugin optimizer for device_type GPU is enabled.\n"
     ]
    },
    {
     "name": "stdout",
     "output_type": "stream",
     "text": [
      "41/41 [==============================] - 0s 2ms/step\n",
      " 1/41 [..............................] - ETA: 0s"
     ]
    },
    {
     "name": "stderr",
     "output_type": "stream",
     "text": [
      "2023-04-19 10:13:14.459010: I tensorflow/core/grappler/optimizers/custom_graph_optimizer_registry.cc:113] Plugin optimizer for device_type GPU is enabled.\n"
     ]
    },
    {
     "name": "stdout",
     "output_type": "stream",
     "text": [
      "41/41 [==============================] - 0s 2ms/step\n"
     ]
    },
    {
     "name": "stderr",
     "output_type": "stream",
     "text": [
      "2023-04-19 10:13:14.813926: I tensorflow/core/grappler/optimizers/custom_graph_optimizer_registry.cc:113] Plugin optimizer for device_type GPU is enabled.\n"
     ]
    },
    {
     "name": "stdout",
     "output_type": "stream",
     "text": [
      "41/41 [==============================] - 0s 2ms/step\n",
      " 1/41 [..............................] - ETA: 0s"
     ]
    },
    {
     "name": "stderr",
     "output_type": "stream",
     "text": [
      "2023-04-19 10:13:17.976940: I tensorflow/core/grappler/optimizers/custom_graph_optimizer_registry.cc:113] Plugin optimizer for device_type GPU is enabled.\n"
     ]
    },
    {
     "name": "stdout",
     "output_type": "stream",
     "text": [
      "41/41 [==============================] - 0s 2ms/step\n"
     ]
    },
    {
     "name": "stderr",
     "output_type": "stream",
     "text": [
      "2023-04-19 10:13:18.344440: I tensorflow/core/grappler/optimizers/custom_graph_optimizer_registry.cc:113] Plugin optimizer for device_type GPU is enabled.\n"
     ]
    },
    {
     "name": "stdout",
     "output_type": "stream",
     "text": [
      "41/41 [==============================] - 0s 2ms/step\n",
      " 1/41 [..............................] - ETA: 0s"
     ]
    },
    {
     "name": "stderr",
     "output_type": "stream",
     "text": [
      "2023-04-19 10:13:21.472692: I tensorflow/core/grappler/optimizers/custom_graph_optimizer_registry.cc:113] Plugin optimizer for device_type GPU is enabled.\n"
     ]
    },
    {
     "name": "stdout",
     "output_type": "stream",
     "text": [
      "41/41 [==============================] - 0s 1ms/step\n"
     ]
    },
    {
     "name": "stderr",
     "output_type": "stream",
     "text": [
      "2023-04-19 10:13:21.823664: I tensorflow/core/grappler/optimizers/custom_graph_optimizer_registry.cc:113] Plugin optimizer for device_type GPU is enabled.\n"
     ]
    },
    {
     "name": "stdout",
     "output_type": "stream",
     "text": [
      "41/41 [==============================] - 0s 2ms/step\n",
      " 1/41 [..............................] - ETA: 0s"
     ]
    },
    {
     "name": "stderr",
     "output_type": "stream",
     "text": [
      "2023-04-19 10:13:24.939482: I tensorflow/core/grappler/optimizers/custom_graph_optimizer_registry.cc:113] Plugin optimizer for device_type GPU is enabled.\n"
     ]
    },
    {
     "name": "stdout",
     "output_type": "stream",
     "text": [
      "41/41 [==============================] - 0s 1ms/step\n"
     ]
    },
    {
     "name": "stderr",
     "output_type": "stream",
     "text": [
      "2023-04-19 10:13:25.298608: I tensorflow/core/grappler/optimizers/custom_graph_optimizer_registry.cc:113] Plugin optimizer for device_type GPU is enabled.\n"
     ]
    },
    {
     "name": "stdout",
     "output_type": "stream",
     "text": [
      "41/41 [==============================] - 0s 2ms/step\n",
      " 1/41 [..............................] - ETA: 0s"
     ]
    },
    {
     "name": "stderr",
     "output_type": "stream",
     "text": [
      "2023-04-19 10:13:28.531337: I tensorflow/core/grappler/optimizers/custom_graph_optimizer_registry.cc:113] Plugin optimizer for device_type GPU is enabled.\n"
     ]
    },
    {
     "name": "stdout",
     "output_type": "stream",
     "text": [
      "41/41 [==============================] - 0s 2ms/step\n"
     ]
    },
    {
     "name": "stderr",
     "output_type": "stream",
     "text": [
      "2023-04-19 10:13:28.893086: I tensorflow/core/grappler/optimizers/custom_graph_optimizer_registry.cc:113] Plugin optimizer for device_type GPU is enabled.\n"
     ]
    },
    {
     "name": "stdout",
     "output_type": "stream",
     "text": [
      "41/41 [==============================] - 0s 2ms/step\n",
      "41/41 [==============================] - 0s 1ms/step\n"
     ]
    },
    {
     "name": "stderr",
     "output_type": "stream",
     "text": [
      "2023-04-19 10:13:32.011793: I tensorflow/core/grappler/optimizers/custom_graph_optimizer_registry.cc:113] Plugin optimizer for device_type GPU is enabled.\n",
      "2023-04-19 10:13:32.348605: I tensorflow/core/grappler/optimizers/custom_graph_optimizer_registry.cc:113] Plugin optimizer for device_type GPU is enabled.\n"
     ]
    },
    {
     "name": "stdout",
     "output_type": "stream",
     "text": [
      "41/41 [==============================] - 0s 2ms/step\n",
      " 1/41 [..............................] - ETA: 0s"
     ]
    },
    {
     "name": "stderr",
     "output_type": "stream",
     "text": [
      "2023-04-19 10:13:35.411781: I tensorflow/core/grappler/optimizers/custom_graph_optimizer_registry.cc:113] Plugin optimizer for device_type GPU is enabled.\n"
     ]
    },
    {
     "name": "stdout",
     "output_type": "stream",
     "text": [
      "41/41 [==============================] - 0s 1ms/step\n"
     ]
    },
    {
     "name": "stderr",
     "output_type": "stream",
     "text": [
      "2023-04-19 10:13:35.769029: I tensorflow/core/grappler/optimizers/custom_graph_optimizer_registry.cc:113] Plugin optimizer for device_type GPU is enabled.\n"
     ]
    },
    {
     "name": "stdout",
     "output_type": "stream",
     "text": [
      "41/41 [==============================] - 0s 2ms/step\n",
      " 1/41 [..............................] - ETA: 0s"
     ]
    },
    {
     "name": "stderr",
     "output_type": "stream",
     "text": [
      "2023-04-19 10:13:38.905633: I tensorflow/core/grappler/optimizers/custom_graph_optimizer_registry.cc:113] Plugin optimizer for device_type GPU is enabled.\n"
     ]
    },
    {
     "name": "stdout",
     "output_type": "stream",
     "text": [
      "41/41 [==============================] - 0s 2ms/step\n"
     ]
    },
    {
     "name": "stderr",
     "output_type": "stream",
     "text": [
      "2023-04-19 10:13:39.278783: I tensorflow/core/grappler/optimizers/custom_graph_optimizer_registry.cc:113] Plugin optimizer for device_type GPU is enabled.\n"
     ]
    },
    {
     "name": "stdout",
     "output_type": "stream",
     "text": [
      "41/41 [==============================] - 0s 2ms/step\n",
      " 1/41 [..............................] - ETA: 0s"
     ]
    },
    {
     "name": "stderr",
     "output_type": "stream",
     "text": [
      "2023-04-19 10:13:42.424586: I tensorflow/core/grappler/optimizers/custom_graph_optimizer_registry.cc:113] Plugin optimizer for device_type GPU is enabled.\n"
     ]
    },
    {
     "name": "stdout",
     "output_type": "stream",
     "text": [
      "41/41 [==============================] - 0s 2ms/step\n"
     ]
    },
    {
     "name": "stderr",
     "output_type": "stream",
     "text": [
      "2023-04-19 10:13:42.795037: I tensorflow/core/grappler/optimizers/custom_graph_optimizer_registry.cc:113] Plugin optimizer for device_type GPU is enabled.\n"
     ]
    },
    {
     "name": "stdout",
     "output_type": "stream",
     "text": [
      "41/41 [==============================] - 0s 2ms/step\n",
      " 1/41 [..............................] - ETA: 0s"
     ]
    },
    {
     "name": "stderr",
     "output_type": "stream",
     "text": [
      "2023-04-19 10:13:46.217465: I tensorflow/core/grappler/optimizers/custom_graph_optimizer_registry.cc:113] Plugin optimizer for device_type GPU is enabled.\n"
     ]
    },
    {
     "name": "stdout",
     "output_type": "stream",
     "text": [
      "41/41 [==============================] - 0s 2ms/step\n"
     ]
    },
    {
     "name": "stderr",
     "output_type": "stream",
     "text": [
      "2023-04-19 10:13:46.585544: I tensorflow/core/grappler/optimizers/custom_graph_optimizer_registry.cc:113] Plugin optimizer for device_type GPU is enabled.\n"
     ]
    },
    {
     "name": "stdout",
     "output_type": "stream",
     "text": [
      "41/41 [==============================] - 0s 2ms/step\n",
      " 1/41 [..............................] - ETA: 0s"
     ]
    },
    {
     "name": "stderr",
     "output_type": "stream",
     "text": [
      "2023-04-19 10:13:50.143147: I tensorflow/core/grappler/optimizers/custom_graph_optimizer_registry.cc:113] Plugin optimizer for device_type GPU is enabled.\n"
     ]
    },
    {
     "name": "stdout",
     "output_type": "stream",
     "text": [
      "41/41 [==============================] - 0s 1ms/step\n"
     ]
    },
    {
     "name": "stderr",
     "output_type": "stream",
     "text": [
      "2023-04-19 10:13:50.506031: I tensorflow/core/grappler/optimizers/custom_graph_optimizer_registry.cc:113] Plugin optimizer for device_type GPU is enabled.\n"
     ]
    },
    {
     "name": "stdout",
     "output_type": "stream",
     "text": [
      "41/41 [==============================] - 0s 2ms/step\n",
      " 1/41 [..............................] - ETA: 0s"
     ]
    },
    {
     "name": "stderr",
     "output_type": "stream",
     "text": [
      "2023-04-19 10:13:54.114357: I tensorflow/core/grappler/optimizers/custom_graph_optimizer_registry.cc:113] Plugin optimizer for device_type GPU is enabled.\n"
     ]
    },
    {
     "name": "stdout",
     "output_type": "stream",
     "text": [
      "41/41 [==============================] - 0s 2ms/step\n"
     ]
    },
    {
     "name": "stderr",
     "output_type": "stream",
     "text": [
      "2023-04-19 10:13:54.469877: I tensorflow/core/grappler/optimizers/custom_graph_optimizer_registry.cc:113] Plugin optimizer for device_type GPU is enabled.\n"
     ]
    },
    {
     "name": "stdout",
     "output_type": "stream",
     "text": [
      "41/41 [==============================] - 0s 2ms/step\n",
      " 1/41 [..............................] - ETA: 0s"
     ]
    },
    {
     "name": "stderr",
     "output_type": "stream",
     "text": [
      "2023-04-19 10:13:58.069066: I tensorflow/core/grappler/optimizers/custom_graph_optimizer_registry.cc:113] Plugin optimizer for device_type GPU is enabled.\n"
     ]
    },
    {
     "name": "stdout",
     "output_type": "stream",
     "text": [
      "41/41 [==============================] - 0s 2ms/step\n"
     ]
    },
    {
     "name": "stderr",
     "output_type": "stream",
     "text": [
      "2023-04-19 10:13:58.433209: I tensorflow/core/grappler/optimizers/custom_graph_optimizer_registry.cc:113] Plugin optimizer for device_type GPU is enabled.\n"
     ]
    },
    {
     "name": "stdout",
     "output_type": "stream",
     "text": [
      "41/41 [==============================] - 0s 3ms/step\n",
      " 1/41 [..............................] - ETA: 0s"
     ]
    },
    {
     "name": "stderr",
     "output_type": "stream",
     "text": [
      "2023-04-19 10:14:02.001093: I tensorflow/core/grappler/optimizers/custom_graph_optimizer_registry.cc:113] Plugin optimizer for device_type GPU is enabled.\n"
     ]
    },
    {
     "name": "stdout",
     "output_type": "stream",
     "text": [
      "41/41 [==============================] - 0s 2ms/step\n"
     ]
    },
    {
     "name": "stderr",
     "output_type": "stream",
     "text": [
      "2023-04-19 10:14:02.367882: I tensorflow/core/grappler/optimizers/custom_graph_optimizer_registry.cc:113] Plugin optimizer for device_type GPU is enabled.\n"
     ]
    },
    {
     "name": "stdout",
     "output_type": "stream",
     "text": [
      "41/41 [==============================] - 0s 2ms/step\n",
      " 1/41 [..............................] - ETA: 0s"
     ]
    },
    {
     "name": "stderr",
     "output_type": "stream",
     "text": [
      "2023-04-19 10:14:06.042991: I tensorflow/core/grappler/optimizers/custom_graph_optimizer_registry.cc:113] Plugin optimizer for device_type GPU is enabled.\n"
     ]
    },
    {
     "name": "stdout",
     "output_type": "stream",
     "text": [
      "41/41 [==============================] - 0s 2ms/step\n"
     ]
    },
    {
     "name": "stderr",
     "output_type": "stream",
     "text": [
      "2023-04-19 10:14:06.408457: I tensorflow/core/grappler/optimizers/custom_graph_optimizer_registry.cc:113] Plugin optimizer for device_type GPU is enabled.\n"
     ]
    },
    {
     "name": "stdout",
     "output_type": "stream",
     "text": [
      "41/41 [==============================] - 0s 2ms/step\n",
      " 1/41 [..............................] - ETA: 0s"
     ]
    },
    {
     "name": "stderr",
     "output_type": "stream",
     "text": [
      "2023-04-19 10:14:10.074194: I tensorflow/core/grappler/optimizers/custom_graph_optimizer_registry.cc:113] Plugin optimizer for device_type GPU is enabled.\n"
     ]
    },
    {
     "name": "stdout",
     "output_type": "stream",
     "text": [
      "41/41 [==============================] - 0s 2ms/step\n"
     ]
    },
    {
     "name": "stderr",
     "output_type": "stream",
     "text": [
      "2023-04-19 10:14:10.440416: I tensorflow/core/grappler/optimizers/custom_graph_optimizer_registry.cc:113] Plugin optimizer for device_type GPU is enabled.\n"
     ]
    },
    {
     "name": "stdout",
     "output_type": "stream",
     "text": [
      "41/41 [==============================] - 0s 2ms/step\n",
      " 1/41 [..............................] - ETA: 0s"
     ]
    },
    {
     "name": "stderr",
     "output_type": "stream",
     "text": [
      "2023-04-19 10:14:14.440785: I tensorflow/core/grappler/optimizers/custom_graph_optimizer_registry.cc:113] Plugin optimizer for device_type GPU is enabled.\n"
     ]
    },
    {
     "name": "stdout",
     "output_type": "stream",
     "text": [
      "41/41 [==============================] - 0s 2ms/step\n"
     ]
    },
    {
     "name": "stderr",
     "output_type": "stream",
     "text": [
      "2023-04-19 10:14:16.573281: I tensorflow/core/grappler/optimizers/custom_graph_optimizer_registry.cc:113] Plugin optimizer for device_type GPU is enabled.\n"
     ]
    },
    {
     "name": "stdout",
     "output_type": "stream",
     "text": [
      "41/41 [==============================] - 0s 2ms/step\n",
      "34/41 [=======================>......] - ETA: 0s"
     ]
    },
    {
     "name": "stderr",
     "output_type": "stream",
     "text": [
      "2023-04-19 10:14:20.232291: I tensorflow/core/grappler/optimizers/custom_graph_optimizer_registry.cc:113] Plugin optimizer for device_type GPU is enabled.\n"
     ]
    },
    {
     "name": "stdout",
     "output_type": "stream",
     "text": [
      "\b\b\b\b\b\b\b\b\b\b\b\b\b\b\b\b\b\b\b\b\b\b\b\b\b\b\b\b\b\b\b\b\b\b\b\b\b\b\b\b\b\b\b\b\b\b\b\b\r",
      "41/41 [==============================] - 0s 2ms/step\n"
     ]
    },
    {
     "name": "stderr",
     "output_type": "stream",
     "text": [
      "2023-04-19 10:14:20.592688: I tensorflow/core/grappler/optimizers/custom_graph_optimizer_registry.cc:113] Plugin optimizer for device_type GPU is enabled.\n"
     ]
    },
    {
     "name": "stdout",
     "output_type": "stream",
     "text": [
      "41/41 [==============================] - 0s 2ms/step\n",
      " 1/41 [..............................] - ETA: 0s"
     ]
    },
    {
     "name": "stderr",
     "output_type": "stream",
     "text": [
      "2023-04-19 10:14:24.183990: I tensorflow/core/grappler/optimizers/custom_graph_optimizer_registry.cc:113] Plugin optimizer for device_type GPU is enabled.\n"
     ]
    },
    {
     "name": "stdout",
     "output_type": "stream",
     "text": [
      "41/41 [==============================] - 0s 2ms/step\n"
     ]
    },
    {
     "name": "stderr",
     "output_type": "stream",
     "text": [
      "2023-04-19 10:14:24.551035: I tensorflow/core/grappler/optimizers/custom_graph_optimizer_registry.cc:113] Plugin optimizer for device_type GPU is enabled.\n"
     ]
    },
    {
     "name": "stdout",
     "output_type": "stream",
     "text": [
      "41/41 [==============================] - 0s 2ms/step\n",
      " 1/41 [..............................] - ETA: 0s"
     ]
    },
    {
     "name": "stderr",
     "output_type": "stream",
     "text": [
      "2023-04-19 10:14:28.118218: I tensorflow/core/grappler/optimizers/custom_graph_optimizer_registry.cc:113] Plugin optimizer for device_type GPU is enabled.\n"
     ]
    },
    {
     "name": "stdout",
     "output_type": "stream",
     "text": [
      "41/41 [==============================] - 0s 2ms/step\n"
     ]
    },
    {
     "name": "stderr",
     "output_type": "stream",
     "text": [
      "2023-04-19 10:14:28.485604: I tensorflow/core/grappler/optimizers/custom_graph_optimizer_registry.cc:113] Plugin optimizer for device_type GPU is enabled.\n"
     ]
    },
    {
     "name": "stdout",
     "output_type": "stream",
     "text": [
      "41/41 [==============================] - 0s 2ms/step\n",
      " 1/41 [..............................] - ETA: 0s"
     ]
    },
    {
     "name": "stderr",
     "output_type": "stream",
     "text": [
      "2023-04-19 10:14:32.135913: I tensorflow/core/grappler/optimizers/custom_graph_optimizer_registry.cc:113] Plugin optimizer for device_type GPU is enabled.\n"
     ]
    },
    {
     "name": "stdout",
     "output_type": "stream",
     "text": [
      "41/41 [==============================] - 0s 1ms/step\n"
     ]
    },
    {
     "name": "stderr",
     "output_type": "stream",
     "text": [
      "2023-04-19 10:14:32.500150: I tensorflow/core/grappler/optimizers/custom_graph_optimizer_registry.cc:113] Plugin optimizer for device_type GPU is enabled.\n"
     ]
    },
    {
     "name": "stdout",
     "output_type": "stream",
     "text": [
      "41/41 [==============================] - 0s 2ms/step\n",
      "34/41 [=======================>......] - ETA: 0s"
     ]
    },
    {
     "name": "stderr",
     "output_type": "stream",
     "text": [
      "2023-04-19 10:14:36.208959: I tensorflow/core/grappler/optimizers/custom_graph_optimizer_registry.cc:113] Plugin optimizer for device_type GPU is enabled.\n"
     ]
    },
    {
     "name": "stdout",
     "output_type": "stream",
     "text": [
      "\b\b\b\b\b\b\b\b\b\b\b\b\b\b\b\b\b\b\b\b\b\b\b\b\b\b\b\b\b\b\b\b\b\b\b\b\b\b\b\b\b\b\b\b\b\b\b\b\r",
      "41/41 [==============================] - 0s 2ms/step\n"
     ]
    },
    {
     "name": "stderr",
     "output_type": "stream",
     "text": [
      "2023-04-19 10:14:36.564927: I tensorflow/core/grappler/optimizers/custom_graph_optimizer_registry.cc:113] Plugin optimizer for device_type GPU is enabled.\n"
     ]
    },
    {
     "name": "stdout",
     "output_type": "stream",
     "text": [
      "41/41 [==============================] - 0s 2ms/step\n",
      " 1/41 [..............................] - ETA: 0s"
     ]
    },
    {
     "name": "stderr",
     "output_type": "stream",
     "text": [
      "2023-04-19 10:14:40.290579: I tensorflow/core/grappler/optimizers/custom_graph_optimizer_registry.cc:113] Plugin optimizer for device_type GPU is enabled.\n"
     ]
    },
    {
     "name": "stdout",
     "output_type": "stream",
     "text": [
      "41/41 [==============================] - 0s 2ms/step\n"
     ]
    },
    {
     "name": "stderr",
     "output_type": "stream",
     "text": [
      "2023-04-19 10:14:40.670043: I tensorflow/core/grappler/optimizers/custom_graph_optimizer_registry.cc:113] Plugin optimizer for device_type GPU is enabled.\n"
     ]
    },
    {
     "name": "stdout",
     "output_type": "stream",
     "text": [
      "41/41 [==============================] - 0s 2ms/step\n",
      " 1/41 [..............................] - ETA: 0s"
     ]
    },
    {
     "name": "stderr",
     "output_type": "stream",
     "text": [
      "2023-04-19 10:14:44.362896: I tensorflow/core/grappler/optimizers/custom_graph_optimizer_registry.cc:113] Plugin optimizer for device_type GPU is enabled.\n"
     ]
    },
    {
     "name": "stdout",
     "output_type": "stream",
     "text": [
      "41/41 [==============================] - 0s 2ms/step\n"
     ]
    },
    {
     "name": "stderr",
     "output_type": "stream",
     "text": [
      "2023-04-19 10:14:44.726551: I tensorflow/core/grappler/optimizers/custom_graph_optimizer_registry.cc:113] Plugin optimizer for device_type GPU is enabled.\n"
     ]
    },
    {
     "name": "stdout",
     "output_type": "stream",
     "text": [
      "41/41 [==============================] - 0s 2ms/step\n",
      " 1/41 [..............................] - ETA: 0s"
     ]
    },
    {
     "name": "stderr",
     "output_type": "stream",
     "text": [
      "2023-04-19 10:14:48.448005: I tensorflow/core/grappler/optimizers/custom_graph_optimizer_registry.cc:113] Plugin optimizer for device_type GPU is enabled.\n"
     ]
    },
    {
     "name": "stdout",
     "output_type": "stream",
     "text": [
      "41/41 [==============================] - 0s 2ms/step\n"
     ]
    },
    {
     "name": "stderr",
     "output_type": "stream",
     "text": [
      "2023-04-19 10:14:48.812996: I tensorflow/core/grappler/optimizers/custom_graph_optimizer_registry.cc:113] Plugin optimizer for device_type GPU is enabled.\n"
     ]
    },
    {
     "name": "stdout",
     "output_type": "stream",
     "text": [
      "41/41 [==============================] - 0s 2ms/step\n",
      " 1/41 [..............................] - ETA: 0s"
     ]
    },
    {
     "name": "stderr",
     "output_type": "stream",
     "text": [
      "2023-04-19 10:14:52.366313: I tensorflow/core/grappler/optimizers/custom_graph_optimizer_registry.cc:113] Plugin optimizer for device_type GPU is enabled.\n"
     ]
    },
    {
     "name": "stdout",
     "output_type": "stream",
     "text": [
      "41/41 [==============================] - 0s 2ms/step\n"
     ]
    },
    {
     "name": "stderr",
     "output_type": "stream",
     "text": [
      "2023-04-19 10:14:52.736170: I tensorflow/core/grappler/optimizers/custom_graph_optimizer_registry.cc:113] Plugin optimizer for device_type GPU is enabled.\n"
     ]
    },
    {
     "name": "stdout",
     "output_type": "stream",
     "text": [
      "41/41 [==============================] - 0s 2ms/step\n",
      "34/41 [=======================>......] - ETA: 0s"
     ]
    },
    {
     "name": "stderr",
     "output_type": "stream",
     "text": [
      "2023-04-19 10:14:56.443253: I tensorflow/core/grappler/optimizers/custom_graph_optimizer_registry.cc:113] Plugin optimizer for device_type GPU is enabled.\n"
     ]
    },
    {
     "name": "stdout",
     "output_type": "stream",
     "text": [
      "\b\b\b\b\b\b\b\b\b\b\b\b\b\b\b\b\b\b\b\b\b\b\b\b\b\b\b\b\b\b\b\b\b\b\b\b\b\b\b\b\b\b\b\b\b\b\b\b\r",
      "41/41 [==============================] - 0s 2ms/step\n"
     ]
    },
    {
     "name": "stderr",
     "output_type": "stream",
     "text": [
      "2023-04-19 10:14:56.807094: I tensorflow/core/grappler/optimizers/custom_graph_optimizer_registry.cc:113] Plugin optimizer for device_type GPU is enabled.\n"
     ]
    },
    {
     "name": "stdout",
     "output_type": "stream",
     "text": [
      "41/41 [==============================] - 0s 2ms/step\n",
      " 1/41 [..............................] - ETA: 0s"
     ]
    },
    {
     "name": "stderr",
     "output_type": "stream",
     "text": [
      "2023-04-19 10:15:00.467965: I tensorflow/core/grappler/optimizers/custom_graph_optimizer_registry.cc:113] Plugin optimizer for device_type GPU is enabled.\n"
     ]
    },
    {
     "name": "stdout",
     "output_type": "stream",
     "text": [
      "41/41 [==============================] - 0s 2ms/step\n"
     ]
    },
    {
     "name": "stderr",
     "output_type": "stream",
     "text": [
      "2023-04-19 10:15:00.841255: I tensorflow/core/grappler/optimizers/custom_graph_optimizer_registry.cc:113] Plugin optimizer for device_type GPU is enabled.\n"
     ]
    },
    {
     "name": "stdout",
     "output_type": "stream",
     "text": [
      "41/41 [==============================] - 0s 2ms/step\n",
      "35/41 [========================>.....] - ETA: 0s"
     ]
    },
    {
     "name": "stderr",
     "output_type": "stream",
     "text": [
      "2023-04-19 10:15:04.618746: I tensorflow/core/grappler/optimizers/custom_graph_optimizer_registry.cc:113] Plugin optimizer for device_type GPU is enabled.\n"
     ]
    },
    {
     "name": "stdout",
     "output_type": "stream",
     "text": [
      "\b\b\b\b\b\b\b\b\b\b\b\b\b\b\b\b\b\b\b\b\b\b\b\b\b\b\b\b\b\b\b\b\b\b\b\b\b\b\b\b\b\b\b\b\b\b\b\b\r",
      "41/41 [==============================] - 0s 2ms/step\n"
     ]
    },
    {
     "name": "stderr",
     "output_type": "stream",
     "text": [
      "2023-04-19 10:15:04.967825: I tensorflow/core/grappler/optimizers/custom_graph_optimizer_registry.cc:113] Plugin optimizer for device_type GPU is enabled.\n"
     ]
    },
    {
     "name": "stdout",
     "output_type": "stream",
     "text": [
      "41/41 [==============================] - 0s 2ms/step\n",
      " 1/41 [..............................] - ETA: 0s"
     ]
    },
    {
     "name": "stderr",
     "output_type": "stream",
     "text": [
      "2023-04-19 10:15:08.654153: I tensorflow/core/grappler/optimizers/custom_graph_optimizer_registry.cc:113] Plugin optimizer for device_type GPU is enabled.\n"
     ]
    },
    {
     "name": "stdout",
     "output_type": "stream",
     "text": [
      "41/41 [==============================] - 0s 2ms/step\n"
     ]
    },
    {
     "name": "stderr",
     "output_type": "stream",
     "text": [
      "2023-04-19 10:15:09.018399: I tensorflow/core/grappler/optimizers/custom_graph_optimizer_registry.cc:113] Plugin optimizer for device_type GPU is enabled.\n"
     ]
    },
    {
     "name": "stdout",
     "output_type": "stream",
     "text": [
      "41/41 [==============================] - 0s 2ms/step\n",
      " 1/41 [..............................] - ETA: 0s"
     ]
    },
    {
     "name": "stderr",
     "output_type": "stream",
     "text": [
      "2023-04-19 10:15:12.791387: I tensorflow/core/grappler/optimizers/custom_graph_optimizer_registry.cc:113] Plugin optimizer for device_type GPU is enabled.\n"
     ]
    },
    {
     "name": "stdout",
     "output_type": "stream",
     "text": [
      "41/41 [==============================] - 0s 2ms/step\n"
     ]
    },
    {
     "name": "stderr",
     "output_type": "stream",
     "text": [
      "2023-04-19 10:15:13.158866: I tensorflow/core/grappler/optimizers/custom_graph_optimizer_registry.cc:113] Plugin optimizer for device_type GPU is enabled.\n"
     ]
    },
    {
     "name": "stdout",
     "output_type": "stream",
     "text": [
      "41/41 [==============================] - 0s 2ms/step\n",
      " 1/41 [..............................] - ETA: 0s"
     ]
    },
    {
     "name": "stderr",
     "output_type": "stream",
     "text": [
      "2023-04-19 10:15:16.912090: I tensorflow/core/grappler/optimizers/custom_graph_optimizer_registry.cc:113] Plugin optimizer for device_type GPU is enabled.\n"
     ]
    },
    {
     "name": "stdout",
     "output_type": "stream",
     "text": [
      "41/41 [==============================] - 0s 2ms/step\n"
     ]
    },
    {
     "name": "stderr",
     "output_type": "stream",
     "text": [
      "2023-04-19 10:15:17.273034: I tensorflow/core/grappler/optimizers/custom_graph_optimizer_registry.cc:113] Plugin optimizer for device_type GPU is enabled.\n"
     ]
    },
    {
     "name": "stdout",
     "output_type": "stream",
     "text": [
      "41/41 [==============================] - 0s 3ms/step\n",
      " 1/41 [..............................] - ETA: 0s"
     ]
    },
    {
     "name": "stderr",
     "output_type": "stream",
     "text": [
      "2023-04-19 10:15:20.951323: I tensorflow/core/grappler/optimizers/custom_graph_optimizer_registry.cc:113] Plugin optimizer for device_type GPU is enabled.\n"
     ]
    },
    {
     "name": "stdout",
     "output_type": "stream",
     "text": [
      "41/41 [==============================] - 0s 2ms/step\n"
     ]
    },
    {
     "name": "stderr",
     "output_type": "stream",
     "text": [
      "2023-04-19 10:15:21.343355: I tensorflow/core/grappler/optimizers/custom_graph_optimizer_registry.cc:113] Plugin optimizer for device_type GPU is enabled.\n"
     ]
    },
    {
     "name": "stdout",
     "output_type": "stream",
     "text": [
      "41/41 [==============================] - 0s 2ms/step\n",
      " 1/41 [..............................] - ETA: 0s"
     ]
    },
    {
     "name": "stderr",
     "output_type": "stream",
     "text": [
      "2023-04-19 10:15:25.049155: I tensorflow/core/grappler/optimizers/custom_graph_optimizer_registry.cc:113] Plugin optimizer for device_type GPU is enabled.\n"
     ]
    },
    {
     "name": "stdout",
     "output_type": "stream",
     "text": [
      "41/41 [==============================] - 0s 1ms/step\n"
     ]
    },
    {
     "name": "stderr",
     "output_type": "stream",
     "text": [
      "2023-04-19 10:15:25.404517: I tensorflow/core/grappler/optimizers/custom_graph_optimizer_registry.cc:113] Plugin optimizer for device_type GPU is enabled.\n"
     ]
    },
    {
     "name": "stdout",
     "output_type": "stream",
     "text": [
      "41/41 [==============================] - 0s 2ms/step\n",
      "35/41 [========================>.....] - ETA: 0s"
     ]
    },
    {
     "name": "stderr",
     "output_type": "stream",
     "text": [
      "2023-04-19 10:15:28.990401: I tensorflow/core/grappler/optimizers/custom_graph_optimizer_registry.cc:113] Plugin optimizer for device_type GPU is enabled.\n"
     ]
    },
    {
     "name": "stdout",
     "output_type": "stream",
     "text": [
      "\b\b\b\b\b\b\b\b\b\b\b\b\b\b\b\b\b\b\b\b\b\b\b\b\b\b\b\b\b\b\b\b\b\b\b\b\b\b\b\b\b\b\b\b\b\b\b\b\r",
      "41/41 [==============================] - 0s 1ms/step\n"
     ]
    },
    {
     "name": "stderr",
     "output_type": "stream",
     "text": [
      "2023-04-19 10:15:29.342401: I tensorflow/core/grappler/optimizers/custom_graph_optimizer_registry.cc:113] Plugin optimizer for device_type GPU is enabled.\n"
     ]
    },
    {
     "name": "stdout",
     "output_type": "stream",
     "text": [
      "41/41 [==============================] - 0s 2ms/step\n",
      " 1/41 [..............................] - ETA: 0s"
     ]
    },
    {
     "name": "stderr",
     "output_type": "stream",
     "text": [
      "2023-04-19 10:15:32.977732: I tensorflow/core/grappler/optimizers/custom_graph_optimizer_registry.cc:113] Plugin optimizer for device_type GPU is enabled.\n"
     ]
    },
    {
     "name": "stdout",
     "output_type": "stream",
     "text": [
      "41/41 [==============================] - 0s 2ms/step\n"
     ]
    },
    {
     "name": "stderr",
     "output_type": "stream",
     "text": [
      "2023-04-19 10:15:33.342146: I tensorflow/core/grappler/optimizers/custom_graph_optimizer_registry.cc:113] Plugin optimizer for device_type GPU is enabled.\n"
     ]
    },
    {
     "name": "stdout",
     "output_type": "stream",
     "text": [
      "41/41 [==============================] - 0s 2ms/step\n",
      " 1/41 [..............................] - ETA: 0s"
     ]
    },
    {
     "name": "stderr",
     "output_type": "stream",
     "text": [
      "2023-04-19 10:15:36.910629: I tensorflow/core/grappler/optimizers/custom_graph_optimizer_registry.cc:113] Plugin optimizer for device_type GPU is enabled.\n"
     ]
    },
    {
     "name": "stdout",
     "output_type": "stream",
     "text": [
      "41/41 [==============================] - 0s 2ms/step\n"
     ]
    },
    {
     "name": "stderr",
     "output_type": "stream",
     "text": [
      "2023-04-19 10:15:37.277850: I tensorflow/core/grappler/optimizers/custom_graph_optimizer_registry.cc:113] Plugin optimizer for device_type GPU is enabled.\n"
     ]
    },
    {
     "name": "stdout",
     "output_type": "stream",
     "text": [
      "41/41 [==============================] - 0s 2ms/step\n",
      "41/41 [==============================] - 0s 1ms/step\n"
     ]
    },
    {
     "name": "stderr",
     "output_type": "stream",
     "text": [
      "2023-04-19 10:15:40.931745: I tensorflow/core/grappler/optimizers/custom_graph_optimizer_registry.cc:113] Plugin optimizer for device_type GPU is enabled.\n",
      "2023-04-19 10:15:41.264249: I tensorflow/core/grappler/optimizers/custom_graph_optimizer_registry.cc:113] Plugin optimizer for device_type GPU is enabled.\n"
     ]
    },
    {
     "name": "stdout",
     "output_type": "stream",
     "text": [
      "41/41 [==============================] - 0s 2ms/step\n",
      " 1/41 [..............................] - ETA: 0s"
     ]
    },
    {
     "name": "stderr",
     "output_type": "stream",
     "text": [
      "2023-04-19 10:15:44.871752: I tensorflow/core/grappler/optimizers/custom_graph_optimizer_registry.cc:113] Plugin optimizer for device_type GPU is enabled.\n"
     ]
    },
    {
     "name": "stdout",
     "output_type": "stream",
     "text": [
      "41/41 [==============================] - 0s 2ms/step\n"
     ]
    },
    {
     "name": "stderr",
     "output_type": "stream",
     "text": [
      "2023-04-19 10:15:45.241002: I tensorflow/core/grappler/optimizers/custom_graph_optimizer_registry.cc:113] Plugin optimizer for device_type GPU is enabled.\n"
     ]
    },
    {
     "name": "stdout",
     "output_type": "stream",
     "text": [
      "41/41 [==============================] - 0s 2ms/step\n",
      " 1/41 [..............................] - ETA: 0s"
     ]
    },
    {
     "name": "stderr",
     "output_type": "stream",
     "text": [
      "2023-04-19 10:15:48.250346: I tensorflow/core/grappler/optimizers/custom_graph_optimizer_registry.cc:113] Plugin optimizer for device_type GPU is enabled.\n"
     ]
    },
    {
     "name": "stdout",
     "output_type": "stream",
     "text": [
      "41/41 [==============================] - 0s 2ms/step\n"
     ]
    },
    {
     "name": "stderr",
     "output_type": "stream",
     "text": [
      "2023-04-19 10:15:48.617039: I tensorflow/core/grappler/optimizers/custom_graph_optimizer_registry.cc:113] Plugin optimizer for device_type GPU is enabled.\n"
     ]
    },
    {
     "name": "stdout",
     "output_type": "stream",
     "text": [
      "41/41 [==============================] - 0s 2ms/step\n",
      " 1/41 [..............................] - ETA: 0s"
     ]
    },
    {
     "name": "stderr",
     "output_type": "stream",
     "text": [
      "2023-04-19 10:15:51.603135: I tensorflow/core/grappler/optimizers/custom_graph_optimizer_registry.cc:113] Plugin optimizer for device_type GPU is enabled.\n"
     ]
    },
    {
     "name": "stdout",
     "output_type": "stream",
     "text": [
      "41/41 [==============================] - 0s 2ms/step\n"
     ]
    },
    {
     "name": "stderr",
     "output_type": "stream",
     "text": [
      "2023-04-19 10:15:51.978141: I tensorflow/core/grappler/optimizers/custom_graph_optimizer_registry.cc:113] Plugin optimizer for device_type GPU is enabled.\n"
     ]
    },
    {
     "name": "stdout",
     "output_type": "stream",
     "text": [
      "41/41 [==============================] - 0s 2ms/step\n",
      "35/41 [========================>.....] - ETA: 0s"
     ]
    },
    {
     "name": "stderr",
     "output_type": "stream",
     "text": [
      "2023-04-19 10:15:54.901059: I tensorflow/core/grappler/optimizers/custom_graph_optimizer_registry.cc:113] Plugin optimizer for device_type GPU is enabled.\n"
     ]
    },
    {
     "name": "stdout",
     "output_type": "stream",
     "text": [
      "\b\b\b\b\b\b\b\b\b\b\b\b\b\b\b\b\b\b\b\b\b\b\b\b\b\b\b\b\b\b\b\b\b\b\b\b\b\b\b\b\b\b\b\b\b\b\b\b\r",
      "41/41 [==============================] - 0s 2ms/step\n"
     ]
    },
    {
     "name": "stderr",
     "output_type": "stream",
     "text": [
      "2023-04-19 10:15:55.260692: I tensorflow/core/grappler/optimizers/custom_graph_optimizer_registry.cc:113] Plugin optimizer for device_type GPU is enabled.\n"
     ]
    },
    {
     "name": "stdout",
     "output_type": "stream",
     "text": [
      "41/41 [==============================] - 0s 2ms/step\n",
      " 1/41 [..............................] - ETA: 0s"
     ]
    },
    {
     "name": "stderr",
     "output_type": "stream",
     "text": [
      "2023-04-19 10:15:58.183044: I tensorflow/core/grappler/optimizers/custom_graph_optimizer_registry.cc:113] Plugin optimizer for device_type GPU is enabled.\n"
     ]
    },
    {
     "name": "stdout",
     "output_type": "stream",
     "text": [
      "41/41 [==============================] - 0s 2ms/step\n"
     ]
    },
    {
     "name": "stderr",
     "output_type": "stream",
     "text": [
      "2023-04-19 10:16:00.489389: I tensorflow/core/grappler/optimizers/custom_graph_optimizer_registry.cc:113] Plugin optimizer for device_type GPU is enabled.\n"
     ]
    },
    {
     "name": "stdout",
     "output_type": "stream",
     "text": [
      "41/41 [==============================] - 0s 3ms/step\n",
      " 1/41 [..............................] - ETA: 0s"
     ]
    },
    {
     "name": "stderr",
     "output_type": "stream",
     "text": [
      "2023-04-19 10:16:03.550625: I tensorflow/core/grappler/optimizers/custom_graph_optimizer_registry.cc:113] Plugin optimizer for device_type GPU is enabled.\n"
     ]
    },
    {
     "name": "stdout",
     "output_type": "stream",
     "text": [
      "41/41 [==============================] - 0s 2ms/step\n"
     ]
    },
    {
     "name": "stderr",
     "output_type": "stream",
     "text": [
      "2023-04-19 10:16:03.939357: I tensorflow/core/grappler/optimizers/custom_graph_optimizer_registry.cc:113] Plugin optimizer for device_type GPU is enabled.\n"
     ]
    },
    {
     "name": "stdout",
     "output_type": "stream",
     "text": [
      "41/41 [==============================] - 0s 2ms/step\n",
      "34/41 [=======================>......] - ETA: 0s"
     ]
    },
    {
     "name": "stderr",
     "output_type": "stream",
     "text": [
      "2023-04-19 10:16:06.911815: I tensorflow/core/grappler/optimizers/custom_graph_optimizer_registry.cc:113] Plugin optimizer for device_type GPU is enabled.\n"
     ]
    },
    {
     "name": "stdout",
     "output_type": "stream",
     "text": [
      "\b\b\b\b\b\b\b\b\b\b\b\b\b\b\b\b\b\b\b\b\b\b\b\b\b\b\b\b\b\b\b\b\b\b\b\b\b\b\b\b\b\b\b\b\b\b\b\b\r",
      "41/41 [==============================] - 0s 2ms/step\n"
     ]
    },
    {
     "name": "stderr",
     "output_type": "stream",
     "text": [
      "2023-04-19 10:16:07.276423: I tensorflow/core/grappler/optimizers/custom_graph_optimizer_registry.cc:113] Plugin optimizer for device_type GPU is enabled.\n"
     ]
    },
    {
     "name": "stdout",
     "output_type": "stream",
     "text": [
      "41/41 [==============================] - 0s 2ms/step\n",
      " 1/41 [..............................] - ETA: 0s"
     ]
    },
    {
     "name": "stderr",
     "output_type": "stream",
     "text": [
      "2023-04-19 10:16:10.243758: I tensorflow/core/grappler/optimizers/custom_graph_optimizer_registry.cc:113] Plugin optimizer for device_type GPU is enabled.\n"
     ]
    },
    {
     "name": "stdout",
     "output_type": "stream",
     "text": [
      "41/41 [==============================] - 0s 1ms/step\n"
     ]
    },
    {
     "name": "stderr",
     "output_type": "stream",
     "text": [
      "2023-04-19 10:16:10.612422: I tensorflow/core/grappler/optimizers/custom_graph_optimizer_registry.cc:113] Plugin optimizer for device_type GPU is enabled.\n"
     ]
    },
    {
     "name": "stdout",
     "output_type": "stream",
     "text": [
      "41/41 [==============================] - 0s 2ms/step\n",
      " 1/41 [..............................] - ETA: 0s"
     ]
    },
    {
     "name": "stderr",
     "output_type": "stream",
     "text": [
      "2023-04-19 10:16:13.482466: I tensorflow/core/grappler/optimizers/custom_graph_optimizer_registry.cc:113] Plugin optimizer for device_type GPU is enabled.\n"
     ]
    },
    {
     "name": "stdout",
     "output_type": "stream",
     "text": [
      "41/41 [==============================] - 0s 2ms/step\n"
     ]
    },
    {
     "name": "stderr",
     "output_type": "stream",
     "text": [
      "2023-04-19 10:16:13.845933: I tensorflow/core/grappler/optimizers/custom_graph_optimizer_registry.cc:113] Plugin optimizer for device_type GPU is enabled.\n"
     ]
    },
    {
     "name": "stdout",
     "output_type": "stream",
     "text": [
      "41/41 [==============================] - 0s 3ms/step\n",
      "34/41 [=======================>......] - ETA: 0s"
     ]
    },
    {
     "name": "stderr",
     "output_type": "stream",
     "text": [
      "2023-04-19 10:16:16.752679: I tensorflow/core/grappler/optimizers/custom_graph_optimizer_registry.cc:113] Plugin optimizer for device_type GPU is enabled.\n"
     ]
    },
    {
     "name": "stdout",
     "output_type": "stream",
     "text": [
      "\b\b\b\b\b\b\b\b\b\b\b\b\b\b\b\b\b\b\b\b\b\b\b\b\b\b\b\b\b\b\b\b\b\b\b\b\b\b\b\b\b\b\b\b\b\b\b\b\r",
      "41/41 [==============================] - 0s 2ms/step\n"
     ]
    },
    {
     "name": "stderr",
     "output_type": "stream",
     "text": [
      "2023-04-19 10:16:17.109982: I tensorflow/core/grappler/optimizers/custom_graph_optimizer_registry.cc:113] Plugin optimizer for device_type GPU is enabled.\n"
     ]
    },
    {
     "name": "stdout",
     "output_type": "stream",
     "text": [
      "41/41 [==============================] - 0s 2ms/step\n",
      "34/41 [=======================>......] - ETA: 0s"
     ]
    },
    {
     "name": "stderr",
     "output_type": "stream",
     "text": [
      "2023-04-19 10:16:20.135737: I tensorflow/core/grappler/optimizers/custom_graph_optimizer_registry.cc:113] Plugin optimizer for device_type GPU is enabled.\n"
     ]
    },
    {
     "name": "stdout",
     "output_type": "stream",
     "text": [
      "\b\b\b\b\b\b\b\b\b\b\b\b\b\b\b\b\b\b\b\b\b\b\b\b\b\b\b\b\b\b\b\b\b\b\b\b\b\b\b\b\b\b\b\b\b\b\b\b\r",
      "41/41 [==============================] - 0s 2ms/step\n"
     ]
    },
    {
     "name": "stderr",
     "output_type": "stream",
     "text": [
      "2023-04-19 10:16:20.493501: I tensorflow/core/grappler/optimizers/custom_graph_optimizer_registry.cc:113] Plugin optimizer for device_type GPU is enabled.\n"
     ]
    },
    {
     "name": "stdout",
     "output_type": "stream",
     "text": [
      "41/41 [==============================] - 0s 2ms/step\n",
      "35/41 [========================>.....] - ETA: 0s"
     ]
    },
    {
     "name": "stderr",
     "output_type": "stream",
     "text": [
      "2023-04-19 10:16:23.523810: I tensorflow/core/grappler/optimizers/custom_graph_optimizer_registry.cc:113] Plugin optimizer for device_type GPU is enabled.\n"
     ]
    },
    {
     "name": "stdout",
     "output_type": "stream",
     "text": [
      "\b\b\b\b\b\b\b\b\b\b\b\b\b\b\b\b\b\b\b\b\b\b\b\b\b\b\b\b\b\b\b\b\b\b\b\b\b\b\b\b\b\b\b\b\b\b\b\b\r",
      "41/41 [==============================] - 0s 2ms/step\n"
     ]
    },
    {
     "name": "stderr",
     "output_type": "stream",
     "text": [
      "2023-04-19 10:16:23.881662: I tensorflow/core/grappler/optimizers/custom_graph_optimizer_registry.cc:113] Plugin optimizer for device_type GPU is enabled.\n"
     ]
    },
    {
     "name": "stdout",
     "output_type": "stream",
     "text": [
      "41/41 [==============================] - 0s 2ms/step\n",
      "41/41 [==============================] - 0s 1ms/step\n"
     ]
    },
    {
     "name": "stderr",
     "output_type": "stream",
     "text": [
      "2023-04-19 10:16:26.754077: I tensorflow/core/grappler/optimizers/custom_graph_optimizer_registry.cc:113] Plugin optimizer for device_type GPU is enabled.\n",
      "2023-04-19 10:16:27.099527: I tensorflow/core/grappler/optimizers/custom_graph_optimizer_registry.cc:113] Plugin optimizer for device_type GPU is enabled.\n"
     ]
    },
    {
     "name": "stdout",
     "output_type": "stream",
     "text": [
      "41/41 [==============================] - 0s 2ms/step\n",
      " 1/41 [..............................] - ETA: 0s"
     ]
    },
    {
     "name": "stderr",
     "output_type": "stream",
     "text": [
      "2023-04-19 10:16:30.045770: I tensorflow/core/grappler/optimizers/custom_graph_optimizer_registry.cc:113] Plugin optimizer for device_type GPU is enabled.\n"
     ]
    },
    {
     "name": "stdout",
     "output_type": "stream",
     "text": [
      "41/41 [==============================] - 0s 2ms/step\n"
     ]
    },
    {
     "name": "stderr",
     "output_type": "stream",
     "text": [
      "2023-04-19 10:16:30.407851: I tensorflow/core/grappler/optimizers/custom_graph_optimizer_registry.cc:113] Plugin optimizer for device_type GPU is enabled.\n"
     ]
    },
    {
     "name": "stdout",
     "output_type": "stream",
     "text": [
      "41/41 [==============================] - 0s 2ms/step\n",
      " 1/41 [..............................] - ETA: 0s"
     ]
    },
    {
     "name": "stderr",
     "output_type": "stream",
     "text": [
      "2023-04-19 10:16:33.343342: I tensorflow/core/grappler/optimizers/custom_graph_optimizer_registry.cc:113] Plugin optimizer for device_type GPU is enabled.\n"
     ]
    },
    {
     "name": "stdout",
     "output_type": "stream",
     "text": [
      "41/41 [==============================] - 0s 1ms/step\n"
     ]
    },
    {
     "name": "stderr",
     "output_type": "stream",
     "text": [
      "2023-04-19 10:16:33.710290: I tensorflow/core/grappler/optimizers/custom_graph_optimizer_registry.cc:113] Plugin optimizer for device_type GPU is enabled.\n"
     ]
    },
    {
     "name": "stdout",
     "output_type": "stream",
     "text": [
      "41/41 [==============================] - 0s 2ms/step\n",
      " 1/41 [..............................] - ETA: 0s"
     ]
    },
    {
     "name": "stderr",
     "output_type": "stream",
     "text": [
      "2023-04-19 10:16:36.720126: I tensorflow/core/grappler/optimizers/custom_graph_optimizer_registry.cc:113] Plugin optimizer for device_type GPU is enabled.\n"
     ]
    },
    {
     "name": "stdout",
     "output_type": "stream",
     "text": [
      "41/41 [==============================] - 0s 2ms/step\n"
     ]
    },
    {
     "name": "stderr",
     "output_type": "stream",
     "text": [
      "2023-04-19 10:16:37.083739: I tensorflow/core/grappler/optimizers/custom_graph_optimizer_registry.cc:113] Plugin optimizer for device_type GPU is enabled.\n"
     ]
    },
    {
     "name": "stdout",
     "output_type": "stream",
     "text": [
      "41/41 [==============================] - 0s 3ms/step\n",
      " 1/41 [..............................] - ETA: 0s"
     ]
    },
    {
     "name": "stderr",
     "output_type": "stream",
     "text": [
      "2023-04-19 10:16:39.928839: I tensorflow/core/grappler/optimizers/custom_graph_optimizer_registry.cc:113] Plugin optimizer for device_type GPU is enabled.\n"
     ]
    },
    {
     "name": "stdout",
     "output_type": "stream",
     "text": [
      "41/41 [==============================] - 0s 2ms/step\n"
     ]
    },
    {
     "name": "stderr",
     "output_type": "stream",
     "text": [
      "2023-04-19 10:16:40.294567: I tensorflow/core/grappler/optimizers/custom_graph_optimizer_registry.cc:113] Plugin optimizer for device_type GPU is enabled.\n"
     ]
    },
    {
     "name": "stdout",
     "output_type": "stream",
     "text": [
      "41/41 [==============================] - 0s 2ms/step\n",
      " 1/41 [..............................] - ETA: 0s"
     ]
    },
    {
     "name": "stderr",
     "output_type": "stream",
     "text": [
      "2023-04-19 10:16:43.222029: I tensorflow/core/grappler/optimizers/custom_graph_optimizer_registry.cc:113] Plugin optimizer for device_type GPU is enabled.\n"
     ]
    },
    {
     "name": "stdout",
     "output_type": "stream",
     "text": [
      "41/41 [==============================] - 0s 1ms/step\n"
     ]
    },
    {
     "name": "stderr",
     "output_type": "stream",
     "text": [
      "2023-04-19 10:16:43.582531: I tensorflow/core/grappler/optimizers/custom_graph_optimizer_registry.cc:113] Plugin optimizer for device_type GPU is enabled.\n"
     ]
    },
    {
     "name": "stdout",
     "output_type": "stream",
     "text": [
      "41/41 [==============================] - 0s 2ms/step\n",
      " 1/41 [..............................] - ETA: 0s"
     ]
    },
    {
     "name": "stderr",
     "output_type": "stream",
     "text": [
      "2023-04-19 10:16:46.554177: I tensorflow/core/grappler/optimizers/custom_graph_optimizer_registry.cc:113] Plugin optimizer for device_type GPU is enabled.\n"
     ]
    },
    {
     "name": "stdout",
     "output_type": "stream",
     "text": [
      "41/41 [==============================] - 0s 2ms/step\n"
     ]
    },
    {
     "name": "stderr",
     "output_type": "stream",
     "text": [
      "2023-04-19 10:16:46.936529: I tensorflow/core/grappler/optimizers/custom_graph_optimizer_registry.cc:113] Plugin optimizer for device_type GPU is enabled.\n"
     ]
    },
    {
     "name": "stdout",
     "output_type": "stream",
     "text": [
      "41/41 [==============================] - 0s 2ms/step\n",
      " 1/41 [..............................] - ETA: 0s"
     ]
    },
    {
     "name": "stderr",
     "output_type": "stream",
     "text": [
      "2023-04-19 10:16:49.796926: I tensorflow/core/grappler/optimizers/custom_graph_optimizer_registry.cc:113] Plugin optimizer for device_type GPU is enabled.\n"
     ]
    },
    {
     "name": "stdout",
     "output_type": "stream",
     "text": [
      "41/41 [==============================] - 0s 1ms/step\n"
     ]
    },
    {
     "name": "stderr",
     "output_type": "stream",
     "text": [
      "2023-04-19 10:16:50.159459: I tensorflow/core/grappler/optimizers/custom_graph_optimizer_registry.cc:113] Plugin optimizer for device_type GPU is enabled.\n"
     ]
    },
    {
     "name": "stdout",
     "output_type": "stream",
     "text": [
      "41/41 [==============================] - 0s 2ms/step\n",
      "41/41 [==============================] - 0s 1ms/step\n"
     ]
    },
    {
     "name": "stderr",
     "output_type": "stream",
     "text": [
      "2023-04-19 10:16:52.962533: I tensorflow/core/grappler/optimizers/custom_graph_optimizer_registry.cc:113] Plugin optimizer for device_type GPU is enabled.\n",
      "2023-04-19 10:16:53.310152: I tensorflow/core/grappler/optimizers/custom_graph_optimizer_registry.cc:113] Plugin optimizer for device_type GPU is enabled.\n"
     ]
    },
    {
     "name": "stdout",
     "output_type": "stream",
     "text": [
      "41/41 [==============================] - 0s 3ms/step\n",
      " 1/41 [..............................] - ETA: 0s"
     ]
    },
    {
     "name": "stderr",
     "output_type": "stream",
     "text": [
      "2023-04-19 10:16:56.396657: I tensorflow/core/grappler/optimizers/custom_graph_optimizer_registry.cc:113] Plugin optimizer for device_type GPU is enabled.\n"
     ]
    },
    {
     "name": "stdout",
     "output_type": "stream",
     "text": [
      "41/41 [==============================] - 0s 2ms/step\n"
     ]
    },
    {
     "name": "stderr",
     "output_type": "stream",
     "text": [
      "2023-04-19 10:16:56.794141: I tensorflow/core/grappler/optimizers/custom_graph_optimizer_registry.cc:113] Plugin optimizer for device_type GPU is enabled.\n"
     ]
    },
    {
     "name": "stdout",
     "output_type": "stream",
     "text": [
      "41/41 [==============================] - 0s 2ms/step\n",
      "41/41 [==============================] - 0s 1ms/step\n"
     ]
    },
    {
     "name": "stderr",
     "output_type": "stream",
     "text": [
      "2023-04-19 10:17:00.005508: I tensorflow/core/grappler/optimizers/custom_graph_optimizer_registry.cc:113] Plugin optimizer for device_type GPU is enabled.\n",
      "2023-04-19 10:17:00.353141: I tensorflow/core/grappler/optimizers/custom_graph_optimizer_registry.cc:113] Plugin optimizer for device_type GPU is enabled.\n"
     ]
    },
    {
     "name": "stdout",
     "output_type": "stream",
     "text": [
      "41/41 [==============================] - 0s 2ms/step\n",
      "41/41 [==============================] - 0s 1ms/step\n"
     ]
    },
    {
     "name": "stderr",
     "output_type": "stream",
     "text": [
      "2023-04-19 10:17:03.286844: I tensorflow/core/grappler/optimizers/custom_graph_optimizer_registry.cc:113] Plugin optimizer for device_type GPU is enabled.\n",
      "2023-04-19 10:17:03.640282: I tensorflow/core/grappler/optimizers/custom_graph_optimizer_registry.cc:113] Plugin optimizer for device_type GPU is enabled.\n"
     ]
    },
    {
     "name": "stdout",
     "output_type": "stream",
     "text": [
      "41/41 [==============================] - 0s 2ms/step\n",
      " 1/41 [..............................] - ETA: 0s"
     ]
    },
    {
     "name": "stderr",
     "output_type": "stream",
     "text": [
      "2023-04-19 10:17:06.611279: I tensorflow/core/grappler/optimizers/custom_graph_optimizer_registry.cc:113] Plugin optimizer for device_type GPU is enabled.\n"
     ]
    },
    {
     "name": "stdout",
     "output_type": "stream",
     "text": [
      "41/41 [==============================] - 0s 2ms/step\n"
     ]
    },
    {
     "name": "stderr",
     "output_type": "stream",
     "text": [
      "2023-04-19 10:17:06.988560: I tensorflow/core/grappler/optimizers/custom_graph_optimizer_registry.cc:113] Plugin optimizer for device_type GPU is enabled.\n"
     ]
    },
    {
     "name": "stdout",
     "output_type": "stream",
     "text": [
      "41/41 [==============================] - 0s 2ms/step\n",
      " 1/41 [..............................] - ETA: 0s"
     ]
    },
    {
     "name": "stderr",
     "output_type": "stream",
     "text": [
      "2023-04-19 10:17:09.965227: I tensorflow/core/grappler/optimizers/custom_graph_optimizer_registry.cc:113] Plugin optimizer for device_type GPU is enabled.\n"
     ]
    },
    {
     "name": "stdout",
     "output_type": "stream",
     "text": [
      "41/41 [==============================] - 0s 1ms/step\n"
     ]
    },
    {
     "name": "stderr",
     "output_type": "stream",
     "text": [
      "2023-04-19 10:17:10.336528: I tensorflow/core/grappler/optimizers/custom_graph_optimizer_registry.cc:113] Plugin optimizer for device_type GPU is enabled.\n"
     ]
    },
    {
     "name": "stdout",
     "output_type": "stream",
     "text": [
      "41/41 [==============================] - 0s 3ms/step\n",
      " 1/41 [..............................] - ETA: 0s"
     ]
    },
    {
     "name": "stderr",
     "output_type": "stream",
     "text": [
      "2023-04-19 10:17:13.568151: I tensorflow/core/grappler/optimizers/custom_graph_optimizer_registry.cc:113] Plugin optimizer for device_type GPU is enabled.\n"
     ]
    },
    {
     "name": "stdout",
     "output_type": "stream",
     "text": [
      "41/41 [==============================] - 0s 2ms/step\n"
     ]
    },
    {
     "name": "stderr",
     "output_type": "stream",
     "text": [
      "2023-04-19 10:17:13.963880: I tensorflow/core/grappler/optimizers/custom_graph_optimizer_registry.cc:113] Plugin optimizer for device_type GPU is enabled.\n"
     ]
    },
    {
     "name": "stdout",
     "output_type": "stream",
     "text": [
      "41/41 [==============================] - 0s 3ms/step\n",
      " 1/41 [..............................] - ETA: 0s"
     ]
    },
    {
     "name": "stderr",
     "output_type": "stream",
     "text": [
      "2023-04-19 10:17:17.271310: I tensorflow/core/grappler/optimizers/custom_graph_optimizer_registry.cc:113] Plugin optimizer for device_type GPU is enabled.\n"
     ]
    },
    {
     "name": "stdout",
     "output_type": "stream",
     "text": [
      "41/41 [==============================] - 0s 2ms/step\n"
     ]
    },
    {
     "name": "stderr",
     "output_type": "stream",
     "text": [
      "2023-04-19 10:17:17.683671: I tensorflow/core/grappler/optimizers/custom_graph_optimizer_registry.cc:113] Plugin optimizer for device_type GPU is enabled.\n"
     ]
    },
    {
     "name": "stdout",
     "output_type": "stream",
     "text": [
      "41/41 [==============================] - 0s 3ms/step\n",
      " 1/41 [..............................] - ETA: 0s"
     ]
    },
    {
     "name": "stderr",
     "output_type": "stream",
     "text": [
      "2023-04-19 10:17:20.903263: I tensorflow/core/grappler/optimizers/custom_graph_optimizer_registry.cc:113] Plugin optimizer for device_type GPU is enabled.\n"
     ]
    },
    {
     "name": "stdout",
     "output_type": "stream",
     "text": [
      "41/41 [==============================] - 0s 2ms/step\n"
     ]
    },
    {
     "name": "stderr",
     "output_type": "stream",
     "text": [
      "2023-04-19 10:17:21.300457: I tensorflow/core/grappler/optimizers/custom_graph_optimizer_registry.cc:113] Plugin optimizer for device_type GPU is enabled.\n"
     ]
    },
    {
     "name": "stdout",
     "output_type": "stream",
     "text": [
      "41/41 [==============================] - 0s 3ms/step\n",
      " 1/41 [..............................] - ETA: 0s"
     ]
    },
    {
     "name": "stderr",
     "output_type": "stream",
     "text": [
      "2023-04-19 10:17:24.608050: I tensorflow/core/grappler/optimizers/custom_graph_optimizer_registry.cc:113] Plugin optimizer for device_type GPU is enabled.\n"
     ]
    },
    {
     "name": "stdout",
     "output_type": "stream",
     "text": [
      "41/41 [==============================] - 0s 2ms/step\n"
     ]
    },
    {
     "name": "stderr",
     "output_type": "stream",
     "text": [
      "2023-04-19 10:17:27.148486: I tensorflow/core/grappler/optimizers/custom_graph_optimizer_registry.cc:113] Plugin optimizer for device_type GPU is enabled.\n"
     ]
    },
    {
     "name": "stdout",
     "output_type": "stream",
     "text": [
      "41/41 [==============================] - 0s 2ms/step\n",
      " 1/41 [..............................] - ETA: 0s"
     ]
    },
    {
     "name": "stderr",
     "output_type": "stream",
     "text": [
      "2023-04-19 10:17:30.384508: I tensorflow/core/grappler/optimizers/custom_graph_optimizer_registry.cc:113] Plugin optimizer for device_type GPU is enabled.\n"
     ]
    },
    {
     "name": "stdout",
     "output_type": "stream",
     "text": [
      "41/41 [==============================] - 0s 2ms/step\n"
     ]
    },
    {
     "name": "stderr",
     "output_type": "stream",
     "text": [
      "2023-04-19 10:17:30.763523: I tensorflow/core/grappler/optimizers/custom_graph_optimizer_registry.cc:113] Plugin optimizer for device_type GPU is enabled.\n"
     ]
    },
    {
     "name": "stdout",
     "output_type": "stream",
     "text": [
      "41/41 [==============================] - 0s 3ms/step\n",
      " 1/41 [..............................] - ETA: 0s"
     ]
    },
    {
     "name": "stderr",
     "output_type": "stream",
     "text": [
      "2023-04-19 10:17:34.431367: I tensorflow/core/grappler/optimizers/custom_graph_optimizer_registry.cc:113] Plugin optimizer for device_type GPU is enabled.\n"
     ]
    },
    {
     "name": "stdout",
     "output_type": "stream",
     "text": [
      "41/41 [==============================] - 0s 2ms/step\n"
     ]
    },
    {
     "name": "stderr",
     "output_type": "stream",
     "text": [
      "2023-04-19 10:17:34.833330: I tensorflow/core/grappler/optimizers/custom_graph_optimizer_registry.cc:113] Plugin optimizer for device_type GPU is enabled.\n"
     ]
    },
    {
     "name": "stdout",
     "output_type": "stream",
     "text": [
      "41/41 [==============================] - 0s 3ms/step\n",
      " 1/41 [..............................] - ETA: 0s"
     ]
    },
    {
     "name": "stderr",
     "output_type": "stream",
     "text": [
      "2023-04-19 10:17:38.701970: I tensorflow/core/grappler/optimizers/custom_graph_optimizer_registry.cc:113] Plugin optimizer for device_type GPU is enabled.\n"
     ]
    },
    {
     "name": "stdout",
     "output_type": "stream",
     "text": [
      "41/41 [==============================] - 0s 2ms/step\n"
     ]
    },
    {
     "name": "stderr",
     "output_type": "stream",
     "text": [
      "2023-04-19 10:17:39.105260: I tensorflow/core/grappler/optimizers/custom_graph_optimizer_registry.cc:113] Plugin optimizer for device_type GPU is enabled.\n"
     ]
    },
    {
     "name": "stdout",
     "output_type": "stream",
     "text": [
      "41/41 [==============================] - 0s 2ms/step\n",
      " 1/41 [..............................] - ETA: 0s"
     ]
    },
    {
     "name": "stderr",
     "output_type": "stream",
     "text": [
      "2023-04-19 10:17:42.732522: I tensorflow/core/grappler/optimizers/custom_graph_optimizer_registry.cc:113] Plugin optimizer for device_type GPU is enabled.\n"
     ]
    },
    {
     "name": "stdout",
     "output_type": "stream",
     "text": [
      "41/41 [==============================] - 0s 2ms/step\n"
     ]
    },
    {
     "name": "stderr",
     "output_type": "stream",
     "text": [
      "2023-04-19 10:17:43.101526: I tensorflow/core/grappler/optimizers/custom_graph_optimizer_registry.cc:113] Plugin optimizer for device_type GPU is enabled.\n"
     ]
    },
    {
     "name": "stdout",
     "output_type": "stream",
     "text": [
      "41/41 [==============================] - 0s 3ms/step\n",
      " 1/41 [..............................] - ETA: 0s"
     ]
    },
    {
     "name": "stderr",
     "output_type": "stream",
     "text": [
      "2023-04-19 10:17:46.822056: I tensorflow/core/grappler/optimizers/custom_graph_optimizer_registry.cc:113] Plugin optimizer for device_type GPU is enabled.\n"
     ]
    },
    {
     "name": "stdout",
     "output_type": "stream",
     "text": [
      "41/41 [==============================] - 0s 2ms/step\n"
     ]
    },
    {
     "name": "stderr",
     "output_type": "stream",
     "text": [
      "2023-04-19 10:17:47.219801: I tensorflow/core/grappler/optimizers/custom_graph_optimizer_registry.cc:113] Plugin optimizer for device_type GPU is enabled.\n"
     ]
    },
    {
     "name": "stdout",
     "output_type": "stream",
     "text": [
      "41/41 [==============================] - 0s 3ms/step\n",
      " 1/41 [..............................] - ETA: 0s"
     ]
    },
    {
     "name": "stderr",
     "output_type": "stream",
     "text": [
      "2023-04-19 10:17:50.974292: I tensorflow/core/grappler/optimizers/custom_graph_optimizer_registry.cc:113] Plugin optimizer for device_type GPU is enabled.\n"
     ]
    },
    {
     "name": "stdout",
     "output_type": "stream",
     "text": [
      "41/41 [==============================] - 0s 2ms/step\n"
     ]
    },
    {
     "name": "stderr",
     "output_type": "stream",
     "text": [
      "2023-04-19 10:17:51.375046: I tensorflow/core/grappler/optimizers/custom_graph_optimizer_registry.cc:113] Plugin optimizer for device_type GPU is enabled.\n"
     ]
    },
    {
     "name": "stdout",
     "output_type": "stream",
     "text": [
      "41/41 [==============================] - 0s 2ms/step\n",
      " 1/41 [..............................] - ETA: 0s"
     ]
    },
    {
     "name": "stderr",
     "output_type": "stream",
     "text": [
      "2023-04-19 10:17:55.093716: I tensorflow/core/grappler/optimizers/custom_graph_optimizer_registry.cc:113] Plugin optimizer for device_type GPU is enabled.\n"
     ]
    },
    {
     "name": "stdout",
     "output_type": "stream",
     "text": [
      "41/41 [==============================] - 0s 2ms/step\n"
     ]
    },
    {
     "name": "stderr",
     "output_type": "stream",
     "text": [
      "2023-04-19 10:17:55.469450: I tensorflow/core/grappler/optimizers/custom_graph_optimizer_registry.cc:113] Plugin optimizer for device_type GPU is enabled.\n"
     ]
    },
    {
     "name": "stdout",
     "output_type": "stream",
     "text": [
      "41/41 [==============================] - 0s 3ms/step\n",
      " 1/41 [..............................] - ETA: 0s"
     ]
    },
    {
     "name": "stderr",
     "output_type": "stream",
     "text": [
      "2023-04-19 10:17:59.343232: I tensorflow/core/grappler/optimizers/custom_graph_optimizer_registry.cc:113] Plugin optimizer for device_type GPU is enabled.\n"
     ]
    },
    {
     "name": "stdout",
     "output_type": "stream",
     "text": [
      "41/41 [==============================] - 0s 2ms/step\n"
     ]
    },
    {
     "name": "stderr",
     "output_type": "stream",
     "text": [
      "2023-04-19 10:17:59.724421: I tensorflow/core/grappler/optimizers/custom_graph_optimizer_registry.cc:113] Plugin optimizer for device_type GPU is enabled.\n"
     ]
    },
    {
     "name": "stdout",
     "output_type": "stream",
     "text": [
      "41/41 [==============================] - 0s 3ms/step\n",
      " 1/41 [..............................] - ETA: 0s"
     ]
    },
    {
     "name": "stderr",
     "output_type": "stream",
     "text": [
      "2023-04-19 10:18:03.567268: I tensorflow/core/grappler/optimizers/custom_graph_optimizer_registry.cc:113] Plugin optimizer for device_type GPU is enabled.\n"
     ]
    },
    {
     "name": "stdout",
     "output_type": "stream",
     "text": [
      "41/41 [==============================] - 0s 2ms/step\n"
     ]
    },
    {
     "name": "stderr",
     "output_type": "stream",
     "text": [
      "2023-04-19 10:18:03.964630: I tensorflow/core/grappler/optimizers/custom_graph_optimizer_registry.cc:113] Plugin optimizer for device_type GPU is enabled.\n"
     ]
    },
    {
     "name": "stdout",
     "output_type": "stream",
     "text": [
      "41/41 [==============================] - 0s 3ms/step\n",
      " 1/41 [..............................] - ETA: 0s"
     ]
    },
    {
     "name": "stderr",
     "output_type": "stream",
     "text": [
      "2023-04-19 10:18:07.858379: I tensorflow/core/grappler/optimizers/custom_graph_optimizer_registry.cc:113] Plugin optimizer for device_type GPU is enabled.\n"
     ]
    },
    {
     "name": "stdout",
     "output_type": "stream",
     "text": [
      "41/41 [==============================] - 0s 2ms/step\n"
     ]
    },
    {
     "name": "stderr",
     "output_type": "stream",
     "text": [
      "2023-04-19 10:18:08.256676: I tensorflow/core/grappler/optimizers/custom_graph_optimizer_registry.cc:113] Plugin optimizer for device_type GPU is enabled.\n"
     ]
    },
    {
     "name": "stdout",
     "output_type": "stream",
     "text": [
      "41/41 [==============================] - 0s 3ms/step\n",
      " 1/41 [..............................] - ETA: 0s"
     ]
    },
    {
     "name": "stderr",
     "output_type": "stream",
     "text": [
      "2023-04-19 10:18:12.124503: I tensorflow/core/grappler/optimizers/custom_graph_optimizer_registry.cc:113] Plugin optimizer for device_type GPU is enabled.\n"
     ]
    },
    {
     "name": "stdout",
     "output_type": "stream",
     "text": [
      "41/41 [==============================] - 0s 2ms/step\n"
     ]
    },
    {
     "name": "stderr",
     "output_type": "stream",
     "text": [
      "2023-04-19 10:18:12.507087: I tensorflow/core/grappler/optimizers/custom_graph_optimizer_registry.cc:113] Plugin optimizer for device_type GPU is enabled.\n"
     ]
    },
    {
     "name": "stdout",
     "output_type": "stream",
     "text": [
      "41/41 [==============================] - 0s 2ms/step\n",
      " 1/41 [..............................] - ETA: 0s"
     ]
    },
    {
     "name": "stderr",
     "output_type": "stream",
     "text": [
      "2023-04-19 10:18:16.393282: I tensorflow/core/grappler/optimizers/custom_graph_optimizer_registry.cc:113] Plugin optimizer for device_type GPU is enabled.\n"
     ]
    },
    {
     "name": "stdout",
     "output_type": "stream",
     "text": [
      "41/41 [==============================] - 0s 2ms/step\n"
     ]
    },
    {
     "name": "stderr",
     "output_type": "stream",
     "text": [
      "2023-04-19 10:18:16.770809: I tensorflow/core/grappler/optimizers/custom_graph_optimizer_registry.cc:113] Plugin optimizer for device_type GPU is enabled.\n"
     ]
    },
    {
     "name": "stdout",
     "output_type": "stream",
     "text": [
      "41/41 [==============================] - 0s 3ms/step\n",
      " 1/41 [..............................] - ETA: 0s"
     ]
    },
    {
     "name": "stderr",
     "output_type": "stream",
     "text": [
      "2023-04-19 10:18:20.553149: I tensorflow/core/grappler/optimizers/custom_graph_optimizer_registry.cc:113] Plugin optimizer for device_type GPU is enabled.\n"
     ]
    },
    {
     "name": "stdout",
     "output_type": "stream",
     "text": [
      "41/41 [==============================] - 0s 2ms/step\n"
     ]
    },
    {
     "name": "stderr",
     "output_type": "stream",
     "text": [
      "2023-04-19 10:18:20.950415: I tensorflow/core/grappler/optimizers/custom_graph_optimizer_registry.cc:113] Plugin optimizer for device_type GPU is enabled.\n"
     ]
    },
    {
     "name": "stdout",
     "output_type": "stream",
     "text": [
      "41/41 [==============================] - 0s 2ms/step\n",
      " 1/41 [..............................] - ETA: 0s"
     ]
    },
    {
     "name": "stderr",
     "output_type": "stream",
     "text": [
      "2023-04-19 10:18:24.674532: I tensorflow/core/grappler/optimizers/custom_graph_optimizer_registry.cc:113] Plugin optimizer for device_type GPU is enabled.\n"
     ]
    },
    {
     "name": "stdout",
     "output_type": "stream",
     "text": [
      "41/41 [==============================] - 0s 2ms/step\n"
     ]
    },
    {
     "name": "stderr",
     "output_type": "stream",
     "text": [
      "2023-04-19 10:18:25.070065: I tensorflow/core/grappler/optimizers/custom_graph_optimizer_registry.cc:113] Plugin optimizer for device_type GPU is enabled.\n"
     ]
    },
    {
     "name": "stdout",
     "output_type": "stream",
     "text": [
      "41/41 [==============================] - 0s 3ms/step\n",
      " 1/41 [..............................] - ETA: 0s"
     ]
    },
    {
     "name": "stderr",
     "output_type": "stream",
     "text": [
      "2023-04-19 10:18:28.891047: I tensorflow/core/grappler/optimizers/custom_graph_optimizer_registry.cc:113] Plugin optimizer for device_type GPU is enabled.\n"
     ]
    },
    {
     "name": "stdout",
     "output_type": "stream",
     "text": [
      "41/41 [==============================] - 0s 2ms/step\n"
     ]
    },
    {
     "name": "stderr",
     "output_type": "stream",
     "text": [
      "2023-04-19 10:18:29.284625: I tensorflow/core/grappler/optimizers/custom_graph_optimizer_registry.cc:113] Plugin optimizer for device_type GPU is enabled.\n"
     ]
    },
    {
     "name": "stdout",
     "output_type": "stream",
     "text": [
      "41/41 [==============================] - 0s 3ms/step\n",
      " 1/41 [..............................] - ETA: 0s"
     ]
    },
    {
     "name": "stderr",
     "output_type": "stream",
     "text": [
      "2023-04-19 10:18:32.902284: I tensorflow/core/grappler/optimizers/custom_graph_optimizer_registry.cc:113] Plugin optimizer for device_type GPU is enabled.\n"
     ]
    },
    {
     "name": "stdout",
     "output_type": "stream",
     "text": [
      "41/41 [==============================] - 0s 2ms/step\n"
     ]
    },
    {
     "name": "stderr",
     "output_type": "stream",
     "text": [
      "2023-04-19 10:18:33.297762: I tensorflow/core/grappler/optimizers/custom_graph_optimizer_registry.cc:113] Plugin optimizer for device_type GPU is enabled.\n"
     ]
    },
    {
     "name": "stdout",
     "output_type": "stream",
     "text": [
      "41/41 [==============================] - 0s 2ms/step\n",
      " 1/41 [..............................] - ETA: 0s"
     ]
    },
    {
     "name": "stderr",
     "output_type": "stream",
     "text": [
      "2023-04-19 10:18:37.239825: I tensorflow/core/grappler/optimizers/custom_graph_optimizer_registry.cc:113] Plugin optimizer for device_type GPU is enabled.\n"
     ]
    },
    {
     "name": "stdout",
     "output_type": "stream",
     "text": [
      "41/41 [==============================] - 0s 2ms/step\n"
     ]
    },
    {
     "name": "stderr",
     "output_type": "stream",
     "text": [
      "2023-04-19 10:18:37.610471: I tensorflow/core/grappler/optimizers/custom_graph_optimizer_registry.cc:113] Plugin optimizer for device_type GPU is enabled.\n"
     ]
    },
    {
     "name": "stdout",
     "output_type": "stream",
     "text": [
      "41/41 [==============================] - 0s 2ms/step\n",
      " 1/41 [..............................] - ETA: 0s"
     ]
    },
    {
     "name": "stderr",
     "output_type": "stream",
     "text": [
      "2023-04-19 10:18:41.167575: I tensorflow/core/grappler/optimizers/custom_graph_optimizer_registry.cc:113] Plugin optimizer for device_type GPU is enabled.\n"
     ]
    },
    {
     "name": "stdout",
     "output_type": "stream",
     "text": [
      "41/41 [==============================] - 0s 2ms/step\n"
     ]
    },
    {
     "name": "stderr",
     "output_type": "stream",
     "text": [
      "2023-04-19 10:18:41.540711: I tensorflow/core/grappler/optimizers/custom_graph_optimizer_registry.cc:113] Plugin optimizer for device_type GPU is enabled.\n"
     ]
    },
    {
     "name": "stdout",
     "output_type": "stream",
     "text": [
      "41/41 [==============================] - 0s 2ms/step\n",
      " 1/41 [..............................] - ETA: 0s"
     ]
    },
    {
     "name": "stderr",
     "output_type": "stream",
     "text": [
      "2023-04-19 10:18:45.182580: I tensorflow/core/grappler/optimizers/custom_graph_optimizer_registry.cc:113] Plugin optimizer for device_type GPU is enabled.\n"
     ]
    },
    {
     "name": "stdout",
     "output_type": "stream",
     "text": [
      "41/41 [==============================] - 0s 2ms/step\n"
     ]
    },
    {
     "name": "stderr",
     "output_type": "stream",
     "text": [
      "2023-04-19 10:18:45.559225: I tensorflow/core/grappler/optimizers/custom_graph_optimizer_registry.cc:113] Plugin optimizer for device_type GPU is enabled.\n"
     ]
    },
    {
     "name": "stdout",
     "output_type": "stream",
     "text": [
      "41/41 [==============================] - 0s 3ms/step\n"
     ]
    },
    {
     "name": "stderr",
     "output_type": "stream",
     "text": [
      "2023-04-19 10:18:49.547255: I tensorflow/core/grappler/optimizers/custom_graph_optimizer_registry.cc:113] Plugin optimizer for device_type GPU is enabled.\n"
     ]
    },
    {
     "name": "stdout",
     "output_type": "stream",
     "text": [
      "41/41 [==============================] - 0s 1ms/step\n"
     ]
    },
    {
     "name": "stderr",
     "output_type": "stream",
     "text": [
      "2023-04-19 10:18:49.960277: I tensorflow/core/grappler/optimizers/custom_graph_optimizer_registry.cc:113] Plugin optimizer for device_type GPU is enabled.\n"
     ]
    },
    {
     "name": "stdout",
     "output_type": "stream",
     "text": [
      "41/41 [==============================] - 0s 2ms/step\n",
      " 1/41 [..............................] - ETA: 0s"
     ]
    },
    {
     "name": "stderr",
     "output_type": "stream",
     "text": [
      "2023-04-19 10:18:53.719746: I tensorflow/core/grappler/optimizers/custom_graph_optimizer_registry.cc:113] Plugin optimizer for device_type GPU is enabled.\n"
     ]
    },
    {
     "name": "stdout",
     "output_type": "stream",
     "text": [
      "41/41 [==============================] - 0s 2ms/step\n"
     ]
    },
    {
     "name": "stderr",
     "output_type": "stream",
     "text": [
      "2023-04-19 10:18:54.098233: I tensorflow/core/grappler/optimizers/custom_graph_optimizer_registry.cc:113] Plugin optimizer for device_type GPU is enabled.\n"
     ]
    },
    {
     "name": "stdout",
     "output_type": "stream",
     "text": [
      "41/41 [==============================] - 0s 3ms/step\n",
      " 1/41 [..............................] - ETA: 0s"
     ]
    },
    {
     "name": "stderr",
     "output_type": "stream",
     "text": [
      "2023-04-19 10:18:57.969789: I tensorflow/core/grappler/optimizers/custom_graph_optimizer_registry.cc:113] Plugin optimizer for device_type GPU is enabled.\n"
     ]
    },
    {
     "name": "stdout",
     "output_type": "stream",
     "text": [
      "41/41 [==============================] - 0s 2ms/step\n"
     ]
    },
    {
     "name": "stderr",
     "output_type": "stream",
     "text": [
      "2023-04-19 10:18:58.390280: I tensorflow/core/grappler/optimizers/custom_graph_optimizer_registry.cc:113] Plugin optimizer for device_type GPU is enabled.\n"
     ]
    },
    {
     "name": "stdout",
     "output_type": "stream",
     "text": [
      "41/41 [==============================] - 0s 2ms/step\n",
      " 1/41 [..............................] - ETA: 0s"
     ]
    },
    {
     "name": "stderr",
     "output_type": "stream",
     "text": [
      "2023-04-19 10:19:02.213359: I tensorflow/core/grappler/optimizers/custom_graph_optimizer_registry.cc:113] Plugin optimizer for device_type GPU is enabled.\n"
     ]
    },
    {
     "name": "stdout",
     "output_type": "stream",
     "text": [
      "41/41 [==============================] - 0s 2ms/step\n"
     ]
    },
    {
     "name": "stderr",
     "output_type": "stream",
     "text": [
      "2023-04-19 10:19:02.582054: I tensorflow/core/grappler/optimizers/custom_graph_optimizer_registry.cc:113] Plugin optimizer for device_type GPU is enabled.\n"
     ]
    },
    {
     "name": "stdout",
     "output_type": "stream",
     "text": [
      "41/41 [==============================] - 0s 3ms/step\n"
     ]
    },
    {
     "name": "stderr",
     "output_type": "stream",
     "text": [
      "2023-04-19 10:19:06.623949: I tensorflow/core/grappler/optimizers/custom_graph_optimizer_registry.cc:113] Plugin optimizer for device_type GPU is enabled.\n"
     ]
    },
    {
     "name": "stdout",
     "output_type": "stream",
     "text": [
      "41/41 [==============================] - 0s 2ms/step\n"
     ]
    },
    {
     "name": "stderr",
     "output_type": "stream",
     "text": [
      "2023-04-19 10:19:07.038798: I tensorflow/core/grappler/optimizers/custom_graph_optimizer_registry.cc:113] Plugin optimizer for device_type GPU is enabled.\n"
     ]
    },
    {
     "name": "stdout",
     "output_type": "stream",
     "text": [
      "41/41 [==============================] - 0s 2ms/step\n",
      " 1/41 [..............................] - ETA: 0s"
     ]
    },
    {
     "name": "stderr",
     "output_type": "stream",
     "text": [
      "2023-04-19 10:19:10.942760: I tensorflow/core/grappler/optimizers/custom_graph_optimizer_registry.cc:113] Plugin optimizer for device_type GPU is enabled.\n"
     ]
    },
    {
     "name": "stdout",
     "output_type": "stream",
     "text": [
      "41/41 [==============================] - 0s 2ms/step\n"
     ]
    },
    {
     "name": "stderr",
     "output_type": "stream",
     "text": [
      "2023-04-19 10:19:11.316313: I tensorflow/core/grappler/optimizers/custom_graph_optimizer_registry.cc:113] Plugin optimizer for device_type GPU is enabled.\n"
     ]
    },
    {
     "name": "stdout",
     "output_type": "stream",
     "text": [
      "41/41 [==============================] - 0s 3ms/step\n",
      " 1/41 [..............................] - ETA: 0s"
     ]
    },
    {
     "name": "stderr",
     "output_type": "stream",
     "text": [
      "2023-04-19 10:19:15.420614: I tensorflow/core/grappler/optimizers/custom_graph_optimizer_registry.cc:113] Plugin optimizer for device_type GPU is enabled.\n"
     ]
    },
    {
     "name": "stdout",
     "output_type": "stream",
     "text": [
      "41/41 [==============================] - 0s 2ms/step\n"
     ]
    },
    {
     "name": "stderr",
     "output_type": "stream",
     "text": [
      "2023-04-19 10:19:18.148496: I tensorflow/core/grappler/optimizers/custom_graph_optimizer_registry.cc:113] Plugin optimizer for device_type GPU is enabled.\n"
     ]
    },
    {
     "name": "stdout",
     "output_type": "stream",
     "text": [
      "41/41 [==============================] - 0s 3ms/step\n",
      " 1/41 [..............................] - ETA: 0s"
     ]
    },
    {
     "name": "stderr",
     "output_type": "stream",
     "text": [
      "2023-04-19 10:19:22.227143: I tensorflow/core/grappler/optimizers/custom_graph_optimizer_registry.cc:113] Plugin optimizer for device_type GPU is enabled.\n"
     ]
    },
    {
     "name": "stdout",
     "output_type": "stream",
     "text": [
      "41/41 [==============================] - 0s 2ms/step\n"
     ]
    },
    {
     "name": "stderr",
     "output_type": "stream",
     "text": [
      "2023-04-19 10:19:22.639388: I tensorflow/core/grappler/optimizers/custom_graph_optimizer_registry.cc:113] Plugin optimizer for device_type GPU is enabled.\n"
     ]
    },
    {
     "name": "stdout",
     "output_type": "stream",
     "text": [
      "41/41 [==============================] - 0s 2ms/step\n",
      " 1/41 [..............................] - ETA: 0s"
     ]
    },
    {
     "name": "stderr",
     "output_type": "stream",
     "text": [
      "2023-04-19 10:19:26.355692: I tensorflow/core/grappler/optimizers/custom_graph_optimizer_registry.cc:113] Plugin optimizer for device_type GPU is enabled.\n"
     ]
    },
    {
     "name": "stdout",
     "output_type": "stream",
     "text": [
      "41/41 [==============================] - 0s 2ms/step\n"
     ]
    },
    {
     "name": "stderr",
     "output_type": "stream",
     "text": [
      "2023-04-19 10:19:26.733904: I tensorflow/core/grappler/optimizers/custom_graph_optimizer_registry.cc:113] Plugin optimizer for device_type GPU is enabled.\n"
     ]
    },
    {
     "name": "stdout",
     "output_type": "stream",
     "text": [
      "41/41 [==============================] - 0s 3ms/step\n",
      " 1/41 [..............................] - ETA: 0s"
     ]
    },
    {
     "name": "stderr",
     "output_type": "stream",
     "text": [
      "2023-04-19 10:19:30.737364: I tensorflow/core/grappler/optimizers/custom_graph_optimizer_registry.cc:113] Plugin optimizer for device_type GPU is enabled.\n"
     ]
    },
    {
     "name": "stdout",
     "output_type": "stream",
     "text": [
      "41/41 [==============================] - 0s 2ms/step\n"
     ]
    },
    {
     "name": "stderr",
     "output_type": "stream",
     "text": [
      "2023-04-19 10:19:31.131087: I tensorflow/core/grappler/optimizers/custom_graph_optimizer_registry.cc:113] Plugin optimizer for device_type GPU is enabled.\n"
     ]
    },
    {
     "name": "stdout",
     "output_type": "stream",
     "text": [
      "41/41 [==============================] - 0s 3ms/step\n",
      " 1/41 [..............................] - ETA: 0s"
     ]
    },
    {
     "name": "stderr",
     "output_type": "stream",
     "text": [
      "2023-04-19 10:19:35.113288: I tensorflow/core/grappler/optimizers/custom_graph_optimizer_registry.cc:113] Plugin optimizer for device_type GPU is enabled.\n"
     ]
    },
    {
     "name": "stdout",
     "output_type": "stream",
     "text": [
      "41/41 [==============================] - 0s 2ms/step\n"
     ]
    },
    {
     "name": "stderr",
     "output_type": "stream",
     "text": [
      "2023-04-19 10:19:35.514353: I tensorflow/core/grappler/optimizers/custom_graph_optimizer_registry.cc:113] Plugin optimizer for device_type GPU is enabled.\n"
     ]
    },
    {
     "name": "stdout",
     "output_type": "stream",
     "text": [
      "41/41 [==============================] - 0s 3ms/step\n",
      " 1/41 [..............................] - ETA: 0s"
     ]
    },
    {
     "name": "stderr",
     "output_type": "stream",
     "text": [
      "2023-04-19 10:19:39.681124: I tensorflow/core/grappler/optimizers/custom_graph_optimizer_registry.cc:113] Plugin optimizer for device_type GPU is enabled.\n"
     ]
    },
    {
     "name": "stdout",
     "output_type": "stream",
     "text": [
      "41/41 [==============================] - 0s 2ms/step\n"
     ]
    },
    {
     "name": "stderr",
     "output_type": "stream",
     "text": [
      "2023-04-19 10:19:40.078764: I tensorflow/core/grappler/optimizers/custom_graph_optimizer_registry.cc:113] Plugin optimizer for device_type GPU is enabled.\n"
     ]
    },
    {
     "name": "stdout",
     "output_type": "stream",
     "text": [
      "41/41 [==============================] - 0s 3ms/step\n",
      " 1/41 [..............................] - ETA: 0s"
     ]
    },
    {
     "name": "stderr",
     "output_type": "stream",
     "text": [
      "2023-04-19 10:19:44.644129: I tensorflow/core/grappler/optimizers/custom_graph_optimizer_registry.cc:113] Plugin optimizer for device_type GPU is enabled.\n"
     ]
    },
    {
     "name": "stdout",
     "output_type": "stream",
     "text": [
      "41/41 [==============================] - 0s 2ms/step\n"
     ]
    },
    {
     "name": "stderr",
     "output_type": "stream",
     "text": [
      "2023-04-19 10:19:45.052293: I tensorflow/core/grappler/optimizers/custom_graph_optimizer_registry.cc:113] Plugin optimizer for device_type GPU is enabled.\n"
     ]
    },
    {
     "name": "stdout",
     "output_type": "stream",
     "text": [
      "41/41 [==============================] - 0s 3ms/step\n",
      " 1/41 [..............................] - ETA: 0s"
     ]
    },
    {
     "name": "stderr",
     "output_type": "stream",
     "text": [
      "2023-04-19 10:19:49.634447: I tensorflow/core/grappler/optimizers/custom_graph_optimizer_registry.cc:113] Plugin optimizer for device_type GPU is enabled.\n"
     ]
    },
    {
     "name": "stdout",
     "output_type": "stream",
     "text": [
      "41/41 [==============================] - 0s 2ms/step\n"
     ]
    },
    {
     "name": "stderr",
     "output_type": "stream",
     "text": [
      "2023-04-19 10:19:50.033230: I tensorflow/core/grappler/optimizers/custom_graph_optimizer_registry.cc:113] Plugin optimizer for device_type GPU is enabled.\n"
     ]
    },
    {
     "name": "stdout",
     "output_type": "stream",
     "text": [
      "41/41 [==============================] - 0s 3ms/step\n",
      " 1/41 [..............................] - ETA: 0s"
     ]
    },
    {
     "name": "stderr",
     "output_type": "stream",
     "text": [
      "2023-04-19 10:19:54.316298: I tensorflow/core/grappler/optimizers/custom_graph_optimizer_registry.cc:113] Plugin optimizer for device_type GPU is enabled.\n"
     ]
    },
    {
     "name": "stdout",
     "output_type": "stream",
     "text": [
      "41/41 [==============================] - 0s 2ms/step\n"
     ]
    },
    {
     "name": "stderr",
     "output_type": "stream",
     "text": [
      "2023-04-19 10:19:54.723939: I tensorflow/core/grappler/optimizers/custom_graph_optimizer_registry.cc:113] Plugin optimizer for device_type GPU is enabled.\n"
     ]
    },
    {
     "name": "stdout",
     "output_type": "stream",
     "text": [
      "41/41 [==============================] - 0s 3ms/step\n"
     ]
    },
    {
     "name": "stderr",
     "output_type": "stream",
     "text": [
      "2023-04-19 10:19:59.258360: I tensorflow/core/grappler/optimizers/custom_graph_optimizer_registry.cc:113] Plugin optimizer for device_type GPU is enabled.\n"
     ]
    },
    {
     "name": "stdout",
     "output_type": "stream",
     "text": [
      "41/41 [==============================] - 0s 2ms/step\n"
     ]
    },
    {
     "name": "stderr",
     "output_type": "stream",
     "text": [
      "2023-04-19 10:19:59.671946: I tensorflow/core/grappler/optimizers/custom_graph_optimizer_registry.cc:113] Plugin optimizer for device_type GPU is enabled.\n"
     ]
    },
    {
     "name": "stdout",
     "output_type": "stream",
     "text": [
      "41/41 [==============================] - 0s 3ms/step\n",
      " 1/41 [..............................] - ETA: 0s"
     ]
    },
    {
     "name": "stderr",
     "output_type": "stream",
     "text": [
      "2023-04-19 10:20:04.253913: I tensorflow/core/grappler/optimizers/custom_graph_optimizer_registry.cc:113] Plugin optimizer for device_type GPU is enabled.\n"
     ]
    },
    {
     "name": "stdout",
     "output_type": "stream",
     "text": [
      "41/41 [==============================] - 0s 2ms/step\n"
     ]
    },
    {
     "name": "stderr",
     "output_type": "stream",
     "text": [
      "2023-04-19 10:20:04.655403: I tensorflow/core/grappler/optimizers/custom_graph_optimizer_registry.cc:113] Plugin optimizer for device_type GPU is enabled.\n"
     ]
    },
    {
     "name": "stdout",
     "output_type": "stream",
     "text": [
      "41/41 [==============================] - 0s 2ms/step\n",
      " 1/41 [..............................] - ETA: 0s"
     ]
    },
    {
     "name": "stderr",
     "output_type": "stream",
     "text": [
      "2023-04-19 10:20:09.207677: I tensorflow/core/grappler/optimizers/custom_graph_optimizer_registry.cc:113] Plugin optimizer for device_type GPU is enabled.\n"
     ]
    },
    {
     "name": "stdout",
     "output_type": "stream",
     "text": [
      "41/41 [==============================] - 0s 2ms/step\n"
     ]
    },
    {
     "name": "stderr",
     "output_type": "stream",
     "text": [
      "2023-04-19 10:20:09.600239: I tensorflow/core/grappler/optimizers/custom_graph_optimizer_registry.cc:113] Plugin optimizer for device_type GPU is enabled.\n"
     ]
    },
    {
     "name": "stdout",
     "output_type": "stream",
     "text": [
      "41/41 [==============================] - 0s 3ms/step\n",
      " 1/41 [..............................] - ETA: 0s"
     ]
    },
    {
     "name": "stderr",
     "output_type": "stream",
     "text": [
      "2023-04-19 10:20:14.279721: I tensorflow/core/grappler/optimizers/custom_graph_optimizer_registry.cc:113] Plugin optimizer for device_type GPU is enabled.\n"
     ]
    },
    {
     "name": "stdout",
     "output_type": "stream",
     "text": [
      "41/41 [==============================] - 0s 2ms/step\n"
     ]
    },
    {
     "name": "stderr",
     "output_type": "stream",
     "text": [
      "2023-04-19 10:20:14.692614: I tensorflow/core/grappler/optimizers/custom_graph_optimizer_registry.cc:113] Plugin optimizer for device_type GPU is enabled.\n"
     ]
    },
    {
     "name": "stdout",
     "output_type": "stream",
     "text": [
      "41/41 [==============================] - 0s 3ms/step\n",
      " 1/41 [..............................] - ETA: 0s"
     ]
    },
    {
     "name": "stderr",
     "output_type": "stream",
     "text": [
      "2023-04-19 10:20:19.276996: I tensorflow/core/grappler/optimizers/custom_graph_optimizer_registry.cc:113] Plugin optimizer for device_type GPU is enabled.\n"
     ]
    },
    {
     "name": "stdout",
     "output_type": "stream",
     "text": [
      "41/41 [==============================] - 0s 2ms/step\n"
     ]
    },
    {
     "name": "stderr",
     "output_type": "stream",
     "text": [
      "2023-04-19 10:20:19.675469: I tensorflow/core/grappler/optimizers/custom_graph_optimizer_registry.cc:113] Plugin optimizer for device_type GPU is enabled.\n"
     ]
    },
    {
     "name": "stdout",
     "output_type": "stream",
     "text": [
      "41/41 [==============================] - 0s 3ms/step\n",
      " 1/41 [..............................] - ETA: 0s"
     ]
    },
    {
     "name": "stderr",
     "output_type": "stream",
     "text": [
      "2023-04-19 10:20:23.952158: I tensorflow/core/grappler/optimizers/custom_graph_optimizer_registry.cc:113] Plugin optimizer for device_type GPU is enabled.\n"
     ]
    },
    {
     "name": "stdout",
     "output_type": "stream",
     "text": [
      "41/41 [==============================] - 0s 2ms/step\n"
     ]
    },
    {
     "name": "stderr",
     "output_type": "stream",
     "text": [
      "2023-04-19 10:20:24.351399: I tensorflow/core/grappler/optimizers/custom_graph_optimizer_registry.cc:113] Plugin optimizer for device_type GPU is enabled.\n"
     ]
    },
    {
     "name": "stdout",
     "output_type": "stream",
     "text": [
      "41/41 [==============================] - 0s 3ms/step\n",
      " 1/41 [..............................] - ETA: 0s"
     ]
    },
    {
     "name": "stderr",
     "output_type": "stream",
     "text": [
      "2023-04-19 10:20:28.760282: I tensorflow/core/grappler/optimizers/custom_graph_optimizer_registry.cc:113] Plugin optimizer for device_type GPU is enabled.\n"
     ]
    },
    {
     "name": "stdout",
     "output_type": "stream",
     "text": [
      "41/41 [==============================] - 0s 2ms/step\n"
     ]
    },
    {
     "name": "stderr",
     "output_type": "stream",
     "text": [
      "2023-04-19 10:20:29.169453: I tensorflow/core/grappler/optimizers/custom_graph_optimizer_registry.cc:113] Plugin optimizer for device_type GPU is enabled.\n"
     ]
    },
    {
     "name": "stdout",
     "output_type": "stream",
     "text": [
      "41/41 [==============================] - 0s 2ms/step\n",
      " 1/41 [..............................] - ETA: 0s"
     ]
    },
    {
     "name": "stderr",
     "output_type": "stream",
     "text": [
      "2023-04-19 10:20:33.497814: I tensorflow/core/grappler/optimizers/custom_graph_optimizer_registry.cc:113] Plugin optimizer for device_type GPU is enabled.\n"
     ]
    },
    {
     "name": "stdout",
     "output_type": "stream",
     "text": [
      "41/41 [==============================] - 0s 2ms/step\n"
     ]
    },
    {
     "name": "stderr",
     "output_type": "stream",
     "text": [
      "2023-04-19 10:20:33.881848: I tensorflow/core/grappler/optimizers/custom_graph_optimizer_registry.cc:113] Plugin optimizer for device_type GPU is enabled.\n"
     ]
    },
    {
     "name": "stdout",
     "output_type": "stream",
     "text": [
      "41/41 [==============================] - 0s 2ms/step\n",
      " 1/41 [..............................] - ETA: 0s"
     ]
    },
    {
     "name": "stderr",
     "output_type": "stream",
     "text": [
      "2023-04-19 10:20:38.372720: I tensorflow/core/grappler/optimizers/custom_graph_optimizer_registry.cc:113] Plugin optimizer for device_type GPU is enabled.\n"
     ]
    },
    {
     "name": "stdout",
     "output_type": "stream",
     "text": [
      "41/41 [==============================] - 0s 2ms/step\n"
     ]
    },
    {
     "name": "stderr",
     "output_type": "stream",
     "text": [
      "2023-04-19 10:20:38.750443: I tensorflow/core/grappler/optimizers/custom_graph_optimizer_registry.cc:113] Plugin optimizer for device_type GPU is enabled.\n"
     ]
    },
    {
     "name": "stdout",
     "output_type": "stream",
     "text": [
      "41/41 [==============================] - 0s 3ms/step\n"
     ]
    },
    {
     "name": "stderr",
     "output_type": "stream",
     "text": [
      "2023-04-19 10:20:43.322052: I tensorflow/core/grappler/optimizers/custom_graph_optimizer_registry.cc:113] Plugin optimizer for device_type GPU is enabled.\n"
     ]
    },
    {
     "name": "stdout",
     "output_type": "stream",
     "text": [
      "41/41 [==============================] - 0s 2ms/step\n"
     ]
    },
    {
     "name": "stderr",
     "output_type": "stream",
     "text": [
      "2023-04-19 10:20:43.746323: I tensorflow/core/grappler/optimizers/custom_graph_optimizer_registry.cc:113] Plugin optimizer for device_type GPU is enabled.\n"
     ]
    },
    {
     "name": "stdout",
     "output_type": "stream",
     "text": [
      "41/41 [==============================] - 0s 2ms/step\n",
      " 1/41 [..............................] - ETA: 0s"
     ]
    },
    {
     "name": "stderr",
     "output_type": "stream",
     "text": [
      "2023-04-19 10:20:48.222922: I tensorflow/core/grappler/optimizers/custom_graph_optimizer_registry.cc:113] Plugin optimizer for device_type GPU is enabled.\n"
     ]
    },
    {
     "name": "stdout",
     "output_type": "stream",
     "text": [
      "41/41 [==============================] - 0s 2ms/step\n"
     ]
    },
    {
     "name": "stderr",
     "output_type": "stream",
     "text": [
      "2023-04-19 10:20:48.625914: I tensorflow/core/grappler/optimizers/custom_graph_optimizer_registry.cc:113] Plugin optimizer for device_type GPU is enabled.\n"
     ]
    },
    {
     "name": "stdout",
     "output_type": "stream",
     "text": [
      "41/41 [==============================] - 0s 3ms/step\n",
      " 1/41 [..............................] - ETA: 0s"
     ]
    },
    {
     "name": "stderr",
     "output_type": "stream",
     "text": [
      "2023-04-19 10:20:53.120971: I tensorflow/core/grappler/optimizers/custom_graph_optimizer_registry.cc:113] Plugin optimizer for device_type GPU is enabled.\n"
     ]
    },
    {
     "name": "stdout",
     "output_type": "stream",
     "text": [
      "41/41 [==============================] - 0s 2ms/step\n"
     ]
    },
    {
     "name": "stderr",
     "output_type": "stream",
     "text": [
      "2023-04-19 10:20:53.531904: I tensorflow/core/grappler/optimizers/custom_graph_optimizer_registry.cc:113] Plugin optimizer for device_type GPU is enabled.\n"
     ]
    },
    {
     "name": "stdout",
     "output_type": "stream",
     "text": [
      "41/41 [==============================] - 0s 3ms/step\n"
     ]
    },
    {
     "name": "stderr",
     "output_type": "stream",
     "text": [
      "2023-04-19 10:20:58.039790: I tensorflow/core/grappler/optimizers/custom_graph_optimizer_registry.cc:113] Plugin optimizer for device_type GPU is enabled.\n"
     ]
    },
    {
     "name": "stdout",
     "output_type": "stream",
     "text": [
      "41/41 [==============================] - 0s 2ms/step\n"
     ]
    },
    {
     "name": "stderr",
     "output_type": "stream",
     "text": [
      "2023-04-19 10:20:58.465090: I tensorflow/core/grappler/optimizers/custom_graph_optimizer_registry.cc:113] Plugin optimizer for device_type GPU is enabled.\n"
     ]
    },
    {
     "name": "stdout",
     "output_type": "stream",
     "text": [
      "41/41 [==============================] - 0s 2ms/step\n",
      " 1/41 [..............................] - ETA: 0s"
     ]
    },
    {
     "name": "stderr",
     "output_type": "stream",
     "text": [
      "2023-04-19 10:21:03.000336: I tensorflow/core/grappler/optimizers/custom_graph_optimizer_registry.cc:113] Plugin optimizer for device_type GPU is enabled.\n"
     ]
    },
    {
     "name": "stdout",
     "output_type": "stream",
     "text": [
      "41/41 [==============================] - 0s 2ms/step\n"
     ]
    },
    {
     "name": "stderr",
     "output_type": "stream",
     "text": [
      "2023-04-19 10:21:03.374236: I tensorflow/core/grappler/optimizers/custom_graph_optimizer_registry.cc:113] Plugin optimizer for device_type GPU is enabled.\n"
     ]
    },
    {
     "name": "stdout",
     "output_type": "stream",
     "text": [
      "41/41 [==============================] - 0s 3ms/step\n",
      " 1/41 [..............................] - ETA: 0s"
     ]
    },
    {
     "name": "stderr",
     "output_type": "stream",
     "text": [
      "2023-04-19 10:21:07.942390: I tensorflow/core/grappler/optimizers/custom_graph_optimizer_registry.cc:113] Plugin optimizer for device_type GPU is enabled.\n"
     ]
    },
    {
     "name": "stdout",
     "output_type": "stream",
     "text": [
      "41/41 [==============================] - 0s 2ms/step\n"
     ]
    },
    {
     "name": "stderr",
     "output_type": "stream",
     "text": [
      "2023-04-19 10:21:08.337626: I tensorflow/core/grappler/optimizers/custom_graph_optimizer_registry.cc:113] Plugin optimizer for device_type GPU is enabled.\n"
     ]
    },
    {
     "name": "stdout",
     "output_type": "stream",
     "text": [
      "41/41 [==============================] - 0s 3ms/step\n",
      " 1/41 [..............................] - ETA: 0s"
     ]
    },
    {
     "name": "stderr",
     "output_type": "stream",
     "text": [
      "2023-04-19 10:21:13.227375: I tensorflow/core/grappler/optimizers/custom_graph_optimizer_registry.cc:113] Plugin optimizer for device_type GPU is enabled.\n"
     ]
    },
    {
     "name": "stdout",
     "output_type": "stream",
     "text": [
      "41/41 [==============================] - 0s 2ms/step\n"
     ]
    },
    {
     "name": "stderr",
     "output_type": "stream",
     "text": [
      "2023-04-19 10:21:13.637730: I tensorflow/core/grappler/optimizers/custom_graph_optimizer_registry.cc:113] Plugin optimizer for device_type GPU is enabled.\n"
     ]
    },
    {
     "name": "stdout",
     "output_type": "stream",
     "text": [
      "41/41 [==============================] - 0s 3ms/step\n"
     ]
    },
    {
     "name": "stderr",
     "output_type": "stream",
     "text": [
      "2023-04-19 10:21:18.222005: I tensorflow/core/grappler/optimizers/custom_graph_optimizer_registry.cc:113] Plugin optimizer for device_type GPU is enabled.\n"
     ]
    },
    {
     "name": "stdout",
     "output_type": "stream",
     "text": [
      "41/41 [==============================] - 0s 2ms/step\n"
     ]
    },
    {
     "name": "stderr",
     "output_type": "stream",
     "text": [
      "2023-04-19 10:21:18.636607: I tensorflow/core/grappler/optimizers/custom_graph_optimizer_registry.cc:113] Plugin optimizer for device_type GPU is enabled.\n"
     ]
    },
    {
     "name": "stdout",
     "output_type": "stream",
     "text": [
      "41/41 [==============================] - 0s 3ms/step\n"
     ]
    },
    {
     "name": "stderr",
     "output_type": "stream",
     "text": [
      "2023-04-19 10:21:23.065753: I tensorflow/core/grappler/optimizers/custom_graph_optimizer_registry.cc:113] Plugin optimizer for device_type GPU is enabled.\n"
     ]
    },
    {
     "name": "stdout",
     "output_type": "stream",
     "text": [
      "41/41 [==============================] - 0s 2ms/step\n"
     ]
    },
    {
     "name": "stderr",
     "output_type": "stream",
     "text": [
      "2023-04-19 10:21:25.834075: I tensorflow/core/grappler/optimizers/custom_graph_optimizer_registry.cc:113] Plugin optimizer for device_type GPU is enabled.\n"
     ]
    },
    {
     "name": "stdout",
     "output_type": "stream",
     "text": [
      "41/41 [==============================] - 0s 3ms/step\n",
      " 1/41 [..............................] - ETA: 0s"
     ]
    },
    {
     "name": "stderr",
     "output_type": "stream",
     "text": [
      "2023-04-19 10:21:30.659510: I tensorflow/core/grappler/optimizers/custom_graph_optimizer_registry.cc:113] Plugin optimizer for device_type GPU is enabled.\n"
     ]
    },
    {
     "name": "stdout",
     "output_type": "stream",
     "text": [
      "41/41 [==============================] - 0s 2ms/step\n"
     ]
    },
    {
     "name": "stderr",
     "output_type": "stream",
     "text": [
      "2023-04-19 10:21:31.078387: I tensorflow/core/grappler/optimizers/custom_graph_optimizer_registry.cc:113] Plugin optimizer for device_type GPU is enabled.\n"
     ]
    },
    {
     "name": "stdout",
     "output_type": "stream",
     "text": [
      "41/41 [==============================] - 0s 3ms/step\n"
     ]
    },
    {
     "name": "stderr",
     "output_type": "stream",
     "text": [
      "2023-04-19 10:21:35.797427: I tensorflow/core/grappler/optimizers/custom_graph_optimizer_registry.cc:113] Plugin optimizer for device_type GPU is enabled.\n"
     ]
    },
    {
     "name": "stdout",
     "output_type": "stream",
     "text": [
      "41/41 [==============================] - 0s 1ms/step\n"
     ]
    },
    {
     "name": "stderr",
     "output_type": "stream",
     "text": [
      "2023-04-19 10:21:36.207123: I tensorflow/core/grappler/optimizers/custom_graph_optimizer_registry.cc:113] Plugin optimizer for device_type GPU is enabled.\n"
     ]
    },
    {
     "name": "stdout",
     "output_type": "stream",
     "text": [
      "41/41 [==============================] - 0s 3ms/step\n"
     ]
    },
    {
     "name": "stderr",
     "output_type": "stream",
     "text": [
      "2023-04-19 10:21:40.951740: I tensorflow/core/grappler/optimizers/custom_graph_optimizer_registry.cc:113] Plugin optimizer for device_type GPU is enabled.\n"
     ]
    },
    {
     "name": "stdout",
     "output_type": "stream",
     "text": [
      "41/41 [==============================] - 0s 2ms/step\n"
     ]
    },
    {
     "name": "stderr",
     "output_type": "stream",
     "text": [
      "2023-04-19 10:21:41.381065: I tensorflow/core/grappler/optimizers/custom_graph_optimizer_registry.cc:113] Plugin optimizer for device_type GPU is enabled.\n"
     ]
    },
    {
     "name": "stdout",
     "output_type": "stream",
     "text": [
      "41/41 [==============================] - 0s 3ms/step\n"
     ]
    },
    {
     "name": "stderr",
     "output_type": "stream",
     "text": [
      "2023-04-19 10:21:46.014182: I tensorflow/core/grappler/optimizers/custom_graph_optimizer_registry.cc:113] Plugin optimizer for device_type GPU is enabled.\n"
     ]
    },
    {
     "name": "stdout",
     "output_type": "stream",
     "text": [
      "41/41 [==============================] - 0s 1ms/step\n"
     ]
    },
    {
     "name": "stderr",
     "output_type": "stream",
     "text": [
      "2023-04-19 10:21:46.425685: I tensorflow/core/grappler/optimizers/custom_graph_optimizer_registry.cc:113] Plugin optimizer for device_type GPU is enabled.\n"
     ]
    },
    {
     "name": "stdout",
     "output_type": "stream",
     "text": [
      "41/41 [==============================] - 0s 3ms/step\n"
     ]
    },
    {
     "name": "stderr",
     "output_type": "stream",
     "text": [
      "2023-04-19 10:21:51.155698: I tensorflow/core/grappler/optimizers/custom_graph_optimizer_registry.cc:113] Plugin optimizer for device_type GPU is enabled.\n"
     ]
    },
    {
     "name": "stdout",
     "output_type": "stream",
     "text": [
      "41/41 [==============================] - 0s 2ms/step\n"
     ]
    },
    {
     "name": "stderr",
     "output_type": "stream",
     "text": [
      "2023-04-19 10:21:51.567771: I tensorflow/core/grappler/optimizers/custom_graph_optimizer_registry.cc:113] Plugin optimizer for device_type GPU is enabled.\n"
     ]
    },
    {
     "name": "stdout",
     "output_type": "stream",
     "text": [
      "41/41 [==============================] - 0s 3ms/step\n",
      " 1/41 [..............................] - ETA: 0s"
     ]
    },
    {
     "name": "stderr",
     "output_type": "stream",
     "text": [
      "2023-04-19 10:21:55.989274: I tensorflow/core/grappler/optimizers/custom_graph_optimizer_registry.cc:113] Plugin optimizer for device_type GPU is enabled.\n"
     ]
    },
    {
     "name": "stdout",
     "output_type": "stream",
     "text": [
      "41/41 [==============================] - 0s 2ms/step\n"
     ]
    },
    {
     "name": "stderr",
     "output_type": "stream",
     "text": [
      "2023-04-19 10:21:56.401419: I tensorflow/core/grappler/optimizers/custom_graph_optimizer_registry.cc:113] Plugin optimizer for device_type GPU is enabled.\n"
     ]
    },
    {
     "name": "stdout",
     "output_type": "stream",
     "text": [
      "41/41 [==============================] - 0s 3ms/step\n",
      " 1/41 [..............................] - ETA: 0s"
     ]
    },
    {
     "name": "stderr",
     "output_type": "stream",
     "text": [
      "2023-04-19 10:22:01.135121: I tensorflow/core/grappler/optimizers/custom_graph_optimizer_registry.cc:113] Plugin optimizer for device_type GPU is enabled.\n"
     ]
    },
    {
     "name": "stdout",
     "output_type": "stream",
     "text": [
      "41/41 [==============================] - 0s 2ms/step\n"
     ]
    },
    {
     "name": "stderr",
     "output_type": "stream",
     "text": [
      "2023-04-19 10:22:01.535073: I tensorflow/core/grappler/optimizers/custom_graph_optimizer_registry.cc:113] Plugin optimizer for device_type GPU is enabled.\n"
     ]
    },
    {
     "name": "stdout",
     "output_type": "stream",
     "text": [
      "41/41 [==============================] - 0s 3ms/step\n",
      " 1/41 [..............................] - ETA: 0s"
     ]
    },
    {
     "name": "stderr",
     "output_type": "stream",
     "text": [
      "2023-04-19 10:22:06.087735: I tensorflow/core/grappler/optimizers/custom_graph_optimizer_registry.cc:113] Plugin optimizer for device_type GPU is enabled.\n"
     ]
    },
    {
     "name": "stdout",
     "output_type": "stream",
     "text": [
      "41/41 [==============================] - 0s 2ms/step\n"
     ]
    },
    {
     "name": "stderr",
     "output_type": "stream",
     "text": [
      "2023-04-19 10:22:06.486516: I tensorflow/core/grappler/optimizers/custom_graph_optimizer_registry.cc:113] Plugin optimizer for device_type GPU is enabled.\n"
     ]
    },
    {
     "name": "stdout",
     "output_type": "stream",
     "text": [
      "41/41 [==============================] - 0s 3ms/step\n"
     ]
    },
    {
     "name": "stderr",
     "output_type": "stream",
     "text": [
      "2023-04-19 10:22:11.304574: I tensorflow/core/grappler/optimizers/custom_graph_optimizer_registry.cc:113] Plugin optimizer for device_type GPU is enabled.\n"
     ]
    },
    {
     "name": "stdout",
     "output_type": "stream",
     "text": [
      "41/41 [==============================] - 0s 2ms/step\n"
     ]
    },
    {
     "name": "stderr",
     "output_type": "stream",
     "text": [
      "2023-04-19 10:22:11.726201: I tensorflow/core/grappler/optimizers/custom_graph_optimizer_registry.cc:113] Plugin optimizer for device_type GPU is enabled.\n"
     ]
    },
    {
     "name": "stdout",
     "output_type": "stream",
     "text": [
      "41/41 [==============================] - 0s 3ms/step\n",
      " 1/41 [..............................] - ETA: 0s"
     ]
    },
    {
     "name": "stderr",
     "output_type": "stream",
     "text": [
      "2023-04-19 10:22:15.477606: I tensorflow/core/grappler/optimizers/custom_graph_optimizer_registry.cc:113] Plugin optimizer for device_type GPU is enabled.\n"
     ]
    },
    {
     "name": "stdout",
     "output_type": "stream",
     "text": [
      "41/41 [==============================] - 0s 2ms/step\n"
     ]
    },
    {
     "name": "stderr",
     "output_type": "stream",
     "text": [
      "2023-04-19 10:22:15.901077: I tensorflow/core/grappler/optimizers/custom_graph_optimizer_registry.cc:113] Plugin optimizer for device_type GPU is enabled.\n"
     ]
    },
    {
     "name": "stdout",
     "output_type": "stream",
     "text": [
      "41/41 [==============================] - 0s 3ms/step\n",
      " 1/41 [..............................] - ETA: 0s"
     ]
    },
    {
     "name": "stderr",
     "output_type": "stream",
     "text": [
      "2023-04-19 10:22:19.389764: I tensorflow/core/grappler/optimizers/custom_graph_optimizer_registry.cc:113] Plugin optimizer for device_type GPU is enabled.\n"
     ]
    },
    {
     "name": "stdout",
     "output_type": "stream",
     "text": [
      "41/41 [==============================] - 0s 2ms/step\n"
     ]
    },
    {
     "name": "stderr",
     "output_type": "stream",
     "text": [
      "2023-04-19 10:22:19.804737: I tensorflow/core/grappler/optimizers/custom_graph_optimizer_registry.cc:113] Plugin optimizer for device_type GPU is enabled.\n"
     ]
    },
    {
     "name": "stdout",
     "output_type": "stream",
     "text": [
      "41/41 [==============================] - 0s 3ms/step\n",
      " 1/41 [..............................] - ETA: 0s"
     ]
    },
    {
     "name": "stderr",
     "output_type": "stream",
     "text": [
      "2023-04-19 10:22:23.507750: I tensorflow/core/grappler/optimizers/custom_graph_optimizer_registry.cc:113] Plugin optimizer for device_type GPU is enabled.\n"
     ]
    },
    {
     "name": "stdout",
     "output_type": "stream",
     "text": [
      "41/41 [==============================] - 0s 2ms/step\n"
     ]
    },
    {
     "name": "stderr",
     "output_type": "stream",
     "text": [
      "2023-04-19 10:22:23.895540: I tensorflow/core/grappler/optimizers/custom_graph_optimizer_registry.cc:113] Plugin optimizer for device_type GPU is enabled.\n"
     ]
    },
    {
     "name": "stdout",
     "output_type": "stream",
     "text": [
      "41/41 [==============================] - 0s 3ms/step\n"
     ]
    },
    {
     "name": "stderr",
     "output_type": "stream",
     "text": [
      "2023-04-19 10:22:27.382531: I tensorflow/core/grappler/optimizers/custom_graph_optimizer_registry.cc:113] Plugin optimizer for device_type GPU is enabled.\n"
     ]
    },
    {
     "name": "stdout",
     "output_type": "stream",
     "text": [
      "41/41 [==============================] - 0s 2ms/step\n"
     ]
    },
    {
     "name": "stderr",
     "output_type": "stream",
     "text": [
      "2023-04-19 10:22:27.806646: I tensorflow/core/grappler/optimizers/custom_graph_optimizer_registry.cc:113] Plugin optimizer for device_type GPU is enabled.\n"
     ]
    },
    {
     "name": "stdout",
     "output_type": "stream",
     "text": [
      "41/41 [==============================] - 0s 3ms/step\n",
      " 1/41 [..............................] - ETA: 0s"
     ]
    },
    {
     "name": "stderr",
     "output_type": "stream",
     "text": [
      "2023-04-19 10:22:31.427506: I tensorflow/core/grappler/optimizers/custom_graph_optimizer_registry.cc:113] Plugin optimizer for device_type GPU is enabled.\n"
     ]
    },
    {
     "name": "stdout",
     "output_type": "stream",
     "text": [
      "41/41 [==============================] - 0s 2ms/step\n"
     ]
    },
    {
     "name": "stderr",
     "output_type": "stream",
     "text": [
      "2023-04-19 10:22:31.837465: I tensorflow/core/grappler/optimizers/custom_graph_optimizer_registry.cc:113] Plugin optimizer for device_type GPU is enabled.\n"
     ]
    },
    {
     "name": "stdout",
     "output_type": "stream",
     "text": [
      "41/41 [==============================] - 0s 3ms/step\n",
      " 1/41 [..............................] - ETA: 0s"
     ]
    },
    {
     "name": "stderr",
     "output_type": "stream",
     "text": [
      "2023-04-19 10:22:35.499749: I tensorflow/core/grappler/optimizers/custom_graph_optimizer_registry.cc:113] Plugin optimizer for device_type GPU is enabled.\n"
     ]
    },
    {
     "name": "stdout",
     "output_type": "stream",
     "text": [
      "41/41 [==============================] - 0s 2ms/step\n"
     ]
    },
    {
     "name": "stderr",
     "output_type": "stream",
     "text": [
      "2023-04-19 10:22:35.912077: I tensorflow/core/grappler/optimizers/custom_graph_optimizer_registry.cc:113] Plugin optimizer for device_type GPU is enabled.\n"
     ]
    },
    {
     "name": "stdout",
     "output_type": "stream",
     "text": [
      "41/41 [==============================] - 0s 3ms/step\n",
      " 1/41 [..............................] - ETA: 0s"
     ]
    },
    {
     "name": "stderr",
     "output_type": "stream",
     "text": [
      "2023-04-19 10:22:39.486794: I tensorflow/core/grappler/optimizers/custom_graph_optimizer_registry.cc:113] Plugin optimizer for device_type GPU is enabled.\n"
     ]
    },
    {
     "name": "stdout",
     "output_type": "stream",
     "text": [
      "41/41 [==============================] - 0s 2ms/step\n"
     ]
    },
    {
     "name": "stderr",
     "output_type": "stream",
     "text": [
      "2023-04-19 10:22:39.889912: I tensorflow/core/grappler/optimizers/custom_graph_optimizer_registry.cc:113] Plugin optimizer for device_type GPU is enabled.\n"
     ]
    },
    {
     "name": "stdout",
     "output_type": "stream",
     "text": [
      "41/41 [==============================] - 0s 3ms/step\n",
      " 1/41 [..............................] - ETA: 0s"
     ]
    },
    {
     "name": "stderr",
     "output_type": "stream",
     "text": [
      "2023-04-19 10:22:43.498019: I tensorflow/core/grappler/optimizers/custom_graph_optimizer_registry.cc:113] Plugin optimizer for device_type GPU is enabled.\n"
     ]
    },
    {
     "name": "stdout",
     "output_type": "stream",
     "text": [
      "41/41 [==============================] - 0s 2ms/step\n"
     ]
    },
    {
     "name": "stderr",
     "output_type": "stream",
     "text": [
      "2023-04-19 10:22:43.904493: I tensorflow/core/grappler/optimizers/custom_graph_optimizer_registry.cc:113] Plugin optimizer for device_type GPU is enabled.\n"
     ]
    },
    {
     "name": "stdout",
     "output_type": "stream",
     "text": [
      "41/41 [==============================] - 0s 3ms/step\n"
     ]
    },
    {
     "name": "stderr",
     "output_type": "stream",
     "text": [
      "2023-04-19 10:22:47.695730: I tensorflow/core/grappler/optimizers/custom_graph_optimizer_registry.cc:113] Plugin optimizer for device_type GPU is enabled.\n"
     ]
    },
    {
     "name": "stdout",
     "output_type": "stream",
     "text": [
      "41/41 [==============================] - 0s 2ms/step\n"
     ]
    },
    {
     "name": "stderr",
     "output_type": "stream",
     "text": [
      "2023-04-19 10:22:48.121219: I tensorflow/core/grappler/optimizers/custom_graph_optimizer_registry.cc:113] Plugin optimizer for device_type GPU is enabled.\n"
     ]
    },
    {
     "name": "stdout",
     "output_type": "stream",
     "text": [
      "41/41 [==============================] - 0s 3ms/step\n"
     ]
    },
    {
     "name": "stderr",
     "output_type": "stream",
     "text": [
      "2023-04-19 10:22:51.709910: I tensorflow/core/grappler/optimizers/custom_graph_optimizer_registry.cc:113] Plugin optimizer for device_type GPU is enabled.\n"
     ]
    },
    {
     "name": "stdout",
     "output_type": "stream",
     "text": [
      "41/41 [==============================] - 0s 2ms/step\n"
     ]
    },
    {
     "name": "stderr",
     "output_type": "stream",
     "text": [
      "2023-04-19 10:22:52.127153: I tensorflow/core/grappler/optimizers/custom_graph_optimizer_registry.cc:113] Plugin optimizer for device_type GPU is enabled.\n"
     ]
    },
    {
     "name": "stdout",
     "output_type": "stream",
     "text": [
      "41/41 [==============================] - 0s 3ms/step\n",
      " 1/41 [..............................] - ETA: 0s"
     ]
    },
    {
     "name": "stderr",
     "output_type": "stream",
     "text": [
      "2023-04-19 10:22:55.833397: I tensorflow/core/grappler/optimizers/custom_graph_optimizer_registry.cc:113] Plugin optimizer for device_type GPU is enabled.\n"
     ]
    },
    {
     "name": "stdout",
     "output_type": "stream",
     "text": [
      "41/41 [==============================] - 0s 2ms/step\n"
     ]
    },
    {
     "name": "stderr",
     "output_type": "stream",
     "text": [
      "2023-04-19 10:22:56.242319: I tensorflow/core/grappler/optimizers/custom_graph_optimizer_registry.cc:113] Plugin optimizer for device_type GPU is enabled.\n"
     ]
    },
    {
     "name": "stdout",
     "output_type": "stream",
     "text": [
      "41/41 [==============================] - 0s 3ms/step\n"
     ]
    },
    {
     "name": "stderr",
     "output_type": "stream",
     "text": [
      "2023-04-19 10:22:59.889797: I tensorflow/core/grappler/optimizers/custom_graph_optimizer_registry.cc:113] Plugin optimizer for device_type GPU is enabled.\n"
     ]
    },
    {
     "name": "stdout",
     "output_type": "stream",
     "text": [
      "41/41 [==============================] - 0s 2ms/step\n"
     ]
    },
    {
     "name": "stderr",
     "output_type": "stream",
     "text": [
      "2023-04-19 10:23:00.335965: I tensorflow/core/grappler/optimizers/custom_graph_optimizer_registry.cc:113] Plugin optimizer for device_type GPU is enabled.\n"
     ]
    },
    {
     "name": "stdout",
     "output_type": "stream",
     "text": [
      "41/41 [==============================] - 0s 3ms/step\n",
      " 1/41 [..............................] - ETA: 0s"
     ]
    },
    {
     "name": "stderr",
     "output_type": "stream",
     "text": [
      "2023-04-19 10:23:04.019778: I tensorflow/core/grappler/optimizers/custom_graph_optimizer_registry.cc:113] Plugin optimizer for device_type GPU is enabled.\n"
     ]
    },
    {
     "name": "stdout",
     "output_type": "stream",
     "text": [
      "41/41 [==============================] - 0s 2ms/step\n"
     ]
    },
    {
     "name": "stderr",
     "output_type": "stream",
     "text": [
      "2023-04-19 10:23:04.437290: I tensorflow/core/grappler/optimizers/custom_graph_optimizer_registry.cc:113] Plugin optimizer for device_type GPU is enabled.\n"
     ]
    },
    {
     "name": "stdout",
     "output_type": "stream",
     "text": [
      "41/41 [==============================] - 0s 3ms/step\n",
      " 1/41 [..............................] - ETA: 0s"
     ]
    },
    {
     "name": "stderr",
     "output_type": "stream",
     "text": [
      "2023-04-19 10:23:08.063254: I tensorflow/core/grappler/optimizers/custom_graph_optimizer_registry.cc:113] Plugin optimizer for device_type GPU is enabled.\n"
     ]
    },
    {
     "name": "stdout",
     "output_type": "stream",
     "text": [
      "41/41 [==============================] - 0s 2ms/step\n"
     ]
    },
    {
     "name": "stderr",
     "output_type": "stream",
     "text": [
      "2023-04-19 10:23:08.481934: I tensorflow/core/grappler/optimizers/custom_graph_optimizer_registry.cc:113] Plugin optimizer for device_type GPU is enabled.\n"
     ]
    },
    {
     "name": "stdout",
     "output_type": "stream",
     "text": [
      "41/41 [==============================] - 0s 3ms/step\n"
     ]
    },
    {
     "name": "stderr",
     "output_type": "stream",
     "text": [
      "2023-04-19 10:23:12.368477: I tensorflow/core/grappler/optimizers/custom_graph_optimizer_registry.cc:113] Plugin optimizer for device_type GPU is enabled.\n"
     ]
    },
    {
     "name": "stdout",
     "output_type": "stream",
     "text": [
      "41/41 [==============================] - 0s 2ms/step\n"
     ]
    },
    {
     "name": "stderr",
     "output_type": "stream",
     "text": [
      "2023-04-19 10:23:12.792079: I tensorflow/core/grappler/optimizers/custom_graph_optimizer_registry.cc:113] Plugin optimizer for device_type GPU is enabled.\n"
     ]
    },
    {
     "name": "stdout",
     "output_type": "stream",
     "text": [
      "41/41 [==============================] - 0s 3ms/step\n"
     ]
    },
    {
     "name": "stderr",
     "output_type": "stream",
     "text": [
      "2023-04-19 10:23:16.516598: I tensorflow/core/grappler/optimizers/custom_graph_optimizer_registry.cc:113] Plugin optimizer for device_type GPU is enabled.\n"
     ]
    },
    {
     "name": "stdout",
     "output_type": "stream",
     "text": [
      "41/41 [==============================] - 0s 2ms/step\n"
     ]
    },
    {
     "name": "stderr",
     "output_type": "stream",
     "text": [
      "2023-04-19 10:23:19.150911: I tensorflow/core/grappler/optimizers/custom_graph_optimizer_registry.cc:113] Plugin optimizer for device_type GPU is enabled.\n"
     ]
    },
    {
     "name": "stdout",
     "output_type": "stream",
     "text": [
      "41/41 [==============================] - 0s 3ms/step\n"
     ]
    },
    {
     "name": "stderr",
     "output_type": "stream",
     "text": [
      "2023-04-19 10:23:23.087326: I tensorflow/core/grappler/optimizers/custom_graph_optimizer_registry.cc:113] Plugin optimizer for device_type GPU is enabled.\n"
     ]
    },
    {
     "name": "stdout",
     "output_type": "stream",
     "text": [
      "41/41 [==============================] - 0s 2ms/step\n"
     ]
    },
    {
     "name": "stderr",
     "output_type": "stream",
     "text": [
      "2023-04-19 10:23:23.514063: I tensorflow/core/grappler/optimizers/custom_graph_optimizer_registry.cc:113] Plugin optimizer for device_type GPU is enabled.\n"
     ]
    },
    {
     "name": "stdout",
     "output_type": "stream",
     "text": [
      "41/41 [==============================] - 0s 3ms/step\n"
     ]
    },
    {
     "name": "stderr",
     "output_type": "stream",
     "text": [
      "2023-04-19 10:23:27.369524: I tensorflow/core/grappler/optimizers/custom_graph_optimizer_registry.cc:113] Plugin optimizer for device_type GPU is enabled.\n"
     ]
    },
    {
     "name": "stdout",
     "output_type": "stream",
     "text": [
      "41/41 [==============================] - 0s 2ms/step\n"
     ]
    },
    {
     "name": "stderr",
     "output_type": "stream",
     "text": [
      "2023-04-19 10:23:27.795064: I tensorflow/core/grappler/optimizers/custom_graph_optimizer_registry.cc:113] Plugin optimizer for device_type GPU is enabled.\n"
     ]
    },
    {
     "name": "stdout",
     "output_type": "stream",
     "text": [
      "41/41 [==============================] - 0s 3ms/step\n",
      " 1/41 [..............................] - ETA: 0s"
     ]
    },
    {
     "name": "stderr",
     "output_type": "stream",
     "text": [
      "2023-04-19 10:23:31.372581: I tensorflow/core/grappler/optimizers/custom_graph_optimizer_registry.cc:113] Plugin optimizer for device_type GPU is enabled.\n"
     ]
    },
    {
     "name": "stdout",
     "output_type": "stream",
     "text": [
      "41/41 [==============================] - 0s 2ms/step\n"
     ]
    },
    {
     "name": "stderr",
     "output_type": "stream",
     "text": [
      "2023-04-19 10:23:31.778378: I tensorflow/core/grappler/optimizers/custom_graph_optimizer_registry.cc:113] Plugin optimizer for device_type GPU is enabled.\n"
     ]
    },
    {
     "name": "stdout",
     "output_type": "stream",
     "text": [
      "41/41 [==============================] - 0s 3ms/step\n"
     ]
    },
    {
     "name": "stderr",
     "output_type": "stream",
     "text": [
      "2023-04-19 10:23:35.481812: I tensorflow/core/grappler/optimizers/custom_graph_optimizer_registry.cc:113] Plugin optimizer for device_type GPU is enabled.\n"
     ]
    },
    {
     "name": "stdout",
     "output_type": "stream",
     "text": [
      "41/41 [==============================] - 0s 2ms/step\n"
     ]
    },
    {
     "name": "stderr",
     "output_type": "stream",
     "text": [
      "2023-04-19 10:23:35.922404: I tensorflow/core/grappler/optimizers/custom_graph_optimizer_registry.cc:113] Plugin optimizer for device_type GPU is enabled.\n"
     ]
    },
    {
     "name": "stdout",
     "output_type": "stream",
     "text": [
      "41/41 [==============================] - 0s 3ms/step\n"
     ]
    },
    {
     "name": "stderr",
     "output_type": "stream",
     "text": [
      "2023-04-19 10:23:39.592919: I tensorflow/core/grappler/optimizers/custom_graph_optimizer_registry.cc:113] Plugin optimizer for device_type GPU is enabled.\n"
     ]
    },
    {
     "name": "stdout",
     "output_type": "stream",
     "text": [
      "41/41 [==============================] - 0s 2ms/step\n"
     ]
    },
    {
     "name": "stderr",
     "output_type": "stream",
     "text": [
      "2023-04-19 10:23:40.019094: I tensorflow/core/grappler/optimizers/custom_graph_optimizer_registry.cc:113] Plugin optimizer for device_type GPU is enabled.\n"
     ]
    },
    {
     "name": "stdout",
     "output_type": "stream",
     "text": [
      "41/41 [==============================] - 0s 3ms/step\n"
     ]
    },
    {
     "name": "stderr",
     "output_type": "stream",
     "text": [
      "2023-04-19 10:23:43.668123: I tensorflow/core/grappler/optimizers/custom_graph_optimizer_registry.cc:113] Plugin optimizer for device_type GPU is enabled.\n"
     ]
    },
    {
     "name": "stdout",
     "output_type": "stream",
     "text": [
      "41/41 [==============================] - 0s 2ms/step\n"
     ]
    },
    {
     "name": "stderr",
     "output_type": "stream",
     "text": [
      "2023-04-19 10:23:44.104703: I tensorflow/core/grappler/optimizers/custom_graph_optimizer_registry.cc:113] Plugin optimizer for device_type GPU is enabled.\n"
     ]
    },
    {
     "name": "stdout",
     "output_type": "stream",
     "text": [
      "41/41 [==============================] - 0s 3ms/step\n",
      " 1/41 [..............................] - ETA: 0s"
     ]
    },
    {
     "name": "stderr",
     "output_type": "stream",
     "text": [
      "2023-04-19 10:23:47.884708: I tensorflow/core/grappler/optimizers/custom_graph_optimizer_registry.cc:113] Plugin optimizer for device_type GPU is enabled.\n"
     ]
    },
    {
     "name": "stdout",
     "output_type": "stream",
     "text": [
      "41/41 [==============================] - 0s 2ms/step\n"
     ]
    },
    {
     "name": "stderr",
     "output_type": "stream",
     "text": [
      "2023-04-19 10:23:48.306961: I tensorflow/core/grappler/optimizers/custom_graph_optimizer_registry.cc:113] Plugin optimizer for device_type GPU is enabled.\n"
     ]
    },
    {
     "name": "stdout",
     "output_type": "stream",
     "text": [
      "41/41 [==============================] - 0s 3ms/step\n"
     ]
    },
    {
     "name": "stderr",
     "output_type": "stream",
     "text": [
      "2023-04-19 10:23:52.017004: I tensorflow/core/grappler/optimizers/custom_graph_optimizer_registry.cc:113] Plugin optimizer for device_type GPU is enabled.\n"
     ]
    },
    {
     "name": "stdout",
     "output_type": "stream",
     "text": [
      "41/41 [==============================] - 0s 2ms/step\n"
     ]
    },
    {
     "name": "stderr",
     "output_type": "stream",
     "text": [
      "2023-04-19 10:23:52.440796: I tensorflow/core/grappler/optimizers/custom_graph_optimizer_registry.cc:113] Plugin optimizer for device_type GPU is enabled.\n"
     ]
    },
    {
     "name": "stdout",
     "output_type": "stream",
     "text": [
      "41/41 [==============================] - 0s 3ms/step\n",
      " 1/41 [..............................] - ETA: 0s"
     ]
    },
    {
     "name": "stderr",
     "output_type": "stream",
     "text": [
      "2023-04-19 10:23:56.301114: I tensorflow/core/grappler/optimizers/custom_graph_optimizer_registry.cc:113] Plugin optimizer for device_type GPU is enabled.\n"
     ]
    },
    {
     "name": "stdout",
     "output_type": "stream",
     "text": [
      "41/41 [==============================] - 0s 2ms/step\n"
     ]
    },
    {
     "name": "stderr",
     "output_type": "stream",
     "text": [
      "2023-04-19 10:23:56.733701: I tensorflow/core/grappler/optimizers/custom_graph_optimizer_registry.cc:113] Plugin optimizer for device_type GPU is enabled.\n"
     ]
    },
    {
     "name": "stdout",
     "output_type": "stream",
     "text": [
      "41/41 [==============================] - 0s 3ms/step\n"
     ]
    },
    {
     "name": "stderr",
     "output_type": "stream",
     "text": [
      "2023-04-19 10:24:00.433877: I tensorflow/core/grappler/optimizers/custom_graph_optimizer_registry.cc:113] Plugin optimizer for device_type GPU is enabled.\n"
     ]
    },
    {
     "name": "stdout",
     "output_type": "stream",
     "text": [
      "41/41 [==============================] - 0s 2ms/step\n"
     ]
    },
    {
     "name": "stderr",
     "output_type": "stream",
     "text": [
      "2023-04-19 10:24:00.862432: I tensorflow/core/grappler/optimizers/custom_graph_optimizer_registry.cc:113] Plugin optimizer for device_type GPU is enabled.\n"
     ]
    },
    {
     "name": "stdout",
     "output_type": "stream",
     "text": [
      "41/41 [==============================] - 0s 3ms/step\n"
     ]
    },
    {
     "name": "stderr",
     "output_type": "stream",
     "text": [
      "2023-04-19 10:24:04.679610: I tensorflow/core/grappler/optimizers/custom_graph_optimizer_registry.cc:113] Plugin optimizer for device_type GPU is enabled.\n"
     ]
    },
    {
     "name": "stdout",
     "output_type": "stream",
     "text": [
      "41/41 [==============================] - 0s 2ms/step\n"
     ]
    },
    {
     "name": "stderr",
     "output_type": "stream",
     "text": [
      "2023-04-19 10:24:05.094497: I tensorflow/core/grappler/optimizers/custom_graph_optimizer_registry.cc:113] Plugin optimizer for device_type GPU is enabled.\n"
     ]
    },
    {
     "name": "stdout",
     "output_type": "stream",
     "text": [
      "41/41 [==============================] - 0s 3ms/step\n",
      " 1/41 [..............................] - ETA: 0s"
     ]
    },
    {
     "name": "stderr",
     "output_type": "stream",
     "text": [
      "2023-04-19 10:24:08.733981: I tensorflow/core/grappler/optimizers/custom_graph_optimizer_registry.cc:113] Plugin optimizer for device_type GPU is enabled.\n"
     ]
    },
    {
     "name": "stdout",
     "output_type": "stream",
     "text": [
      "41/41 [==============================] - 0s 2ms/step\n"
     ]
    },
    {
     "name": "stderr",
     "output_type": "stream",
     "text": [
      "2023-04-19 10:24:09.150364: I tensorflow/core/grappler/optimizers/custom_graph_optimizer_registry.cc:113] Plugin optimizer for device_type GPU is enabled.\n"
     ]
    },
    {
     "name": "stdout",
     "output_type": "stream",
     "text": [
      "41/41 [==============================] - 0s 3ms/step\n"
     ]
    },
    {
     "name": "stderr",
     "output_type": "stream",
     "text": [
      "2023-04-19 10:24:12.803600: I tensorflow/core/grappler/optimizers/custom_graph_optimizer_registry.cc:113] Plugin optimizer for device_type GPU is enabled.\n"
     ]
    },
    {
     "name": "stdout",
     "output_type": "stream",
     "text": [
      "41/41 [==============================] - 0s 2ms/step\n"
     ]
    },
    {
     "name": "stderr",
     "output_type": "stream",
     "text": [
      "2023-04-19 10:24:13.240648: I tensorflow/core/grappler/optimizers/custom_graph_optimizer_registry.cc:113] Plugin optimizer for device_type GPU is enabled.\n"
     ]
    },
    {
     "name": "stdout",
     "output_type": "stream",
     "text": [
      "41/41 [==============================] - 0s 3ms/step\n"
     ]
    },
    {
     "name": "stderr",
     "output_type": "stream",
     "text": [
      "2023-04-19 10:24:16.947821: I tensorflow/core/grappler/optimizers/custom_graph_optimizer_registry.cc:113] Plugin optimizer for device_type GPU is enabled.\n"
     ]
    },
    {
     "name": "stdout",
     "output_type": "stream",
     "text": [
      "41/41 [==============================] - 0s 2ms/step\n"
     ]
    },
    {
     "name": "stderr",
     "output_type": "stream",
     "text": [
      "2023-04-19 10:24:17.391211: I tensorflow/core/grappler/optimizers/custom_graph_optimizer_registry.cc:113] Plugin optimizer for device_type GPU is enabled.\n"
     ]
    },
    {
     "name": "stdout",
     "output_type": "stream",
     "text": [
      "41/41 [==============================] - 0s 3ms/step\n",
      " 1/41 [..............................] - ETA: 0s"
     ]
    },
    {
     "name": "stderr",
     "output_type": "stream",
     "text": [
      "2023-04-19 10:24:21.576887: I tensorflow/core/grappler/optimizers/custom_graph_optimizer_registry.cc:113] Plugin optimizer for device_type GPU is enabled.\n"
     ]
    },
    {
     "name": "stdout",
     "output_type": "stream",
     "text": [
      "41/41 [==============================] - 0s 2ms/step\n"
     ]
    },
    {
     "name": "stderr",
     "output_type": "stream",
     "text": [
      "2023-04-19 10:24:22.001749: I tensorflow/core/grappler/optimizers/custom_graph_optimizer_registry.cc:113] Plugin optimizer for device_type GPU is enabled.\n"
     ]
    },
    {
     "name": "stdout",
     "output_type": "stream",
     "text": [
      "41/41 [==============================] - 0s 3ms/step\n"
     ]
    },
    {
     "name": "stderr",
     "output_type": "stream",
     "text": [
      "2023-04-19 10:24:26.365330: I tensorflow/core/grappler/optimizers/custom_graph_optimizer_registry.cc:113] Plugin optimizer for device_type GPU is enabled.\n"
     ]
    },
    {
     "name": "stdout",
     "output_type": "stream",
     "text": [
      "41/41 [==============================] - 0s 2ms/step\n"
     ]
    },
    {
     "name": "stderr",
     "output_type": "stream",
     "text": [
      "2023-04-19 10:24:26.795596: I tensorflow/core/grappler/optimizers/custom_graph_optimizer_registry.cc:113] Plugin optimizer for device_type GPU is enabled.\n"
     ]
    },
    {
     "name": "stdout",
     "output_type": "stream",
     "text": [
      "41/41 [==============================] - 0s 3ms/step\n"
     ]
    },
    {
     "name": "stderr",
     "output_type": "stream",
     "text": [
      "2023-04-19 10:24:31.040458: I tensorflow/core/grappler/optimizers/custom_graph_optimizer_registry.cc:113] Plugin optimizer for device_type GPU is enabled.\n"
     ]
    },
    {
     "name": "stdout",
     "output_type": "stream",
     "text": [
      "41/41 [==============================] - 0s 2ms/step\n"
     ]
    },
    {
     "name": "stderr",
     "output_type": "stream",
     "text": [
      "2023-04-19 10:24:31.477842: I tensorflow/core/grappler/optimizers/custom_graph_optimizer_registry.cc:113] Plugin optimizer for device_type GPU is enabled.\n"
     ]
    },
    {
     "name": "stdout",
     "output_type": "stream",
     "text": [
      "41/41 [==============================] - 0s 3ms/step\n",
      " 1/41 [..............................] - ETA: 0s"
     ]
    },
    {
     "name": "stderr",
     "output_type": "stream",
     "text": [
      "2023-04-19 10:24:35.699215: I tensorflow/core/grappler/optimizers/custom_graph_optimizer_registry.cc:113] Plugin optimizer for device_type GPU is enabled.\n"
     ]
    },
    {
     "name": "stdout",
     "output_type": "stream",
     "text": [
      "41/41 [==============================] - 0s 2ms/step\n"
     ]
    },
    {
     "name": "stderr",
     "output_type": "stream",
     "text": [
      "2023-04-19 10:24:36.108929: I tensorflow/core/grappler/optimizers/custom_graph_optimizer_registry.cc:113] Plugin optimizer for device_type GPU is enabled.\n"
     ]
    },
    {
     "name": "stdout",
     "output_type": "stream",
     "text": [
      "41/41 [==============================] - 0s 3ms/step\n",
      " 1/41 [..............................] - ETA: 0s"
     ]
    },
    {
     "name": "stderr",
     "output_type": "stream",
     "text": [
      "2023-04-19 10:24:40.325200: I tensorflow/core/grappler/optimizers/custom_graph_optimizer_registry.cc:113] Plugin optimizer for device_type GPU is enabled.\n"
     ]
    },
    {
     "name": "stdout",
     "output_type": "stream",
     "text": [
      "41/41 [==============================] - 0s 2ms/step\n"
     ]
    },
    {
     "name": "stderr",
     "output_type": "stream",
     "text": [
      "2023-04-19 10:24:40.743270: I tensorflow/core/grappler/optimizers/custom_graph_optimizer_registry.cc:113] Plugin optimizer for device_type GPU is enabled.\n"
     ]
    },
    {
     "name": "stdout",
     "output_type": "stream",
     "text": [
      "41/41 [==============================] - 0s 4ms/step\n"
     ]
    },
    {
     "name": "stderr",
     "output_type": "stream",
     "text": [
      "2023-04-19 10:24:44.961439: I tensorflow/core/grappler/optimizers/custom_graph_optimizer_registry.cc:113] Plugin optimizer for device_type GPU is enabled.\n"
     ]
    },
    {
     "name": "stdout",
     "output_type": "stream",
     "text": [
      "41/41 [==============================] - 0s 2ms/step\n"
     ]
    },
    {
     "name": "stderr",
     "output_type": "stream",
     "text": [
      "2023-04-19 10:24:45.390486: I tensorflow/core/grappler/optimizers/custom_graph_optimizer_registry.cc:113] Plugin optimizer for device_type GPU is enabled.\n"
     ]
    },
    {
     "name": "stdout",
     "output_type": "stream",
     "text": [
      "41/41 [==============================] - 0s 3ms/step\n",
      " 1/41 [..............................] - ETA: 0s"
     ]
    },
    {
     "name": "stderr",
     "output_type": "stream",
     "text": [
      "2023-04-19 10:24:49.701037: I tensorflow/core/grappler/optimizers/custom_graph_optimizer_registry.cc:113] Plugin optimizer for device_type GPU is enabled.\n"
     ]
    },
    {
     "name": "stdout",
     "output_type": "stream",
     "text": [
      "41/41 [==============================] - 0s 2ms/step\n"
     ]
    },
    {
     "name": "stderr",
     "output_type": "stream",
     "text": [
      "2023-04-19 10:24:50.123847: I tensorflow/core/grappler/optimizers/custom_graph_optimizer_registry.cc:113] Plugin optimizer for device_type GPU is enabled.\n"
     ]
    },
    {
     "name": "stdout",
     "output_type": "stream",
     "text": [
      "41/41 [==============================] - 0s 3ms/step\n"
     ]
    },
    {
     "name": "stderr",
     "output_type": "stream",
     "text": [
      "2023-04-19 10:24:54.280297: I tensorflow/core/grappler/optimizers/custom_graph_optimizer_registry.cc:113] Plugin optimizer for device_type GPU is enabled.\n"
     ]
    },
    {
     "name": "stdout",
     "output_type": "stream",
     "text": [
      "41/41 [==============================] - 0s 2ms/step\n"
     ]
    },
    {
     "name": "stderr",
     "output_type": "stream",
     "text": [
      "2023-04-19 10:24:54.719342: I tensorflow/core/grappler/optimizers/custom_graph_optimizer_registry.cc:113] Plugin optimizer for device_type GPU is enabled.\n"
     ]
    },
    {
     "name": "stdout",
     "output_type": "stream",
     "text": [
      "41/41 [==============================] - 0s 3ms/step\n"
     ]
    },
    {
     "name": "stderr",
     "output_type": "stream",
     "text": [
      "2023-04-19 10:24:58.857133: I tensorflow/core/grappler/optimizers/custom_graph_optimizer_registry.cc:113] Plugin optimizer for device_type GPU is enabled.\n"
     ]
    },
    {
     "name": "stdout",
     "output_type": "stream",
     "text": [
      "41/41 [==============================] - 0s 2ms/step\n"
     ]
    },
    {
     "name": "stderr",
     "output_type": "stream",
     "text": [
      "2023-04-19 10:24:59.299556: I tensorflow/core/grappler/optimizers/custom_graph_optimizer_registry.cc:113] Plugin optimizer for device_type GPU is enabled.\n"
     ]
    },
    {
     "name": "stdout",
     "output_type": "stream",
     "text": [
      "41/41 [==============================] - 0s 3ms/step\n"
     ]
    },
    {
     "name": "stderr",
     "output_type": "stream",
     "text": [
      "2023-04-19 10:25:03.588653: I tensorflow/core/grappler/optimizers/custom_graph_optimizer_registry.cc:113] Plugin optimizer for device_type GPU is enabled.\n"
     ]
    },
    {
     "name": "stdout",
     "output_type": "stream",
     "text": [
      "41/41 [==============================] - 0s 2ms/step\n"
     ]
    },
    {
     "name": "stderr",
     "output_type": "stream",
     "text": [
      "2023-04-19 10:25:04.013645: I tensorflow/core/grappler/optimizers/custom_graph_optimizer_registry.cc:113] Plugin optimizer for device_type GPU is enabled.\n"
     ]
    },
    {
     "name": "stdout",
     "output_type": "stream",
     "text": [
      "41/41 [==============================] - 0s 3ms/step\n",
      " 1/41 [..............................] - ETA: 0s"
     ]
    },
    {
     "name": "stderr",
     "output_type": "stream",
     "text": [
      "2023-04-19 10:25:08.261228: I tensorflow/core/grappler/optimizers/custom_graph_optimizer_registry.cc:113] Plugin optimizer for device_type GPU is enabled.\n"
     ]
    },
    {
     "name": "stdout",
     "output_type": "stream",
     "text": [
      "41/41 [==============================] - 0s 2ms/step\n"
     ]
    },
    {
     "name": "stderr",
     "output_type": "stream",
     "text": [
      "2023-04-19 10:25:10.990481: I tensorflow/core/grappler/optimizers/custom_graph_optimizer_registry.cc:113] Plugin optimizer for device_type GPU is enabled.\n"
     ]
    },
    {
     "name": "stdout",
     "output_type": "stream",
     "text": [
      "41/41 [==============================] - 0s 3ms/step\n"
     ]
    },
    {
     "name": "stderr",
     "output_type": "stream",
     "text": [
      "2023-04-19 10:25:15.829595: I tensorflow/core/grappler/optimizers/custom_graph_optimizer_registry.cc:113] Plugin optimizer for device_type GPU is enabled.\n"
     ]
    },
    {
     "name": "stdout",
     "output_type": "stream",
     "text": [
      "41/41 [==============================] - 0s 2ms/step\n"
     ]
    },
    {
     "name": "stderr",
     "output_type": "stream",
     "text": [
      "2023-04-19 10:25:16.264021: I tensorflow/core/grappler/optimizers/custom_graph_optimizer_registry.cc:113] Plugin optimizer for device_type GPU is enabled.\n"
     ]
    },
    {
     "name": "stdout",
     "output_type": "stream",
     "text": [
      "41/41 [==============================] - 0s 3ms/step\n"
     ]
    },
    {
     "name": "stderr",
     "output_type": "stream",
     "text": [
      "2023-04-19 10:25:20.637637: I tensorflow/core/grappler/optimizers/custom_graph_optimizer_registry.cc:113] Plugin optimizer for device_type GPU is enabled.\n"
     ]
    },
    {
     "name": "stdout",
     "output_type": "stream",
     "text": [
      "41/41 [==============================] - 0s 2ms/step\n"
     ]
    },
    {
     "name": "stderr",
     "output_type": "stream",
     "text": [
      "2023-04-19 10:25:21.065399: I tensorflow/core/grappler/optimizers/custom_graph_optimizer_registry.cc:113] Plugin optimizer for device_type GPU is enabled.\n"
     ]
    },
    {
     "name": "stdout",
     "output_type": "stream",
     "text": [
      "41/41 [==============================] - ETA: 0s"
     ]
    },
    {
     "name": "stderr",
     "output_type": "stream",
     "text": [
      "2023-04-19 10:25:25.305367: I tensorflow/core/grappler/optimizers/custom_graph_optimizer_registry.cc:113] Plugin optimizer for device_type GPU is enabled.\n"
     ]
    },
    {
     "name": "stdout",
     "output_type": "stream",
     "text": [
      "41/41 [==============================] - 0s 4ms/step\n",
      "41/41 [==============================] - 0s 2ms/step\n"
     ]
    },
    {
     "name": "stderr",
     "output_type": "stream",
     "text": [
      "2023-04-19 10:25:25.755047: I tensorflow/core/grappler/optimizers/custom_graph_optimizer_registry.cc:113] Plugin optimizer for device_type GPU is enabled.\n"
     ]
    },
    {
     "name": "stdout",
     "output_type": "stream",
     "text": [
      "41/41 [==============================] - 0s 3ms/step\n"
     ]
    },
    {
     "name": "stderr",
     "output_type": "stream",
     "text": [
      "2023-04-19 10:25:30.053114: I tensorflow/core/grappler/optimizers/custom_graph_optimizer_registry.cc:113] Plugin optimizer for device_type GPU is enabled.\n"
     ]
    },
    {
     "name": "stdout",
     "output_type": "stream",
     "text": [
      "41/41 [==============================] - 0s 2ms/step\n"
     ]
    },
    {
     "name": "stderr",
     "output_type": "stream",
     "text": [
      "2023-04-19 10:25:30.473305: I tensorflow/core/grappler/optimizers/custom_graph_optimizer_registry.cc:113] Plugin optimizer for device_type GPU is enabled.\n"
     ]
    },
    {
     "name": "stdout",
     "output_type": "stream",
     "text": [
      "41/41 [==============================] - 0s 3ms/step\n"
     ]
    },
    {
     "name": "stderr",
     "output_type": "stream",
     "text": [
      "2023-04-19 10:25:34.757761: I tensorflow/core/grappler/optimizers/custom_graph_optimizer_registry.cc:113] Plugin optimizer for device_type GPU is enabled.\n"
     ]
    },
    {
     "name": "stdout",
     "output_type": "stream",
     "text": [
      "41/41 [==============================] - 0s 2ms/step\n"
     ]
    },
    {
     "name": "stderr",
     "output_type": "stream",
     "text": [
      "2023-04-19 10:25:35.192805: I tensorflow/core/grappler/optimizers/custom_graph_optimizer_registry.cc:113] Plugin optimizer for device_type GPU is enabled.\n"
     ]
    },
    {
     "name": "stdout",
     "output_type": "stream",
     "text": [
      "41/41 [==============================] - 0s 3ms/step\n"
     ]
    },
    {
     "name": "stderr",
     "output_type": "stream",
     "text": [
      "2023-04-19 10:25:39.553445: I tensorflow/core/grappler/optimizers/custom_graph_optimizer_registry.cc:113] Plugin optimizer for device_type GPU is enabled.\n"
     ]
    },
    {
     "name": "stdout",
     "output_type": "stream",
     "text": [
      "41/41 [==============================] - 0s 2ms/step\n"
     ]
    },
    {
     "name": "stderr",
     "output_type": "stream",
     "text": [
      "2023-04-19 10:25:39.992383: I tensorflow/core/grappler/optimizers/custom_graph_optimizer_registry.cc:113] Plugin optimizer for device_type GPU is enabled.\n"
     ]
    },
    {
     "name": "stdout",
     "output_type": "stream",
     "text": [
      "41/41 [==============================] - 0s 3ms/step\n"
     ]
    },
    {
     "name": "stderr",
     "output_type": "stream",
     "text": [
      "2023-04-19 10:25:44.284071: I tensorflow/core/grappler/optimizers/custom_graph_optimizer_registry.cc:113] Plugin optimizer for device_type GPU is enabled.\n"
     ]
    },
    {
     "name": "stdout",
     "output_type": "stream",
     "text": [
      "41/41 [==============================] - 0s 2ms/step\n"
     ]
    },
    {
     "name": "stderr",
     "output_type": "stream",
     "text": [
      "2023-04-19 10:25:44.710786: I tensorflow/core/grappler/optimizers/custom_graph_optimizer_registry.cc:113] Plugin optimizer for device_type GPU is enabled.\n"
     ]
    },
    {
     "name": "stdout",
     "output_type": "stream",
     "text": [
      "41/41 [==============================] - 0s 3ms/step\n"
     ]
    },
    {
     "name": "stderr",
     "output_type": "stream",
     "text": [
      "2023-04-19 10:25:49.095582: I tensorflow/core/grappler/optimizers/custom_graph_optimizer_registry.cc:113] Plugin optimizer for device_type GPU is enabled.\n"
     ]
    },
    {
     "name": "stdout",
     "output_type": "stream",
     "text": [
      "41/41 [==============================] - 0s 2ms/step\n"
     ]
    },
    {
     "name": "stderr",
     "output_type": "stream",
     "text": [
      "2023-04-19 10:25:49.517272: I tensorflow/core/grappler/optimizers/custom_graph_optimizer_registry.cc:113] Plugin optimizer for device_type GPU is enabled.\n"
     ]
    },
    {
     "name": "stdout",
     "output_type": "stream",
     "text": [
      "41/41 [==============================] - 0s 3ms/step\n"
     ]
    },
    {
     "name": "stderr",
     "output_type": "stream",
     "text": [
      "2023-04-19 10:25:53.752147: I tensorflow/core/grappler/optimizers/custom_graph_optimizer_registry.cc:113] Plugin optimizer for device_type GPU is enabled.\n"
     ]
    },
    {
     "name": "stdout",
     "output_type": "stream",
     "text": [
      "41/41 [==============================] - 0s 2ms/step\n"
     ]
    },
    {
     "name": "stderr",
     "output_type": "stream",
     "text": [
      "2023-04-19 10:25:54.183579: I tensorflow/core/grappler/optimizers/custom_graph_optimizer_registry.cc:113] Plugin optimizer for device_type GPU is enabled.\n"
     ]
    },
    {
     "name": "stdout",
     "output_type": "stream",
     "text": [
      "41/41 [==============================] - 0s 3ms/step\n",
      " 1/41 [..............................] - ETA: 0s"
     ]
    },
    {
     "name": "stderr",
     "output_type": "stream",
     "text": [
      "2023-04-19 10:25:58.391566: I tensorflow/core/grappler/optimizers/custom_graph_optimizer_registry.cc:113] Plugin optimizer for device_type GPU is enabled.\n"
     ]
    },
    {
     "name": "stdout",
     "output_type": "stream",
     "text": [
      "41/41 [==============================] - 0s 2ms/step\n"
     ]
    },
    {
     "name": "stderr",
     "output_type": "stream",
     "text": [
      "2023-04-19 10:25:58.796150: I tensorflow/core/grappler/optimizers/custom_graph_optimizer_registry.cc:113] Plugin optimizer for device_type GPU is enabled.\n"
     ]
    },
    {
     "name": "stdout",
     "output_type": "stream",
     "text": [
      "41/41 [==============================] - 0s 3ms/step\n",
      " 1/41 [..............................] - ETA: 0s"
     ]
    },
    {
     "name": "stderr",
     "output_type": "stream",
     "text": [
      "2023-04-19 10:26:03.023414: I tensorflow/core/grappler/optimizers/custom_graph_optimizer_registry.cc:113] Plugin optimizer for device_type GPU is enabled.\n"
     ]
    },
    {
     "name": "stdout",
     "output_type": "stream",
     "text": [
      "41/41 [==============================] - 0s 2ms/step\n"
     ]
    },
    {
     "name": "stderr",
     "output_type": "stream",
     "text": [
      "2023-04-19 10:26:03.441904: I tensorflow/core/grappler/optimizers/custom_graph_optimizer_registry.cc:113] Plugin optimizer for device_type GPU is enabled.\n"
     ]
    },
    {
     "name": "stdout",
     "output_type": "stream",
     "text": [
      "41/41 [==============================] - 0s 3ms/step\n"
     ]
    },
    {
     "name": "stderr",
     "output_type": "stream",
     "text": [
      "2023-04-19 10:26:07.849360: I tensorflow/core/grappler/optimizers/custom_graph_optimizer_registry.cc:113] Plugin optimizer for device_type GPU is enabled.\n"
     ]
    },
    {
     "name": "stdout",
     "output_type": "stream",
     "text": [
      "41/41 [==============================] - 0s 2ms/step\n"
     ]
    },
    {
     "name": "stderr",
     "output_type": "stream",
     "text": [
      "2023-04-19 10:26:08.282987: I tensorflow/core/grappler/optimizers/custom_graph_optimizer_registry.cc:113] Plugin optimizer for device_type GPU is enabled.\n"
     ]
    },
    {
     "name": "stdout",
     "output_type": "stream",
     "text": [
      "41/41 [==============================] - 0s 3ms/step\n"
     ]
    },
    {
     "name": "stderr",
     "output_type": "stream",
     "text": [
      "2023-04-19 10:26:12.772936: I tensorflow/core/grappler/optimizers/custom_graph_optimizer_registry.cc:113] Plugin optimizer for device_type GPU is enabled.\n"
     ]
    },
    {
     "name": "stdout",
     "output_type": "stream",
     "text": [
      "41/41 [==============================] - 0s 2ms/step\n"
     ]
    },
    {
     "name": "stderr",
     "output_type": "stream",
     "text": [
      "2023-04-19 10:26:13.203125: I tensorflow/core/grappler/optimizers/custom_graph_optimizer_registry.cc:113] Plugin optimizer for device_type GPU is enabled.\n"
     ]
    },
    {
     "name": "stdout",
     "output_type": "stream",
     "text": [
      "41/41 [==============================] - 0s 3ms/step\n"
     ]
    },
    {
     "name": "stderr",
     "output_type": "stream",
     "text": [
      "2023-04-19 10:26:17.694856: I tensorflow/core/grappler/optimizers/custom_graph_optimizer_registry.cc:113] Plugin optimizer for device_type GPU is enabled.\n"
     ]
    },
    {
     "name": "stdout",
     "output_type": "stream",
     "text": [
      "41/41 [==============================] - 0s 2ms/step\n"
     ]
    },
    {
     "name": "stderr",
     "output_type": "stream",
     "text": [
      "2023-04-19 10:26:18.126220: I tensorflow/core/grappler/optimizers/custom_graph_optimizer_registry.cc:113] Plugin optimizer for device_type GPU is enabled.\n"
     ]
    },
    {
     "name": "stdout",
     "output_type": "stream",
     "text": [
      "41/41 [==============================] - 0s 3ms/step\n"
     ]
    },
    {
     "name": "stderr",
     "output_type": "stream",
     "text": [
      "2023-04-19 10:26:22.556994: I tensorflow/core/grappler/optimizers/custom_graph_optimizer_registry.cc:113] Plugin optimizer for device_type GPU is enabled.\n"
     ]
    },
    {
     "name": "stdout",
     "output_type": "stream",
     "text": [
      "41/41 [==============================] - 0s 2ms/step\n"
     ]
    },
    {
     "name": "stderr",
     "output_type": "stream",
     "text": [
      "2023-04-19 10:26:22.992139: I tensorflow/core/grappler/optimizers/custom_graph_optimizer_registry.cc:113] Plugin optimizer for device_type GPU is enabled.\n"
     ]
    },
    {
     "name": "stdout",
     "output_type": "stream",
     "text": [
      "41/41 [==============================] - 0s 3ms/step\n"
     ]
    },
    {
     "name": "stderr",
     "output_type": "stream",
     "text": [
      "2023-04-19 10:26:27.227993: I tensorflow/core/grappler/optimizers/custom_graph_optimizer_registry.cc:113] Plugin optimizer for device_type GPU is enabled.\n"
     ]
    },
    {
     "name": "stdout",
     "output_type": "stream",
     "text": [
      "41/41 [==============================] - 0s 2ms/step\n"
     ]
    },
    {
     "name": "stderr",
     "output_type": "stream",
     "text": [
      "2023-04-19 10:26:27.660790: I tensorflow/core/grappler/optimizers/custom_graph_optimizer_registry.cc:113] Plugin optimizer for device_type GPU is enabled.\n"
     ]
    },
    {
     "name": "stdout",
     "output_type": "stream",
     "text": [
      "41/41 [==============================] - 0s 3ms/step\n",
      " 1/41 [..............................] - ETA: 0s"
     ]
    },
    {
     "name": "stderr",
     "output_type": "stream",
     "text": [
      "2023-04-19 10:26:31.909029: I tensorflow/core/grappler/optimizers/custom_graph_optimizer_registry.cc:113] Plugin optimizer for device_type GPU is enabled.\n"
     ]
    },
    {
     "name": "stdout",
     "output_type": "stream",
     "text": [
      "41/41 [==============================] - 0s 2ms/step\n"
     ]
    },
    {
     "name": "stderr",
     "output_type": "stream",
     "text": [
      "2023-04-19 10:26:32.319117: I tensorflow/core/grappler/optimizers/custom_graph_optimizer_registry.cc:113] Plugin optimizer for device_type GPU is enabled.\n"
     ]
    },
    {
     "name": "stdout",
     "output_type": "stream",
     "text": [
      "41/41 [==============================] - 0s 3ms/step\n"
     ]
    },
    {
     "name": "stderr",
     "output_type": "stream",
     "text": [
      "2023-04-19 10:26:36.719542: I tensorflow/core/grappler/optimizers/custom_graph_optimizer_registry.cc:113] Plugin optimizer for device_type GPU is enabled.\n"
     ]
    },
    {
     "name": "stdout",
     "output_type": "stream",
     "text": [
      "41/41 [==============================] - 0s 2ms/step\n"
     ]
    },
    {
     "name": "stderr",
     "output_type": "stream",
     "text": [
      "2023-04-19 10:26:37.171147: I tensorflow/core/grappler/optimizers/custom_graph_optimizer_registry.cc:113] Plugin optimizer for device_type GPU is enabled.\n"
     ]
    },
    {
     "name": "stdout",
     "output_type": "stream",
     "text": [
      "41/41 [==============================] - 0s 3ms/step\n"
     ]
    },
    {
     "name": "stderr",
     "output_type": "stream",
     "text": [
      "2023-04-19 10:26:41.711046: I tensorflow/core/grappler/optimizers/custom_graph_optimizer_registry.cc:113] Plugin optimizer for device_type GPU is enabled.\n"
     ]
    },
    {
     "name": "stdout",
     "output_type": "stream",
     "text": [
      "41/41 [==============================] - 0s 2ms/step\n"
     ]
    },
    {
     "name": "stderr",
     "output_type": "stream",
     "text": [
      "2023-04-19 10:26:42.147935: I tensorflow/core/grappler/optimizers/custom_graph_optimizer_registry.cc:113] Plugin optimizer for device_type GPU is enabled.\n"
     ]
    },
    {
     "name": "stdout",
     "output_type": "stream",
     "text": [
      "21/41 [==============>...............] - ETA: 0s"
     ]
    },
    {
     "name": "stderr",
     "output_type": "stream",
     "text": [
      "2023-04-19 10:26:47.181414: I tensorflow/core/grappler/optimizers/custom_graph_optimizer_registry.cc:113] Plugin optimizer for device_type GPU is enabled.\n"
     ]
    },
    {
     "name": "stdout",
     "output_type": "stream",
     "text": [
      "41/41 [==============================] - 0s 4ms/step\n",
      "41/41 [==============================] - 0s 2ms/step\n"
     ]
    },
    {
     "name": "stderr",
     "output_type": "stream",
     "text": [
      "2023-04-19 10:26:47.632275: I tensorflow/core/grappler/optimizers/custom_graph_optimizer_registry.cc:113] Plugin optimizer for device_type GPU is enabled.\n"
     ]
    },
    {
     "name": "stdout",
     "output_type": "stream",
     "text": [
      "22/41 [===============>..............] - ETA: 0s"
     ]
    },
    {
     "name": "stderr",
     "output_type": "stream",
     "text": [
      "2023-04-19 10:26:52.677760: I tensorflow/core/grappler/optimizers/custom_graph_optimizer_registry.cc:113] Plugin optimizer for device_type GPU is enabled.\n"
     ]
    },
    {
     "name": "stdout",
     "output_type": "stream",
     "text": [
      "41/41 [==============================] - 0s 4ms/step\n",
      "41/41 [==============================] - 0s 2ms/step\n"
     ]
    },
    {
     "name": "stderr",
     "output_type": "stream",
     "text": [
      "2023-04-19 10:26:53.129951: I tensorflow/core/grappler/optimizers/custom_graph_optimizer_registry.cc:113] Plugin optimizer for device_type GPU is enabled.\n"
     ]
    },
    {
     "name": "stdout",
     "output_type": "stream",
     "text": [
      "41/41 [==============================] - 0s 3ms/step\n"
     ]
    },
    {
     "name": "stderr",
     "output_type": "stream",
     "text": [
      "2023-04-19 10:26:58.094325: I tensorflow/core/grappler/optimizers/custom_graph_optimizer_registry.cc:113] Plugin optimizer for device_type GPU is enabled.\n"
     ]
    },
    {
     "name": "stdout",
     "output_type": "stream",
     "text": [
      "41/41 [==============================] - 0s 2ms/step\n"
     ]
    },
    {
     "name": "stderr",
     "output_type": "stream",
     "text": [
      "2023-04-19 10:26:58.525099: I tensorflow/core/grappler/optimizers/custom_graph_optimizer_registry.cc:113] Plugin optimizer for device_type GPU is enabled.\n"
     ]
    },
    {
     "name": "stdout",
     "output_type": "stream",
     "text": [
      "25/41 [=================>............] - ETA: 0s"
     ]
    },
    {
     "name": "stderr",
     "output_type": "stream",
     "text": [
      "2023-04-19 10:27:03.521930: I tensorflow/core/grappler/optimizers/custom_graph_optimizer_registry.cc:113] Plugin optimizer for device_type GPU is enabled.\n"
     ]
    },
    {
     "name": "stdout",
     "output_type": "stream",
     "text": [
      "41/41 [==============================] - 0s 3ms/step\n",
      "41/41 [==============================] - 0s 2ms/step\n"
     ]
    },
    {
     "name": "stderr",
     "output_type": "stream",
     "text": [
      "2023-04-19 10:27:03.976791: I tensorflow/core/grappler/optimizers/custom_graph_optimizer_registry.cc:113] Plugin optimizer for device_type GPU is enabled.\n"
     ]
    },
    {
     "name": "stdout",
     "output_type": "stream",
     "text": [
      "23/41 [===============>..............] - ETA: 0s"
     ]
    },
    {
     "name": "stderr",
     "output_type": "stream",
     "text": [
      "2023-04-19 10:27:09.188233: I tensorflow/core/grappler/optimizers/custom_graph_optimizer_registry.cc:113] Plugin optimizer for device_type GPU is enabled.\n"
     ]
    },
    {
     "name": "stdout",
     "output_type": "stream",
     "text": [
      "41/41 [==============================] - 0s 3ms/step\n",
      "41/41 [==============================] - 0s 2ms/step\n"
     ]
    },
    {
     "name": "stderr",
     "output_type": "stream",
     "text": [
      "2023-04-19 10:27:09.649943: I tensorflow/core/grappler/optimizers/custom_graph_optimizer_registry.cc:113] Plugin optimizer for device_type GPU is enabled.\n"
     ]
    },
    {
     "name": "stdout",
     "output_type": "stream",
     "text": [
      "25/41 [=================>............] - ETA: 0s"
     ]
    },
    {
     "name": "stderr",
     "output_type": "stream",
     "text": [
      "2023-04-19 10:27:14.967738: I tensorflow/core/grappler/optimizers/custom_graph_optimizer_registry.cc:113] Plugin optimizer for device_type GPU is enabled.\n"
     ]
    },
    {
     "name": "stdout",
     "output_type": "stream",
     "text": [
      "41/41 [==============================] - 0s 3ms/step\n",
      "41/41 [==============================] - 0s 2ms/step\n"
     ]
    },
    {
     "name": "stderr",
     "output_type": "stream",
     "text": [
      "2023-04-19 10:27:15.423937: I tensorflow/core/grappler/optimizers/custom_graph_optimizer_registry.cc:113] Plugin optimizer for device_type GPU is enabled.\n"
     ]
    },
    {
     "name": "stdout",
     "output_type": "stream",
     "text": [
      "\r",
      " 1/41 [..............................] - ETA: 7s"
     ]
    },
    {
     "name": "stderr",
     "output_type": "stream",
     "text": [
      "2023-04-19 10:27:22.806711: I tensorflow/core/grappler/optimizers/custom_graph_optimizer_registry.cc:113] Plugin optimizer for device_type GPU is enabled.\n"
     ]
    },
    {
     "name": "stdout",
     "output_type": "stream",
     "text": [
      "41/41 [==============================] - 0s 6ms/step\n",
      "41/41 [==============================] - 0s 2ms/step\n"
     ]
    },
    {
     "name": "stderr",
     "output_type": "stream",
     "text": [
      "2023-04-19 10:27:23.538211: I tensorflow/core/grappler/optimizers/custom_graph_optimizer_registry.cc:113] Plugin optimizer for device_type GPU is enabled.\n"
     ]
    },
    {
     "name": "stdout",
     "output_type": "stream",
     "text": [
      "41/41 [==============================] - 0s 3ms/step\n"
     ]
    },
    {
     "name": "stderr",
     "output_type": "stream",
     "text": [
      "2023-04-19 10:27:29.041631: I tensorflow/core/grappler/optimizers/custom_graph_optimizer_registry.cc:113] Plugin optimizer for device_type GPU is enabled.\n"
     ]
    },
    {
     "name": "stdout",
     "output_type": "stream",
     "text": [
      "41/41 [==============================] - 0s 2ms/step\n"
     ]
    },
    {
     "name": "stderr",
     "output_type": "stream",
     "text": [
      "2023-04-19 10:27:29.478637: I tensorflow/core/grappler/optimizers/custom_graph_optimizer_registry.cc:113] Plugin optimizer for device_type GPU is enabled.\n"
     ]
    },
    {
     "name": "stdout",
     "output_type": "stream",
     "text": [
      "41/41 [==============================] - 0s 3ms/step\n"
     ]
    },
    {
     "name": "stderr",
     "output_type": "stream",
     "text": [
      "2023-04-19 10:27:34.719294: I tensorflow/core/grappler/optimizers/custom_graph_optimizer_registry.cc:113] Plugin optimizer for device_type GPU is enabled.\n"
     ]
    },
    {
     "name": "stdout",
     "output_type": "stream",
     "text": [
      "41/41 [==============================] - 0s 2ms/step\n"
     ]
    },
    {
     "name": "stderr",
     "output_type": "stream",
     "text": [
      "2023-04-19 10:27:35.148264: I tensorflow/core/grappler/optimizers/custom_graph_optimizer_registry.cc:113] Plugin optimizer for device_type GPU is enabled.\n"
     ]
    },
    {
     "name": "stdout",
     "output_type": "stream",
     "text": [
      "41/41 [==============================] - 0s 3ms/step\n",
      " 1/41 [..............................] - ETA: 0s"
     ]
    },
    {
     "name": "stderr",
     "output_type": "stream",
     "text": [
      "2023-04-19 10:27:40.520838: I tensorflow/core/grappler/optimizers/custom_graph_optimizer_registry.cc:113] Plugin optimizer for device_type GPU is enabled.\n"
     ]
    },
    {
     "name": "stdout",
     "output_type": "stream",
     "text": [
      "41/41 [==============================] - 0s 2ms/step\n"
     ]
    },
    {
     "name": "stderr",
     "output_type": "stream",
     "text": [
      "2023-04-19 10:27:40.929975: I tensorflow/core/grappler/optimizers/custom_graph_optimizer_registry.cc:113] Plugin optimizer for device_type GPU is enabled.\n"
     ]
    },
    {
     "name": "stdout",
     "output_type": "stream",
     "text": [
      "41/41 [==============================] - 0s 3ms/step\n"
     ]
    },
    {
     "name": "stderr",
     "output_type": "stream",
     "text": [
      "2023-04-19 10:27:46.238080: I tensorflow/core/grappler/optimizers/custom_graph_optimizer_registry.cc:113] Plugin optimizer for device_type GPU is enabled.\n"
     ]
    },
    {
     "name": "stdout",
     "output_type": "stream",
     "text": [
      "41/41 [==============================] - 0s 2ms/step\n"
     ]
    },
    {
     "name": "stderr",
     "output_type": "stream",
     "text": [
      "2023-04-19 10:27:46.667889: I tensorflow/core/grappler/optimizers/custom_graph_optimizer_registry.cc:113] Plugin optimizer for device_type GPU is enabled.\n"
     ]
    },
    {
     "name": "stdout",
     "output_type": "stream",
     "text": [
      "26/41 [==================>...........] - ETA: 0s"
     ]
    },
    {
     "name": "stderr",
     "output_type": "stream",
     "text": [
      "2023-04-19 10:27:51.765102: I tensorflow/core/grappler/optimizers/custom_graph_optimizer_registry.cc:113] Plugin optimizer for device_type GPU is enabled.\n"
     ]
    },
    {
     "name": "stdout",
     "output_type": "stream",
     "text": [
      "41/41 [==============================] - 0s 4ms/step\n",
      "41/41 [==============================] - 0s 2ms/step\n"
     ]
    },
    {
     "name": "stderr",
     "output_type": "stream",
     "text": [
      "2023-04-19 10:27:52.258732: I tensorflow/core/grappler/optimizers/custom_graph_optimizer_registry.cc:113] Plugin optimizer for device_type GPU is enabled.\n"
     ]
    },
    {
     "name": "stdout",
     "output_type": "stream",
     "text": [
      "41/41 [==============================] - 0s 3ms/step\n"
     ]
    },
    {
     "name": "stderr",
     "output_type": "stream",
     "text": [
      "2023-04-19 10:27:57.289176: I tensorflow/core/grappler/optimizers/custom_graph_optimizer_registry.cc:113] Plugin optimizer for device_type GPU is enabled.\n"
     ]
    },
    {
     "name": "stdout",
     "output_type": "stream",
     "text": [
      "41/41 [==============================] - 0s 2ms/step\n"
     ]
    },
    {
     "name": "stderr",
     "output_type": "stream",
     "text": [
      "2023-04-19 10:27:57.717737: I tensorflow/core/grappler/optimizers/custom_graph_optimizer_registry.cc:113] Plugin optimizer for device_type GPU is enabled.\n"
     ]
    },
    {
     "name": "stdout",
     "output_type": "stream",
     "text": [
      "16/41 [==========>...................] - ETA: 0s"
     ]
    },
    {
     "name": "stderr",
     "output_type": "stream",
     "text": [
      "2023-04-19 10:28:03.007414: I tensorflow/core/grappler/optimizers/custom_graph_optimizer_registry.cc:113] Plugin optimizer for device_type GPU is enabled.\n"
     ]
    },
    {
     "name": "stdout",
     "output_type": "stream",
     "text": [
      "41/41 [==============================] - 0s 3ms/step\n",
      "41/41 [==============================] - 0s 1ms/step\n"
     ]
    },
    {
     "name": "stderr",
     "output_type": "stream",
     "text": [
      "2023-04-19 10:28:03.444966: I tensorflow/core/grappler/optimizers/custom_graph_optimizer_registry.cc:113] Plugin optimizer for device_type GPU is enabled.\n"
     ]
    },
    {
     "name": "stdout",
     "output_type": "stream",
     "text": [
      "25/41 [=================>............] - ETA: 0s"
     ]
    },
    {
     "name": "stderr",
     "output_type": "stream",
     "text": [
      "2023-04-19 10:28:08.823357: I tensorflow/core/grappler/optimizers/custom_graph_optimizer_registry.cc:113] Plugin optimizer for device_type GPU is enabled.\n"
     ]
    },
    {
     "name": "stdout",
     "output_type": "stream",
     "text": [
      "41/41 [==============================] - 0s 4ms/step\n",
      "41/41 [==============================] - 0s 2ms/step\n"
     ]
    },
    {
     "name": "stderr",
     "output_type": "stream",
     "text": [
      "2023-04-19 10:28:09.337485: I tensorflow/core/grappler/optimizers/custom_graph_optimizer_registry.cc:113] Plugin optimizer for device_type GPU is enabled.\n"
     ]
    },
    {
     "name": "stdout",
     "output_type": "stream",
     "text": [
      "41/41 [==============================] - 0s 3ms/step\n"
     ]
    },
    {
     "name": "stderr",
     "output_type": "stream",
     "text": [
      "2023-04-19 10:28:14.741236: I tensorflow/core/grappler/optimizers/custom_graph_optimizer_registry.cc:113] Plugin optimizer for device_type GPU is enabled.\n"
     ]
    },
    {
     "name": "stdout",
     "output_type": "stream",
     "text": [
      "41/41 [==============================] - 0s 2ms/step\n"
     ]
    },
    {
     "name": "stderr",
     "output_type": "stream",
     "text": [
      "2023-04-19 10:28:15.180893: I tensorflow/core/grappler/optimizers/custom_graph_optimizer_registry.cc:113] Plugin optimizer for device_type GPU is enabled.\n"
     ]
    },
    {
     "name": "stdout",
     "output_type": "stream",
     "text": [
      "24/41 [================>.............] - ETA: 0s"
     ]
    },
    {
     "name": "stderr",
     "output_type": "stream",
     "text": [
      "2023-04-19 10:28:20.638799: I tensorflow/core/grappler/optimizers/custom_graph_optimizer_registry.cc:113] Plugin optimizer for device_type GPU is enabled.\n"
     ]
    },
    {
     "name": "stdout",
     "output_type": "stream",
     "text": [
      "41/41 [==============================] - 0s 3ms/step\n",
      "41/41 [==============================] - 0s 2ms/step\n"
     ]
    },
    {
     "name": "stderr",
     "output_type": "stream",
     "text": [
      "2023-04-19 10:28:21.101573: I tensorflow/core/grappler/optimizers/custom_graph_optimizer_registry.cc:113] Plugin optimizer for device_type GPU is enabled.\n"
     ]
    },
    {
     "name": "stdout",
     "output_type": "stream",
     "text": [
      "41/41 [==============================] - 0s 3ms/step\n"
     ]
    },
    {
     "name": "stderr",
     "output_type": "stream",
     "text": [
      "2023-04-19 10:28:26.421140: I tensorflow/core/grappler/optimizers/custom_graph_optimizer_registry.cc:113] Plugin optimizer for device_type GPU is enabled.\n"
     ]
    },
    {
     "name": "stdout",
     "output_type": "stream",
     "text": [
      "41/41 [==============================] - 0s 2ms/step\n"
     ]
    },
    {
     "name": "stderr",
     "output_type": "stream",
     "text": [
      "2023-04-19 10:28:26.871003: I tensorflow/core/grappler/optimizers/custom_graph_optimizer_registry.cc:113] Plugin optimizer for device_type GPU is enabled.\n"
     ]
    },
    {
     "name": "stdout",
     "output_type": "stream",
     "text": [
      "22/41 [===============>..............] - ETA: 0s"
     ]
    },
    {
     "name": "stderr",
     "output_type": "stream",
     "text": [
      "2023-04-19 10:28:32.236887: I tensorflow/core/grappler/optimizers/custom_graph_optimizer_registry.cc:113] Plugin optimizer for device_type GPU is enabled.\n"
     ]
    },
    {
     "name": "stdout",
     "output_type": "stream",
     "text": [
      "41/41 [==============================] - 0s 4ms/step\n",
      "41/41 [==============================] - 0s 2ms/step\n"
     ]
    },
    {
     "name": "stderr",
     "output_type": "stream",
     "text": [
      "2023-04-19 10:28:32.679850: I tensorflow/core/grappler/optimizers/custom_graph_optimizer_registry.cc:113] Plugin optimizer for device_type GPU is enabled.\n"
     ]
    },
    {
     "name": "stdout",
     "output_type": "stream",
     "text": [
      "22/41 [===============>..............] - ETA: 0s"
     ]
    },
    {
     "name": "stderr",
     "output_type": "stream",
     "text": [
      "2023-04-19 10:28:38.275162: I tensorflow/core/grappler/optimizers/custom_graph_optimizer_registry.cc:113] Plugin optimizer for device_type GPU is enabled.\n"
     ]
    },
    {
     "name": "stdout",
     "output_type": "stream",
     "text": [
      "41/41 [==============================] - 0s 4ms/step\n",
      "41/41 [==============================] - 0s 2ms/step\n"
     ]
    },
    {
     "name": "stderr",
     "output_type": "stream",
     "text": [
      "2023-04-19 10:28:38.771251: I tensorflow/core/grappler/optimizers/custom_graph_optimizer_registry.cc:113] Plugin optimizer for device_type GPU is enabled.\n"
     ]
    },
    {
     "name": "stdout",
     "output_type": "stream",
     "text": [
      "41/41 [==============================] - ETA: 0s"
     ]
    },
    {
     "name": "stderr",
     "output_type": "stream",
     "text": [
      "2023-04-19 10:28:44.160309: I tensorflow/core/grappler/optimizers/custom_graph_optimizer_registry.cc:113] Plugin optimizer for device_type GPU is enabled.\n"
     ]
    },
    {
     "name": "stdout",
     "output_type": "stream",
     "text": [
      "41/41 [==============================] - 0s 3ms/step\n",
      "41/41 [==============================] - 0s 2ms/step\n"
     ]
    },
    {
     "name": "stderr",
     "output_type": "stream",
     "text": [
      "2023-04-19 10:28:44.613476: I tensorflow/core/grappler/optimizers/custom_graph_optimizer_registry.cc:113] Plugin optimizer for device_type GPU is enabled.\n"
     ]
    },
    {
     "name": "stdout",
     "output_type": "stream",
     "text": [
      "41/41 [==============================] - 0s 3ms/step\n"
     ]
    },
    {
     "name": "stderr",
     "output_type": "stream",
     "text": [
      "2023-04-19 10:28:49.757664: I tensorflow/core/grappler/optimizers/custom_graph_optimizer_registry.cc:113] Plugin optimizer for device_type GPU is enabled.\n"
     ]
    },
    {
     "name": "stdout",
     "output_type": "stream",
     "text": [
      "41/41 [==============================] - 0s 2ms/step\n"
     ]
    },
    {
     "name": "stderr",
     "output_type": "stream",
     "text": [
      "2023-04-19 10:28:50.196948: I tensorflow/core/grappler/optimizers/custom_graph_optimizer_registry.cc:113] Plugin optimizer for device_type GPU is enabled.\n"
     ]
    },
    {
     "name": "stdout",
     "output_type": "stream",
     "text": [
      "41/41 [==============================] - 0s 3ms/step\n"
     ]
    },
    {
     "name": "stderr",
     "output_type": "stream",
     "text": [
      "2023-04-19 10:28:55.934235: I tensorflow/core/grappler/optimizers/custom_graph_optimizer_registry.cc:113] Plugin optimizer for device_type GPU is enabled.\n"
     ]
    },
    {
     "name": "stdout",
     "output_type": "stream",
     "text": [
      "41/41 [==============================] - 0s 2ms/step\n"
     ]
    },
    {
     "name": "stderr",
     "output_type": "stream",
     "text": [
      "2023-04-19 10:28:56.383130: I tensorflow/core/grappler/optimizers/custom_graph_optimizer_registry.cc:113] Plugin optimizer for device_type GPU is enabled.\n"
     ]
    },
    {
     "name": "stdout",
     "output_type": "stream",
     "text": [
      "41/41 [==============================] - 0s 3ms/step\n"
     ]
    },
    {
     "name": "stderr",
     "output_type": "stream",
     "text": [
      "2023-04-19 10:29:02.032318: I tensorflow/core/grappler/optimizers/custom_graph_optimizer_registry.cc:113] Plugin optimizer for device_type GPU is enabled.\n"
     ]
    },
    {
     "name": "stdout",
     "output_type": "stream",
     "text": [
      "41/41 [==============================] - 0s 2ms/step\n"
     ]
    },
    {
     "name": "stderr",
     "output_type": "stream",
     "text": [
      "2023-04-19 10:29:02.468359: I tensorflow/core/grappler/optimizers/custom_graph_optimizer_registry.cc:113] Plugin optimizer for device_type GPU is enabled.\n"
     ]
    },
    {
     "name": "stdout",
     "output_type": "stream",
     "text": [
      "41/41 [==============================] - 0s 3ms/step\n"
     ]
    },
    {
     "name": "stderr",
     "output_type": "stream",
     "text": [
      "2023-04-19 10:29:07.385430: I tensorflow/core/grappler/optimizers/custom_graph_optimizer_registry.cc:113] Plugin optimizer for device_type GPU is enabled.\n"
     ]
    },
    {
     "name": "stdout",
     "output_type": "stream",
     "text": [
      "41/41 [==============================] - 0s 2ms/step\n"
     ]
    },
    {
     "name": "stderr",
     "output_type": "stream",
     "text": [
      "2023-04-19 10:29:07.809488: I tensorflow/core/grappler/optimizers/custom_graph_optimizer_registry.cc:113] Plugin optimizer for device_type GPU is enabled.\n"
     ]
    },
    {
     "name": "stdout",
     "output_type": "stream",
     "text": [
      "18/41 [============>.................] - ETA: 0s"
     ]
    },
    {
     "name": "stderr",
     "output_type": "stream",
     "text": [
      "2023-04-19 10:29:13.313311: I tensorflow/core/grappler/optimizers/custom_graph_optimizer_registry.cc:113] Plugin optimizer for device_type GPU is enabled.\n"
     ]
    },
    {
     "name": "stdout",
     "output_type": "stream",
     "text": [
      "41/41 [==============================] - 0s 3ms/step\n",
      "41/41 [==============================] - 0s 2ms/step\n"
     ]
    },
    {
     "name": "stderr",
     "output_type": "stream",
     "text": [
      "2023-04-19 10:29:13.764713: I tensorflow/core/grappler/optimizers/custom_graph_optimizer_registry.cc:113] Plugin optimizer for device_type GPU is enabled.\n"
     ]
    },
    {
     "name": "stdout",
     "output_type": "stream",
     "text": [
      "24/41 [================>.............] - ETA: 0s"
     ]
    },
    {
     "name": "stderr",
     "output_type": "stream",
     "text": [
      "2023-04-19 10:29:19.183357: I tensorflow/core/grappler/optimizers/custom_graph_optimizer_registry.cc:113] Plugin optimizer for device_type GPU is enabled.\n"
     ]
    },
    {
     "name": "stdout",
     "output_type": "stream",
     "text": [
      "41/41 [==============================] - 0s 4ms/step\n",
      "41/41 [==============================] - 0s 2ms/step\n"
     ]
    },
    {
     "name": "stderr",
     "output_type": "stream",
     "text": [
      "2023-04-19 10:29:19.639425: I tensorflow/core/grappler/optimizers/custom_graph_optimizer_registry.cc:113] Plugin optimizer for device_type GPU is enabled.\n"
     ]
    },
    {
     "name": "stdout",
     "output_type": "stream",
     "text": [
      "41/41 [==============================] - 0s 3ms/step\n"
     ]
    },
    {
     "name": "stderr",
     "output_type": "stream",
     "text": [
      "2023-04-19 10:29:25.420205: I tensorflow/core/grappler/optimizers/custom_graph_optimizer_registry.cc:113] Plugin optimizer for device_type GPU is enabled.\n"
     ]
    },
    {
     "name": "stdout",
     "output_type": "stream",
     "text": [
      "41/41 [==============================] - 0s 2ms/step\n"
     ]
    },
    {
     "name": "stderr",
     "output_type": "stream",
     "text": [
      "2023-04-19 10:29:25.862363: I tensorflow/core/grappler/optimizers/custom_graph_optimizer_registry.cc:113] Plugin optimizer for device_type GPU is enabled.\n"
     ]
    },
    {
     "name": "stdout",
     "output_type": "stream",
     "text": [
      "25/41 [=================>............] - ETA: 0s"
     ]
    },
    {
     "name": "stderr",
     "output_type": "stream",
     "text": [
      "2023-04-19 10:29:31.410456: I tensorflow/core/grappler/optimizers/custom_graph_optimizer_registry.cc:113] Plugin optimizer for device_type GPU is enabled.\n"
     ]
    },
    {
     "name": "stdout",
     "output_type": "stream",
     "text": [
      "41/41 [==============================] - 0s 4ms/step\n",
      "41/41 [==============================] - 0s 2ms/step\n"
     ]
    },
    {
     "name": "stderr",
     "output_type": "stream",
     "text": [
      "2023-04-19 10:29:31.924100: I tensorflow/core/grappler/optimizers/custom_graph_optimizer_registry.cc:113] Plugin optimizer for device_type GPU is enabled.\n"
     ]
    },
    {
     "name": "stdout",
     "output_type": "stream",
     "text": [
      "41/41 [==============================] - 0s 3ms/step\n"
     ]
    },
    {
     "name": "stderr",
     "output_type": "stream",
     "text": [
      "2023-04-19 10:29:37.281559: I tensorflow/core/grappler/optimizers/custom_graph_optimizer_registry.cc:113] Plugin optimizer for device_type GPU is enabled.\n"
     ]
    },
    {
     "name": "stdout",
     "output_type": "stream",
     "text": [
      "41/41 [==============================] - 0s 2ms/step\n"
     ]
    },
    {
     "name": "stderr",
     "output_type": "stream",
     "text": [
      "2023-04-19 10:29:37.720529: I tensorflow/core/grappler/optimizers/custom_graph_optimizer_registry.cc:113] Plugin optimizer for device_type GPU is enabled.\n"
     ]
    },
    {
     "name": "stdout",
     "output_type": "stream",
     "text": [
      "41/41 [==============================] - 0s 4ms/step\n"
     ]
    },
    {
     "name": "stderr",
     "output_type": "stream",
     "text": [
      "2023-04-19 10:29:41.919645: I tensorflow/core/grappler/optimizers/custom_graph_optimizer_registry.cc:113] Plugin optimizer for device_type GPU is enabled.\n"
     ]
    },
    {
     "name": "stdout",
     "output_type": "stream",
     "text": [
      "41/41 [==============================] - 0s 2ms/step\n"
     ]
    },
    {
     "name": "stderr",
     "output_type": "stream",
     "text": [
      "2023-04-19 10:29:42.346854: I tensorflow/core/grappler/optimizers/custom_graph_optimizer_registry.cc:113] Plugin optimizer for device_type GPU is enabled.\n"
     ]
    },
    {
     "name": "stdout",
     "output_type": "stream",
     "text": [
      "41/41 [==============================] - ETA: 0s"
     ]
    },
    {
     "name": "stderr",
     "output_type": "stream",
     "text": [
      "2023-04-19 10:29:46.202058: I tensorflow/core/grappler/optimizers/custom_graph_optimizer_registry.cc:113] Plugin optimizer for device_type GPU is enabled.\n"
     ]
    },
    {
     "name": "stdout",
     "output_type": "stream",
     "text": [
      "41/41 [==============================] - 0s 3ms/step\n",
      "41/41 [==============================] - 0s 2ms/step\n"
     ]
    },
    {
     "name": "stderr",
     "output_type": "stream",
     "text": [
      "2023-04-19 10:29:46.639992: I tensorflow/core/grappler/optimizers/custom_graph_optimizer_registry.cc:113] Plugin optimizer for device_type GPU is enabled.\n"
     ]
    },
    {
     "name": "stdout",
     "output_type": "stream",
     "text": [
      "\r",
      " 1/41 [..............................] - ETA: 1:41"
     ]
    },
    {
     "name": "stderr",
     "output_type": "stream",
     "text": [
      "2023-04-19 10:29:52.798276: I tensorflow/core/grappler/optimizers/custom_graph_optimizer_registry.cc:113] Plugin optimizer for device_type GPU is enabled.\n"
     ]
    },
    {
     "name": "stdout",
     "output_type": "stream",
     "text": [
      "41/41 [==============================] - 3s 5ms/step\n",
      "41/41 [==============================] - 0s 2ms/step\n"
     ]
    },
    {
     "name": "stderr",
     "output_type": "stream",
     "text": [
      "2023-04-19 10:29:53.476638: I tensorflow/core/grappler/optimizers/custom_graph_optimizer_registry.cc:113] Plugin optimizer for device_type GPU is enabled.\n"
     ]
    },
    {
     "name": "stdout",
     "output_type": "stream",
     "text": [
      "41/41 [==============================] - 0s 3ms/step\n",
      " 1/41 [..............................] - ETA: 0s"
     ]
    },
    {
     "name": "stderr",
     "output_type": "stream",
     "text": [
      "2023-04-19 10:29:57.684175: I tensorflow/core/grappler/optimizers/custom_graph_optimizer_registry.cc:113] Plugin optimizer for device_type GPU is enabled.\n"
     ]
    },
    {
     "name": "stdout",
     "output_type": "stream",
     "text": [
      "41/41 [==============================] - 0s 2ms/step\n"
     ]
    },
    {
     "name": "stderr",
     "output_type": "stream",
     "text": [
      "2023-04-19 10:29:58.080364: I tensorflow/core/grappler/optimizers/custom_graph_optimizer_registry.cc:113] Plugin optimizer for device_type GPU is enabled.\n"
     ]
    },
    {
     "name": "stdout",
     "output_type": "stream",
     "text": [
      "41/41 [==============================] - 0s 3ms/step\n",
      " 1/41 [..............................] - ETA: 0s"
     ]
    },
    {
     "name": "stderr",
     "output_type": "stream",
     "text": [
      "2023-04-19 10:30:02.198446: I tensorflow/core/grappler/optimizers/custom_graph_optimizer_registry.cc:113] Plugin optimizer for device_type GPU is enabled.\n"
     ]
    },
    {
     "name": "stdout",
     "output_type": "stream",
     "text": [
      "41/41 [==============================] - 0s 2ms/step\n"
     ]
    },
    {
     "name": "stderr",
     "output_type": "stream",
     "text": [
      "2023-04-19 10:30:02.596419: I tensorflow/core/grappler/optimizers/custom_graph_optimizer_registry.cc:113] Plugin optimizer for device_type GPU is enabled.\n"
     ]
    },
    {
     "name": "stdout",
     "output_type": "stream",
     "text": [
      "41/41 [==============================] - 0s 2ms/step\n",
      " 1/41 [..............................] - ETA: 0s"
     ]
    },
    {
     "name": "stderr",
     "output_type": "stream",
     "text": [
      "2023-04-19 10:30:06.585359: I tensorflow/core/grappler/optimizers/custom_graph_optimizer_registry.cc:113] Plugin optimizer for device_type GPU is enabled.\n"
     ]
    },
    {
     "name": "stdout",
     "output_type": "stream",
     "text": [
      "41/41 [==============================] - 0s 2ms/step\n"
     ]
    },
    {
     "name": "stderr",
     "output_type": "stream",
     "text": [
      "2023-04-19 10:30:06.955559: I tensorflow/core/grappler/optimizers/custom_graph_optimizer_registry.cc:113] Plugin optimizer for device_type GPU is enabled.\n"
     ]
    },
    {
     "name": "stdout",
     "output_type": "stream",
     "text": [
      "41/41 [==============================] - 0s 3ms/step\n"
     ]
    },
    {
     "name": "stderr",
     "output_type": "stream",
     "text": [
      "2023-04-19 10:30:10.849509: I tensorflow/core/grappler/optimizers/custom_graph_optimizer_registry.cc:113] Plugin optimizer for device_type GPU is enabled.\n"
     ]
    },
    {
     "name": "stdout",
     "output_type": "stream",
     "text": [
      "41/41 [==============================] - 0s 2ms/step\n"
     ]
    },
    {
     "name": "stderr",
     "output_type": "stream",
     "text": [
      "2023-04-19 10:30:11.280544: I tensorflow/core/grappler/optimizers/custom_graph_optimizer_registry.cc:113] Plugin optimizer for device_type GPU is enabled.\n"
     ]
    },
    {
     "name": "stdout",
     "output_type": "stream",
     "text": [
      "41/41 [==============================] - 0s 3ms/step\n"
     ]
    },
    {
     "name": "stderr",
     "output_type": "stream",
     "text": [
      "2023-04-19 10:30:15.000481: I tensorflow/core/grappler/optimizers/custom_graph_optimizer_registry.cc:113] Plugin optimizer for device_type GPU is enabled.\n"
     ]
    },
    {
     "name": "stdout",
     "output_type": "stream",
     "text": [
      "41/41 [==============================] - 0s 1ms/step\n"
     ]
    },
    {
     "name": "stderr",
     "output_type": "stream",
     "text": [
      "2023-04-19 10:30:15.411549: I tensorflow/core/grappler/optimizers/custom_graph_optimizer_registry.cc:113] Plugin optimizer for device_type GPU is enabled.\n"
     ]
    },
    {
     "name": "stdout",
     "output_type": "stream",
     "text": [
      "41/41 [==============================] - 0s 4ms/step\n"
     ]
    },
    {
     "name": "stderr",
     "output_type": "stream",
     "text": [
      "2023-04-19 10:30:19.346043: I tensorflow/core/grappler/optimizers/custom_graph_optimizer_registry.cc:113] Plugin optimizer for device_type GPU is enabled.\n"
     ]
    },
    {
     "name": "stdout",
     "output_type": "stream",
     "text": [
      "41/41 [==============================] - 0s 1ms/step\n"
     ]
    },
    {
     "name": "stderr",
     "output_type": "stream",
     "text": [
      "2023-04-19 10:30:19.769688: I tensorflow/core/grappler/optimizers/custom_graph_optimizer_registry.cc:113] Plugin optimizer for device_type GPU is enabled.\n"
     ]
    },
    {
     "name": "stdout",
     "output_type": "stream",
     "text": [
      "41/41 [==============================] - 0s 3ms/step\n",
      " 1/41 [..............................] - ETA: 0s"
     ]
    },
    {
     "name": "stderr",
     "output_type": "stream",
     "text": [
      "2023-04-19 10:30:23.614759: I tensorflow/core/grappler/optimizers/custom_graph_optimizer_registry.cc:113] Plugin optimizer for device_type GPU is enabled.\n"
     ]
    },
    {
     "name": "stdout",
     "output_type": "stream",
     "text": [
      "41/41 [==============================] - 0s 2ms/step\n"
     ]
    },
    {
     "name": "stderr",
     "output_type": "stream",
     "text": [
      "2023-04-19 10:30:24.003676: I tensorflow/core/grappler/optimizers/custom_graph_optimizer_registry.cc:113] Plugin optimizer for device_type GPU is enabled.\n"
     ]
    },
    {
     "name": "stdout",
     "output_type": "stream",
     "text": [
      "41/41 [==============================] - ETA: 0s"
     ]
    },
    {
     "name": "stderr",
     "output_type": "stream",
     "text": [
      "2023-04-19 10:30:27.936039: I tensorflow/core/grappler/optimizers/custom_graph_optimizer_registry.cc:113] Plugin optimizer for device_type GPU is enabled.\n"
     ]
    },
    {
     "name": "stdout",
     "output_type": "stream",
     "text": [
      "41/41 [==============================] - 0s 4ms/step\n",
      "41/41 [==============================] - 0s 2ms/step\n"
     ]
    },
    {
     "name": "stderr",
     "output_type": "stream",
     "text": [
      "2023-04-19 10:30:28.375763: I tensorflow/core/grappler/optimizers/custom_graph_optimizer_registry.cc:113] Plugin optimizer for device_type GPU is enabled.\n"
     ]
    },
    {
     "name": "stdout",
     "output_type": "stream",
     "text": [
      "41/41 [==============================] - 0s 3ms/step\n",
      " 1/41 [..............................] - ETA: 0s"
     ]
    },
    {
     "name": "stderr",
     "output_type": "stream",
     "text": [
      "2023-04-19 10:30:32.276343: I tensorflow/core/grappler/optimizers/custom_graph_optimizer_registry.cc:113] Plugin optimizer for device_type GPU is enabled.\n"
     ]
    },
    {
     "name": "stdout",
     "output_type": "stream",
     "text": [
      "41/41 [==============================] - 0s 2ms/step\n"
     ]
    },
    {
     "name": "stderr",
     "output_type": "stream",
     "text": [
      "2023-04-19 10:30:32.662233: I tensorflow/core/grappler/optimizers/custom_graph_optimizer_registry.cc:113] Plugin optimizer for device_type GPU is enabled.\n"
     ]
    },
    {
     "name": "stdout",
     "output_type": "stream",
     "text": [
      "41/41 [==============================] - 0s 3ms/step\n",
      " 1/41 [..............................] - ETA: 0s"
     ]
    },
    {
     "name": "stderr",
     "output_type": "stream",
     "text": [
      "2023-04-19 10:30:36.774001: I tensorflow/core/grappler/optimizers/custom_graph_optimizer_registry.cc:113] Plugin optimizer for device_type GPU is enabled.\n"
     ]
    },
    {
     "name": "stdout",
     "output_type": "stream",
     "text": [
      "41/41 [==============================] - 0s 2ms/step\n"
     ]
    },
    {
     "name": "stderr",
     "output_type": "stream",
     "text": [
      "2023-04-19 10:30:37.163785: I tensorflow/core/grappler/optimizers/custom_graph_optimizer_registry.cc:113] Plugin optimizer for device_type GPU is enabled.\n"
     ]
    },
    {
     "name": "stdout",
     "output_type": "stream",
     "text": [
      "41/41 [==============================] - 0s 3ms/step\n",
      " 1/41 [..............................] - ETA: 0s"
     ]
    },
    {
     "name": "stderr",
     "output_type": "stream",
     "text": [
      "2023-04-19 10:30:40.684301: I tensorflow/core/grappler/optimizers/custom_graph_optimizer_registry.cc:113] Plugin optimizer for device_type GPU is enabled.\n"
     ]
    },
    {
     "name": "stdout",
     "output_type": "stream",
     "text": [
      "41/41 [==============================] - 0s 2ms/step\n"
     ]
    },
    {
     "name": "stderr",
     "output_type": "stream",
     "text": [
      "2023-04-19 10:30:41.077868: I tensorflow/core/grappler/optimizers/custom_graph_optimizer_registry.cc:113] Plugin optimizer for device_type GPU is enabled.\n"
     ]
    },
    {
     "name": "stdout",
     "output_type": "stream",
     "text": [
      "41/41 [==============================] - 0s 3ms/step\n",
      " 1/41 [..............................] - ETA: 0s"
     ]
    },
    {
     "name": "stderr",
     "output_type": "stream",
     "text": [
      "2023-04-19 10:30:44.585619: I tensorflow/core/grappler/optimizers/custom_graph_optimizer_registry.cc:113] Plugin optimizer for device_type GPU is enabled.\n"
     ]
    },
    {
     "name": "stdout",
     "output_type": "stream",
     "text": [
      "41/41 [==============================] - 0s 2ms/step\n"
     ]
    },
    {
     "name": "stderr",
     "output_type": "stream",
     "text": [
      "2023-04-19 10:30:44.975758: I tensorflow/core/grappler/optimizers/custom_graph_optimizer_registry.cc:113] Plugin optimizer for device_type GPU is enabled.\n"
     ]
    },
    {
     "name": "stdout",
     "output_type": "stream",
     "text": [
      "41/41 [==============================] - 0s 3ms/step\n",
      " 1/41 [..............................] - ETA: 0s"
     ]
    },
    {
     "name": "stderr",
     "output_type": "stream",
     "text": [
      "2023-04-19 10:30:48.477295: I tensorflow/core/grappler/optimizers/custom_graph_optimizer_registry.cc:113] Plugin optimizer for device_type GPU is enabled.\n"
     ]
    },
    {
     "name": "stdout",
     "output_type": "stream",
     "text": [
      "41/41 [==============================] - 0s 2ms/step\n"
     ]
    },
    {
     "name": "stderr",
     "output_type": "stream",
     "text": [
      "2023-04-19 10:30:48.867002: I tensorflow/core/grappler/optimizers/custom_graph_optimizer_registry.cc:113] Plugin optimizer for device_type GPU is enabled.\n"
     ]
    },
    {
     "name": "stdout",
     "output_type": "stream",
     "text": [
      "41/41 [==============================] - 0s 3ms/step\n",
      " 1/41 [..............................] - ETA: 0s"
     ]
    },
    {
     "name": "stderr",
     "output_type": "stream",
     "text": [
      "2023-04-19 10:30:52.444580: I tensorflow/core/grappler/optimizers/custom_graph_optimizer_registry.cc:113] Plugin optimizer for device_type GPU is enabled.\n"
     ]
    },
    {
     "name": "stdout",
     "output_type": "stream",
     "text": [
      "41/41 [==============================] - 0s 2ms/step\n"
     ]
    },
    {
     "name": "stderr",
     "output_type": "stream",
     "text": [
      "2023-04-19 10:30:52.841530: I tensorflow/core/grappler/optimizers/custom_graph_optimizer_registry.cc:113] Plugin optimizer for device_type GPU is enabled.\n"
     ]
    },
    {
     "name": "stdout",
     "output_type": "stream",
     "text": [
      "41/41 [==============================] - 0s 2ms/step\n",
      " 1/41 [..............................] - ETA: 0s"
     ]
    },
    {
     "name": "stderr",
     "output_type": "stream",
     "text": [
      "2023-04-19 10:30:56.444990: I tensorflow/core/grappler/optimizers/custom_graph_optimizer_registry.cc:113] Plugin optimizer for device_type GPU is enabled.\n"
     ]
    },
    {
     "name": "stdout",
     "output_type": "stream",
     "text": [
      "41/41 [==============================] - 0s 2ms/step\n"
     ]
    },
    {
     "name": "stderr",
     "output_type": "stream",
     "text": [
      "2023-04-19 10:30:56.822030: I tensorflow/core/grappler/optimizers/custom_graph_optimizer_registry.cc:113] Plugin optimizer for device_type GPU is enabled.\n"
     ]
    },
    {
     "name": "stdout",
     "output_type": "stream",
     "text": [
      "41/41 [==============================] - 0s 3ms/step\n",
      " 1/41 [..............................] - ETA: 0s"
     ]
    },
    {
     "name": "stderr",
     "output_type": "stream",
     "text": [
      "2023-04-19 10:31:00.329944: I tensorflow/core/grappler/optimizers/custom_graph_optimizer_registry.cc:113] Plugin optimizer for device_type GPU is enabled.\n"
     ]
    },
    {
     "name": "stdout",
     "output_type": "stream",
     "text": [
      "41/41 [==============================] - 0s 2ms/step\n"
     ]
    },
    {
     "name": "stderr",
     "output_type": "stream",
     "text": [
      "2023-04-19 10:31:00.730857: I tensorflow/core/grappler/optimizers/custom_graph_optimizer_registry.cc:113] Plugin optimizer for device_type GPU is enabled.\n"
     ]
    },
    {
     "name": "stdout",
     "output_type": "stream",
     "text": [
      "17/41 [===========>..................] - ETA: 0s"
     ]
    },
    {
     "name": "stderr",
     "output_type": "stream",
     "text": [
      "2023-04-19 10:31:05.389904: I tensorflow/core/grappler/optimizers/custom_graph_optimizer_registry.cc:113] Plugin optimizer for device_type GPU is enabled.\n"
     ]
    },
    {
     "name": "stdout",
     "output_type": "stream",
     "text": [
      "41/41 [==============================] - 0s 4ms/step\n",
      "41/41 [==============================] - 0s 2ms/step\n"
     ]
    },
    {
     "name": "stderr",
     "output_type": "stream",
     "text": [
      "2023-04-19 10:31:05.861433: I tensorflow/core/grappler/optimizers/custom_graph_optimizer_registry.cc:113] Plugin optimizer for device_type GPU is enabled.\n"
     ]
    },
    {
     "name": "stdout",
     "output_type": "stream",
     "text": [
      "22/41 [===============>..............] - ETA: 0s"
     ]
    },
    {
     "name": "stderr",
     "output_type": "stream",
     "text": [
      "2023-04-19 10:31:10.629747: I tensorflow/core/grappler/optimizers/custom_graph_optimizer_registry.cc:113] Plugin optimizer for device_type GPU is enabled.\n"
     ]
    },
    {
     "name": "stdout",
     "output_type": "stream",
     "text": [
      "41/41 [==============================] - 0s 3ms/step\n",
      "41/41 [==============================] - 0s 2ms/step\n"
     ]
    },
    {
     "name": "stderr",
     "output_type": "stream",
     "text": [
      "2023-04-19 10:31:11.095053: I tensorflow/core/grappler/optimizers/custom_graph_optimizer_registry.cc:113] Plugin optimizer for device_type GPU is enabled.\n"
     ]
    },
    {
     "name": "stdout",
     "output_type": "stream",
     "text": [
      "41/41 [==============================] - 0s 3ms/step\n",
      " 1/41 [..............................] - ETA: 0s"
     ]
    },
    {
     "name": "stderr",
     "output_type": "stream",
     "text": [
      "2023-04-19 10:31:15.467913: I tensorflow/core/grappler/optimizers/custom_graph_optimizer_registry.cc:113] Plugin optimizer for device_type GPU is enabled.\n"
     ]
    },
    {
     "name": "stdout",
     "output_type": "stream",
     "text": [
      "41/41 [==============================] - 0s 2ms/step\n"
     ]
    },
    {
     "name": "stderr",
     "output_type": "stream",
     "text": [
      "2023-04-19 10:31:15.892233: I tensorflow/core/grappler/optimizers/custom_graph_optimizer_registry.cc:113] Plugin optimizer for device_type GPU is enabled.\n"
     ]
    },
    {
     "name": "stdout",
     "output_type": "stream",
     "text": [
      "41/41 [==============================] - 0s 3ms/step\n",
      " 1/41 [..............................] - ETA: 0s"
     ]
    },
    {
     "name": "stderr",
     "output_type": "stream",
     "text": [
      "2023-04-19 10:31:20.647697: I tensorflow/core/grappler/optimizers/custom_graph_optimizer_registry.cc:113] Plugin optimizer for device_type GPU is enabled.\n"
     ]
    },
    {
     "name": "stdout",
     "output_type": "stream",
     "text": [
      "41/41 [==============================] - 0s 2ms/step\n"
     ]
    },
    {
     "name": "stderr",
     "output_type": "stream",
     "text": [
      "2023-04-19 10:31:21.077192: I tensorflow/core/grappler/optimizers/custom_graph_optimizer_registry.cc:113] Plugin optimizer for device_type GPU is enabled.\n"
     ]
    },
    {
     "name": "stdout",
     "output_type": "stream",
     "text": [
      "41/41 [==============================] - 0s 3ms/step\n",
      " 1/41 [..............................] - ETA: 0s"
     ]
    },
    {
     "name": "stderr",
     "output_type": "stream",
     "text": [
      "2023-04-19 10:31:25.554904: I tensorflow/core/grappler/optimizers/custom_graph_optimizer_registry.cc:113] Plugin optimizer for device_type GPU is enabled.\n"
     ]
    },
    {
     "name": "stdout",
     "output_type": "stream",
     "text": [
      "41/41 [==============================] - 0s 2ms/step\n"
     ]
    },
    {
     "name": "stderr",
     "output_type": "stream",
     "text": [
      "2023-04-19 10:31:25.970414: I tensorflow/core/grappler/optimizers/custom_graph_optimizer_registry.cc:113] Plugin optimizer for device_type GPU is enabled.\n"
     ]
    },
    {
     "name": "stdout",
     "output_type": "stream",
     "text": [
      "41/41 [==============================] - 0s 3ms/step\n"
     ]
    },
    {
     "name": "stderr",
     "output_type": "stream",
     "text": [
      "2023-04-19 10:31:30.487494: I tensorflow/core/grappler/optimizers/custom_graph_optimizer_registry.cc:113] Plugin optimizer for device_type GPU is enabled.\n"
     ]
    },
    {
     "name": "stdout",
     "output_type": "stream",
     "text": [
      "41/41 [==============================] - 0s 2ms/step\n"
     ]
    },
    {
     "name": "stderr",
     "output_type": "stream",
     "text": [
      "2023-04-19 10:31:30.906713: I tensorflow/core/grappler/optimizers/custom_graph_optimizer_registry.cc:113] Plugin optimizer for device_type GPU is enabled.\n"
     ]
    },
    {
     "name": "stdout",
     "output_type": "stream",
     "text": [
      "41/41 [==============================] - 0s 3ms/step\n"
     ]
    },
    {
     "name": "stderr",
     "output_type": "stream",
     "text": [
      "2023-04-19 10:31:35.430111: I tensorflow/core/grappler/optimizers/custom_graph_optimizer_registry.cc:113] Plugin optimizer for device_type GPU is enabled.\n"
     ]
    },
    {
     "name": "stdout",
     "output_type": "stream",
     "text": [
      "41/41 [==============================] - 0s 2ms/step\n"
     ]
    },
    {
     "name": "stderr",
     "output_type": "stream",
     "text": [
      "2023-04-19 10:31:35.875027: I tensorflow/core/grappler/optimizers/custom_graph_optimizer_registry.cc:113] Plugin optimizer for device_type GPU is enabled.\n"
     ]
    },
    {
     "name": "stdout",
     "output_type": "stream",
     "text": [
      "22/41 [===============>..............] - ETA: 0s"
     ]
    },
    {
     "name": "stderr",
     "output_type": "stream",
     "text": [
      "2023-04-19 10:31:40.587163: I tensorflow/core/grappler/optimizers/custom_graph_optimizer_registry.cc:113] Plugin optimizer for device_type GPU is enabled.\n"
     ]
    },
    {
     "name": "stdout",
     "output_type": "stream",
     "text": [
      "41/41 [==============================] - 0s 4ms/step\n",
      "41/41 [==============================] - 0s 2ms/step\n"
     ]
    },
    {
     "name": "stderr",
     "output_type": "stream",
     "text": [
      "2023-04-19 10:31:41.071434: I tensorflow/core/grappler/optimizers/custom_graph_optimizer_registry.cc:113] Plugin optimizer for device_type GPU is enabled.\n"
     ]
    },
    {
     "name": "stdout",
     "output_type": "stream",
     "text": [
      "24/41 [================>.............] - ETA: 0s"
     ]
    },
    {
     "name": "stderr",
     "output_type": "stream",
     "text": [
      "2023-04-19 10:31:45.853900: I tensorflow/core/grappler/optimizers/custom_graph_optimizer_registry.cc:113] Plugin optimizer for device_type GPU is enabled.\n"
     ]
    },
    {
     "name": "stdout",
     "output_type": "stream",
     "text": [
      "41/41 [==============================] - 0s 3ms/step\n",
      "41/41 [==============================] - 0s 3ms/step\n"
     ]
    },
    {
     "name": "stderr",
     "output_type": "stream",
     "text": [
      "2023-04-19 10:31:46.353520: I tensorflow/core/grappler/optimizers/custom_graph_optimizer_registry.cc:113] Plugin optimizer for device_type GPU is enabled.\n"
     ]
    },
    {
     "name": "stdout",
     "output_type": "stream",
     "text": [
      "16/41 [==========>...................] - ETA: 0s"
     ]
    },
    {
     "name": "stderr",
     "output_type": "stream",
     "text": [
      "2023-04-19 10:31:51.162231: I tensorflow/core/grappler/optimizers/custom_graph_optimizer_registry.cc:113] Plugin optimizer for device_type GPU is enabled.\n"
     ]
    },
    {
     "name": "stdout",
     "output_type": "stream",
     "text": [
      "41/41 [==============================] - 0s 5ms/step\n",
      "41/41 [==============================] - 0s 2ms/step\n"
     ]
    },
    {
     "name": "stderr",
     "output_type": "stream",
     "text": [
      "2023-04-19 10:31:51.663132: I tensorflow/core/grappler/optimizers/custom_graph_optimizer_registry.cc:113] Plugin optimizer for device_type GPU is enabled.\n"
     ]
    },
    {
     "name": "stdout",
     "output_type": "stream",
     "text": [
      "41/41 [==============================] - 0s 3ms/step\n"
     ]
    },
    {
     "name": "stderr",
     "output_type": "stream",
     "text": [
      "2023-04-19 10:31:56.556609: I tensorflow/core/grappler/optimizers/custom_graph_optimizer_registry.cc:113] Plugin optimizer for device_type GPU is enabled.\n"
     ]
    },
    {
     "name": "stdout",
     "output_type": "stream",
     "text": [
      "41/41 [==============================] - 0s 4ms/step\n"
     ]
    },
    {
     "name": "stderr",
     "output_type": "stream",
     "text": [
      "2023-04-19 10:31:59.249441: I tensorflow/core/grappler/optimizers/custom_graph_optimizer_registry.cc:113] Plugin optimizer for device_type GPU is enabled.\n"
     ]
    },
    {
     "name": "stdout",
     "output_type": "stream",
     "text": [
      "41/41 [==============================] - 0s 3ms/step\n",
      " 1/41 [..............................] - ETA: 0s"
     ]
    },
    {
     "name": "stderr",
     "output_type": "stream",
     "text": [
      "2023-04-19 10:32:05.295006: I tensorflow/core/grappler/optimizers/custom_graph_optimizer_registry.cc:113] Plugin optimizer for device_type GPU is enabled.\n"
     ]
    },
    {
     "name": "stdout",
     "output_type": "stream",
     "text": [
      "41/41 [==============================] - 0s 2ms/step\n"
     ]
    },
    {
     "name": "stderr",
     "output_type": "stream",
     "text": [
      "2023-04-19 10:32:05.703656: I tensorflow/core/grappler/optimizers/custom_graph_optimizer_registry.cc:113] Plugin optimizer for device_type GPU is enabled.\n"
     ]
    },
    {
     "name": "stdout",
     "output_type": "stream",
     "text": [
      "41/41 [==============================] - 0s 3ms/step\n"
     ]
    },
    {
     "name": "stderr",
     "output_type": "stream",
     "text": [
      "2023-04-19 10:32:11.155814: I tensorflow/core/grappler/optimizers/custom_graph_optimizer_registry.cc:113] Plugin optimizer for device_type GPU is enabled.\n"
     ]
    },
    {
     "name": "stdout",
     "output_type": "stream",
     "text": [
      "41/41 [==============================] - 0s 3ms/step\n"
     ]
    },
    {
     "name": "stderr",
     "output_type": "stream",
     "text": [
      "2023-04-19 10:32:11.602916: I tensorflow/core/grappler/optimizers/custom_graph_optimizer_registry.cc:113] Plugin optimizer for device_type GPU is enabled.\n"
     ]
    },
    {
     "name": "stdout",
     "output_type": "stream",
     "text": [
      "41/41 [==============================] - 0s 3ms/step\n"
     ]
    },
    {
     "name": "stderr",
     "output_type": "stream",
     "text": [
      "2023-04-19 10:32:16.770279: I tensorflow/core/grappler/optimizers/custom_graph_optimizer_registry.cc:113] Plugin optimizer for device_type GPU is enabled.\n"
     ]
    },
    {
     "name": "stdout",
     "output_type": "stream",
     "text": [
      "41/41 [==============================] - 0s 2ms/step\n"
     ]
    },
    {
     "name": "stderr",
     "output_type": "stream",
     "text": [
      "2023-04-19 10:32:17.202953: I tensorflow/core/grappler/optimizers/custom_graph_optimizer_registry.cc:113] Plugin optimizer for device_type GPU is enabled.\n"
     ]
    },
    {
     "name": "stdout",
     "output_type": "stream",
     "text": [
      "41/41 [==============================] - 0s 3ms/step\n"
     ]
    },
    {
     "name": "stderr",
     "output_type": "stream",
     "text": [
      "2023-04-19 10:32:22.810630: I tensorflow/core/grappler/optimizers/custom_graph_optimizer_registry.cc:113] Plugin optimizer for device_type GPU is enabled.\n"
     ]
    },
    {
     "name": "stdout",
     "output_type": "stream",
     "text": [
      "41/41 [==============================] - 0s 2ms/step\n"
     ]
    },
    {
     "name": "stderr",
     "output_type": "stream",
     "text": [
      "2023-04-19 10:32:23.248911: I tensorflow/core/grappler/optimizers/custom_graph_optimizer_registry.cc:113] Plugin optimizer for device_type GPU is enabled.\n"
     ]
    },
    {
     "name": "stdout",
     "output_type": "stream",
     "text": [
      "41/41 [==============================] - 0s 3ms/step\n",
      " 1/41 [..............................] - ETA: 0s"
     ]
    },
    {
     "name": "stderr",
     "output_type": "stream",
     "text": [
      "2023-04-19 10:32:28.812621: I tensorflow/core/grappler/optimizers/custom_graph_optimizer_registry.cc:113] Plugin optimizer for device_type GPU is enabled.\n"
     ]
    },
    {
     "name": "stdout",
     "output_type": "stream",
     "text": [
      "41/41 [==============================] - 0s 2ms/step\n"
     ]
    },
    {
     "name": "stderr",
     "output_type": "stream",
     "text": [
      "2023-04-19 10:32:29.209617: I tensorflow/core/grappler/optimizers/custom_graph_optimizer_registry.cc:113] Plugin optimizer for device_type GPU is enabled.\n"
     ]
    },
    {
     "name": "stdout",
     "output_type": "stream",
     "text": [
      "41/41 [==============================] - 0s 3ms/step\n"
     ]
    },
    {
     "name": "stderr",
     "output_type": "stream",
     "text": [
      "2023-04-19 10:32:34.081154: I tensorflow/core/grappler/optimizers/custom_graph_optimizer_registry.cc:113] Plugin optimizer for device_type GPU is enabled.\n"
     ]
    },
    {
     "name": "stdout",
     "output_type": "stream",
     "text": [
      "41/41 [==============================] - 0s 2ms/step\n"
     ]
    },
    {
     "name": "stderr",
     "output_type": "stream",
     "text": [
      "2023-04-19 10:32:34.514025: I tensorflow/core/grappler/optimizers/custom_graph_optimizer_registry.cc:113] Plugin optimizer for device_type GPU is enabled.\n"
     ]
    },
    {
     "name": "stdout",
     "output_type": "stream",
     "text": [
      "17/41 [===========>..................] - ETA: 0s"
     ]
    },
    {
     "name": "stderr",
     "output_type": "stream",
     "text": [
      "2023-04-19 10:32:39.521777: I tensorflow/core/grappler/optimizers/custom_graph_optimizer_registry.cc:113] Plugin optimizer for device_type GPU is enabled.\n"
     ]
    },
    {
     "name": "stdout",
     "output_type": "stream",
     "text": [
      "41/41 [==============================] - 0s 5ms/step\n",
      "41/41 [==============================] - 0s 2ms/step\n"
     ]
    },
    {
     "name": "stderr",
     "output_type": "stream",
     "text": [
      "2023-04-19 10:32:40.019716: I tensorflow/core/grappler/optimizers/custom_graph_optimizer_registry.cc:113] Plugin optimizer for device_type GPU is enabled.\n"
     ]
    },
    {
     "name": "stdout",
     "output_type": "stream",
     "text": [
      "17/41 [===========>..................] - ETA: 0s"
     ]
    },
    {
     "name": "stderr",
     "output_type": "stream",
     "text": [
      "2023-04-19 10:32:45.310308: I tensorflow/core/grappler/optimizers/custom_graph_optimizer_registry.cc:113] Plugin optimizer for device_type GPU is enabled.\n"
     ]
    },
    {
     "name": "stdout",
     "output_type": "stream",
     "text": [
      "41/41 [==============================] - 0s 4ms/step\n",
      "41/41 [==============================] - 0s 2ms/step\n"
     ]
    },
    {
     "name": "stderr",
     "output_type": "stream",
     "text": [
      "2023-04-19 10:32:45.774756: I tensorflow/core/grappler/optimizers/custom_graph_optimizer_registry.cc:113] Plugin optimizer for device_type GPU is enabled.\n"
     ]
    },
    {
     "name": "stdout",
     "output_type": "stream",
     "text": [
      "17/41 [===========>..................] - ETA: 0s"
     ]
    },
    {
     "name": "stderr",
     "output_type": "stream",
     "text": [
      "2023-04-19 10:32:51.110965: I tensorflow/core/grappler/optimizers/custom_graph_optimizer_registry.cc:113] Plugin optimizer for device_type GPU is enabled.\n"
     ]
    },
    {
     "name": "stdout",
     "output_type": "stream",
     "text": [
      "41/41 [==============================] - 0s 4ms/step\n",
      "41/41 [==============================] - 0s 2ms/step\n"
     ]
    },
    {
     "name": "stderr",
     "output_type": "stream",
     "text": [
      "2023-04-19 10:32:51.602137: I tensorflow/core/grappler/optimizers/custom_graph_optimizer_registry.cc:113] Plugin optimizer for device_type GPU is enabled.\n"
     ]
    },
    {
     "name": "stdout",
     "output_type": "stream",
     "text": [
      "22/41 [===============>..............] - ETA: 0s"
     ]
    },
    {
     "name": "stderr",
     "output_type": "stream",
     "text": [
      "2023-04-19 10:32:56.941669: I tensorflow/core/grappler/optimizers/custom_graph_optimizer_registry.cc:113] Plugin optimizer for device_type GPU is enabled.\n"
     ]
    },
    {
     "name": "stdout",
     "output_type": "stream",
     "text": [
      "41/41 [==============================] - 0s 4ms/step\n",
      "41/41 [==============================] - 0s 2ms/step\n"
     ]
    },
    {
     "name": "stderr",
     "output_type": "stream",
     "text": [
      "2023-04-19 10:32:57.435388: I tensorflow/core/grappler/optimizers/custom_graph_optimizer_registry.cc:113] Plugin optimizer for device_type GPU is enabled.\n"
     ]
    },
    {
     "name": "stdout",
     "output_type": "stream",
     "text": [
      "24/41 [================>.............] - ETA: 0s"
     ]
    },
    {
     "name": "stderr",
     "output_type": "stream",
     "text": [
      "2023-04-19 10:33:02.372765: I tensorflow/core/grappler/optimizers/custom_graph_optimizer_registry.cc:113] Plugin optimizer for device_type GPU is enabled.\n"
     ]
    },
    {
     "name": "stdout",
     "output_type": "stream",
     "text": [
      "41/41 [==============================] - 0s 3ms/step\n",
      "41/41 [==============================] - 0s 2ms/step\n"
     ]
    },
    {
     "name": "stderr",
     "output_type": "stream",
     "text": [
      "2023-04-19 10:33:02.847513: I tensorflow/core/grappler/optimizers/custom_graph_optimizer_registry.cc:113] Plugin optimizer for device_type GPU is enabled.\n"
     ]
    },
    {
     "name": "stdout",
     "output_type": "stream",
     "text": [
      "41/41 [==============================] - 0s 3ms/step\n"
     ]
    },
    {
     "name": "stderr",
     "output_type": "stream",
     "text": [
      "2023-04-19 10:33:07.809366: I tensorflow/core/grappler/optimizers/custom_graph_optimizer_registry.cc:113] Plugin optimizer for device_type GPU is enabled.\n"
     ]
    },
    {
     "name": "stdout",
     "output_type": "stream",
     "text": [
      "41/41 [==============================] - 0s 2ms/step\n"
     ]
    },
    {
     "name": "stderr",
     "output_type": "stream",
     "text": [
      "2023-04-19 10:33:08.249065: I tensorflow/core/grappler/optimizers/custom_graph_optimizer_registry.cc:113] Plugin optimizer for device_type GPU is enabled.\n"
     ]
    },
    {
     "name": "stdout",
     "output_type": "stream",
     "text": [
      "41/41 [==============================] - 0s 3ms/step\n",
      " 1/41 [..............................] - ETA: 0s"
     ]
    },
    {
     "name": "stderr",
     "output_type": "stream",
     "text": [
      "2023-04-19 10:33:13.534037: I tensorflow/core/grappler/optimizers/custom_graph_optimizer_registry.cc:113] Plugin optimizer for device_type GPU is enabled.\n"
     ]
    },
    {
     "name": "stdout",
     "output_type": "stream",
     "text": [
      "41/41 [==============================] - 0s 2ms/step\n"
     ]
    },
    {
     "name": "stderr",
     "output_type": "stream",
     "text": [
      "2023-04-19 10:33:13.952414: I tensorflow/core/grappler/optimizers/custom_graph_optimizer_registry.cc:113] Plugin optimizer for device_type GPU is enabled.\n"
     ]
    },
    {
     "name": "stdout",
     "output_type": "stream",
     "text": [
      "41/41 [==============================] - 0s 3ms/step\n"
     ]
    },
    {
     "name": "stderr",
     "output_type": "stream",
     "text": [
      "2023-04-19 10:33:19.180783: I tensorflow/core/grappler/optimizers/custom_graph_optimizer_registry.cc:113] Plugin optimizer for device_type GPU is enabled.\n"
     ]
    },
    {
     "name": "stdout",
     "output_type": "stream",
     "text": [
      "41/41 [==============================] - 0s 2ms/step\n"
     ]
    },
    {
     "name": "stderr",
     "output_type": "stream",
     "text": [
      "2023-04-19 10:33:19.611313: I tensorflow/core/grappler/optimizers/custom_graph_optimizer_registry.cc:113] Plugin optimizer for device_type GPU is enabled.\n"
     ]
    },
    {
     "name": "stdout",
     "output_type": "stream",
     "text": [
      "41/41 [==============================] - 0s 3ms/step\n",
      " 1/41 [..............................] - ETA: 0s"
     ]
    },
    {
     "name": "stderr",
     "output_type": "stream",
     "text": [
      "2023-04-19 10:33:24.408587: I tensorflow/core/grappler/optimizers/custom_graph_optimizer_registry.cc:113] Plugin optimizer for device_type GPU is enabled.\n"
     ]
    },
    {
     "name": "stdout",
     "output_type": "stream",
     "text": [
      "41/41 [==============================] - 0s 2ms/step\n"
     ]
    },
    {
     "name": "stderr",
     "output_type": "stream",
     "text": [
      "2023-04-19 10:33:24.833897: I tensorflow/core/grappler/optimizers/custom_graph_optimizer_registry.cc:113] Plugin optimizer for device_type GPU is enabled.\n"
     ]
    },
    {
     "name": "stdout",
     "output_type": "stream",
     "text": [
      "25/41 [=================>............] - ETA: 0s"
     ]
    },
    {
     "name": "stderr",
     "output_type": "stream",
     "text": [
      "2023-04-19 10:33:30.350362: I tensorflow/core/grappler/optimizers/custom_graph_optimizer_registry.cc:113] Plugin optimizer for device_type GPU is enabled.\n"
     ]
    },
    {
     "name": "stdout",
     "output_type": "stream",
     "text": [
      "41/41 [==============================] - 0s 4ms/step\n",
      "41/41 [==============================] - 0s 2ms/step\n"
     ]
    },
    {
     "name": "stderr",
     "output_type": "stream",
     "text": [
      "2023-04-19 10:33:30.841726: I tensorflow/core/grappler/optimizers/custom_graph_optimizer_registry.cc:113] Plugin optimizer for device_type GPU is enabled.\n"
     ]
    },
    {
     "name": "stdout",
     "output_type": "stream",
     "text": [
      "41/41 [==============================] - 0s 3ms/step\n",
      " 1/41 [..............................] - ETA: 0s"
     ]
    },
    {
     "name": "stderr",
     "output_type": "stream",
     "text": [
      "2023-04-19 10:33:36.356022: I tensorflow/core/grappler/optimizers/custom_graph_optimizer_registry.cc:113] Plugin optimizer for device_type GPU is enabled.\n"
     ]
    },
    {
     "name": "stdout",
     "output_type": "stream",
     "text": [
      "41/41 [==============================] - 0s 2ms/step\n"
     ]
    },
    {
     "name": "stderr",
     "output_type": "stream",
     "text": [
      "2023-04-19 10:33:36.762079: I tensorflow/core/grappler/optimizers/custom_graph_optimizer_registry.cc:113] Plugin optimizer for device_type GPU is enabled.\n"
     ]
    },
    {
     "name": "stdout",
     "output_type": "stream",
     "text": [
      "41/41 [==============================] - 0s 3ms/step\n",
      " 1/41 [..............................] - ETA: 0s"
     ]
    },
    {
     "name": "stderr",
     "output_type": "stream",
     "text": [
      "2023-04-19 10:33:42.282062: I tensorflow/core/grappler/optimizers/custom_graph_optimizer_registry.cc:113] Plugin optimizer for device_type GPU is enabled.\n"
     ]
    },
    {
     "name": "stdout",
     "output_type": "stream",
     "text": [
      "41/41 [==============================] - 0s 2ms/step\n"
     ]
    },
    {
     "name": "stderr",
     "output_type": "stream",
     "text": [
      "2023-04-19 10:33:42.860796: I tensorflow/core/grappler/optimizers/custom_graph_optimizer_registry.cc:113] Plugin optimizer for device_type GPU is enabled.\n"
     ]
    },
    {
     "name": "stdout",
     "output_type": "stream",
     "text": [
      "24/41 [================>.............] - ETA: 0s"
     ]
    },
    {
     "name": "stderr",
     "output_type": "stream",
     "text": [
      "2023-04-19 10:33:48.355878: I tensorflow/core/grappler/optimizers/custom_graph_optimizer_registry.cc:113] Plugin optimizer for device_type GPU is enabled.\n"
     ]
    },
    {
     "name": "stdout",
     "output_type": "stream",
     "text": [
      "41/41 [==============================] - 0s 4ms/step\n",
      "41/41 [==============================] - 0s 2ms/step\n"
     ]
    },
    {
     "name": "stderr",
     "output_type": "stream",
     "text": [
      "2023-04-19 10:33:48.841713: I tensorflow/core/grappler/optimizers/custom_graph_optimizer_registry.cc:113] Plugin optimizer for device_type GPU is enabled.\n"
     ]
    },
    {
     "name": "stdout",
     "output_type": "stream",
     "text": [
      "23/41 [===============>..............] - ETA: 0s"
     ]
    },
    {
     "name": "stderr",
     "output_type": "stream",
     "text": [
      "2023-04-19 10:33:54.299359: I tensorflow/core/grappler/optimizers/custom_graph_optimizer_registry.cc:113] Plugin optimizer for device_type GPU is enabled.\n"
     ]
    },
    {
     "name": "stdout",
     "output_type": "stream",
     "text": [
      "41/41 [==============================] - 0s 4ms/step\n",
      "41/41 [==============================] - 0s 2ms/step\n"
     ]
    },
    {
     "name": "stderr",
     "output_type": "stream",
     "text": [
      "2023-04-19 10:33:54.792950: I tensorflow/core/grappler/optimizers/custom_graph_optimizer_registry.cc:113] Plugin optimizer for device_type GPU is enabled.\n"
     ]
    },
    {
     "name": "stdout",
     "output_type": "stream",
     "text": [
      "16/41 [==========>...................] - ETA: 0s"
     ]
    },
    {
     "name": "stderr",
     "output_type": "stream",
     "text": [
      "2023-04-19 10:34:00.585191: I tensorflow/core/grappler/optimizers/custom_graph_optimizer_registry.cc:113] Plugin optimizer for device_type GPU is enabled.\n"
     ]
    },
    {
     "name": "stdout",
     "output_type": "stream",
     "text": [
      "41/41 [==============================] - 0s 4ms/step\n",
      "41/41 [==============================] - 0s 2ms/step\n"
     ]
    },
    {
     "name": "stderr",
     "output_type": "stream",
     "text": [
      "2023-04-19 10:34:01.053634: I tensorflow/core/grappler/optimizers/custom_graph_optimizer_registry.cc:113] Plugin optimizer for device_type GPU is enabled.\n"
     ]
    },
    {
     "name": "stdout",
     "output_type": "stream",
     "text": [
      "16/41 [==========>...................] - ETA: 0s"
     ]
    },
    {
     "name": "stderr",
     "output_type": "stream",
     "text": [
      "2023-04-19 10:34:06.491399: I tensorflow/core/grappler/optimizers/custom_graph_optimizer_registry.cc:113] Plugin optimizer for device_type GPU is enabled.\n"
     ]
    },
    {
     "name": "stdout",
     "output_type": "stream",
     "text": [
      "41/41 [==============================] - 0s 4ms/step\n",
      "41/41 [==============================] - 0s 2ms/step\n"
     ]
    },
    {
     "name": "stderr",
     "output_type": "stream",
     "text": [
      "2023-04-19 10:34:06.969444: I tensorflow/core/grappler/optimizers/custom_graph_optimizer_registry.cc:113] Plugin optimizer for device_type GPU is enabled.\n"
     ]
    },
    {
     "name": "stdout",
     "output_type": "stream",
     "text": [
      "15/41 [=========>....................] - ETA: 0s"
     ]
    },
    {
     "name": "stderr",
     "output_type": "stream",
     "text": [
      "2023-04-19 10:34:12.696173: I tensorflow/core/grappler/optimizers/custom_graph_optimizer_registry.cc:113] Plugin optimizer for device_type GPU is enabled.\n"
     ]
    },
    {
     "name": "stdout",
     "output_type": "stream",
     "text": [
      "41/41 [==============================] - 0s 3ms/step\n",
      "41/41 [==============================] - 0s 2ms/step\n"
     ]
    },
    {
     "name": "stderr",
     "output_type": "stream",
     "text": [
      "2023-04-19 10:34:13.196597: I tensorflow/core/grappler/optimizers/custom_graph_optimizer_registry.cc:113] Plugin optimizer for device_type GPU is enabled.\n"
     ]
    },
    {
     "name": "stdout",
     "output_type": "stream",
     "text": [
      "24/41 [================>.............] - ETA: 0s"
     ]
    },
    {
     "name": "stderr",
     "output_type": "stream",
     "text": [
      "2023-04-19 10:34:19.152546: I tensorflow/core/grappler/optimizers/custom_graph_optimizer_registry.cc:113] Plugin optimizer for device_type GPU is enabled.\n"
     ]
    },
    {
     "name": "stdout",
     "output_type": "stream",
     "text": [
      "41/41 [==============================] - 0s 3ms/step\n",
      "41/41 [==============================] - 0s 2ms/step\n"
     ]
    },
    {
     "name": "stderr",
     "output_type": "stream",
     "text": [
      "2023-04-19 10:34:19.631319: I tensorflow/core/grappler/optimizers/custom_graph_optimizer_registry.cc:113] Plugin optimizer for device_type GPU is enabled.\n"
     ]
    },
    {
     "name": "stdout",
     "output_type": "stream",
     "text": [
      "24/41 [================>.............] - ETA: 0s"
     ]
    },
    {
     "name": "stderr",
     "output_type": "stream",
     "text": [
      "2023-04-19 10:34:25.149809: I tensorflow/core/grappler/optimizers/custom_graph_optimizer_registry.cc:113] Plugin optimizer for device_type GPU is enabled.\n"
     ]
    },
    {
     "name": "stdout",
     "output_type": "stream",
     "text": [
      "41/41 [==============================] - 0s 3ms/step\n",
      "41/41 [==============================] - 0s 2ms/step\n"
     ]
    },
    {
     "name": "stderr",
     "output_type": "stream",
     "text": [
      "2023-04-19 10:34:25.612855: I tensorflow/core/grappler/optimizers/custom_graph_optimizer_registry.cc:113] Plugin optimizer for device_type GPU is enabled.\n"
     ]
    },
    {
     "name": "stdout",
     "output_type": "stream",
     "text": [
      "41/41 [==============================] - 0s 3ms/step\n"
     ]
    },
    {
     "name": "stderr",
     "output_type": "stream",
     "text": [
      "2023-04-19 10:34:31.195314: I tensorflow/core/grappler/optimizers/custom_graph_optimizer_registry.cc:113] Plugin optimizer for device_type GPU is enabled.\n"
     ]
    },
    {
     "name": "stdout",
     "output_type": "stream",
     "text": [
      "41/41 [==============================] - 0s 2ms/step\n"
     ]
    },
    {
     "name": "stderr",
     "output_type": "stream",
     "text": [
      "2023-04-19 10:34:31.648444: I tensorflow/core/grappler/optimizers/custom_graph_optimizer_registry.cc:113] Plugin optimizer for device_type GPU is enabled.\n"
     ]
    },
    {
     "name": "stdout",
     "output_type": "stream",
     "text": [
      "17/41 [===========>..................] - ETA: 0s"
     ]
    },
    {
     "name": "stderr",
     "output_type": "stream",
     "text": [
      "2023-04-19 10:34:37.319689: I tensorflow/core/grappler/optimizers/custom_graph_optimizer_registry.cc:113] Plugin optimizer for device_type GPU is enabled.\n"
     ]
    },
    {
     "name": "stdout",
     "output_type": "stream",
     "text": [
      "41/41 [==============================] - 0s 4ms/step\n",
      "41/41 [==============================] - 0s 3ms/step\n"
     ]
    },
    {
     "name": "stderr",
     "output_type": "stream",
     "text": [
      "2023-04-19 10:34:40.088976: I tensorflow/core/grappler/optimizers/custom_graph_optimizer_registry.cc:113] Plugin optimizer for device_type GPU is enabled.\n"
     ]
    },
    {
     "name": "stdout",
     "output_type": "stream",
     "text": [
      "25/41 [=================>............] - ETA: 0s"
     ]
    },
    {
     "name": "stderr",
     "output_type": "stream",
     "text": [
      "2023-04-19 10:34:45.295701: I tensorflow/core/grappler/optimizers/custom_graph_optimizer_registry.cc:113] Plugin optimizer for device_type GPU is enabled.\n"
     ]
    },
    {
     "name": "stdout",
     "output_type": "stream",
     "text": [
      "41/41 [==============================] - 0s 3ms/step\n",
      "41/41 [==============================] - 0s 2ms/step\n"
     ]
    },
    {
     "name": "stderr",
     "output_type": "stream",
     "text": [
      "2023-04-19 10:34:45.775589: I tensorflow/core/grappler/optimizers/custom_graph_optimizer_registry.cc:113] Plugin optimizer for device_type GPU is enabled.\n"
     ]
    },
    {
     "name": "stdout",
     "output_type": "stream",
     "text": [
      "25/41 [=================>............] - ETA: 0s"
     ]
    },
    {
     "name": "stderr",
     "output_type": "stream",
     "text": [
      "2023-04-19 10:34:50.987209: I tensorflow/core/grappler/optimizers/custom_graph_optimizer_registry.cc:113] Plugin optimizer for device_type GPU is enabled.\n"
     ]
    },
    {
     "name": "stdout",
     "output_type": "stream",
     "text": [
      "41/41 [==============================] - 0s 3ms/step\n",
      "41/41 [==============================] - 0s 2ms/step\n"
     ]
    },
    {
     "name": "stderr",
     "output_type": "stream",
     "text": [
      "2023-04-19 10:34:51.456940: I tensorflow/core/grappler/optimizers/custom_graph_optimizer_registry.cc:113] Plugin optimizer for device_type GPU is enabled.\n"
     ]
    },
    {
     "name": "stdout",
     "output_type": "stream",
     "text": [
      "16/41 [==========>...................] - ETA: 0s"
     ]
    },
    {
     "name": "stderr",
     "output_type": "stream",
     "text": [
      "2023-04-19 10:34:57.158632: I tensorflow/core/grappler/optimizers/custom_graph_optimizer_registry.cc:113] Plugin optimizer for device_type GPU is enabled.\n"
     ]
    },
    {
     "name": "stdout",
     "output_type": "stream",
     "text": [
      "41/41 [==============================] - 0s 4ms/step\n",
      "41/41 [==============================] - 0s 2ms/step\n"
     ]
    },
    {
     "name": "stderr",
     "output_type": "stream",
     "text": [
      "2023-04-19 10:34:57.623813: I tensorflow/core/grappler/optimizers/custom_graph_optimizer_registry.cc:113] Plugin optimizer for device_type GPU is enabled.\n"
     ]
    },
    {
     "name": "stdout",
     "output_type": "stream",
     "text": [
      "18/41 [============>.................] - ETA: 0s"
     ]
    },
    {
     "name": "stderr",
     "output_type": "stream",
     "text": [
      "2023-04-19 10:35:04.218499: I tensorflow/core/grappler/optimizers/custom_graph_optimizer_registry.cc:113] Plugin optimizer for device_type GPU is enabled.\n"
     ]
    },
    {
     "name": "stdout",
     "output_type": "stream",
     "text": [
      "41/41 [==============================] - 0s 4ms/step\n",
      "41/41 [==============================] - 0s 2ms/step\n"
     ]
    },
    {
     "name": "stderr",
     "output_type": "stream",
     "text": [
      "2023-04-19 10:35:04.675760: I tensorflow/core/grappler/optimizers/custom_graph_optimizer_registry.cc:113] Plugin optimizer for device_type GPU is enabled.\n"
     ]
    },
    {
     "name": "stdout",
     "output_type": "stream",
     "text": [
      "17/41 [===========>..................] - ETA: 0s"
     ]
    },
    {
     "name": "stderr",
     "output_type": "stream",
     "text": [
      "2023-04-19 10:35:10.759730: I tensorflow/core/grappler/optimizers/custom_graph_optimizer_registry.cc:113] Plugin optimizer for device_type GPU is enabled.\n"
     ]
    },
    {
     "name": "stdout",
     "output_type": "stream",
     "text": [
      "41/41 [==============================] - 0s 4ms/step\n",
      "41/41 [==============================] - 0s 2ms/step\n"
     ]
    },
    {
     "name": "stderr",
     "output_type": "stream",
     "text": [
      "2023-04-19 10:35:11.282640: I tensorflow/core/grappler/optimizers/custom_graph_optimizer_registry.cc:113] Plugin optimizer for device_type GPU is enabled.\n"
     ]
    },
    {
     "name": "stdout",
     "output_type": "stream",
     "text": [
      "24/41 [================>.............] - ETA: 0s"
     ]
    },
    {
     "name": "stderr",
     "output_type": "stream",
     "text": [
      "2023-04-19 10:35:18.073988: I tensorflow/core/grappler/optimizers/custom_graph_optimizer_registry.cc:113] Plugin optimizer for device_type GPU is enabled.\n"
     ]
    },
    {
     "name": "stdout",
     "output_type": "stream",
     "text": [
      "41/41 [==============================] - 0s 4ms/step\n",
      "41/41 [==============================] - 0s 2ms/step\n"
     ]
    },
    {
     "name": "stderr",
     "output_type": "stream",
     "text": [
      "2023-04-19 10:35:18.555335: I tensorflow/core/grappler/optimizers/custom_graph_optimizer_registry.cc:113] Plugin optimizer for device_type GPU is enabled.\n"
     ]
    },
    {
     "name": "stdout",
     "output_type": "stream",
     "text": [
      "24/41 [================>.............] - ETA: 0s"
     ]
    },
    {
     "name": "stderr",
     "output_type": "stream",
     "text": [
      "2023-04-19 10:35:25.083114: I tensorflow/core/grappler/optimizers/custom_graph_optimizer_registry.cc:113] Plugin optimizer for device_type GPU is enabled.\n"
     ]
    },
    {
     "name": "stdout",
     "output_type": "stream",
     "text": [
      "41/41 [==============================] - 0s 3ms/step\n",
      "41/41 [==============================] - 0s 2ms/step\n"
     ]
    },
    {
     "name": "stderr",
     "output_type": "stream",
     "text": [
      "2023-04-19 10:35:25.541871: I tensorflow/core/grappler/optimizers/custom_graph_optimizer_registry.cc:113] Plugin optimizer for device_type GPU is enabled.\n"
     ]
    },
    {
     "name": "stdout",
     "output_type": "stream",
     "text": [
      "41/41 [==============================] - 0s 3ms/step\n",
      " 1/41 [..............................] - ETA: 0s"
     ]
    },
    {
     "name": "stderr",
     "output_type": "stream",
     "text": [
      "2023-04-19 10:35:31.223619: I tensorflow/core/grappler/optimizers/custom_graph_optimizer_registry.cc:113] Plugin optimizer for device_type GPU is enabled.\n"
     ]
    },
    {
     "name": "stdout",
     "output_type": "stream",
     "text": [
      "41/41 [==============================] - 0s 2ms/step\n"
     ]
    },
    {
     "name": "stderr",
     "output_type": "stream",
     "text": [
      "2023-04-19 10:35:31.631889: I tensorflow/core/grappler/optimizers/custom_graph_optimizer_registry.cc:113] Plugin optimizer for device_type GPU is enabled.\n"
     ]
    },
    {
     "name": "stdout",
     "output_type": "stream",
     "text": [
      "24/41 [================>.............] - ETA: 0s"
     ]
    },
    {
     "name": "stderr",
     "output_type": "stream",
     "text": [
      "2023-04-19 10:35:38.207614: I tensorflow/core/grappler/optimizers/custom_graph_optimizer_registry.cc:113] Plugin optimizer for device_type GPU is enabled.\n"
     ]
    },
    {
     "name": "stdout",
     "output_type": "stream",
     "text": [
      "41/41 [==============================] - 0s 3ms/step\n",
      "41/41 [==============================] - 0s 2ms/step\n"
     ]
    },
    {
     "name": "stderr",
     "output_type": "stream",
     "text": [
      "2023-04-19 10:35:38.688984: I tensorflow/core/grappler/optimizers/custom_graph_optimizer_registry.cc:113] Plugin optimizer for device_type GPU is enabled.\n"
     ]
    },
    {
     "name": "stdout",
     "output_type": "stream",
     "text": [
      "28/41 [===================>..........] - ETA: 0s"
     ]
    },
    {
     "name": "stderr",
     "output_type": "stream",
     "text": [
      "2023-04-19 10:35:44.984057: I tensorflow/core/grappler/optimizers/custom_graph_optimizer_registry.cc:113] Plugin optimizer for device_type GPU is enabled.\n"
     ]
    },
    {
     "name": "stdout",
     "output_type": "stream",
     "text": [
      "41/41 [==============================] - 0s 5ms/step\n",
      "41/41 [==============================] - 0s 3ms/step\n"
     ]
    },
    {
     "name": "stderr",
     "output_type": "stream",
     "text": [
      "2023-04-19 10:35:45.541049: I tensorflow/core/grappler/optimizers/custom_graph_optimizer_registry.cc:113] Plugin optimizer for device_type GPU is enabled.\n"
     ]
    },
    {
     "name": "stdout",
     "output_type": "stream",
     "text": [
      "24/41 [================>.............] - ETA: 0s"
     ]
    },
    {
     "name": "stderr",
     "output_type": "stream",
     "text": [
      "2023-04-19 10:35:52.454716: I tensorflow/core/grappler/optimizers/custom_graph_optimizer_registry.cc:113] Plugin optimizer for device_type GPU is enabled.\n"
     ]
    },
    {
     "name": "stdout",
     "output_type": "stream",
     "text": [
      "41/41 [==============================] - 0s 4ms/step\n",
      "41/41 [==============================] - 0s 2ms/step\n"
     ]
    },
    {
     "name": "stderr",
     "output_type": "stream",
     "text": [
      "2023-04-19 10:35:52.936573: I tensorflow/core/grappler/optimizers/custom_graph_optimizer_registry.cc:113] Plugin optimizer for device_type GPU is enabled.\n"
     ]
    },
    {
     "name": "stdout",
     "output_type": "stream",
     "text": [
      "18/41 [============>.................] - ETA: 0s"
     ]
    },
    {
     "name": "stderr",
     "output_type": "stream",
     "text": [
      "2023-04-19 10:35:59.213592: I tensorflow/core/grappler/optimizers/custom_graph_optimizer_registry.cc:113] Plugin optimizer for device_type GPU is enabled.\n"
     ]
    },
    {
     "name": "stdout",
     "output_type": "stream",
     "text": [
      "41/41 [==============================] - 0s 4ms/step\n",
      "41/41 [==============================] - 0s 2ms/step\n"
     ]
    },
    {
     "name": "stderr",
     "output_type": "stream",
     "text": [
      "2023-04-19 10:35:59.689670: I tensorflow/core/grappler/optimizers/custom_graph_optimizer_registry.cc:113] Plugin optimizer for device_type GPU is enabled.\n"
     ]
    },
    {
     "name": "stdout",
     "output_type": "stream",
     "text": [
      "41/41 [==============================] - 0s 3ms/step\n"
     ]
    },
    {
     "name": "stderr",
     "output_type": "stream",
     "text": [
      "2023-04-19 10:36:06.487890: I tensorflow/core/grappler/optimizers/custom_graph_optimizer_registry.cc:113] Plugin optimizer for device_type GPU is enabled.\n"
     ]
    },
    {
     "name": "stdout",
     "output_type": "stream",
     "text": [
      "41/41 [==============================] - 0s 2ms/step\n"
     ]
    },
    {
     "name": "stderr",
     "output_type": "stream",
     "text": [
      "2023-04-19 10:36:06.906965: I tensorflow/core/grappler/optimizers/custom_graph_optimizer_registry.cc:113] Plugin optimizer for device_type GPU is enabled.\n"
     ]
    },
    {
     "name": "stdout",
     "output_type": "stream",
     "text": [
      "23/41 [===============>..............] - ETA: 0s"
     ]
    },
    {
     "name": "stderr",
     "output_type": "stream",
     "text": [
      "2023-04-19 10:36:13.474711: I tensorflow/core/grappler/optimizers/custom_graph_optimizer_registry.cc:113] Plugin optimizer for device_type GPU is enabled.\n"
     ]
    },
    {
     "name": "stdout",
     "output_type": "stream",
     "text": [
      "41/41 [==============================] - 0s 3ms/step\n",
      "41/41 [==============================] - 0s 2ms/step\n"
     ]
    },
    {
     "name": "stderr",
     "output_type": "stream",
     "text": [
      "2023-04-19 10:36:13.939110: I tensorflow/core/grappler/optimizers/custom_graph_optimizer_registry.cc:113] Plugin optimizer for device_type GPU is enabled.\n"
     ]
    },
    {
     "name": "stdout",
     "output_type": "stream",
     "text": [
      "34/41 [=======================>......] - ETA: 0s"
     ]
    },
    {
     "name": "stderr",
     "output_type": "stream",
     "text": [
      "2023-04-19 10:36:19.854729: I tensorflow/core/grappler/optimizers/custom_graph_optimizer_registry.cc:113] Plugin optimizer for device_type GPU is enabled.\n"
     ]
    },
    {
     "name": "stdout",
     "output_type": "stream",
     "text": [
      "41/41 [==============================] - 0s 5ms/step\n",
      "41/41 [==============================] - 0s 2ms/step\n"
     ]
    },
    {
     "name": "stderr",
     "output_type": "stream",
     "text": [
      "2023-04-19 10:36:20.375762: I tensorflow/core/grappler/optimizers/custom_graph_optimizer_registry.cc:113] Plugin optimizer for device_type GPU is enabled.\n"
     ]
    },
    {
     "name": "stdout",
     "output_type": "stream",
     "text": [
      "41/41 [==============================] - 0s 3ms/step\n"
     ]
    },
    {
     "name": "stderr",
     "output_type": "stream",
     "text": [
      "2023-04-19 10:36:27.118420: I tensorflow/core/grappler/optimizers/custom_graph_optimizer_registry.cc:113] Plugin optimizer for device_type GPU is enabled.\n"
     ]
    },
    {
     "name": "stdout",
     "output_type": "stream",
     "text": [
      "41/41 [==============================] - 0s 2ms/step\n"
     ]
    },
    {
     "name": "stderr",
     "output_type": "stream",
     "text": [
      "2023-04-19 10:36:27.557985: I tensorflow/core/grappler/optimizers/custom_graph_optimizer_registry.cc:113] Plugin optimizer for device_type GPU is enabled.\n"
     ]
    },
    {
     "name": "stdout",
     "output_type": "stream",
     "text": [
      "41/41 [==============================] - 0s 3ms/step\n"
     ]
    },
    {
     "name": "stderr",
     "output_type": "stream",
     "text": [
      "2023-04-19 10:36:34.284720: I tensorflow/core/grappler/optimizers/custom_graph_optimizer_registry.cc:113] Plugin optimizer for device_type GPU is enabled.\n"
     ]
    },
    {
     "name": "stdout",
     "output_type": "stream",
     "text": [
      "41/41 [==============================] - 0s 2ms/step\n"
     ]
    },
    {
     "name": "stderr",
     "output_type": "stream",
     "text": [
      "2023-04-19 10:36:34.710822: I tensorflow/core/grappler/optimizers/custom_graph_optimizer_registry.cc:113] Plugin optimizer for device_type GPU is enabled.\n"
     ]
    },
    {
     "name": "stdout",
     "output_type": "stream",
     "text": [
      "16/41 [==========>...................] - ETA: 0s"
     ]
    },
    {
     "name": "stderr",
     "output_type": "stream",
     "text": [
      "2023-04-19 10:36:41.503888: I tensorflow/core/grappler/optimizers/custom_graph_optimizer_registry.cc:113] Plugin optimizer for device_type GPU is enabled.\n"
     ]
    },
    {
     "name": "stdout",
     "output_type": "stream",
     "text": [
      "41/41 [==============================] - 0s 5ms/step\n",
      "41/41 [==============================] - 0s 2ms/step\n"
     ]
    },
    {
     "name": "stderr",
     "output_type": "stream",
     "text": [
      "2023-04-19 10:36:41.986972: I tensorflow/core/grappler/optimizers/custom_graph_optimizer_registry.cc:113] Plugin optimizer for device_type GPU is enabled.\n"
     ]
    },
    {
     "name": "stdout",
     "output_type": "stream",
     "text": [
      "17/41 [===========>..................] - ETA: 0s"
     ]
    },
    {
     "name": "stderr",
     "output_type": "stream",
     "text": [
      "2023-04-19 10:36:47.822431: I tensorflow/core/grappler/optimizers/custom_graph_optimizer_registry.cc:113] Plugin optimizer for device_type GPU is enabled.\n"
     ]
    },
    {
     "name": "stdout",
     "output_type": "stream",
     "text": [
      "41/41 [==============================] - 0s 4ms/step\n",
      "41/41 [==============================] - 0s 2ms/step\n"
     ]
    },
    {
     "name": "stderr",
     "output_type": "stream",
     "text": [
      "2023-04-19 10:36:48.304939: I tensorflow/core/grappler/optimizers/custom_graph_optimizer_registry.cc:113] Plugin optimizer for device_type GPU is enabled.\n"
     ]
    },
    {
     "name": "stdout",
     "output_type": "stream",
     "text": [
      "41/41 [==============================] - 0s 3ms/step\n"
     ]
    },
    {
     "name": "stderr",
     "output_type": "stream",
     "text": [
      "2023-04-19 10:36:54.430608: I tensorflow/core/grappler/optimizers/custom_graph_optimizer_registry.cc:113] Plugin optimizer for device_type GPU is enabled.\n"
     ]
    },
    {
     "name": "stdout",
     "output_type": "stream",
     "text": [
      "41/41 [==============================] - 0s 2ms/step\n"
     ]
    },
    {
     "name": "stderr",
     "output_type": "stream",
     "text": [
      "2023-04-19 10:36:54.853585: I tensorflow/core/grappler/optimizers/custom_graph_optimizer_registry.cc:113] Plugin optimizer for device_type GPU is enabled.\n"
     ]
    },
    {
     "name": "stdout",
     "output_type": "stream",
     "text": [
      "15/41 [=========>....................] - ETA: 0s"
     ]
    },
    {
     "name": "stderr",
     "output_type": "stream",
     "text": [
      "2023-04-19 10:37:01.216051: I tensorflow/core/grappler/optimizers/custom_graph_optimizer_registry.cc:113] Plugin optimizer for device_type GPU is enabled.\n"
     ]
    },
    {
     "name": "stdout",
     "output_type": "stream",
     "text": [
      "41/41 [==============================] - 0s 5ms/step\n",
      "41/41 [==============================] - 0s 2ms/step\n"
     ]
    },
    {
     "name": "stderr",
     "output_type": "stream",
     "text": [
      "2023-04-19 10:37:01.750016: I tensorflow/core/grappler/optimizers/custom_graph_optimizer_registry.cc:113] Plugin optimizer for device_type GPU is enabled.\n"
     ]
    },
    {
     "name": "stdout",
     "output_type": "stream",
     "text": [
      "17/41 [===========>..................] - ETA: 0s"
     ]
    },
    {
     "name": "stderr",
     "output_type": "stream",
     "text": [
      "2023-04-19 10:37:08.343058: I tensorflow/core/grappler/optimizers/custom_graph_optimizer_registry.cc:113] Plugin optimizer for device_type GPU is enabled.\n"
     ]
    },
    {
     "name": "stdout",
     "output_type": "stream",
     "text": [
      "41/41 [==============================] - 0s 4ms/step\n",
      "41/41 [==============================] - 0s 2ms/step\n"
     ]
    },
    {
     "name": "stderr",
     "output_type": "stream",
     "text": [
      "2023-04-19 10:37:08.826608: I tensorflow/core/grappler/optimizers/custom_graph_optimizer_registry.cc:113] Plugin optimizer for device_type GPU is enabled.\n"
     ]
    },
    {
     "name": "stdout",
     "output_type": "stream",
     "text": [
      "17/41 [===========>..................] - ETA: 0s"
     ]
    },
    {
     "name": "stderr",
     "output_type": "stream",
     "text": [
      "2023-04-19 10:37:15.633203: I tensorflow/core/grappler/optimizers/custom_graph_optimizer_registry.cc:113] Plugin optimizer for device_type GPU is enabled.\n"
     ]
    },
    {
     "name": "stdout",
     "output_type": "stream",
     "text": [
      "41/41 [==============================] - 0s 4ms/step\n",
      "41/41 [==============================] - 0s 2ms/step\n"
     ]
    },
    {
     "name": "stderr",
     "output_type": "stream",
     "text": [
      "2023-04-19 10:37:16.106490: I tensorflow/core/grappler/optimizers/custom_graph_optimizer_registry.cc:113] Plugin optimizer for device_type GPU is enabled.\n"
     ]
    },
    {
     "name": "stdout",
     "output_type": "stream",
     "text": [
      "40/41 [============================>.] - ETA: 0s"
     ]
    },
    {
     "name": "stderr",
     "output_type": "stream",
     "text": [
      "2023-04-19 10:37:22.718443: I tensorflow/core/grappler/optimizers/custom_graph_optimizer_registry.cc:113] Plugin optimizer for device_type GPU is enabled.\n"
     ]
    },
    {
     "name": "stdout",
     "output_type": "stream",
     "text": [
      "41/41 [==============================] - 0s 4ms/step\n",
      "41/41 [==============================] - 0s 2ms/step\n"
     ]
    },
    {
     "name": "stderr",
     "output_type": "stream",
     "text": [
      "2023-04-19 10:37:23.219837: I tensorflow/core/grappler/optimizers/custom_graph_optimizer_registry.cc:113] Plugin optimizer for device_type GPU is enabled.\n"
     ]
    },
    {
     "name": "stdout",
     "output_type": "stream",
     "text": [
      "17/41 [===========>..................] - ETA: 0s"
     ]
    },
    {
     "name": "stderr",
     "output_type": "stream",
     "text": [
      "2023-04-19 10:37:29.851149: I tensorflow/core/grappler/optimizers/custom_graph_optimizer_registry.cc:113] Plugin optimizer for device_type GPU is enabled.\n"
     ]
    },
    {
     "name": "stdout",
     "output_type": "stream",
     "text": [
      "41/41 [==============================] - 0s 4ms/step\n",
      "41/41 [==============================] - 0s 2ms/step\n"
     ]
    },
    {
     "name": "stderr",
     "output_type": "stream",
     "text": [
      "2023-04-19 10:37:30.329741: I tensorflow/core/grappler/optimizers/custom_graph_optimizer_registry.cc:113] Plugin optimizer for device_type GPU is enabled.\n"
     ]
    },
    {
     "name": "stdout",
     "output_type": "stream",
     "text": [
      "23/41 [===============>..............] - ETA: 0s"
     ]
    },
    {
     "name": "stderr",
     "output_type": "stream",
     "text": [
      "2023-04-19 10:37:37.042474: I tensorflow/core/grappler/optimizers/custom_graph_optimizer_registry.cc:113] Plugin optimizer for device_type GPU is enabled.\n"
     ]
    },
    {
     "name": "stdout",
     "output_type": "stream",
     "text": [
      "41/41 [==============================] - 0s 4ms/step\n",
      "41/41 [==============================] - 0s 2ms/step\n"
     ]
    },
    {
     "name": "stderr",
     "output_type": "stream",
     "text": [
      "2023-04-19 10:37:37.515586: I tensorflow/core/grappler/optimizers/custom_graph_optimizer_registry.cc:113] Plugin optimizer for device_type GPU is enabled.\n"
     ]
    },
    {
     "name": "stdout",
     "output_type": "stream",
     "text": [
      "14/41 [=========>....................] - ETA: 0s"
     ]
    },
    {
     "name": "stderr",
     "output_type": "stream",
     "text": [
      "2023-04-19 10:37:44.182528: I tensorflow/core/grappler/optimizers/custom_graph_optimizer_registry.cc:113] Plugin optimizer for device_type GPU is enabled.\n"
     ]
    },
    {
     "name": "stdout",
     "output_type": "stream",
     "text": [
      "41/41 [==============================] - 0s 5ms/step\n",
      "41/41 [==============================] - 0s 2ms/step\n"
     ]
    },
    {
     "name": "stderr",
     "output_type": "stream",
     "text": [
      "2023-04-19 10:37:47.051738: I tensorflow/core/grappler/optimizers/custom_graph_optimizer_registry.cc:113] Plugin optimizer for device_type GPU is enabled.\n"
     ]
    },
    {
     "name": "stdout",
     "output_type": "stream",
     "text": [
      "41/41 [==============================] - 0s 3ms/step\n"
     ]
    },
    {
     "name": "stderr",
     "output_type": "stream",
     "text": [
      "2023-04-19 10:37:53.967552: I tensorflow/core/grappler/optimizers/custom_graph_optimizer_registry.cc:113] Plugin optimizer for device_type GPU is enabled.\n"
     ]
    },
    {
     "name": "stdout",
     "output_type": "stream",
     "text": [
      "41/41 [==============================] - 0s 2ms/step\n"
     ]
    },
    {
     "name": "stderr",
     "output_type": "stream",
     "text": [
      "2023-04-19 10:37:54.391552: I tensorflow/core/grappler/optimizers/custom_graph_optimizer_registry.cc:113] Plugin optimizer for device_type GPU is enabled.\n"
     ]
    },
    {
     "name": "stdout",
     "output_type": "stream",
     "text": [
      "18/41 [============>.................] - ETA: 0s"
     ]
    },
    {
     "name": "stderr",
     "output_type": "stream",
     "text": [
      "2023-04-19 10:38:00.856224: I tensorflow/core/grappler/optimizers/custom_graph_optimizer_registry.cc:113] Plugin optimizer for device_type GPU is enabled.\n"
     ]
    },
    {
     "name": "stdout",
     "output_type": "stream",
     "text": [
      "41/41 [==============================] - 0s 4ms/step\n",
      "41/41 [==============================] - 0s 2ms/step\n"
     ]
    },
    {
     "name": "stderr",
     "output_type": "stream",
     "text": [
      "2023-04-19 10:38:01.350563: I tensorflow/core/grappler/optimizers/custom_graph_optimizer_registry.cc:113] Plugin optimizer for device_type GPU is enabled.\n"
     ]
    },
    {
     "name": "stdout",
     "output_type": "stream",
     "text": [
      "19/41 [============>.................] - ETA: 0s"
     ]
    },
    {
     "name": "stderr",
     "output_type": "stream",
     "text": [
      "2023-04-19 10:38:07.940840: I tensorflow/core/grappler/optimizers/custom_graph_optimizer_registry.cc:113] Plugin optimizer for device_type GPU is enabled.\n"
     ]
    },
    {
     "name": "stdout",
     "output_type": "stream",
     "text": [
      "41/41 [==============================] - 0s 4ms/step\n",
      "41/41 [==============================] - 0s 2ms/step\n"
     ]
    },
    {
     "name": "stderr",
     "output_type": "stream",
     "text": [
      "2023-04-19 10:38:08.415375: I tensorflow/core/grappler/optimizers/custom_graph_optimizer_registry.cc:113] Plugin optimizer for device_type GPU is enabled.\n"
     ]
    },
    {
     "name": "stdout",
     "output_type": "stream",
     "text": [
      "16/41 [==========>...................] - ETA: 0s"
     ]
    },
    {
     "name": "stderr",
     "output_type": "stream",
     "text": [
      "2023-04-19 10:38:15.223530: I tensorflow/core/grappler/optimizers/custom_graph_optimizer_registry.cc:113] Plugin optimizer for device_type GPU is enabled.\n"
     ]
    },
    {
     "name": "stdout",
     "output_type": "stream",
     "text": [
      "41/41 [==============================] - 0s 5ms/step\n",
      "41/41 [==============================] - 0s 2ms/step\n"
     ]
    },
    {
     "name": "stderr",
     "output_type": "stream",
     "text": [
      "2023-04-19 10:38:15.744129: I tensorflow/core/grappler/optimizers/custom_graph_optimizer_registry.cc:113] Plugin optimizer for device_type GPU is enabled.\n"
     ]
    },
    {
     "name": "stdout",
     "output_type": "stream",
     "text": [
      "41/41 [==============================] - 0s 3ms/step\n"
     ]
    },
    {
     "name": "stderr",
     "output_type": "stream",
     "text": [
      "2023-04-19 10:38:22.506561: I tensorflow/core/grappler/optimizers/custom_graph_optimizer_registry.cc:113] Plugin optimizer for device_type GPU is enabled.\n"
     ]
    },
    {
     "name": "stdout",
     "output_type": "stream",
     "text": [
      "41/41 [==============================] - 0s 2ms/step\n"
     ]
    },
    {
     "name": "stderr",
     "output_type": "stream",
     "text": [
      "2023-04-19 10:38:22.934764: I tensorflow/core/grappler/optimizers/custom_graph_optimizer_registry.cc:113] Plugin optimizer for device_type GPU is enabled.\n"
     ]
    },
    {
     "name": "stdout",
     "output_type": "stream",
     "text": [
      "22/41 [===============>..............] - ETA: 0s"
     ]
    },
    {
     "name": "stderr",
     "output_type": "stream",
     "text": [
      "2023-04-19 10:38:29.551608: I tensorflow/core/grappler/optimizers/custom_graph_optimizer_registry.cc:113] Plugin optimizer for device_type GPU is enabled.\n"
     ]
    },
    {
     "name": "stdout",
     "output_type": "stream",
     "text": [
      "41/41 [==============================] - 0s 3ms/step\n",
      "41/41 [==============================] - 0s 2ms/step\n"
     ]
    },
    {
     "name": "stderr",
     "output_type": "stream",
     "text": [
      "2023-04-19 10:38:30.050431: I tensorflow/core/grappler/optimizers/custom_graph_optimizer_registry.cc:113] Plugin optimizer for device_type GPU is enabled.\n"
     ]
    },
    {
     "name": "stdout",
     "output_type": "stream",
     "text": [
      "17/41 [===========>..................] - ETA: 0s"
     ]
    },
    {
     "name": "stderr",
     "output_type": "stream",
     "text": [
      "2023-04-19 10:38:36.135547: I tensorflow/core/grappler/optimizers/custom_graph_optimizer_registry.cc:113] Plugin optimizer for device_type GPU is enabled.\n"
     ]
    },
    {
     "name": "stdout",
     "output_type": "stream",
     "text": [
      "41/41 [==============================] - 0s 4ms/step\n",
      "41/41 [==============================] - 0s 2ms/step\n"
     ]
    },
    {
     "name": "stderr",
     "output_type": "stream",
     "text": [
      "2023-04-19 10:38:36.653805: I tensorflow/core/grappler/optimizers/custom_graph_optimizer_registry.cc:113] Plugin optimizer for device_type GPU is enabled.\n"
     ]
    },
    {
     "name": "stdout",
     "output_type": "stream",
     "text": [
      "24/41 [================>.............] - ETA: 0s"
     ]
    },
    {
     "name": "stderr",
     "output_type": "stream",
     "text": [
      "2023-04-19 10:38:43.353626: I tensorflow/core/grappler/optimizers/custom_graph_optimizer_registry.cc:113] Plugin optimizer for device_type GPU is enabled.\n"
     ]
    },
    {
     "name": "stdout",
     "output_type": "stream",
     "text": [
      "41/41 [==============================] - 0s 3ms/step\n",
      "41/41 [==============================] - 0s 2ms/step\n"
     ]
    },
    {
     "name": "stderr",
     "output_type": "stream",
     "text": [
      "2023-04-19 10:38:43.829863: I tensorflow/core/grappler/optimizers/custom_graph_optimizer_registry.cc:113] Plugin optimizer for device_type GPU is enabled.\n"
     ]
    },
    {
     "name": "stdout",
     "output_type": "stream",
     "text": [
      "22/41 [===============>..............] - ETA: 0s"
     ]
    },
    {
     "name": "stderr",
     "output_type": "stream",
     "text": [
      "2023-04-19 10:38:49.967679: I tensorflow/core/grappler/optimizers/custom_graph_optimizer_registry.cc:113] Plugin optimizer for device_type GPU is enabled.\n"
     ]
    },
    {
     "name": "stdout",
     "output_type": "stream",
     "text": [
      "41/41 [==============================] - 0s 3ms/step\n",
      "41/41 [==============================] - 0s 2ms/step\n"
     ]
    },
    {
     "name": "stderr",
     "output_type": "stream",
     "text": [
      "2023-04-19 10:38:50.467703: I tensorflow/core/grappler/optimizers/custom_graph_optimizer_registry.cc:113] Plugin optimizer for device_type GPU is enabled.\n"
     ]
    },
    {
     "name": "stdout",
     "output_type": "stream",
     "text": [
      "41/41 [==============================] - 0s 3ms/step\n"
     ]
    },
    {
     "name": "stderr",
     "output_type": "stream",
     "text": [
      "2023-04-19 10:38:57.089948: I tensorflow/core/grappler/optimizers/custom_graph_optimizer_registry.cc:113] Plugin optimizer for device_type GPU is enabled.\n"
     ]
    },
    {
     "name": "stdout",
     "output_type": "stream",
     "text": [
      "41/41 [==============================] - 0s 2ms/step\n"
     ]
    },
    {
     "name": "stderr",
     "output_type": "stream",
     "text": [
      "2023-04-19 10:38:57.533995: I tensorflow/core/grappler/optimizers/custom_graph_optimizer_registry.cc:113] Plugin optimizer for device_type GPU is enabled.\n"
     ]
    },
    {
     "name": "stdout",
     "output_type": "stream",
     "text": [
      "17/41 [===========>..................] - ETA: 0s"
     ]
    },
    {
     "name": "stderr",
     "output_type": "stream",
     "text": [
      "2023-04-19 10:39:03.820792: I tensorflow/core/grappler/optimizers/custom_graph_optimizer_registry.cc:113] Plugin optimizer for device_type GPU is enabled.\n"
     ]
    },
    {
     "name": "stdout",
     "output_type": "stream",
     "text": [
      "41/41 [==============================] - 0s 4ms/step\n",
      "41/41 [==============================] - 0s 2ms/step\n"
     ]
    },
    {
     "name": "stderr",
     "output_type": "stream",
     "text": [
      "2023-04-19 10:39:04.323107: I tensorflow/core/grappler/optimizers/custom_graph_optimizer_registry.cc:113] Plugin optimizer for device_type GPU is enabled.\n"
     ]
    },
    {
     "name": "stdout",
     "output_type": "stream",
     "text": [
      "21/41 [==============>...............] - ETA: 0s"
     ]
    },
    {
     "name": "stderr",
     "output_type": "stream",
     "text": [
      "2023-04-19 10:39:10.643295: I tensorflow/core/grappler/optimizers/custom_graph_optimizer_registry.cc:113] Plugin optimizer for device_type GPU is enabled.\n"
     ]
    },
    {
     "name": "stdout",
     "output_type": "stream",
     "text": [
      "41/41 [==============================] - 0s 3ms/step\n",
      "41/41 [==============================] - 0s 2ms/step\n"
     ]
    },
    {
     "name": "stderr",
     "output_type": "stream",
     "text": [
      "2023-04-19 10:39:11.142565: I tensorflow/core/grappler/optimizers/custom_graph_optimizer_registry.cc:113] Plugin optimizer for device_type GPU is enabled.\n"
     ]
    },
    {
     "name": "stdout",
     "output_type": "stream",
     "text": [
      "17/41 [===========>..................] - ETA: 0s"
     ]
    },
    {
     "name": "stderr",
     "output_type": "stream",
     "text": [
      "2023-04-19 10:39:17.026984: I tensorflow/core/grappler/optimizers/custom_graph_optimizer_registry.cc:113] Plugin optimizer for device_type GPU is enabled.\n"
     ]
    },
    {
     "name": "stdout",
     "output_type": "stream",
     "text": [
      "41/41 [==============================] - 0s 5ms/step\n",
      "41/41 [==============================] - 0s 2ms/step\n"
     ]
    },
    {
     "name": "stderr",
     "output_type": "stream",
     "text": [
      "2023-04-19 10:39:17.572670: I tensorflow/core/grappler/optimizers/custom_graph_optimizer_registry.cc:113] Plugin optimizer for device_type GPU is enabled.\n"
     ]
    },
    {
     "name": "stdout",
     "output_type": "stream",
     "text": [
      "41/41 [==============================] - 0s 3ms/step\n",
      " 1/41 [..............................] - ETA: 0s"
     ]
    },
    {
     "name": "stderr",
     "output_type": "stream",
     "text": [
      "2023-04-19 10:39:23.247599: I tensorflow/core/grappler/optimizers/custom_graph_optimizer_registry.cc:113] Plugin optimizer for device_type GPU is enabled.\n"
     ]
    },
    {
     "name": "stdout",
     "output_type": "stream",
     "text": [
      "41/41 [==============================] - 0s 2ms/step\n"
     ]
    },
    {
     "name": "stderr",
     "output_type": "stream",
     "text": [
      "2023-04-19 10:39:23.664088: I tensorflow/core/grappler/optimizers/custom_graph_optimizer_registry.cc:113] Plugin optimizer for device_type GPU is enabled.\n"
     ]
    },
    {
     "name": "stdout",
     "output_type": "stream",
     "text": [
      "18/41 [============>.................] - ETA: 0s"
     ]
    },
    {
     "name": "stderr",
     "output_type": "stream",
     "text": [
      "2023-04-19 10:39:29.770856: I tensorflow/core/grappler/optimizers/custom_graph_optimizer_registry.cc:113] Plugin optimizer for device_type GPU is enabled.\n"
     ]
    },
    {
     "name": "stdout",
     "output_type": "stream",
     "text": [
      "41/41 [==============================] - 0s 4ms/step\n",
      "41/41 [==============================] - 0s 2ms/step\n"
     ]
    },
    {
     "name": "stderr",
     "output_type": "stream",
     "text": [
      "2023-04-19 10:39:30.276687: I tensorflow/core/grappler/optimizers/custom_graph_optimizer_registry.cc:113] Plugin optimizer for device_type GPU is enabled.\n"
     ]
    },
    {
     "name": "stdout",
     "output_type": "stream",
     "text": [
      "15/41 [=========>....................] - ETA: 0s"
     ]
    },
    {
     "name": "stderr",
     "output_type": "stream",
     "text": [
      "2023-04-19 10:39:36.958680: I tensorflow/core/grappler/optimizers/custom_graph_optimizer_registry.cc:113] Plugin optimizer for device_type GPU is enabled.\n"
     ]
    },
    {
     "name": "stdout",
     "output_type": "stream",
     "text": [
      "41/41 [==============================] - 0s 5ms/step\n",
      "41/41 [==============================] - 0s 2ms/step\n"
     ]
    },
    {
     "name": "stderr",
     "output_type": "stream",
     "text": [
      "2023-04-19 10:39:37.480050: I tensorflow/core/grappler/optimizers/custom_graph_optimizer_registry.cc:113] Plugin optimizer for device_type GPU is enabled.\n"
     ]
    },
    {
     "name": "stdout",
     "output_type": "stream",
     "text": [
      "38/41 [==========================>...] - ETA: 0s"
     ]
    },
    {
     "name": "stderr",
     "output_type": "stream",
     "text": [
      "2023-04-19 10:39:43.634239: I tensorflow/core/grappler/optimizers/custom_graph_optimizer_registry.cc:113] Plugin optimizer for device_type GPU is enabled.\n"
     ]
    },
    {
     "name": "stdout",
     "output_type": "stream",
     "text": [
      "41/41 [==============================] - 0s 6ms/step\n",
      "41/41 [==============================] - 0s 6ms/step\n"
     ]
    },
    {
     "name": "stderr",
     "output_type": "stream",
     "text": [
      "2023-04-19 10:39:44.346533: I tensorflow/core/grappler/optimizers/custom_graph_optimizer_registry.cc:113] Plugin optimizer for device_type GPU is enabled.\n"
     ]
    },
    {
     "name": "stdout",
     "output_type": "stream",
     "text": [
      "16/41 [==========>...................] - ETA: 0s"
     ]
    },
    {
     "name": "stderr",
     "output_type": "stream",
     "text": [
      "2023-04-19 10:39:51.032604: I tensorflow/core/grappler/optimizers/custom_graph_optimizer_registry.cc:113] Plugin optimizer for device_type GPU is enabled.\n"
     ]
    },
    {
     "name": "stdout",
     "output_type": "stream",
     "text": [
      "41/41 [==============================] - 0s 4ms/step\n",
      "41/41 [==============================] - 0s 2ms/step\n"
     ]
    },
    {
     "name": "stderr",
     "output_type": "stream",
     "text": [
      "2023-04-19 10:39:51.555518: I tensorflow/core/grappler/optimizers/custom_graph_optimizer_registry.cc:113] Plugin optimizer for device_type GPU is enabled.\n"
     ]
    },
    {
     "name": "stdout",
     "output_type": "stream",
     "text": [
      "17/41 [===========>..................] - ETA: 0s"
     ]
    },
    {
     "name": "stderr",
     "output_type": "stream",
     "text": [
      "2023-04-19 10:39:58.535506: I tensorflow/core/grappler/optimizers/custom_graph_optimizer_registry.cc:113] Plugin optimizer for device_type GPU is enabled.\n"
     ]
    },
    {
     "name": "stdout",
     "output_type": "stream",
     "text": [
      "41/41 [==============================] - 0s 4ms/step\n",
      "41/41 [==============================] - 0s 2ms/step\n"
     ]
    },
    {
     "name": "stderr",
     "output_type": "stream",
     "text": [
      "2023-04-19 10:39:59.060205: I tensorflow/core/grappler/optimizers/custom_graph_optimizer_registry.cc:113] Plugin optimizer for device_type GPU is enabled.\n"
     ]
    },
    {
     "name": "stdout",
     "output_type": "stream",
     "text": [
      "23/41 [===============>..............] - ETA: 0s"
     ]
    },
    {
     "name": "stderr",
     "output_type": "stream",
     "text": [
      "2023-04-19 10:40:05.077524: I tensorflow/core/grappler/optimizers/custom_graph_optimizer_registry.cc:113] Plugin optimizer for device_type GPU is enabled.\n"
     ]
    },
    {
     "name": "stdout",
     "output_type": "stream",
     "text": [
      "41/41 [==============================] - 0s 4ms/step\n",
      "41/41 [==============================] - 0s 2ms/step\n"
     ]
    },
    {
     "name": "stderr",
     "output_type": "stream",
     "text": [
      "2023-04-19 10:40:05.578972: I tensorflow/core/grappler/optimizers/custom_graph_optimizer_registry.cc:113] Plugin optimizer for device_type GPU is enabled.\n"
     ]
    },
    {
     "name": "stdout",
     "output_type": "stream",
     "text": [
      "15/41 [=========>....................] - ETA: 0s"
     ]
    },
    {
     "name": "stderr",
     "output_type": "stream",
     "text": [
      "2023-04-19 10:40:12.381541: I tensorflow/core/grappler/optimizers/custom_graph_optimizer_registry.cc:113] Plugin optimizer for device_type GPU is enabled.\n"
     ]
    },
    {
     "name": "stdout",
     "output_type": "stream",
     "text": [
      "41/41 [==============================] - 0s 5ms/step\n",
      "41/41 [==============================] - 0s 2ms/step\n"
     ]
    },
    {
     "name": "stderr",
     "output_type": "stream",
     "text": [
      "2023-04-19 10:40:12.932181: I tensorflow/core/grappler/optimizers/custom_graph_optimizer_registry.cc:113] Plugin optimizer for device_type GPU is enabled.\n"
     ]
    },
    {
     "name": "stdout",
     "output_type": "stream",
     "text": [
      "23/41 [===============>..............] - ETA: 0s"
     ]
    },
    {
     "name": "stderr",
     "output_type": "stream",
     "text": [
      "2023-04-19 10:40:19.222144: I tensorflow/core/grappler/optimizers/custom_graph_optimizer_registry.cc:113] Plugin optimizer for device_type GPU is enabled.\n"
     ]
    },
    {
     "name": "stdout",
     "output_type": "stream",
     "text": [
      "41/41 [==============================] - 0s 3ms/step\n",
      "41/41 [==============================] - 0s 2ms/step\n"
     ]
    },
    {
     "name": "stderr",
     "output_type": "stream",
     "text": [
      "2023-04-19 10:40:19.696326: I tensorflow/core/grappler/optimizers/custom_graph_optimizer_registry.cc:113] Plugin optimizer for device_type GPU is enabled.\n"
     ]
    },
    {
     "name": "stdout",
     "output_type": "stream",
     "text": [
      "17/41 [===========>..................] - ETA: 0s"
     ]
    },
    {
     "name": "stderr",
     "output_type": "stream",
     "text": [
      "2023-04-19 10:40:26.307138: I tensorflow/core/grappler/optimizers/custom_graph_optimizer_registry.cc:113] Plugin optimizer for device_type GPU is enabled.\n"
     ]
    },
    {
     "name": "stdout",
     "output_type": "stream",
     "text": [
      "41/41 [==============================] - 0s 5ms/step\n",
      "41/41 [==============================] - 0s 2ms/step\n"
     ]
    },
    {
     "name": "stderr",
     "output_type": "stream",
     "text": [
      "2023-04-19 10:40:26.836321: I tensorflow/core/grappler/optimizers/custom_graph_optimizer_registry.cc:113] Plugin optimizer for device_type GPU is enabled.\n"
     ]
    },
    {
     "name": "stdout",
     "output_type": "stream",
     "text": [
      "41/41 [==============================] - 0s 3ms/step\n"
     ]
    },
    {
     "name": "stderr",
     "output_type": "stream",
     "text": [
      "2023-04-19 10:40:33.258214: I tensorflow/core/grappler/optimizers/custom_graph_optimizer_registry.cc:113] Plugin optimizer for device_type GPU is enabled.\n"
     ]
    },
    {
     "name": "stdout",
     "output_type": "stream",
     "text": [
      "41/41 [==============================] - 0s 2ms/step\n"
     ]
    },
    {
     "name": "stderr",
     "output_type": "stream",
     "text": [
      "2023-04-19 10:40:33.687335: I tensorflow/core/grappler/optimizers/custom_graph_optimizer_registry.cc:113] Plugin optimizer for device_type GPU is enabled.\n"
     ]
    },
    {
     "name": "stdout",
     "output_type": "stream",
     "text": [
      "24/41 [================>.............] - ETA: 0s"
     ]
    },
    {
     "name": "stderr",
     "output_type": "stream",
     "text": [
      "2023-04-19 10:40:40.113799: I tensorflow/core/grappler/optimizers/custom_graph_optimizer_registry.cc:113] Plugin optimizer for device_type GPU is enabled.\n"
     ]
    },
    {
     "name": "stdout",
     "output_type": "stream",
     "text": [
      "41/41 [==============================] - 0s 3ms/step\n",
      "41/41 [==============================] - 0s 2ms/step\n"
     ]
    },
    {
     "name": "stderr",
     "output_type": "stream",
     "text": [
      "2023-04-19 10:40:40.586117: I tensorflow/core/grappler/optimizers/custom_graph_optimizer_registry.cc:113] Plugin optimizer for device_type GPU is enabled.\n"
     ]
    },
    {
     "name": "stdout",
     "output_type": "stream",
     "text": [
      "15/41 [=========>....................] - ETA: 0s"
     ]
    },
    {
     "name": "stderr",
     "output_type": "stream",
     "text": [
      "2023-04-19 10:40:47.565029: I tensorflow/core/grappler/optimizers/custom_graph_optimizer_registry.cc:113] Plugin optimizer for device_type GPU is enabled.\n"
     ]
    },
    {
     "name": "stdout",
     "output_type": "stream",
     "text": [
      "41/41 [==============================] - 0s 4ms/step\n",
      "41/41 [==============================] - 0s 3ms/step\n"
     ]
    },
    {
     "name": "stderr",
     "output_type": "stream",
     "text": [
      "2023-04-19 10:40:50.560226: I tensorflow/core/grappler/optimizers/custom_graph_optimizer_registry.cc:113] Plugin optimizer for device_type GPU is enabled.\n"
     ]
    },
    {
     "name": "stdout",
     "output_type": "stream",
     "text": [
      "16/41 [==========>...................] - ETA: 0s"
     ]
    },
    {
     "name": "stderr",
     "output_type": "stream",
     "text": [
      "2023-04-19 10:40:57.804240: I tensorflow/core/grappler/optimizers/custom_graph_optimizer_registry.cc:113] Plugin optimizer for device_type GPU is enabled.\n"
     ]
    },
    {
     "name": "stdout",
     "output_type": "stream",
     "text": [
      "41/41 [==============================] - 0s 5ms/step\n",
      "41/41 [==============================] - 0s 2ms/step\n"
     ]
    },
    {
     "name": "stderr",
     "output_type": "stream",
     "text": [
      "2023-04-19 10:40:58.358120: I tensorflow/core/grappler/optimizers/custom_graph_optimizer_registry.cc:113] Plugin optimizer for device_type GPU is enabled.\n"
     ]
    },
    {
     "name": "stdout",
     "output_type": "stream",
     "text": [
      "41/41 [==============================] - 0s 3ms/step\n"
     ]
    },
    {
     "name": "stderr",
     "output_type": "stream",
     "text": [
      "2023-04-19 10:41:04.549785: I tensorflow/core/grappler/optimizers/custom_graph_optimizer_registry.cc:113] Plugin optimizer for device_type GPU is enabled.\n"
     ]
    },
    {
     "name": "stdout",
     "output_type": "stream",
     "text": [
      "41/41 [==============================] - 0s 2ms/step\n"
     ]
    },
    {
     "name": "stderr",
     "output_type": "stream",
     "text": [
      "2023-04-19 10:41:04.995516: I tensorflow/core/grappler/optimizers/custom_graph_optimizer_registry.cc:113] Plugin optimizer for device_type GPU is enabled.\n"
     ]
    },
    {
     "name": "stdout",
     "output_type": "stream",
     "text": [
      "41/41 [==============================] - 0s 3ms/step\n",
      " 1/41 [..............................] - ETA: 0s"
     ]
    },
    {
     "name": "stderr",
     "output_type": "stream",
     "text": [
      "2023-04-19 10:41:11.260437: I tensorflow/core/grappler/optimizers/custom_graph_optimizer_registry.cc:113] Plugin optimizer for device_type GPU is enabled.\n"
     ]
    },
    {
     "name": "stdout",
     "output_type": "stream",
     "text": [
      "41/41 [==============================] - 0s 3ms/step\n"
     ]
    },
    {
     "name": "stderr",
     "output_type": "stream",
     "text": [
      "2023-04-19 10:41:11.747040: I tensorflow/core/grappler/optimizers/custom_graph_optimizer_registry.cc:113] Plugin optimizer for device_type GPU is enabled.\n"
     ]
    },
    {
     "name": "stdout",
     "output_type": "stream",
     "text": [
      "41/41 [==============================] - 0s 3ms/step\n"
     ]
    },
    {
     "name": "stderr",
     "output_type": "stream",
     "text": [
      "2023-04-19 10:41:17.338512: I tensorflow/core/grappler/optimizers/custom_graph_optimizer_registry.cc:113] Plugin optimizer for device_type GPU is enabled.\n"
     ]
    },
    {
     "name": "stdout",
     "output_type": "stream",
     "text": [
      "41/41 [==============================] - 0s 2ms/step\n"
     ]
    },
    {
     "name": "stderr",
     "output_type": "stream",
     "text": [
      "2023-04-19 10:41:17.771877: I tensorflow/core/grappler/optimizers/custom_graph_optimizer_registry.cc:113] Plugin optimizer for device_type GPU is enabled.\n"
     ]
    },
    {
     "name": "stdout",
     "output_type": "stream",
     "text": [
      "41/41 [==============================] - ETA: 0s"
     ]
    },
    {
     "name": "stderr",
     "output_type": "stream",
     "text": [
      "2023-04-19 10:41:22.973480: I tensorflow/core/grappler/optimizers/custom_graph_optimizer_registry.cc:113] Plugin optimizer for device_type GPU is enabled.\n"
     ]
    },
    {
     "name": "stdout",
     "output_type": "stream",
     "text": [
      "41/41 [==============================] - 0s 3ms/step\n",
      "41/41 [==============================] - 0s 1ms/step\n"
     ]
    },
    {
     "name": "stderr",
     "output_type": "stream",
     "text": [
      "2023-04-19 10:41:23.398680: I tensorflow/core/grappler/optimizers/custom_graph_optimizer_registry.cc:113] Plugin optimizer for device_type GPU is enabled.\n"
     ]
    },
    {
     "name": "stdout",
     "output_type": "stream",
     "text": [
      "23/41 [===============>..............] - ETA: 0s"
     ]
    },
    {
     "name": "stderr",
     "output_type": "stream",
     "text": [
      "2023-04-19 10:41:28.759074: I tensorflow/core/grappler/optimizers/custom_graph_optimizer_registry.cc:113] Plugin optimizer for device_type GPU is enabled.\n"
     ]
    },
    {
     "name": "stdout",
     "output_type": "stream",
     "text": [
      "41/41 [==============================] - 0s 4ms/step\n",
      "41/41 [==============================] - 0s 2ms/step\n"
     ]
    },
    {
     "name": "stderr",
     "output_type": "stream",
     "text": [
      "2023-04-19 10:41:29.232009: I tensorflow/core/grappler/optimizers/custom_graph_optimizer_registry.cc:113] Plugin optimizer for device_type GPU is enabled.\n"
     ]
    },
    {
     "name": "stdout",
     "output_type": "stream",
     "text": [
      "41/41 [==============================] - ETA: 0s"
     ]
    },
    {
     "name": "stderr",
     "output_type": "stream",
     "text": [
      "2023-04-19 10:41:34.498983: I tensorflow/core/grappler/optimizers/custom_graph_optimizer_registry.cc:113] Plugin optimizer for device_type GPU is enabled.\n"
     ]
    },
    {
     "name": "stdout",
     "output_type": "stream",
     "text": [
      "41/41 [==============================] - 0s 3ms/step\n",
      "41/41 [==============================] - 0s 2ms/step\n"
     ]
    },
    {
     "name": "stderr",
     "output_type": "stream",
     "text": [
      "2023-04-19 10:41:34.934276: I tensorflow/core/grappler/optimizers/custom_graph_optimizer_registry.cc:113] Plugin optimizer for device_type GPU is enabled.\n"
     ]
    },
    {
     "name": "stdout",
     "output_type": "stream",
     "text": [
      "22/41 [===============>..............] - ETA: 0s"
     ]
    },
    {
     "name": "stderr",
     "output_type": "stream",
     "text": [
      "2023-04-19 10:41:40.535602: I tensorflow/core/grappler/optimizers/custom_graph_optimizer_registry.cc:113] Plugin optimizer for device_type GPU is enabled.\n"
     ]
    },
    {
     "name": "stdout",
     "output_type": "stream",
     "text": [
      "41/41 [==============================] - 0s 3ms/step\n",
      "41/41 [==============================] - 0s 4ms/step\n"
     ]
    },
    {
     "name": "stderr",
     "output_type": "stream",
     "text": [
      "2023-04-19 10:41:41.087453: I tensorflow/core/grappler/optimizers/custom_graph_optimizer_registry.cc:113] Plugin optimizer for device_type GPU is enabled.\n"
     ]
    },
    {
     "name": "stdout",
     "output_type": "stream",
     "text": [
      "25/41 [=================>............] - ETA: 0s"
     ]
    },
    {
     "name": "stderr",
     "output_type": "stream",
     "text": [
      "2023-04-19 10:41:46.777577: I tensorflow/core/grappler/optimizers/custom_graph_optimizer_registry.cc:113] Plugin optimizer for device_type GPU is enabled.\n"
     ]
    },
    {
     "name": "stdout",
     "output_type": "stream",
     "text": [
      "41/41 [==============================] - 0s 4ms/step\n",
      "41/41 [==============================] - 0s 2ms/step\n"
     ]
    },
    {
     "name": "stderr",
     "output_type": "stream",
     "text": [
      "2023-04-19 10:41:47.254517: I tensorflow/core/grappler/optimizers/custom_graph_optimizer_registry.cc:113] Plugin optimizer for device_type GPU is enabled.\n"
     ]
    },
    {
     "name": "stdout",
     "output_type": "stream",
     "text": [
      "30/41 [====================>.........] - ETA: 0s"
     ]
    },
    {
     "name": "stderr",
     "output_type": "stream",
     "text": [
      "2023-04-19 10:41:52.271958: I tensorflow/core/grappler/optimizers/custom_graph_optimizer_registry.cc:113] Plugin optimizer for device_type GPU is enabled.\n"
     ]
    },
    {
     "name": "stdout",
     "output_type": "stream",
     "text": [
      "41/41 [==============================] - 0s 3ms/step\n",
      "41/41 [==============================] - 0s 1ms/step\n"
     ]
    },
    {
     "name": "stderr",
     "output_type": "stream",
     "text": [
      "2023-04-19 10:41:52.701229: I tensorflow/core/grappler/optimizers/custom_graph_optimizer_registry.cc:113] Plugin optimizer for device_type GPU is enabled.\n"
     ]
    },
    {
     "name": "stdout",
     "output_type": "stream",
     "text": [
      "29/41 [====================>.........] - ETA: 0s"
     ]
    },
    {
     "name": "stderr",
     "output_type": "stream",
     "text": [
      "2023-04-19 10:41:58.227150: I tensorflow/core/grappler/optimizers/custom_graph_optimizer_registry.cc:113] Plugin optimizer for device_type GPU is enabled.\n"
     ]
    },
    {
     "name": "stdout",
     "output_type": "stream",
     "text": [
      "41/41 [==============================] - 0s 4ms/step\n",
      "41/41 [==============================] - 0s 2ms/step\n"
     ]
    },
    {
     "name": "stderr",
     "output_type": "stream",
     "text": [
      "2023-04-19 10:41:58.700632: I tensorflow/core/grappler/optimizers/custom_graph_optimizer_registry.cc:113] Plugin optimizer for device_type GPU is enabled.\n"
     ]
    },
    {
     "name": "stdout",
     "output_type": "stream",
     "text": [
      "23/41 [===============>..............] - ETA: 0s"
     ]
    },
    {
     "name": "stderr",
     "output_type": "stream",
     "text": [
      "2023-04-19 10:42:04.229315: I tensorflow/core/grappler/optimizers/custom_graph_optimizer_registry.cc:113] Plugin optimizer for device_type GPU is enabled.\n"
     ]
    },
    {
     "name": "stdout",
     "output_type": "stream",
     "text": [
      "41/41 [==============================] - 0s 3ms/step\n",
      "41/41 [==============================] - 0s 2ms/step\n"
     ]
    },
    {
     "name": "stderr",
     "output_type": "stream",
     "text": [
      "2023-04-19 10:42:04.685370: I tensorflow/core/grappler/optimizers/custom_graph_optimizer_registry.cc:113] Plugin optimizer for device_type GPU is enabled.\n"
     ]
    },
    {
     "name": "stdout",
     "output_type": "stream",
     "text": [
      "24/41 [================>.............] - ETA: 0s"
     ]
    },
    {
     "name": "stderr",
     "output_type": "stream",
     "text": [
      "2023-04-19 10:42:10.391966: I tensorflow/core/grappler/optimizers/custom_graph_optimizer_registry.cc:113] Plugin optimizer for device_type GPU is enabled.\n"
     ]
    },
    {
     "name": "stdout",
     "output_type": "stream",
     "text": [
      "41/41 [==============================] - 0s 4ms/step\n",
      "41/41 [==============================] - 0s 2ms/step\n"
     ]
    },
    {
     "name": "stderr",
     "output_type": "stream",
     "text": [
      "2023-04-19 10:42:10.869678: I tensorflow/core/grappler/optimizers/custom_graph_optimizer_registry.cc:113] Plugin optimizer for device_type GPU is enabled.\n"
     ]
    },
    {
     "name": "stdout",
     "output_type": "stream",
     "text": [
      "41/41 [==============================] - 0s 3ms/step\n",
      " 1/41 [..............................] - ETA: 0s"
     ]
    },
    {
     "name": "stderr",
     "output_type": "stream",
     "text": [
      "2023-04-19 10:42:16.931542: I tensorflow/core/grappler/optimizers/custom_graph_optimizer_registry.cc:113] Plugin optimizer for device_type GPU is enabled.\n"
     ]
    },
    {
     "name": "stdout",
     "output_type": "stream",
     "text": [
      "41/41 [==============================] - 0s 1ms/step\n"
     ]
    },
    {
     "name": "stderr",
     "output_type": "stream",
     "text": [
      "2023-04-19 10:42:17.315601: I tensorflow/core/grappler/optimizers/custom_graph_optimizer_registry.cc:113] Plugin optimizer for device_type GPU is enabled.\n"
     ]
    },
    {
     "name": "stdout",
     "output_type": "stream",
     "text": [
      "24/41 [================>.............] - ETA: 0s"
     ]
    },
    {
     "name": "stderr",
     "output_type": "stream",
     "text": [
      "2023-04-19 10:42:23.845280: I tensorflow/core/grappler/optimizers/custom_graph_optimizer_registry.cc:113] Plugin optimizer for device_type GPU is enabled.\n"
     ]
    },
    {
     "name": "stdout",
     "output_type": "stream",
     "text": [
      "41/41 [==============================] - 0s 4ms/step\n",
      "41/41 [==============================] - 0s 2ms/step\n"
     ]
    },
    {
     "name": "stderr",
     "output_type": "stream",
     "text": [
      "2023-04-19 10:42:24.319160: I tensorflow/core/grappler/optimizers/custom_graph_optimizer_registry.cc:113] Plugin optimizer for device_type GPU is enabled.\n"
     ]
    },
    {
     "name": "stdout",
     "output_type": "stream",
     "text": [
      "41/41 [==============================] - 0s 3ms/step\n"
     ]
    },
    {
     "name": "stderr",
     "output_type": "stream",
     "text": [
      "2023-04-19 10:42:30.549128: I tensorflow/core/grappler/optimizers/custom_graph_optimizer_registry.cc:113] Plugin optimizer for device_type GPU is enabled.\n"
     ]
    },
    {
     "name": "stdout",
     "output_type": "stream",
     "text": [
      "41/41 [==============================] - 0s 2ms/step\n"
     ]
    },
    {
     "name": "stderr",
     "output_type": "stream",
     "text": [
      "2023-04-19 10:42:30.977274: I tensorflow/core/grappler/optimizers/custom_graph_optimizer_registry.cc:113] Plugin optimizer for device_type GPU is enabled.\n"
     ]
    },
    {
     "name": "stdout",
     "output_type": "stream",
     "text": [
      "23/41 [===============>..............] - ETA: 0s"
     ]
    },
    {
     "name": "stderr",
     "output_type": "stream",
     "text": [
      "2023-04-19 10:42:37.245761: I tensorflow/core/grappler/optimizers/custom_graph_optimizer_registry.cc:113] Plugin optimizer for device_type GPU is enabled.\n"
     ]
    },
    {
     "name": "stdout",
     "output_type": "stream",
     "text": [
      "41/41 [==============================] - 0s 3ms/step\n",
      "41/41 [==============================] - 0s 1ms/step\n"
     ]
    },
    {
     "name": "stderr",
     "output_type": "stream",
     "text": [
      "2023-04-19 10:42:37.686062: I tensorflow/core/grappler/optimizers/custom_graph_optimizer_registry.cc:113] Plugin optimizer for device_type GPU is enabled.\n"
     ]
    },
    {
     "name": "stdout",
     "output_type": "stream",
     "text": [
      "24/41 [================>.............] - ETA: 0s"
     ]
    },
    {
     "name": "stderr",
     "output_type": "stream",
     "text": [
      "2023-04-19 10:42:43.226544: I tensorflow/core/grappler/optimizers/custom_graph_optimizer_registry.cc:113] Plugin optimizer for device_type GPU is enabled.\n"
     ]
    },
    {
     "name": "stdout",
     "output_type": "stream",
     "text": [
      "41/41 [==============================] - 0s 4ms/step\n",
      "41/41 [==============================] - 0s 1ms/step\n"
     ]
    },
    {
     "name": "stderr",
     "output_type": "stream",
     "text": [
      "2023-04-19 10:42:43.682278: I tensorflow/core/grappler/optimizers/custom_graph_optimizer_registry.cc:113] Plugin optimizer for device_type GPU is enabled.\n"
     ]
    },
    {
     "name": "stdout",
     "output_type": "stream",
     "text": [
      "23/41 [===============>..............] - ETA: 0s"
     ]
    },
    {
     "name": "stderr",
     "output_type": "stream",
     "text": [
      "2023-04-19 10:42:49.151401: I tensorflow/core/grappler/optimizers/custom_graph_optimizer_registry.cc:113] Plugin optimizer for device_type GPU is enabled.\n"
     ]
    },
    {
     "name": "stdout",
     "output_type": "stream",
     "text": [
      "41/41 [==============================] - 0s 4ms/step\n",
      "41/41 [==============================] - 0s 1ms/step\n"
     ]
    },
    {
     "name": "stderr",
     "output_type": "stream",
     "text": [
      "2023-04-19 10:42:49.609719: I tensorflow/core/grappler/optimizers/custom_graph_optimizer_registry.cc:113] Plugin optimizer for device_type GPU is enabled.\n"
     ]
    },
    {
     "name": "stdout",
     "output_type": "stream",
     "text": [
      "41/41 [==============================] - 0s 3ms/step\n"
     ]
    },
    {
     "name": "stderr",
     "output_type": "stream",
     "text": [
      "2023-04-19 10:42:55.254441: I tensorflow/core/grappler/optimizers/custom_graph_optimizer_registry.cc:113] Plugin optimizer for device_type GPU is enabled.\n"
     ]
    },
    {
     "name": "stdout",
     "output_type": "stream",
     "text": [
      "41/41 [==============================] - 0s 1ms/step\n"
     ]
    },
    {
     "name": "stderr",
     "output_type": "stream",
     "text": [
      "2023-04-19 10:42:55.673211: I tensorflow/core/grappler/optimizers/custom_graph_optimizer_registry.cc:113] Plugin optimizer for device_type GPU is enabled.\n"
     ]
    },
    {
     "name": "stdout",
     "output_type": "stream",
     "text": [
      "41/41 [==============================] - 0s 3ms/step\n"
     ]
    },
    {
     "name": "stderr",
     "output_type": "stream",
     "text": [
      "2023-04-19 10:43:01.222153: I tensorflow/core/grappler/optimizers/custom_graph_optimizer_registry.cc:113] Plugin optimizer for device_type GPU is enabled.\n"
     ]
    },
    {
     "name": "stdout",
     "output_type": "stream",
     "text": [
      "41/41 [==============================] - 0s 2ms/step\n"
     ]
    },
    {
     "name": "stderr",
     "output_type": "stream",
     "text": [
      "2023-04-19 10:43:01.648912: I tensorflow/core/grappler/optimizers/custom_graph_optimizer_registry.cc:113] Plugin optimizer for device_type GPU is enabled.\n"
     ]
    },
    {
     "name": "stdout",
     "output_type": "stream",
     "text": [
      "23/41 [===============>..............] - ETA: 0s"
     ]
    },
    {
     "name": "stderr",
     "output_type": "stream",
     "text": [
      "2023-04-19 10:43:07.229561: I tensorflow/core/grappler/optimizers/custom_graph_optimizer_registry.cc:113] Plugin optimizer for device_type GPU is enabled.\n"
     ]
    },
    {
     "name": "stdout",
     "output_type": "stream",
     "text": [
      "41/41 [==============================] - 0s 4ms/step\n",
      "41/41 [==============================] - 0s 1ms/step\n"
     ]
    },
    {
     "name": "stderr",
     "output_type": "stream",
     "text": [
      "2023-04-19 10:43:07.691734: I tensorflow/core/grappler/optimizers/custom_graph_optimizer_registry.cc:113] Plugin optimizer for device_type GPU is enabled.\n"
     ]
    },
    {
     "name": "stdout",
     "output_type": "stream",
     "text": [
      "41/41 [==============================] - 0s 3ms/step\n"
     ]
    },
    {
     "name": "stderr",
     "output_type": "stream",
     "text": [
      "2023-04-19 10:43:13.160085: I tensorflow/core/grappler/optimizers/custom_graph_optimizer_registry.cc:113] Plugin optimizer for device_type GPU is enabled.\n"
     ]
    },
    {
     "name": "stdout",
     "output_type": "stream",
     "text": [
      "41/41 [==============================] - 0s 2ms/step\n"
     ]
    },
    {
     "name": "stderr",
     "output_type": "stream",
     "text": [
      "2023-04-19 10:43:13.585453: I tensorflow/core/grappler/optimizers/custom_graph_optimizer_registry.cc:113] Plugin optimizer for device_type GPU is enabled.\n"
     ]
    },
    {
     "name": "stdout",
     "output_type": "stream",
     "text": [
      "41/41 [==============================] - 0s 3ms/step\n"
     ]
    },
    {
     "name": "stderr",
     "output_type": "stream",
     "text": [
      "2023-04-19 10:43:19.693741: I tensorflow/core/grappler/optimizers/custom_graph_optimizer_registry.cc:113] Plugin optimizer for device_type GPU is enabled.\n"
     ]
    },
    {
     "name": "stdout",
     "output_type": "stream",
     "text": [
      "41/41 [==============================] - 0s 1ms/step\n"
     ]
    },
    {
     "name": "stderr",
     "output_type": "stream",
     "text": [
      "2023-04-19 10:43:20.113136: I tensorflow/core/grappler/optimizers/custom_graph_optimizer_registry.cc:113] Plugin optimizer for device_type GPU is enabled.\n"
     ]
    },
    {
     "name": "stdout",
     "output_type": "stream",
     "text": [
      "22/41 [===============>..............] - ETA: 0s"
     ]
    },
    {
     "name": "stderr",
     "output_type": "stream",
     "text": [
      "2023-04-19 10:43:26.213631: I tensorflow/core/grappler/optimizers/custom_graph_optimizer_registry.cc:113] Plugin optimizer for device_type GPU is enabled.\n"
     ]
    },
    {
     "name": "stdout",
     "output_type": "stream",
     "text": [
      "41/41 [==============================] - 0s 3ms/step\n",
      "41/41 [==============================] - 0s 1ms/step\n"
     ]
    },
    {
     "name": "stderr",
     "output_type": "stream",
     "text": [
      "2023-04-19 10:43:26.638277: I tensorflow/core/grappler/optimizers/custom_graph_optimizer_registry.cc:113] Plugin optimizer for device_type GPU is enabled.\n"
     ]
    },
    {
     "name": "stdout",
     "output_type": "stream",
     "text": [
      "25/41 [=================>............] - ETA: 0s"
     ]
    },
    {
     "name": "stderr",
     "output_type": "stream",
     "text": [
      "2023-04-19 10:43:32.948900: I tensorflow/core/grappler/optimizers/custom_graph_optimizer_registry.cc:113] Plugin optimizer for device_type GPU is enabled.\n"
     ]
    },
    {
     "name": "stdout",
     "output_type": "stream",
     "text": [
      "41/41 [==============================] - 0s 3ms/step\n",
      "41/41 [==============================] - 0s 2ms/step\n"
     ]
    },
    {
     "name": "stderr",
     "output_type": "stream",
     "text": [
      "2023-04-19 10:43:35.629958: I tensorflow/core/grappler/optimizers/custom_graph_optimizer_registry.cc:113] Plugin optimizer for device_type GPU is enabled.\n"
     ]
    },
    {
     "name": "stdout",
     "output_type": "stream",
     "text": [
      " 9/41 [=====>........................] - ETA: 0s"
     ]
    },
    {
     "name": "stderr",
     "output_type": "stream",
     "text": [
      "2023-04-19 10:43:42.225918: I tensorflow/core/grappler/optimizers/custom_graph_optimizer_registry.cc:113] Plugin optimizer for device_type GPU is enabled.\n"
     ]
    },
    {
     "name": "stdout",
     "output_type": "stream",
     "text": [
      "41/41 [==============================] - 0s 5ms/step\n",
      "41/41 [==============================] - 0s 3ms/step\n"
     ]
    },
    {
     "name": "stderr",
     "output_type": "stream",
     "text": [
      "2023-04-19 10:43:42.874292: I tensorflow/core/grappler/optimizers/custom_graph_optimizer_registry.cc:113] Plugin optimizer for device_type GPU is enabled.\n"
     ]
    },
    {
     "name": "stdout",
     "output_type": "stream",
     "text": [
      "24/41 [================>.............] - ETA: 0s"
     ]
    },
    {
     "name": "stderr",
     "output_type": "stream",
     "text": [
      "2023-04-19 10:43:48.809869: I tensorflow/core/grappler/optimizers/custom_graph_optimizer_registry.cc:113] Plugin optimizer for device_type GPU is enabled.\n"
     ]
    },
    {
     "name": "stdout",
     "output_type": "stream",
     "text": [
      "41/41 [==============================] - 0s 4ms/step\n",
      "41/41 [==============================] - 0s 1ms/step\n"
     ]
    },
    {
     "name": "stderr",
     "output_type": "stream",
     "text": [
      "2023-04-19 10:43:49.255525: I tensorflow/core/grappler/optimizers/custom_graph_optimizer_registry.cc:113] Plugin optimizer for device_type GPU is enabled.\n"
     ]
    },
    {
     "name": "stdout",
     "output_type": "stream",
     "text": [
      "41/41 [==============================] - 0s 3ms/step\n"
     ]
    },
    {
     "name": "stderr",
     "output_type": "stream",
     "text": [
      "2023-04-19 10:43:54.451107: I tensorflow/core/grappler/optimizers/custom_graph_optimizer_registry.cc:113] Plugin optimizer for device_type GPU is enabled.\n"
     ]
    },
    {
     "name": "stdout",
     "output_type": "stream",
     "text": [
      "41/41 [==============================] - 0s 1ms/step\n"
     ]
    },
    {
     "name": "stderr",
     "output_type": "stream",
     "text": [
      "2023-04-19 10:43:54.871032: I tensorflow/core/grappler/optimizers/custom_graph_optimizer_registry.cc:113] Plugin optimizer for device_type GPU is enabled.\n"
     ]
    },
    {
     "name": "stdout",
     "output_type": "stream",
     "text": [
      "24/41 [================>.............] - ETA: 0s"
     ]
    },
    {
     "name": "stderr",
     "output_type": "stream",
     "text": [
      "2023-04-19 10:44:00.934440: I tensorflow/core/grappler/optimizers/custom_graph_optimizer_registry.cc:113] Plugin optimizer for device_type GPU is enabled.\n"
     ]
    },
    {
     "name": "stdout",
     "output_type": "stream",
     "text": [
      "41/41 [==============================] - 0s 4ms/step\n",
      "41/41 [==============================] - 0s 2ms/step\n"
     ]
    },
    {
     "name": "stderr",
     "output_type": "stream",
     "text": [
      "2023-04-19 10:44:01.406566: I tensorflow/core/grappler/optimizers/custom_graph_optimizer_registry.cc:113] Plugin optimizer for device_type GPU is enabled.\n"
     ]
    },
    {
     "name": "stdout",
     "output_type": "stream",
     "text": [
      "24/41 [================>.............] - ETA: 0s"
     ]
    },
    {
     "name": "stderr",
     "output_type": "stream",
     "text": [
      "2023-04-19 10:44:07.488163: I tensorflow/core/grappler/optimizers/custom_graph_optimizer_registry.cc:113] Plugin optimizer for device_type GPU is enabled.\n"
     ]
    },
    {
     "name": "stdout",
     "output_type": "stream",
     "text": [
      "41/41 [==============================] - 0s 4ms/step\n",
      "41/41 [==============================] - 0s 1ms/step\n"
     ]
    },
    {
     "name": "stderr",
     "output_type": "stream",
     "text": [
      "2023-04-19 10:44:07.923125: I tensorflow/core/grappler/optimizers/custom_graph_optimizer_registry.cc:113] Plugin optimizer for device_type GPU is enabled.\n"
     ]
    },
    {
     "name": "stdout",
     "output_type": "stream",
     "text": [
      "30/41 [====================>.........] - ETA: 0s"
     ]
    },
    {
     "name": "stderr",
     "output_type": "stream",
     "text": [
      "2023-04-19 10:44:16.403312: I tensorflow/core/grappler/optimizers/custom_graph_optimizer_registry.cc:113] Plugin optimizer for device_type GPU is enabled.\n"
     ]
    },
    {
     "name": "stdout",
     "output_type": "stream",
     "text": [
      "41/41 [==============================] - 0s 5ms/step\n",
      "41/41 [==============================] - 0s 2ms/step\n"
     ]
    },
    {
     "name": "stderr",
     "output_type": "stream",
     "text": [
      "2023-04-19 10:44:16.951905: I tensorflow/core/grappler/optimizers/custom_graph_optimizer_registry.cc:113] Plugin optimizer for device_type GPU is enabled.\n"
     ]
    },
    {
     "name": "stdout",
     "output_type": "stream",
     "text": [
      "23/41 [===============>..............] - ETA: 0s"
     ]
    },
    {
     "name": "stderr",
     "output_type": "stream",
     "text": [
      "2023-04-19 10:44:23.369191: I tensorflow/core/grappler/optimizers/custom_graph_optimizer_registry.cc:113] Plugin optimizer for device_type GPU is enabled.\n"
     ]
    },
    {
     "name": "stdout",
     "output_type": "stream",
     "text": [
      "41/41 [==============================] - 0s 3ms/step\n",
      "41/41 [==============================] - 0s 1ms/step\n"
     ]
    },
    {
     "name": "stderr",
     "output_type": "stream",
     "text": [
      "2023-04-19 10:44:23.813234: I tensorflow/core/grappler/optimizers/custom_graph_optimizer_registry.cc:113] Plugin optimizer for device_type GPU is enabled.\n"
     ]
    },
    {
     "name": "stdout",
     "output_type": "stream",
     "text": [
      "24/41 [================>.............] - ETA: 0s"
     ]
    },
    {
     "name": "stderr",
     "output_type": "stream",
     "text": [
      "2023-04-19 10:44:30.103937: I tensorflow/core/grappler/optimizers/custom_graph_optimizer_registry.cc:113] Plugin optimizer for device_type GPU is enabled.\n"
     ]
    },
    {
     "name": "stdout",
     "output_type": "stream",
     "text": [
      "41/41 [==============================] - 0s 3ms/step\n",
      "41/41 [==============================] - 0s 2ms/step\n"
     ]
    },
    {
     "name": "stderr",
     "output_type": "stream",
     "text": [
      "2023-04-19 10:44:30.572535: I tensorflow/core/grappler/optimizers/custom_graph_optimizer_registry.cc:113] Plugin optimizer for device_type GPU is enabled.\n"
     ]
    },
    {
     "name": "stdout",
     "output_type": "stream",
     "text": [
      "23/41 [===============>..............] - ETA: 0s"
     ]
    },
    {
     "name": "stderr",
     "output_type": "stream",
     "text": [
      "2023-04-19 10:44:36.972890: I tensorflow/core/grappler/optimizers/custom_graph_optimizer_registry.cc:113] Plugin optimizer for device_type GPU is enabled.\n"
     ]
    },
    {
     "name": "stdout",
     "output_type": "stream",
     "text": [
      "41/41 [==============================] - 0s 3ms/step\n",
      "41/41 [==============================] - 0s 2ms/step\n"
     ]
    },
    {
     "name": "stderr",
     "output_type": "stream",
     "text": [
      "2023-04-19 10:44:37.419364: I tensorflow/core/grappler/optimizers/custom_graph_optimizer_registry.cc:113] Plugin optimizer for device_type GPU is enabled.\n"
     ]
    },
    {
     "name": "stdout",
     "output_type": "stream",
     "text": [
      "25/41 [=================>............] - ETA: 0s"
     ]
    },
    {
     "name": "stderr",
     "output_type": "stream",
     "text": [
      "2023-04-19 10:44:43.888820: I tensorflow/core/grappler/optimizers/custom_graph_optimizer_registry.cc:113] Plugin optimizer for device_type GPU is enabled.\n"
     ]
    },
    {
     "name": "stdout",
     "output_type": "stream",
     "text": [
      "41/41 [==============================] - 0s 3ms/step\n",
      "41/41 [==============================] - 0s 2ms/step\n"
     ]
    },
    {
     "name": "stderr",
     "output_type": "stream",
     "text": [
      "2023-04-19 10:44:44.359010: I tensorflow/core/grappler/optimizers/custom_graph_optimizer_registry.cc:113] Plugin optimizer for device_type GPU is enabled.\n"
     ]
    },
    {
     "name": "stdout",
     "output_type": "stream",
     "text": [
      "22/41 [===============>..............] - ETA: 0s"
     ]
    },
    {
     "name": "stderr",
     "output_type": "stream",
     "text": [
      "2023-04-19 10:44:50.777340: I tensorflow/core/grappler/optimizers/custom_graph_optimizer_registry.cc:113] Plugin optimizer for device_type GPU is enabled.\n"
     ]
    },
    {
     "name": "stdout",
     "output_type": "stream",
     "text": [
      "41/41 [==============================] - 0s 3ms/step\n",
      "41/41 [==============================] - 0s 1ms/step\n"
     ]
    },
    {
     "name": "stderr",
     "output_type": "stream",
     "text": [
      "2023-04-19 10:44:51.218137: I tensorflow/core/grappler/optimizers/custom_graph_optimizer_registry.cc:113] Plugin optimizer for device_type GPU is enabled.\n"
     ]
    },
    {
     "name": "stdout",
     "output_type": "stream",
     "text": [
      "22/41 [===============>..............] - ETA: 0s"
     ]
    },
    {
     "name": "stderr",
     "output_type": "stream",
     "text": [
      "2023-04-19 10:44:57.975732: I tensorflow/core/grappler/optimizers/custom_graph_optimizer_registry.cc:113] Plugin optimizer for device_type GPU is enabled.\n"
     ]
    },
    {
     "name": "stdout",
     "output_type": "stream",
     "text": [
      "41/41 [==============================] - 0s 4ms/step\n",
      "41/41 [==============================] - 0s 1ms/step\n"
     ]
    },
    {
     "name": "stderr",
     "output_type": "stream",
     "text": [
      "2023-04-19 10:44:58.471587: I tensorflow/core/grappler/optimizers/custom_graph_optimizer_registry.cc:113] Plugin optimizer for device_type GPU is enabled.\n"
     ]
    },
    {
     "name": "stdout",
     "output_type": "stream",
     "text": [
      "22/41 [===============>..............] - ETA: 0s"
     ]
    },
    {
     "name": "stderr",
     "output_type": "stream",
     "text": [
      "2023-04-19 10:45:04.835062: I tensorflow/core/grappler/optimizers/custom_graph_optimizer_registry.cc:113] Plugin optimizer for device_type GPU is enabled.\n"
     ]
    },
    {
     "name": "stdout",
     "output_type": "stream",
     "text": [
      "41/41 [==============================] - 0s 4ms/step\n",
      "41/41 [==============================] - 0s 2ms/step\n"
     ]
    },
    {
     "name": "stderr",
     "output_type": "stream",
     "text": [
      "2023-04-19 10:45:05.325765: I tensorflow/core/grappler/optimizers/custom_graph_optimizer_registry.cc:113] Plugin optimizer for device_type GPU is enabled.\n"
     ]
    },
    {
     "name": "stdout",
     "output_type": "stream",
     "text": [
      "25/41 [=================>............] - ETA: 0s"
     ]
    },
    {
     "name": "stderr",
     "output_type": "stream",
     "text": [
      "2023-04-19 10:45:12.569435: I tensorflow/core/grappler/optimizers/custom_graph_optimizer_registry.cc:113] Plugin optimizer for device_type GPU is enabled.\n"
     ]
    },
    {
     "name": "stdout",
     "output_type": "stream",
     "text": [
      "41/41 [==============================] - 0s 5ms/step\n",
      "41/41 [==============================] - 0s 1ms/step\n"
     ]
    },
    {
     "name": "stderr",
     "output_type": "stream",
     "text": [
      "2023-04-19 10:45:13.127157: I tensorflow/core/grappler/optimizers/custom_graph_optimizer_registry.cc:113] Plugin optimizer for device_type GPU is enabled.\n"
     ]
    },
    {
     "name": "stdout",
     "output_type": "stream",
     "text": [
      "18/41 [============>.................] - ETA: 0s"
     ]
    },
    {
     "name": "stderr",
     "output_type": "stream",
     "text": [
      "2023-04-19 10:45:20.932719: I tensorflow/core/grappler/optimizers/custom_graph_optimizer_registry.cc:113] Plugin optimizer for device_type GPU is enabled.\n"
     ]
    },
    {
     "name": "stdout",
     "output_type": "stream",
     "text": [
      "41/41 [==============================] - 0s 5ms/step\n",
      "41/41 [==============================] - 0s 2ms/step\n"
     ]
    },
    {
     "name": "stderr",
     "output_type": "stream",
     "text": [
      "2023-04-19 10:45:21.506712: I tensorflow/core/grappler/optimizers/custom_graph_optimizer_registry.cc:113] Plugin optimizer for device_type GPU is enabled.\n"
     ]
    },
    {
     "name": "stdout",
     "output_type": "stream",
     "text": [
      "20/41 [=============>................] - ETA: 0s"
     ]
    },
    {
     "name": "stderr",
     "output_type": "stream",
     "text": [
      "2023-04-19 10:45:28.397446: I tensorflow/core/grappler/optimizers/custom_graph_optimizer_registry.cc:113] Plugin optimizer for device_type GPU is enabled.\n"
     ]
    },
    {
     "name": "stdout",
     "output_type": "stream",
     "text": [
      "41/41 [==============================] - 0s 4ms/step\n",
      "41/41 [==============================] - 0s 2ms/step\n"
     ]
    },
    {
     "name": "stderr",
     "output_type": "stream",
     "text": [
      "2023-04-19 10:45:28.922425: I tensorflow/core/grappler/optimizers/custom_graph_optimizer_registry.cc:113] Plugin optimizer for device_type GPU is enabled.\n"
     ]
    },
    {
     "name": "stdout",
     "output_type": "stream",
     "text": [
      "20/41 [=============>................] - ETA: 0s"
     ]
    },
    {
     "name": "stderr",
     "output_type": "stream",
     "text": [
      "2023-04-19 10:45:35.846363: I tensorflow/core/grappler/optimizers/custom_graph_optimizer_registry.cc:113] Plugin optimizer for device_type GPU is enabled.\n"
     ]
    },
    {
     "name": "stdout",
     "output_type": "stream",
     "text": [
      "41/41 [==============================] - 0s 4ms/step\n",
      "41/41 [==============================] - 0s 2ms/step\n"
     ]
    },
    {
     "name": "stderr",
     "output_type": "stream",
     "text": [
      "2023-04-19 10:45:36.378547: I tensorflow/core/grappler/optimizers/custom_graph_optimizer_registry.cc:113] Plugin optimizer for device_type GPU is enabled.\n"
     ]
    },
    {
     "name": "stdout",
     "output_type": "stream",
     "text": [
      "15/41 [=========>....................] - ETA: 0s"
     ]
    },
    {
     "name": "stderr",
     "output_type": "stream",
     "text": [
      "2023-04-19 10:45:43.982044: I tensorflow/core/grappler/optimizers/custom_graph_optimizer_registry.cc:113] Plugin optimizer for device_type GPU is enabled.\n"
     ]
    },
    {
     "name": "stdout",
     "output_type": "stream",
     "text": [
      "41/41 [==============================] - 0s 4ms/step\n",
      "41/41 [==============================] - 0s 2ms/step\n"
     ]
    },
    {
     "name": "stderr",
     "output_type": "stream",
     "text": [
      "2023-04-19 10:45:44.524689: I tensorflow/core/grappler/optimizers/custom_graph_optimizer_registry.cc:113] Plugin optimizer for device_type GPU is enabled.\n"
     ]
    },
    {
     "name": "stdout",
     "output_type": "stream",
     "text": [
      "36/41 [=========================>....] - ETA: 0s"
     ]
    },
    {
     "name": "stderr",
     "output_type": "stream",
     "text": [
      "2023-04-19 10:45:51.738624: I tensorflow/core/grappler/optimizers/custom_graph_optimizer_registry.cc:113] Plugin optimizer for device_type GPU is enabled.\n"
     ]
    },
    {
     "name": "stdout",
     "output_type": "stream",
     "text": [
      "41/41 [==============================] - 0s 5ms/step\n",
      "41/41 [==============================] - 0s 2ms/step\n"
     ]
    },
    {
     "name": "stderr",
     "output_type": "stream",
     "text": [
      "2023-04-19 10:45:52.285343: I tensorflow/core/grappler/optimizers/custom_graph_optimizer_registry.cc:113] Plugin optimizer for device_type GPU is enabled.\n"
     ]
    },
    {
     "name": "stdout",
     "output_type": "stream",
     "text": [
      "15/41 [=========>....................] - ETA: 0s"
     ]
    },
    {
     "name": "stderr",
     "output_type": "stream",
     "text": [
      "2023-04-19 10:45:59.409596: I tensorflow/core/grappler/optimizers/custom_graph_optimizer_registry.cc:113] Plugin optimizer for device_type GPU is enabled.\n"
     ]
    },
    {
     "name": "stdout",
     "output_type": "stream",
     "text": [
      "41/41 [==============================] - 0s 4ms/step\n",
      "41/41 [==============================] - 0s 2ms/step\n"
     ]
    },
    {
     "name": "stderr",
     "output_type": "stream",
     "text": [
      "2023-04-19 10:45:59.890820: I tensorflow/core/grappler/optimizers/custom_graph_optimizer_registry.cc:113] Plugin optimizer for device_type GPU is enabled.\n"
     ]
    },
    {
     "name": "stdout",
     "output_type": "stream",
     "text": [
      "33/41 [=======================>......] - ETA: 0s"
     ]
    },
    {
     "name": "stderr",
     "output_type": "stream",
     "text": [
      "2023-04-19 10:46:07.316045: I tensorflow/core/grappler/optimizers/custom_graph_optimizer_registry.cc:113] Plugin optimizer for device_type GPU is enabled.\n"
     ]
    },
    {
     "name": "stdout",
     "output_type": "stream",
     "text": [
      "41/41 [==============================] - 0s 4ms/step\n",
      "41/41 [==============================] - 0s 1ms/step\n"
     ]
    },
    {
     "name": "stderr",
     "output_type": "stream",
     "text": [
      "2023-04-19 10:46:07.828865: I tensorflow/core/grappler/optimizers/custom_graph_optimizer_registry.cc:113] Plugin optimizer for device_type GPU is enabled.\n"
     ]
    },
    {
     "name": "stdout",
     "output_type": "stream",
     "text": [
      "20/41 [=============>................] - ETA: 0s"
     ]
    },
    {
     "name": "stderr",
     "output_type": "stream",
     "text": [
      "2023-04-19 10:46:14.457057: I tensorflow/core/grappler/optimizers/custom_graph_optimizer_registry.cc:113] Plugin optimizer for device_type GPU is enabled.\n"
     ]
    },
    {
     "name": "stdout",
     "output_type": "stream",
     "text": [
      "41/41 [==============================] - 0s 4ms/step\n",
      "41/41 [==============================] - 0s 2ms/step\n"
     ]
    },
    {
     "name": "stderr",
     "output_type": "stream",
     "text": [
      "2023-04-19 10:46:14.953553: I tensorflow/core/grappler/optimizers/custom_graph_optimizer_registry.cc:113] Plugin optimizer for device_type GPU is enabled.\n"
     ]
    },
    {
     "name": "stdout",
     "output_type": "stream",
     "text": [
      "21/41 [==============>...............] - ETA: 0s"
     ]
    },
    {
     "name": "stderr",
     "output_type": "stream",
     "text": [
      "2023-04-19 10:46:22.412737: I tensorflow/core/grappler/optimizers/custom_graph_optimizer_registry.cc:113] Plugin optimizer for device_type GPU is enabled.\n"
     ]
    },
    {
     "name": "stdout",
     "output_type": "stream",
     "text": [
      "41/41 [==============================] - 0s 4ms/step\n",
      "41/41 [==============================] - 0s 2ms/step\n"
     ]
    },
    {
     "name": "stderr",
     "output_type": "stream",
     "text": [
      "2023-04-19 10:46:22.921983: I tensorflow/core/grappler/optimizers/custom_graph_optimizer_registry.cc:113] Plugin optimizer for device_type GPU is enabled.\n"
     ]
    },
    {
     "name": "stdout",
     "output_type": "stream",
     "text": [
      "16/41 [==========>...................] - ETA: 0s"
     ]
    },
    {
     "name": "stderr",
     "output_type": "stream",
     "text": [
      "2023-04-19 10:46:30.279233: I tensorflow/core/grappler/optimizers/custom_graph_optimizer_registry.cc:113] Plugin optimizer for device_type GPU is enabled.\n"
     ]
    },
    {
     "name": "stdout",
     "output_type": "stream",
     "text": [
      "41/41 [==============================] - 0s 5ms/step\n",
      "41/41 [==============================] - 0s 2ms/step\n"
     ]
    },
    {
     "name": "stderr",
     "output_type": "stream",
     "text": [
      "2023-04-19 10:46:30.796537: I tensorflow/core/grappler/optimizers/custom_graph_optimizer_registry.cc:113] Plugin optimizer for device_type GPU is enabled.\n"
     ]
    },
    {
     "name": "stdout",
     "output_type": "stream",
     "text": [
      "21/41 [==============>...............] - ETA: 0s"
     ]
    },
    {
     "name": "stderr",
     "output_type": "stream",
     "text": [
      "2023-04-19 10:46:37.728436: I tensorflow/core/grappler/optimizers/custom_graph_optimizer_registry.cc:113] Plugin optimizer for device_type GPU is enabled.\n"
     ]
    },
    {
     "name": "stdout",
     "output_type": "stream",
     "text": [
      "41/41 [==============================] - 0s 4ms/step\n",
      "41/41 [==============================] - 0s 1ms/step\n"
     ]
    },
    {
     "name": "stderr",
     "output_type": "stream",
     "text": [
      "2023-04-19 10:46:38.198083: I tensorflow/core/grappler/optimizers/custom_graph_optimizer_registry.cc:113] Plugin optimizer for device_type GPU is enabled.\n"
     ]
    },
    {
     "name": "stdout",
     "output_type": "stream",
     "text": [
      "17/41 [===========>..................] - ETA: 0s"
     ]
    },
    {
     "name": "stderr",
     "output_type": "stream",
     "text": [
      "2023-04-19 10:46:45.150476: I tensorflow/core/grappler/optimizers/custom_graph_optimizer_registry.cc:113] Plugin optimizer for device_type GPU is enabled.\n"
     ]
    },
    {
     "name": "stdout",
     "output_type": "stream",
     "text": [
      "41/41 [==============================] - 0s 4ms/step\n",
      "41/41 [==============================] - 0s 1ms/step\n"
     ]
    },
    {
     "name": "stderr",
     "output_type": "stream",
     "text": [
      "2023-04-19 10:46:48.051048: I tensorflow/core/grappler/optimizers/custom_graph_optimizer_registry.cc:113] Plugin optimizer for device_type GPU is enabled.\n"
     ]
    },
    {
     "name": "stdout",
     "output_type": "stream",
     "text": [
      "18/41 [============>.................] - ETA: 0s"
     ]
    },
    {
     "name": "stderr",
     "output_type": "stream",
     "text": [
      "2023-04-19 10:46:55.956205: I tensorflow/core/grappler/optimizers/custom_graph_optimizer_registry.cc:113] Plugin optimizer for device_type GPU is enabled.\n"
     ]
    },
    {
     "name": "stdout",
     "output_type": "stream",
     "text": [
      "41/41 [==============================] - 0s 4ms/step\n",
      "41/41 [==============================] - 0s 2ms/step\n"
     ]
    },
    {
     "name": "stderr",
     "output_type": "stream",
     "text": [
      "2023-04-19 10:46:56.459213: I tensorflow/core/grappler/optimizers/custom_graph_optimizer_registry.cc:113] Plugin optimizer for device_type GPU is enabled.\n"
     ]
    },
    {
     "name": "stdout",
     "output_type": "stream",
     "text": [
      "18/41 [============>.................] - ETA: 0s"
     ]
    },
    {
     "name": "stderr",
     "output_type": "stream",
     "text": [
      "2023-04-19 10:47:03.181465: I tensorflow/core/grappler/optimizers/custom_graph_optimizer_registry.cc:113] Plugin optimizer for device_type GPU is enabled.\n"
     ]
    },
    {
     "name": "stdout",
     "output_type": "stream",
     "text": [
      "41/41 [==============================] - 0s 4ms/step\n",
      "41/41 [==============================] - 0s 3ms/step\n"
     ]
    },
    {
     "name": "stderr",
     "output_type": "stream",
     "text": [
      "2023-04-19 10:47:03.729717: I tensorflow/core/grappler/optimizers/custom_graph_optimizer_registry.cc:113] Plugin optimizer for device_type GPU is enabled.\n"
     ]
    },
    {
     "name": "stdout",
     "output_type": "stream",
     "text": [
      "19/41 [============>.................] - ETA: 0s"
     ]
    },
    {
     "name": "stderr",
     "output_type": "stream",
     "text": [
      "2023-04-19 10:47:10.417135: I tensorflow/core/grappler/optimizers/custom_graph_optimizer_registry.cc:113] Plugin optimizer for device_type GPU is enabled.\n"
     ]
    },
    {
     "name": "stdout",
     "output_type": "stream",
     "text": [
      "41/41 [==============================] - 0s 4ms/step\n",
      "41/41 [==============================] - 0s 2ms/step\n"
     ]
    },
    {
     "name": "stderr",
     "output_type": "stream",
     "text": [
      "2023-04-19 10:47:10.907619: I tensorflow/core/grappler/optimizers/custom_graph_optimizer_registry.cc:113] Plugin optimizer for device_type GPU is enabled.\n"
     ]
    },
    {
     "name": "stdout",
     "output_type": "stream",
     "text": [
      "18/41 [============>.................] - ETA: 0s"
     ]
    },
    {
     "name": "stderr",
     "output_type": "stream",
     "text": [
      "2023-04-19 10:47:18.128527: I tensorflow/core/grappler/optimizers/custom_graph_optimizer_registry.cc:113] Plugin optimizer for device_type GPU is enabled.\n"
     ]
    },
    {
     "name": "stdout",
     "output_type": "stream",
     "text": [
      "41/41 [==============================] - 0s 4ms/step\n",
      "41/41 [==============================] - 0s 2ms/step\n"
     ]
    },
    {
     "name": "stderr",
     "output_type": "stream",
     "text": [
      "2023-04-19 10:47:18.650656: I tensorflow/core/grappler/optimizers/custom_graph_optimizer_registry.cc:113] Plugin optimizer for device_type GPU is enabled.\n"
     ]
    },
    {
     "name": "stdout",
     "output_type": "stream",
     "text": [
      "18/41 [============>.................] - ETA: 0s"
     ]
    },
    {
     "name": "stderr",
     "output_type": "stream",
     "text": [
      "2023-04-19 10:47:25.904277: I tensorflow/core/grappler/optimizers/custom_graph_optimizer_registry.cc:113] Plugin optimizer for device_type GPU is enabled.\n"
     ]
    },
    {
     "name": "stdout",
     "output_type": "stream",
     "text": [
      "41/41 [==============================] - 0s 5ms/step\n",
      "41/41 [==============================] - 0s 2ms/step\n"
     ]
    },
    {
     "name": "stderr",
     "output_type": "stream",
     "text": [
      "2023-04-19 10:47:26.437492: I tensorflow/core/grappler/optimizers/custom_graph_optimizer_registry.cc:113] Plugin optimizer for device_type GPU is enabled.\n"
     ]
    },
    {
     "name": "stdout",
     "output_type": "stream",
     "text": [
      "18/41 [============>.................] - ETA: 0s"
     ]
    },
    {
     "name": "stderr",
     "output_type": "stream",
     "text": [
      "2023-04-19 10:47:33.512467: I tensorflow/core/grappler/optimizers/custom_graph_optimizer_registry.cc:113] Plugin optimizer for device_type GPU is enabled.\n"
     ]
    },
    {
     "name": "stdout",
     "output_type": "stream",
     "text": [
      "41/41 [==============================] - 0s 4ms/step\n",
      "41/41 [==============================] - 0s 1ms/step\n"
     ]
    },
    {
     "name": "stderr",
     "output_type": "stream",
     "text": [
      "2023-04-19 10:47:33.986111: I tensorflow/core/grappler/optimizers/custom_graph_optimizer_registry.cc:113] Plugin optimizer for device_type GPU is enabled.\n"
     ]
    },
    {
     "name": "stdout",
     "output_type": "stream",
     "text": [
      "21/41 [==============>...............] - ETA: 0s"
     ]
    },
    {
     "name": "stderr",
     "output_type": "stream",
     "text": [
      "2023-04-19 10:47:41.078407: I tensorflow/core/grappler/optimizers/custom_graph_optimizer_registry.cc:113] Plugin optimizer for device_type GPU is enabled.\n"
     ]
    },
    {
     "name": "stdout",
     "output_type": "stream",
     "text": [
      "41/41 [==============================] - 0s 4ms/step\n",
      "41/41 [==============================] - 0s 1ms/step\n"
     ]
    },
    {
     "name": "stderr",
     "output_type": "stream",
     "text": [
      "2023-04-19 10:47:41.570500: I tensorflow/core/grappler/optimizers/custom_graph_optimizer_registry.cc:113] Plugin optimizer for device_type GPU is enabled.\n"
     ]
    },
    {
     "name": "stdout",
     "output_type": "stream",
     "text": [
      "18/41 [============>.................] - ETA: 0s"
     ]
    },
    {
     "name": "stderr",
     "output_type": "stream",
     "text": [
      "2023-04-19 10:47:48.505747: I tensorflow/core/grappler/optimizers/custom_graph_optimizer_registry.cc:113] Plugin optimizer for device_type GPU is enabled.\n"
     ]
    },
    {
     "name": "stdout",
     "output_type": "stream",
     "text": [
      "41/41 [==============================] - 0s 4ms/step\n",
      "41/41 [==============================] - 0s 1ms/step\n"
     ]
    },
    {
     "name": "stderr",
     "output_type": "stream",
     "text": [
      "2023-04-19 10:47:49.014264: I tensorflow/core/grappler/optimizers/custom_graph_optimizer_registry.cc:113] Plugin optimizer for device_type GPU is enabled.\n"
     ]
    },
    {
     "name": "stdout",
     "output_type": "stream",
     "text": [
      "28/41 [===================>..........] - ETA: 0s"
     ]
    },
    {
     "name": "stderr",
     "output_type": "stream",
     "text": [
      "2023-04-19 10:47:56.372085: I tensorflow/core/grappler/optimizers/custom_graph_optimizer_registry.cc:113] Plugin optimizer for device_type GPU is enabled.\n"
     ]
    },
    {
     "name": "stdout",
     "output_type": "stream",
     "text": [
      "41/41 [==============================] - 0s 3ms/step\n",
      "41/41 [==============================] - 0s 2ms/step\n"
     ]
    },
    {
     "name": "stderr",
     "output_type": "stream",
     "text": [
      "2023-04-19 10:47:56.835638: I tensorflow/core/grappler/optimizers/custom_graph_optimizer_registry.cc:113] Plugin optimizer for device_type GPU is enabled.\n"
     ]
    },
    {
     "name": "stdout",
     "output_type": "stream",
     "text": [
      "27/41 [==================>...........] - ETA: 0s"
     ]
    },
    {
     "name": "stderr",
     "output_type": "stream",
     "text": [
      "2023-04-19 10:48:03.431688: I tensorflow/core/grappler/optimizers/custom_graph_optimizer_registry.cc:113] Plugin optimizer for device_type GPU is enabled.\n"
     ]
    },
    {
     "name": "stdout",
     "output_type": "stream",
     "text": [
      "41/41 [==============================] - 0s 3ms/step\n",
      "41/41 [==============================] - 0s 2ms/step\n"
     ]
    },
    {
     "name": "stderr",
     "output_type": "stream",
     "text": [
      "2023-04-19 10:48:03.904738: I tensorflow/core/grappler/optimizers/custom_graph_optimizer_registry.cc:113] Plugin optimizer for device_type GPU is enabled.\n"
     ]
    },
    {
     "name": "stdout",
     "output_type": "stream",
     "text": [
      "27/41 [==================>...........] - ETA: 0s"
     ]
    },
    {
     "name": "stderr",
     "output_type": "stream",
     "text": [
      "2023-04-19 10:48:10.544371: I tensorflow/core/grappler/optimizers/custom_graph_optimizer_registry.cc:113] Plugin optimizer for device_type GPU is enabled.\n"
     ]
    },
    {
     "name": "stdout",
     "output_type": "stream",
     "text": [
      "41/41 [==============================] - 0s 3ms/step\n",
      "41/41 [==============================] - 0s 1ms/step\n"
     ]
    },
    {
     "name": "stderr",
     "output_type": "stream",
     "text": [
      "2023-04-19 10:48:11.010557: I tensorflow/core/grappler/optimizers/custom_graph_optimizer_registry.cc:113] Plugin optimizer for device_type GPU is enabled.\n"
     ]
    },
    {
     "name": "stdout",
     "output_type": "stream",
     "text": [
      "18/41 [============>.................] - ETA: 0s"
     ]
    },
    {
     "name": "stderr",
     "output_type": "stream",
     "text": [
      "2023-04-19 10:48:18.189759: I tensorflow/core/grappler/optimizers/custom_graph_optimizer_registry.cc:113] Plugin optimizer for device_type GPU is enabled.\n"
     ]
    },
    {
     "name": "stdout",
     "output_type": "stream",
     "text": [
      "41/41 [==============================] - 0s 4ms/step\n",
      "41/41 [==============================] - 0s 2ms/step\n"
     ]
    },
    {
     "name": "stderr",
     "output_type": "stream",
     "text": [
      "2023-04-19 10:48:18.730187: I tensorflow/core/grappler/optimizers/custom_graph_optimizer_registry.cc:113] Plugin optimizer for device_type GPU is enabled.\n"
     ]
    },
    {
     "name": "stdout",
     "output_type": "stream",
     "text": [
      "27/41 [==================>...........] - ETA: 0s"
     ]
    },
    {
     "name": "stderr",
     "output_type": "stream",
     "text": [
      "2023-04-19 10:48:25.046493: I tensorflow/core/grappler/optimizers/custom_graph_optimizer_registry.cc:113] Plugin optimizer for device_type GPU is enabled.\n"
     ]
    },
    {
     "name": "stdout",
     "output_type": "stream",
     "text": [
      "41/41 [==============================] - 0s 3ms/step\n",
      "41/41 [==============================] - 0s 2ms/step\n"
     ]
    },
    {
     "name": "stderr",
     "output_type": "stream",
     "text": [
      "2023-04-19 10:48:25.515670: I tensorflow/core/grappler/optimizers/custom_graph_optimizer_registry.cc:113] Plugin optimizer for device_type GPU is enabled.\n"
     ]
    },
    {
     "name": "stdout",
     "output_type": "stream",
     "text": [
      " 4/41 [=>............................] - ETA: 1s"
     ]
    },
    {
     "name": "stderr",
     "output_type": "stream",
     "text": [
      "2023-04-19 10:48:32.222432: I tensorflow/core/grappler/optimizers/custom_graph_optimizer_registry.cc:113] Plugin optimizer for device_type GPU is enabled.\n"
     ]
    },
    {
     "name": "stdout",
     "output_type": "stream",
     "text": [
      "41/41 [==============================] - 0s 6ms/step\n",
      "41/41 [==============================] - 0s 1ms/step\n"
     ]
    },
    {
     "name": "stderr",
     "output_type": "stream",
     "text": [
      "2023-04-19 10:48:32.796952: I tensorflow/core/grappler/optimizers/custom_graph_optimizer_registry.cc:113] Plugin optimizer for device_type GPU is enabled.\n"
     ]
    },
    {
     "name": "stdout",
     "output_type": "stream",
     "text": [
      "16/41 [==========>...................] - ETA: 0s"
     ]
    },
    {
     "name": "stderr",
     "output_type": "stream",
     "text": [
      "2023-04-19 10:48:39.710108: I tensorflow/core/grappler/optimizers/custom_graph_optimizer_registry.cc:113] Plugin optimizer for device_type GPU is enabled.\n"
     ]
    },
    {
     "name": "stdout",
     "output_type": "stream",
     "text": [
      "41/41 [==============================] - 0s 5ms/step\n",
      "41/41 [==============================] - 0s 3ms/step\n"
     ]
    },
    {
     "name": "stderr",
     "output_type": "stream",
     "text": [
      "2023-04-19 10:48:40.282067: I tensorflow/core/grappler/optimizers/custom_graph_optimizer_registry.cc:113] Plugin optimizer for device_type GPU is enabled.\n"
     ]
    },
    {
     "name": "stdout",
     "output_type": "stream",
     "text": [
      "26/41 [==================>...........] - ETA: 0s"
     ]
    },
    {
     "name": "stderr",
     "output_type": "stream",
     "text": [
      "2023-04-19 10:48:47.163083: I tensorflow/core/grappler/optimizers/custom_graph_optimizer_registry.cc:113] Plugin optimizer for device_type GPU is enabled.\n"
     ]
    },
    {
     "name": "stdout",
     "output_type": "stream",
     "text": [
      "41/41 [==============================] - 0s 3ms/step\n",
      "41/41 [==============================] - 0s 3ms/step\n"
     ]
    },
    {
     "name": "stderr",
     "output_type": "stream",
     "text": [
      "2023-04-19 10:48:47.723502: I tensorflow/core/grappler/optimizers/custom_graph_optimizer_registry.cc:113] Plugin optimizer for device_type GPU is enabled.\n"
     ]
    },
    {
     "name": "stdout",
     "output_type": "stream",
     "text": [
      "18/41 [============>.................] - ETA: 0s"
     ]
    },
    {
     "name": "stderr",
     "output_type": "stream",
     "text": [
      "2023-04-19 10:48:54.171837: I tensorflow/core/grappler/optimizers/custom_graph_optimizer_registry.cc:113] Plugin optimizer for device_type GPU is enabled.\n"
     ]
    },
    {
     "name": "stdout",
     "output_type": "stream",
     "text": [
      "41/41 [==============================] - 0s 4ms/step\n",
      "41/41 [==============================] - 0s 2ms/step\n"
     ]
    },
    {
     "name": "stderr",
     "output_type": "stream",
     "text": [
      "2023-04-19 10:48:54.680970: I tensorflow/core/grappler/optimizers/custom_graph_optimizer_registry.cc:113] Plugin optimizer for device_type GPU is enabled.\n"
     ]
    },
    {
     "name": "stdout",
     "output_type": "stream",
     "text": [
      " 8/41 [====>.........................] - ETA: 0s"
     ]
    },
    {
     "name": "stderr",
     "output_type": "stream",
     "text": [
      "2023-04-19 10:49:02.317052: I tensorflow/core/grappler/optimizers/custom_graph_optimizer_registry.cc:113] Plugin optimizer for device_type GPU is enabled.\n"
     ]
    },
    {
     "name": "stdout",
     "output_type": "stream",
     "text": [
      "41/41 [==============================] - 0s 4ms/step\n",
      "41/41 [==============================] - 0s 2ms/step\n"
     ]
    },
    {
     "name": "stderr",
     "output_type": "stream",
     "text": [
      "2023-04-19 10:49:02.845415: I tensorflow/core/grappler/optimizers/custom_graph_optimizer_registry.cc:113] Plugin optimizer for device_type GPU is enabled.\n"
     ]
    },
    {
     "name": "stdout",
     "output_type": "stream",
     "text": [
      "41/41 [==============================] - 0s 3ms/step\n",
      " 1/41 [..............................] - ETA: 0s"
     ]
    },
    {
     "name": "stderr",
     "output_type": "stream",
     "text": [
      "2023-04-19 10:49:09.594861: I tensorflow/core/grappler/optimizers/custom_graph_optimizer_registry.cc:113] Plugin optimizer for device_type GPU is enabled.\n"
     ]
    },
    {
     "name": "stdout",
     "output_type": "stream",
     "text": [
      "41/41 [==============================] - 0s 2ms/step\n"
     ]
    },
    {
     "name": "stderr",
     "output_type": "stream",
     "text": [
      "2023-04-19 10:49:10.002075: I tensorflow/core/grappler/optimizers/custom_graph_optimizer_registry.cc:113] Plugin optimizer for device_type GPU is enabled.\n"
     ]
    },
    {
     "name": "stdout",
     "output_type": "stream",
     "text": [
      "41/41 [==============================] - 0s 3ms/step\n",
      " 1/41 [..............................] - ETA: 0s"
     ]
    },
    {
     "name": "stderr",
     "output_type": "stream",
     "text": [
      "2023-04-19 10:49:16.258742: I tensorflow/core/grappler/optimizers/custom_graph_optimizer_registry.cc:113] Plugin optimizer for device_type GPU is enabled.\n"
     ]
    },
    {
     "name": "stdout",
     "output_type": "stream",
     "text": [
      "41/41 [==============================] - 0s 2ms/step\n"
     ]
    },
    {
     "name": "stderr",
     "output_type": "stream",
     "text": [
      "2023-04-19 10:49:16.672900: I tensorflow/core/grappler/optimizers/custom_graph_optimizer_registry.cc:113] Plugin optimizer for device_type GPU is enabled.\n"
     ]
    },
    {
     "name": "stdout",
     "output_type": "stream",
     "text": [
      "18/41 [============>.................] - ETA: 0s"
     ]
    },
    {
     "name": "stderr",
     "output_type": "stream",
     "text": [
      "2023-04-19 10:49:23.208063: I tensorflow/core/grappler/optimizers/custom_graph_optimizer_registry.cc:113] Plugin optimizer for device_type GPU is enabled.\n"
     ]
    },
    {
     "name": "stdout",
     "output_type": "stream",
     "text": [
      "41/41 [==============================] - 0s 5ms/step\n",
      "41/41 [==============================] - 0s 1ms/step\n"
     ]
    },
    {
     "name": "stderr",
     "output_type": "stream",
     "text": [
      "2023-04-19 10:49:23.708438: I tensorflow/core/grappler/optimizers/custom_graph_optimizer_registry.cc:113] Plugin optimizer for device_type GPU is enabled.\n"
     ]
    },
    {
     "name": "stdout",
     "output_type": "stream",
     "text": [
      "26/41 [==================>...........] - ETA: 0s"
     ]
    },
    {
     "name": "stderr",
     "output_type": "stream",
     "text": [
      "2023-04-19 10:49:30.153578: I tensorflow/core/grappler/optimizers/custom_graph_optimizer_registry.cc:113] Plugin optimizer for device_type GPU is enabled.\n"
     ]
    },
    {
     "name": "stdout",
     "output_type": "stream",
     "text": [
      "41/41 [==============================] - 0s 3ms/step\n",
      "41/41 [==============================] - 0s 2ms/step\n"
     ]
    },
    {
     "name": "stderr",
     "output_type": "stream",
     "text": [
      "2023-04-19 10:49:30.633276: I tensorflow/core/grappler/optimizers/custom_graph_optimizer_registry.cc:113] Plugin optimizer for device_type GPU is enabled.\n"
     ]
    },
    {
     "name": "stdout",
     "output_type": "stream",
     "text": [
      "17/41 [===========>..................] - ETA: 0s"
     ]
    },
    {
     "name": "stderr",
     "output_type": "stream",
     "text": [
      "2023-04-19 10:49:36.587613: I tensorflow/core/grappler/optimizers/custom_graph_optimizer_registry.cc:113] Plugin optimizer for device_type GPU is enabled.\n"
     ]
    },
    {
     "name": "stdout",
     "output_type": "stream",
     "text": [
      "41/41 [==============================] - 0s 4ms/step\n",
      "41/41 [==============================] - 0s 2ms/step\n"
     ]
    },
    {
     "name": "stderr",
     "output_type": "stream",
     "text": [
      "2023-04-19 10:49:37.085987: I tensorflow/core/grappler/optimizers/custom_graph_optimizer_registry.cc:113] Plugin optimizer for device_type GPU is enabled.\n"
     ]
    },
    {
     "name": "stdout",
     "output_type": "stream",
     "text": [
      "16/41 [==========>...................] - ETA: 0s"
     ]
    },
    {
     "name": "stderr",
     "output_type": "stream",
     "text": [
      "2023-04-19 10:49:42.961921: I tensorflow/core/grappler/optimizers/custom_graph_optimizer_registry.cc:113] Plugin optimizer for device_type GPU is enabled.\n"
     ]
    },
    {
     "name": "stdout",
     "output_type": "stream",
     "text": [
      "41/41 [==============================] - 0s 4ms/step\n",
      "41/41 [==============================] - 0s 2ms/step\n"
     ]
    },
    {
     "name": "stderr",
     "output_type": "stream",
     "text": [
      "2023-04-19 10:49:43.494739: I tensorflow/core/grappler/optimizers/custom_graph_optimizer_registry.cc:113] Plugin optimizer for device_type GPU is enabled.\n"
     ]
    },
    {
     "name": "stdout",
     "output_type": "stream",
     "text": [
      "16/41 [==========>...................] - ETA: 0s"
     ]
    },
    {
     "name": "stderr",
     "output_type": "stream",
     "text": [
      "2023-04-19 10:49:49.735460: I tensorflow/core/grappler/optimizers/custom_graph_optimizer_registry.cc:113] Plugin optimizer for device_type GPU is enabled.\n"
     ]
    },
    {
     "name": "stdout",
     "output_type": "stream",
     "text": [
      "41/41 [==============================] - 0s 4ms/step\n",
      "41/41 [==============================] - 0s 2ms/step\n"
     ]
    },
    {
     "name": "stderr",
     "output_type": "stream",
     "text": [
      "2023-04-19 10:49:50.257534: I tensorflow/core/grappler/optimizers/custom_graph_optimizer_registry.cc:113] Plugin optimizer for device_type GPU is enabled.\n"
     ]
    },
    {
     "name": "stdout",
     "output_type": "stream",
     "text": [
      "17/41 [===========>..................] - ETA: 0s"
     ]
    },
    {
     "name": "stderr",
     "output_type": "stream",
     "text": [
      "2023-04-19 10:49:56.424269: I tensorflow/core/grappler/optimizers/custom_graph_optimizer_registry.cc:113] Plugin optimizer for device_type GPU is enabled.\n"
     ]
    },
    {
     "name": "stdout",
     "output_type": "stream",
     "text": [
      "41/41 [==============================] - 0s 5ms/step\n",
      "41/41 [==============================] - 0s 2ms/step\n"
     ]
    },
    {
     "name": "stderr",
     "output_type": "stream",
     "text": [
      "2023-04-19 10:49:56.967178: I tensorflow/core/grappler/optimizers/custom_graph_optimizer_registry.cc:113] Plugin optimizer for device_type GPU is enabled.\n"
     ]
    },
    {
     "name": "stdout",
     "output_type": "stream",
     "text": [
      "\r",
      " 1/41 [..............................] - ETA: 8s"
     ]
    },
    {
     "name": "stderr",
     "output_type": "stream",
     "text": [
      "2023-04-19 10:50:05.750892: I tensorflow/core/grappler/optimizers/custom_graph_optimizer_registry.cc:113] Plugin optimizer for device_type GPU is enabled.\n"
     ]
    },
    {
     "name": "stdout",
     "output_type": "stream",
     "text": [
      "41/41 [==============================] - 1s 8ms/step\n",
      "41/41 [==============================] - 0s 2ms/step\n"
     ]
    },
    {
     "name": "stderr",
     "output_type": "stream",
     "text": [
      "2023-04-19 10:50:06.574103: I tensorflow/core/grappler/optimizers/custom_graph_optimizer_registry.cc:113] Plugin optimizer for device_type GPU is enabled.\n"
     ]
    },
    {
     "name": "stdout",
     "output_type": "stream",
     "text": [
      "33/41 [=======================>......] - ETA: 0s"
     ]
    },
    {
     "name": "stderr",
     "output_type": "stream",
     "text": [
      "2023-04-19 10:50:13.191763: I tensorflow/core/grappler/optimizers/custom_graph_optimizer_registry.cc:113] Plugin optimizer for device_type GPU is enabled.\n"
     ]
    },
    {
     "name": "stdout",
     "output_type": "stream",
     "text": [
      "41/41 [==============================] - 0s 5ms/step\n",
      "41/41 [==============================] - 0s 2ms/step\n"
     ]
    },
    {
     "name": "stderr",
     "output_type": "stream",
     "text": [
      "2023-04-19 10:50:13.734729: I tensorflow/core/grappler/optimizers/custom_graph_optimizer_registry.cc:113] Plugin optimizer for device_type GPU is enabled.\n"
     ]
    },
    {
     "name": "stdout",
     "output_type": "stream",
     "text": [
      "17/41 [===========>..................] - ETA: 0s"
     ]
    },
    {
     "name": "stderr",
     "output_type": "stream",
     "text": [
      "2023-04-19 10:50:20.287042: I tensorflow/core/grappler/optimizers/custom_graph_optimizer_registry.cc:113] Plugin optimizer for device_type GPU is enabled.\n"
     ]
    },
    {
     "name": "stdout",
     "output_type": "stream",
     "text": [
      "41/41 [==============================] - 0s 4ms/step\n",
      "41/41 [==============================] - 0s 2ms/step\n"
     ]
    },
    {
     "name": "stderr",
     "output_type": "stream",
     "text": [
      "2023-04-19 10:50:20.787736: I tensorflow/core/grappler/optimizers/custom_graph_optimizer_registry.cc:113] Plugin optimizer for device_type GPU is enabled.\n"
     ]
    },
    {
     "name": "stdout",
     "output_type": "stream",
     "text": [
      "20/41 [=============>................] - ETA: 0s"
     ]
    },
    {
     "name": "stderr",
     "output_type": "stream",
     "text": [
      "2023-04-19 10:50:26.419176: I tensorflow/core/grappler/optimizers/custom_graph_optimizer_registry.cc:113] Plugin optimizer for device_type GPU is enabled.\n"
     ]
    },
    {
     "name": "stdout",
     "output_type": "stream",
     "text": [
      "41/41 [==============================] - 0s 4ms/step\n",
      "41/41 [==============================] - 0s 2ms/step\n"
     ]
    },
    {
     "name": "stderr",
     "output_type": "stream",
     "text": [
      "2023-04-19 10:50:26.932591: I tensorflow/core/grappler/optimizers/custom_graph_optimizer_registry.cc:113] Plugin optimizer for device_type GPU is enabled.\n"
     ]
    },
    {
     "name": "stdout",
     "output_type": "stream",
     "text": [
      "17/41 [===========>..................] - ETA: 0s"
     ]
    },
    {
     "name": "stderr",
     "output_type": "stream",
     "text": [
      "2023-04-19 10:50:32.594089: I tensorflow/core/grappler/optimizers/custom_graph_optimizer_registry.cc:113] Plugin optimizer for device_type GPU is enabled.\n"
     ]
    },
    {
     "name": "stdout",
     "output_type": "stream",
     "text": [
      "41/41 [==============================] - 0s 5ms/step\n",
      "41/41 [==============================] - 0s 1ms/step\n"
     ]
    },
    {
     "name": "stderr",
     "output_type": "stream",
     "text": [
      "2023-04-19 10:50:33.111982: I tensorflow/core/grappler/optimizers/custom_graph_optimizer_registry.cc:113] Plugin optimizer for device_type GPU is enabled.\n"
     ]
    },
    {
     "name": "stdout",
     "output_type": "stream",
     "text": [
      "17/41 [===========>..................] - ETA: 0s"
     ]
    },
    {
     "name": "stderr",
     "output_type": "stream",
     "text": [
      "2023-04-19 10:50:38.487923: I tensorflow/core/grappler/optimizers/custom_graph_optimizer_registry.cc:113] Plugin optimizer for device_type GPU is enabled.\n"
     ]
    },
    {
     "name": "stdout",
     "output_type": "stream",
     "text": [
      "41/41 [==============================] - 0s 4ms/step\n",
      "41/41 [==============================] - 0s 2ms/step\n"
     ]
    },
    {
     "name": "stderr",
     "output_type": "stream",
     "text": [
      "2023-04-19 10:50:38.971121: I tensorflow/core/grappler/optimizers/custom_graph_optimizer_registry.cc:113] Plugin optimizer for device_type GPU is enabled.\n"
     ]
    },
    {
     "name": "stdout",
     "output_type": "stream",
     "text": [
      "12/41 [=======>......................] - ETA: 0s"
     ]
    },
    {
     "name": "stderr",
     "output_type": "stream",
     "text": [
      "2023-04-19 10:50:44.284145: I tensorflow/core/grappler/optimizers/custom_graph_optimizer_registry.cc:113] Plugin optimizer for device_type GPU is enabled.\n"
     ]
    },
    {
     "name": "stdout",
     "output_type": "stream",
     "text": [
      "41/41 [==============================] - 0s 4ms/step\n",
      "41/41 [==============================] - 0s 1ms/step\n"
     ]
    },
    {
     "name": "stderr",
     "output_type": "stream",
     "text": [
      "2023-04-19 10:50:44.787756: I tensorflow/core/grappler/optimizers/custom_graph_optimizer_registry.cc:113] Plugin optimizer for device_type GPU is enabled.\n"
     ]
    },
    {
     "name": "stdout",
     "output_type": "stream",
     "text": [
      "17/41 [===========>..................] - ETA: 0s"
     ]
    },
    {
     "name": "stderr",
     "output_type": "stream",
     "text": [
      "2023-04-19 10:50:50.948504: I tensorflow/core/grappler/optimizers/custom_graph_optimizer_registry.cc:113] Plugin optimizer for device_type GPU is enabled.\n"
     ]
    },
    {
     "name": "stdout",
     "output_type": "stream",
     "text": [
      "41/41 [==============================] - 0s 4ms/step\n",
      "41/41 [==============================] - 0s 1ms/step\n"
     ]
    },
    {
     "name": "stderr",
     "output_type": "stream",
     "text": [
      "2023-04-19 10:50:51.446731: I tensorflow/core/grappler/optimizers/custom_graph_optimizer_registry.cc:113] Plugin optimizer for device_type GPU is enabled.\n"
     ]
    },
    {
     "name": "stdout",
     "output_type": "stream",
     "text": [
      "18/41 [============>.................] - ETA: 0s"
     ]
    },
    {
     "name": "stderr",
     "output_type": "stream",
     "text": [
      "2023-04-19 10:50:57.712757: I tensorflow/core/grappler/optimizers/custom_graph_optimizer_registry.cc:113] Plugin optimizer for device_type GPU is enabled.\n"
     ]
    },
    {
     "name": "stdout",
     "output_type": "stream",
     "text": [
      "41/41 [==============================] - 0s 4ms/step\n",
      "41/41 [==============================] - 0s 2ms/step\n"
     ]
    },
    {
     "name": "stderr",
     "output_type": "stream",
     "text": [
      "2023-04-19 10:50:58.220754: I tensorflow/core/grappler/optimizers/custom_graph_optimizer_registry.cc:113] Plugin optimizer for device_type GPU is enabled.\n"
     ]
    },
    {
     "name": "stdout",
     "output_type": "stream",
     "text": [
      "27/41 [==================>...........] - ETA: 0s"
     ]
    },
    {
     "name": "stderr",
     "output_type": "stream",
     "text": [
      "2023-04-19 10:51:04.379672: I tensorflow/core/grappler/optimizers/custom_graph_optimizer_registry.cc:113] Plugin optimizer for device_type GPU is enabled.\n"
     ]
    },
    {
     "name": "stdout",
     "output_type": "stream",
     "text": [
      "41/41 [==============================] - 0s 3ms/step\n",
      "41/41 [==============================] - 0s 3ms/step\n"
     ]
    },
    {
     "name": "stderr",
     "output_type": "stream",
     "text": [
      "2023-04-19 10:51:04.912960: I tensorflow/core/grappler/optimizers/custom_graph_optimizer_registry.cc:113] Plugin optimizer for device_type GPU is enabled.\n"
     ]
    },
    {
     "name": "stdout",
     "output_type": "stream",
     "text": [
      "17/41 [===========>..................] - ETA: 0s"
     ]
    },
    {
     "name": "stderr",
     "output_type": "stream",
     "text": [
      "2023-04-19 10:51:10.886133: I tensorflow/core/grappler/optimizers/custom_graph_optimizer_registry.cc:113] Plugin optimizer for device_type GPU is enabled.\n"
     ]
    },
    {
     "name": "stdout",
     "output_type": "stream",
     "text": [
      "41/41 [==============================] - 0s 4ms/step\n",
      "41/41 [==============================] - 0s 2ms/step\n"
     ]
    },
    {
     "name": "stderr",
     "output_type": "stream",
     "text": [
      "2023-04-19 10:51:11.393267: I tensorflow/core/grappler/optimizers/custom_graph_optimizer_registry.cc:113] Plugin optimizer for device_type GPU is enabled.\n"
     ]
    },
    {
     "name": "stdout",
     "output_type": "stream",
     "text": [
      "41/41 [==============================] - 0s 3ms/step\n"
     ]
    },
    {
     "name": "stderr",
     "output_type": "stream",
     "text": [
      "2023-04-19 10:51:17.903212: I tensorflow/core/grappler/optimizers/custom_graph_optimizer_registry.cc:113] Plugin optimizer for device_type GPU is enabled.\n"
     ]
    },
    {
     "name": "stdout",
     "output_type": "stream",
     "text": [
      "41/41 [==============================] - 0s 3ms/step\n"
     ]
    },
    {
     "name": "stderr",
     "output_type": "stream",
     "text": [
      "2023-04-19 10:51:18.370869: I tensorflow/core/grappler/optimizers/custom_graph_optimizer_registry.cc:113] Plugin optimizer for device_type GPU is enabled.\n"
     ]
    },
    {
     "name": "stdout",
     "output_type": "stream",
     "text": [
      "36/41 [=========================>....] - ETA: 0s"
     ]
    },
    {
     "name": "stderr",
     "output_type": "stream",
     "text": [
      "2023-04-19 10:51:24.034329: I tensorflow/core/grappler/optimizers/custom_graph_optimizer_registry.cc:113] Plugin optimizer for device_type GPU is enabled.\n"
     ]
    },
    {
     "name": "stdout",
     "output_type": "stream",
     "text": [
      "41/41 [==============================] - 0s 5ms/step\n",
      "41/41 [==============================] - 0s 2ms/step\n"
     ]
    },
    {
     "name": "stderr",
     "output_type": "stream",
     "text": [
      "2023-04-19 10:51:24.591948: I tensorflow/core/grappler/optimizers/custom_graph_optimizer_registry.cc:113] Plugin optimizer for device_type GPU is enabled.\n"
     ]
    },
    {
     "name": "stdout",
     "output_type": "stream",
     "text": [
      "16/41 [==========>...................] - ETA: 0s"
     ]
    },
    {
     "name": "stderr",
     "output_type": "stream",
     "text": [
      "2023-04-19 10:51:31.183231: I tensorflow/core/grappler/optimizers/custom_graph_optimizer_registry.cc:113] Plugin optimizer for device_type GPU is enabled.\n"
     ]
    },
    {
     "name": "stdout",
     "output_type": "stream",
     "text": [
      "41/41 [==============================] - 0s 5ms/step\n",
      "41/41 [==============================] - 0s 1ms/step\n"
     ]
    },
    {
     "name": "stderr",
     "output_type": "stream",
     "text": [
      "2023-04-19 10:51:31.739141: I tensorflow/core/grappler/optimizers/custom_graph_optimizer_registry.cc:113] Plugin optimizer for device_type GPU is enabled.\n"
     ]
    },
    {
     "name": "stdout",
     "output_type": "stream",
     "text": [
      "16/41 [==========>...................] - ETA: 0s"
     ]
    },
    {
     "name": "stderr",
     "output_type": "stream",
     "text": [
      "2023-04-19 10:51:38.170321: I tensorflow/core/grappler/optimizers/custom_graph_optimizer_registry.cc:113] Plugin optimizer for device_type GPU is enabled.\n"
     ]
    },
    {
     "name": "stdout",
     "output_type": "stream",
     "text": [
      "41/41 [==============================] - 0s 5ms/step\n",
      "41/41 [==============================] - 0s 2ms/step\n"
     ]
    },
    {
     "name": "stderr",
     "output_type": "stream",
     "text": [
      "2023-04-19 10:51:38.708147: I tensorflow/core/grappler/optimizers/custom_graph_optimizer_registry.cc:113] Plugin optimizer for device_type GPU is enabled.\n"
     ]
    },
    {
     "name": "stdout",
     "output_type": "stream",
     "text": [
      "20/41 [=============>................] - ETA: 0s"
     ]
    },
    {
     "name": "stderr",
     "output_type": "stream",
     "text": [
      "2023-04-19 10:51:45.257311: I tensorflow/core/grappler/optimizers/custom_graph_optimizer_registry.cc:113] Plugin optimizer for device_type GPU is enabled.\n"
     ]
    },
    {
     "name": "stdout",
     "output_type": "stream",
     "text": [
      "41/41 [==============================] - 0s 4ms/step\n",
      "41/41 [==============================] - 0s 2ms/step\n"
     ]
    },
    {
     "name": "stderr",
     "output_type": "stream",
     "text": [
      "2023-04-19 10:51:45.791004: I tensorflow/core/grappler/optimizers/custom_graph_optimizer_registry.cc:113] Plugin optimizer for device_type GPU is enabled.\n"
     ]
    },
    {
     "name": "stdout",
     "output_type": "stream",
     "text": [
      "16/41 [==========>...................] - ETA: 0s"
     ]
    },
    {
     "name": "stderr",
     "output_type": "stream",
     "text": [
      "2023-04-19 10:51:52.424867: I tensorflow/core/grappler/optimizers/custom_graph_optimizer_registry.cc:113] Plugin optimizer for device_type GPU is enabled.\n"
     ]
    },
    {
     "name": "stdout",
     "output_type": "stream",
     "text": [
      "41/41 [==============================] - 0s 4ms/step\n",
      "41/41 [==============================] - 0s 1ms/step\n"
     ]
    },
    {
     "name": "stderr",
     "output_type": "stream",
     "text": [
      "2023-04-19 10:51:52.915639: I tensorflow/core/grappler/optimizers/custom_graph_optimizer_registry.cc:113] Plugin optimizer for device_type GPU is enabled.\n"
     ]
    },
    {
     "name": "stdout",
     "output_type": "stream",
     "text": [
      "26/41 [==================>...........] - ETA: 0s"
     ]
    },
    {
     "name": "stderr",
     "output_type": "stream",
     "text": [
      "2023-04-19 10:51:58.715871: I tensorflow/core/grappler/optimizers/custom_graph_optimizer_registry.cc:113] Plugin optimizer for device_type GPU is enabled.\n"
     ]
    },
    {
     "name": "stdout",
     "output_type": "stream",
     "text": [
      "41/41 [==============================] - 0s 3ms/step\n",
      "41/41 [==============================] - 0s 1ms/step\n"
     ]
    },
    {
     "name": "stderr",
     "output_type": "stream",
     "text": [
      "2023-04-19 10:51:59.167821: I tensorflow/core/grappler/optimizers/custom_graph_optimizer_registry.cc:113] Plugin optimizer for device_type GPU is enabled.\n"
     ]
    },
    {
     "name": "stdout",
     "output_type": "stream",
     "text": [
      "20/41 [=============>................] - ETA: 0s"
     ]
    },
    {
     "name": "stderr",
     "output_type": "stream",
     "text": [
      "2023-04-19 10:52:04.770801: I tensorflow/core/grappler/optimizers/custom_graph_optimizer_registry.cc:113] Plugin optimizer for device_type GPU is enabled.\n"
     ]
    },
    {
     "name": "stdout",
     "output_type": "stream",
     "text": [
      "41/41 [==============================] - 0s 4ms/step\n",
      "41/41 [==============================] - 0s 2ms/step\n"
     ]
    },
    {
     "name": "stderr",
     "output_type": "stream",
     "text": [
      "2023-04-19 10:52:05.268466: I tensorflow/core/grappler/optimizers/custom_graph_optimizer_registry.cc:113] Plugin optimizer for device_type GPU is enabled.\n"
     ]
    },
    {
     "name": "stdout",
     "output_type": "stream",
     "text": [
      "20/41 [=============>................] - ETA: 0s"
     ]
    },
    {
     "name": "stderr",
     "output_type": "stream",
     "text": [
      "2023-04-19 10:52:10.970823: I tensorflow/core/grappler/optimizers/custom_graph_optimizer_registry.cc:113] Plugin optimizer for device_type GPU is enabled.\n"
     ]
    },
    {
     "name": "stdout",
     "output_type": "stream",
     "text": [
      "41/41 [==============================] - 0s 4ms/step\n",
      "41/41 [==============================] - 0s 1ms/step\n"
     ]
    },
    {
     "name": "stderr",
     "output_type": "stream",
     "text": [
      "2023-04-19 10:52:11.461735: I tensorflow/core/grappler/optimizers/custom_graph_optimizer_registry.cc:113] Plugin optimizer for device_type GPU is enabled.\n"
     ]
    },
    {
     "name": "stdout",
     "output_type": "stream",
     "text": [
      "18/41 [============>.................] - ETA: 0s"
     ]
    },
    {
     "name": "stderr",
     "output_type": "stream",
     "text": [
      "2023-04-19 10:52:18.080719: I tensorflow/core/grappler/optimizers/custom_graph_optimizer_registry.cc:113] Plugin optimizer for device_type GPU is enabled.\n"
     ]
    },
    {
     "name": "stdout",
     "output_type": "stream",
     "text": [
      "41/41 [==============================] - 0s 4ms/step\n",
      "41/41 [==============================] - 0s 2ms/step\n"
     ]
    },
    {
     "name": "stderr",
     "output_type": "stream",
     "text": [
      "2023-04-19 10:52:18.591004: I tensorflow/core/grappler/optimizers/custom_graph_optimizer_registry.cc:113] Plugin optimizer for device_type GPU is enabled.\n"
     ]
    },
    {
     "name": "stdout",
     "output_type": "stream",
     "text": [
      "16/41 [==========>...................] - ETA: 0s"
     ]
    },
    {
     "name": "stderr",
     "output_type": "stream",
     "text": [
      "2023-04-19 10:52:25.017663: I tensorflow/core/grappler/optimizers/custom_graph_optimizer_registry.cc:113] Plugin optimizer for device_type GPU is enabled.\n"
     ]
    },
    {
     "name": "stdout",
     "output_type": "stream",
     "text": [
      "41/41 [==============================] - 0s 4ms/step\n",
      "41/41 [==============================] - 0s 2ms/step\n"
     ]
    },
    {
     "name": "stderr",
     "output_type": "stream",
     "text": [
      "2023-04-19 10:52:25.541203: I tensorflow/core/grappler/optimizers/custom_graph_optimizer_registry.cc:113] Plugin optimizer for device_type GPU is enabled.\n"
     ]
    },
    {
     "name": "stdout",
     "output_type": "stream",
     "text": [
      "17/41 [===========>..................] - ETA: 0s"
     ]
    },
    {
     "name": "stderr",
     "output_type": "stream",
     "text": [
      "2023-04-19 10:52:32.535210: I tensorflow/core/grappler/optimizers/custom_graph_optimizer_registry.cc:113] Plugin optimizer for device_type GPU is enabled.\n"
     ]
    },
    {
     "name": "stdout",
     "output_type": "stream",
     "text": [
      "41/41 [==============================] - 0s 4ms/step\n",
      "41/41 [==============================] - 0s 2ms/step\n"
     ]
    },
    {
     "name": "stderr",
     "output_type": "stream",
     "text": [
      "2023-04-19 10:52:33.003575: I tensorflow/core/grappler/optimizers/custom_graph_optimizer_registry.cc:113] Plugin optimizer for device_type GPU is enabled.\n"
     ]
    },
    {
     "name": "stdout",
     "output_type": "stream",
     "text": [
      "19/41 [============>.................] - ETA: 0s"
     ]
    },
    {
     "name": "stderr",
     "output_type": "stream",
     "text": [
      "2023-04-19 10:52:40.473680: I tensorflow/core/grappler/optimizers/custom_graph_optimizer_registry.cc:113] Plugin optimizer for device_type GPU is enabled.\n"
     ]
    },
    {
     "name": "stdout",
     "output_type": "stream",
     "text": [
      "41/41 [==============================] - 0s 5ms/step\n",
      "41/41 [==============================] - 0s 1ms/step\n"
     ]
    },
    {
     "name": "stderr",
     "output_type": "stream",
     "text": [
      "2023-04-19 10:52:41.000798: I tensorflow/core/grappler/optimizers/custom_graph_optimizer_registry.cc:113] Plugin optimizer for device_type GPU is enabled.\n"
     ]
    },
    {
     "name": "stdout",
     "output_type": "stream",
     "text": [
      "16/41 [==========>...................] - ETA: 0s"
     ]
    },
    {
     "name": "stderr",
     "output_type": "stream",
     "text": [
      "2023-04-19 10:52:47.713445: I tensorflow/core/grappler/optimizers/custom_graph_optimizer_registry.cc:113] Plugin optimizer for device_type GPU is enabled.\n"
     ]
    },
    {
     "name": "stdout",
     "output_type": "stream",
     "text": [
      "41/41 [==============================] - 0s 4ms/step\n",
      "41/41 [==============================] - 0s 2ms/step\n"
     ]
    },
    {
     "name": "stderr",
     "output_type": "stream",
     "text": [
      "2023-04-19 10:52:48.235457: I tensorflow/core/grappler/optimizers/custom_graph_optimizer_registry.cc:113] Plugin optimizer for device_type GPU is enabled.\n"
     ]
    },
    {
     "name": "stdout",
     "output_type": "stream",
     "text": [
      "19/41 [============>.................] - ETA: 0s"
     ]
    },
    {
     "name": "stderr",
     "output_type": "stream",
     "text": [
      "2023-04-19 10:52:55.438593: I tensorflow/core/grappler/optimizers/custom_graph_optimizer_registry.cc:113] Plugin optimizer for device_type GPU is enabled.\n"
     ]
    },
    {
     "name": "stdout",
     "output_type": "stream",
     "text": [
      "41/41 [==============================] - 0s 6ms/step\n",
      "41/41 [==============================] - 0s 2ms/step\n"
     ]
    },
    {
     "name": "stderr",
     "output_type": "stream",
     "text": [
      "2023-04-19 10:52:56.021984: I tensorflow/core/grappler/optimizers/custom_graph_optimizer_registry.cc:113] Plugin optimizer for device_type GPU is enabled.\n"
     ]
    },
    {
     "name": "stdout",
     "output_type": "stream",
     "text": [
      "16/41 [==========>...................] - ETA: 0s"
     ]
    },
    {
     "name": "stderr",
     "output_type": "stream",
     "text": [
      "2023-04-19 10:53:03.539417: I tensorflow/core/grappler/optimizers/custom_graph_optimizer_registry.cc:113] Plugin optimizer for device_type GPU is enabled.\n"
     ]
    },
    {
     "name": "stdout",
     "output_type": "stream",
     "text": [
      "41/41 [==============================] - 0s 5ms/step\n",
      "41/41 [==============================] - 0s 2ms/step\n"
     ]
    },
    {
     "name": "stderr",
     "output_type": "stream",
     "text": [
      "2023-04-19 10:53:06.461574: I tensorflow/core/grappler/optimizers/custom_graph_optimizer_registry.cc:113] Plugin optimizer for device_type GPU is enabled.\n"
     ]
    },
    {
     "name": "stdout",
     "output_type": "stream",
     "text": [
      "19/41 [============>.................] - ETA: 0s"
     ]
    },
    {
     "name": "stderr",
     "output_type": "stream",
     "text": [
      "2023-04-19 10:53:14.186414: I tensorflow/core/grappler/optimizers/custom_graph_optimizer_registry.cc:113] Plugin optimizer for device_type GPU is enabled.\n"
     ]
    },
    {
     "name": "stdout",
     "output_type": "stream",
     "text": [
      "41/41 [==============================] - 0s 5ms/step\n",
      "41/41 [==============================] - 0s 2ms/step\n"
     ]
    },
    {
     "name": "stderr",
     "output_type": "stream",
     "text": [
      "2023-04-19 10:53:14.768212: I tensorflow/core/grappler/optimizers/custom_graph_optimizer_registry.cc:113] Plugin optimizer for device_type GPU is enabled.\n"
     ]
    },
    {
     "name": "stdout",
     "output_type": "stream",
     "text": [
      "20/41 [=============>................] - ETA: 0s"
     ]
    },
    {
     "name": "stderr",
     "output_type": "stream",
     "text": [
      "2023-04-19 10:53:22.045203: I tensorflow/core/grappler/optimizers/custom_graph_optimizer_registry.cc:113] Plugin optimizer for device_type GPU is enabled.\n"
     ]
    },
    {
     "name": "stdout",
     "output_type": "stream",
     "text": [
      "41/41 [==============================] - 0s 4ms/step\n",
      "41/41 [==============================] - 0s 2ms/step\n"
     ]
    },
    {
     "name": "stderr",
     "output_type": "stream",
     "text": [
      "2023-04-19 10:53:22.570573: I tensorflow/core/grappler/optimizers/custom_graph_optimizer_registry.cc:113] Plugin optimizer for device_type GPU is enabled.\n"
     ]
    },
    {
     "name": "stdout",
     "output_type": "stream",
     "text": [
      "17/41 [===========>..................] - ETA: 0s"
     ]
    },
    {
     "name": "stderr",
     "output_type": "stream",
     "text": [
      "2023-04-19 10:53:29.671784: I tensorflow/core/grappler/optimizers/custom_graph_optimizer_registry.cc:113] Plugin optimizer for device_type GPU is enabled.\n"
     ]
    },
    {
     "name": "stdout",
     "output_type": "stream",
     "text": [
      "41/41 [==============================] - 0s 5ms/step\n",
      "41/41 [==============================] - 0s 2ms/step\n"
     ]
    },
    {
     "name": "stderr",
     "output_type": "stream",
     "text": [
      "2023-04-19 10:53:30.188240: I tensorflow/core/grappler/optimizers/custom_graph_optimizer_registry.cc:113] Plugin optimizer for device_type GPU is enabled.\n"
     ]
    },
    {
     "name": "stdout",
     "output_type": "stream",
     "text": [
      "16/41 [==========>...................] - ETA: 0s"
     ]
    },
    {
     "name": "stderr",
     "output_type": "stream",
     "text": [
      "2023-04-19 10:53:37.390586: I tensorflow/core/grappler/optimizers/custom_graph_optimizer_registry.cc:113] Plugin optimizer for device_type GPU is enabled.\n"
     ]
    },
    {
     "name": "stdout",
     "output_type": "stream",
     "text": [
      "41/41 [==============================] - 0s 4ms/step\n",
      "41/41 [==============================] - 0s 2ms/step\n"
     ]
    },
    {
     "name": "stderr",
     "output_type": "stream",
     "text": [
      "2023-04-19 10:53:37.882459: I tensorflow/core/grappler/optimizers/custom_graph_optimizer_registry.cc:113] Plugin optimizer for device_type GPU is enabled.\n"
     ]
    },
    {
     "name": "stdout",
     "output_type": "stream",
     "text": [
      " 8/41 [====>.........................] - ETA: 0s"
     ]
    },
    {
     "name": "stderr",
     "output_type": "stream",
     "text": [
      "2023-04-19 10:53:44.920719: I tensorflow/core/grappler/optimizers/custom_graph_optimizer_registry.cc:113] Plugin optimizer for device_type GPU is enabled.\n"
     ]
    },
    {
     "name": "stdout",
     "output_type": "stream",
     "text": [
      "41/41 [==============================] - 0s 5ms/step\n",
      "41/41 [==============================] - 0s 1ms/step\n"
     ]
    },
    {
     "name": "stderr",
     "output_type": "stream",
     "text": [
      "2023-04-19 10:53:45.428621: I tensorflow/core/grappler/optimizers/custom_graph_optimizer_registry.cc:113] Plugin optimizer for device_type GPU is enabled.\n"
     ]
    },
    {
     "name": "stdout",
     "output_type": "stream",
     "text": [
      "33/41 [=======================>......] - ETA: 0s"
     ]
    },
    {
     "name": "stderr",
     "output_type": "stream",
     "text": [
      "2023-04-19 10:53:51.708183: I tensorflow/core/grappler/optimizers/custom_graph_optimizer_registry.cc:113] Plugin optimizer for device_type GPU is enabled.\n"
     ]
    },
    {
     "name": "stdout",
     "output_type": "stream",
     "text": [
      "41/41 [==============================] - 0s 5ms/step\n",
      "41/41 [==============================] - 0s 2ms/step\n"
     ]
    },
    {
     "name": "stderr",
     "output_type": "stream",
     "text": [
      "2023-04-19 10:53:52.258086: I tensorflow/core/grappler/optimizers/custom_graph_optimizer_registry.cc:113] Plugin optimizer for device_type GPU is enabled.\n"
     ]
    },
    {
     "name": "stdout",
     "output_type": "stream",
     "text": [
      "26/41 [==================>...........] - ETA: 0s"
     ]
    },
    {
     "name": "stderr",
     "output_type": "stream",
     "text": [
      "2023-04-19 10:53:59.331395: I tensorflow/core/grappler/optimizers/custom_graph_optimizer_registry.cc:113] Plugin optimizer for device_type GPU is enabled.\n"
     ]
    },
    {
     "name": "stdout",
     "output_type": "stream",
     "text": [
      "41/41 [==============================] - 0s 5ms/step\n",
      "41/41 [==============================] - 0s 2ms/step\n"
     ]
    },
    {
     "name": "stderr",
     "output_type": "stream",
     "text": [
      "2023-04-19 10:53:59.861182: I tensorflow/core/grappler/optimizers/custom_graph_optimizer_registry.cc:113] Plugin optimizer for device_type GPU is enabled.\n"
     ]
    },
    {
     "name": "stdout",
     "output_type": "stream",
     "text": [
      "16/41 [==========>...................] - ETA: 0s"
     ]
    },
    {
     "name": "stderr",
     "output_type": "stream",
     "text": [
      "2023-04-19 10:54:07.006503: I tensorflow/core/grappler/optimizers/custom_graph_optimizer_registry.cc:113] Plugin optimizer for device_type GPU is enabled.\n"
     ]
    },
    {
     "name": "stdout",
     "output_type": "stream",
     "text": [
      "41/41 [==============================] - 0s 4ms/step\n",
      "41/41 [==============================] - 0s 2ms/step\n"
     ]
    },
    {
     "name": "stderr",
     "output_type": "stream",
     "text": [
      "2023-04-19 10:54:07.526585: I tensorflow/core/grappler/optimizers/custom_graph_optimizer_registry.cc:113] Plugin optimizer for device_type GPU is enabled.\n"
     ]
    },
    {
     "name": "stdout",
     "output_type": "stream",
     "text": [
      "21/41 [==============>...............] - ETA: 0s"
     ]
    },
    {
     "name": "stderr",
     "output_type": "stream",
     "text": [
      "2023-04-19 10:54:14.740605: I tensorflow/core/grappler/optimizers/custom_graph_optimizer_registry.cc:113] Plugin optimizer for device_type GPU is enabled.\n"
     ]
    },
    {
     "name": "stdout",
     "output_type": "stream",
     "text": [
      "41/41 [==============================] - 0s 4ms/step\n",
      "41/41 [==============================] - 0s 1ms/step\n"
     ]
    },
    {
     "name": "stderr",
     "output_type": "stream",
     "text": [
      "2023-04-19 10:54:15.218853: I tensorflow/core/grappler/optimizers/custom_graph_optimizer_registry.cc:113] Plugin optimizer for device_type GPU is enabled.\n"
     ]
    },
    {
     "name": "stdout",
     "output_type": "stream",
     "text": [
      "16/41 [==========>...................] - ETA: 0s"
     ]
    },
    {
     "name": "stderr",
     "output_type": "stream",
     "text": [
      "2023-04-19 10:54:22.445517: I tensorflow/core/grappler/optimizers/custom_graph_optimizer_registry.cc:113] Plugin optimizer for device_type GPU is enabled.\n"
     ]
    },
    {
     "name": "stdout",
     "output_type": "stream",
     "text": [
      "41/41 [==============================] - 0s 3ms/step\n",
      "41/41 [==============================] - 0s 1ms/step\n"
     ]
    },
    {
     "name": "stderr",
     "output_type": "stream",
     "text": [
      "2023-04-19 10:54:22.904993: I tensorflow/core/grappler/optimizers/custom_graph_optimizer_registry.cc:113] Plugin optimizer for device_type GPU is enabled.\n"
     ]
    },
    {
     "name": "stdout",
     "output_type": "stream",
     "text": [
      "20/41 [=============>................] - ETA: 0s"
     ]
    },
    {
     "name": "stderr",
     "output_type": "stream",
     "text": [
      "2023-04-19 10:54:30.237029: I tensorflow/core/grappler/optimizers/custom_graph_optimizer_registry.cc:113] Plugin optimizer for device_type GPU is enabled.\n"
     ]
    },
    {
     "name": "stdout",
     "output_type": "stream",
     "text": [
      "41/41 [==============================] - 0s 4ms/step\n",
      "41/41 [==============================] - 0s 3ms/step\n"
     ]
    },
    {
     "name": "stderr",
     "output_type": "stream",
     "text": [
      "2023-04-19 10:54:30.777324: I tensorflow/core/grappler/optimizers/custom_graph_optimizer_registry.cc:113] Plugin optimizer for device_type GPU is enabled.\n"
     ]
    },
    {
     "name": "stdout",
     "output_type": "stream",
     "text": [
      "15/41 [=========>....................] - ETA: 0s"
     ]
    },
    {
     "name": "stderr",
     "output_type": "stream",
     "text": [
      "2023-04-19 10:54:38.079879: I tensorflow/core/grappler/optimizers/custom_graph_optimizer_registry.cc:113] Plugin optimizer for device_type GPU is enabled.\n"
     ]
    },
    {
     "name": "stdout",
     "output_type": "stream",
     "text": [
      "41/41 [==============================] - 0s 5ms/step\n",
      "41/41 [==============================] - 0s 1ms/step\n"
     ]
    },
    {
     "name": "stderr",
     "output_type": "stream",
     "text": [
      "2023-04-19 10:54:38.597123: I tensorflow/core/grappler/optimizers/custom_graph_optimizer_registry.cc:113] Plugin optimizer for device_type GPU is enabled.\n"
     ]
    },
    {
     "name": "stdout",
     "output_type": "stream",
     "text": [
      "14/41 [=========>....................] - ETA: 0s"
     ]
    },
    {
     "name": "stderr",
     "output_type": "stream",
     "text": [
      "2023-04-19 10:54:45.335553: I tensorflow/core/grappler/optimizers/custom_graph_optimizer_registry.cc:113] Plugin optimizer for device_type GPU is enabled.\n"
     ]
    },
    {
     "name": "stdout",
     "output_type": "stream",
     "text": [
      "41/41 [==============================] - 0s 6ms/step\n",
      "41/41 [==============================] - 0s 1ms/step\n"
     ]
    },
    {
     "name": "stderr",
     "output_type": "stream",
     "text": [
      "2023-04-19 10:54:45.874434: I tensorflow/core/grappler/optimizers/custom_graph_optimizer_registry.cc:113] Plugin optimizer for device_type GPU is enabled.\n"
     ]
    },
    {
     "name": "stdout",
     "output_type": "stream",
     "text": [
      "15/41 [=========>....................] - ETA: 0s"
     ]
    },
    {
     "name": "stderr",
     "output_type": "stream",
     "text": [
      "2023-04-19 10:54:52.817397: I tensorflow/core/grappler/optimizers/custom_graph_optimizer_registry.cc:113] Plugin optimizer for device_type GPU is enabled.\n"
     ]
    },
    {
     "name": "stdout",
     "output_type": "stream",
     "text": [
      "41/41 [==============================] - 0s 4ms/step\n",
      "41/41 [==============================] - 0s 1ms/step\n"
     ]
    },
    {
     "name": "stderr",
     "output_type": "stream",
     "text": [
      "2023-04-19 10:54:53.315338: I tensorflow/core/grappler/optimizers/custom_graph_optimizer_registry.cc:113] Plugin optimizer for device_type GPU is enabled.\n"
     ]
    },
    {
     "name": "stdout",
     "output_type": "stream",
     "text": [
      "19/41 [============>.................] - ETA: 0s"
     ]
    },
    {
     "name": "stderr",
     "output_type": "stream",
     "text": [
      "2023-04-19 10:55:00.601610: I tensorflow/core/grappler/optimizers/custom_graph_optimizer_registry.cc:113] Plugin optimizer for device_type GPU is enabled.\n"
     ]
    },
    {
     "name": "stdout",
     "output_type": "stream",
     "text": [
      "41/41 [==============================] - 0s 4ms/step\n",
      "41/41 [==============================] - 0s 2ms/step\n"
     ]
    },
    {
     "name": "stderr",
     "output_type": "stream",
     "text": [
      "2023-04-19 10:55:01.119603: I tensorflow/core/grappler/optimizers/custom_graph_optimizer_registry.cc:113] Plugin optimizer for device_type GPU is enabled.\n"
     ]
    },
    {
     "name": "stdout",
     "output_type": "stream",
     "text": [
      "20/41 [=============>................] - ETA: 0s"
     ]
    },
    {
     "name": "stderr",
     "output_type": "stream",
     "text": [
      "2023-04-19 10:55:07.882009: I tensorflow/core/grappler/optimizers/custom_graph_optimizer_registry.cc:113] Plugin optimizer for device_type GPU is enabled.\n"
     ]
    },
    {
     "name": "stdout",
     "output_type": "stream",
     "text": [
      "41/41 [==============================] - 0s 5ms/step\n",
      "41/41 [==============================] - 0s 2ms/step\n"
     ]
    },
    {
     "name": "stderr",
     "output_type": "stream",
     "text": [
      "2023-04-19 10:55:08.406189: I tensorflow/core/grappler/optimizers/custom_graph_optimizer_registry.cc:113] Plugin optimizer for device_type GPU is enabled.\n"
     ]
    },
    {
     "name": "stdout",
     "output_type": "stream",
     "text": [
      "16/41 [==========>...................] - ETA: 0s"
     ]
    },
    {
     "name": "stderr",
     "output_type": "stream",
     "text": [
      "2023-04-19 10:55:16.058625: I tensorflow/core/grappler/optimizers/custom_graph_optimizer_registry.cc:113] Plugin optimizer for device_type GPU is enabled.\n"
     ]
    },
    {
     "name": "stdout",
     "output_type": "stream",
     "text": [
      "41/41 [==============================] - 0s 4ms/step\n",
      "41/41 [==============================] - 0s 1ms/step\n"
     ]
    },
    {
     "name": "stderr",
     "output_type": "stream",
     "text": [
      "2023-04-19 10:55:16.526062: I tensorflow/core/grappler/optimizers/custom_graph_optimizer_registry.cc:113] Plugin optimizer for device_type GPU is enabled.\n"
     ]
    },
    {
     "name": "stdout",
     "output_type": "stream",
     "text": [
      "34/41 [=======================>......] - ETA: 0s"
     ]
    },
    {
     "name": "stderr",
     "output_type": "stream",
     "text": [
      "2023-04-19 10:55:23.121052: I tensorflow/core/grappler/optimizers/custom_graph_optimizer_registry.cc:113] Plugin optimizer for device_type GPU is enabled.\n"
     ]
    },
    {
     "name": "stdout",
     "output_type": "stream",
     "text": [
      "41/41 [==============================] - 0s 4ms/step\n",
      "41/41 [==============================] - 0s 1ms/step\n"
     ]
    },
    {
     "name": "stderr",
     "output_type": "stream",
     "text": [
      "2023-04-19 10:55:23.618217: I tensorflow/core/grappler/optimizers/custom_graph_optimizer_registry.cc:113] Plugin optimizer for device_type GPU is enabled.\n"
     ]
    },
    {
     "name": "stdout",
     "output_type": "stream",
     "text": [
      "20/41 [=============>................] - ETA: 0s"
     ]
    },
    {
     "name": "stderr",
     "output_type": "stream",
     "text": [
      "2023-04-19 10:55:30.575344: I tensorflow/core/grappler/optimizers/custom_graph_optimizer_registry.cc:113] Plugin optimizer for device_type GPU is enabled.\n"
     ]
    },
    {
     "name": "stdout",
     "output_type": "stream",
     "text": [
      "41/41 [==============================] - 0s 4ms/step\n",
      "41/41 [==============================] - 0s 1ms/step\n"
     ]
    },
    {
     "name": "stderr",
     "output_type": "stream",
     "text": [
      "2023-04-19 10:55:31.069784: I tensorflow/core/grappler/optimizers/custom_graph_optimizer_registry.cc:113] Plugin optimizer for device_type GPU is enabled.\n"
     ]
    },
    {
     "name": "stdout",
     "output_type": "stream",
     "text": [
      "15/41 [=========>....................] - ETA: 0s"
     ]
    },
    {
     "name": "stderr",
     "output_type": "stream",
     "text": [
      "2023-04-19 10:55:37.801800: I tensorflow/core/grappler/optimizers/custom_graph_optimizer_registry.cc:113] Plugin optimizer for device_type GPU is enabled.\n"
     ]
    },
    {
     "name": "stdout",
     "output_type": "stream",
     "text": [
      "41/41 [==============================] - 0s 5ms/step\n",
      "41/41 [==============================] - 0s 2ms/step\n"
     ]
    },
    {
     "name": "stderr",
     "output_type": "stream",
     "text": [
      "2023-04-19 10:55:38.321501: I tensorflow/core/grappler/optimizers/custom_graph_optimizer_registry.cc:113] Plugin optimizer for device_type GPU is enabled.\n"
     ]
    },
    {
     "name": "stdout",
     "output_type": "stream",
     "text": [
      "15/41 [=========>....................] - ETA: 0s"
     ]
    },
    {
     "name": "stderr",
     "output_type": "stream",
     "text": [
      "2023-04-19 10:55:45.399564: I tensorflow/core/grappler/optimizers/custom_graph_optimizer_registry.cc:113] Plugin optimizer for device_type GPU is enabled.\n"
     ]
    },
    {
     "name": "stdout",
     "output_type": "stream",
     "text": [
      "41/41 [==============================] - 0s 4ms/step\n",
      "41/41 [==============================] - 0s 2ms/step\n"
     ]
    },
    {
     "name": "stderr",
     "output_type": "stream",
     "text": [
      "2023-04-19 10:55:45.924695: I tensorflow/core/grappler/optimizers/custom_graph_optimizer_registry.cc:113] Plugin optimizer for device_type GPU is enabled.\n"
     ]
    },
    {
     "name": "stdout",
     "output_type": "stream",
     "text": [
      "15/41 [=========>....................] - ETA: 0s"
     ]
    },
    {
     "name": "stderr",
     "output_type": "stream",
     "text": [
      "2023-04-19 10:55:53.180467: I tensorflow/core/grappler/optimizers/custom_graph_optimizer_registry.cc:113] Plugin optimizer for device_type GPU is enabled.\n"
     ]
    },
    {
     "name": "stdout",
     "output_type": "stream",
     "text": [
      "41/41 [==============================] - 0s 5ms/step\n",
      "41/41 [==============================] - 0s 2ms/step\n"
     ]
    },
    {
     "name": "stderr",
     "output_type": "stream",
     "text": [
      "2023-04-19 10:55:53.718327: I tensorflow/core/grappler/optimizers/custom_graph_optimizer_registry.cc:113] Plugin optimizer for device_type GPU is enabled.\n"
     ]
    },
    {
     "name": "stdout",
     "output_type": "stream",
     "text": [
      "20/41 [=============>................] - ETA: 0s"
     ]
    },
    {
     "name": "stderr",
     "output_type": "stream",
     "text": [
      "2023-04-19 10:56:00.738376: I tensorflow/core/grappler/optimizers/custom_graph_optimizer_registry.cc:113] Plugin optimizer for device_type GPU is enabled.\n"
     ]
    },
    {
     "name": "stdout",
     "output_type": "stream",
     "text": [
      "41/41 [==============================] - 0s 4ms/step\n",
      "41/41 [==============================] - 0s 1ms/step\n"
     ]
    },
    {
     "name": "stderr",
     "output_type": "stream",
     "text": [
      "2023-04-19 10:56:01.245937: I tensorflow/core/grappler/optimizers/custom_graph_optimizer_registry.cc:113] Plugin optimizer for device_type GPU is enabled.\n"
     ]
    },
    {
     "name": "stdout",
     "output_type": "stream",
     "text": [
      "20/41 [=============>................] - ETA: 0s"
     ]
    },
    {
     "name": "stderr",
     "output_type": "stream",
     "text": [
      "2023-04-19 10:56:08.367093: I tensorflow/core/grappler/optimizers/custom_graph_optimizer_registry.cc:113] Plugin optimizer for device_type GPU is enabled.\n"
     ]
    },
    {
     "name": "stdout",
     "output_type": "stream",
     "text": [
      "41/41 [==============================] - 0s 4ms/step\n",
      "41/41 [==============================] - 0s 1ms/step\n"
     ]
    },
    {
     "name": "stderr",
     "output_type": "stream",
     "text": [
      "2023-04-19 10:56:08.852247: I tensorflow/core/grappler/optimizers/custom_graph_optimizer_registry.cc:113] Plugin optimizer for device_type GPU is enabled.\n"
     ]
    },
    {
     "name": "stdout",
     "output_type": "stream",
     "text": [
      "20/41 [=============>................] - ETA: 0s"
     ]
    },
    {
     "name": "stderr",
     "output_type": "stream",
     "text": [
      "2023-04-19 10:56:15.879571: I tensorflow/core/grappler/optimizers/custom_graph_optimizer_registry.cc:113] Plugin optimizer for device_type GPU is enabled.\n"
     ]
    },
    {
     "name": "stdout",
     "output_type": "stream",
     "text": [
      "41/41 [==============================] - 0s 4ms/step\n",
      "41/41 [==============================] - 0s 3ms/step\n"
     ]
    },
    {
     "name": "stderr",
     "output_type": "stream",
     "text": [
      "2023-04-19 10:56:16.426768: I tensorflow/core/grappler/optimizers/custom_graph_optimizer_registry.cc:113] Plugin optimizer for device_type GPU is enabled.\n"
     ]
    },
    {
     "name": "stdout",
     "output_type": "stream",
     "text": [
      "15/41 [=========>....................] - ETA: 0s"
     ]
    },
    {
     "name": "stderr",
     "output_type": "stream",
     "text": [
      "2023-04-19 10:56:23.731846: I tensorflow/core/grappler/optimizers/custom_graph_optimizer_registry.cc:113] Plugin optimizer for device_type GPU is enabled.\n"
     ]
    },
    {
     "name": "stdout",
     "output_type": "stream",
     "text": [
      "41/41 [==============================] - 0s 4ms/step\n",
      "41/41 [==============================] - 0s 2ms/step\n"
     ]
    },
    {
     "name": "stderr",
     "output_type": "stream",
     "text": [
      "2023-04-19 10:56:26.740198: I tensorflow/core/grappler/optimizers/custom_graph_optimizer_registry.cc:113] Plugin optimizer for device_type GPU is enabled.\n"
     ]
    },
    {
     "name": "stdout",
     "output_type": "stream",
     "text": [
      "19/41 [============>.................] - ETA: 0s"
     ]
    },
    {
     "name": "stderr",
     "output_type": "stream",
     "text": [
      "2023-04-19 10:56:34.808183: I tensorflow/core/grappler/optimizers/custom_graph_optimizer_registry.cc:113] Plugin optimizer for device_type GPU is enabled.\n"
     ]
    },
    {
     "name": "stdout",
     "output_type": "stream",
     "text": [
      "41/41 [==============================] - 0s 4ms/step\n",
      "41/41 [==============================] - 0s 2ms/step\n"
     ]
    },
    {
     "name": "stderr",
     "output_type": "stream",
     "text": [
      "2023-04-19 10:56:35.325666: I tensorflow/core/grappler/optimizers/custom_graph_optimizer_registry.cc:113] Plugin optimizer for device_type GPU is enabled.\n"
     ]
    },
    {
     "name": "stdout",
     "output_type": "stream",
     "text": [
      "20/41 [=============>................] - ETA: 0s"
     ]
    },
    {
     "name": "stderr",
     "output_type": "stream",
     "text": [
      "2023-04-19 10:56:42.708825: I tensorflow/core/grappler/optimizers/custom_graph_optimizer_registry.cc:113] Plugin optimizer for device_type GPU is enabled.\n"
     ]
    },
    {
     "name": "stdout",
     "output_type": "stream",
     "text": [
      "41/41 [==============================] - 0s 4ms/step\n",
      "41/41 [==============================] - 0s 2ms/step\n"
     ]
    },
    {
     "name": "stderr",
     "output_type": "stream",
     "text": [
      "2023-04-19 10:56:43.205292: I tensorflow/core/grappler/optimizers/custom_graph_optimizer_registry.cc:113] Plugin optimizer for device_type GPU is enabled.\n"
     ]
    },
    {
     "name": "stdout",
     "output_type": "stream",
     "text": [
      "14/41 [=========>....................] - ETA: 0s"
     ]
    },
    {
     "name": "stderr",
     "output_type": "stream",
     "text": [
      "2023-04-19 10:56:50.437806: I tensorflow/core/grappler/optimizers/custom_graph_optimizer_registry.cc:113] Plugin optimizer for device_type GPU is enabled.\n"
     ]
    },
    {
     "name": "stdout",
     "output_type": "stream",
     "text": [
      "41/41 [==============================] - 0s 5ms/step\n",
      "41/41 [==============================] - 0s 2ms/step\n"
     ]
    },
    {
     "name": "stderr",
     "output_type": "stream",
     "text": [
      "2023-04-19 10:56:50.944836: I tensorflow/core/grappler/optimizers/custom_graph_optimizer_registry.cc:113] Plugin optimizer for device_type GPU is enabled.\n"
     ]
    },
    {
     "name": "stdout",
     "output_type": "stream",
     "text": [
      "19/41 [============>.................] - ETA: 0s"
     ]
    },
    {
     "name": "stderr",
     "output_type": "stream",
     "text": [
      "2023-04-19 10:56:58.628602: I tensorflow/core/grappler/optimizers/custom_graph_optimizer_registry.cc:113] Plugin optimizer for device_type GPU is enabled.\n"
     ]
    },
    {
     "name": "stdout",
     "output_type": "stream",
     "text": [
      "41/41 [==============================] - 0s 4ms/step\n",
      "41/41 [==============================] - 0s 2ms/step\n"
     ]
    },
    {
     "name": "stderr",
     "output_type": "stream",
     "text": [
      "2023-04-19 10:56:59.136255: I tensorflow/core/grappler/optimizers/custom_graph_optimizer_registry.cc:113] Plugin optimizer for device_type GPU is enabled.\n"
     ]
    },
    {
     "name": "stdout",
     "output_type": "stream",
     "text": [
      "15/41 [=========>....................] - ETA: 0s"
     ]
    },
    {
     "name": "stderr",
     "output_type": "stream",
     "text": [
      "2023-04-19 10:57:06.797822: I tensorflow/core/grappler/optimizers/custom_graph_optimizer_registry.cc:113] Plugin optimizer for device_type GPU is enabled.\n"
     ]
    },
    {
     "name": "stdout",
     "output_type": "stream",
     "text": [
      "41/41 [==============================] - 0s 5ms/step\n",
      "41/41 [==============================] - 0s 2ms/step\n"
     ]
    },
    {
     "name": "stderr",
     "output_type": "stream",
     "text": [
      "2023-04-19 10:57:07.348929: I tensorflow/core/grappler/optimizers/custom_graph_optimizer_registry.cc:113] Plugin optimizer for device_type GPU is enabled.\n"
     ]
    },
    {
     "name": "stdout",
     "output_type": "stream",
     "text": [
      "19/41 [============>.................] - ETA: 0s"
     ]
    },
    {
     "name": "stderr",
     "output_type": "stream",
     "text": [
      "2023-04-19 10:57:15.398740: I tensorflow/core/grappler/optimizers/custom_graph_optimizer_registry.cc:113] Plugin optimizer for device_type GPU is enabled.\n"
     ]
    },
    {
     "name": "stdout",
     "output_type": "stream",
     "text": [
      "41/41 [==============================] - 0s 4ms/step\n",
      "41/41 [==============================] - 0s 1ms/step\n"
     ]
    },
    {
     "name": "stderr",
     "output_type": "stream",
     "text": [
      "2023-04-19 10:57:15.867668: I tensorflow/core/grappler/optimizers/custom_graph_optimizer_registry.cc:113] Plugin optimizer for device_type GPU is enabled.\n"
     ]
    },
    {
     "name": "stdout",
     "output_type": "stream",
     "text": [
      "19/41 [============>.................] - ETA: 0s"
     ]
    },
    {
     "name": "stderr",
     "output_type": "stream",
     "text": [
      "2023-04-19 10:57:23.028475: I tensorflow/core/grappler/optimizers/custom_graph_optimizer_registry.cc:113] Plugin optimizer for device_type GPU is enabled.\n"
     ]
    },
    {
     "name": "stdout",
     "output_type": "stream",
     "text": [
      "41/41 [==============================] - 0s 4ms/step\n",
      "41/41 [==============================] - 0s 2ms/step\n"
     ]
    },
    {
     "name": "stderr",
     "output_type": "stream",
     "text": [
      "2023-04-19 10:57:23.509625: I tensorflow/core/grappler/optimizers/custom_graph_optimizer_registry.cc:113] Plugin optimizer for device_type GPU is enabled.\n"
     ]
    },
    {
     "name": "stdout",
     "output_type": "stream",
     "text": [
      "15/41 [=========>....................] - ETA: 0s"
     ]
    },
    {
     "name": "stderr",
     "output_type": "stream",
     "text": [
      "2023-04-19 10:57:30.718279: I tensorflow/core/grappler/optimizers/custom_graph_optimizer_registry.cc:113] Plugin optimizer for device_type GPU is enabled.\n"
     ]
    },
    {
     "name": "stdout",
     "output_type": "stream",
     "text": [
      "41/41 [==============================] - 0s 4ms/step\n",
      "41/41 [==============================] - 0s 1ms/step\n"
     ]
    },
    {
     "name": "stderr",
     "output_type": "stream",
     "text": [
      "2023-04-19 10:57:31.176139: I tensorflow/core/grappler/optimizers/custom_graph_optimizer_registry.cc:113] Plugin optimizer for device_type GPU is enabled.\n"
     ]
    },
    {
     "name": "stdout",
     "output_type": "stream",
     "text": [
      "19/41 [============>.................] - ETA: 0s"
     ]
    },
    {
     "name": "stderr",
     "output_type": "stream",
     "text": [
      "2023-04-19 10:57:38.382408: I tensorflow/core/grappler/optimizers/custom_graph_optimizer_registry.cc:113] Plugin optimizer for device_type GPU is enabled.\n"
     ]
    },
    {
     "name": "stdout",
     "output_type": "stream",
     "text": [
      "41/41 [==============================] - 0s 5ms/step\n",
      "41/41 [==============================] - 0s 2ms/step\n"
     ]
    },
    {
     "name": "stderr",
     "output_type": "stream",
     "text": [
      "2023-04-19 10:57:38.897929: I tensorflow/core/grappler/optimizers/custom_graph_optimizer_registry.cc:113] Plugin optimizer for device_type GPU is enabled.\n"
     ]
    },
    {
     "name": "stdout",
     "output_type": "stream",
     "text": [
      " 7/41 [====>.........................] - ETA: 0s"
     ]
    },
    {
     "name": "stderr",
     "output_type": "stream",
     "text": [
      "2023-04-19 10:57:46.772230: I tensorflow/core/grappler/optimizers/custom_graph_optimizer_registry.cc:113] Plugin optimizer for device_type GPU is enabled.\n"
     ]
    },
    {
     "name": "stdout",
     "output_type": "stream",
     "text": [
      "41/41 [==============================] - 0s 5ms/step\n",
      "41/41 [==============================] - 0s 2ms/step\n"
     ]
    },
    {
     "name": "stderr",
     "output_type": "stream",
     "text": [
      "2023-04-19 10:57:47.312045: I tensorflow/core/grappler/optimizers/custom_graph_optimizer_registry.cc:113] Plugin optimizer for device_type GPU is enabled.\n"
     ]
    },
    {
     "name": "stdout",
     "output_type": "stream",
     "text": [
      "18/41 [============>.................] - ETA: 0s"
     ]
    },
    {
     "name": "stderr",
     "output_type": "stream",
     "text": [
      "2023-04-19 10:57:55.107459: I tensorflow/core/grappler/optimizers/custom_graph_optimizer_registry.cc:113] Plugin optimizer for device_type GPU is enabled.\n"
     ]
    },
    {
     "name": "stdout",
     "output_type": "stream",
     "text": [
      "41/41 [==============================] - 0s 4ms/step\n",
      "41/41 [==============================] - 0s 1ms/step\n"
     ]
    },
    {
     "name": "stderr",
     "output_type": "stream",
     "text": [
      "2023-04-19 10:57:55.592957: I tensorflow/core/grappler/optimizers/custom_graph_optimizer_registry.cc:113] Plugin optimizer for device_type GPU is enabled.\n"
     ]
    },
    {
     "name": "stdout",
     "output_type": "stream",
     "text": [
      "15/41 [=========>....................] - ETA: 0s"
     ]
    },
    {
     "name": "stderr",
     "output_type": "stream",
     "text": [
      "2023-04-19 10:58:02.738656: I tensorflow/core/grappler/optimizers/custom_graph_optimizer_registry.cc:113] Plugin optimizer for device_type GPU is enabled.\n"
     ]
    },
    {
     "name": "stdout",
     "output_type": "stream",
     "text": [
      "41/41 [==============================] - 0s 5ms/step\n",
      "41/41 [==============================] - 0s 2ms/step\n"
     ]
    },
    {
     "name": "stderr",
     "output_type": "stream",
     "text": [
      "2023-04-19 10:58:03.287174: I tensorflow/core/grappler/optimizers/custom_graph_optimizer_registry.cc:113] Plugin optimizer for device_type GPU is enabled.\n"
     ]
    },
    {
     "name": "stdout",
     "output_type": "stream",
     "text": [
      "18/41 [============>.................] - ETA: 0s"
     ]
    },
    {
     "name": "stderr",
     "output_type": "stream",
     "text": [
      "2023-04-19 10:58:11.258508: I tensorflow/core/grappler/optimizers/custom_graph_optimizer_registry.cc:113] Plugin optimizer for device_type GPU is enabled.\n"
     ]
    },
    {
     "name": "stdout",
     "output_type": "stream",
     "text": [
      "41/41 [==============================] - 0s 4ms/step\n",
      "41/41 [==============================] - 0s 2ms/step\n"
     ]
    },
    {
     "name": "stderr",
     "output_type": "stream",
     "text": [
      "2023-04-19 10:58:11.764779: I tensorflow/core/grappler/optimizers/custom_graph_optimizer_registry.cc:113] Plugin optimizer for device_type GPU is enabled.\n"
     ]
    },
    {
     "name": "stdout",
     "output_type": "stream",
     "text": [
      "20/41 [=============>................] - ETA: 0s"
     ]
    },
    {
     "name": "stderr",
     "output_type": "stream",
     "text": [
      "2023-04-19 10:58:19.112470: I tensorflow/core/grappler/optimizers/custom_graph_optimizer_registry.cc:113] Plugin optimizer for device_type GPU is enabled.\n"
     ]
    },
    {
     "name": "stdout",
     "output_type": "stream",
     "text": [
      "41/41 [==============================] - 0s 4ms/step\n",
      "41/41 [==============================] - 0s 2ms/step\n"
     ]
    },
    {
     "name": "stderr",
     "output_type": "stream",
     "text": [
      "2023-04-19 10:58:19.638175: I tensorflow/core/grappler/optimizers/custom_graph_optimizer_registry.cc:113] Plugin optimizer for device_type GPU is enabled.\n"
     ]
    },
    {
     "name": "stdout",
     "output_type": "stream",
     "text": [
      "19/41 [============>.................] - ETA: 0s"
     ]
    },
    {
     "name": "stderr",
     "output_type": "stream",
     "text": [
      "2023-04-19 10:58:27.550982: I tensorflow/core/grappler/optimizers/custom_graph_optimizer_registry.cc:113] Plugin optimizer for device_type GPU is enabled.\n"
     ]
    },
    {
     "name": "stdout",
     "output_type": "stream",
     "text": [
      "41/41 [==============================] - 0s 4ms/step\n",
      "41/41 [==============================] - 0s 2ms/step\n"
     ]
    },
    {
     "name": "stderr",
     "output_type": "stream",
     "text": [
      "2023-04-19 10:58:28.030304: I tensorflow/core/grappler/optimizers/custom_graph_optimizer_registry.cc:113] Plugin optimizer for device_type GPU is enabled.\n"
     ]
    },
    {
     "name": "stdout",
     "output_type": "stream",
     "text": [
      "18/41 [============>.................] - ETA: 0s"
     ]
    },
    {
     "name": "stderr",
     "output_type": "stream",
     "text": [
      "2023-04-19 10:58:35.588929: I tensorflow/core/grappler/optimizers/custom_graph_optimizer_registry.cc:113] Plugin optimizer for device_type GPU is enabled.\n"
     ]
    },
    {
     "name": "stdout",
     "output_type": "stream",
     "text": [
      "41/41 [==============================] - 0s 4ms/step\n",
      "41/41 [==============================] - 0s 3ms/step\n"
     ]
    },
    {
     "name": "stderr",
     "output_type": "stream",
     "text": [
      "2023-04-19 10:58:36.144642: I tensorflow/core/grappler/optimizers/custom_graph_optimizer_registry.cc:113] Plugin optimizer for device_type GPU is enabled.\n"
     ]
    },
    {
     "name": "stdout",
     "output_type": "stream",
     "text": [
      "16/41 [==========>...................] - ETA: 0s"
     ]
    },
    {
     "name": "stderr",
     "output_type": "stream",
     "text": [
      "2023-04-19 10:58:43.536683: I tensorflow/core/grappler/optimizers/custom_graph_optimizer_registry.cc:113] Plugin optimizer for device_type GPU is enabled.\n"
     ]
    },
    {
     "name": "stdout",
     "output_type": "stream",
     "text": [
      "41/41 [==============================] - 0s 4ms/step\n",
      "41/41 [==============================] - 0s 2ms/step\n"
     ]
    },
    {
     "name": "stderr",
     "output_type": "stream",
     "text": [
      "2023-04-19 10:58:44.044533: I tensorflow/core/grappler/optimizers/custom_graph_optimizer_registry.cc:113] Plugin optimizer for device_type GPU is enabled.\n"
     ]
    },
    {
     "name": "stdout",
     "output_type": "stream",
     "text": [
      "15/41 [=========>....................] - ETA: 0s"
     ]
    },
    {
     "name": "stderr",
     "output_type": "stream",
     "text": [
      "2023-04-19 10:58:52.013642: I tensorflow/core/grappler/optimizers/custom_graph_optimizer_registry.cc:113] Plugin optimizer for device_type GPU is enabled.\n"
     ]
    },
    {
     "name": "stdout",
     "output_type": "stream",
     "text": [
      "41/41 [==============================] - 0s 4ms/step\n",
      "41/41 [==============================] - 0s 3ms/step\n"
     ]
    },
    {
     "name": "stderr",
     "output_type": "stream",
     "text": [
      "2023-04-19 10:58:52.574553: I tensorflow/core/grappler/optimizers/custom_graph_optimizer_registry.cc:113] Plugin optimizer for device_type GPU is enabled.\n"
     ]
    },
    {
     "name": "stdout",
     "output_type": "stream",
     "text": [
      "19/41 [============>.................] - ETA: 0s"
     ]
    },
    {
     "name": "stderr",
     "output_type": "stream",
     "text": [
      "2023-04-19 10:59:00.430851: I tensorflow/core/grappler/optimizers/custom_graph_optimizer_registry.cc:113] Plugin optimizer for device_type GPU is enabled.\n"
     ]
    },
    {
     "name": "stdout",
     "output_type": "stream",
     "text": [
      "41/41 [==============================] - 0s 4ms/step\n",
      "41/41 [==============================] - 0s 2ms/step\n"
     ]
    },
    {
     "name": "stderr",
     "output_type": "stream",
     "text": [
      "2023-04-19 10:59:00.921779: I tensorflow/core/grappler/optimizers/custom_graph_optimizer_registry.cc:113] Plugin optimizer for device_type GPU is enabled.\n"
     ]
    },
    {
     "name": "stdout",
     "output_type": "stream",
     "text": [
      "18/41 [============>.................] - ETA: 0s"
     ]
    },
    {
     "name": "stderr",
     "output_type": "stream",
     "text": [
      "2023-04-19 10:59:08.112961: I tensorflow/core/grappler/optimizers/custom_graph_optimizer_registry.cc:113] Plugin optimizer for device_type GPU is enabled.\n"
     ]
    },
    {
     "name": "stdout",
     "output_type": "stream",
     "text": [
      "41/41 [==============================] - 0s 4ms/step\n",
      "41/41 [==============================] - 0s 2ms/step\n"
     ]
    },
    {
     "name": "stderr",
     "output_type": "stream",
     "text": [
      "2023-04-19 10:59:08.633049: I tensorflow/core/grappler/optimizers/custom_graph_optimizer_registry.cc:113] Plugin optimizer for device_type GPU is enabled.\n"
     ]
    },
    {
     "name": "stdout",
     "output_type": "stream",
     "text": [
      "11/41 [=======>......................] - ETA: 0s"
     ]
    },
    {
     "name": "stderr",
     "output_type": "stream",
     "text": [
      "2023-04-19 10:59:16.739167: I tensorflow/core/grappler/optimizers/custom_graph_optimizer_registry.cc:113] Plugin optimizer for device_type GPU is enabled.\n"
     ]
    },
    {
     "name": "stdout",
     "output_type": "stream",
     "text": [
      "41/41 [==============================] - 0s 6ms/step\n",
      "41/41 [==============================] - 0s 2ms/step\n"
     ]
    },
    {
     "name": "stderr",
     "output_type": "stream",
     "text": [
      "2023-04-19 10:59:17.303960: I tensorflow/core/grappler/optimizers/custom_graph_optimizer_registry.cc:113] Plugin optimizer for device_type GPU is enabled.\n"
     ]
    },
    {
     "name": "stdout",
     "output_type": "stream",
     "text": [
      "18/41 [============>.................] - ETA: 0s"
     ]
    },
    {
     "name": "stderr",
     "output_type": "stream",
     "text": [
      "2023-04-19 10:59:24.701422: I tensorflow/core/grappler/optimizers/custom_graph_optimizer_registry.cc:113] Plugin optimizer for device_type GPU is enabled.\n"
     ]
    },
    {
     "name": "stdout",
     "output_type": "stream",
     "text": [
      "41/41 [==============================] - 0s 4ms/step\n",
      "41/41 [==============================] - 0s 2ms/step\n"
     ]
    },
    {
     "name": "stderr",
     "output_type": "stream",
     "text": [
      "2023-04-19 10:59:25.251230: I tensorflow/core/grappler/optimizers/custom_graph_optimizer_registry.cc:113] Plugin optimizer for device_type GPU is enabled.\n"
     ]
    },
    {
     "name": "stdout",
     "output_type": "stream",
     "text": [
      "19/41 [============>.................] - ETA: 0s"
     ]
    },
    {
     "name": "stderr",
     "output_type": "stream",
     "text": [
      "2023-04-19 10:59:32.668358: I tensorflow/core/grappler/optimizers/custom_graph_optimizer_registry.cc:113] Plugin optimizer for device_type GPU is enabled.\n"
     ]
    },
    {
     "name": "stdout",
     "output_type": "stream",
     "text": [
      "41/41 [==============================] - 0s 4ms/step\n",
      "41/41 [==============================] - 0s 3ms/step\n"
     ]
    },
    {
     "name": "stderr",
     "output_type": "stream",
     "text": [
      "2023-04-19 10:59:33.196067: I tensorflow/core/grappler/optimizers/custom_graph_optimizer_registry.cc:113] Plugin optimizer for device_type GPU is enabled.\n"
     ]
    },
    {
     "name": "stdout",
     "output_type": "stream",
     "text": [
      "18/41 [============>.................] - ETA: 0s"
     ]
    },
    {
     "name": "stderr",
     "output_type": "stream",
     "text": [
      "2023-04-19 10:59:40.549400: I tensorflow/core/grappler/optimizers/custom_graph_optimizer_registry.cc:113] Plugin optimizer for device_type GPU is enabled.\n"
     ]
    },
    {
     "name": "stdout",
     "output_type": "stream",
     "text": [
      "41/41 [==============================] - 0s 4ms/step\n",
      "41/41 [==============================] - 0s 2ms/step\n"
     ]
    },
    {
     "name": "stderr",
     "output_type": "stream",
     "text": [
      "2023-04-19 10:59:41.080617: I tensorflow/core/grappler/optimizers/custom_graph_optimizer_registry.cc:113] Plugin optimizer for device_type GPU is enabled.\n"
     ]
    },
    {
     "name": "stdout",
     "output_type": "stream",
     "text": [
      "19/41 [============>.................] - ETA: 0s"
     ]
    },
    {
     "name": "stderr",
     "output_type": "stream",
     "text": [
      "2023-04-19 10:59:49.306699: I tensorflow/core/grappler/optimizers/custom_graph_optimizer_registry.cc:113] Plugin optimizer for device_type GPU is enabled.\n"
     ]
    },
    {
     "name": "stdout",
     "output_type": "stream",
     "text": [
      "41/41 [==============================] - 0s 4ms/step\n",
      "41/41 [==============================] - 0s 2ms/step\n"
     ]
    },
    {
     "name": "stderr",
     "output_type": "stream",
     "text": [
      "2023-04-19 10:59:49.812207: I tensorflow/core/grappler/optimizers/custom_graph_optimizer_registry.cc:113] Plugin optimizer for device_type GPU is enabled.\n"
     ]
    },
    {
     "name": "stdout",
     "output_type": "stream",
     "text": [
      "17/41 [===========>..................] - ETA: 0s"
     ]
    },
    {
     "name": "stderr",
     "output_type": "stream",
     "text": [
      "2023-04-19 10:59:57.923033: I tensorflow/core/grappler/optimizers/custom_graph_optimizer_registry.cc:113] Plugin optimizer for device_type GPU is enabled.\n"
     ]
    },
    {
     "name": "stdout",
     "output_type": "stream",
     "text": [
      "41/41 [==============================] - 0s 4ms/step\n",
      "41/41 [==============================] - 0s 1ms/step\n"
     ]
    },
    {
     "name": "stderr",
     "output_type": "stream",
     "text": [
      "2023-04-19 11:00:00.752895: I tensorflow/core/grappler/optimizers/custom_graph_optimizer_registry.cc:113] Plugin optimizer for device_type GPU is enabled.\n"
     ]
    },
    {
     "name": "stdout",
     "output_type": "stream",
     "text": [
      "18/41 [============>.................] - ETA: 0s"
     ]
    },
    {
     "name": "stderr",
     "output_type": "stream",
     "text": [
      "2023-04-19 11:00:08.450333: I tensorflow/core/grappler/optimizers/custom_graph_optimizer_registry.cc:113] Plugin optimizer for device_type GPU is enabled.\n"
     ]
    },
    {
     "name": "stdout",
     "output_type": "stream",
     "text": [
      "41/41 [==============================] - 0s 4ms/step\n",
      "41/41 [==============================] - 0s 1ms/step\n"
     ]
    },
    {
     "name": "stderr",
     "output_type": "stream",
     "text": [
      "2023-04-19 11:00:08.952560: I tensorflow/core/grappler/optimizers/custom_graph_optimizer_registry.cc:113] Plugin optimizer for device_type GPU is enabled.\n"
     ]
    },
    {
     "name": "stdout",
     "output_type": "stream",
     "text": [
      "18/41 [============>.................] - ETA: 0s"
     ]
    },
    {
     "name": "stderr",
     "output_type": "stream",
     "text": [
      "2023-04-19 11:00:16.653860: I tensorflow/core/grappler/optimizers/custom_graph_optimizer_registry.cc:113] Plugin optimizer for device_type GPU is enabled.\n"
     ]
    },
    {
     "name": "stdout",
     "output_type": "stream",
     "text": [
      "41/41 [==============================] - 0s 4ms/step\n",
      "41/41 [==============================] - 0s 2ms/step\n"
     ]
    },
    {
     "name": "stderr",
     "output_type": "stream",
     "text": [
      "2023-04-19 11:00:17.155848: I tensorflow/core/grappler/optimizers/custom_graph_optimizer_registry.cc:113] Plugin optimizer for device_type GPU is enabled.\n"
     ]
    },
    {
     "name": "stdout",
     "output_type": "stream",
     "text": [
      "18/41 [============>.................] - ETA: 0s"
     ]
    },
    {
     "name": "stderr",
     "output_type": "stream",
     "text": [
      "2023-04-19 11:00:24.255640: I tensorflow/core/grappler/optimizers/custom_graph_optimizer_registry.cc:113] Plugin optimizer for device_type GPU is enabled.\n"
     ]
    },
    {
     "name": "stdout",
     "output_type": "stream",
     "text": [
      "41/41 [==============================] - 0s 4ms/step\n",
      "41/41 [==============================] - 0s 2ms/step\n"
     ]
    },
    {
     "name": "stderr",
     "output_type": "stream",
     "text": [
      "2023-04-19 11:00:24.764896: I tensorflow/core/grappler/optimizers/custom_graph_optimizer_registry.cc:113] Plugin optimizer for device_type GPU is enabled.\n"
     ]
    },
    {
     "data": {
      "text/html": [
       "<style>#sk-container-id-3 {color: black;background-color: white;}#sk-container-id-3 pre{padding: 0;}#sk-container-id-3 div.sk-toggleable {background-color: white;}#sk-container-id-3 label.sk-toggleable__label {cursor: pointer;display: block;width: 100%;margin-bottom: 0;padding: 0.3em;box-sizing: border-box;text-align: center;}#sk-container-id-3 label.sk-toggleable__label-arrow:before {content: \"▸\";float: left;margin-right: 0.25em;color: #696969;}#sk-container-id-3 label.sk-toggleable__label-arrow:hover:before {color: black;}#sk-container-id-3 div.sk-estimator:hover label.sk-toggleable__label-arrow:before {color: black;}#sk-container-id-3 div.sk-toggleable__content {max-height: 0;max-width: 0;overflow: hidden;text-align: left;background-color: #f0f8ff;}#sk-container-id-3 div.sk-toggleable__content pre {margin: 0.2em;color: black;border-radius: 0.25em;background-color: #f0f8ff;}#sk-container-id-3 input.sk-toggleable__control:checked~div.sk-toggleable__content {max-height: 200px;max-width: 100%;overflow: auto;}#sk-container-id-3 input.sk-toggleable__control:checked~label.sk-toggleable__label-arrow:before {content: \"▾\";}#sk-container-id-3 div.sk-estimator input.sk-toggleable__control:checked~label.sk-toggleable__label {background-color: #d4ebff;}#sk-container-id-3 div.sk-label input.sk-toggleable__control:checked~label.sk-toggleable__label {background-color: #d4ebff;}#sk-container-id-3 input.sk-hidden--visually {border: 0;clip: rect(1px 1px 1px 1px);clip: rect(1px, 1px, 1px, 1px);height: 1px;margin: -1px;overflow: hidden;padding: 0;position: absolute;width: 1px;}#sk-container-id-3 div.sk-estimator {font-family: monospace;background-color: #f0f8ff;border: 1px dotted black;border-radius: 0.25em;box-sizing: border-box;margin-bottom: 0.5em;}#sk-container-id-3 div.sk-estimator:hover {background-color: #d4ebff;}#sk-container-id-3 div.sk-parallel-item::after {content: \"\";width: 100%;border-bottom: 1px solid gray;flex-grow: 1;}#sk-container-id-3 div.sk-label:hover label.sk-toggleable__label {background-color: #d4ebff;}#sk-container-id-3 div.sk-serial::before {content: \"\";position: absolute;border-left: 1px solid gray;box-sizing: border-box;top: 0;bottom: 0;left: 50%;z-index: 0;}#sk-container-id-3 div.sk-serial {display: flex;flex-direction: column;align-items: center;background-color: white;padding-right: 0.2em;padding-left: 0.2em;position: relative;}#sk-container-id-3 div.sk-item {position: relative;z-index: 1;}#sk-container-id-3 div.sk-parallel {display: flex;align-items: stretch;justify-content: center;background-color: white;position: relative;}#sk-container-id-3 div.sk-item::before, #sk-container-id-3 div.sk-parallel-item::before {content: \"\";position: absolute;border-left: 1px solid gray;box-sizing: border-box;top: 0;bottom: 0;left: 50%;z-index: -1;}#sk-container-id-3 div.sk-parallel-item {display: flex;flex-direction: column;z-index: 1;position: relative;background-color: white;}#sk-container-id-3 div.sk-parallel-item:first-child::after {align-self: flex-end;width: 50%;}#sk-container-id-3 div.sk-parallel-item:last-child::after {align-self: flex-start;width: 50%;}#sk-container-id-3 div.sk-parallel-item:only-child::after {width: 0;}#sk-container-id-3 div.sk-dashed-wrapped {border: 1px dashed gray;margin: 0 0.4em 0.5em 0.4em;box-sizing: border-box;padding-bottom: 0.4em;background-color: white;}#sk-container-id-3 div.sk-label label {font-family: monospace;font-weight: bold;display: inline-block;line-height: 1.2em;}#sk-container-id-3 div.sk-label-container {text-align: center;}#sk-container-id-3 div.sk-container {/* jupyter's `normalize.less` sets `[hidden] { display: none; }` but bootstrap.min.css set `[hidden] { display: none !important; }` so we also need the `!important` here to be able to override the default hidden behavior on the sphinx rendered scikit-learn.org. See: https://github.com/scikit-learn/scikit-learn/issues/21755 */display: inline-block !important;position: relative;}#sk-container-id-3 div.sk-text-repr-fallback {display: none;}</style><div id=\"sk-container-id-3\" class=\"sk-top-container\"><div class=\"sk-text-repr-fallback\"><pre>GridSearchCV(cv=2,\n",
       "             estimator=Pipeline(steps=[(&#x27;preprocess&#x27;,\n",
       "                                        ColumnTransformer(transformers=[(&#x27;numpipe&#x27;,\n",
       "                                                                         Pipeline(steps=[(&#x27;ss&#x27;,\n",
       "                                                                                          StandardScaler())]),\n",
       "                                                                         Index([&#x27;home_rolling_avg_FF%&#x27;, &#x27;home_rolling_avg_GF%&#x27;, &#x27;home_rolling_avg_xGF%&#x27;,\n",
       "       &#x27;home_rolling_avg_HDCF%&#x27;, &#x27;home_rolling_avg_HDSH%&#x27;,\n",
       "       &#x27;home_rolling_avg_HDSV%&#x27;, &#x27;home_rolling_avg_SH%&#x27;,\n",
       "       &#x27;home_rolling_avg_SV%&#x27;, &#x27;home_rol...\n",
       "                                                                         Index([], dtype=&#x27;object&#x27;))])),\n",
       "                                       (&#x27;nn&#x27;,\n",
       "                                        &lt;keras.wrappers.scikit_learn.KerasClassifier object at 0x28898fa60&gt;)]),\n",
       "             param_grid={&#x27;nn__activation&#x27;: [&#x27;sigmoid&#x27;, &#x27;linear&#x27;],\n",
       "                         &#x27;nn__dropout_rate&#x27;: [0.0, 0.3, 0.6],\n",
       "                         &#x27;nn__epochs&#x27;: [8, 10, 12],\n",
       "                         &#x27;nn__neurons&#x27;: [12, 18, 24, 30, 36],\n",
       "                         &#x27;nn__optimizer&#x27;: [&#x27;Adam&#x27;],\n",
       "                         &#x27;nn__weight_constraint&#x27;: [1, 3, 5]},\n",
       "             refit=&#x27;neg_log_loss&#x27;, scoring=[&#x27;neg_log_loss&#x27;, &#x27;accuracy&#x27;],\n",
       "             verbose=1)</pre><b>In a Jupyter environment, please rerun this cell to show the HTML representation or trust the notebook. <br />On GitHub, the HTML representation is unable to render, please try loading this page with nbviewer.org.</b></div><div class=\"sk-container\" hidden><div class=\"sk-item sk-dashed-wrapped\"><div class=\"sk-label-container\"><div class=\"sk-label sk-toggleable\"><input class=\"sk-toggleable__control sk-hidden--visually\" id=\"sk-estimator-id-19\" type=\"checkbox\" ><label for=\"sk-estimator-id-19\" class=\"sk-toggleable__label sk-toggleable__label-arrow\">GridSearchCV</label><div class=\"sk-toggleable__content\"><pre>GridSearchCV(cv=2,\n",
       "             estimator=Pipeline(steps=[(&#x27;preprocess&#x27;,\n",
       "                                        ColumnTransformer(transformers=[(&#x27;numpipe&#x27;,\n",
       "                                                                         Pipeline(steps=[(&#x27;ss&#x27;,\n",
       "                                                                                          StandardScaler())]),\n",
       "                                                                         Index([&#x27;home_rolling_avg_FF%&#x27;, &#x27;home_rolling_avg_GF%&#x27;, &#x27;home_rolling_avg_xGF%&#x27;,\n",
       "       &#x27;home_rolling_avg_HDCF%&#x27;, &#x27;home_rolling_avg_HDSH%&#x27;,\n",
       "       &#x27;home_rolling_avg_HDSV%&#x27;, &#x27;home_rolling_avg_SH%&#x27;,\n",
       "       &#x27;home_rolling_avg_SV%&#x27;, &#x27;home_rol...\n",
       "                                                                         Index([], dtype=&#x27;object&#x27;))])),\n",
       "                                       (&#x27;nn&#x27;,\n",
       "                                        &lt;keras.wrappers.scikit_learn.KerasClassifier object at 0x28898fa60&gt;)]),\n",
       "             param_grid={&#x27;nn__activation&#x27;: [&#x27;sigmoid&#x27;, &#x27;linear&#x27;],\n",
       "                         &#x27;nn__dropout_rate&#x27;: [0.0, 0.3, 0.6],\n",
       "                         &#x27;nn__epochs&#x27;: [8, 10, 12],\n",
       "                         &#x27;nn__neurons&#x27;: [12, 18, 24, 30, 36],\n",
       "                         &#x27;nn__optimizer&#x27;: [&#x27;Adam&#x27;],\n",
       "                         &#x27;nn__weight_constraint&#x27;: [1, 3, 5]},\n",
       "             refit=&#x27;neg_log_loss&#x27;, scoring=[&#x27;neg_log_loss&#x27;, &#x27;accuracy&#x27;],\n",
       "             verbose=1)</pre></div></div></div><div class=\"sk-parallel\"><div class=\"sk-parallel-item\"><div class=\"sk-item\"><div class=\"sk-label-container\"><div class=\"sk-label sk-toggleable\"><input class=\"sk-toggleable__control sk-hidden--visually\" id=\"sk-estimator-id-20\" type=\"checkbox\" ><label for=\"sk-estimator-id-20\" class=\"sk-toggleable__label sk-toggleable__label-arrow\">estimator: Pipeline</label><div class=\"sk-toggleable__content\"><pre>Pipeline(steps=[(&#x27;preprocess&#x27;,\n",
       "                 ColumnTransformer(transformers=[(&#x27;numpipe&#x27;,\n",
       "                                                  Pipeline(steps=[(&#x27;ss&#x27;,\n",
       "                                                                   StandardScaler())]),\n",
       "                                                  Index([&#x27;home_rolling_avg_FF%&#x27;, &#x27;home_rolling_avg_GF%&#x27;, &#x27;home_rolling_avg_xGF%&#x27;,\n",
       "       &#x27;home_rolling_avg_HDCF%&#x27;, &#x27;home_rolling_avg_HDSH%&#x27;,\n",
       "       &#x27;home_rolling_avg_HDSV%&#x27;, &#x27;home_rolling_avg_SH%&#x27;,\n",
       "       &#x27;home_rolling_avg_SV%&#x27;, &#x27;home_rolling_avg_GF/60_pp&#x27;,\n",
       "       &#x27;home_rol...\n",
       "       &#x27;away_rolling_avg_SV%&#x27;, &#x27;away_rolling_avg_GF/60_pp&#x27;,\n",
       "       &#x27;away_rolling_avg_xGF/60_pp&#x27;, &#x27;away_rolling_avg_GA/60_pk&#x27;,\n",
       "       &#x27;away_rolling_avg_xGA/60_pk&#x27;],\n",
       "      dtype=&#x27;object&#x27;)),\n",
       "                                                 (&#x27;nominalpipe&#x27;,\n",
       "                                                  Pipeline(steps=[(&#x27;onehotenc&#x27;,\n",
       "                                                                   OneHotEncoder(handle_unknown=&#x27;ignore&#x27;)),\n",
       "                                                                  (&#x27;onehotnorm&#x27;,\n",
       "                                                                   MaxAbsScaler())]),\n",
       "                                                  Index([], dtype=&#x27;object&#x27;))])),\n",
       "                (&#x27;nn&#x27;,\n",
       "                 &lt;keras.wrappers.scikit_learn.KerasClassifier object at 0x28898fa60&gt;)])</pre></div></div></div><div class=\"sk-serial\"><div class=\"sk-item\"><div class=\"sk-serial\"><div class=\"sk-item sk-dashed-wrapped\"><div class=\"sk-label-container\"><div class=\"sk-label sk-toggleable\"><input class=\"sk-toggleable__control sk-hidden--visually\" id=\"sk-estimator-id-21\" type=\"checkbox\" ><label for=\"sk-estimator-id-21\" class=\"sk-toggleable__label sk-toggleable__label-arrow\">preprocess: ColumnTransformer</label><div class=\"sk-toggleable__content\"><pre>ColumnTransformer(transformers=[(&#x27;numpipe&#x27;,\n",
       "                                 Pipeline(steps=[(&#x27;ss&#x27;, StandardScaler())]),\n",
       "                                 Index([&#x27;home_rolling_avg_FF%&#x27;, &#x27;home_rolling_avg_GF%&#x27;, &#x27;home_rolling_avg_xGF%&#x27;,\n",
       "       &#x27;home_rolling_avg_HDCF%&#x27;, &#x27;home_rolling_avg_HDSH%&#x27;,\n",
       "       &#x27;home_rolling_avg_HDSV%&#x27;, &#x27;home_rolling_avg_SH%&#x27;,\n",
       "       &#x27;home_rolling_avg_SV%&#x27;, &#x27;home_rolling_avg_GF/60_pp&#x27;,\n",
       "       &#x27;home_rolling_avg_xGF/60_pp&#x27;, &#x27;home_roll...\n",
       "       &#x27;away_rolling_avg_HDCF%&#x27;, &#x27;away_rolling_avg_HDSH%&#x27;,\n",
       "       &#x27;away_rolling_avg_HDSV%&#x27;, &#x27;away_rolling_avg_SH%&#x27;,\n",
       "       &#x27;away_rolling_avg_SV%&#x27;, &#x27;away_rolling_avg_GF/60_pp&#x27;,\n",
       "       &#x27;away_rolling_avg_xGF/60_pp&#x27;, &#x27;away_rolling_avg_GA/60_pk&#x27;,\n",
       "       &#x27;away_rolling_avg_xGA/60_pk&#x27;],\n",
       "      dtype=&#x27;object&#x27;)),\n",
       "                                (&#x27;nominalpipe&#x27;,\n",
       "                                 Pipeline(steps=[(&#x27;onehotenc&#x27;,\n",
       "                                                  OneHotEncoder(handle_unknown=&#x27;ignore&#x27;)),\n",
       "                                                 (&#x27;onehotnorm&#x27;,\n",
       "                                                  MaxAbsScaler())]),\n",
       "                                 Index([], dtype=&#x27;object&#x27;))])</pre></div></div></div><div class=\"sk-parallel\"><div class=\"sk-parallel-item\"><div class=\"sk-item\"><div class=\"sk-label-container\"><div class=\"sk-label sk-toggleable\"><input class=\"sk-toggleable__control sk-hidden--visually\" id=\"sk-estimator-id-22\" type=\"checkbox\" ><label for=\"sk-estimator-id-22\" class=\"sk-toggleable__label sk-toggleable__label-arrow\">numpipe</label><div class=\"sk-toggleable__content\"><pre>Index([&#x27;home_rolling_avg_FF%&#x27;, &#x27;home_rolling_avg_GF%&#x27;, &#x27;home_rolling_avg_xGF%&#x27;,\n",
       "       &#x27;home_rolling_avg_HDCF%&#x27;, &#x27;home_rolling_avg_HDSH%&#x27;,\n",
       "       &#x27;home_rolling_avg_HDSV%&#x27;, &#x27;home_rolling_avg_SH%&#x27;,\n",
       "       &#x27;home_rolling_avg_SV%&#x27;, &#x27;home_rolling_avg_GF/60_pp&#x27;,\n",
       "       &#x27;home_rolling_avg_xGF/60_pp&#x27;, &#x27;home_rolling_avg_GA/60_pk&#x27;,\n",
       "       &#x27;home_rolling_avg_xGA/60_pk&#x27;, &#x27;away_rolling_avg_FF%&#x27;,\n",
       "       &#x27;away_rolling_avg_GF%&#x27;, &#x27;away_rolling_avg_xGF%&#x27;,\n",
       "       &#x27;away_rolling_avg_HDCF%&#x27;, &#x27;away_rolling_avg_HDSH%&#x27;,\n",
       "       &#x27;away_rolling_avg_HDSV%&#x27;, &#x27;away_rolling_avg_SH%&#x27;,\n",
       "       &#x27;away_rolling_avg_SV%&#x27;, &#x27;away_rolling_avg_GF/60_pp&#x27;,\n",
       "       &#x27;away_rolling_avg_xGF/60_pp&#x27;, &#x27;away_rolling_avg_GA/60_pk&#x27;,\n",
       "       &#x27;away_rolling_avg_xGA/60_pk&#x27;],\n",
       "      dtype=&#x27;object&#x27;)</pre></div></div></div><div class=\"sk-serial\"><div class=\"sk-item\"><div class=\"sk-serial\"><div class=\"sk-item\"><div class=\"sk-estimator sk-toggleable\"><input class=\"sk-toggleable__control sk-hidden--visually\" id=\"sk-estimator-id-23\" type=\"checkbox\" ><label for=\"sk-estimator-id-23\" class=\"sk-toggleable__label sk-toggleable__label-arrow\">StandardScaler</label><div class=\"sk-toggleable__content\"><pre>StandardScaler()</pre></div></div></div></div></div></div></div></div><div class=\"sk-parallel-item\"><div class=\"sk-item\"><div class=\"sk-label-container\"><div class=\"sk-label sk-toggleable\"><input class=\"sk-toggleable__control sk-hidden--visually\" id=\"sk-estimator-id-24\" type=\"checkbox\" ><label for=\"sk-estimator-id-24\" class=\"sk-toggleable__label sk-toggleable__label-arrow\">nominalpipe</label><div class=\"sk-toggleable__content\"><pre>Index([], dtype=&#x27;object&#x27;)</pre></div></div></div><div class=\"sk-serial\"><div class=\"sk-item\"><div class=\"sk-serial\"><div class=\"sk-item\"><div class=\"sk-estimator sk-toggleable\"><input class=\"sk-toggleable__control sk-hidden--visually\" id=\"sk-estimator-id-25\" type=\"checkbox\" ><label for=\"sk-estimator-id-25\" class=\"sk-toggleable__label sk-toggleable__label-arrow\">OneHotEncoder</label><div class=\"sk-toggleable__content\"><pre>OneHotEncoder(handle_unknown=&#x27;ignore&#x27;)</pre></div></div></div><div class=\"sk-item\"><div class=\"sk-estimator sk-toggleable\"><input class=\"sk-toggleable__control sk-hidden--visually\" id=\"sk-estimator-id-26\" type=\"checkbox\" ><label for=\"sk-estimator-id-26\" class=\"sk-toggleable__label sk-toggleable__label-arrow\">MaxAbsScaler</label><div class=\"sk-toggleable__content\"><pre>MaxAbsScaler()</pre></div></div></div></div></div></div></div></div></div></div><div class=\"sk-item\"><div class=\"sk-estimator sk-toggleable\"><input class=\"sk-toggleable__control sk-hidden--visually\" id=\"sk-estimator-id-27\" type=\"checkbox\" ><label for=\"sk-estimator-id-27\" class=\"sk-toggleable__label sk-toggleable__label-arrow\">KerasClassifier</label><div class=\"sk-toggleable__content\"><pre>&lt;keras.wrappers.scikit_learn.KerasClassifier object at 0x28898fa60&gt;</pre></div></div></div></div></div></div></div></div></div></div></div></div>"
      ],
      "text/plain": [
       "GridSearchCV(cv=2,\n",
       "             estimator=Pipeline(steps=[('preprocess',\n",
       "                                        ColumnTransformer(transformers=[('numpipe',\n",
       "                                                                         Pipeline(steps=[('ss',\n",
       "                                                                                          StandardScaler())]),\n",
       "                                                                         Index(['home_rolling_avg_FF%', 'home_rolling_avg_GF%', 'home_rolling_avg_xGF%',\n",
       "       'home_rolling_avg_HDCF%', 'home_rolling_avg_HDSH%',\n",
       "       'home_rolling_avg_HDSV%', 'home_rolling_avg_SH%',\n",
       "       'home_rolling_avg_SV%', 'home_rol...\n",
       "                                                                         Index([], dtype='object'))])),\n",
       "                                       ('nn',\n",
       "                                        <keras.wrappers.scikit_learn.KerasClassifier object at 0x28898fa60>)]),\n",
       "             param_grid={'nn__activation': ['sigmoid', 'linear'],\n",
       "                         'nn__dropout_rate': [0.0, 0.3, 0.6],\n",
       "                         'nn__epochs': [8, 10, 12],\n",
       "                         'nn__neurons': [12, 18, 24, 30, 36],\n",
       "                         'nn__optimizer': ['Adam'],\n",
       "                         'nn__weight_constraint': [1, 3, 5]},\n",
       "             refit='neg_log_loss', scoring=['neg_log_loss', 'accuracy'],\n",
       "             verbose=1)"
      ]
     },
     "execution_count": 62,
     "metadata": {},
     "output_type": "execute_result"
    }
   ],
   "source": [
    "nn_cv.fit(X_train, y_train)"
   ]
  },
  {
   "cell_type": "code",
   "execution_count": 63,
   "id": "69448163",
   "metadata": {
    "scrolled": false
   },
   "outputs": [
    {
     "data": {
      "text/html": [
       "<div>\n",
       "<style scoped>\n",
       "    .dataframe tbody tr th:only-of-type {\n",
       "        vertical-align: middle;\n",
       "    }\n",
       "\n",
       "    .dataframe tbody tr th {\n",
       "        vertical-align: top;\n",
       "    }\n",
       "\n",
       "    .dataframe thead th {\n",
       "        text-align: right;\n",
       "    }\n",
       "</style>\n",
       "<table border=\"1\" class=\"dataframe\">\n",
       "  <thead>\n",
       "    <tr style=\"text-align: right;\">\n",
       "      <th></th>\n",
       "      <th>mean_fit_time</th>\n",
       "      <th>std_fit_time</th>\n",
       "      <th>mean_score_time</th>\n",
       "      <th>std_score_time</th>\n",
       "      <th>param_nn__activation</th>\n",
       "      <th>param_nn__dropout_rate</th>\n",
       "      <th>param_nn__epochs</th>\n",
       "      <th>param_nn__neurons</th>\n",
       "      <th>param_nn__optimizer</th>\n",
       "      <th>param_nn__weight_constraint</th>\n",
       "      <th>params</th>\n",
       "      <th>split0_test_neg_log_loss</th>\n",
       "      <th>split1_test_neg_log_loss</th>\n",
       "      <th>mean_test_neg_log_loss</th>\n",
       "      <th>std_test_neg_log_loss</th>\n",
       "      <th>rank_test_neg_log_loss</th>\n",
       "      <th>split0_test_accuracy</th>\n",
       "      <th>split1_test_accuracy</th>\n",
       "      <th>mean_test_accuracy</th>\n",
       "      <th>std_test_accuracy</th>\n",
       "      <th>rank_test_accuracy</th>\n",
       "    </tr>\n",
       "  </thead>\n",
       "  <tbody>\n",
       "    <tr>\n",
       "      <th>224</th>\n",
       "      <td>7.163875</td>\n",
       "      <td>0.588726</td>\n",
       "      <td>0.400557</td>\n",
       "      <td>0.008585</td>\n",
       "      <td>linear</td>\n",
       "      <td>0.3</td>\n",
       "      <td>12</td>\n",
       "      <td>36</td>\n",
       "      <td>Adam</td>\n",
       "      <td>5</td>\n",
       "      <td>{'nn__activation': 'linear', 'nn__dropout_rate...</td>\n",
       "      <td>-0.669726</td>\n",
       "      <td>-0.654114</td>\n",
       "      <td>-0.661920</td>\n",
       "      <td>0.007806</td>\n",
       "      <td>1</td>\n",
       "      <td>0.597523</td>\n",
       "      <td>0.619675</td>\n",
       "      <td>0.608599</td>\n",
       "      <td>0.011076</td>\n",
       "      <td>8</td>\n",
       "    </tr>\n",
       "    <tr>\n",
       "      <th>164</th>\n",
       "      <td>5.571530</td>\n",
       "      <td>0.241947</td>\n",
       "      <td>0.352976</td>\n",
       "      <td>0.002942</td>\n",
       "      <td>linear</td>\n",
       "      <td>0.0</td>\n",
       "      <td>10</td>\n",
       "      <td>36</td>\n",
       "      <td>Adam</td>\n",
       "      <td>5</td>\n",
       "      <td>{'nn__activation': 'linear', 'nn__dropout_rate...</td>\n",
       "      <td>-0.671792</td>\n",
       "      <td>-0.652410</td>\n",
       "      <td>-0.662101</td>\n",
       "      <td>0.009691</td>\n",
       "      <td>2</td>\n",
       "      <td>0.600619</td>\n",
       "      <td>0.618125</td>\n",
       "      <td>0.609372</td>\n",
       "      <td>0.008753</td>\n",
       "      <td>6</td>\n",
       "    </tr>\n",
       "    <tr>\n",
       "      <th>176</th>\n",
       "      <td>6.799966</td>\n",
       "      <td>0.023935</td>\n",
       "      <td>1.538923</td>\n",
       "      <td>1.176884</td>\n",
       "      <td>linear</td>\n",
       "      <td>0.0</td>\n",
       "      <td>12</td>\n",
       "      <td>30</td>\n",
       "      <td>Adam</td>\n",
       "      <td>5</td>\n",
       "      <td>{'nn__activation': 'linear', 'nn__dropout_rate...</td>\n",
       "      <td>-0.672777</td>\n",
       "      <td>-0.651727</td>\n",
       "      <td>-0.662252</td>\n",
       "      <td>0.010525</td>\n",
       "      <td>3</td>\n",
       "      <td>0.595201</td>\n",
       "      <td>0.617351</td>\n",
       "      <td>0.606276</td>\n",
       "      <td>0.011075</td>\n",
       "      <td>27</td>\n",
       "    </tr>\n",
       "    <tr>\n",
       "      <th>159</th>\n",
       "      <td>5.660911</td>\n",
       "      <td>0.094224</td>\n",
       "      <td>0.376384</td>\n",
       "      <td>0.004348</td>\n",
       "      <td>linear</td>\n",
       "      <td>0.0</td>\n",
       "      <td>10</td>\n",
       "      <td>30</td>\n",
       "      <td>Adam</td>\n",
       "      <td>1</td>\n",
       "      <td>{'nn__activation': 'linear', 'nn__dropout_rate...</td>\n",
       "      <td>-0.672336</td>\n",
       "      <td>-0.653024</td>\n",
       "      <td>-0.662680</td>\n",
       "      <td>0.009656</td>\n",
       "      <td>4</td>\n",
       "      <td>0.599845</td>\n",
       "      <td>0.616576</td>\n",
       "      <td>0.608211</td>\n",
       "      <td>0.008366</td>\n",
       "      <td>12</td>\n",
       "    </tr>\n",
       "    <tr>\n",
       "      <th>210</th>\n",
       "      <td>7.473782</td>\n",
       "      <td>0.456831</td>\n",
       "      <td>0.428247</td>\n",
       "      <td>0.022210</td>\n",
       "      <td>linear</td>\n",
       "      <td>0.3</td>\n",
       "      <td>12</td>\n",
       "      <td>12</td>\n",
       "      <td>Adam</td>\n",
       "      <td>1</td>\n",
       "      <td>{'nn__activation': 'linear', 'nn__dropout_rate...</td>\n",
       "      <td>-0.669180</td>\n",
       "      <td>-0.656185</td>\n",
       "      <td>-0.662683</td>\n",
       "      <td>0.006497</td>\n",
       "      <td>5</td>\n",
       "      <td>0.594427</td>\n",
       "      <td>0.610380</td>\n",
       "      <td>0.602403</td>\n",
       "      <td>0.007976</td>\n",
       "      <td>68</td>\n",
       "    </tr>\n",
       "  </tbody>\n",
       "</table>\n",
       "</div>"
      ],
      "text/plain": [
       "     mean_fit_time  std_fit_time  mean_score_time  std_score_time  \\\n",
       "224       7.163875      0.588726         0.400557        0.008585   \n",
       "164       5.571530      0.241947         0.352976        0.002942   \n",
       "176       6.799966      0.023935         1.538923        1.176884   \n",
       "159       5.660911      0.094224         0.376384        0.004348   \n",
       "210       7.473782      0.456831         0.428247        0.022210   \n",
       "\n",
       "    param_nn__activation param_nn__dropout_rate param_nn__epochs  \\\n",
       "224               linear                    0.3               12   \n",
       "164               linear                    0.0               10   \n",
       "176               linear                    0.0               12   \n",
       "159               linear                    0.0               10   \n",
       "210               linear                    0.3               12   \n",
       "\n",
       "    param_nn__neurons param_nn__optimizer param_nn__weight_constraint  \\\n",
       "224                36                Adam                           5   \n",
       "164                36                Adam                           5   \n",
       "176                30                Adam                           5   \n",
       "159                30                Adam                           1   \n",
       "210                12                Adam                           1   \n",
       "\n",
       "                                                params  \\\n",
       "224  {'nn__activation': 'linear', 'nn__dropout_rate...   \n",
       "164  {'nn__activation': 'linear', 'nn__dropout_rate...   \n",
       "176  {'nn__activation': 'linear', 'nn__dropout_rate...   \n",
       "159  {'nn__activation': 'linear', 'nn__dropout_rate...   \n",
       "210  {'nn__activation': 'linear', 'nn__dropout_rate...   \n",
       "\n",
       "     split0_test_neg_log_loss  split1_test_neg_log_loss  \\\n",
       "224                 -0.669726                 -0.654114   \n",
       "164                 -0.671792                 -0.652410   \n",
       "176                 -0.672777                 -0.651727   \n",
       "159                 -0.672336                 -0.653024   \n",
       "210                 -0.669180                 -0.656185   \n",
       "\n",
       "     mean_test_neg_log_loss  std_test_neg_log_loss  rank_test_neg_log_loss  \\\n",
       "224               -0.661920               0.007806                       1   \n",
       "164               -0.662101               0.009691                       2   \n",
       "176               -0.662252               0.010525                       3   \n",
       "159               -0.662680               0.009656                       4   \n",
       "210               -0.662683               0.006497                       5   \n",
       "\n",
       "     split0_test_accuracy  split1_test_accuracy  mean_test_accuracy  \\\n",
       "224              0.597523              0.619675            0.608599   \n",
       "164              0.600619              0.618125            0.609372   \n",
       "176              0.595201              0.617351            0.606276   \n",
       "159              0.599845              0.616576            0.608211   \n",
       "210              0.594427              0.610380            0.602403   \n",
       "\n",
       "     std_test_accuracy  rank_test_accuracy  \n",
       "224           0.011076                   8  \n",
       "164           0.008753                   6  \n",
       "176           0.011075                  27  \n",
       "159           0.008366                  12  \n",
       "210           0.007976                  68  "
      ]
     },
     "execution_count": 63,
     "metadata": {},
     "output_type": "execute_result"
    }
   ],
   "source": [
    "# store the nn results in a df\n",
    "nn_results = pd.DataFrame(nn_cv.cv_results_).sort_values('mean_test_neg_log_loss', ascending=False)\n",
    "nn_results.head(5)"
   ]
  },
  {
   "cell_type": "markdown",
   "id": "e3baa38a",
   "metadata": {},
   "source": [
    "## Evaluating Model Results"
   ]
  },
  {
   "cell_type": "markdown",
   "id": "ac3eb8d9",
   "metadata": {},
   "source": [
    "Use best models to predict on held out validation set from the second half of the current (2022-2023) season"
   ]
  },
  {
   "cell_type": "code",
   "execution_count": 196,
   "id": "039e270f",
   "metadata": {},
   "outputs": [],
   "source": [
    "# create a results dict and lists to hold our log loss and accuracy scores\n",
    "results_dict = {'Training Cross Validation Accuracy': {}, 'Training Cross Validation Log Loss': {}, 'Test Accuracy': {}, 'Test Log Loss':{}, 'Paramters':{}}\n",
    "accuracy_list = []\n",
    "log_loss_list = []"
   ]
  },
  {
   "cell_type": "code",
   "execution_count": 197,
   "id": "26365c86",
   "metadata": {},
   "outputs": [],
   "source": [
    "#  Add Logistic Regression CV results\n",
    "accuracy_list.append(accuracy_score(yval, log_cv.predict(xval)))\n",
    "log_loss_list.append(log_loss(yval, log_cv.predict_proba(xval)))"
   ]
  },
  {
   "cell_type": "code",
   "execution_count": 198,
   "id": "957825f7",
   "metadata": {},
   "outputs": [],
   "source": [
    "# Add Gradient Boost CV results\n",
    "accuracy_list.append(accuracy_score(yval, gb_cv.predict(xval)))\n",
    "log_loss_list.append(log_loss(yval, gb_cv.predict_proba(xval)))"
   ]
  },
  {
   "cell_type": "code",
   "execution_count": 199,
   "id": "911238dc",
   "metadata": {},
   "outputs": [],
   "source": [
    "# Add AdaBoost CV resutls\n",
    "accuracy_list.append(accuracy_score(yval, ada_cv.predict(xval)))\n",
    "log_loss_list.append(log_loss(yval, ada_cv.predict_proba(xval)))"
   ]
  },
  {
   "cell_type": "code",
   "execution_count": 200,
   "id": "4a82dcab",
   "metadata": {},
   "outputs": [
    {
     "name": "stdout",
     "output_type": "stream",
     "text": [
      "18/18 [==============================] - 0s 16ms/step\n",
      "18/18 [==============================] - 0s 2ms/step\n"
     ]
    }
   ],
   "source": [
    "# Add Neural Net CV results\n",
    "accuracy_list.append(accuracy_score(yval, nn_cv.predict(xval)))\n",
    "log_loss_list.append(log_loss(yval, nn_cv.predict_proba(xval)))"
   ]
  },
  {
   "cell_type": "code",
   "execution_count": 201,
   "id": "0ee17715",
   "metadata": {},
   "outputs": [],
   "source": [
    "# add results to their respective keys\n",
    "results_dict['Test Accuracy'] = accuracy_list\n",
    "results_dict['Test Log Loss'] = log_loss_list"
   ]
  },
  {
   "cell_type": "code",
   "execution_count": 202,
   "id": "63c28ffa",
   "metadata": {},
   "outputs": [
    {
     "data": {
      "text/plain": [
       "{\n",
       "  'Paramters': {},\n",
       "  'Test Accuracy': [\n",
       "    0.6387434554973822,\n",
       "    0.6003490401396161,\n",
       "    0.6335078534031413,\n",
       "    0.6212914485165794,\n",
       "  ],\n",
       "  'Test Log Loss': [\n",
       "    0.6527206439949376,\n",
       "    0.6594056656697033,\n",
       "    0.6692500482621208,\n",
       "    0.6544268510071204,\n",
       "  ],\n",
       "  'Training Cross Validation Accuracy': {},\n",
       "  'Training Cross Validation Log Loss': {},\n",
       "}"
      ]
     },
     "execution_count": 202,
     "metadata": {},
     "output_type": "execute_result"
    }
   ],
   "source": [
    "# check to make sure scores were currently add to dict\n",
    "results_dict"
   ]
  },
  {
   "cell_type": "code",
   "execution_count": 209,
   "id": "f7cefa38",
   "metadata": {},
   "outputs": [],
   "source": [
    "# index for the results df to be created\n",
    "models = ['Logistic Regression', \n",
    "          'Gradient Boost', \n",
    "          'AdaBoost', \n",
    "          'Neural Network']\n",
    "# use mean accuracy for accuracy column in df \n",
    "results_dict['Training Cross Validation Accuracy'] = [log_results.loc[:,'mean_test_accuracy'].iloc[0], \n",
    "                               gb_results.loc[:,'mean_test_accuracy'].iloc[0], \n",
    "                               ada_results.loc[:,'mean_test_accuracy'].iloc[0], \n",
    "                               nn_results.loc[:,'mean_test_accuracy'].iloc[0]]\n",
    "# use mean log loss for log loss column in df \n",
    "results_dict['Training Cross Validation Log Loss'] = [log_cv.best_score_*-1, \n",
    "                               gb_cv.best_score_*-1, \n",
    "                               ada_cv.best_score_*-1, \n",
    "                               nn_cv.best_score_*-1]\n",
    "# get the bet model parameters to populate parameters column in results df\n",
    "results_dict['Paramters'] = [log_results.loc[:,'params'].iloc[0], \n",
    "                               gb_results.loc[:,'params'].iloc[0], \n",
    "                               ada_results.loc[:,'params'].iloc[0], \n",
    "                               nn_results.loc[:,'params'].iloc[0]]"
   ]
  },
  {
   "cell_type": "code",
   "execution_count": 210,
   "id": "53b0d9f4",
   "metadata": {},
   "outputs": [],
   "source": [
    "# create results df from the results dict and use the model names as the index\n",
    "results_df = pd.DataFrame(results_dict, index = models)"
   ]
  },
  {
   "cell_type": "code",
   "execution_count": 211,
   "id": "53efe895",
   "metadata": {},
   "outputs": [
    {
     "data": {
      "text/html": [
       "<div>\n",
       "<style scoped>\n",
       "    .dataframe tbody tr th:only-of-type {\n",
       "        vertical-align: middle;\n",
       "    }\n",
       "\n",
       "    .dataframe tbody tr th {\n",
       "        vertical-align: top;\n",
       "    }\n",
       "\n",
       "    .dataframe thead th {\n",
       "        text-align: right;\n",
       "    }\n",
       "</style>\n",
       "<table border=\"1\" class=\"dataframe\">\n",
       "  <thead>\n",
       "    <tr style=\"text-align: right;\">\n",
       "      <th></th>\n",
       "      <th>Training Cross Validation Accuracy</th>\n",
       "      <th>Training Cross Validation Log Loss</th>\n",
       "      <th>Test Accuracy</th>\n",
       "      <th>Test Log Loss</th>\n",
       "      <th>Paramters</th>\n",
       "    </tr>\n",
       "  </thead>\n",
       "  <tbody>\n",
       "    <tr>\n",
       "      <th>Logistic Regression</th>\n",
       "      <td>0.608610</td>\n",
       "      <td>0.656062</td>\n",
       "      <td>0.638743</td>\n",
       "      <td>0.652721</td>\n",
       "      <td>{'logreg__C': 0.1, 'logreg__class_weight': None, 'logreg__penalty': 'l1', 'logreg__solver': 'liblinear'}</td>\n",
       "    </tr>\n",
       "    <tr>\n",
       "      <th>Neural Network</th>\n",
       "      <td>0.608599</td>\n",
       "      <td>0.661920</td>\n",
       "      <td>0.621291</td>\n",
       "      <td>0.654427</td>\n",
       "      <td>{'nn__activation': 'linear', 'nn__dropout_rate': 0.3, 'nn__epochs': 12, 'nn__neurons': 36, 'nn__optimizer': 'Adam', 'nn__weight_constraint': 5}</td>\n",
       "    </tr>\n",
       "    <tr>\n",
       "      <th>Gradient Boost</th>\n",
       "      <td>0.609763</td>\n",
       "      <td>0.661689</td>\n",
       "      <td>0.600349</td>\n",
       "      <td>0.659406</td>\n",
       "      <td>{'gb__learning_rate': 0.01, 'gb__max_depth': 3, 'gb__n_estimators': 400}</td>\n",
       "    </tr>\n",
       "    <tr>\n",
       "      <th>AdaBoost</th>\n",
       "      <td>0.610931</td>\n",
       "      <td>0.671000</td>\n",
       "      <td>0.633508</td>\n",
       "      <td>0.669250</td>\n",
       "      <td>{'ada__base_estimator': SVC(kernel='linear', probability=True), 'ada__learning_rate': 0.1, 'ada__n_estimators': 25}</td>\n",
       "    </tr>\n",
       "  </tbody>\n",
       "</table>\n",
       "</div>"
      ],
      "text/plain": [
       "                     Training Cross Validation Accuracy  \\\n",
       "Logistic Regression                            0.608610   \n",
       "Neural Network                                 0.608599   \n",
       "Gradient Boost                                 0.609763   \n",
       "AdaBoost                                       0.610931   \n",
       "\n",
       "                     Training Cross Validation Log Loss  Test Accuracy  \\\n",
       "Logistic Regression                            0.656062       0.638743   \n",
       "Neural Network                                 0.661920       0.621291   \n",
       "Gradient Boost                                 0.661689       0.600349   \n",
       "AdaBoost                                       0.671000       0.633508   \n",
       "\n",
       "                     Test Log Loss  \\\n",
       "Logistic Regression       0.652721   \n",
       "Neural Network            0.654427   \n",
       "Gradient Boost            0.659406   \n",
       "AdaBoost                  0.669250   \n",
       "\n",
       "                                                                                                                                                           Paramters  \n",
       "Logistic Regression                                         {'logreg__C': 0.1, 'logreg__class_weight': None, 'logreg__penalty': 'l1', 'logreg__solver': 'liblinear'}  \n",
       "Neural Network       {'nn__activation': 'linear', 'nn__dropout_rate': 0.3, 'nn__epochs': 12, 'nn__neurons': 36, 'nn__optimizer': 'Adam', 'nn__weight_constraint': 5}  \n",
       "Gradient Boost                                                                              {'gb__learning_rate': 0.01, 'gb__max_depth': 3, 'gb__n_estimators': 400}  \n",
       "AdaBoost                                         {'ada__base_estimator': SVC(kernel='linear', probability=True), 'ada__learning_rate': 0.1, 'ada__n_estimators': 25}  "
      ]
     },
     "execution_count": 211,
     "metadata": {},
     "output_type": "execute_result"
    }
   ],
   "source": [
    "# make sure we can view everything\n",
    "pd.set_option('display.max_colwidth', None)\n",
    "# display our results sorted by log loss\n",
    "results_df.sort_values('Test Log Loss') # logistic regression also happens to have the best accuracy"
   ]
  },
  {
   "cell_type": "code",
   "execution_count": 218,
   "id": "89cd6872",
   "metadata": {},
   "outputs": [],
   "source": [
    "# xval = modeling_df.loc[modeling_df['season_id'] == '20222023'].drop(['season_id', 'Home_Team_Won'], axis=1)\n",
    "# xval = xval.iloc[len(xval)//2:] # Second half\n",
    "\n",
    "# modify the earlier train/test/val code to get our predictions df\n",
    "preds_df = modeling_df.loc[modeling_df['season_id'] == '20222023']\n",
    "preds_df = preds_df.iloc[len(preds_df)//2:] # Second half of the season\n",
    "\n",
    "# use the best performing model to predict outcomes and associated probablities\n",
    "preds = log_cv.predict(xval)\n",
    "probs = log_cv.predict_proba(xval)\n",
    "# create a predictions df with our features, actual results, predicitons, and prediction probabilities\n",
    "Predictions_2023 = pd.concat([preds_df, \n",
    "                             pd.DataFrame(preds, columns = ['Prediction'], index = yval.index ),\n",
    "                             pd.DataFrame(probs, columns = ['Away Win Probability', 'Home Win Probability'], index = yval.index)], \n",
    "                             axis =1)"
   ]
  },
  {
   "cell_type": "code",
   "execution_count": 219,
   "id": "f35ef94f",
   "metadata": {},
   "outputs": [
    {
     "data": {
      "text/html": [
       "<div>\n",
       "<style scoped>\n",
       "    .dataframe tbody tr th:only-of-type {\n",
       "        vertical-align: middle;\n",
       "    }\n",
       "\n",
       "    .dataframe tbody tr th {\n",
       "        vertical-align: top;\n",
       "    }\n",
       "\n",
       "    .dataframe thead th {\n",
       "        text-align: right;\n",
       "    }\n",
       "</style>\n",
       "<table border=\"1\" class=\"dataframe\">\n",
       "  <thead>\n",
       "    <tr style=\"text-align: right;\">\n",
       "      <th></th>\n",
       "      <th>season_id</th>\n",
       "      <th>Home_Team_Won</th>\n",
       "      <th>home_rolling_avg_FF%</th>\n",
       "      <th>home_rolling_avg_GF%</th>\n",
       "      <th>home_rolling_avg_xGF%</th>\n",
       "      <th>home_rolling_avg_HDCF%</th>\n",
       "      <th>home_rolling_avg_HDSH%</th>\n",
       "      <th>home_rolling_avg_HDSV%</th>\n",
       "      <th>home_rolling_avg_SH%</th>\n",
       "      <th>home_rolling_avg_SV%</th>\n",
       "      <th>home_rolling_avg_GF/60_pp</th>\n",
       "      <th>home_rolling_avg_xGF/60_pp</th>\n",
       "      <th>home_rolling_avg_GA/60_pk</th>\n",
       "      <th>home_rolling_avg_xGA/60_pk</th>\n",
       "      <th>away_rolling_avg_FF%</th>\n",
       "      <th>away_rolling_avg_GF%</th>\n",
       "      <th>away_rolling_avg_xGF%</th>\n",
       "      <th>away_rolling_avg_HDCF%</th>\n",
       "      <th>away_rolling_avg_HDSH%</th>\n",
       "      <th>away_rolling_avg_HDSV%</th>\n",
       "      <th>away_rolling_avg_SH%</th>\n",
       "      <th>away_rolling_avg_SV%</th>\n",
       "      <th>away_rolling_avg_GF/60_pp</th>\n",
       "      <th>away_rolling_avg_xGF/60_pp</th>\n",
       "      <th>away_rolling_avg_GA/60_pk</th>\n",
       "      <th>away_rolling_avg_xGA/60_pk</th>\n",
       "      <th>Prediction</th>\n",
       "      <th>Away Win Probability</th>\n",
       "      <th>Home Win Probability</th>\n",
       "    </tr>\n",
       "  </thead>\n",
       "  <tbody>\n",
       "    <tr>\n",
       "      <th>3155</th>\n",
       "      <td>20222023</td>\n",
       "      <td>0</td>\n",
       "      <td>54.674</td>\n",
       "      <td>56.233</td>\n",
       "      <td>53.687</td>\n",
       "      <td>50.637</td>\n",
       "      <td>13.662</td>\n",
       "      <td>82.694</td>\n",
       "      <td>79.179398</td>\n",
       "      <td>923.919639</td>\n",
       "      <td>23.475</td>\n",
       "      <td>10.802</td>\n",
       "      <td>8.269</td>\n",
       "      <td>8.097</td>\n",
       "      <td>52.394</td>\n",
       "      <td>61.544</td>\n",
       "      <td>48.287</td>\n",
       "      <td>44.331</td>\n",
       "      <td>31.331</td>\n",
       "      <td>91.248</td>\n",
       "      <td>88.073067</td>\n",
       "      <td>899.936000</td>\n",
       "      <td>10.754</td>\n",
       "      <td>7.151</td>\n",
       "      <td>10.889</td>\n",
       "      <td>11.983</td>\n",
       "      <td>1</td>\n",
       "      <td>0.346188</td>\n",
       "      <td>0.653812</td>\n",
       "    </tr>\n",
       "    <tr>\n",
       "      <th>3156</th>\n",
       "      <td>20222023</td>\n",
       "      <td>1</td>\n",
       "      <td>43.566</td>\n",
       "      <td>26.173</td>\n",
       "      <td>42.890</td>\n",
       "      <td>41.147</td>\n",
       "      <td>4.549</td>\n",
       "      <td>79.961</td>\n",
       "      <td>86.535063</td>\n",
       "      <td>905.985570</td>\n",
       "      <td>7.884</td>\n",
       "      <td>6.124</td>\n",
       "      <td>7.581</td>\n",
       "      <td>5.422</td>\n",
       "      <td>40.814</td>\n",
       "      <td>22.955</td>\n",
       "      <td>39.170</td>\n",
       "      <td>36.715</td>\n",
       "      <td>9.081</td>\n",
       "      <td>78.623</td>\n",
       "      <td>77.371282</td>\n",
       "      <td>907.449744</td>\n",
       "      <td>4.833</td>\n",
       "      <td>6.688</td>\n",
       "      <td>65.479</td>\n",
       "      <td>14.222</td>\n",
       "      <td>1</td>\n",
       "      <td>0.483869</td>\n",
       "      <td>0.516131</td>\n",
       "    </tr>\n",
       "    <tr>\n",
       "      <th>3157</th>\n",
       "      <td>20222023</td>\n",
       "      <td>1</td>\n",
       "      <td>51.308</td>\n",
       "      <td>33.521</td>\n",
       "      <td>54.124</td>\n",
       "      <td>56.544</td>\n",
       "      <td>15.801</td>\n",
       "      <td>79.666</td>\n",
       "      <td>77.844487</td>\n",
       "      <td>918.238462</td>\n",
       "      <td>19.478</td>\n",
       "      <td>9.943</td>\n",
       "      <td>3.186</td>\n",
       "      <td>3.762</td>\n",
       "      <td>48.979</td>\n",
       "      <td>50.806</td>\n",
       "      <td>49.277</td>\n",
       "      <td>51.043</td>\n",
       "      <td>8.843</td>\n",
       "      <td>91.854</td>\n",
       "      <td>85.867105</td>\n",
       "      <td>921.038684</td>\n",
       "      <td>16.214</td>\n",
       "      <td>6.923</td>\n",
       "      <td>16.144</td>\n",
       "      <td>11.826</td>\n",
       "      <td>1</td>\n",
       "      <td>0.419019</td>\n",
       "      <td>0.580981</td>\n",
       "    </tr>\n",
       "    <tr>\n",
       "      <th>3158</th>\n",
       "      <td>20222023</td>\n",
       "      <td>0</td>\n",
       "      <td>54.576</td>\n",
       "      <td>56.573</td>\n",
       "      <td>52.877</td>\n",
       "      <td>53.133</td>\n",
       "      <td>17.658</td>\n",
       "      <td>85.615</td>\n",
       "      <td>75.363457</td>\n",
       "      <td>907.509753</td>\n",
       "      <td>6.227</td>\n",
       "      <td>7.803</td>\n",
       "      <td>13.961</td>\n",
       "      <td>7.686</td>\n",
       "      <td>47.993</td>\n",
       "      <td>44.416</td>\n",
       "      <td>45.909</td>\n",
       "      <td>45.340</td>\n",
       "      <td>15.196</td>\n",
       "      <td>79.283</td>\n",
       "      <td>85.357089</td>\n",
       "      <td>911.394430</td>\n",
       "      <td>3.350</td>\n",
       "      <td>3.182</td>\n",
       "      <td>9.415</td>\n",
       "      <td>6.472</td>\n",
       "      <td>1</td>\n",
       "      <td>0.424682</td>\n",
       "      <td>0.575318</td>\n",
       "    </tr>\n",
       "    <tr>\n",
       "      <th>3159</th>\n",
       "      <td>20222023</td>\n",
       "      <td>1</td>\n",
       "      <td>56.216</td>\n",
       "      <td>62.887</td>\n",
       "      <td>57.505</td>\n",
       "      <td>54.013</td>\n",
       "      <td>20.261</td>\n",
       "      <td>87.199</td>\n",
       "      <td>83.180380</td>\n",
       "      <td>914.091266</td>\n",
       "      <td>9.162</td>\n",
       "      <td>8.857</td>\n",
       "      <td>4.857</td>\n",
       "      <td>8.370</td>\n",
       "      <td>42.373</td>\n",
       "      <td>51.988</td>\n",
       "      <td>39.785</td>\n",
       "      <td>37.068</td>\n",
       "      <td>10.379</td>\n",
       "      <td>87.636</td>\n",
       "      <td>92.779870</td>\n",
       "      <td>898.597922</td>\n",
       "      <td>3.991</td>\n",
       "      <td>6.914</td>\n",
       "      <td>16.856</td>\n",
       "      <td>9.337</td>\n",
       "      <td>1</td>\n",
       "      <td>0.316676</td>\n",
       "      <td>0.683324</td>\n",
       "    </tr>\n",
       "    <tr>\n",
       "      <th>...</th>\n",
       "      <td>...</td>\n",
       "      <td>...</td>\n",
       "      <td>...</td>\n",
       "      <td>...</td>\n",
       "      <td>...</td>\n",
       "      <td>...</td>\n",
       "      <td>...</td>\n",
       "      <td>...</td>\n",
       "      <td>...</td>\n",
       "      <td>...</td>\n",
       "      <td>...</td>\n",
       "      <td>...</td>\n",
       "      <td>...</td>\n",
       "      <td>...</td>\n",
       "      <td>...</td>\n",
       "      <td>...</td>\n",
       "      <td>...</td>\n",
       "      <td>...</td>\n",
       "      <td>...</td>\n",
       "      <td>...</td>\n",
       "      <td>...</td>\n",
       "      <td>...</td>\n",
       "      <td>...</td>\n",
       "      <td>...</td>\n",
       "      <td>...</td>\n",
       "      <td>...</td>\n",
       "      <td>...</td>\n",
       "      <td>...</td>\n",
       "      <td>...</td>\n",
       "    </tr>\n",
       "    <tr>\n",
       "      <th>3723</th>\n",
       "      <td>20222023</td>\n",
       "      <td>0</td>\n",
       "      <td>37.465</td>\n",
       "      <td>35.833</td>\n",
       "      <td>38.186</td>\n",
       "      <td>37.886</td>\n",
       "      <td>15.757</td>\n",
       "      <td>83.117</td>\n",
       "      <td>94.583889</td>\n",
       "      <td>917.601389</td>\n",
       "      <td>5.613</td>\n",
       "      <td>5.128</td>\n",
       "      <td>10.733</td>\n",
       "      <td>8.345</td>\n",
       "      <td>52.020</td>\n",
       "      <td>57.485</td>\n",
       "      <td>48.423</td>\n",
       "      <td>52.619</td>\n",
       "      <td>13.876</td>\n",
       "      <td>87.212</td>\n",
       "      <td>84.458485</td>\n",
       "      <td>908.473636</td>\n",
       "      <td>24.340</td>\n",
       "      <td>9.049</td>\n",
       "      <td>11.679</td>\n",
       "      <td>7.225</td>\n",
       "      <td>0</td>\n",
       "      <td>0.621910</td>\n",
       "      <td>0.378090</td>\n",
       "    </tr>\n",
       "    <tr>\n",
       "      <th>3724</th>\n",
       "      <td>20222023</td>\n",
       "      <td>0</td>\n",
       "      <td>46.469</td>\n",
       "      <td>39.654</td>\n",
       "      <td>45.404</td>\n",
       "      <td>42.538</td>\n",
       "      <td>18.801</td>\n",
       "      <td>79.739</td>\n",
       "      <td>95.675263</td>\n",
       "      <td>921.328947</td>\n",
       "      <td>8.369</td>\n",
       "      <td>4.214</td>\n",
       "      <td>18.592</td>\n",
       "      <td>11.571</td>\n",
       "      <td>45.407</td>\n",
       "      <td>54.939</td>\n",
       "      <td>44.357</td>\n",
       "      <td>47.319</td>\n",
       "      <td>18.985</td>\n",
       "      <td>84.714</td>\n",
       "      <td>100.100541</td>\n",
       "      <td>894.535135</td>\n",
       "      <td>10.092</td>\n",
       "      <td>8.368</td>\n",
       "      <td>23.087</td>\n",
       "      <td>8.659</td>\n",
       "      <td>1</td>\n",
       "      <td>0.440910</td>\n",
       "      <td>0.559090</td>\n",
       "    </tr>\n",
       "    <tr>\n",
       "      <th>3725</th>\n",
       "      <td>20222023</td>\n",
       "      <td>0</td>\n",
       "      <td>57.050</td>\n",
       "      <td>54.449</td>\n",
       "      <td>59.066</td>\n",
       "      <td>56.560</td>\n",
       "      <td>16.971</td>\n",
       "      <td>70.043</td>\n",
       "      <td>100.511538</td>\n",
       "      <td>896.874872</td>\n",
       "      <td>10.103</td>\n",
       "      <td>7.819</td>\n",
       "      <td>1.600</td>\n",
       "      <td>4.080</td>\n",
       "      <td>49.700</td>\n",
       "      <td>62.403</td>\n",
       "      <td>54.140</td>\n",
       "      <td>54.399</td>\n",
       "      <td>22.219</td>\n",
       "      <td>86.241</td>\n",
       "      <td>100.515588</td>\n",
       "      <td>921.617059</td>\n",
       "      <td>4.185</td>\n",
       "      <td>7.559</td>\n",
       "      <td>26.538</td>\n",
       "      <td>9.003</td>\n",
       "      <td>0</td>\n",
       "      <td>0.502721</td>\n",
       "      <td>0.497279</td>\n",
       "    </tr>\n",
       "    <tr>\n",
       "      <th>3726</th>\n",
       "      <td>20222023</td>\n",
       "      <td>0</td>\n",
       "      <td>36.813</td>\n",
       "      <td>39.326</td>\n",
       "      <td>35.056</td>\n",
       "      <td>37.632</td>\n",
       "      <td>14.366</td>\n",
       "      <td>73.425</td>\n",
       "      <td>77.141316</td>\n",
       "      <td>901.840000</td>\n",
       "      <td>7.399</td>\n",
       "      <td>6.745</td>\n",
       "      <td>18.434</td>\n",
       "      <td>10.780</td>\n",
       "      <td>49.983</td>\n",
       "      <td>51.548</td>\n",
       "      <td>49.511</td>\n",
       "      <td>47.102</td>\n",
       "      <td>20.448</td>\n",
       "      <td>86.842</td>\n",
       "      <td>92.056154</td>\n",
       "      <td>894.443590</td>\n",
       "      <td>5.203</td>\n",
       "      <td>5.691</td>\n",
       "      <td>6.636</td>\n",
       "      <td>7.356</td>\n",
       "      <td>0</td>\n",
       "      <td>0.687012</td>\n",
       "      <td>0.312988</td>\n",
       "    </tr>\n",
       "    <tr>\n",
       "      <th>3727</th>\n",
       "      <td>20222023</td>\n",
       "      <td>0</td>\n",
       "      <td>40.670</td>\n",
       "      <td>42.353</td>\n",
       "      <td>39.427</td>\n",
       "      <td>41.112</td>\n",
       "      <td>10.384</td>\n",
       "      <td>94.422</td>\n",
       "      <td>82.664737</td>\n",
       "      <td>922.814211</td>\n",
       "      <td>4.298</td>\n",
       "      <td>7.397</td>\n",
       "      <td>5.177</td>\n",
       "      <td>7.059</td>\n",
       "      <td>55.047</td>\n",
       "      <td>61.475</td>\n",
       "      <td>53.935</td>\n",
       "      <td>49.601</td>\n",
       "      <td>24.524</td>\n",
       "      <td>81.491</td>\n",
       "      <td>98.016053</td>\n",
       "      <td>921.409737</td>\n",
       "      <td>6.581</td>\n",
       "      <td>7.114</td>\n",
       "      <td>10.536</td>\n",
       "      <td>7.698</td>\n",
       "      <td>0</td>\n",
       "      <td>0.739724</td>\n",
       "      <td>0.260276</td>\n",
       "    </tr>\n",
       "  </tbody>\n",
       "</table>\n",
       "<p>573 rows × 29 columns</p>\n",
       "</div>"
      ],
      "text/plain": [
       "     season_id  Home_Team_Won  home_rolling_avg_FF%  home_rolling_avg_GF%  \\\n",
       "3155  20222023              0                54.674                56.233   \n",
       "3156  20222023              1                43.566                26.173   \n",
       "3157  20222023              1                51.308                33.521   \n",
       "3158  20222023              0                54.576                56.573   \n",
       "3159  20222023              1                56.216                62.887   \n",
       "...        ...            ...                   ...                   ...   \n",
       "3723  20222023              0                37.465                35.833   \n",
       "3724  20222023              0                46.469                39.654   \n",
       "3725  20222023              0                57.050                54.449   \n",
       "3726  20222023              0                36.813                39.326   \n",
       "3727  20222023              0                40.670                42.353   \n",
       "\n",
       "      home_rolling_avg_xGF%  home_rolling_avg_HDCF%  home_rolling_avg_HDSH%  \\\n",
       "3155                 53.687                  50.637                  13.662   \n",
       "3156                 42.890                  41.147                   4.549   \n",
       "3157                 54.124                  56.544                  15.801   \n",
       "3158                 52.877                  53.133                  17.658   \n",
       "3159                 57.505                  54.013                  20.261   \n",
       "...                     ...                     ...                     ...   \n",
       "3723                 38.186                  37.886                  15.757   \n",
       "3724                 45.404                  42.538                  18.801   \n",
       "3725                 59.066                  56.560                  16.971   \n",
       "3726                 35.056                  37.632                  14.366   \n",
       "3727                 39.427                  41.112                  10.384   \n",
       "\n",
       "      home_rolling_avg_HDSV%  home_rolling_avg_SH%  home_rolling_avg_SV%  \\\n",
       "3155                  82.694             79.179398            923.919639   \n",
       "3156                  79.961             86.535063            905.985570   \n",
       "3157                  79.666             77.844487            918.238462   \n",
       "3158                  85.615             75.363457            907.509753   \n",
       "3159                  87.199             83.180380            914.091266   \n",
       "...                      ...                   ...                   ...   \n",
       "3723                  83.117             94.583889            917.601389   \n",
       "3724                  79.739             95.675263            921.328947   \n",
       "3725                  70.043            100.511538            896.874872   \n",
       "3726                  73.425             77.141316            901.840000   \n",
       "3727                  94.422             82.664737            922.814211   \n",
       "\n",
       "      home_rolling_avg_GF/60_pp  home_rolling_avg_xGF/60_pp  \\\n",
       "3155                     23.475                      10.802   \n",
       "3156                      7.884                       6.124   \n",
       "3157                     19.478                       9.943   \n",
       "3158                      6.227                       7.803   \n",
       "3159                      9.162                       8.857   \n",
       "...                         ...                         ...   \n",
       "3723                      5.613                       5.128   \n",
       "3724                      8.369                       4.214   \n",
       "3725                     10.103                       7.819   \n",
       "3726                      7.399                       6.745   \n",
       "3727                      4.298                       7.397   \n",
       "\n",
       "      home_rolling_avg_GA/60_pk  home_rolling_avg_xGA/60_pk  \\\n",
       "3155                      8.269                       8.097   \n",
       "3156                      7.581                       5.422   \n",
       "3157                      3.186                       3.762   \n",
       "3158                     13.961                       7.686   \n",
       "3159                      4.857                       8.370   \n",
       "...                         ...                         ...   \n",
       "3723                     10.733                       8.345   \n",
       "3724                     18.592                      11.571   \n",
       "3725                      1.600                       4.080   \n",
       "3726                     18.434                      10.780   \n",
       "3727                      5.177                       7.059   \n",
       "\n",
       "      away_rolling_avg_FF%  away_rolling_avg_GF%  away_rolling_avg_xGF%  \\\n",
       "3155                52.394                61.544                 48.287   \n",
       "3156                40.814                22.955                 39.170   \n",
       "3157                48.979                50.806                 49.277   \n",
       "3158                47.993                44.416                 45.909   \n",
       "3159                42.373                51.988                 39.785   \n",
       "...                    ...                   ...                    ...   \n",
       "3723                52.020                57.485                 48.423   \n",
       "3724                45.407                54.939                 44.357   \n",
       "3725                49.700                62.403                 54.140   \n",
       "3726                49.983                51.548                 49.511   \n",
       "3727                55.047                61.475                 53.935   \n",
       "\n",
       "      away_rolling_avg_HDCF%  away_rolling_avg_HDSH%  away_rolling_avg_HDSV%  \\\n",
       "3155                  44.331                  31.331                  91.248   \n",
       "3156                  36.715                   9.081                  78.623   \n",
       "3157                  51.043                   8.843                  91.854   \n",
       "3158                  45.340                  15.196                  79.283   \n",
       "3159                  37.068                  10.379                  87.636   \n",
       "...                      ...                     ...                     ...   \n",
       "3723                  52.619                  13.876                  87.212   \n",
       "3724                  47.319                  18.985                  84.714   \n",
       "3725                  54.399                  22.219                  86.241   \n",
       "3726                  47.102                  20.448                  86.842   \n",
       "3727                  49.601                  24.524                  81.491   \n",
       "\n",
       "      away_rolling_avg_SH%  away_rolling_avg_SV%  away_rolling_avg_GF/60_pp  \\\n",
       "3155             88.073067            899.936000                     10.754   \n",
       "3156             77.371282            907.449744                      4.833   \n",
       "3157             85.867105            921.038684                     16.214   \n",
       "3158             85.357089            911.394430                      3.350   \n",
       "3159             92.779870            898.597922                      3.991   \n",
       "...                    ...                   ...                        ...   \n",
       "3723             84.458485            908.473636                     24.340   \n",
       "3724            100.100541            894.535135                     10.092   \n",
       "3725            100.515588            921.617059                      4.185   \n",
       "3726             92.056154            894.443590                      5.203   \n",
       "3727             98.016053            921.409737                      6.581   \n",
       "\n",
       "      away_rolling_avg_xGF/60_pp  away_rolling_avg_GA/60_pk  \\\n",
       "3155                       7.151                     10.889   \n",
       "3156                       6.688                     65.479   \n",
       "3157                       6.923                     16.144   \n",
       "3158                       3.182                      9.415   \n",
       "3159                       6.914                     16.856   \n",
       "...                          ...                        ...   \n",
       "3723                       9.049                     11.679   \n",
       "3724                       8.368                     23.087   \n",
       "3725                       7.559                     26.538   \n",
       "3726                       5.691                      6.636   \n",
       "3727                       7.114                     10.536   \n",
       "\n",
       "      away_rolling_avg_xGA/60_pk  Prediction  Away Win Probability  \\\n",
       "3155                      11.983           1              0.346188   \n",
       "3156                      14.222           1              0.483869   \n",
       "3157                      11.826           1              0.419019   \n",
       "3158                       6.472           1              0.424682   \n",
       "3159                       9.337           1              0.316676   \n",
       "...                          ...         ...                   ...   \n",
       "3723                       7.225           0              0.621910   \n",
       "3724                       8.659           1              0.440910   \n",
       "3725                       9.003           0              0.502721   \n",
       "3726                       7.356           0              0.687012   \n",
       "3727                       7.698           0              0.739724   \n",
       "\n",
       "      Home Win Probability  \n",
       "3155              0.653812  \n",
       "3156              0.516131  \n",
       "3157              0.580981  \n",
       "3158              0.575318  \n",
       "3159              0.683324  \n",
       "...                    ...  \n",
       "3723              0.378090  \n",
       "3724              0.559090  \n",
       "3725              0.497279  \n",
       "3726              0.312988  \n",
       "3727              0.260276  \n",
       "\n",
       "[573 rows x 29 columns]"
      ]
     },
     "execution_count": 219,
     "metadata": {},
     "output_type": "execute_result"
    }
   ],
   "source": [
    "# dispaly our features, acutall target results, predictions and prediction probabilities\n",
    "Predictions_2023"
   ]
  },
  {
   "cell_type": "code",
   "execution_count": 221,
   "id": "372a8e6e",
   "metadata": {},
   "outputs": [
    {
     "data": {
      "text/html": [
       "<div>\n",
       "<style scoped>\n",
       "    .dataframe tbody tr th:only-of-type {\n",
       "        vertical-align: middle;\n",
       "    }\n",
       "\n",
       "    .dataframe tbody tr th {\n",
       "        vertical-align: top;\n",
       "    }\n",
       "\n",
       "    .dataframe thead th {\n",
       "        text-align: right;\n",
       "    }\n",
       "</style>\n",
       "<table border=\"1\" class=\"dataframe\">\n",
       "  <thead>\n",
       "    <tr style=\"text-align: right;\">\n",
       "      <th></th>\n",
       "      <th>Home_Team_Won</th>\n",
       "      <th>Prediction</th>\n",
       "      <th>Away Win Probability</th>\n",
       "      <th>Home Win Probability</th>\n",
       "    </tr>\n",
       "  </thead>\n",
       "  <tbody>\n",
       "    <tr>\n",
       "      <th>3155</th>\n",
       "      <td>0</td>\n",
       "      <td>1</td>\n",
       "      <td>0.346188</td>\n",
       "      <td>0.653812</td>\n",
       "    </tr>\n",
       "    <tr>\n",
       "      <th>3156</th>\n",
       "      <td>1</td>\n",
       "      <td>1</td>\n",
       "      <td>0.483869</td>\n",
       "      <td>0.516131</td>\n",
       "    </tr>\n",
       "    <tr>\n",
       "      <th>3157</th>\n",
       "      <td>1</td>\n",
       "      <td>1</td>\n",
       "      <td>0.419019</td>\n",
       "      <td>0.580981</td>\n",
       "    </tr>\n",
       "    <tr>\n",
       "      <th>3158</th>\n",
       "      <td>0</td>\n",
       "      <td>1</td>\n",
       "      <td>0.424682</td>\n",
       "      <td>0.575318</td>\n",
       "    </tr>\n",
       "    <tr>\n",
       "      <th>3159</th>\n",
       "      <td>1</td>\n",
       "      <td>1</td>\n",
       "      <td>0.316676</td>\n",
       "      <td>0.683324</td>\n",
       "    </tr>\n",
       "    <tr>\n",
       "      <th>...</th>\n",
       "      <td>...</td>\n",
       "      <td>...</td>\n",
       "      <td>...</td>\n",
       "      <td>...</td>\n",
       "    </tr>\n",
       "    <tr>\n",
       "      <th>3723</th>\n",
       "      <td>0</td>\n",
       "      <td>0</td>\n",
       "      <td>0.621910</td>\n",
       "      <td>0.378090</td>\n",
       "    </tr>\n",
       "    <tr>\n",
       "      <th>3724</th>\n",
       "      <td>0</td>\n",
       "      <td>1</td>\n",
       "      <td>0.440910</td>\n",
       "      <td>0.559090</td>\n",
       "    </tr>\n",
       "    <tr>\n",
       "      <th>3725</th>\n",
       "      <td>0</td>\n",
       "      <td>0</td>\n",
       "      <td>0.502721</td>\n",
       "      <td>0.497279</td>\n",
       "    </tr>\n",
       "    <tr>\n",
       "      <th>3726</th>\n",
       "      <td>0</td>\n",
       "      <td>0</td>\n",
       "      <td>0.687012</td>\n",
       "      <td>0.312988</td>\n",
       "    </tr>\n",
       "    <tr>\n",
       "      <th>3727</th>\n",
       "      <td>0</td>\n",
       "      <td>0</td>\n",
       "      <td>0.739724</td>\n",
       "      <td>0.260276</td>\n",
       "    </tr>\n",
       "  </tbody>\n",
       "</table>\n",
       "<p>573 rows × 4 columns</p>\n",
       "</div>"
      ],
      "text/plain": [
       "      Home_Team_Won  Prediction  Away Win Probability  Home Win Probability\n",
       "3155              0           1              0.346188              0.653812\n",
       "3156              1           1              0.483869              0.516131\n",
       "3157              1           1              0.419019              0.580981\n",
       "3158              0           1              0.424682              0.575318\n",
       "3159              1           1              0.316676              0.683324\n",
       "...             ...         ...                   ...                   ...\n",
       "3723              0           0              0.621910              0.378090\n",
       "3724              0           1              0.440910              0.559090\n",
       "3725              0           0              0.502721              0.497279\n",
       "3726              0           0              0.687012              0.312988\n",
       "3727              0           0              0.739724              0.260276\n",
       "\n",
       "[573 rows x 4 columns]"
      ]
     },
     "execution_count": 221,
     "metadata": {},
     "output_type": "execute_result"
    }
   ],
   "source": [
    "# take a subset of the df to just highlight the predicted results, actual results, and probabilities\n",
    "results_df = Predictions_2023[['Home_Team_Won', 'Prediction', 'Away Win Probability', 'Home Win Probability']]\n",
    "results_df"
   ]
  },
  {
   "cell_type": "code",
   "execution_count": 223,
   "id": "cdece596",
   "metadata": {},
   "outputs": [
    {
     "name": "stdout",
     "output_type": "stream",
     "text": [
      "Percentage of times Prediction equals Home_Team_Won: 63.87%\n",
      "Percentage of times Prediction does not equal Home_Team_Won: 36.13%\n"
     ]
    }
   ],
   "source": [
    "# Count the number of times that the Prediction equals Home_Team_Won\n",
    "prediction_equal_home_team_won = results_df[results_df['Prediction'] == results_df['Home_Team_Won']].count()[0]\n",
    "\n",
    "# Calculate the percentage of times that Prediction equals Home_Team_Won\n",
    "percentage_equal = (prediction_equal_home_team_won / len(results_df)) * 100\n",
    "\n",
    "# Calculate the percentage of times that Prediction does not equal Home_Team_Won\n",
    "percentage_not_equal = 100 - percentage_equal\n",
    "\n",
    "# Print the results\n",
    "print(f\"Percentage of times Prediction equals Home_Team_Won: {percentage_equal:.2f}%\")\n",
    "print(f\"Percentage of times Prediction does not equal Home_Team_Won: {percentage_not_equal:.2f}%\")"
   ]
  },
  {
   "cell_type": "markdown",
   "id": "1e8d5cfa",
   "metadata": {},
   "source": [
    "- the naive choice rate was %52.66\n",
    "- the model outperformed that by over 11%!"
   ]
  },
  {
   "cell_type": "code",
   "execution_count": 224,
   "id": "f045bc71",
   "metadata": {},
   "outputs": [],
   "source": [
    "# save predictions and probabilities to csv\n",
    "results_df.to_csv('prediction_results.csv')"
   ]
  },
  {
   "cell_type": "markdown",
   "id": "5582dc89",
   "metadata": {},
   "source": [
    "Plot a new confusion matrix to visualize the distribution of our predictions"
   ]
  },
  {
   "cell_type": "code",
   "execution_count": 225,
   "id": "f2753bb6",
   "metadata": {},
   "outputs": [
    {
     "data": {
      "image/png": "[encoded data removed]",
      "text/plain": [
       "<Figure size 640x480 with 2 Axes>"
      ]
     },
     "metadata": {},
     "output_type": "display_data"
    },
    {
     "name": "stdout",
     "output_type": "stream",
     "text": [
      "Classification report:\n",
      "              precision    recall  f1-score   support\n",
      "\n",
      "           0       0.62      0.61      0.62       272\n",
      "           1       0.65      0.66      0.66       301\n",
      "\n",
      "    accuracy                           0.64       573\n",
      "   macro avg       0.64      0.64      0.64       573\n",
      "weighted avg       0.64      0.64      0.64       573\n",
      "\n",
      "Test log loss score: 0.653\n",
      "Test AUC-ROC score: 0.663\n"
     ]
    }
   ],
   "source": [
    "# Calculate the confusion matrix\n",
    "label_names = ['0: Away Team Win', '1: Home Team Win']\n",
    "cm = confusion_matrix(yval, log_cv.predict(xval))\n",
    "\n",
    "# Plot the confusion matrix\n",
    "disp = ConfusionMatrixDisplay(confusion_matrix=cm, display_labels=label_names)\n",
    "disp.plot()\n",
    "plt.show()\n",
    "\n",
    "# Calculate and print the classification report\n",
    "report = classification_report(yval, log_cv.predict(xval))\n",
    "print(f'Classification report:\\n{report}')\n",
    "# Calculate the Log Loss score for the test set\n",
    "log_loss_score = log_loss(yval, log_cv.predict_proba(xval)[:, 1])\n",
    "print(f'Test log loss score: {log_loss_score:.3f}')# Calculate the AUC-ROC score for the test set\n",
    "# Calculate the AUC-ROC score for the test set\n",
    "auc_roc = roc_auc_score(yval, log_cv.predict_proba(xval)[:, 1])\n",
    "print(f'Test AUC-ROC score: {auc_roc:.3f}')"
   ]
  }
 ],
 "metadata": {
  "kernelspec": {
   "display_name": "tf-env",
   "language": "python",
   "name": "tf-env"
  },
  "language_info": {
   "codemirror_mode": {
    "name": "ipython",
    "version": 3
   },
   "file_extension": ".py",
   "mimetype": "text/x-python",
   "name": "python",
   "nbconvert_exporter": "python",
   "pygments_lexer": "ipython3",
   "version": "3.8.16"
  }
 },
 "nbformat": 4,
 "nbformat_minor": 5
}
