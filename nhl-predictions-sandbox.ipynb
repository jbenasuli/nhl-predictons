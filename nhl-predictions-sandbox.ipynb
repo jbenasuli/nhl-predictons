{
 "cells": [
  {
   "cell_type": "markdown",
   "id": "bbd39c0a",
   "metadata": {},
   "source": [
    "# Predicting NHL Game Outcomes"
   ]
  },
  {
   "cell_type": "markdown",
   "id": "b86afdba",
   "metadata": {},
   "source": [
    "## Sandbox Notebook"
   ]
  },
  {
   "cell_type": "markdown",
   "id": "8d9d458e",
   "metadata": {},
   "source": [
    "Working notebook \n",
    "When components (e.g. scraping functions) are working, move them to eventual production home"
   ]
  },
  {
   "cell_type": "code",
   "execution_count": 1,
   "id": "b088915d",
   "metadata": {},
   "outputs": [],
   "source": [
    "# Standard Packages\n",
    "import pandas as pd\n",
    "import numpy as np\n",
    "import requests\n",
    "import re\n",
    "import time\n",
    "import os\n",
    "import warnings\n",
    "\n",
    "# Viz Packages\n",
    "import seaborn as sns\n",
    "import matplotlib.pyplot as plt\n",
    "%matplotlib inline \n",
    "\n",
    "# Modeling Packages\n",
    "## Modeling Prep\n",
    "from sklearn.model_selection import train_test_split, cross_val_score, cross_validate, KFold, \\\n",
    "GridSearchCV, RandomizedSearchCV\n",
    "\n",
    "## SKLearn Data Prep Modules\n",
    "from sklearn.preprocessing import StandardScaler, OneHotEncoder, LabelEncoder, \\\n",
    "PolynomialFeatures, PowerTransformer, Normalizer, MaxAbsScaler\n",
    "\n",
    "from sklearn.impute import SimpleImputer\n",
    "\n",
    "## SKLearn Classification Models\n",
    "from sklearn.linear_model import LogisticRegression, Ridge, Lasso, ElasticNet\n",
    "from sklearn.neighbors import KNeighborsClassifier\n",
    "from sklearn.tree import DecisionTreeClassifier\n",
    "from sklearn.ensemble import BaggingClassifier, RandomForestClassifier,\\\n",
    "ExtraTreesClassifier, VotingClassifier, StackingRegressor\n",
    "\n",
    "## SKLearn Pipeline Setup\n",
    "from sklearn.pipeline import Pipeline\n",
    "from sklearn.compose import ColumnTransformer\n",
    "\n",
    "## SKLearn Model Optimization\n",
    "from sklearn.feature_selection import RFE, f_regression\n",
    "\n",
    "## Boosting\n",
    "from xgboost import XGBRegressor\n",
    "from xgboost import XGBClassifier\n",
    "\n",
    "## SKLearn Metrics\n",
    "### Classification Scoring/Evaluation\n",
    "from sklearn.metrics import classification_report, accuracy_score, recall_score, precision_score, f1_score, \\\n",
    "ConfusionMatrixDisplay, log_loss, confusion_matrix, RocCurveDisplay, make_scorer, roc_auc_score"
   ]
  },
  {
   "cell_type": "code",
   "execution_count": 2,
   "id": "3453bb69",
   "metadata": {},
   "outputs": [],
   "source": [
    "# Notebook Config\n",
    "## Suppress Python Warnings (Future, Deprecation)\n",
    "warnings.filterwarnings(\"ignore\", category= FutureWarning)\n",
    "warnings.filterwarnings(\"ignore\", category=DeprecationWarning)\n",
    "\n",
    "## Suppress Pandas Warnings (SettingWithCopy)\n",
    "pd.options.mode.chained_assignment = None\n",
    "\n",
    "## Pandas Display Config\n",
    "pd.options.display.max_columns = None\n",
    "pd.options.display.width = None\n",
    "\n",
    "## Display SKLearn estimators as diagrams\n",
    "from sklearn import set_config\n",
    "set_config(display= 'diagram')"
   ]
  },
  {
   "cell_type": "code",
   "execution_count": 3,
   "id": "27cb3834",
   "metadata": {},
   "outputs": [],
   "source": [
    "# Scraping Requirents\n",
    "from bs4 import BeautifulSoup\n"
   ]
  },
  {
   "cell_type": "code",
   "execution_count": null,
   "id": "6889fcd0",
   "metadata": {},
   "outputs": [],
   "source": []
  },
  {
   "cell_type": "code",
   "execution_count": null,
   "id": "41a43ca3",
   "metadata": {},
   "outputs": [],
   "source": [
    "# Run Baseline Model with all available features in our dataset\n",
    "all_features = "
   ]
  },
  {
   "cell_type": "code",
   "execution_count": null,
   "id": "72c617ea",
   "metadata": {},
   "outputs": [],
   "source": [
    "# Logistic Regression \n",
    "\n",
    "# Parameters\n",
    "c = [0.1, 1, 10, 100]\n",
    "max_iter = [100, 1000]\n",
    "solver = ['liblinear']\n",
    "penalty = ['l1', 'l2']\n",
    "\n",
    "logreg_params = {\n",
    "    'logreg__C': c,\n",
    "    'logreg__max_iter': max_iter,\n",
    "    'logreg__solver': solver,\n",
    "    'logreg__penalty': penalty\n",
    "}\n",
    "\n",
    "# Model\n",
    "logreg_top_model_pipe = Pipeline(steps=[(\"logreg\", LogisticRegression(n_jobs=1))], verbose=False)\n",
    "logreg_top_model = GridSearchCV(estimator=logreg_top_model_pipe, param_grid=logreg_params, scoring='accuracy', cv=5, verbose=0)\n",
    "logreg_top_model.fit(X_train, y_train)\n",
    "\n",
    "# Displaying Data\n",
    "y_pred = logreg_top_model.predict(X_test)\n",
    "logreg_top_score = logreg_top_model.score(X_test, y_test)\n",
    "\n",
    "# Model Selection\n",
    "for i in range(0, 11):\n",
    "    print(f\"Model {i}. Current Top Score: {logreg_top_score}\")\n",
    "        \n",
    "    # Split X and y\n",
    "    X_train, X_test, y_train, y_test = train_test_split(X, y, test_size=0.20, shuffle=True)\n",
    "    \n",
    "    # Model Building\n",
    "    logreg_cur_pipe = Pipeline(steps=[(\"logreg\", LogisticRegression(n_jobs=1))], verbose=False)\n",
    "    logreg_cur_gs = GridSearchCV(estimator=logreg_cur_pipe, param_grid=logreg_params, scoring='accuracy', cv=5, verbose=0)\n",
    "    logreg_cur_gs.fit(X_train, y_train)\n",
    "    \n",
    "    # Comparing and Replacing Data\n",
    "    y_pred = logreg_cur_gs.predict(X_test)\n",
    "    logreg_cur_score = logreg_cur_gs.score(X_test, y_test)\n",
    "    \n",
    "    if logreg_cur_score > logreg_top_score:\n",
    "        logreg_top_model = logreg_cur_gs\n",
    "        logreg_top_score = logreg_cur_score"
   ]
  },
  {
   "cell_type": "code",
   "execution_count": null,
   "id": "fc768a32",
   "metadata": {},
   "outputs": [],
   "source": []
  },
  {
   "cell_type": "code",
   "execution_count": null,
   "id": "c55cf486",
   "metadata": {},
   "outputs": [],
   "source": []
  }
 ],
 "metadata": {
  "kernelspec": {
   "display_name": "wiz-env",
   "language": "python",
   "name": "wiz-env"
  },
  "language_info": {
   "codemirror_mode": {
    "name": "ipython",
    "version": 3
   },
   "file_extension": ".py",
   "mimetype": "text/x-python",
   "name": "python",
   "nbconvert_exporter": "python",
   "pygments_lexer": "ipython3",
   "version": "3.8.16"
  }
 },
 "nbformat": 4,
 "nbformat_minor": 5
}
