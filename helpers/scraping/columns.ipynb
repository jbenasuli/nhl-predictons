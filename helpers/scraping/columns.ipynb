{
 "cells": [
  {
   "cell_type": "code",
   "execution_count": null,
   "metadata": {},
   "outputs": [],
   "source": []
  },
  {
   "cell_type": "code",
   "execution_count": null,
   "metadata": {},
   "outputs": [],
   "source": []
  },
  {
   "cell_type": "code",
   "execution_count": null,
   "metadata": {},
   "outputs": [],
   "source": []
  },
  {
   "cell_type": "code",
   "execution_count": null,
   "metadata": {},
   "outputs": [],
   "source": [
    "home_goalie_stats.columns = ['season', 'game_id', 'date', 'team', 'goalie', 'toi', 'ca', 'fa', 'sa', 'ga', 'xga']\n",
    "away_goalie_stats.columns = ['season', 'game_id', 'date', 'team', 'goalie', 'toi', 'ca', 'fa', 'sa', 'ga', 'xga']"
   ]
  },
  {
   "cell_type": "code",
   "execution_count": null,
   "metadata": {},
   "outputs": [],
   "source": [
    "home_stats.columns = ['season', 'game_id', 'date', 'team','toi', 'cf', 'ca', 'ff', 'fa', 'sf', 'sa', 'gf', 'ga', 'xgf',\n",
    "                      'xga', 'pend', 'pent', 'hf', 'ha', 'blk', 'give', 'take','fow', 'fol', 'xgf_adj', 'xga_adj', \n",
    "                      'cf_adj', 'ca_adj', 'ff_adj', 'fa_adj']\n",
    "\n",
    "away_stats.columns = ['season', 'game_id', 'date', 'team', 'toi', 'cf', 'ca', 'ff', 'fa', 'sf', 'sa', 'gf', 'ga', 'xgf',\n",
    "                          'xga', 'pend', 'pent', 'hf', 'ha', 'blk', 'give', 'take','fow', 'fol', 'xgf_adj', 'xga_adj', \n",
    "                          'cf_adj', 'ca_adj','ff_adj', 'fa_adj']\n",
    "\n",
    "home_stats['toi'] = home_stats['toi'] / 60\n",
    "away_stats['toi'] = away_stats['toi'] / 60\n",
    "\n",
    "#need to add in toi here\n",
    "team_stats = pd.concat([home_stats, away_stats])\n",
    "\n",
    "return team_stats"
   ]
  },
  {
   "cell_type": "code",
   "execution_count": null,
   "metadata": {},
   "outputs": [],
   "source": []
  },
  {
   "cell_type": "code",
   "execution_count": null,
   "metadata": {},
   "outputs": [],
   "source": []
  }
 ],
 "metadata": {
  "language_info": {
   "name": "python"
  },
  "orig_nbformat": 4
 },
 "nbformat": 4,
 "nbformat_minor": 2
}
